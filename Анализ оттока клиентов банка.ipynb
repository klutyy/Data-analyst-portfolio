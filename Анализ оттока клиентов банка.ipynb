{
 "cells": [
  {
   "cell_type": "markdown",
   "metadata": {},
   "source": [
    "<div style=\"border:solid green 2px; padding: 20px\">\n",
    "\n",
    "<b>Привет, Валерий!</b>\n",
    "\n",
    "Меня зовут Алина Соловьева и я буду проверять твою работу. Попробую помочь сделать тебе её еще лучше! В Практикуме принято общение на ты, но если это дискомфортно, то сообщи об этом)\n",
    "\n",
    "Ниже ты найдешь мои комментарии - пожалуйста, не перемещай, не изменяй и не удаляй их. Я буду использовать цветовую разметку:\n",
    "\n",
    "<div class=\"alert alert-danger\">\n",
    "<b>Комментарий ревьюера:</b>☁️Так выделены самые важные замечания. Без их отработки проект не будет принят. </div>\n",
    "\n",
    "<div class=\"alert alert-warning\">\n",
    "<b>Комментарий ревьюера:</b>⛅️ Так выделены небольшие замечания.Такие замечания в проекте допустимы, это пространство для улучшений в будущем.\n",
    "</div>\n",
    "\n",
    "<div class=\"alert alert-success\">\n",
    "<b>Комментарий ревьюера:</b>☀️Так я выделяю успешные идеи.</div>\n",
    "\n",
    "Давай работать над проектом в диалоге: если ты что-то меняешь в проекте или отвечаешь на мои комментарии — пиши об этом. Мне будет легче отследить изменения, если ты выделишь свои комментарии:\n",
    "\n",
    "<div class=\"alert alert-info\"> <b>Комментарий студента:</b> Например, вот так.</div>    \n",
    "\n",
    "Всё это поможет выполнить повторную проверку твоего проекта оперативнее."
   ]
  },
  {
   "cell_type": "markdown",
   "metadata": {},
   "source": [
    "# Анализ оттока клиентов "
   ]
  },
  {
   "cell_type": "markdown",
   "metadata": {},
   "source": [
    "# Материалы\n",
    "Презентация https://disk.yandex.ru/i/WQQVOITIWXbjPA\n",
    "<br>\n",
    "Дашборд [https://public.tableau.com/app/profile/valerii.golubstov/viz/BankMetaprom_16837076894890/Dashboard1?publish=yes]"
   ]
  },
  {
   "cell_type": "markdown",
   "metadata": {},
   "source": [
    "<div class=\"alert alert-info\"> <b>Комментарий студента:</b> Добавил ссылку на дашборд</div> "
   ]
  },
  {
   "cell_type": "markdown",
   "metadata": {},
   "source": [
    "**Цель исследования:**\n",
    "Проанализировать клиентов регионального банка и выделите сегменты клиентов, которые склонны уходить из банка.\n",
    "<br>\n",
    "Данные я получу из файла `bank_scrooge.csv`\n",
    "- Проведу предобработку данных\n",
    "- Проведу исследовательский анализ \n",
    "- Проведу сегментацию на основе стратегических показателей \n",
    "- Проведу проверку статистических гипотез\n",
    "- Сформулирую промежуточный итог о том, какие показатели влияют на отток\n",
    "\n",
    "- Напишу вывод о проделанной работе\n",
    "<br>\n",
    "\n",
    "*Таким образом исследование пройдет в основных восемь этапов. Каждый из этапов имеет подпункты*:\n",
    "1. **Обзор данных** \n",
    "2. **Предобработка данных**\n",
    "    1. Проверка на пропуски\n",
    "    2. Проверка на явные\\неявные дубликаты\n",
    "    3. Проверка на выбросы (аномальные значения)\n",
    "    4. Кодирование данных\n",
    "    5. Категоризация\n",
    "3. **Исследовательский анализ** \n",
    "    1. Корреляционный анализ\n",
    "    2. Анализ распределения\n",
    "    3. Портреры отточных клиентов\n",
    "4. **Сегментация**\n",
    "    1. Формирование сегментов (Не малочисленные. От 800 человек в сегменте)\n",
    "    2. Анализ сегментов (уровень оттока в сегменте выше среднего уровня оттока по банку)\n",
    "    3. Рекомендации для сегментов\n",
    "5. **Проверка статистических гипотез**\n",
    "    1. Проверка первой гипотезы\n",
    "    2. Проверка второй гипотезы\n",
    "6. **Выводы**\n",
    "7. **Презентация**\n",
    "<br>\n",
    "План презентация будет основываться на итогах исследования\n",
    "8. **Дашборд**"
   ]
  },
  {
   "cell_type": "markdown",
   "metadata": {},
   "source": [
    "\n",
    "<div class=\"alert alert-success\">\n",
    "<b>Комментарий ревьюера:</b>☀️Молодец, что начинаешь с введения - это важная часть проекта.</div>\n"
   ]
  },
  {
   "cell_type": "markdown",
   "metadata": {},
   "source": [
    "## Обзор данных"
   ]
  },
  {
   "cell_type": "code",
   "execution_count": 1,
   "metadata": {},
   "outputs": [],
   "source": [
    "import pandas as pd\n",
    "import numpy as np\n",
    "import matplotlib.pyplot as plt\n",
    "from pandas.plotting import register_matplotlib_converters\n",
    "import warnings\n",
    "warnings.filterwarnings('ignore')\n",
    "import seaborn as sns\n",
    "from scipy import stats as st"
   ]
  },
  {
   "cell_type": "markdown",
   "metadata": {},
   "source": [
    "\n",
    "<div class=\"alert alert-danger\">\n",
    "<b>Комментарий ревьюера:</b>Старайся не допускать дублирования импортов библиотек.</div>\n"
   ]
  },
  {
   "cell_type": "markdown",
   "metadata": {},
   "source": [
    "<div class=\"alert alert-info\"> <b>Комментарий студента:</b> Прошу прощения за невнимательность. Также убрал библиотеки, которые в проекте не используются</div>    "
   ]
  },
  {
   "cell_type": "markdown",
   "metadata": {},
   "source": [
    "\n",
    "<div class=\"alert alert-success\">\n",
    "<b>Комментарий ревьюера v2.0:</b>☀️Спасибо!</div>\n"
   ]
  },
  {
   "cell_type": "code",
   "execution_count": 2,
   "metadata": {},
   "outputs": [],
   "source": [
    "# чтение файла bank_scrooge.csv с данными и сохранение его в переменную \n",
    "path = \"https://drive.google.com/uc?export=download&id=1-U61mhTz_N1ARjy2XSAZ7IlQqGjeqP0F\" \n",
    "df = pd.read_csv(path)"
   ]
  },
  {
   "cell_type": "code",
   "execution_count": 3,
   "metadata": {},
   "outputs": [
    {
     "name": "stdout",
     "output_type": "stream",
     "text": [
      "<class 'pandas.core.frame.DataFrame'>\n",
      "RangeIndex: 10000 entries, 0 to 9999\n",
      "Data columns (total 12 columns):\n",
      " #   Column         Non-Null Count  Dtype  \n",
      "---  ------         --------------  -----  \n",
      " 0   USERID         10000 non-null  int64  \n",
      " 1   score          10000 non-null  float64\n",
      " 2   city           10000 non-null  object \n",
      " 3   gender         10000 non-null  object \n",
      " 4   age            9974 non-null   float64\n",
      " 5   equity         10000 non-null  int64  \n",
      " 6   balance        7705 non-null   float64\n",
      " 7   products       10000 non-null  int64  \n",
      " 8   credit_card    10000 non-null  int64  \n",
      " 9   last_activity  10000 non-null  int64  \n",
      " 10  EST_SALARY     10000 non-null  float64\n",
      " 11  churn          10000 non-null  int64  \n",
      "dtypes: float64(4), int64(6), object(2)\n",
      "memory usage: 937.6+ KB\n"
     ]
    },
    {
     "data": {
      "text/html": [
       "<div>\n",
       "<style scoped>\n",
       "    .dataframe tbody tr th:only-of-type {\n",
       "        vertical-align: middle;\n",
       "    }\n",
       "\n",
       "    .dataframe tbody tr th {\n",
       "        vertical-align: top;\n",
       "    }\n",
       "\n",
       "    .dataframe thead th {\n",
       "        text-align: right;\n",
       "    }\n",
       "</style>\n",
       "<table border=\"1\" class=\"dataframe\">\n",
       "  <thead>\n",
       "    <tr style=\"text-align: right;\">\n",
       "      <th></th>\n",
       "      <th>USERID</th>\n",
       "      <th>score</th>\n",
       "      <th>city</th>\n",
       "      <th>gender</th>\n",
       "      <th>age</th>\n",
       "      <th>equity</th>\n",
       "      <th>balance</th>\n",
       "      <th>products</th>\n",
       "      <th>credit_card</th>\n",
       "      <th>last_activity</th>\n",
       "      <th>EST_SALARY</th>\n",
       "      <th>churn</th>\n",
       "    </tr>\n",
       "  </thead>\n",
       "  <tbody>\n",
       "    <tr>\n",
       "      <th>0</th>\n",
       "      <td>183012</td>\n",
       "      <td>850.0</td>\n",
       "      <td>Рыбинск</td>\n",
       "      <td>Ж</td>\n",
       "      <td>25.0</td>\n",
       "      <td>1</td>\n",
       "      <td>59214.82</td>\n",
       "      <td>2</td>\n",
       "      <td>0</td>\n",
       "      <td>1</td>\n",
       "      <td>75719.14</td>\n",
       "      <td>1</td>\n",
       "    </tr>\n",
       "    <tr>\n",
       "      <th>1</th>\n",
       "      <td>146556</td>\n",
       "      <td>861.0</td>\n",
       "      <td>Рыбинск</td>\n",
       "      <td>Ж</td>\n",
       "      <td>37.0</td>\n",
       "      <td>5</td>\n",
       "      <td>850594.33</td>\n",
       "      <td>3</td>\n",
       "      <td>1</td>\n",
       "      <td>0</td>\n",
       "      <td>86621.77</td>\n",
       "      <td>0</td>\n",
       "    </tr>\n",
       "    <tr>\n",
       "      <th>2</th>\n",
       "      <td>120722</td>\n",
       "      <td>892.0</td>\n",
       "      <td>Рыбинск</td>\n",
       "      <td>Ж</td>\n",
       "      <td>30.0</td>\n",
       "      <td>0</td>\n",
       "      <td>NaN</td>\n",
       "      <td>1</td>\n",
       "      <td>1</td>\n",
       "      <td>1</td>\n",
       "      <td>107683.34</td>\n",
       "      <td>0</td>\n",
       "    </tr>\n",
       "    <tr>\n",
       "      <th>3</th>\n",
       "      <td>225363</td>\n",
       "      <td>866.0</td>\n",
       "      <td>Ярославль</td>\n",
       "      <td>Ж</td>\n",
       "      <td>51.0</td>\n",
       "      <td>5</td>\n",
       "      <td>1524746.26</td>\n",
       "      <td>2</td>\n",
       "      <td>0</td>\n",
       "      <td>1</td>\n",
       "      <td>174423.53</td>\n",
       "      <td>1</td>\n",
       "    </tr>\n",
       "    <tr>\n",
       "      <th>4</th>\n",
       "      <td>157978</td>\n",
       "      <td>730.0</td>\n",
       "      <td>Ярославль</td>\n",
       "      <td>М</td>\n",
       "      <td>34.0</td>\n",
       "      <td>5</td>\n",
       "      <td>174.00</td>\n",
       "      <td>1</td>\n",
       "      <td>1</td>\n",
       "      <td>0</td>\n",
       "      <td>67353.16</td>\n",
       "      <td>1</td>\n",
       "    </tr>\n",
       "    <tr>\n",
       "      <th>...</th>\n",
       "      <td>...</td>\n",
       "      <td>...</td>\n",
       "      <td>...</td>\n",
       "      <td>...</td>\n",
       "      <td>...</td>\n",
       "      <td>...</td>\n",
       "      <td>...</td>\n",
       "      <td>...</td>\n",
       "      <td>...</td>\n",
       "      <td>...</td>\n",
       "      <td>...</td>\n",
       "      <td>...</td>\n",
       "    </tr>\n",
       "    <tr>\n",
       "      <th>9995</th>\n",
       "      <td>120553</td>\n",
       "      <td>814.0</td>\n",
       "      <td>Рыбинск</td>\n",
       "      <td>М</td>\n",
       "      <td>27.0</td>\n",
       "      <td>1</td>\n",
       "      <td>78144.65</td>\n",
       "      <td>1</td>\n",
       "      <td>0</td>\n",
       "      <td>1</td>\n",
       "      <td>18943.64</td>\n",
       "      <td>0</td>\n",
       "    </tr>\n",
       "    <tr>\n",
       "      <th>9996</th>\n",
       "      <td>139170</td>\n",
       "      <td>894.0</td>\n",
       "      <td>Ярославль</td>\n",
       "      <td>М</td>\n",
       "      <td>46.0</td>\n",
       "      <td>0</td>\n",
       "      <td>NaN</td>\n",
       "      <td>1</td>\n",
       "      <td>1</td>\n",
       "      <td>0</td>\n",
       "      <td>196898.29</td>\n",
       "      <td>0</td>\n",
       "    </tr>\n",
       "    <tr>\n",
       "      <th>9997</th>\n",
       "      <td>115639</td>\n",
       "      <td>903.0</td>\n",
       "      <td>Ярославль</td>\n",
       "      <td>М</td>\n",
       "      <td>24.0</td>\n",
       "      <td>0</td>\n",
       "      <td>NaN</td>\n",
       "      <td>2</td>\n",
       "      <td>1</td>\n",
       "      <td>1</td>\n",
       "      <td>108905.09</td>\n",
       "      <td>0</td>\n",
       "    </tr>\n",
       "    <tr>\n",
       "      <th>9998</th>\n",
       "      <td>148700</td>\n",
       "      <td>777.0</td>\n",
       "      <td>Ярославль</td>\n",
       "      <td>Ж</td>\n",
       "      <td>68.0</td>\n",
       "      <td>3</td>\n",
       "      <td>865457.97</td>\n",
       "      <td>3</td>\n",
       "      <td>0</td>\n",
       "      <td>1</td>\n",
       "      <td>86874.90</td>\n",
       "      <td>0</td>\n",
       "    </tr>\n",
       "    <tr>\n",
       "      <th>9999</th>\n",
       "      <td>96267</td>\n",
       "      <td>828.0</td>\n",
       "      <td>Рыбинск</td>\n",
       "      <td>Ж</td>\n",
       "      <td>58.0</td>\n",
       "      <td>3</td>\n",
       "      <td>1180886.70</td>\n",
       "      <td>4</td>\n",
       "      <td>0</td>\n",
       "      <td>1</td>\n",
       "      <td>21422.37</td>\n",
       "      <td>0</td>\n",
       "    </tr>\n",
       "  </tbody>\n",
       "</table>\n",
       "<p>10000 rows × 12 columns</p>\n",
       "</div>"
      ],
      "text/plain": [
       "      USERID  score       city gender   age  equity     balance  products  \\\n",
       "0     183012  850.0    Рыбинск      Ж  25.0       1    59214.82         2   \n",
       "1     146556  861.0    Рыбинск      Ж  37.0       5   850594.33         3   \n",
       "2     120722  892.0    Рыбинск      Ж  30.0       0         NaN         1   \n",
       "3     225363  866.0  Ярославль      Ж  51.0       5  1524746.26         2   \n",
       "4     157978  730.0  Ярославль      М  34.0       5      174.00         1   \n",
       "...      ...    ...        ...    ...   ...     ...         ...       ...   \n",
       "9995  120553  814.0    Рыбинск      М  27.0       1    78144.65         1   \n",
       "9996  139170  894.0  Ярославль      М  46.0       0         NaN         1   \n",
       "9997  115639  903.0  Ярославль      М  24.0       0         NaN         2   \n",
       "9998  148700  777.0  Ярославль      Ж  68.0       3   865457.97         3   \n",
       "9999   96267  828.0    Рыбинск      Ж  58.0       3  1180886.70         4   \n",
       "\n",
       "      credit_card  last_activity  EST_SALARY  churn  \n",
       "0               0              1    75719.14      1  \n",
       "1               1              0    86621.77      0  \n",
       "2               1              1   107683.34      0  \n",
       "3               0              1   174423.53      1  \n",
       "4               1              0    67353.16      1  \n",
       "...           ...            ...         ...    ...  \n",
       "9995            0              1    18943.64      0  \n",
       "9996            1              0   196898.29      0  \n",
       "9997            1              1   108905.09      0  \n",
       "9998            0              1    86874.90      0  \n",
       "9999            0              1    21422.37      0  \n",
       "\n",
       "[10000 rows x 12 columns]"
      ]
     },
     "execution_count": 3,
     "metadata": {},
     "output_type": "execute_result"
    }
   ],
   "source": [
    "df.info()\n",
    "df"
   ]
  },
  {
   "cell_type": "markdown",
   "metadata": {},
   "source": [
    "**Промежуточный вывод**\n",
    "<br>\n",
    "- У столбцов `score` и `age` неверный тип данных \n",
    "- Сразу видны пропуски в `balance` "
   ]
  },
  {
   "cell_type": "markdown",
   "metadata": {},
   "source": [
    "## Предобработка данных"
   ]
  },
  {
   "cell_type": "markdown",
   "metadata": {},
   "source": [
    "**Приведем названия всех столбцов к нижнему регистру и snake_case** "
   ]
  },
  {
   "cell_type": "code",
   "execution_count": 4,
   "metadata": {},
   "outputs": [
    {
     "data": {
      "text/html": [
       "<div>\n",
       "<style scoped>\n",
       "    .dataframe tbody tr th:only-of-type {\n",
       "        vertical-align: middle;\n",
       "    }\n",
       "\n",
       "    .dataframe tbody tr th {\n",
       "        vertical-align: top;\n",
       "    }\n",
       "\n",
       "    .dataframe thead th {\n",
       "        text-align: right;\n",
       "    }\n",
       "</style>\n",
       "<table border=\"1\" class=\"dataframe\">\n",
       "  <thead>\n",
       "    <tr style=\"text-align: right;\">\n",
       "      <th></th>\n",
       "      <th>userid</th>\n",
       "      <th>score</th>\n",
       "      <th>city</th>\n",
       "      <th>gender</th>\n",
       "      <th>age</th>\n",
       "      <th>equity</th>\n",
       "      <th>balance</th>\n",
       "      <th>products</th>\n",
       "      <th>credit_card</th>\n",
       "      <th>last_activity</th>\n",
       "      <th>est_salary</th>\n",
       "      <th>churn</th>\n",
       "    </tr>\n",
       "  </thead>\n",
       "  <tbody>\n",
       "    <tr>\n",
       "      <th>0</th>\n",
       "      <td>183012</td>\n",
       "      <td>850.0</td>\n",
       "      <td>Рыбинск</td>\n",
       "      <td>Ж</td>\n",
       "      <td>25.0</td>\n",
       "      <td>1</td>\n",
       "      <td>59214.82</td>\n",
       "      <td>2</td>\n",
       "      <td>0</td>\n",
       "      <td>1</td>\n",
       "      <td>75719.14</td>\n",
       "      <td>1</td>\n",
       "    </tr>\n",
       "    <tr>\n",
       "      <th>1</th>\n",
       "      <td>146556</td>\n",
       "      <td>861.0</td>\n",
       "      <td>Рыбинск</td>\n",
       "      <td>Ж</td>\n",
       "      <td>37.0</td>\n",
       "      <td>5</td>\n",
       "      <td>850594.33</td>\n",
       "      <td>3</td>\n",
       "      <td>1</td>\n",
       "      <td>0</td>\n",
       "      <td>86621.77</td>\n",
       "      <td>0</td>\n",
       "    </tr>\n",
       "    <tr>\n",
       "      <th>2</th>\n",
       "      <td>120722</td>\n",
       "      <td>892.0</td>\n",
       "      <td>Рыбинск</td>\n",
       "      <td>Ж</td>\n",
       "      <td>30.0</td>\n",
       "      <td>0</td>\n",
       "      <td>NaN</td>\n",
       "      <td>1</td>\n",
       "      <td>1</td>\n",
       "      <td>1</td>\n",
       "      <td>107683.34</td>\n",
       "      <td>0</td>\n",
       "    </tr>\n",
       "    <tr>\n",
       "      <th>3</th>\n",
       "      <td>225363</td>\n",
       "      <td>866.0</td>\n",
       "      <td>Ярославль</td>\n",
       "      <td>Ж</td>\n",
       "      <td>51.0</td>\n",
       "      <td>5</td>\n",
       "      <td>1524746.26</td>\n",
       "      <td>2</td>\n",
       "      <td>0</td>\n",
       "      <td>1</td>\n",
       "      <td>174423.53</td>\n",
       "      <td>1</td>\n",
       "    </tr>\n",
       "    <tr>\n",
       "      <th>4</th>\n",
       "      <td>157978</td>\n",
       "      <td>730.0</td>\n",
       "      <td>Ярославль</td>\n",
       "      <td>М</td>\n",
       "      <td>34.0</td>\n",
       "      <td>5</td>\n",
       "      <td>174.00</td>\n",
       "      <td>1</td>\n",
       "      <td>1</td>\n",
       "      <td>0</td>\n",
       "      <td>67353.16</td>\n",
       "      <td>1</td>\n",
       "    </tr>\n",
       "    <tr>\n",
       "      <th>...</th>\n",
       "      <td>...</td>\n",
       "      <td>...</td>\n",
       "      <td>...</td>\n",
       "      <td>...</td>\n",
       "      <td>...</td>\n",
       "      <td>...</td>\n",
       "      <td>...</td>\n",
       "      <td>...</td>\n",
       "      <td>...</td>\n",
       "      <td>...</td>\n",
       "      <td>...</td>\n",
       "      <td>...</td>\n",
       "    </tr>\n",
       "    <tr>\n",
       "      <th>9995</th>\n",
       "      <td>120553</td>\n",
       "      <td>814.0</td>\n",
       "      <td>Рыбинск</td>\n",
       "      <td>М</td>\n",
       "      <td>27.0</td>\n",
       "      <td>1</td>\n",
       "      <td>78144.65</td>\n",
       "      <td>1</td>\n",
       "      <td>0</td>\n",
       "      <td>1</td>\n",
       "      <td>18943.64</td>\n",
       "      <td>0</td>\n",
       "    </tr>\n",
       "    <tr>\n",
       "      <th>9996</th>\n",
       "      <td>139170</td>\n",
       "      <td>894.0</td>\n",
       "      <td>Ярославль</td>\n",
       "      <td>М</td>\n",
       "      <td>46.0</td>\n",
       "      <td>0</td>\n",
       "      <td>NaN</td>\n",
       "      <td>1</td>\n",
       "      <td>1</td>\n",
       "      <td>0</td>\n",
       "      <td>196898.29</td>\n",
       "      <td>0</td>\n",
       "    </tr>\n",
       "    <tr>\n",
       "      <th>9997</th>\n",
       "      <td>115639</td>\n",
       "      <td>903.0</td>\n",
       "      <td>Ярославль</td>\n",
       "      <td>М</td>\n",
       "      <td>24.0</td>\n",
       "      <td>0</td>\n",
       "      <td>NaN</td>\n",
       "      <td>2</td>\n",
       "      <td>1</td>\n",
       "      <td>1</td>\n",
       "      <td>108905.09</td>\n",
       "      <td>0</td>\n",
       "    </tr>\n",
       "    <tr>\n",
       "      <th>9998</th>\n",
       "      <td>148700</td>\n",
       "      <td>777.0</td>\n",
       "      <td>Ярославль</td>\n",
       "      <td>Ж</td>\n",
       "      <td>68.0</td>\n",
       "      <td>3</td>\n",
       "      <td>865457.97</td>\n",
       "      <td>3</td>\n",
       "      <td>0</td>\n",
       "      <td>1</td>\n",
       "      <td>86874.90</td>\n",
       "      <td>0</td>\n",
       "    </tr>\n",
       "    <tr>\n",
       "      <th>9999</th>\n",
       "      <td>96267</td>\n",
       "      <td>828.0</td>\n",
       "      <td>Рыбинск</td>\n",
       "      <td>Ж</td>\n",
       "      <td>58.0</td>\n",
       "      <td>3</td>\n",
       "      <td>1180886.70</td>\n",
       "      <td>4</td>\n",
       "      <td>0</td>\n",
       "      <td>1</td>\n",
       "      <td>21422.37</td>\n",
       "      <td>0</td>\n",
       "    </tr>\n",
       "  </tbody>\n",
       "</table>\n",
       "<p>10000 rows × 12 columns</p>\n",
       "</div>"
      ],
      "text/plain": [
       "      userid  score       city gender   age  equity     balance  products  \\\n",
       "0     183012  850.0    Рыбинск      Ж  25.0       1    59214.82         2   \n",
       "1     146556  861.0    Рыбинск      Ж  37.0       5   850594.33         3   \n",
       "2     120722  892.0    Рыбинск      Ж  30.0       0         NaN         1   \n",
       "3     225363  866.0  Ярославль      Ж  51.0       5  1524746.26         2   \n",
       "4     157978  730.0  Ярославль      М  34.0       5      174.00         1   \n",
       "...      ...    ...        ...    ...   ...     ...         ...       ...   \n",
       "9995  120553  814.0    Рыбинск      М  27.0       1    78144.65         1   \n",
       "9996  139170  894.0  Ярославль      М  46.0       0         NaN         1   \n",
       "9997  115639  903.0  Ярославль      М  24.0       0         NaN         2   \n",
       "9998  148700  777.0  Ярославль      Ж  68.0       3   865457.97         3   \n",
       "9999   96267  828.0    Рыбинск      Ж  58.0       3  1180886.70         4   \n",
       "\n",
       "      credit_card  last_activity  est_salary  churn  \n",
       "0               0              1    75719.14      1  \n",
       "1               1              0    86621.77      0  \n",
       "2               1              1   107683.34      0  \n",
       "3               0              1   174423.53      1  \n",
       "4               1              0    67353.16      1  \n",
       "...           ...            ...         ...    ...  \n",
       "9995            0              1    18943.64      0  \n",
       "9996            1              0   196898.29      0  \n",
       "9997            1              1   108905.09      0  \n",
       "9998            0              1    86874.90      0  \n",
       "9999            0              1    21422.37      0  \n",
       "\n",
       "[10000 rows x 12 columns]"
      ]
     },
     "execution_count": 4,
     "metadata": {},
     "output_type": "execute_result"
    }
   ],
   "source": [
    "df.columns = df.columns.str.lower()\n",
    "df"
   ]
  },
  {
   "cell_type": "markdown",
   "metadata": {},
   "source": [
    "**Столбец `products`**\n",
    "<br>\n",
    "Данный столбец показывает количество продуктов банка у клиента. Если количество продуктов равно 0, то соотвественно данный пользователь не является клиентом банка"
   ]
  },
  {
   "cell_type": "code",
   "execution_count": 5,
   "metadata": {},
   "outputs": [
    {
     "data": {
      "text/html": [
       "<div>\n",
       "<style scoped>\n",
       "    .dataframe tbody tr th:only-of-type {\n",
       "        vertical-align: middle;\n",
       "    }\n",
       "\n",
       "    .dataframe tbody tr th {\n",
       "        vertical-align: top;\n",
       "    }\n",
       "\n",
       "    .dataframe thead th {\n",
       "        text-align: right;\n",
       "    }\n",
       "</style>\n",
       "<table border=\"1\" class=\"dataframe\">\n",
       "  <thead>\n",
       "    <tr style=\"text-align: right;\">\n",
       "      <th></th>\n",
       "      <th>userid</th>\n",
       "      <th>score</th>\n",
       "      <th>city</th>\n",
       "      <th>gender</th>\n",
       "      <th>age</th>\n",
       "      <th>equity</th>\n",
       "      <th>balance</th>\n",
       "      <th>products</th>\n",
       "      <th>credit_card</th>\n",
       "      <th>last_activity</th>\n",
       "      <th>est_salary</th>\n",
       "      <th>churn</th>\n",
       "    </tr>\n",
       "  </thead>\n",
       "  <tbody>\n",
       "    <tr>\n",
       "      <th>8957</th>\n",
       "      <td>147837</td>\n",
       "      <td>962.0</td>\n",
       "      <td>Рыбинск</td>\n",
       "      <td>Ж</td>\n",
       "      <td>79.0</td>\n",
       "      <td>3</td>\n",
       "      <td>NaN</td>\n",
       "      <td>0</td>\n",
       "      <td>0</td>\n",
       "      <td>0</td>\n",
       "      <td>25063.96</td>\n",
       "      <td>1</td>\n",
       "    </tr>\n",
       "  </tbody>\n",
       "</table>\n",
       "</div>"
      ],
      "text/plain": [
       "      userid  score     city gender   age  equity  balance  products  \\\n",
       "8957  147837  962.0  Рыбинск      Ж  79.0       3      NaN         0   \n",
       "\n",
       "      credit_card  last_activity  est_salary  churn  \n",
       "8957            0              0    25063.96      1  "
      ]
     },
     "execution_count": 5,
     "metadata": {},
     "output_type": "execute_result"
    }
   ],
   "source": [
    "df[df['products'] == 0]"
   ]
  },
  {
   "cell_type": "markdown",
   "metadata": {},
   "source": [
    "Всего один клиент у которого нет продуктов банка. Удалим данную ошибку"
   ]
  },
  {
   "cell_type": "code",
   "execution_count": 6,
   "metadata": {},
   "outputs": [],
   "source": [
    "df = df[df['products'] != 0] "
   ]
  },
  {
   "cell_type": "markdown",
   "metadata": {},
   "source": [
    "### Проверка на пропуски"
   ]
  },
  {
   "cell_type": "code",
   "execution_count": 7,
   "metadata": {},
   "outputs": [
    {
     "data": {
      "text/html": [
       "<style  type=\"text/css\" >\n",
       "#T_e1331_row0_col0,#T_e1331_row1_col0,#T_e1331_row2_col0,#T_e1331_row3_col0,#T_e1331_row4_col0,#T_e1331_row5_col0,#T_e1331_row7_col0,#T_e1331_row8_col0,#T_e1331_row9_col0,#T_e1331_row10_col0,#T_e1331_row11_col0{\n",
       "            background-color:  #3b4cc0;\n",
       "            color:  #f1f1f1;\n",
       "        }#T_e1331_row6_col0{\n",
       "            background-color:  #b40426;\n",
       "            color:  #f1f1f1;\n",
       "        }</style><table id=\"T_e1331_\" ><thead>    <tr>        <th class=\"blank level0\" ></th>        <th class=\"col_heading level0 col0\" >0</th>    </tr></thead><tbody>\n",
       "                <tr>\n",
       "                        <th id=\"T_e1331_level0_row0\" class=\"row_heading level0 row0\" >userid</th>\n",
       "                        <td id=\"T_e1331_row0_col0\" class=\"data row0 col0\" >0.000000</td>\n",
       "            </tr>\n",
       "            <tr>\n",
       "                        <th id=\"T_e1331_level0_row1\" class=\"row_heading level0 row1\" >score</th>\n",
       "                        <td id=\"T_e1331_row1_col0\" class=\"data row1 col0\" >0.000000</td>\n",
       "            </tr>\n",
       "            <tr>\n",
       "                        <th id=\"T_e1331_level0_row2\" class=\"row_heading level0 row2\" >city</th>\n",
       "                        <td id=\"T_e1331_row2_col0\" class=\"data row2 col0\" >0.000000</td>\n",
       "            </tr>\n",
       "            <tr>\n",
       "                        <th id=\"T_e1331_level0_row3\" class=\"row_heading level0 row3\" >gender</th>\n",
       "                        <td id=\"T_e1331_row3_col0\" class=\"data row3 col0\" >0.000000</td>\n",
       "            </tr>\n",
       "            <tr>\n",
       "                        <th id=\"T_e1331_level0_row4\" class=\"row_heading level0 row4\" >age</th>\n",
       "                        <td id=\"T_e1331_row4_col0\" class=\"data row4 col0\" >0.000000</td>\n",
       "            </tr>\n",
       "            <tr>\n",
       "                        <th id=\"T_e1331_level0_row5\" class=\"row_heading level0 row5\" >equity</th>\n",
       "                        <td id=\"T_e1331_row5_col0\" class=\"data row5 col0\" >0.000000</td>\n",
       "            </tr>\n",
       "            <tr>\n",
       "                        <th id=\"T_e1331_level0_row6\" class=\"row_heading level0 row6\" >balance</th>\n",
       "                        <td id=\"T_e1331_row6_col0\" class=\"data row6 col0\" >23.000000</td>\n",
       "            </tr>\n",
       "            <tr>\n",
       "                        <th id=\"T_e1331_level0_row7\" class=\"row_heading level0 row7\" >products</th>\n",
       "                        <td id=\"T_e1331_row7_col0\" class=\"data row7 col0\" >0.000000</td>\n",
       "            </tr>\n",
       "            <tr>\n",
       "                        <th id=\"T_e1331_level0_row8\" class=\"row_heading level0 row8\" >credit_card</th>\n",
       "                        <td id=\"T_e1331_row8_col0\" class=\"data row8 col0\" >0.000000</td>\n",
       "            </tr>\n",
       "            <tr>\n",
       "                        <th id=\"T_e1331_level0_row9\" class=\"row_heading level0 row9\" >last_activity</th>\n",
       "                        <td id=\"T_e1331_row9_col0\" class=\"data row9 col0\" >0.000000</td>\n",
       "            </tr>\n",
       "            <tr>\n",
       "                        <th id=\"T_e1331_level0_row10\" class=\"row_heading level0 row10\" >est_salary</th>\n",
       "                        <td id=\"T_e1331_row10_col0\" class=\"data row10 col0\" >0.000000</td>\n",
       "            </tr>\n",
       "            <tr>\n",
       "                        <th id=\"T_e1331_level0_row11\" class=\"row_heading level0 row11\" >churn</th>\n",
       "                        <td id=\"T_e1331_row11_col0\" class=\"data row11 col0\" >0.000000</td>\n",
       "            </tr>\n",
       "    </tbody></table>"
      ],
      "text/plain": [
       "<pandas.io.formats.style.Styler at 0x7f71a384c340>"
      ]
     },
     "execution_count": 7,
     "metadata": {},
     "output_type": "execute_result"
    }
   ],
   "source": [
    "pd.DataFrame(round(df.isna().mean()*100,)).style.background_gradient('coolwarm')"
   ]
  },
  {
   "cell_type": "code",
   "execution_count": 8,
   "metadata": {},
   "outputs": [
    {
     "data": {
      "text/plain": [
       "userid              0\n",
       "score               0\n",
       "city                0\n",
       "gender              0\n",
       "age                26\n",
       "equity              0\n",
       "balance          2294\n",
       "products            0\n",
       "credit_card         0\n",
       "last_activity       0\n",
       "est_salary          0\n",
       "churn               0\n",
       "dtype: int64"
      ]
     },
     "execution_count": 8,
     "metadata": {},
     "output_type": "execute_result"
    }
   ],
   "source": [
    "df.isna().sum()"
   ]
  },
  {
   "cell_type": "markdown",
   "metadata": {},
   "source": [
    "Присутствуют пропуски в столбце `balance`, которые были видно еще при обзоре данных и небольшое количество пропусков в столбце `age`, которые можно удалить поскольку они составляют менее 5%. Пропуски в столбце `balance` нельзя так просто удалять"
   ]
  },
  {
   "cell_type": "markdown",
   "metadata": {},
   "source": [
    "\n",
    "<div class=\"alert alert-success\">\n",
    "<b>Комментарий ревьюера:</b>☀️Согласна :)</div>\n"
   ]
  },
  {
   "cell_type": "markdown",
   "metadata": {},
   "source": [
    "**Столбец `age`**"
   ]
  },
  {
   "cell_type": "code",
   "execution_count": 9,
   "metadata": {},
   "outputs": [],
   "source": [
    "df = df.dropna(subset=['age'])"
   ]
  },
  {
   "cell_type": "markdown",
   "metadata": {},
   "source": [
    "**Столбец `balance`**"
   ]
  },
  {
   "cell_type": "markdown",
   "metadata": {},
   "source": [
    "Возможно, что пропуски показывают нулевой баланс. Нужно проверить если в столбце `balance` пользователи с нулевым балансом"
   ]
  },
  {
   "cell_type": "code",
   "execution_count": 10,
   "metadata": {},
   "outputs": [
    {
     "data": {
      "text/html": [
       "<div>\n",
       "<style scoped>\n",
       "    .dataframe tbody tr th:only-of-type {\n",
       "        vertical-align: middle;\n",
       "    }\n",
       "\n",
       "    .dataframe tbody tr th {\n",
       "        vertical-align: top;\n",
       "    }\n",
       "\n",
       "    .dataframe thead th {\n",
       "        text-align: right;\n",
       "    }\n",
       "</style>\n",
       "<table border=\"1\" class=\"dataframe\">\n",
       "  <thead>\n",
       "    <tr style=\"text-align: right;\">\n",
       "      <th></th>\n",
       "      <th>userid</th>\n",
       "      <th>score</th>\n",
       "      <th>city</th>\n",
       "      <th>gender</th>\n",
       "      <th>age</th>\n",
       "      <th>equity</th>\n",
       "      <th>balance</th>\n",
       "      <th>products</th>\n",
       "      <th>credit_card</th>\n",
       "      <th>last_activity</th>\n",
       "      <th>est_salary</th>\n",
       "      <th>churn</th>\n",
       "    </tr>\n",
       "  </thead>\n",
       "  <tbody>\n",
       "    <tr>\n",
       "      <th>3900</th>\n",
       "      <td>179831</td>\n",
       "      <td>730.0</td>\n",
       "      <td>Ярославль</td>\n",
       "      <td>М</td>\n",
       "      <td>18.0</td>\n",
       "      <td>0</td>\n",
       "      <td>0.0</td>\n",
       "      <td>2</td>\n",
       "      <td>1</td>\n",
       "      <td>1</td>\n",
       "      <td>64548.33</td>\n",
       "      <td>0</td>\n",
       "    </tr>\n",
       "    <tr>\n",
       "      <th>6757</th>\n",
       "      <td>148456</td>\n",
       "      <td>813.0</td>\n",
       "      <td>Ярославль</td>\n",
       "      <td>М</td>\n",
       "      <td>20.0</td>\n",
       "      <td>2</td>\n",
       "      <td>0.0</td>\n",
       "      <td>2</td>\n",
       "      <td>1</td>\n",
       "      <td>0</td>\n",
       "      <td>23876.51</td>\n",
       "      <td>0</td>\n",
       "    </tr>\n",
       "  </tbody>\n",
       "</table>\n",
       "</div>"
      ],
      "text/plain": [
       "      userid  score       city gender   age  equity  balance  products  \\\n",
       "3900  179831  730.0  Ярославль      М  18.0       0      0.0         2   \n",
       "6757  148456  813.0  Ярославль      М  20.0       2      0.0         2   \n",
       "\n",
       "      credit_card  last_activity  est_salary  churn  \n",
       "3900            1              1    64548.33      0  \n",
       "6757            1              0    23876.51      0  "
      ]
     },
     "execution_count": 10,
     "metadata": {},
     "output_type": "execute_result"
    }
   ],
   "source": [
    "df[df['balance'] == 0]"
   ]
  },
  {
   "cell_type": "markdown",
   "metadata": {},
   "source": [
    "Пользователи с нулевым балансом присутствуют, поэтому нельзя заменять пропуски нулями. Медианными значениями заполнять тоже не стоит, потому это повлияет на дальнейшее исследование."
   ]
  },
  {
   "cell_type": "code",
   "execution_count": 11,
   "metadata": {},
   "outputs": [
    {
     "data": {
      "text/html": [
       "<div>\n",
       "<style scoped>\n",
       "    .dataframe tbody tr th:only-of-type {\n",
       "        vertical-align: middle;\n",
       "    }\n",
       "\n",
       "    .dataframe tbody tr th {\n",
       "        vertical-align: top;\n",
       "    }\n",
       "\n",
       "    .dataframe thead th {\n",
       "        text-align: right;\n",
       "    }\n",
       "</style>\n",
       "<table border=\"1\" class=\"dataframe\">\n",
       "  <thead>\n",
       "    <tr style=\"text-align: right;\">\n",
       "      <th></th>\n",
       "      <th>userid</th>\n",
       "      <th>score</th>\n",
       "      <th>city</th>\n",
       "      <th>gender</th>\n",
       "      <th>age</th>\n",
       "      <th>equity</th>\n",
       "      <th>balance</th>\n",
       "      <th>products</th>\n",
       "      <th>credit_card</th>\n",
       "      <th>last_activity</th>\n",
       "      <th>est_salary</th>\n",
       "      <th>churn</th>\n",
       "    </tr>\n",
       "  </thead>\n",
       "  <tbody>\n",
       "    <tr>\n",
       "      <th>2</th>\n",
       "      <td>120722</td>\n",
       "      <td>892.0</td>\n",
       "      <td>Рыбинск</td>\n",
       "      <td>Ж</td>\n",
       "      <td>30.0</td>\n",
       "      <td>0</td>\n",
       "      <td>NaN</td>\n",
       "      <td>1</td>\n",
       "      <td>1</td>\n",
       "      <td>1</td>\n",
       "      <td>107683.34</td>\n",
       "      <td>0</td>\n",
       "    </tr>\n",
       "    <tr>\n",
       "      <th>9</th>\n",
       "      <td>133130</td>\n",
       "      <td>906.0</td>\n",
       "      <td>Ярославль</td>\n",
       "      <td>Ж</td>\n",
       "      <td>67.0</td>\n",
       "      <td>0</td>\n",
       "      <td>NaN</td>\n",
       "      <td>1</td>\n",
       "      <td>0</td>\n",
       "      <td>1</td>\n",
       "      <td>238055.53</td>\n",
       "      <td>0</td>\n",
       "    </tr>\n",
       "    <tr>\n",
       "      <th>10</th>\n",
       "      <td>148929</td>\n",
       "      <td>927.0</td>\n",
       "      <td>Ростов</td>\n",
       "      <td>М</td>\n",
       "      <td>52.0</td>\n",
       "      <td>0</td>\n",
       "      <td>NaN</td>\n",
       "      <td>1</td>\n",
       "      <td>1</td>\n",
       "      <td>1</td>\n",
       "      <td>196820.07</td>\n",
       "      <td>0</td>\n",
       "    </tr>\n",
       "    <tr>\n",
       "      <th>11</th>\n",
       "      <td>172184</td>\n",
       "      <td>921.0</td>\n",
       "      <td>Ростов</td>\n",
       "      <td>М</td>\n",
       "      <td>41.0</td>\n",
       "      <td>0</td>\n",
       "      <td>NaN</td>\n",
       "      <td>1</td>\n",
       "      <td>1</td>\n",
       "      <td>1</td>\n",
       "      <td>217469.48</td>\n",
       "      <td>0</td>\n",
       "    </tr>\n",
       "    <tr>\n",
       "      <th>19</th>\n",
       "      <td>127034</td>\n",
       "      <td>922.0</td>\n",
       "      <td>Рыбинск</td>\n",
       "      <td>Ж</td>\n",
       "      <td>53.0</td>\n",
       "      <td>0</td>\n",
       "      <td>NaN</td>\n",
       "      <td>1</td>\n",
       "      <td>0</td>\n",
       "      <td>0</td>\n",
       "      <td>147094.82</td>\n",
       "      <td>0</td>\n",
       "    </tr>\n",
       "    <tr>\n",
       "      <th>...</th>\n",
       "      <td>...</td>\n",
       "      <td>...</td>\n",
       "      <td>...</td>\n",
       "      <td>...</td>\n",
       "      <td>...</td>\n",
       "      <td>...</td>\n",
       "      <td>...</td>\n",
       "      <td>...</td>\n",
       "      <td>...</td>\n",
       "      <td>...</td>\n",
       "      <td>...</td>\n",
       "      <td>...</td>\n",
       "    </tr>\n",
       "    <tr>\n",
       "      <th>9976</th>\n",
       "      <td>208085</td>\n",
       "      <td>876.0</td>\n",
       "      <td>Ростов</td>\n",
       "      <td>М</td>\n",
       "      <td>38.0</td>\n",
       "      <td>0</td>\n",
       "      <td>NaN</td>\n",
       "      <td>1</td>\n",
       "      <td>0</td>\n",
       "      <td>0</td>\n",
       "      <td>171763.69</td>\n",
       "      <td>0</td>\n",
       "    </tr>\n",
       "    <tr>\n",
       "      <th>9984</th>\n",
       "      <td>125941</td>\n",
       "      <td>729.0</td>\n",
       "      <td>Ярославль</td>\n",
       "      <td>Ж</td>\n",
       "      <td>42.0</td>\n",
       "      <td>0</td>\n",
       "      <td>NaN</td>\n",
       "      <td>1</td>\n",
       "      <td>1</td>\n",
       "      <td>1</td>\n",
       "      <td>687538.70</td>\n",
       "      <td>0</td>\n",
       "    </tr>\n",
       "    <tr>\n",
       "      <th>9993</th>\n",
       "      <td>219924</td>\n",
       "      <td>884.0</td>\n",
       "      <td>Рыбинск</td>\n",
       "      <td>Ж</td>\n",
       "      <td>36.0</td>\n",
       "      <td>0</td>\n",
       "      <td>NaN</td>\n",
       "      <td>1</td>\n",
       "      <td>1</td>\n",
       "      <td>1</td>\n",
       "      <td>169844.88</td>\n",
       "      <td>0</td>\n",
       "    </tr>\n",
       "    <tr>\n",
       "      <th>9996</th>\n",
       "      <td>139170</td>\n",
       "      <td>894.0</td>\n",
       "      <td>Ярославль</td>\n",
       "      <td>М</td>\n",
       "      <td>46.0</td>\n",
       "      <td>0</td>\n",
       "      <td>NaN</td>\n",
       "      <td>1</td>\n",
       "      <td>1</td>\n",
       "      <td>0</td>\n",
       "      <td>196898.29</td>\n",
       "      <td>0</td>\n",
       "    </tr>\n",
       "    <tr>\n",
       "      <th>9997</th>\n",
       "      <td>115639</td>\n",
       "      <td>903.0</td>\n",
       "      <td>Ярославль</td>\n",
       "      <td>М</td>\n",
       "      <td>24.0</td>\n",
       "      <td>0</td>\n",
       "      <td>NaN</td>\n",
       "      <td>2</td>\n",
       "      <td>1</td>\n",
       "      <td>1</td>\n",
       "      <td>108905.09</td>\n",
       "      <td>0</td>\n",
       "    </tr>\n",
       "  </tbody>\n",
       "</table>\n",
       "<p>2278 rows × 12 columns</p>\n",
       "</div>"
      ],
      "text/plain": [
       "      userid  score       city gender   age  equity  balance  products  \\\n",
       "2     120722  892.0    Рыбинск      Ж  30.0       0      NaN         1   \n",
       "9     133130  906.0  Ярославль      Ж  67.0       0      NaN         1   \n",
       "10    148929  927.0     Ростов      М  52.0       0      NaN         1   \n",
       "11    172184  921.0     Ростов      М  41.0       0      NaN         1   \n",
       "19    127034  922.0    Рыбинск      Ж  53.0       0      NaN         1   \n",
       "...      ...    ...        ...    ...   ...     ...      ...       ...   \n",
       "9976  208085  876.0     Ростов      М  38.0       0      NaN         1   \n",
       "9984  125941  729.0  Ярославль      Ж  42.0       0      NaN         1   \n",
       "9993  219924  884.0    Рыбинск      Ж  36.0       0      NaN         1   \n",
       "9996  139170  894.0  Ярославль      М  46.0       0      NaN         1   \n",
       "9997  115639  903.0  Ярославль      М  24.0       0      NaN         2   \n",
       "\n",
       "      credit_card  last_activity  est_salary  churn  \n",
       "2               1              1   107683.34      0  \n",
       "9               0              1   238055.53      0  \n",
       "10              1              1   196820.07      0  \n",
       "11              1              1   217469.48      0  \n",
       "19              0              0   147094.82      0  \n",
       "...           ...            ...         ...    ...  \n",
       "9976            0              0   171763.69      0  \n",
       "9984            1              1   687538.70      0  \n",
       "9993            1              1   169844.88      0  \n",
       "9996            1              0   196898.29      0  \n",
       "9997            1              1   108905.09      0  \n",
       "\n",
       "[2278 rows x 12 columns]"
      ]
     },
     "execution_count": 11,
     "metadata": {},
     "output_type": "execute_result"
    }
   ],
   "source": [
    "df.loc[df['balance'].isnull()]"
   ]
  },
  {
   "cell_type": "markdown",
   "metadata": {},
   "source": [
    "**Промежуточный вывод**\n",
    "<br>\n",
    "- Оставили пропуски в столбце `balance`, потому что их никак логически не заменить, а удаление приведет к потери большого количества информации. \n",
    "- Удалили пропуски в столбце `age` поскольку они составляют менее 5%"
   ]
  },
  {
   "cell_type": "markdown",
   "metadata": {},
   "source": [
    "### Преобразуем тип данных"
   ]
  },
  {
   "cell_type": "code",
   "execution_count": 12,
   "metadata": {},
   "outputs": [],
   "source": [
    "df['score'] = df['score'].astype('int64')\n",
    "df['age'] = df['age'].astype('int64')\n",
    "#df.info()"
   ]
  },
  {
   "cell_type": "markdown",
   "metadata": {},
   "source": [
    "### Проверка на дубликаты"
   ]
  },
  {
   "cell_type": "markdown",
   "metadata": {},
   "source": [
    "**Явные дубликаты**"
   ]
  },
  {
   "cell_type": "code",
   "execution_count": 13,
   "metadata": {},
   "outputs": [
    {
     "data": {
      "text/plain": [
       "0"
      ]
     },
     "execution_count": 13,
     "metadata": {},
     "output_type": "execute_result"
    }
   ],
   "source": [
    "df.duplicated().sum()"
   ]
  },
  {
   "cell_type": "code",
   "execution_count": 14,
   "metadata": {},
   "outputs": [
    {
     "data": {
      "text/plain": [
       "50"
      ]
     },
     "execution_count": 14,
     "metadata": {},
     "output_type": "execute_result"
    }
   ],
   "source": [
    "df.duplicated(subset=['userid']).sum()"
   ]
  },
  {
   "cell_type": "code",
   "execution_count": 15,
   "metadata": {},
   "outputs": [
    {
     "data": {
      "text/html": [
       "<div>\n",
       "<style scoped>\n",
       "    .dataframe tbody tr th:only-of-type {\n",
       "        vertical-align: middle;\n",
       "    }\n",
       "\n",
       "    .dataframe tbody tr th {\n",
       "        vertical-align: top;\n",
       "    }\n",
       "\n",
       "    .dataframe thead th {\n",
       "        text-align: right;\n",
       "    }\n",
       "</style>\n",
       "<table border=\"1\" class=\"dataframe\">\n",
       "  <thead>\n",
       "    <tr style=\"text-align: right;\">\n",
       "      <th></th>\n",
       "      <th>userid</th>\n",
       "      <th>score</th>\n",
       "      <th>city</th>\n",
       "      <th>gender</th>\n",
       "      <th>age</th>\n",
       "      <th>equity</th>\n",
       "      <th>balance</th>\n",
       "      <th>products</th>\n",
       "      <th>credit_card</th>\n",
       "      <th>last_activity</th>\n",
       "      <th>est_salary</th>\n",
       "      <th>churn</th>\n",
       "    </tr>\n",
       "  </thead>\n",
       "  <tbody>\n",
       "    <tr>\n",
       "      <th>58</th>\n",
       "      <td>164676</td>\n",
       "      <td>860</td>\n",
       "      <td>Ярославль</td>\n",
       "      <td>М</td>\n",
       "      <td>37</td>\n",
       "      <td>5</td>\n",
       "      <td>648594.03</td>\n",
       "      <td>2</td>\n",
       "      <td>1</td>\n",
       "      <td>1</td>\n",
       "      <td>213586.86</td>\n",
       "      <td>1</td>\n",
       "    </tr>\n",
       "    <tr>\n",
       "      <th>150</th>\n",
       "      <td>185748</td>\n",
       "      <td>850</td>\n",
       "      <td>Рыбинск</td>\n",
       "      <td>М</td>\n",
       "      <td>36</td>\n",
       "      <td>5</td>\n",
       "      <td>1203376.67</td>\n",
       "      <td>2</td>\n",
       "      <td>0</td>\n",
       "      <td>1</td>\n",
       "      <td>89401.82</td>\n",
       "      <td>1</td>\n",
       "    </tr>\n",
       "    <tr>\n",
       "      <th>161</th>\n",
       "      <td>197364</td>\n",
       "      <td>928</td>\n",
       "      <td>Рыбинск</td>\n",
       "      <td>Ж</td>\n",
       "      <td>53</td>\n",
       "      <td>6</td>\n",
       "      <td>1347183.86</td>\n",
       "      <td>2</td>\n",
       "      <td>0</td>\n",
       "      <td>1</td>\n",
       "      <td>168189.49</td>\n",
       "      <td>1</td>\n",
       "    </tr>\n",
       "    <tr>\n",
       "      <th>231</th>\n",
       "      <td>190253</td>\n",
       "      <td>823</td>\n",
       "      <td>Рыбинск</td>\n",
       "      <td>М</td>\n",
       "      <td>37</td>\n",
       "      <td>4</td>\n",
       "      <td>373348.39</td>\n",
       "      <td>2</td>\n",
       "      <td>0</td>\n",
       "      <td>1</td>\n",
       "      <td>131947.92</td>\n",
       "      <td>1</td>\n",
       "    </tr>\n",
       "    <tr>\n",
       "      <th>690</th>\n",
       "      <td>152479</td>\n",
       "      <td>768</td>\n",
       "      <td>Рыбинск</td>\n",
       "      <td>Ж</td>\n",
       "      <td>42</td>\n",
       "      <td>0</td>\n",
       "      <td>126787.79</td>\n",
       "      <td>4</td>\n",
       "      <td>1</td>\n",
       "      <td>1</td>\n",
       "      <td>143233.23</td>\n",
       "      <td>1</td>\n",
       "    </tr>\n",
       "    <tr>\n",
       "      <th>...</th>\n",
       "      <td>...</td>\n",
       "      <td>...</td>\n",
       "      <td>...</td>\n",
       "      <td>...</td>\n",
       "      <td>...</td>\n",
       "      <td>...</td>\n",
       "      <td>...</td>\n",
       "      <td>...</td>\n",
       "      <td>...</td>\n",
       "      <td>...</td>\n",
       "      <td>...</td>\n",
       "      <td>...</td>\n",
       "    </tr>\n",
       "    <tr>\n",
       "      <th>9659</th>\n",
       "      <td>195884</td>\n",
       "      <td>767</td>\n",
       "      <td>Рыбинск</td>\n",
       "      <td>Ж</td>\n",
       "      <td>45</td>\n",
       "      <td>1</td>\n",
       "      <td>335652.56</td>\n",
       "      <td>3</td>\n",
       "      <td>1</td>\n",
       "      <td>1</td>\n",
       "      <td>100197.67</td>\n",
       "      <td>0</td>\n",
       "    </tr>\n",
       "    <tr>\n",
       "      <th>9775</th>\n",
       "      <td>124450</td>\n",
       "      <td>758</td>\n",
       "      <td>Рыбинск</td>\n",
       "      <td>Ж</td>\n",
       "      <td>36</td>\n",
       "      <td>0</td>\n",
       "      <td>73574.07</td>\n",
       "      <td>2</td>\n",
       "      <td>0</td>\n",
       "      <td>1</td>\n",
       "      <td>79963.59</td>\n",
       "      <td>0</td>\n",
       "    </tr>\n",
       "    <tr>\n",
       "      <th>9785</th>\n",
       "      <td>168998</td>\n",
       "      <td>895</td>\n",
       "      <td>Рыбинск</td>\n",
       "      <td>М</td>\n",
       "      <td>44</td>\n",
       "      <td>0</td>\n",
       "      <td>282653.53</td>\n",
       "      <td>3</td>\n",
       "      <td>0</td>\n",
       "      <td>0</td>\n",
       "      <td>255296.47</td>\n",
       "      <td>0</td>\n",
       "    </tr>\n",
       "    <tr>\n",
       "      <th>9880</th>\n",
       "      <td>217412</td>\n",
       "      <td>886</td>\n",
       "      <td>Ярославль</td>\n",
       "      <td>Ж</td>\n",
       "      <td>35</td>\n",
       "      <td>3</td>\n",
       "      <td>1026172.14</td>\n",
       "      <td>2</td>\n",
       "      <td>1</td>\n",
       "      <td>0</td>\n",
       "      <td>53099.16</td>\n",
       "      <td>0</td>\n",
       "    </tr>\n",
       "    <tr>\n",
       "      <th>9970</th>\n",
       "      <td>175730</td>\n",
       "      <td>816</td>\n",
       "      <td>Рыбинск</td>\n",
       "      <td>М</td>\n",
       "      <td>36</td>\n",
       "      <td>4</td>\n",
       "      <td>477892.07</td>\n",
       "      <td>3</td>\n",
       "      <td>1</td>\n",
       "      <td>0</td>\n",
       "      <td>81100.60</td>\n",
       "      <td>0</td>\n",
       "    </tr>\n",
       "  </tbody>\n",
       "</table>\n",
       "<p>100 rows × 12 columns</p>\n",
       "</div>"
      ],
      "text/plain": [
       "      userid  score       city gender  age  equity     balance  products  \\\n",
       "58    164676    860  Ярославль      М   37       5   648594.03         2   \n",
       "150   185748    850    Рыбинск      М   36       5  1203376.67         2   \n",
       "161   197364    928    Рыбинск      Ж   53       6  1347183.86         2   \n",
       "231   190253    823    Рыбинск      М   37       4   373348.39         2   \n",
       "690   152479    768    Рыбинск      Ж   42       0   126787.79         4   \n",
       "...      ...    ...        ...    ...  ...     ...         ...       ...   \n",
       "9659  195884    767    Рыбинск      Ж   45       1   335652.56         3   \n",
       "9775  124450    758    Рыбинск      Ж   36       0    73574.07         2   \n",
       "9785  168998    895    Рыбинск      М   44       0   282653.53         3   \n",
       "9880  217412    886  Ярославль      Ж   35       3  1026172.14         2   \n",
       "9970  175730    816    Рыбинск      М   36       4   477892.07         3   \n",
       "\n",
       "      credit_card  last_activity  est_salary  churn  \n",
       "58              1              1   213586.86      1  \n",
       "150             0              1    89401.82      1  \n",
       "161             0              1   168189.49      1  \n",
       "231             0              1   131947.92      1  \n",
       "690             1              1   143233.23      1  \n",
       "...           ...            ...         ...    ...  \n",
       "9659            1              1   100197.67      0  \n",
       "9775            0              1    79963.59      0  \n",
       "9785            0              0   255296.47      0  \n",
       "9880            1              0    53099.16      0  \n",
       "9970            1              0    81100.60      0  \n",
       "\n",
       "[100 rows x 12 columns]"
      ]
     },
     "execution_count": 15,
     "metadata": {},
     "output_type": "execute_result"
    }
   ],
   "source": [
    "df.loc[df.duplicated(subset=['userid'], keep=False)]"
   ]
  },
  {
   "cell_type": "markdown",
   "metadata": {},
   "source": [
    "Так как количество дубликатов 50 это составляет менее 1%, поэтому их можно спокойно удалить"
   ]
  },
  {
   "cell_type": "code",
   "execution_count": 16,
   "metadata": {},
   "outputs": [],
   "source": [
    "df = df.drop_duplicates(subset=['userid'],keep='first').reset_index(drop=True)\n",
    "#df['userid'] = df['userid'].astype('int64')"
   ]
  },
  {
   "cell_type": "markdown",
   "metadata": {},
   "source": [
    "**Неявные дубликаты**"
   ]
  },
  {
   "cell_type": "code",
   "execution_count": 17,
   "metadata": {},
   "outputs": [
    {
     "data": {
      "text/plain": [
       "array(['Рыбинск', 'Ярославль', 'Ростов'], dtype=object)"
      ]
     },
     "execution_count": 17,
     "metadata": {},
     "output_type": "execute_result"
    }
   ],
   "source": [
    "df['city'].unique()"
   ]
  },
  {
   "cell_type": "code",
   "execution_count": 18,
   "metadata": {},
   "outputs": [
    {
     "data": {
      "text/plain": [
       "array(['Ж', 'М'], dtype=object)"
      ]
     },
     "execution_count": 18,
     "metadata": {},
     "output_type": "execute_result"
    }
   ],
   "source": [
    "df['gender'].unique()"
   ]
  },
  {
   "cell_type": "code",
   "execution_count": 19,
   "metadata": {},
   "outputs": [
    {
     "data": {
      "text/plain": [
       "array([0, 1])"
      ]
     },
     "execution_count": 19,
     "metadata": {},
     "output_type": "execute_result"
    }
   ],
   "source": [
    "df['credit_card'].unique()"
   ]
  },
  {
   "cell_type": "code",
   "execution_count": 20,
   "metadata": {},
   "outputs": [
    {
     "data": {
      "text/plain": [
       "array([1, 0])"
      ]
     },
     "execution_count": 20,
     "metadata": {},
     "output_type": "execute_result"
    }
   ],
   "source": [
    "df['churn'].unique()"
   ]
  },
  {
   "cell_type": "code",
   "execution_count": 21,
   "metadata": {},
   "outputs": [
    {
     "data": {
      "text/plain": [
       "array([2, 3, 1, 4, 5])"
      ]
     },
     "execution_count": 21,
     "metadata": {},
     "output_type": "execute_result"
    }
   ],
   "source": [
    "df['products'].unique()"
   ]
  },
  {
   "cell_type": "code",
   "execution_count": 22,
   "metadata": {},
   "outputs": [
    {
     "data": {
      "text/plain": [
       "array([1, 0])"
      ]
     },
     "execution_count": 22,
     "metadata": {},
     "output_type": "execute_result"
    }
   ],
   "source": [
    "df['last_activity'].unique()"
   ]
  },
  {
   "cell_type": "code",
   "execution_count": 23,
   "metadata": {},
   "outputs": [
    {
     "data": {
      "text/plain": [
       "array([1, 5, 0, 4, 3, 2, 6, 7, 8, 9])"
      ]
     },
     "execution_count": 23,
     "metadata": {},
     "output_type": "execute_result"
    }
   ],
   "source": [
    "df['equity'].unique()"
   ]
  },
  {
   "cell_type": "markdown",
   "metadata": {},
   "source": [
    "**Промежуточный вывод**\n",
    "<br>\n",
    "- Удалили явные дубликаты в столбце `userid`\n",
    "- Неявные дубликаты необнаружены"
   ]
  },
  {
   "cell_type": "markdown",
   "metadata": {},
   "source": [
    "### Проверка на выбросы"
   ]
  },
  {
   "cell_type": "code",
   "execution_count": 24,
   "metadata": {},
   "outputs": [
    {
     "data": {
      "text/html": [
       "<div>\n",
       "<style scoped>\n",
       "    .dataframe tbody tr th:only-of-type {\n",
       "        vertical-align: middle;\n",
       "    }\n",
       "\n",
       "    .dataframe tbody tr th {\n",
       "        vertical-align: top;\n",
       "    }\n",
       "\n",
       "    .dataframe thead th {\n",
       "        text-align: right;\n",
       "    }\n",
       "</style>\n",
       "<table border=\"1\" class=\"dataframe\">\n",
       "  <thead>\n",
       "    <tr style=\"text-align: right;\">\n",
       "      <th></th>\n",
       "      <th>userid</th>\n",
       "      <th>score</th>\n",
       "      <th>age</th>\n",
       "      <th>equity</th>\n",
       "      <th>balance</th>\n",
       "      <th>products</th>\n",
       "      <th>credit_card</th>\n",
       "      <th>last_activity</th>\n",
       "      <th>est_salary</th>\n",
       "      <th>churn</th>\n",
       "    </tr>\n",
       "  </thead>\n",
       "  <tbody>\n",
       "    <tr>\n",
       "      <th>count</th>\n",
       "      <td>9923.00</td>\n",
       "      <td>9923.00</td>\n",
       "      <td>9923.00</td>\n",
       "      <td>9923.00</td>\n",
       "      <td>7664.00</td>\n",
       "      <td>9923.00</td>\n",
       "      <td>9923.00</td>\n",
       "      <td>9923.00</td>\n",
       "      <td>9923.00</td>\n",
       "      <td>9923.00</td>\n",
       "    </tr>\n",
       "    <tr>\n",
       "      <th>mean</th>\n",
       "      <td>171739.57</td>\n",
       "      <td>848.72</td>\n",
       "      <td>42.73</td>\n",
       "      <td>2.63</td>\n",
       "      <td>828206.27</td>\n",
       "      <td>1.87</td>\n",
       "      <td>0.68</td>\n",
       "      <td>0.52</td>\n",
       "      <td>147892.55</td>\n",
       "      <td>0.18</td>\n",
       "    </tr>\n",
       "    <tr>\n",
       "      <th>std</th>\n",
       "      <td>33698.26</td>\n",
       "      <td>65.39</td>\n",
       "      <td>12.17</td>\n",
       "      <td>1.98</td>\n",
       "      <td>1984121.61</td>\n",
       "      <td>0.79</td>\n",
       "      <td>0.47</td>\n",
       "      <td>0.50</td>\n",
       "      <td>139359.86</td>\n",
       "      <td>0.39</td>\n",
       "    </tr>\n",
       "    <tr>\n",
       "      <th>min</th>\n",
       "      <td>94561.00</td>\n",
       "      <td>642.00</td>\n",
       "      <td>18.00</td>\n",
       "      <td>0.00</td>\n",
       "      <td>0.00</td>\n",
       "      <td>1.00</td>\n",
       "      <td>0.00</td>\n",
       "      <td>0.00</td>\n",
       "      <td>2546.30</td>\n",
       "      <td>0.00</td>\n",
       "    </tr>\n",
       "    <tr>\n",
       "      <th>25%</th>\n",
       "      <td>142720.00</td>\n",
       "      <td>802.00</td>\n",
       "      <td>33.00</td>\n",
       "      <td>0.00</td>\n",
       "      <td>295526.57</td>\n",
       "      <td>1.00</td>\n",
       "      <td>0.00</td>\n",
       "      <td>0.00</td>\n",
       "      <td>75255.86</td>\n",
       "      <td>0.00</td>\n",
       "    </tr>\n",
       "    <tr>\n",
       "      <th>50%</th>\n",
       "      <td>172651.00</td>\n",
       "      <td>853.00</td>\n",
       "      <td>40.00</td>\n",
       "      <td>3.00</td>\n",
       "      <td>524927.74</td>\n",
       "      <td>2.00</td>\n",
       "      <td>1.00</td>\n",
       "      <td>1.00</td>\n",
       "      <td>119719.33</td>\n",
       "      <td>0.00</td>\n",
       "    </tr>\n",
       "    <tr>\n",
       "      <th>75%</th>\n",
       "      <td>201160.50</td>\n",
       "      <td>900.00</td>\n",
       "      <td>51.00</td>\n",
       "      <td>4.00</td>\n",
       "      <td>980753.67</td>\n",
       "      <td>2.00</td>\n",
       "      <td>1.00</td>\n",
       "      <td>1.00</td>\n",
       "      <td>174673.28</td>\n",
       "      <td>0.00</td>\n",
       "    </tr>\n",
       "    <tr>\n",
       "      <th>max</th>\n",
       "      <td>229145.00</td>\n",
       "      <td>1000.00</td>\n",
       "      <td>86.00</td>\n",
       "      <td>9.00</td>\n",
       "      <td>119113552.01</td>\n",
       "      <td>5.00</td>\n",
       "      <td>1.00</td>\n",
       "      <td>1.00</td>\n",
       "      <td>1395064.45</td>\n",
       "      <td>1.00</td>\n",
       "    </tr>\n",
       "  </tbody>\n",
       "</table>\n",
       "</div>"
      ],
      "text/plain": [
       "         userid   score     age  equity      balance  products  credit_card  \\\n",
       "count   9923.00 9923.00 9923.00 9923.00      7664.00   9923.00      9923.00   \n",
       "mean  171739.57  848.72   42.73    2.63    828206.27      1.87         0.68   \n",
       "std    33698.26   65.39   12.17    1.98   1984121.61      0.79         0.47   \n",
       "min    94561.00  642.00   18.00    0.00         0.00      1.00         0.00   \n",
       "25%   142720.00  802.00   33.00    0.00    295526.57      1.00         0.00   \n",
       "50%   172651.00  853.00   40.00    3.00    524927.74      2.00         1.00   \n",
       "75%   201160.50  900.00   51.00    4.00    980753.67      2.00         1.00   \n",
       "max   229145.00 1000.00   86.00    9.00 119113552.01      5.00         1.00   \n",
       "\n",
       "       last_activity  est_salary   churn  \n",
       "count        9923.00     9923.00 9923.00  \n",
       "mean            0.52   147892.55    0.18  \n",
       "std             0.50   139359.86    0.39  \n",
       "min             0.00     2546.30    0.00  \n",
       "25%             0.00    75255.86    0.00  \n",
       "50%             1.00   119719.33    0.00  \n",
       "75%             1.00   174673.28    0.00  \n",
       "max             1.00  1395064.45    1.00  "
      ]
     },
     "execution_count": 24,
     "metadata": {},
     "output_type": "execute_result"
    }
   ],
   "source": [
    "pd.set_option(\"display.float_format\", \"{:.2f}\".format)\n",
    "df.describe()"
   ]
  },
  {
   "cell_type": "markdown",
   "metadata": {},
   "source": [
    "На первый взгляд все выглядит нормально и без выбросов. Только столбец `est_salary`, а именно столбец с зарплатой имеет минимальное значение в 2546, что является ниже МРОТ, а по законодательству такого быть не может"
   ]
  },
  {
   "cell_type": "code",
   "execution_count": 25,
   "metadata": {},
   "outputs": [
    {
     "data": {
      "text/plain": [
       "61"
      ]
     },
     "execution_count": 25,
     "metadata": {},
     "output_type": "execute_result"
    }
   ],
   "source": [
    "df[df['est_salary'] < 15200]['userid'].count()"
   ]
  },
  {
   "cell_type": "markdown",
   "metadata": {},
   "source": [
    "В итоге удалим данную ошибку"
   ]
  },
  {
   "cell_type": "code",
   "execution_count": 26,
   "metadata": {},
   "outputs": [],
   "source": [
    "df = df[df['est_salary']>15200]"
   ]
  },
  {
   "cell_type": "markdown",
   "metadata": {},
   "source": [
    "**Промежуточный вывод**\n",
    "<br>\n",
    "Аномальные значения столбца `est_salary` удалены"
   ]
  },
  {
   "cell_type": "markdown",
   "metadata": {},
   "source": [
    "### Кодирование данных"
   ]
  },
  {
   "cell_type": "markdown",
   "metadata": {},
   "source": [
    "Закодируем два столбца `gender` и `city` бинарными значениями"
   ]
  },
  {
   "cell_type": "markdown",
   "metadata": {},
   "source": [
    "Создадим второй столбец `city`"
   ]
  },
  {
   "cell_type": "code",
   "execution_count": 27,
   "metadata": {},
   "outputs": [
    {
     "data": {
      "text/html": [
       "<div>\n",
       "<style scoped>\n",
       "    .dataframe tbody tr th:only-of-type {\n",
       "        vertical-align: middle;\n",
       "    }\n",
       "\n",
       "    .dataframe tbody tr th {\n",
       "        vertical-align: top;\n",
       "    }\n",
       "\n",
       "    .dataframe thead th {\n",
       "        text-align: right;\n",
       "    }\n",
       "</style>\n",
       "<table border=\"1\" class=\"dataframe\">\n",
       "  <thead>\n",
       "    <tr style=\"text-align: right;\">\n",
       "      <th></th>\n",
       "      <th>userid</th>\n",
       "      <th>score</th>\n",
       "      <th>city</th>\n",
       "      <th>gender</th>\n",
       "      <th>age</th>\n",
       "      <th>equity</th>\n",
       "      <th>balance</th>\n",
       "      <th>products</th>\n",
       "      <th>credit_card</th>\n",
       "      <th>last_activity</th>\n",
       "      <th>est_salary</th>\n",
       "      <th>churn</th>\n",
       "      <th>cityV2</th>\n",
       "      <th>genderV2</th>\n",
       "    </tr>\n",
       "  </thead>\n",
       "  <tbody>\n",
       "    <tr>\n",
       "      <th>0</th>\n",
       "      <td>183012</td>\n",
       "      <td>850</td>\n",
       "      <td>Рыбинск</td>\n",
       "      <td>Ж</td>\n",
       "      <td>25</td>\n",
       "      <td>1</td>\n",
       "      <td>59214.82</td>\n",
       "      <td>2</td>\n",
       "      <td>0</td>\n",
       "      <td>1</td>\n",
       "      <td>75719.14</td>\n",
       "      <td>1</td>\n",
       "      <td>Рыбинск</td>\n",
       "      <td>Ж</td>\n",
       "    </tr>\n",
       "    <tr>\n",
       "      <th>1</th>\n",
       "      <td>146556</td>\n",
       "      <td>861</td>\n",
       "      <td>Рыбинск</td>\n",
       "      <td>Ж</td>\n",
       "      <td>37</td>\n",
       "      <td>5</td>\n",
       "      <td>850594.33</td>\n",
       "      <td>3</td>\n",
       "      <td>1</td>\n",
       "      <td>0</td>\n",
       "      <td>86621.77</td>\n",
       "      <td>0</td>\n",
       "      <td>Рыбинск</td>\n",
       "      <td>Ж</td>\n",
       "    </tr>\n",
       "    <tr>\n",
       "      <th>2</th>\n",
       "      <td>120722</td>\n",
       "      <td>892</td>\n",
       "      <td>Рыбинск</td>\n",
       "      <td>Ж</td>\n",
       "      <td>30</td>\n",
       "      <td>0</td>\n",
       "      <td>NaN</td>\n",
       "      <td>1</td>\n",
       "      <td>1</td>\n",
       "      <td>1</td>\n",
       "      <td>107683.34</td>\n",
       "      <td>0</td>\n",
       "      <td>Рыбинск</td>\n",
       "      <td>Ж</td>\n",
       "    </tr>\n",
       "    <tr>\n",
       "      <th>3</th>\n",
       "      <td>225363</td>\n",
       "      <td>866</td>\n",
       "      <td>Ярославль</td>\n",
       "      <td>Ж</td>\n",
       "      <td>51</td>\n",
       "      <td>5</td>\n",
       "      <td>1524746.26</td>\n",
       "      <td>2</td>\n",
       "      <td>0</td>\n",
       "      <td>1</td>\n",
       "      <td>174423.53</td>\n",
       "      <td>1</td>\n",
       "      <td>Ярославль</td>\n",
       "      <td>Ж</td>\n",
       "    </tr>\n",
       "    <tr>\n",
       "      <th>4</th>\n",
       "      <td>157978</td>\n",
       "      <td>730</td>\n",
       "      <td>Ярославль</td>\n",
       "      <td>М</td>\n",
       "      <td>34</td>\n",
       "      <td>5</td>\n",
       "      <td>174.00</td>\n",
       "      <td>1</td>\n",
       "      <td>1</td>\n",
       "      <td>0</td>\n",
       "      <td>67353.16</td>\n",
       "      <td>1</td>\n",
       "      <td>Ярославль</td>\n",
       "      <td>М</td>\n",
       "    </tr>\n",
       "  </tbody>\n",
       "</table>\n",
       "</div>"
      ],
      "text/plain": [
       "   userid  score       city gender  age  equity    balance  products  \\\n",
       "0  183012    850    Рыбинск      Ж   25       1   59214.82         2   \n",
       "1  146556    861    Рыбинск      Ж   37       5  850594.33         3   \n",
       "2  120722    892    Рыбинск      Ж   30       0        NaN         1   \n",
       "3  225363    866  Ярославль      Ж   51       5 1524746.26         2   \n",
       "4  157978    730  Ярославль      М   34       5     174.00         1   \n",
       "\n",
       "   credit_card  last_activity  est_salary  churn     cityV2 genderV2  \n",
       "0            0              1    75719.14      1    Рыбинск        Ж  \n",
       "1            1              0    86621.77      0    Рыбинск        Ж  \n",
       "2            1              1   107683.34      0    Рыбинск        Ж  \n",
       "3            0              1   174423.53      1  Ярославль        Ж  \n",
       "4            1              0    67353.16      1  Ярославль        М  "
      ]
     },
     "execution_count": 27,
     "metadata": {},
     "output_type": "execute_result"
    }
   ],
   "source": [
    "df['cityV2'] = df['city']\n",
    "df['genderV2'] = df['gender']\n",
    "df.head()"
   ]
  },
  {
   "cell_type": "code",
   "execution_count": 28,
   "metadata": {
    "scrolled": true
   },
   "outputs": [
    {
     "data": {
      "text/html": [
       "<div>\n",
       "<style scoped>\n",
       "    .dataframe tbody tr th:only-of-type {\n",
       "        vertical-align: middle;\n",
       "    }\n",
       "\n",
       "    .dataframe tbody tr th {\n",
       "        vertical-align: top;\n",
       "    }\n",
       "\n",
       "    .dataframe thead th {\n",
       "        text-align: right;\n",
       "    }\n",
       "</style>\n",
       "<table border=\"1\" class=\"dataframe\">\n",
       "  <thead>\n",
       "    <tr style=\"text-align: right;\">\n",
       "      <th></th>\n",
       "      <th>userid</th>\n",
       "      <th>score</th>\n",
       "      <th>city</th>\n",
       "      <th>gender</th>\n",
       "      <th>age</th>\n",
       "      <th>equity</th>\n",
       "      <th>balance</th>\n",
       "      <th>products</th>\n",
       "      <th>credit_card</th>\n",
       "      <th>last_activity</th>\n",
       "      <th>est_salary</th>\n",
       "      <th>churn</th>\n",
       "      <th>Ростов</th>\n",
       "      <th>Рыбинск</th>\n",
       "      <th>Ярославль</th>\n",
       "      <th>female</th>\n",
       "      <th>male</th>\n",
       "    </tr>\n",
       "  </thead>\n",
       "  <tbody>\n",
       "    <tr>\n",
       "      <th>0</th>\n",
       "      <td>183012</td>\n",
       "      <td>850</td>\n",
       "      <td>Рыбинск</td>\n",
       "      <td>Ж</td>\n",
       "      <td>25</td>\n",
       "      <td>1</td>\n",
       "      <td>59214.82</td>\n",
       "      <td>2</td>\n",
       "      <td>0</td>\n",
       "      <td>1</td>\n",
       "      <td>75719.14</td>\n",
       "      <td>1</td>\n",
       "      <td>0</td>\n",
       "      <td>1</td>\n",
       "      <td>0</td>\n",
       "      <td>1</td>\n",
       "      <td>0</td>\n",
       "    </tr>\n",
       "    <tr>\n",
       "      <th>1</th>\n",
       "      <td>146556</td>\n",
       "      <td>861</td>\n",
       "      <td>Рыбинск</td>\n",
       "      <td>Ж</td>\n",
       "      <td>37</td>\n",
       "      <td>5</td>\n",
       "      <td>850594.33</td>\n",
       "      <td>3</td>\n",
       "      <td>1</td>\n",
       "      <td>0</td>\n",
       "      <td>86621.77</td>\n",
       "      <td>0</td>\n",
       "      <td>0</td>\n",
       "      <td>1</td>\n",
       "      <td>0</td>\n",
       "      <td>1</td>\n",
       "      <td>0</td>\n",
       "    </tr>\n",
       "    <tr>\n",
       "      <th>2</th>\n",
       "      <td>120722</td>\n",
       "      <td>892</td>\n",
       "      <td>Рыбинск</td>\n",
       "      <td>Ж</td>\n",
       "      <td>30</td>\n",
       "      <td>0</td>\n",
       "      <td>NaN</td>\n",
       "      <td>1</td>\n",
       "      <td>1</td>\n",
       "      <td>1</td>\n",
       "      <td>107683.34</td>\n",
       "      <td>0</td>\n",
       "      <td>0</td>\n",
       "      <td>1</td>\n",
       "      <td>0</td>\n",
       "      <td>1</td>\n",
       "      <td>0</td>\n",
       "    </tr>\n",
       "    <tr>\n",
       "      <th>3</th>\n",
       "      <td>225363</td>\n",
       "      <td>866</td>\n",
       "      <td>Ярославль</td>\n",
       "      <td>Ж</td>\n",
       "      <td>51</td>\n",
       "      <td>5</td>\n",
       "      <td>1524746.26</td>\n",
       "      <td>2</td>\n",
       "      <td>0</td>\n",
       "      <td>1</td>\n",
       "      <td>174423.53</td>\n",
       "      <td>1</td>\n",
       "      <td>0</td>\n",
       "      <td>0</td>\n",
       "      <td>1</td>\n",
       "      <td>1</td>\n",
       "      <td>0</td>\n",
       "    </tr>\n",
       "    <tr>\n",
       "      <th>4</th>\n",
       "      <td>157978</td>\n",
       "      <td>730</td>\n",
       "      <td>Ярославль</td>\n",
       "      <td>М</td>\n",
       "      <td>34</td>\n",
       "      <td>5</td>\n",
       "      <td>174.00</td>\n",
       "      <td>1</td>\n",
       "      <td>1</td>\n",
       "      <td>0</td>\n",
       "      <td>67353.16</td>\n",
       "      <td>1</td>\n",
       "      <td>0</td>\n",
       "      <td>0</td>\n",
       "      <td>1</td>\n",
       "      <td>0</td>\n",
       "      <td>1</td>\n",
       "    </tr>\n",
       "  </tbody>\n",
       "</table>\n",
       "</div>"
      ],
      "text/plain": [
       "   userid  score       city gender  age  equity    balance  products  \\\n",
       "0  183012    850    Рыбинск      Ж   25       1   59214.82         2   \n",
       "1  146556    861    Рыбинск      Ж   37       5  850594.33         3   \n",
       "2  120722    892    Рыбинск      Ж   30       0        NaN         1   \n",
       "3  225363    866  Ярославль      Ж   51       5 1524746.26         2   \n",
       "4  157978    730  Ярославль      М   34       5     174.00         1   \n",
       "\n",
       "   credit_card  last_activity  est_salary  churn  Ростов  Рыбинск  Ярославль  \\\n",
       "0            0              1    75719.14      1       0        1          0   \n",
       "1            1              0    86621.77      0       0        1          0   \n",
       "2            1              1   107683.34      0       0        1          0   \n",
       "3            0              1   174423.53      1       0        0          1   \n",
       "4            1              0    67353.16      1       0        0          1   \n",
       "\n",
       "   female  male  \n",
       "0       1     0  \n",
       "1       1     0  \n",
       "2       1     0  \n",
       "3       1     0  \n",
       "4       0     1  "
      ]
     },
     "execution_count": 28,
     "metadata": {},
     "output_type": "execute_result"
    }
   ],
   "source": [
    "df = pd.get_dummies(df, columns = ['cityV2','genderV2'])\n",
    "df = df.rename (\n",
    "    columns = ({\n",
    "        'cityV2_Ростов':'Ростов', \n",
    "        'cityV2_Рыбинск':'Рыбинск',\n",
    "        'cityV2_Ярославль':'Ярославль',\n",
    "        'genderV2_Ж':'female',\n",
    "        'genderV2_М':'male'}))\n",
    "df.head()"
   ]
  },
  {
   "cell_type": "markdown",
   "metadata": {},
   "source": [
    "\n",
    "<div class=\"alert alert-success\">\n",
    "<b>Комментарий ревьюера:</b>☀️Хорошо.</div>\n"
   ]
  },
  {
   "cell_type": "markdown",
   "metadata": {},
   "source": [
    "### Категоризация данных"
   ]
  },
  {
   "cell_type": "markdown",
   "metadata": {},
   "source": [
    "В дальнейшем при сегментации возможно понадобится категоризация пользователей по возрастным группам"
   ]
  },
  {
   "cell_type": "code",
   "execution_count": 29,
   "metadata": {
    "scrolled": false
   },
   "outputs": [
    {
     "data": {
      "image/png": "[encoded data removed]",
      "text/plain": [
       "<Figure size 864x576 with 1 Axes>"
      ]
     },
     "metadata": {
      "needs_background": "light"
     },
     "output_type": "display_data"
    }
   ],
   "source": [
    "df[df['churn']==1]['age'].value_counts().reset_index().rename(columns={'index':'age', 'age':'count'}).\\\n",
    "sort_values(by='age').plot(kind='bar', figsize = (12,8), x = 'age', y = 'count');"
   ]
  },
  {
   "cell_type": "code",
   "execution_count": 30,
   "metadata": {},
   "outputs": [],
   "source": [
    "buckets = [18,24,45,63]"
   ]
  },
  {
   "cell_type": "code",
   "execution_count": 31,
   "metadata": {},
   "outputs": [
    {
     "data": {
      "text/plain": [
       "(24.0, 45.0]      6159\n",
       "(45.0, 63.0]      2830\n",
       "(17.999, 24.0]     225\n",
       "Name: age, dtype: int64"
      ]
     },
     "execution_count": 31,
     "metadata": {},
     "output_type": "execute_result"
    }
   ],
   "source": [
    "df['age'].value_counts(bins = buckets)"
   ]
  },
  {
   "cell_type": "markdown",
   "metadata": {},
   "source": [
    "Как мы видим большинство пользователей банка находятся в диапазоне возраста между 24-45 годами. Создадим функцию, которая присвоит каждому пользователю определенную возрастную категорию"
   ]
  },
  {
   "cell_type": "code",
   "execution_count": 32,
   "metadata": {},
   "outputs": [],
   "source": [
    "#ф-ция, которая категоризирует пользователей по возрасту\n",
    "def category_age(age):\n",
    "    if 25 > age >= 18:\n",
    "        return '18-24'\n",
    "    if 45 >= age >= 25:\n",
    "        return '25-45'\n",
    "    if 62 >= age >= 46:\n",
    "        return '46-62'\n",
    "    if 63 <= age:\n",
    "        return '63+'"
   ]
  },
  {
   "cell_type": "code",
   "execution_count": 33,
   "metadata": {},
   "outputs": [
    {
     "data": {
      "text/html": [
       "<div>\n",
       "<style scoped>\n",
       "    .dataframe tbody tr th:only-of-type {\n",
       "        vertical-align: middle;\n",
       "    }\n",
       "\n",
       "    .dataframe tbody tr th {\n",
       "        vertical-align: top;\n",
       "    }\n",
       "\n",
       "    .dataframe thead th {\n",
       "        text-align: right;\n",
       "    }\n",
       "</style>\n",
       "<table border=\"1\" class=\"dataframe\">\n",
       "  <thead>\n",
       "    <tr style=\"text-align: right;\">\n",
       "      <th></th>\n",
       "      <th>userid</th>\n",
       "      <th>score</th>\n",
       "      <th>city</th>\n",
       "      <th>gender</th>\n",
       "      <th>age</th>\n",
       "      <th>equity</th>\n",
       "      <th>balance</th>\n",
       "      <th>products</th>\n",
       "      <th>credit_card</th>\n",
       "      <th>last_activity</th>\n",
       "      <th>est_salary</th>\n",
       "      <th>churn</th>\n",
       "      <th>Ростов</th>\n",
       "      <th>Рыбинск</th>\n",
       "      <th>Ярославль</th>\n",
       "      <th>female</th>\n",
       "      <th>male</th>\n",
       "      <th>category_age</th>\n",
       "    </tr>\n",
       "  </thead>\n",
       "  <tbody>\n",
       "    <tr>\n",
       "      <th>0</th>\n",
       "      <td>183012</td>\n",
       "      <td>850</td>\n",
       "      <td>Рыбинск</td>\n",
       "      <td>Ж</td>\n",
       "      <td>25</td>\n",
       "      <td>1</td>\n",
       "      <td>59214.82</td>\n",
       "      <td>2</td>\n",
       "      <td>0</td>\n",
       "      <td>1</td>\n",
       "      <td>75719.14</td>\n",
       "      <td>1</td>\n",
       "      <td>0</td>\n",
       "      <td>1</td>\n",
       "      <td>0</td>\n",
       "      <td>1</td>\n",
       "      <td>0</td>\n",
       "      <td>25-45</td>\n",
       "    </tr>\n",
       "    <tr>\n",
       "      <th>1</th>\n",
       "      <td>146556</td>\n",
       "      <td>861</td>\n",
       "      <td>Рыбинск</td>\n",
       "      <td>Ж</td>\n",
       "      <td>37</td>\n",
       "      <td>5</td>\n",
       "      <td>850594.33</td>\n",
       "      <td>3</td>\n",
       "      <td>1</td>\n",
       "      <td>0</td>\n",
       "      <td>86621.77</td>\n",
       "      <td>0</td>\n",
       "      <td>0</td>\n",
       "      <td>1</td>\n",
       "      <td>0</td>\n",
       "      <td>1</td>\n",
       "      <td>0</td>\n",
       "      <td>25-45</td>\n",
       "    </tr>\n",
       "    <tr>\n",
       "      <th>2</th>\n",
       "      <td>120722</td>\n",
       "      <td>892</td>\n",
       "      <td>Рыбинск</td>\n",
       "      <td>Ж</td>\n",
       "      <td>30</td>\n",
       "      <td>0</td>\n",
       "      <td>NaN</td>\n",
       "      <td>1</td>\n",
       "      <td>1</td>\n",
       "      <td>1</td>\n",
       "      <td>107683.34</td>\n",
       "      <td>0</td>\n",
       "      <td>0</td>\n",
       "      <td>1</td>\n",
       "      <td>0</td>\n",
       "      <td>1</td>\n",
       "      <td>0</td>\n",
       "      <td>25-45</td>\n",
       "    </tr>\n",
       "    <tr>\n",
       "      <th>3</th>\n",
       "      <td>225363</td>\n",
       "      <td>866</td>\n",
       "      <td>Ярославль</td>\n",
       "      <td>Ж</td>\n",
       "      <td>51</td>\n",
       "      <td>5</td>\n",
       "      <td>1524746.26</td>\n",
       "      <td>2</td>\n",
       "      <td>0</td>\n",
       "      <td>1</td>\n",
       "      <td>174423.53</td>\n",
       "      <td>1</td>\n",
       "      <td>0</td>\n",
       "      <td>0</td>\n",
       "      <td>1</td>\n",
       "      <td>1</td>\n",
       "      <td>0</td>\n",
       "      <td>46-62</td>\n",
       "    </tr>\n",
       "    <tr>\n",
       "      <th>4</th>\n",
       "      <td>157978</td>\n",
       "      <td>730</td>\n",
       "      <td>Ярославль</td>\n",
       "      <td>М</td>\n",
       "      <td>34</td>\n",
       "      <td>5</td>\n",
       "      <td>174.00</td>\n",
       "      <td>1</td>\n",
       "      <td>1</td>\n",
       "      <td>0</td>\n",
       "      <td>67353.16</td>\n",
       "      <td>1</td>\n",
       "      <td>0</td>\n",
       "      <td>0</td>\n",
       "      <td>1</td>\n",
       "      <td>0</td>\n",
       "      <td>1</td>\n",
       "      <td>25-45</td>\n",
       "    </tr>\n",
       "  </tbody>\n",
       "</table>\n",
       "</div>"
      ],
      "text/plain": [
       "   userid  score       city gender  age  equity    balance  products  \\\n",
       "0  183012    850    Рыбинск      Ж   25       1   59214.82         2   \n",
       "1  146556    861    Рыбинск      Ж   37       5  850594.33         3   \n",
       "2  120722    892    Рыбинск      Ж   30       0        NaN         1   \n",
       "3  225363    866  Ярославль      Ж   51       5 1524746.26         2   \n",
       "4  157978    730  Ярославль      М   34       5     174.00         1   \n",
       "\n",
       "   credit_card  last_activity  est_salary  churn  Ростов  Рыбинск  Ярославль  \\\n",
       "0            0              1    75719.14      1       0        1          0   \n",
       "1            1              0    86621.77      0       0        1          0   \n",
       "2            1              1   107683.34      0       0        1          0   \n",
       "3            0              1   174423.53      1       0        0          1   \n",
       "4            1              0    67353.16      1       0        0          1   \n",
       "\n",
       "   female  male category_age  \n",
       "0       1     0        25-45  \n",
       "1       1     0        25-45  \n",
       "2       1     0        25-45  \n",
       "3       1     0        46-62  \n",
       "4       0     1        25-45  "
      ]
     },
     "execution_count": 33,
     "metadata": {},
     "output_type": "execute_result"
    }
   ],
   "source": [
    "df['category_age'] = df['age'].apply(category_age)\n",
    "df.head()"
   ]
  },
  {
   "cell_type": "markdown",
   "metadata": {},
   "source": [
    "Чтобы провести корреляционный анализ с возрастными группами их тоже нужно закодировать бинарными переменными"
   ]
  },
  {
   "cell_type": "code",
   "execution_count": 34,
   "metadata": {},
   "outputs": [],
   "source": [
    "df['category_ageV2'] = df['category_age']"
   ]
  },
  {
   "cell_type": "code",
   "execution_count": 35,
   "metadata": {},
   "outputs": [
    {
     "data": {
      "text/html": [
       "<div>\n",
       "<style scoped>\n",
       "    .dataframe tbody tr th:only-of-type {\n",
       "        vertical-align: middle;\n",
       "    }\n",
       "\n",
       "    .dataframe tbody tr th {\n",
       "        vertical-align: top;\n",
       "    }\n",
       "\n",
       "    .dataframe thead th {\n",
       "        text-align: right;\n",
       "    }\n",
       "</style>\n",
       "<table border=\"1\" class=\"dataframe\">\n",
       "  <thead>\n",
       "    <tr style=\"text-align: right;\">\n",
       "      <th></th>\n",
       "      <th>userid</th>\n",
       "      <th>score</th>\n",
       "      <th>city</th>\n",
       "      <th>gender</th>\n",
       "      <th>age</th>\n",
       "      <th>equity</th>\n",
       "      <th>balance</th>\n",
       "      <th>products</th>\n",
       "      <th>credit_card</th>\n",
       "      <th>last_activity</th>\n",
       "      <th>...</th>\n",
       "      <th>Ростов</th>\n",
       "      <th>Рыбинск</th>\n",
       "      <th>Ярославль</th>\n",
       "      <th>female</th>\n",
       "      <th>male</th>\n",
       "      <th>category_age</th>\n",
       "      <th>18-24</th>\n",
       "      <th>25-45</th>\n",
       "      <th>46-62</th>\n",
       "      <th>63+</th>\n",
       "    </tr>\n",
       "  </thead>\n",
       "  <tbody>\n",
       "    <tr>\n",
       "      <th>0</th>\n",
       "      <td>183012</td>\n",
       "      <td>850</td>\n",
       "      <td>Рыбинск</td>\n",
       "      <td>Ж</td>\n",
       "      <td>25</td>\n",
       "      <td>1</td>\n",
       "      <td>59214.82</td>\n",
       "      <td>2</td>\n",
       "      <td>0</td>\n",
       "      <td>1</td>\n",
       "      <td>...</td>\n",
       "      <td>0</td>\n",
       "      <td>1</td>\n",
       "      <td>0</td>\n",
       "      <td>1</td>\n",
       "      <td>0</td>\n",
       "      <td>25-45</td>\n",
       "      <td>0</td>\n",
       "      <td>1</td>\n",
       "      <td>0</td>\n",
       "      <td>0</td>\n",
       "    </tr>\n",
       "    <tr>\n",
       "      <th>1</th>\n",
       "      <td>146556</td>\n",
       "      <td>861</td>\n",
       "      <td>Рыбинск</td>\n",
       "      <td>Ж</td>\n",
       "      <td>37</td>\n",
       "      <td>5</td>\n",
       "      <td>850594.33</td>\n",
       "      <td>3</td>\n",
       "      <td>1</td>\n",
       "      <td>0</td>\n",
       "      <td>...</td>\n",
       "      <td>0</td>\n",
       "      <td>1</td>\n",
       "      <td>0</td>\n",
       "      <td>1</td>\n",
       "      <td>0</td>\n",
       "      <td>25-45</td>\n",
       "      <td>0</td>\n",
       "      <td>1</td>\n",
       "      <td>0</td>\n",
       "      <td>0</td>\n",
       "    </tr>\n",
       "    <tr>\n",
       "      <th>2</th>\n",
       "      <td>120722</td>\n",
       "      <td>892</td>\n",
       "      <td>Рыбинск</td>\n",
       "      <td>Ж</td>\n",
       "      <td>30</td>\n",
       "      <td>0</td>\n",
       "      <td>NaN</td>\n",
       "      <td>1</td>\n",
       "      <td>1</td>\n",
       "      <td>1</td>\n",
       "      <td>...</td>\n",
       "      <td>0</td>\n",
       "      <td>1</td>\n",
       "      <td>0</td>\n",
       "      <td>1</td>\n",
       "      <td>0</td>\n",
       "      <td>25-45</td>\n",
       "      <td>0</td>\n",
       "      <td>1</td>\n",
       "      <td>0</td>\n",
       "      <td>0</td>\n",
       "    </tr>\n",
       "    <tr>\n",
       "      <th>3</th>\n",
       "      <td>225363</td>\n",
       "      <td>866</td>\n",
       "      <td>Ярославль</td>\n",
       "      <td>Ж</td>\n",
       "      <td>51</td>\n",
       "      <td>5</td>\n",
       "      <td>1524746.26</td>\n",
       "      <td>2</td>\n",
       "      <td>0</td>\n",
       "      <td>1</td>\n",
       "      <td>...</td>\n",
       "      <td>0</td>\n",
       "      <td>0</td>\n",
       "      <td>1</td>\n",
       "      <td>1</td>\n",
       "      <td>0</td>\n",
       "      <td>46-62</td>\n",
       "      <td>0</td>\n",
       "      <td>0</td>\n",
       "      <td>1</td>\n",
       "      <td>0</td>\n",
       "    </tr>\n",
       "    <tr>\n",
       "      <th>4</th>\n",
       "      <td>157978</td>\n",
       "      <td>730</td>\n",
       "      <td>Ярославль</td>\n",
       "      <td>М</td>\n",
       "      <td>34</td>\n",
       "      <td>5</td>\n",
       "      <td>174.00</td>\n",
       "      <td>1</td>\n",
       "      <td>1</td>\n",
       "      <td>0</td>\n",
       "      <td>...</td>\n",
       "      <td>0</td>\n",
       "      <td>0</td>\n",
       "      <td>1</td>\n",
       "      <td>0</td>\n",
       "      <td>1</td>\n",
       "      <td>25-45</td>\n",
       "      <td>0</td>\n",
       "      <td>1</td>\n",
       "      <td>0</td>\n",
       "      <td>0</td>\n",
       "    </tr>\n",
       "  </tbody>\n",
       "</table>\n",
       "<p>5 rows × 22 columns</p>\n",
       "</div>"
      ],
      "text/plain": [
       "   userid  score       city gender  age  equity    balance  products  \\\n",
       "0  183012    850    Рыбинск      Ж   25       1   59214.82         2   \n",
       "1  146556    861    Рыбинск      Ж   37       5  850594.33         3   \n",
       "2  120722    892    Рыбинск      Ж   30       0        NaN         1   \n",
       "3  225363    866  Ярославль      Ж   51       5 1524746.26         2   \n",
       "4  157978    730  Ярославль      М   34       5     174.00         1   \n",
       "\n",
       "   credit_card  last_activity  ...  Ростов  Рыбинск  Ярославль  female  male  \\\n",
       "0            0              1  ...       0        1          0       1     0   \n",
       "1            1              0  ...       0        1          0       1     0   \n",
       "2            1              1  ...       0        1          0       1     0   \n",
       "3            0              1  ...       0        0          1       1     0   \n",
       "4            1              0  ...       0        0          1       0     1   \n",
       "\n",
       "   category_age  18-24 25-45  46-62  63+  \n",
       "0         25-45      0     1      0    0  \n",
       "1         25-45      0     1      0    0  \n",
       "2         25-45      0     1      0    0  \n",
       "3         46-62      0     0      1    0  \n",
       "4         25-45      0     1      0    0  \n",
       "\n",
       "[5 rows x 22 columns]"
      ]
     },
     "execution_count": 35,
     "metadata": {},
     "output_type": "execute_result"
    }
   ],
   "source": [
    "df = pd.get_dummies(df, columns = ['category_ageV2'])\n",
    "df = df.rename (columns = ({\n",
    "    'category_ageV2_18-24':'18-24',\n",
    "    'category_ageV2_25-45':'25-45',\n",
    "    'category_ageV2_46-62':'46-62', \n",
    "    'category_ageV2_63+':'63+'}))\n",
    "df.head()"
   ]
  },
  {
   "cell_type": "markdown",
   "metadata": {},
   "source": [
    "\n",
    "<div class=\"alert alert-success\">\n",
    "<b>Комментарий ревьюера:</b>☀️Отлично :) Хорошая предобработка данных.</div>\n"
   ]
  },
  {
   "cell_type": "markdown",
   "metadata": {},
   "source": [
    "## Исследовательский анализ"
   ]
  },
  {
   "cell_type": "markdown",
   "metadata": {},
   "source": [
    "Прежде чем строить графики распределения посмотрим на таблицу корреляций"
   ]
  },
  {
   "cell_type": "code",
   "execution_count": 36,
   "metadata": {},
   "outputs": [
    {
     "data": {
      "image/png": "[encoded data removed]",
      "text/plain": [
       "<Figure size 1152x576 with 2 Axes>"
      ]
     },
     "metadata": {
      "needs_background": "light"
     },
     "output_type": "display_data"
    }
   ],
   "source": [
    "plt.figure(figsize=(16,8))\n",
    "sns.heatmap (df.corr(), annot=True, fmt='.2g', vmin=-1, vmax=1, center= 0, cmap= 'Spectral', linewidths=1)\n",
    "plt.show()"
   ]
  },
  {
   "cell_type": "markdown",
   "metadata": {},
   "source": [
    "**Вывод по таблице**\n",
    "<br>\n",
    "По таблице видно, что наибольшая корреляция с показателем оттока клиентов связана со столбцами:\n",
    "- `age`\n",
    "- `equity`\n",
    "- `score`\n",
    "- `products`\n",
    "- `credit_card`\n",
    "- `last_activity`\n",
    "- Пол клиента. Столбцы:`female`,`male`"
   ]
  },
  {
   "cell_type": "code",
   "execution_count": 37,
   "metadata": {},
   "outputs": [
    {
     "name": "stdout",
     "output_type": "stream",
     "text": [
      "Корреляция между churn и equity составляет: 0.27\n",
      "Корреляция между churn и male составляет: 0.14\n",
      "Корреляция между churn и score составляет: 0.11\n",
      "Корреляция между churn и products составляет: 0.3\n",
      "Корреляция между churn и age составляет: -0.05\n",
      "Корреляция между churn и credit_card составляет: -0.13\n",
      "Корреляция между churn и female составляет: -0.14\n"
     ]
    }
   ],
   "source": [
    "list_for_graph = ['equity',\n",
    "                  'male',\n",
    "                  'score',\n",
    "                  'products',\n",
    "                  'age',\n",
    "                  'credit_card',\n",
    "                  'female']\n",
    "\n",
    "for entry in list_for_graph:\n",
    "    correlation = df['churn'].corr(df[entry])\n",
    "    print(f'Корреляция между churn и {entry} составляет: {correlation:0.2}')"
   ]
  },
  {
   "cell_type": "markdown",
   "metadata": {},
   "source": [
    "\n",
    "<div class=\"alert alert-warning\">\n",
    "<b>Комментарий ревьюера:</b>☀️Вот этот вывод можно тоже отсортировать, для удобства</div>\n"
   ]
  },
  {
   "cell_type": "markdown",
   "metadata": {},
   "source": [
    "<div class=\"alert alert-info\"> <b>Комментарий студента:</b>Надеюсь я все правильно понял. Отсортировал по убыванию</div>    "
   ]
  },
  {
   "cell_type": "markdown",
   "metadata": {},
   "source": [
    "\n",
    "<div class=\"alert alert-success\">\n",
    "<b>Комментарий ревьюера v2.0:</b>☀️Да, верно!</div>\n"
   ]
  },
  {
   "cell_type": "markdown",
   "metadata": {},
   "source": [
    "### Столбец `age`"
   ]
  },
  {
   "cell_type": "code",
   "execution_count": 38,
   "metadata": {},
   "outputs": [
    {
     "data": {
      "image/png": "[encoded data removed]",
      "text/plain": [
       "<Figure size 1080x432 with 1 Axes>"
      ]
     },
     "metadata": {
      "needs_background": "light"
     },
     "output_type": "display_data"
    },
    {
     "data": {
      "text/html": [
       "<div>\n",
       "<style scoped>\n",
       "    .dataframe tbody tr th:only-of-type {\n",
       "        vertical-align: middle;\n",
       "    }\n",
       "\n",
       "    .dataframe tbody tr th {\n",
       "        vertical-align: top;\n",
       "    }\n",
       "\n",
       "    .dataframe thead th {\n",
       "        text-align: right;\n",
       "    }\n",
       "</style>\n",
       "<table border=\"1\" class=\"dataframe\">\n",
       "  <thead>\n",
       "    <tr style=\"text-align: right;\">\n",
       "      <th></th>\n",
       "      <th>sum</th>\n",
       "      <th>count</th>\n",
       "      <th>percentage_of_churn</th>\n",
       "    </tr>\n",
       "    <tr>\n",
       "      <th>category_age</th>\n",
       "      <th></th>\n",
       "      <th></th>\n",
       "      <th></th>\n",
       "    </tr>\n",
       "  </thead>\n",
       "  <tbody>\n",
       "    <tr>\n",
       "      <th>46-62</th>\n",
       "      <td>611</td>\n",
       "      <td>2728</td>\n",
       "      <td>22.40</td>\n",
       "    </tr>\n",
       "    <tr>\n",
       "      <th>25-45</th>\n",
       "      <td>1140</td>\n",
       "      <td>6159</td>\n",
       "      <td>18.51</td>\n",
       "    </tr>\n",
       "    <tr>\n",
       "      <th>18-24</th>\n",
       "      <td>31</td>\n",
       "      <td>225</td>\n",
       "      <td>13.78</td>\n",
       "    </tr>\n",
       "    <tr>\n",
       "      <th>63+</th>\n",
       "      <td>32</td>\n",
       "      <td>750</td>\n",
       "      <td>4.27</td>\n",
       "    </tr>\n",
       "  </tbody>\n",
       "</table>\n",
       "</div>"
      ],
      "text/plain": [
       "               sum  count  percentage_of_churn\n",
       "category_age                                  \n",
       "46-62          611   2728                22.40\n",
       "25-45         1140   6159                18.51\n",
       "18-24           31    225                13.78\n",
       "63+             32    750                 4.27"
      ]
     },
     "execution_count": 38,
     "metadata": {},
     "output_type": "execute_result"
    }
   ],
   "source": [
    "#Напишем функцию, которая будет считать проценты ушедших \n",
    "def percentage_of_churn(pdDataFrame):\n",
    "    return round((pdDataFrame.sum() / pdDataFrame.count()) * 100, 2)\n",
    "\n",
    "age_pivot = df.pivot_table(index = ['category_age'], values='churn', aggfunc=['sum','count',percentage_of_churn])\n",
    "age_pivot.columns = age_pivot.columns.droplevel(level=1)\n",
    "\n",
    "age_pivot['percentage_of_churn'].plot(\n",
    "    kind='bar', \n",
    "    title = 'Процент ушедших клиентов в разбивке по возрастной категории',\n",
    "    xlabel = 'Возраст клиентов', \n",
    "    ylabel = 'Процент ушедших клиентов', figsize = (15,6), \n",
    "    color = 'lightskyblue'\n",
    "    );\n",
    "plt.show()\n",
    "age_pivot.sort_values(by='percentage_of_churn',ascending=False)"
   ]
  },
  {
   "cell_type": "markdown",
   "metadata": {},
   "source": [
    "**Промежуточный вывод:**\n",
    "<br>\n",
    "По графику видно, что наиболее отточная возрастная категория это люди 46-62 лет. Данная группа имеет более 20% отточности. Минимальное значение отточности у возрастной группы 63+ лет. Данная группа имеет менее 5% отточности"
   ]
  },
  {
   "cell_type": "markdown",
   "metadata": {},
   "source": [
    "### Столбец `equity`"
   ]
  },
  {
   "cell_type": "code",
   "execution_count": 39,
   "metadata": {},
   "outputs": [
    {
     "data": {
      "image/png": "[encoded data removed]",
      "text/plain": [
       "<Figure size 1080x432 with 1 Axes>"
      ]
     },
     "metadata": {
      "needs_background": "light"
     },
     "output_type": "display_data"
    },
    {
     "data": {
      "text/html": [
       "<div>\n",
       "<style scoped>\n",
       "    .dataframe tbody tr th:only-of-type {\n",
       "        vertical-align: middle;\n",
       "    }\n",
       "\n",
       "    .dataframe tbody tr th {\n",
       "        vertical-align: top;\n",
       "    }\n",
       "\n",
       "    .dataframe thead th {\n",
       "        text-align: right;\n",
       "    }\n",
       "</style>\n",
       "<table border=\"1\" class=\"dataframe\">\n",
       "  <thead>\n",
       "    <tr style=\"text-align: right;\">\n",
       "      <th></th>\n",
       "      <th>sum</th>\n",
       "      <th>count</th>\n",
       "      <th>percentage_of_churn</th>\n",
       "    </tr>\n",
       "    <tr>\n",
       "      <th>equity</th>\n",
       "      <th></th>\n",
       "      <th></th>\n",
       "      <th></th>\n",
       "    </tr>\n",
       "  </thead>\n",
       "  <tbody>\n",
       "    <tr>\n",
       "      <th>9</th>\n",
       "      <td>7</td>\n",
       "      <td>13</td>\n",
       "      <td>53.85</td>\n",
       "    </tr>\n",
       "    <tr>\n",
       "      <th>7</th>\n",
       "      <td>37</td>\n",
       "      <td>77</td>\n",
       "      <td>48.05</td>\n",
       "    </tr>\n",
       "    <tr>\n",
       "      <th>6</th>\n",
       "      <td>58</td>\n",
       "      <td>158</td>\n",
       "      <td>36.71</td>\n",
       "    </tr>\n",
       "    <tr>\n",
       "      <th>8</th>\n",
       "      <td>6</td>\n",
       "      <td>17</td>\n",
       "      <td>35.29</td>\n",
       "    </tr>\n",
       "    <tr>\n",
       "      <th>5</th>\n",
       "      <td>576</td>\n",
       "      <td>1903</td>\n",
       "      <td>30.27</td>\n",
       "    </tr>\n",
       "    <tr>\n",
       "      <th>4</th>\n",
       "      <td>464</td>\n",
       "      <td>1829</td>\n",
       "      <td>25.37</td>\n",
       "    </tr>\n",
       "    <tr>\n",
       "      <th>3</th>\n",
       "      <td>318</td>\n",
       "      <td>1518</td>\n",
       "      <td>20.95</td>\n",
       "    </tr>\n",
       "    <tr>\n",
       "      <th>2</th>\n",
       "      <td>165</td>\n",
       "      <td>1032</td>\n",
       "      <td>15.99</td>\n",
       "    </tr>\n",
       "    <tr>\n",
       "      <th>1</th>\n",
       "      <td>93</td>\n",
       "      <td>764</td>\n",
       "      <td>12.17</td>\n",
       "    </tr>\n",
       "    <tr>\n",
       "      <th>0</th>\n",
       "      <td>90</td>\n",
       "      <td>2551</td>\n",
       "      <td>3.53</td>\n",
       "    </tr>\n",
       "  </tbody>\n",
       "</table>\n",
       "</div>"
      ],
      "text/plain": [
       "        sum  count  percentage_of_churn\n",
       "equity                                 \n",
       "9         7     13                53.85\n",
       "7        37     77                48.05\n",
       "6        58    158                36.71\n",
       "8         6     17                35.29\n",
       "5       576   1903                30.27\n",
       "4       464   1829                25.37\n",
       "3       318   1518                20.95\n",
       "2       165   1032                15.99\n",
       "1        93    764                12.17\n",
       "0        90   2551                 3.53"
      ]
     },
     "execution_count": 39,
     "metadata": {},
     "output_type": "execute_result"
    }
   ],
   "source": [
    "equity_pivot = df.pivot_table(index = ['equity'], values='churn', aggfunc=['sum','count',percentage_of_churn])\n",
    "equity_pivot.columns = equity_pivot.columns.droplevel(level=1)\n",
    "\n",
    "equity_pivot['percentage_of_churn'].plot(\n",
    "    kind='bar', \n",
    "    title = 'Процент ушедших клиентов в разбивке по приблизительной оценки собственности клиента',\n",
    "    xlabel = 'Оценка собственности', \n",
    "    ylabel = 'Процент ушедших клиентов', figsize = (15,6), \n",
    "    color = 'lightskyblue'\n",
    "    );\n",
    "plt.show()\n",
    "equity_pivot.sort_values(by='percentage_of_churn',ascending=False)"
   ]
  },
  {
   "cell_type": "markdown",
   "metadata": {},
   "source": [
    "**Промежуточный вывод**\n",
    "<br>\n",
    "При помощи графика можно наблюдать почти прямую зависимость отточности от приблизительной оценки собственности. Чем выше оценка собственности клиента, тем выше отточность. При оценке в 9 отточность более 50%"
   ]
  },
  {
   "cell_type": "markdown",
   "metadata": {},
   "source": [
    "### Столбец `score`"
   ]
  },
  {
   "cell_type": "code",
   "execution_count": 40,
   "metadata": {},
   "outputs": [
    {
     "data": {
      "image/png": "[encoded data removed]",
      "text/plain": [
       "<Figure size 1080x432 with 1 Axes>"
      ]
     },
     "metadata": {
      "needs_background": "light"
     },
     "output_type": "display_data"
    },
    {
     "data": {
      "text/html": [
       "<div>\n",
       "<style scoped>\n",
       "    .dataframe tbody tr th:only-of-type {\n",
       "        vertical-align: middle;\n",
       "    }\n",
       "\n",
       "    .dataframe tbody tr th {\n",
       "        vertical-align: top;\n",
       "    }\n",
       "\n",
       "    .dataframe thead th {\n",
       "        text-align: right;\n",
       "    }\n",
       "</style>\n",
       "<table border=\"1\" class=\"dataframe\">\n",
       "  <thead>\n",
       "    <tr style=\"text-align: right;\">\n",
       "      <th></th>\n",
       "      <th>sum</th>\n",
       "      <th>count</th>\n",
       "      <th>percentage_of_churn</th>\n",
       "    </tr>\n",
       "    <tr>\n",
       "      <th>score</th>\n",
       "      <th></th>\n",
       "      <th></th>\n",
       "      <th></th>\n",
       "    </tr>\n",
       "  </thead>\n",
       "  <tbody>\n",
       "    <tr>\n",
       "      <th>999</th>\n",
       "      <td>1</td>\n",
       "      <td>2</td>\n",
       "      <td>50.00</td>\n",
       "    </tr>\n",
       "    <tr>\n",
       "      <th>984</th>\n",
       "      <td>1</td>\n",
       "      <td>2</td>\n",
       "      <td>50.00</td>\n",
       "    </tr>\n",
       "    <tr>\n",
       "      <th>980</th>\n",
       "      <td>1</td>\n",
       "      <td>4</td>\n",
       "      <td>25.00</td>\n",
       "    </tr>\n",
       "    <tr>\n",
       "      <th>970</th>\n",
       "      <td>1</td>\n",
       "      <td>4</td>\n",
       "      <td>25.00</td>\n",
       "    </tr>\n",
       "    <tr>\n",
       "      <th>974</th>\n",
       "      <td>1</td>\n",
       "      <td>5</td>\n",
       "      <td>20.00</td>\n",
       "    </tr>\n",
       "    <tr>\n",
       "      <th>1000</th>\n",
       "      <td>1</td>\n",
       "      <td>6</td>\n",
       "      <td>16.67</td>\n",
       "    </tr>\n",
       "    <tr>\n",
       "      <th>707</th>\n",
       "      <td>1</td>\n",
       "      <td>6</td>\n",
       "      <td>16.67</td>\n",
       "    </tr>\n",
       "    <tr>\n",
       "      <th>988</th>\n",
       "      <td>1</td>\n",
       "      <td>6</td>\n",
       "      <td>16.67</td>\n",
       "    </tr>\n",
       "    <tr>\n",
       "      <th>990</th>\n",
       "      <td>1</td>\n",
       "      <td>7</td>\n",
       "      <td>14.29</td>\n",
       "    </tr>\n",
       "    <tr>\n",
       "      <th>730</th>\n",
       "      <td>1</td>\n",
       "      <td>8</td>\n",
       "      <td>12.50</td>\n",
       "    </tr>\n",
       "    <tr>\n",
       "      <th>736</th>\n",
       "      <td>1</td>\n",
       "      <td>8</td>\n",
       "      <td>12.50</td>\n",
       "    </tr>\n",
       "    <tr>\n",
       "      <th>972</th>\n",
       "      <td>1</td>\n",
       "      <td>8</td>\n",
       "      <td>12.50</td>\n",
       "    </tr>\n",
       "    <tr>\n",
       "      <th>728</th>\n",
       "      <td>1</td>\n",
       "      <td>9</td>\n",
       "      <td>11.11</td>\n",
       "    </tr>\n",
       "    <tr>\n",
       "      <th>963</th>\n",
       "      <td>1</td>\n",
       "      <td>9</td>\n",
       "      <td>11.11</td>\n",
       "    </tr>\n",
       "    <tr>\n",
       "      <th>706</th>\n",
       "      <td>1</td>\n",
       "      <td>11</td>\n",
       "      <td>9.09</td>\n",
       "    </tr>\n",
       "    <tr>\n",
       "      <th>749</th>\n",
       "      <td>1</td>\n",
       "      <td>11</td>\n",
       "      <td>9.09</td>\n",
       "    </tr>\n",
       "    <tr>\n",
       "      <th>727</th>\n",
       "      <td>1</td>\n",
       "      <td>11</td>\n",
       "      <td>9.09</td>\n",
       "    </tr>\n",
       "    <tr>\n",
       "      <th>750</th>\n",
       "      <td>1</td>\n",
       "      <td>12</td>\n",
       "      <td>8.33</td>\n",
       "    </tr>\n",
       "    <tr>\n",
       "      <th>955</th>\n",
       "      <td>1</td>\n",
       "      <td>12</td>\n",
       "      <td>8.33</td>\n",
       "    </tr>\n",
       "    <tr>\n",
       "      <th>737</th>\n",
       "      <td>1</td>\n",
       "      <td>13</td>\n",
       "      <td>7.69</td>\n",
       "    </tr>\n",
       "    <tr>\n",
       "      <th>739</th>\n",
       "      <td>1</td>\n",
       "      <td>13</td>\n",
       "      <td>7.69</td>\n",
       "    </tr>\n",
       "    <tr>\n",
       "      <th>745</th>\n",
       "      <td>1</td>\n",
       "      <td>13</td>\n",
       "      <td>7.69</td>\n",
       "    </tr>\n",
       "    <tr>\n",
       "      <th>958</th>\n",
       "      <td>1</td>\n",
       "      <td>13</td>\n",
       "      <td>7.69</td>\n",
       "    </tr>\n",
       "    <tr>\n",
       "      <th>733</th>\n",
       "      <td>1</td>\n",
       "      <td>14</td>\n",
       "      <td>7.14</td>\n",
       "    </tr>\n",
       "    <tr>\n",
       "      <th>747</th>\n",
       "      <td>1</td>\n",
       "      <td>14</td>\n",
       "      <td>7.14</td>\n",
       "    </tr>\n",
       "    <tr>\n",
       "      <th>945</th>\n",
       "      <td>1</td>\n",
       "      <td>17</td>\n",
       "      <td>5.88</td>\n",
       "    </tr>\n",
       "    <tr>\n",
       "      <th>756</th>\n",
       "      <td>1</td>\n",
       "      <td>18</td>\n",
       "      <td>5.56</td>\n",
       "    </tr>\n",
       "    <tr>\n",
       "      <th>947</th>\n",
       "      <td>1</td>\n",
       "      <td>19</td>\n",
       "      <td>5.26</td>\n",
       "    </tr>\n",
       "    <tr>\n",
       "      <th>743</th>\n",
       "      <td>1</td>\n",
       "      <td>19</td>\n",
       "      <td>5.26</td>\n",
       "    </tr>\n",
       "    <tr>\n",
       "      <th>754</th>\n",
       "      <td>1</td>\n",
       "      <td>23</td>\n",
       "      <td>4.35</td>\n",
       "    </tr>\n",
       "    <tr>\n",
       "      <th>760</th>\n",
       "      <td>1</td>\n",
       "      <td>24</td>\n",
       "      <td>4.17</td>\n",
       "    </tr>\n",
       "    <tr>\n",
       "      <th>770</th>\n",
       "      <td>1</td>\n",
       "      <td>24</td>\n",
       "      <td>4.17</td>\n",
       "    </tr>\n",
       "    <tr>\n",
       "      <th>764</th>\n",
       "      <td>1</td>\n",
       "      <td>25</td>\n",
       "      <td>4.00</td>\n",
       "    </tr>\n",
       "    <tr>\n",
       "      <th>771</th>\n",
       "      <td>1</td>\n",
       "      <td>31</td>\n",
       "      <td>3.23</td>\n",
       "    </tr>\n",
       "    <tr>\n",
       "      <th>769</th>\n",
       "      <td>1</td>\n",
       "      <td>34</td>\n",
       "      <td>2.94</td>\n",
       "    </tr>\n",
       "  </tbody>\n",
       "</table>\n",
       "</div>"
      ],
      "text/plain": [
       "       sum  count  percentage_of_churn\n",
       "score                                 \n",
       "999      1      2                50.00\n",
       "984      1      2                50.00\n",
       "980      1      4                25.00\n",
       "970      1      4                25.00\n",
       "974      1      5                20.00\n",
       "1000     1      6                16.67\n",
       "707      1      6                16.67\n",
       "988      1      6                16.67\n",
       "990      1      7                14.29\n",
       "730      1      8                12.50\n",
       "736      1      8                12.50\n",
       "972      1      8                12.50\n",
       "728      1      9                11.11\n",
       "963      1      9                11.11\n",
       "706      1     11                 9.09\n",
       "749      1     11                 9.09\n",
       "727      1     11                 9.09\n",
       "750      1     12                 8.33\n",
       "955      1     12                 8.33\n",
       "737      1     13                 7.69\n",
       "739      1     13                 7.69\n",
       "745      1     13                 7.69\n",
       "958      1     13                 7.69\n",
       "733      1     14                 7.14\n",
       "747      1     14                 7.14\n",
       "945      1     17                 5.88\n",
       "756      1     18                 5.56\n",
       "947      1     19                 5.26\n",
       "743      1     19                 5.26\n",
       "754      1     23                 4.35\n",
       "760      1     24                 4.17\n",
       "770      1     24                 4.17\n",
       "764      1     25                 4.00\n",
       "771      1     31                 3.23\n",
       "769      1     34                 2.94"
      ]
     },
     "execution_count": 40,
     "metadata": {},
     "output_type": "execute_result"
    }
   ],
   "source": [
    "score_pivot = df.pivot_table(index = ['score'], values='churn', aggfunc=['sum','count',percentage_of_churn])\n",
    "score_pivot.columns = score_pivot.columns.droplevel(level=1)\n",
    "score_pivot = score_pivot[score_pivot['sum']==1]\n",
    "\n",
    "score_pivot['percentage_of_churn'].plot(\n",
    "    kind='bar', \n",
    "    title = 'Процент ушедших клиентов в разбивке по кредитному скорингу',\n",
    "    xlabel = 'Кредитный скоринг', \n",
    "    ylabel = 'Процент ушедших клиентов', figsize = (15,6), \n",
    "    color = 'lightskyblue'\n",
    "    );\n",
    "\n",
    "plt.show()\n",
    "score_pivot.sort_values(by='percentage_of_churn', ascending=False)"
   ]
  },
  {
   "cell_type": "markdown",
   "metadata": {},
   "source": [
    "**Промежуточный вывод**\n",
    "<br>\n",
    "Сразу хочется отметить, что клиенты уходят из банка с кредитным скорингом не меньше  706 баллов. На графике мы видим определенный тренд, что после достижения отметки в 769 баллов начинает расти процент отточных клиентов. "
   ]
  },
  {
   "cell_type": "markdown",
   "metadata": {},
   "source": [
    "### Столбец `products`"
   ]
  },
  {
   "cell_type": "code",
   "execution_count": 41,
   "metadata": {},
   "outputs": [
    {
     "data": {
      "image/png": "[encoded data removed]",
      "text/plain": [
       "<Figure size 1080x432 with 1 Axes>"
      ]
     },
     "metadata": {
      "needs_background": "light"
     },
     "output_type": "display_data"
    },
    {
     "data": {
      "text/html": [
       "<div>\n",
       "<style scoped>\n",
       "    .dataframe tbody tr th:only-of-type {\n",
       "        vertical-align: middle;\n",
       "    }\n",
       "\n",
       "    .dataframe tbody tr th {\n",
       "        vertical-align: top;\n",
       "    }\n",
       "\n",
       "    .dataframe thead th {\n",
       "        text-align: right;\n",
       "    }\n",
       "</style>\n",
       "<table border=\"1\" class=\"dataframe\">\n",
       "  <thead>\n",
       "    <tr style=\"text-align: right;\">\n",
       "      <th></th>\n",
       "      <th>sum</th>\n",
       "      <th>count</th>\n",
       "      <th>percentage_of_churn</th>\n",
       "    </tr>\n",
       "    <tr>\n",
       "      <th>products</th>\n",
       "      <th></th>\n",
       "      <th></th>\n",
       "      <th></th>\n",
       "    </tr>\n",
       "  </thead>\n",
       "  <tbody>\n",
       "    <tr>\n",
       "      <th>4</th>\n",
       "      <td>300</td>\n",
       "      <td>470</td>\n",
       "      <td>63.83</td>\n",
       "    </tr>\n",
       "    <tr>\n",
       "      <th>5</th>\n",
       "      <td>8</td>\n",
       "      <td>19</td>\n",
       "      <td>42.11</td>\n",
       "    </tr>\n",
       "    <tr>\n",
       "      <th>3</th>\n",
       "      <td>296</td>\n",
       "      <td>1018</td>\n",
       "      <td>29.08</td>\n",
       "    </tr>\n",
       "    <tr>\n",
       "      <th>2</th>\n",
       "      <td>976</td>\n",
       "      <td>5062</td>\n",
       "      <td>19.28</td>\n",
       "    </tr>\n",
       "    <tr>\n",
       "      <th>1</th>\n",
       "      <td>234</td>\n",
       "      <td>3293</td>\n",
       "      <td>7.11</td>\n",
       "    </tr>\n",
       "  </tbody>\n",
       "</table>\n",
       "</div>"
      ],
      "text/plain": [
       "          sum  count  percentage_of_churn\n",
       "products                                 \n",
       "4         300    470                63.83\n",
       "5           8     19                42.11\n",
       "3         296   1018                29.08\n",
       "2         976   5062                19.28\n",
       "1         234   3293                 7.11"
      ]
     },
     "execution_count": 41,
     "metadata": {},
     "output_type": "execute_result"
    }
   ],
   "source": [
    "products_pivot = df.pivot_table(index = ['products'], values='churn', aggfunc=['sum','count',percentage_of_churn])\n",
    "products_pivot.columns = products_pivot.columns.droplevel(level=1)\n",
    "products_pivot['percentage_of_churn'].plot(\n",
    "    kind='bar', \n",
    "    title = 'Процент ушедших клиентов в разбивке по количеству продуктов банка',\n",
    "    xlabel = 'Количество продуктов', \n",
    "    ylabel = 'Процент ушедших клиентов', figsize = (15,6), \n",
    "    color = 'lightskyblue'\n",
    "    );\n",
    "\n",
    "plt.show()\n",
    "products_pivot.sort_values(by='percentage_of_churn',ascending=False)"
   ]
  },
  {
   "cell_type": "markdown",
   "metadata": {},
   "source": [
    "**Промежуточный вывод**\n",
    "<br>\n",
    "Видно прямую зависимость (до 4 продукта). Чем больше количество продуктов банка, тем выше процент ушедших клиентов. Возможно это можно обосновать тем, что банк может качественно обслуживать клиентов с 1-2 продуктами, а дальше при увеличении количества продуктов банка качество обслуживания снижается. Но тогда непонятно почему после 4 продукта процент ушедших снижается. Можно сделать предположение, что это клиенты, которым обслуживание продуктов не так важно, как сам функционал предлагаемых продуктов. К тому же стоит отметить, что количество клиентов с 5 продуктами банка довольно маленькое."
   ]
  },
  {
   "cell_type": "markdown",
   "metadata": {},
   "source": [
    "### Столбец `credit_card`"
   ]
  },
  {
   "cell_type": "code",
   "execution_count": 42,
   "metadata": {},
   "outputs": [
    {
     "data": {
      "image/png": "[encoded data removed]",
      "text/plain": [
       "<Figure size 1080x432 with 1 Axes>"
      ]
     },
     "metadata": {
      "needs_background": "light"
     },
     "output_type": "display_data"
    },
    {
     "data": {
      "text/html": [
       "<div>\n",
       "<style scoped>\n",
       "    .dataframe tbody tr th:only-of-type {\n",
       "        vertical-align: middle;\n",
       "    }\n",
       "\n",
       "    .dataframe tbody tr th {\n",
       "        vertical-align: top;\n",
       "    }\n",
       "\n",
       "    .dataframe thead th {\n",
       "        text-align: right;\n",
       "    }\n",
       "</style>\n",
       "<table border=\"1\" class=\"dataframe\">\n",
       "  <thead>\n",
       "    <tr style=\"text-align: right;\">\n",
       "      <th></th>\n",
       "      <th>sum</th>\n",
       "      <th>count</th>\n",
       "      <th>percentage_of_churn</th>\n",
       "    </tr>\n",
       "    <tr>\n",
       "      <th>credit_card</th>\n",
       "      <th></th>\n",
       "      <th></th>\n",
       "      <th></th>\n",
       "    </tr>\n",
       "  </thead>\n",
       "  <tbody>\n",
       "    <tr>\n",
       "      <th>0</th>\n",
       "      <td>815</td>\n",
       "      <td>3156</td>\n",
       "      <td>25.82</td>\n",
       "    </tr>\n",
       "    <tr>\n",
       "      <th>1</th>\n",
       "      <td>999</td>\n",
       "      <td>6706</td>\n",
       "      <td>14.90</td>\n",
       "    </tr>\n",
       "  </tbody>\n",
       "</table>\n",
       "</div>"
      ],
      "text/plain": [
       "             sum  count  percentage_of_churn\n",
       "credit_card                                 \n",
       "0            815   3156                25.82\n",
       "1            999   6706                14.90"
      ]
     },
     "execution_count": 42,
     "metadata": {},
     "output_type": "execute_result"
    }
   ],
   "source": [
    "credit_card_pivot = df.pivot_table(index = ['credit_card'], values='churn', aggfunc=['sum','count',percentage_of_churn])\n",
    "credit_card_pivot.columns = credit_card_pivot.columns.droplevel(level=1)\n",
    "credit_card_pivot['percentage_of_churn'].plot(\n",
    "    kind='bar', \n",
    "    title = 'Процент ушедших клиентов в разбивке по наличию кредитной карты',\n",
    "    xlabel = 'Наличие кредитной карты', \n",
    "    ylabel = 'Процент ушедших клиентов', figsize = (15,6), \n",
    "    color = 'lightskyblue'\n",
    "    );\n",
    "\n",
    "plt.show()\n",
    "credit_card_pivot.sort_values(by='percentage_of_churn',ascending=False)"
   ]
  },
  {
   "cell_type": "markdown",
   "metadata": {},
   "source": [
    "**Промежуточный вывод**\n",
    "<br>\n",
    "Интересно, что процент ушедших пользователей у которых не было в наличии кредитной карты выше, чем процент ушедних пользователей с кредитной картой"
   ]
  },
  {
   "cell_type": "markdown",
   "metadata": {},
   "source": [
    "### Столбец `last_activity`"
   ]
  },
  {
   "cell_type": "code",
   "execution_count": 43,
   "metadata": {},
   "outputs": [
    {
     "data": {
      "image/png": "[encoded data removed]",
      "text/plain": [
       "<Figure size 1080x432 with 1 Axes>"
      ]
     },
     "metadata": {
      "needs_background": "light"
     },
     "output_type": "display_data"
    },
    {
     "data": {
      "text/html": [
       "<div>\n",
       "<style scoped>\n",
       "    .dataframe tbody tr th:only-of-type {\n",
       "        vertical-align: middle;\n",
       "    }\n",
       "\n",
       "    .dataframe tbody tr th {\n",
       "        vertical-align: top;\n",
       "    }\n",
       "\n",
       "    .dataframe thead th {\n",
       "        text-align: right;\n",
       "    }\n",
       "</style>\n",
       "<table border=\"1\" class=\"dataframe\">\n",
       "  <thead>\n",
       "    <tr style=\"text-align: right;\">\n",
       "      <th></th>\n",
       "      <th>sum</th>\n",
       "      <th>count</th>\n",
       "      <th>percentage_of_churn</th>\n",
       "    </tr>\n",
       "    <tr>\n",
       "      <th>last_activity</th>\n",
       "      <th></th>\n",
       "      <th></th>\n",
       "      <th></th>\n",
       "    </tr>\n",
       "  </thead>\n",
       "  <tbody>\n",
       "    <tr>\n",
       "      <th>1</th>\n",
       "      <td>1276</td>\n",
       "      <td>5161</td>\n",
       "      <td>24.72</td>\n",
       "    </tr>\n",
       "    <tr>\n",
       "      <th>0</th>\n",
       "      <td>538</td>\n",
       "      <td>4701</td>\n",
       "      <td>11.44</td>\n",
       "    </tr>\n",
       "  </tbody>\n",
       "</table>\n",
       "</div>"
      ],
      "text/plain": [
       "                sum  count  percentage_of_churn\n",
       "last_activity                                  \n",
       "1              1276   5161                24.72\n",
       "0               538   4701                11.44"
      ]
     },
     "execution_count": 43,
     "metadata": {},
     "output_type": "execute_result"
    }
   ],
   "source": [
    "last_activity_pivot = df.pivot_table(index = ['last_activity'], values='churn', aggfunc=['sum','count',percentage_of_churn])\n",
    "last_activity_pivot.columns = last_activity_pivot.columns.droplevel(level=1)\n",
    "last_activity_pivot['percentage_of_churn'].plot(\n",
    "    kind='bar', \n",
    "    title = 'Процент ушедших клиентов в разбивке по наличию активности клиента',\n",
    "    xlabel = 'Наличие активности клиента', \n",
    "    ylabel = 'Процент ушедших клиентов', figsize = (15,6), \n",
    "    color = 'lightskyblue'\n",
    "    );\n",
    "\n",
    "plt.show()\n",
    "last_activity_pivot.sort_values(by='percentage_of_churn',ascending=False)"
   ]
  },
  {
   "cell_type": "markdown",
   "metadata": {},
   "source": [
    "**Промежуточный вывод**\n",
    "<br>\n",
    "Процент ушедших пользователей у которых была за последний месяц более чем в два раза выше, чем процент ушедших пользователей, которые никак не взаимодействовали с банком. Возможно, данная особенность связана с качеством обслуживания и взаимодействия клиентов с банком"
   ]
  },
  {
   "cell_type": "markdown",
   "metadata": {},
   "source": [
    "### Пол клиента. Столбцы `female`,`male`"
   ]
  },
  {
   "cell_type": "code",
   "execution_count": 44,
   "metadata": {},
   "outputs": [
    {
     "data": {
      "image/png": "[encoded data removed]",
      "text/plain": [
       "<Figure size 1080x432 with 1 Axes>"
      ]
     },
     "metadata": {
      "needs_background": "light"
     },
     "output_type": "display_data"
    },
    {
     "data": {
      "text/html": [
       "<div>\n",
       "<style scoped>\n",
       "    .dataframe tbody tr th:only-of-type {\n",
       "        vertical-align: middle;\n",
       "    }\n",
       "\n",
       "    .dataframe tbody tr th {\n",
       "        vertical-align: top;\n",
       "    }\n",
       "\n",
       "    .dataframe thead th {\n",
       "        text-align: right;\n",
       "    }\n",
       "</style>\n",
       "<table border=\"1\" class=\"dataframe\">\n",
       "  <thead>\n",
       "    <tr style=\"text-align: right;\">\n",
       "      <th></th>\n",
       "      <th>sum</th>\n",
       "      <th>count</th>\n",
       "      <th>percentage_of_churn</th>\n",
       "    </tr>\n",
       "    <tr>\n",
       "      <th>gender</th>\n",
       "      <th></th>\n",
       "      <th></th>\n",
       "      <th></th>\n",
       "    </tr>\n",
       "  </thead>\n",
       "  <tbody>\n",
       "    <tr>\n",
       "      <th>М</th>\n",
       "      <td>1180</td>\n",
       "      <td>4950</td>\n",
       "      <td>23.84</td>\n",
       "    </tr>\n",
       "    <tr>\n",
       "      <th>Ж</th>\n",
       "      <td>634</td>\n",
       "      <td>4912</td>\n",
       "      <td>12.91</td>\n",
       "    </tr>\n",
       "  </tbody>\n",
       "</table>\n",
       "</div>"
      ],
      "text/plain": [
       "         sum  count  percentage_of_churn\n",
       "gender                                  \n",
       "М       1180   4950                23.84\n",
       "Ж        634   4912                12.91"
      ]
     },
     "execution_count": 44,
     "metadata": {},
     "output_type": "execute_result"
    }
   ],
   "source": [
    "gender_pivot = df.pivot_table(index = ['gender'], values='churn', aggfunc=['sum','count',percentage_of_churn])\n",
    "gender_pivot.columns = gender_pivot.columns.droplevel(level=1)\n",
    "gender_pivot['percentage_of_churn'].plot(\n",
    "    kind='bar', \n",
    "    title = 'Процент ушедших клиентов в разбивке по полу клиента',\n",
    "    xlabel = 'Пол клиента', \n",
    "    ylabel = 'Процент ушедших клиентов', figsize = (15,6), \n",
    "    color = 'lightskyblue'\n",
    "    );\n",
    "\n",
    "plt.show()\n",
    "gender_pivot.sort_values(by='percentage_of_churn',ascending=False)"
   ]
  },
  {
   "cell_type": "markdown",
   "metadata": {},
   "source": [
    "**Промежуточный вывод**\n",
    "<br>\n",
    "Процент отточных мужчин почти в два раза выше, чем процент отточных женщин."
   ]
  },
  {
   "cell_type": "markdown",
   "metadata": {},
   "source": [
    "### Город"
   ]
  },
  {
   "cell_type": "markdown",
   "metadata": {},
   "source": [
    "На тепловой карте корреляций этот параметр не указан, однако он важен для формирование портретов и сегментации клиентов "
   ]
  },
  {
   "cell_type": "code",
   "execution_count": 45,
   "metadata": {},
   "outputs": [
    {
     "data": {
      "image/png": "[encoded data removed]",
      "text/plain": [
       "<Figure size 1080x432 with 1 Axes>"
      ]
     },
     "metadata": {
      "needs_background": "light"
     },
     "output_type": "display_data"
    },
    {
     "data": {
      "text/html": [
       "<div>\n",
       "<style scoped>\n",
       "    .dataframe tbody tr th:only-of-type {\n",
       "        vertical-align: middle;\n",
       "    }\n",
       "\n",
       "    .dataframe tbody tr th {\n",
       "        vertical-align: top;\n",
       "    }\n",
       "\n",
       "    .dataframe thead th {\n",
       "        text-align: right;\n",
       "    }\n",
       "</style>\n",
       "<table border=\"1\" class=\"dataframe\">\n",
       "  <thead>\n",
       "    <tr style=\"text-align: right;\">\n",
       "      <th></th>\n",
       "      <th>sum</th>\n",
       "      <th>count</th>\n",
       "      <th>percentage_of_churn</th>\n",
       "    </tr>\n",
       "    <tr>\n",
       "      <th>city</th>\n",
       "      <th></th>\n",
       "      <th></th>\n",
       "      <th></th>\n",
       "    </tr>\n",
       "  </thead>\n",
       "  <tbody>\n",
       "    <tr>\n",
       "      <th>Ярославль</th>\n",
       "      <td>1117</td>\n",
       "      <td>5835</td>\n",
       "      <td>19.14</td>\n",
       "    </tr>\n",
       "    <tr>\n",
       "      <th>Ростов</th>\n",
       "      <td>262</td>\n",
       "      <td>1397</td>\n",
       "      <td>18.75</td>\n",
       "    </tr>\n",
       "    <tr>\n",
       "      <th>Рыбинск</th>\n",
       "      <td>435</td>\n",
       "      <td>2630</td>\n",
       "      <td>16.54</td>\n",
       "    </tr>\n",
       "  </tbody>\n",
       "</table>\n",
       "</div>"
      ],
      "text/plain": [
       "            sum  count  percentage_of_churn\n",
       "city                                       \n",
       "Ярославль  1117   5835                19.14\n",
       "Ростов      262   1397                18.75\n",
       "Рыбинск     435   2630                16.54"
      ]
     },
     "execution_count": 45,
     "metadata": {},
     "output_type": "execute_result"
    }
   ],
   "source": [
    "city_pivot = df.pivot_table(index = ['city'], values='churn', aggfunc=['sum','count',percentage_of_churn])\n",
    "city_pivot.columns = city_pivot.columns.droplevel(level=1)\n",
    "city_pivot['percentage_of_churn'].plot(\n",
    "    kind='bar', \n",
    "    title = 'Процент ушедших клиентов в разбивке по городу',\n",
    "    xlabel = 'Город', \n",
    "    ylabel = 'Процент ушедших клиентов', figsize = (15,6), \n",
    "    color = 'lightskyblue'\n",
    "    );\n",
    "\n",
    "plt.show()\n",
    "city_pivot.sort_values(by='percentage_of_churn',ascending=False)"
   ]
  },
  {
   "cell_type": "markdown",
   "metadata": {},
   "source": [
    "**Промежуточный вывод**\n",
    "<br>\n",
    "Наиболее отточные клиенты находятся в Ярославле. Однако относительная разница процентов ушедних клиентов в разбивке по городам незначительна, так что можно считать, что отток пользователей происходит равномерно"
   ]
  },
  {
   "cell_type": "markdown",
   "metadata": {},
   "source": [
    "\n",
    "<div class=\"alert alert-success\">\n",
    "<b>Комментарий ревьюера:</b>☀️В принципе, с выводами согласна ;)</div>\n"
   ]
  },
  {
   "cell_type": "markdown",
   "metadata": {},
   "source": [
    "### Формирование портретов отточных клиентов\n",
    "<br>\n",
    "На основе корреляционного анализа и анализа распределений составим портреты отточных пользователей"
   ]
  },
  {
   "cell_type": "markdown",
   "metadata": {},
   "source": [
    "### Портрет №1"
   ]
  },
  {
   "cell_type": "markdown",
   "metadata": {},
   "source": [
    "\n",
    "<div class=\"alert alert-warning\">\n",
    "<b>Комментарий ревьюера:</b>☀️Только не портер, а портрет :)</div>\n"
   ]
  },
  {
   "cell_type": "markdown",
   "metadata": {},
   "source": [
    "<div class=\"alert alert-info\"> <b>Комментарий студента:</b> Упс... </div>    "
   ]
  },
  {
   "cell_type": "markdown",
   "metadata": {},
   "source": [
    "\n",
    "<div class=\"alert alert-success\">\n",
    "<b>Комментарий ревьюера v2.0:</b>☀️Только не портрер, а портрет)))</div>\n"
   ]
  },
  {
   "cell_type": "markdown",
   "metadata": {},
   "source": [
    "- Возраст: 46-62\n",
    "- Оценка собственности: 5 \n",
    "- Кредитный скоринг: выше 770\n",
    "- Количество продуктов банка: больше 3 \n",
    "- Наличие кредитной карты: нет\n",
    "- Наличие активности клиента: да\n",
    "- Пол клиента: мужской\n",
    "- Город: любой"
   ]
  },
  {
   "cell_type": "code",
   "execution_count": 46,
   "metadata": {},
   "outputs": [
    {
     "name": "stdout",
     "output_type": "stream",
     "text": [
      "Количество клиентов в портрете: 18\n"
     ]
    },
    {
     "data": {
      "text/html": [
       "<div>\n",
       "<style scoped>\n",
       "    .dataframe tbody tr th:only-of-type {\n",
       "        vertical-align: middle;\n",
       "    }\n",
       "\n",
       "    .dataframe tbody tr th {\n",
       "        vertical-align: top;\n",
       "    }\n",
       "\n",
       "    .dataframe thead th {\n",
       "        text-align: right;\n",
       "    }\n",
       "</style>\n",
       "<table border=\"1\" class=\"dataframe\">\n",
       "  <thead>\n",
       "    <tr style=\"text-align: right;\">\n",
       "      <th></th>\n",
       "      <th>userid</th>\n",
       "      <th>score</th>\n",
       "      <th>city</th>\n",
       "      <th>gender</th>\n",
       "      <th>age</th>\n",
       "      <th>equity</th>\n",
       "      <th>balance</th>\n",
       "      <th>products</th>\n",
       "      <th>credit_card</th>\n",
       "      <th>last_activity</th>\n",
       "      <th>...</th>\n",
       "      <th>Ростов</th>\n",
       "      <th>Рыбинск</th>\n",
       "      <th>Ярославль</th>\n",
       "      <th>female</th>\n",
       "      <th>male</th>\n",
       "      <th>category_age</th>\n",
       "      <th>18-24</th>\n",
       "      <th>25-45</th>\n",
       "      <th>46-62</th>\n",
       "      <th>63+</th>\n",
       "    </tr>\n",
       "  </thead>\n",
       "  <tbody>\n",
       "    <tr>\n",
       "      <th>399</th>\n",
       "      <td>212030</td>\n",
       "      <td>867</td>\n",
       "      <td>Ярославль</td>\n",
       "      <td>М</td>\n",
       "      <td>59</td>\n",
       "      <td>5</td>\n",
       "      <td>851896.68</td>\n",
       "      <td>3</td>\n",
       "      <td>0</td>\n",
       "      <td>1</td>\n",
       "      <td>...</td>\n",
       "      <td>0</td>\n",
       "      <td>0</td>\n",
       "      <td>1</td>\n",
       "      <td>0</td>\n",
       "      <td>1</td>\n",
       "      <td>46-62</td>\n",
       "      <td>0</td>\n",
       "      <td>0</td>\n",
       "      <td>1</td>\n",
       "      <td>0</td>\n",
       "    </tr>\n",
       "    <tr>\n",
       "      <th>1291</th>\n",
       "      <td>131565</td>\n",
       "      <td>826</td>\n",
       "      <td>Ярославль</td>\n",
       "      <td>М</td>\n",
       "      <td>60</td>\n",
       "      <td>5</td>\n",
       "      <td>737821.34</td>\n",
       "      <td>3</td>\n",
       "      <td>0</td>\n",
       "      <td>1</td>\n",
       "      <td>...</td>\n",
       "      <td>0</td>\n",
       "      <td>0</td>\n",
       "      <td>1</td>\n",
       "      <td>0</td>\n",
       "      <td>1</td>\n",
       "      <td>46-62</td>\n",
       "      <td>0</td>\n",
       "      <td>0</td>\n",
       "      <td>1</td>\n",
       "      <td>0</td>\n",
       "    </tr>\n",
       "    <tr>\n",
       "      <th>1419</th>\n",
       "      <td>220656</td>\n",
       "      <td>899</td>\n",
       "      <td>Ярославль</td>\n",
       "      <td>М</td>\n",
       "      <td>59</td>\n",
       "      <td>5</td>\n",
       "      <td>1682723.25</td>\n",
       "      <td>3</td>\n",
       "      <td>0</td>\n",
       "      <td>1</td>\n",
       "      <td>...</td>\n",
       "      <td>0</td>\n",
       "      <td>0</td>\n",
       "      <td>1</td>\n",
       "      <td>0</td>\n",
       "      <td>1</td>\n",
       "      <td>46-62</td>\n",
       "      <td>0</td>\n",
       "      <td>0</td>\n",
       "      <td>1</td>\n",
       "      <td>0</td>\n",
       "    </tr>\n",
       "    <tr>\n",
       "      <th>1709</th>\n",
       "      <td>167518</td>\n",
       "      <td>870</td>\n",
       "      <td>Ярославль</td>\n",
       "      <td>М</td>\n",
       "      <td>52</td>\n",
       "      <td>5</td>\n",
       "      <td>775269.74</td>\n",
       "      <td>3</td>\n",
       "      <td>0</td>\n",
       "      <td>1</td>\n",
       "      <td>...</td>\n",
       "      <td>0</td>\n",
       "      <td>0</td>\n",
       "      <td>1</td>\n",
       "      <td>0</td>\n",
       "      <td>1</td>\n",
       "      <td>46-62</td>\n",
       "      <td>0</td>\n",
       "      <td>0</td>\n",
       "      <td>1</td>\n",
       "      <td>0</td>\n",
       "    </tr>\n",
       "    <tr>\n",
       "      <th>2616</th>\n",
       "      <td>150673</td>\n",
       "      <td>978</td>\n",
       "      <td>Рыбинск</td>\n",
       "      <td>М</td>\n",
       "      <td>53</td>\n",
       "      <td>6</td>\n",
       "      <td>2582959.96</td>\n",
       "      <td>4</td>\n",
       "      <td>0</td>\n",
       "      <td>1</td>\n",
       "      <td>...</td>\n",
       "      <td>0</td>\n",
       "      <td>1</td>\n",
       "      <td>0</td>\n",
       "      <td>0</td>\n",
       "      <td>1</td>\n",
       "      <td>46-62</td>\n",
       "      <td>0</td>\n",
       "      <td>0</td>\n",
       "      <td>1</td>\n",
       "      <td>0</td>\n",
       "    </tr>\n",
       "    <tr>\n",
       "      <th>2681</th>\n",
       "      <td>227234</td>\n",
       "      <td>832</td>\n",
       "      <td>Ярославль</td>\n",
       "      <td>М</td>\n",
       "      <td>55</td>\n",
       "      <td>5</td>\n",
       "      <td>585528.59</td>\n",
       "      <td>3</td>\n",
       "      <td>0</td>\n",
       "      <td>1</td>\n",
       "      <td>...</td>\n",
       "      <td>0</td>\n",
       "      <td>0</td>\n",
       "      <td>1</td>\n",
       "      <td>0</td>\n",
       "      <td>1</td>\n",
       "      <td>46-62</td>\n",
       "      <td>0</td>\n",
       "      <td>0</td>\n",
       "      <td>1</td>\n",
       "      <td>0</td>\n",
       "    </tr>\n",
       "    <tr>\n",
       "      <th>2815</th>\n",
       "      <td>210656</td>\n",
       "      <td>920</td>\n",
       "      <td>Ярославль</td>\n",
       "      <td>М</td>\n",
       "      <td>61</td>\n",
       "      <td>5</td>\n",
       "      <td>1821523.00</td>\n",
       "      <td>3</td>\n",
       "      <td>0</td>\n",
       "      <td>1</td>\n",
       "      <td>...</td>\n",
       "      <td>0</td>\n",
       "      <td>0</td>\n",
       "      <td>1</td>\n",
       "      <td>0</td>\n",
       "      <td>1</td>\n",
       "      <td>46-62</td>\n",
       "      <td>0</td>\n",
       "      <td>0</td>\n",
       "      <td>1</td>\n",
       "      <td>0</td>\n",
       "    </tr>\n",
       "    <tr>\n",
       "      <th>3256</th>\n",
       "      <td>228880</td>\n",
       "      <td>890</td>\n",
       "      <td>Ярославль</td>\n",
       "      <td>М</td>\n",
       "      <td>54</td>\n",
       "      <td>5</td>\n",
       "      <td>3582411.37</td>\n",
       "      <td>3</td>\n",
       "      <td>0</td>\n",
       "      <td>1</td>\n",
       "      <td>...</td>\n",
       "      <td>0</td>\n",
       "      <td>0</td>\n",
       "      <td>1</td>\n",
       "      <td>0</td>\n",
       "      <td>1</td>\n",
       "      <td>46-62</td>\n",
       "      <td>0</td>\n",
       "      <td>0</td>\n",
       "      <td>1</td>\n",
       "      <td>0</td>\n",
       "    </tr>\n",
       "    <tr>\n",
       "      <th>3849</th>\n",
       "      <td>198175</td>\n",
       "      <td>924</td>\n",
       "      <td>Ярославль</td>\n",
       "      <td>М</td>\n",
       "      <td>55</td>\n",
       "      <td>5</td>\n",
       "      <td>1675198.33</td>\n",
       "      <td>3</td>\n",
       "      <td>0</td>\n",
       "      <td>1</td>\n",
       "      <td>...</td>\n",
       "      <td>0</td>\n",
       "      <td>0</td>\n",
       "      <td>1</td>\n",
       "      <td>0</td>\n",
       "      <td>1</td>\n",
       "      <td>46-62</td>\n",
       "      <td>0</td>\n",
       "      <td>0</td>\n",
       "      <td>1</td>\n",
       "      <td>0</td>\n",
       "    </tr>\n",
       "    <tr>\n",
       "      <th>4071</th>\n",
       "      <td>228827</td>\n",
       "      <td>927</td>\n",
       "      <td>Ярославль</td>\n",
       "      <td>М</td>\n",
       "      <td>57</td>\n",
       "      <td>7</td>\n",
       "      <td>3134542.35</td>\n",
       "      <td>3</td>\n",
       "      <td>0</td>\n",
       "      <td>1</td>\n",
       "      <td>...</td>\n",
       "      <td>0</td>\n",
       "      <td>0</td>\n",
       "      <td>1</td>\n",
       "      <td>0</td>\n",
       "      <td>1</td>\n",
       "      <td>46-62</td>\n",
       "      <td>0</td>\n",
       "      <td>0</td>\n",
       "      <td>1</td>\n",
       "      <td>0</td>\n",
       "    </tr>\n",
       "    <tr>\n",
       "      <th>6013</th>\n",
       "      <td>228797</td>\n",
       "      <td>895</td>\n",
       "      <td>Ярославль</td>\n",
       "      <td>М</td>\n",
       "      <td>48</td>\n",
       "      <td>6</td>\n",
       "      <td>2917343.54</td>\n",
       "      <td>3</td>\n",
       "      <td>0</td>\n",
       "      <td>1</td>\n",
       "      <td>...</td>\n",
       "      <td>0</td>\n",
       "      <td>0</td>\n",
       "      <td>1</td>\n",
       "      <td>0</td>\n",
       "      <td>1</td>\n",
       "      <td>46-62</td>\n",
       "      <td>0</td>\n",
       "      <td>0</td>\n",
       "      <td>1</td>\n",
       "      <td>0</td>\n",
       "    </tr>\n",
       "    <tr>\n",
       "      <th>6134</th>\n",
       "      <td>153089</td>\n",
       "      <td>909</td>\n",
       "      <td>Ярославль</td>\n",
       "      <td>М</td>\n",
       "      <td>54</td>\n",
       "      <td>5</td>\n",
       "      <td>884462.90</td>\n",
       "      <td>3</td>\n",
       "      <td>0</td>\n",
       "      <td>1</td>\n",
       "      <td>...</td>\n",
       "      <td>0</td>\n",
       "      <td>0</td>\n",
       "      <td>1</td>\n",
       "      <td>0</td>\n",
       "      <td>1</td>\n",
       "      <td>46-62</td>\n",
       "      <td>0</td>\n",
       "      <td>0</td>\n",
       "      <td>1</td>\n",
       "      <td>0</td>\n",
       "    </tr>\n",
       "    <tr>\n",
       "      <th>6226</th>\n",
       "      <td>99111</td>\n",
       "      <td>826</td>\n",
       "      <td>Ростов</td>\n",
       "      <td>М</td>\n",
       "      <td>60</td>\n",
       "      <td>5</td>\n",
       "      <td>1333343.17</td>\n",
       "      <td>4</td>\n",
       "      <td>0</td>\n",
       "      <td>1</td>\n",
       "      <td>...</td>\n",
       "      <td>1</td>\n",
       "      <td>0</td>\n",
       "      <td>0</td>\n",
       "      <td>0</td>\n",
       "      <td>1</td>\n",
       "      <td>46-62</td>\n",
       "      <td>0</td>\n",
       "      <td>0</td>\n",
       "      <td>1</td>\n",
       "      <td>0</td>\n",
       "    </tr>\n",
       "    <tr>\n",
       "      <th>6458</th>\n",
       "      <td>225731</td>\n",
       "      <td>860</td>\n",
       "      <td>Ярославль</td>\n",
       "      <td>М</td>\n",
       "      <td>52</td>\n",
       "      <td>8</td>\n",
       "      <td>947578.39</td>\n",
       "      <td>4</td>\n",
       "      <td>0</td>\n",
       "      <td>1</td>\n",
       "      <td>...</td>\n",
       "      <td>0</td>\n",
       "      <td>0</td>\n",
       "      <td>1</td>\n",
       "      <td>0</td>\n",
       "      <td>1</td>\n",
       "      <td>46-62</td>\n",
       "      <td>0</td>\n",
       "      <td>0</td>\n",
       "      <td>1</td>\n",
       "      <td>0</td>\n",
       "    </tr>\n",
       "    <tr>\n",
       "      <th>8202</th>\n",
       "      <td>108656</td>\n",
       "      <td>891</td>\n",
       "      <td>Ярославль</td>\n",
       "      <td>М</td>\n",
       "      <td>54</td>\n",
       "      <td>5</td>\n",
       "      <td>443851.94</td>\n",
       "      <td>3</td>\n",
       "      <td>0</td>\n",
       "      <td>1</td>\n",
       "      <td>...</td>\n",
       "      <td>0</td>\n",
       "      <td>0</td>\n",
       "      <td>1</td>\n",
       "      <td>0</td>\n",
       "      <td>1</td>\n",
       "      <td>46-62</td>\n",
       "      <td>0</td>\n",
       "      <td>0</td>\n",
       "      <td>1</td>\n",
       "      <td>0</td>\n",
       "    </tr>\n",
       "    <tr>\n",
       "      <th>8291</th>\n",
       "      <td>229017</td>\n",
       "      <td>817</td>\n",
       "      <td>Ярославль</td>\n",
       "      <td>М</td>\n",
       "      <td>49</td>\n",
       "      <td>5</td>\n",
       "      <td>2616800.01</td>\n",
       "      <td>4</td>\n",
       "      <td>0</td>\n",
       "      <td>1</td>\n",
       "      <td>...</td>\n",
       "      <td>0</td>\n",
       "      <td>0</td>\n",
       "      <td>1</td>\n",
       "      <td>0</td>\n",
       "      <td>1</td>\n",
       "      <td>46-62</td>\n",
       "      <td>0</td>\n",
       "      <td>0</td>\n",
       "      <td>1</td>\n",
       "      <td>0</td>\n",
       "    </tr>\n",
       "    <tr>\n",
       "      <th>8675</th>\n",
       "      <td>186233</td>\n",
       "      <td>916</td>\n",
       "      <td>Ярославль</td>\n",
       "      <td>М</td>\n",
       "      <td>53</td>\n",
       "      <td>5</td>\n",
       "      <td>1822496.40</td>\n",
       "      <td>3</td>\n",
       "      <td>0</td>\n",
       "      <td>1</td>\n",
       "      <td>...</td>\n",
       "      <td>0</td>\n",
       "      <td>0</td>\n",
       "      <td>1</td>\n",
       "      <td>0</td>\n",
       "      <td>1</td>\n",
       "      <td>46-62</td>\n",
       "      <td>0</td>\n",
       "      <td>0</td>\n",
       "      <td>1</td>\n",
       "      <td>0</td>\n",
       "    </tr>\n",
       "    <tr>\n",
       "      <th>9700</th>\n",
       "      <td>162598</td>\n",
       "      <td>925</td>\n",
       "      <td>Ростов</td>\n",
       "      <td>М</td>\n",
       "      <td>58</td>\n",
       "      <td>5</td>\n",
       "      <td>2664421.66</td>\n",
       "      <td>4</td>\n",
       "      <td>0</td>\n",
       "      <td>1</td>\n",
       "      <td>...</td>\n",
       "      <td>1</td>\n",
       "      <td>0</td>\n",
       "      <td>0</td>\n",
       "      <td>0</td>\n",
       "      <td>1</td>\n",
       "      <td>46-62</td>\n",
       "      <td>0</td>\n",
       "      <td>0</td>\n",
       "      <td>1</td>\n",
       "      <td>0</td>\n",
       "    </tr>\n",
       "  </tbody>\n",
       "</table>\n",
       "<p>18 rows × 22 columns</p>\n",
       "</div>"
      ],
      "text/plain": [
       "      userid  score       city gender  age  equity    balance  products  \\\n",
       "399   212030    867  Ярославль      М   59       5  851896.68         3   \n",
       "1291  131565    826  Ярославль      М   60       5  737821.34         3   \n",
       "1419  220656    899  Ярославль      М   59       5 1682723.25         3   \n",
       "1709  167518    870  Ярославль      М   52       5  775269.74         3   \n",
       "2616  150673    978    Рыбинск      М   53       6 2582959.96         4   \n",
       "2681  227234    832  Ярославль      М   55       5  585528.59         3   \n",
       "2815  210656    920  Ярославль      М   61       5 1821523.00         3   \n",
       "3256  228880    890  Ярославль      М   54       5 3582411.37         3   \n",
       "3849  198175    924  Ярославль      М   55       5 1675198.33         3   \n",
       "4071  228827    927  Ярославль      М   57       7 3134542.35         3   \n",
       "6013  228797    895  Ярославль      М   48       6 2917343.54         3   \n",
       "6134  153089    909  Ярославль      М   54       5  884462.90         3   \n",
       "6226   99111    826     Ростов      М   60       5 1333343.17         4   \n",
       "6458  225731    860  Ярославль      М   52       8  947578.39         4   \n",
       "8202  108656    891  Ярославль      М   54       5  443851.94         3   \n",
       "8291  229017    817  Ярославль      М   49       5 2616800.01         4   \n",
       "8675  186233    916  Ярославль      М   53       5 1822496.40         3   \n",
       "9700  162598    925     Ростов      М   58       5 2664421.66         4   \n",
       "\n",
       "      credit_card  last_activity  ...  Ростов  Рыбинск  Ярославль  female  \\\n",
       "399             0              1  ...       0        0          1       0   \n",
       "1291            0              1  ...       0        0          1       0   \n",
       "1419            0              1  ...       0        0          1       0   \n",
       "1709            0              1  ...       0        0          1       0   \n",
       "2616            0              1  ...       0        1          0       0   \n",
       "2681            0              1  ...       0        0          1       0   \n",
       "2815            0              1  ...       0        0          1       0   \n",
       "3256            0              1  ...       0        0          1       0   \n",
       "3849            0              1  ...       0        0          1       0   \n",
       "4071            0              1  ...       0        0          1       0   \n",
       "6013            0              1  ...       0        0          1       0   \n",
       "6134            0              1  ...       0        0          1       0   \n",
       "6226            0              1  ...       1        0          0       0   \n",
       "6458            0              1  ...       0        0          1       0   \n",
       "8202            0              1  ...       0        0          1       0   \n",
       "8291            0              1  ...       0        0          1       0   \n",
       "8675            0              1  ...       0        0          1       0   \n",
       "9700            0              1  ...       1        0          0       0   \n",
       "\n",
       "      male  category_age  18-24 25-45  46-62  63+  \n",
       "399      1         46-62      0     0      1    0  \n",
       "1291     1         46-62      0     0      1    0  \n",
       "1419     1         46-62      0     0      1    0  \n",
       "1709     1         46-62      0     0      1    0  \n",
       "2616     1         46-62      0     0      1    0  \n",
       "2681     1         46-62      0     0      1    0  \n",
       "2815     1         46-62      0     0      1    0  \n",
       "3256     1         46-62      0     0      1    0  \n",
       "3849     1         46-62      0     0      1    0  \n",
       "4071     1         46-62      0     0      1    0  \n",
       "6013     1         46-62      0     0      1    0  \n",
       "6134     1         46-62      0     0      1    0  \n",
       "6226     1         46-62      0     0      1    0  \n",
       "6458     1         46-62      0     0      1    0  \n",
       "8202     1         46-62      0     0      1    0  \n",
       "8291     1         46-62      0     0      1    0  \n",
       "8675     1         46-62      0     0      1    0  \n",
       "9700     1         46-62      0     0      1    0  \n",
       "\n",
       "[18 rows x 22 columns]"
      ]
     },
     "execution_count": 46,
     "metadata": {},
     "output_type": "execute_result"
    }
   ],
   "source": [
    "portrait_1 = df.query (\n",
    "    'age > 46 and age <= 62 \\\n",
    "    and equity >=5 \\\n",
    "    and score >= 770 \\\n",
    "    and products >= 3 \\\n",
    "    and credit_card == 0 \\\n",
    "    and last_activity == 1 \\\n",
    "    and male == 1 \\\n",
    "    and churn == 1') \n",
    "print(\"Количество клиентов в портрете:\",len(portrait_1))\n",
    "portrait_1"
   ]
  },
  {
   "cell_type": "markdown",
   "metadata": {},
   "source": [
    "### Портрет №2"
   ]
  },
  {
   "cell_type": "markdown",
   "metadata": {},
   "source": [
    "- Возраст: 46-62\n",
    "- Оценка собственности: 5 и выше\n",
    "- Кредитный скоринг: 770 и выше\n",
    "- Количество продуктов банка: 3 и выше \n",
    "- Наличие кредитной карты: нет\n",
    "- Наличие активности клиента: да\n",
    "- Пол клиента: женский\n",
    "- Город: любой"
   ]
  },
  {
   "cell_type": "code",
   "execution_count": 47,
   "metadata": {},
   "outputs": [
    {
     "name": "stdout",
     "output_type": "stream",
     "text": [
      "Количество клиентов в портрете: 16\n"
     ]
    },
    {
     "data": {
      "text/html": [
       "<div>\n",
       "<style scoped>\n",
       "    .dataframe tbody tr th:only-of-type {\n",
       "        vertical-align: middle;\n",
       "    }\n",
       "\n",
       "    .dataframe tbody tr th {\n",
       "        vertical-align: top;\n",
       "    }\n",
       "\n",
       "    .dataframe thead th {\n",
       "        text-align: right;\n",
       "    }\n",
       "</style>\n",
       "<table border=\"1\" class=\"dataframe\">\n",
       "  <thead>\n",
       "    <tr style=\"text-align: right;\">\n",
       "      <th></th>\n",
       "      <th>userid</th>\n",
       "      <th>score</th>\n",
       "      <th>city</th>\n",
       "      <th>gender</th>\n",
       "      <th>age</th>\n",
       "      <th>equity</th>\n",
       "      <th>balance</th>\n",
       "      <th>products</th>\n",
       "      <th>credit_card</th>\n",
       "      <th>last_activity</th>\n",
       "      <th>...</th>\n",
       "      <th>Ростов</th>\n",
       "      <th>Рыбинск</th>\n",
       "      <th>Ярославль</th>\n",
       "      <th>female</th>\n",
       "      <th>male</th>\n",
       "      <th>category_age</th>\n",
       "      <th>18-24</th>\n",
       "      <th>25-45</th>\n",
       "      <th>46-62</th>\n",
       "      <th>63+</th>\n",
       "    </tr>\n",
       "  </thead>\n",
       "  <tbody>\n",
       "    <tr>\n",
       "      <th>148</th>\n",
       "      <td>122769</td>\n",
       "      <td>868</td>\n",
       "      <td>Ростов</td>\n",
       "      <td>Ж</td>\n",
       "      <td>58</td>\n",
       "      <td>5</td>\n",
       "      <td>1334745.59</td>\n",
       "      <td>4</td>\n",
       "      <td>0</td>\n",
       "      <td>1</td>\n",
       "      <td>...</td>\n",
       "      <td>1</td>\n",
       "      <td>0</td>\n",
       "      <td>0</td>\n",
       "      <td>1</td>\n",
       "      <td>0</td>\n",
       "      <td>46-62</td>\n",
       "      <td>0</td>\n",
       "      <td>0</td>\n",
       "      <td>1</td>\n",
       "      <td>0</td>\n",
       "    </tr>\n",
       "    <tr>\n",
       "      <th>859</th>\n",
       "      <td>177840</td>\n",
       "      <td>802</td>\n",
       "      <td>Рыбинск</td>\n",
       "      <td>Ж</td>\n",
       "      <td>51</td>\n",
       "      <td>5</td>\n",
       "      <td>1146872.86</td>\n",
       "      <td>3</td>\n",
       "      <td>0</td>\n",
       "      <td>1</td>\n",
       "      <td>...</td>\n",
       "      <td>0</td>\n",
       "      <td>1</td>\n",
       "      <td>0</td>\n",
       "      <td>1</td>\n",
       "      <td>0</td>\n",
       "      <td>46-62</td>\n",
       "      <td>0</td>\n",
       "      <td>0</td>\n",
       "      <td>1</td>\n",
       "      <td>0</td>\n",
       "    </tr>\n",
       "    <tr>\n",
       "      <th>1205</th>\n",
       "      <td>213664</td>\n",
       "      <td>807</td>\n",
       "      <td>Ярославль</td>\n",
       "      <td>Ж</td>\n",
       "      <td>54</td>\n",
       "      <td>5</td>\n",
       "      <td>478592.43</td>\n",
       "      <td>3</td>\n",
       "      <td>0</td>\n",
       "      <td>1</td>\n",
       "      <td>...</td>\n",
       "      <td>0</td>\n",
       "      <td>0</td>\n",
       "      <td>1</td>\n",
       "      <td>1</td>\n",
       "      <td>0</td>\n",
       "      <td>46-62</td>\n",
       "      <td>0</td>\n",
       "      <td>0</td>\n",
       "      <td>1</td>\n",
       "      <td>0</td>\n",
       "    </tr>\n",
       "    <tr>\n",
       "      <th>3707</th>\n",
       "      <td>219312</td>\n",
       "      <td>889</td>\n",
       "      <td>Ярославль</td>\n",
       "      <td>Ж</td>\n",
       "      <td>60</td>\n",
       "      <td>5</td>\n",
       "      <td>725760.89</td>\n",
       "      <td>4</td>\n",
       "      <td>0</td>\n",
       "      <td>1</td>\n",
       "      <td>...</td>\n",
       "      <td>0</td>\n",
       "      <td>0</td>\n",
       "      <td>1</td>\n",
       "      <td>1</td>\n",
       "      <td>0</td>\n",
       "      <td>46-62</td>\n",
       "      <td>0</td>\n",
       "      <td>0</td>\n",
       "      <td>1</td>\n",
       "      <td>0</td>\n",
       "    </tr>\n",
       "    <tr>\n",
       "      <th>4122</th>\n",
       "      <td>208057</td>\n",
       "      <td>856</td>\n",
       "      <td>Ярославль</td>\n",
       "      <td>Ж</td>\n",
       "      <td>52</td>\n",
       "      <td>5</td>\n",
       "      <td>1700165.08</td>\n",
       "      <td>4</td>\n",
       "      <td>0</td>\n",
       "      <td>1</td>\n",
       "      <td>...</td>\n",
       "      <td>0</td>\n",
       "      <td>0</td>\n",
       "      <td>1</td>\n",
       "      <td>1</td>\n",
       "      <td>0</td>\n",
       "      <td>46-62</td>\n",
       "      <td>0</td>\n",
       "      <td>0</td>\n",
       "      <td>1</td>\n",
       "      <td>0</td>\n",
       "    </tr>\n",
       "    <tr>\n",
       "      <th>4500</th>\n",
       "      <td>226400</td>\n",
       "      <td>936</td>\n",
       "      <td>Ярославль</td>\n",
       "      <td>Ж</td>\n",
       "      <td>61</td>\n",
       "      <td>5</td>\n",
       "      <td>3301164.33</td>\n",
       "      <td>4</td>\n",
       "      <td>0</td>\n",
       "      <td>1</td>\n",
       "      <td>...</td>\n",
       "      <td>0</td>\n",
       "      <td>0</td>\n",
       "      <td>1</td>\n",
       "      <td>1</td>\n",
       "      <td>0</td>\n",
       "      <td>46-62</td>\n",
       "      <td>0</td>\n",
       "      <td>0</td>\n",
       "      <td>1</td>\n",
       "      <td>0</td>\n",
       "    </tr>\n",
       "    <tr>\n",
       "      <th>5000</th>\n",
       "      <td>210005</td>\n",
       "      <td>885</td>\n",
       "      <td>Ярославль</td>\n",
       "      <td>Ж</td>\n",
       "      <td>55</td>\n",
       "      <td>5</td>\n",
       "      <td>1316966.94</td>\n",
       "      <td>3</td>\n",
       "      <td>0</td>\n",
       "      <td>1</td>\n",
       "      <td>...</td>\n",
       "      <td>0</td>\n",
       "      <td>0</td>\n",
       "      <td>1</td>\n",
       "      <td>1</td>\n",
       "      <td>0</td>\n",
       "      <td>46-62</td>\n",
       "      <td>0</td>\n",
       "      <td>0</td>\n",
       "      <td>1</td>\n",
       "      <td>0</td>\n",
       "    </tr>\n",
       "    <tr>\n",
       "      <th>6077</th>\n",
       "      <td>213759</td>\n",
       "      <td>868</td>\n",
       "      <td>Ярославль</td>\n",
       "      <td>Ж</td>\n",
       "      <td>59</td>\n",
       "      <td>5</td>\n",
       "      <td>1548910.65</td>\n",
       "      <td>3</td>\n",
       "      <td>0</td>\n",
       "      <td>1</td>\n",
       "      <td>...</td>\n",
       "      <td>0</td>\n",
       "      <td>0</td>\n",
       "      <td>1</td>\n",
       "      <td>1</td>\n",
       "      <td>0</td>\n",
       "      <td>46-62</td>\n",
       "      <td>0</td>\n",
       "      <td>0</td>\n",
       "      <td>1</td>\n",
       "      <td>0</td>\n",
       "    </tr>\n",
       "    <tr>\n",
       "      <th>7017</th>\n",
       "      <td>200430</td>\n",
       "      <td>774</td>\n",
       "      <td>Ярославль</td>\n",
       "      <td>Ж</td>\n",
       "      <td>51</td>\n",
       "      <td>5</td>\n",
       "      <td>1620179.14</td>\n",
       "      <td>3</td>\n",
       "      <td>0</td>\n",
       "      <td>1</td>\n",
       "      <td>...</td>\n",
       "      <td>0</td>\n",
       "      <td>0</td>\n",
       "      <td>1</td>\n",
       "      <td>1</td>\n",
       "      <td>0</td>\n",
       "      <td>46-62</td>\n",
       "      <td>0</td>\n",
       "      <td>0</td>\n",
       "      <td>1</td>\n",
       "      <td>0</td>\n",
       "    </tr>\n",
       "    <tr>\n",
       "      <th>7295</th>\n",
       "      <td>203628</td>\n",
       "      <td>862</td>\n",
       "      <td>Ярославль</td>\n",
       "      <td>Ж</td>\n",
       "      <td>56</td>\n",
       "      <td>5</td>\n",
       "      <td>942423.50</td>\n",
       "      <td>3</td>\n",
       "      <td>0</td>\n",
       "      <td>1</td>\n",
       "      <td>...</td>\n",
       "      <td>0</td>\n",
       "      <td>0</td>\n",
       "      <td>1</td>\n",
       "      <td>1</td>\n",
       "      <td>0</td>\n",
       "      <td>46-62</td>\n",
       "      <td>0</td>\n",
       "      <td>0</td>\n",
       "      <td>1</td>\n",
       "      <td>0</td>\n",
       "    </tr>\n",
       "    <tr>\n",
       "      <th>7881</th>\n",
       "      <td>119412</td>\n",
       "      <td>897</td>\n",
       "      <td>Ярославль</td>\n",
       "      <td>Ж</td>\n",
       "      <td>55</td>\n",
       "      <td>5</td>\n",
       "      <td>1847675.01</td>\n",
       "      <td>3</td>\n",
       "      <td>0</td>\n",
       "      <td>1</td>\n",
       "      <td>...</td>\n",
       "      <td>0</td>\n",
       "      <td>0</td>\n",
       "      <td>1</td>\n",
       "      <td>1</td>\n",
       "      <td>0</td>\n",
       "      <td>46-62</td>\n",
       "      <td>0</td>\n",
       "      <td>0</td>\n",
       "      <td>1</td>\n",
       "      <td>0</td>\n",
       "    </tr>\n",
       "    <tr>\n",
       "      <th>8016</th>\n",
       "      <td>212509</td>\n",
       "      <td>933</td>\n",
       "      <td>Ярославль</td>\n",
       "      <td>Ж</td>\n",
       "      <td>51</td>\n",
       "      <td>5</td>\n",
       "      <td>1449619.59</td>\n",
       "      <td>3</td>\n",
       "      <td>0</td>\n",
       "      <td>1</td>\n",
       "      <td>...</td>\n",
       "      <td>0</td>\n",
       "      <td>0</td>\n",
       "      <td>1</td>\n",
       "      <td>1</td>\n",
       "      <td>0</td>\n",
       "      <td>46-62</td>\n",
       "      <td>0</td>\n",
       "      <td>0</td>\n",
       "      <td>1</td>\n",
       "      <td>0</td>\n",
       "    </tr>\n",
       "    <tr>\n",
       "      <th>8478</th>\n",
       "      <td>175901</td>\n",
       "      <td>913</td>\n",
       "      <td>Ярославль</td>\n",
       "      <td>Ж</td>\n",
       "      <td>55</td>\n",
       "      <td>5</td>\n",
       "      <td>2120761.57</td>\n",
       "      <td>3</td>\n",
       "      <td>0</td>\n",
       "      <td>1</td>\n",
       "      <td>...</td>\n",
       "      <td>0</td>\n",
       "      <td>0</td>\n",
       "      <td>1</td>\n",
       "      <td>1</td>\n",
       "      <td>0</td>\n",
       "      <td>46-62</td>\n",
       "      <td>0</td>\n",
       "      <td>0</td>\n",
       "      <td>1</td>\n",
       "      <td>0</td>\n",
       "    </tr>\n",
       "    <tr>\n",
       "      <th>8542</th>\n",
       "      <td>197216</td>\n",
       "      <td>923</td>\n",
       "      <td>Ярославль</td>\n",
       "      <td>Ж</td>\n",
       "      <td>59</td>\n",
       "      <td>5</td>\n",
       "      <td>1411835.48</td>\n",
       "      <td>3</td>\n",
       "      <td>0</td>\n",
       "      <td>1</td>\n",
       "      <td>...</td>\n",
       "      <td>0</td>\n",
       "      <td>0</td>\n",
       "      <td>1</td>\n",
       "      <td>1</td>\n",
       "      <td>0</td>\n",
       "      <td>46-62</td>\n",
       "      <td>0</td>\n",
       "      <td>0</td>\n",
       "      <td>1</td>\n",
       "      <td>0</td>\n",
       "    </tr>\n",
       "    <tr>\n",
       "      <th>8724</th>\n",
       "      <td>183587</td>\n",
       "      <td>899</td>\n",
       "      <td>Рыбинск</td>\n",
       "      <td>Ж</td>\n",
       "      <td>50</td>\n",
       "      <td>5</td>\n",
       "      <td>1347272.29</td>\n",
       "      <td>4</td>\n",
       "      <td>0</td>\n",
       "      <td>1</td>\n",
       "      <td>...</td>\n",
       "      <td>0</td>\n",
       "      <td>1</td>\n",
       "      <td>0</td>\n",
       "      <td>1</td>\n",
       "      <td>0</td>\n",
       "      <td>46-62</td>\n",
       "      <td>0</td>\n",
       "      <td>0</td>\n",
       "      <td>1</td>\n",
       "      <td>0</td>\n",
       "    </tr>\n",
       "    <tr>\n",
       "      <th>9010</th>\n",
       "      <td>188341</td>\n",
       "      <td>901</td>\n",
       "      <td>Ярославль</td>\n",
       "      <td>Ж</td>\n",
       "      <td>56</td>\n",
       "      <td>5</td>\n",
       "      <td>2137524.35</td>\n",
       "      <td>3</td>\n",
       "      <td>0</td>\n",
       "      <td>1</td>\n",
       "      <td>...</td>\n",
       "      <td>0</td>\n",
       "      <td>0</td>\n",
       "      <td>1</td>\n",
       "      <td>1</td>\n",
       "      <td>0</td>\n",
       "      <td>46-62</td>\n",
       "      <td>0</td>\n",
       "      <td>0</td>\n",
       "      <td>1</td>\n",
       "      <td>0</td>\n",
       "    </tr>\n",
       "  </tbody>\n",
       "</table>\n",
       "<p>16 rows × 22 columns</p>\n",
       "</div>"
      ],
      "text/plain": [
       "      userid  score       city gender  age  equity    balance  products  \\\n",
       "148   122769    868     Ростов      Ж   58       5 1334745.59         4   \n",
       "859   177840    802    Рыбинск      Ж   51       5 1146872.86         3   \n",
       "1205  213664    807  Ярославль      Ж   54       5  478592.43         3   \n",
       "3707  219312    889  Ярославль      Ж   60       5  725760.89         4   \n",
       "4122  208057    856  Ярославль      Ж   52       5 1700165.08         4   \n",
       "4500  226400    936  Ярославль      Ж   61       5 3301164.33         4   \n",
       "5000  210005    885  Ярославль      Ж   55       5 1316966.94         3   \n",
       "6077  213759    868  Ярославль      Ж   59       5 1548910.65         3   \n",
       "7017  200430    774  Ярославль      Ж   51       5 1620179.14         3   \n",
       "7295  203628    862  Ярославль      Ж   56       5  942423.50         3   \n",
       "7881  119412    897  Ярославль      Ж   55       5 1847675.01         3   \n",
       "8016  212509    933  Ярославль      Ж   51       5 1449619.59         3   \n",
       "8478  175901    913  Ярославль      Ж   55       5 2120761.57         3   \n",
       "8542  197216    923  Ярославль      Ж   59       5 1411835.48         3   \n",
       "8724  183587    899    Рыбинск      Ж   50       5 1347272.29         4   \n",
       "9010  188341    901  Ярославль      Ж   56       5 2137524.35         3   \n",
       "\n",
       "      credit_card  last_activity  ...  Ростов  Рыбинск  Ярославль  female  \\\n",
       "148             0              1  ...       1        0          0       1   \n",
       "859             0              1  ...       0        1          0       1   \n",
       "1205            0              1  ...       0        0          1       1   \n",
       "3707            0              1  ...       0        0          1       1   \n",
       "4122            0              1  ...       0        0          1       1   \n",
       "4500            0              1  ...       0        0          1       1   \n",
       "5000            0              1  ...       0        0          1       1   \n",
       "6077            0              1  ...       0        0          1       1   \n",
       "7017            0              1  ...       0        0          1       1   \n",
       "7295            0              1  ...       0        0          1       1   \n",
       "7881            0              1  ...       0        0          1       1   \n",
       "8016            0              1  ...       0        0          1       1   \n",
       "8478            0              1  ...       0        0          1       1   \n",
       "8542            0              1  ...       0        0          1       1   \n",
       "8724            0              1  ...       0        1          0       1   \n",
       "9010            0              1  ...       0        0          1       1   \n",
       "\n",
       "      male  category_age  18-24 25-45  46-62  63+  \n",
       "148      0         46-62      0     0      1    0  \n",
       "859      0         46-62      0     0      1    0  \n",
       "1205     0         46-62      0     0      1    0  \n",
       "3707     0         46-62      0     0      1    0  \n",
       "4122     0         46-62      0     0      1    0  \n",
       "4500     0         46-62      0     0      1    0  \n",
       "5000     0         46-62      0     0      1    0  \n",
       "6077     0         46-62      0     0      1    0  \n",
       "7017     0         46-62      0     0      1    0  \n",
       "7295     0         46-62      0     0      1    0  \n",
       "7881     0         46-62      0     0      1    0  \n",
       "8016     0         46-62      0     0      1    0  \n",
       "8478     0         46-62      0     0      1    0  \n",
       "8542     0         46-62      0     0      1    0  \n",
       "8724     0         46-62      0     0      1    0  \n",
       "9010     0         46-62      0     0      1    0  \n",
       "\n",
       "[16 rows x 22 columns]"
      ]
     },
     "execution_count": 47,
     "metadata": {},
     "output_type": "execute_result"
    }
   ],
   "source": [
    "portrait_2 = df.query (\n",
    "    'age > 46 and age <= 62 \\\n",
    "    and equity >= 5 \\\n",
    "    and score >= 770 \\\n",
    "    and products >= 3 \\\n",
    "    and credit_card == 0 \\\n",
    "    and last_activity == 1 \\\n",
    "    and male == 0 \\\n",
    "    and churn == 1') \n",
    "print(\"Количество клиентов в портрете:\",len(portrait_2))\n",
    "portrait_2"
   ]
  },
  {
   "cell_type": "markdown",
   "metadata": {},
   "source": [
    "### Портрет №3"
   ]
  },
  {
   "cell_type": "markdown",
   "metadata": {},
   "source": [
    "- Возраст: 25-45\n",
    "- Оценка собственности: 5 и выше\n",
    "- Кредитный скоринг: 800 и выше\n",
    "- Количество продуктов банка: 3 и выше \n",
    "- Наличие кредитной карты: нет\n",
    "- Наличие активности клиента: да\n",
    "- Пол клиента: любой\n",
    "- Город: любой"
   ]
  },
  {
   "cell_type": "code",
   "execution_count": 48,
   "metadata": {},
   "outputs": [
    {
     "name": "stdout",
     "output_type": "stream",
     "text": [
      "Количество клиентов в портрете: 49\n"
     ]
    },
    {
     "data": {
      "text/html": [
       "<div>\n",
       "<style scoped>\n",
       "    .dataframe tbody tr th:only-of-type {\n",
       "        vertical-align: middle;\n",
       "    }\n",
       "\n",
       "    .dataframe tbody tr th {\n",
       "        vertical-align: top;\n",
       "    }\n",
       "\n",
       "    .dataframe thead th {\n",
       "        text-align: right;\n",
       "    }\n",
       "</style>\n",
       "<table border=\"1\" class=\"dataframe\">\n",
       "  <thead>\n",
       "    <tr style=\"text-align: right;\">\n",
       "      <th></th>\n",
       "      <th>userid</th>\n",
       "      <th>score</th>\n",
       "      <th>city</th>\n",
       "      <th>gender</th>\n",
       "      <th>age</th>\n",
       "      <th>equity</th>\n",
       "      <th>balance</th>\n",
       "      <th>products</th>\n",
       "      <th>credit_card</th>\n",
       "      <th>last_activity</th>\n",
       "      <th>...</th>\n",
       "      <th>Ростов</th>\n",
       "      <th>Рыбинск</th>\n",
       "      <th>Ярославль</th>\n",
       "      <th>female</th>\n",
       "      <th>male</th>\n",
       "      <th>category_age</th>\n",
       "      <th>18-24</th>\n",
       "      <th>25-45</th>\n",
       "      <th>46-62</th>\n",
       "      <th>63+</th>\n",
       "    </tr>\n",
       "  </thead>\n",
       "  <tbody>\n",
       "    <tr>\n",
       "      <th>72</th>\n",
       "      <td>156677</td>\n",
       "      <td>873</td>\n",
       "      <td>Ярославль</td>\n",
       "      <td>М</td>\n",
       "      <td>39</td>\n",
       "      <td>5</td>\n",
       "      <td>915959.85</td>\n",
       "      <td>3</td>\n",
       "      <td>0</td>\n",
       "      <td>1</td>\n",
       "      <td>...</td>\n",
       "      <td>0</td>\n",
       "      <td>0</td>\n",
       "      <td>1</td>\n",
       "      <td>0</td>\n",
       "      <td>1</td>\n",
       "      <td>25-45</td>\n",
       "      <td>0</td>\n",
       "      <td>1</td>\n",
       "      <td>0</td>\n",
       "      <td>0</td>\n",
       "    </tr>\n",
       "    <tr>\n",
       "      <th>81</th>\n",
       "      <td>223978</td>\n",
       "      <td>850</td>\n",
       "      <td>Рыбинск</td>\n",
       "      <td>М</td>\n",
       "      <td>34</td>\n",
       "      <td>5</td>\n",
       "      <td>351583.16</td>\n",
       "      <td>4</td>\n",
       "      <td>0</td>\n",
       "      <td>1</td>\n",
       "      <td>...</td>\n",
       "      <td>0</td>\n",
       "      <td>1</td>\n",
       "      <td>0</td>\n",
       "      <td>0</td>\n",
       "      <td>1</td>\n",
       "      <td>25-45</td>\n",
       "      <td>0</td>\n",
       "      <td>1</td>\n",
       "      <td>0</td>\n",
       "      <td>0</td>\n",
       "    </tr>\n",
       "    <tr>\n",
       "      <th>475</th>\n",
       "      <td>140383</td>\n",
       "      <td>908</td>\n",
       "      <td>Ярославль</td>\n",
       "      <td>М</td>\n",
       "      <td>33</td>\n",
       "      <td>5</td>\n",
       "      <td>649294.72</td>\n",
       "      <td>4</td>\n",
       "      <td>0</td>\n",
       "      <td>1</td>\n",
       "      <td>...</td>\n",
       "      <td>0</td>\n",
       "      <td>0</td>\n",
       "      <td>1</td>\n",
       "      <td>0</td>\n",
       "      <td>1</td>\n",
       "      <td>25-45</td>\n",
       "      <td>0</td>\n",
       "      <td>1</td>\n",
       "      <td>0</td>\n",
       "      <td>0</td>\n",
       "    </tr>\n",
       "    <tr>\n",
       "      <th>734</th>\n",
       "      <td>170176</td>\n",
       "      <td>893</td>\n",
       "      <td>Ярославль</td>\n",
       "      <td>М</td>\n",
       "      <td>27</td>\n",
       "      <td>5</td>\n",
       "      <td>499315.41</td>\n",
       "      <td>3</td>\n",
       "      <td>0</td>\n",
       "      <td>1</td>\n",
       "      <td>...</td>\n",
       "      <td>0</td>\n",
       "      <td>0</td>\n",
       "      <td>1</td>\n",
       "      <td>0</td>\n",
       "      <td>1</td>\n",
       "      <td>25-45</td>\n",
       "      <td>0</td>\n",
       "      <td>1</td>\n",
       "      <td>0</td>\n",
       "      <td>0</td>\n",
       "    </tr>\n",
       "    <tr>\n",
       "      <th>847</th>\n",
       "      <td>115095</td>\n",
       "      <td>880</td>\n",
       "      <td>Ярославль</td>\n",
       "      <td>Ж</td>\n",
       "      <td>34</td>\n",
       "      <td>5</td>\n",
       "      <td>956027.03</td>\n",
       "      <td>3</td>\n",
       "      <td>0</td>\n",
       "      <td>1</td>\n",
       "      <td>...</td>\n",
       "      <td>0</td>\n",
       "      <td>0</td>\n",
       "      <td>1</td>\n",
       "      <td>1</td>\n",
       "      <td>0</td>\n",
       "      <td>25-45</td>\n",
       "      <td>0</td>\n",
       "      <td>1</td>\n",
       "      <td>0</td>\n",
       "      <td>0</td>\n",
       "    </tr>\n",
       "    <tr>\n",
       "      <th>936</th>\n",
       "      <td>134107</td>\n",
       "      <td>848</td>\n",
       "      <td>Ростов</td>\n",
       "      <td>М</td>\n",
       "      <td>26</td>\n",
       "      <td>5</td>\n",
       "      <td>218655.27</td>\n",
       "      <td>4</td>\n",
       "      <td>0</td>\n",
       "      <td>1</td>\n",
       "      <td>...</td>\n",
       "      <td>1</td>\n",
       "      <td>0</td>\n",
       "      <td>0</td>\n",
       "      <td>0</td>\n",
       "      <td>1</td>\n",
       "      <td>25-45</td>\n",
       "      <td>0</td>\n",
       "      <td>1</td>\n",
       "      <td>0</td>\n",
       "      <td>0</td>\n",
       "    </tr>\n",
       "    <tr>\n",
       "      <th>980</th>\n",
       "      <td>153716</td>\n",
       "      <td>857</td>\n",
       "      <td>Ярославль</td>\n",
       "      <td>Ж</td>\n",
       "      <td>28</td>\n",
       "      <td>7</td>\n",
       "      <td>317884.70</td>\n",
       "      <td>3</td>\n",
       "      <td>0</td>\n",
       "      <td>1</td>\n",
       "      <td>...</td>\n",
       "      <td>0</td>\n",
       "      <td>0</td>\n",
       "      <td>1</td>\n",
       "      <td>1</td>\n",
       "      <td>0</td>\n",
       "      <td>25-45</td>\n",
       "      <td>0</td>\n",
       "      <td>1</td>\n",
       "      <td>0</td>\n",
       "      <td>0</td>\n",
       "    </tr>\n",
       "    <tr>\n",
       "      <th>1147</th>\n",
       "      <td>226891</td>\n",
       "      <td>864</td>\n",
       "      <td>Ярославль</td>\n",
       "      <td>М</td>\n",
       "      <td>39</td>\n",
       "      <td>5</td>\n",
       "      <td>920418.77</td>\n",
       "      <td>3</td>\n",
       "      <td>0</td>\n",
       "      <td>1</td>\n",
       "      <td>...</td>\n",
       "      <td>0</td>\n",
       "      <td>0</td>\n",
       "      <td>1</td>\n",
       "      <td>0</td>\n",
       "      <td>1</td>\n",
       "      <td>25-45</td>\n",
       "      <td>0</td>\n",
       "      <td>1</td>\n",
       "      <td>0</td>\n",
       "      <td>0</td>\n",
       "    </tr>\n",
       "    <tr>\n",
       "      <th>1166</th>\n",
       "      <td>194256</td>\n",
       "      <td>892</td>\n",
       "      <td>Ярославль</td>\n",
       "      <td>Ж</td>\n",
       "      <td>37</td>\n",
       "      <td>5</td>\n",
       "      <td>1182532.82</td>\n",
       "      <td>3</td>\n",
       "      <td>0</td>\n",
       "      <td>1</td>\n",
       "      <td>...</td>\n",
       "      <td>0</td>\n",
       "      <td>0</td>\n",
       "      <td>1</td>\n",
       "      <td>1</td>\n",
       "      <td>0</td>\n",
       "      <td>25-45</td>\n",
       "      <td>0</td>\n",
       "      <td>1</td>\n",
       "      <td>0</td>\n",
       "      <td>0</td>\n",
       "    </tr>\n",
       "    <tr>\n",
       "      <th>1204</th>\n",
       "      <td>223416</td>\n",
       "      <td>901</td>\n",
       "      <td>Ярославль</td>\n",
       "      <td>М</td>\n",
       "      <td>27</td>\n",
       "      <td>5</td>\n",
       "      <td>1007657.77</td>\n",
       "      <td>3</td>\n",
       "      <td>0</td>\n",
       "      <td>1</td>\n",
       "      <td>...</td>\n",
       "      <td>0</td>\n",
       "      <td>0</td>\n",
       "      <td>1</td>\n",
       "      <td>0</td>\n",
       "      <td>1</td>\n",
       "      <td>25-45</td>\n",
       "      <td>0</td>\n",
       "      <td>1</td>\n",
       "      <td>0</td>\n",
       "      <td>0</td>\n",
       "    </tr>\n",
       "    <tr>\n",
       "      <th>1364</th>\n",
       "      <td>216512</td>\n",
       "      <td>918</td>\n",
       "      <td>Ярославль</td>\n",
       "      <td>М</td>\n",
       "      <td>34</td>\n",
       "      <td>5</td>\n",
       "      <td>1297184.34</td>\n",
       "      <td>3</td>\n",
       "      <td>0</td>\n",
       "      <td>1</td>\n",
       "      <td>...</td>\n",
       "      <td>0</td>\n",
       "      <td>0</td>\n",
       "      <td>1</td>\n",
       "      <td>0</td>\n",
       "      <td>1</td>\n",
       "      <td>25-45</td>\n",
       "      <td>0</td>\n",
       "      <td>1</td>\n",
       "      <td>0</td>\n",
       "      <td>0</td>\n",
       "    </tr>\n",
       "    <tr>\n",
       "      <th>1818</th>\n",
       "      <td>151739</td>\n",
       "      <td>868</td>\n",
       "      <td>Рыбинск</td>\n",
       "      <td>М</td>\n",
       "      <td>33</td>\n",
       "      <td>6</td>\n",
       "      <td>669230.15</td>\n",
       "      <td>4</td>\n",
       "      <td>0</td>\n",
       "      <td>1</td>\n",
       "      <td>...</td>\n",
       "      <td>0</td>\n",
       "      <td>1</td>\n",
       "      <td>0</td>\n",
       "      <td>0</td>\n",
       "      <td>1</td>\n",
       "      <td>25-45</td>\n",
       "      <td>0</td>\n",
       "      <td>1</td>\n",
       "      <td>0</td>\n",
       "      <td>0</td>\n",
       "    </tr>\n",
       "    <tr>\n",
       "      <th>1825</th>\n",
       "      <td>150691</td>\n",
       "      <td>938</td>\n",
       "      <td>Ярославль</td>\n",
       "      <td>Ж</td>\n",
       "      <td>34</td>\n",
       "      <td>5</td>\n",
       "      <td>2011480.78</td>\n",
       "      <td>3</td>\n",
       "      <td>0</td>\n",
       "      <td>1</td>\n",
       "      <td>...</td>\n",
       "      <td>0</td>\n",
       "      <td>0</td>\n",
       "      <td>1</td>\n",
       "      <td>1</td>\n",
       "      <td>0</td>\n",
       "      <td>25-45</td>\n",
       "      <td>0</td>\n",
       "      <td>1</td>\n",
       "      <td>0</td>\n",
       "      <td>0</td>\n",
       "    </tr>\n",
       "    <tr>\n",
       "      <th>2075</th>\n",
       "      <td>186896</td>\n",
       "      <td>860</td>\n",
       "      <td>Ярославль</td>\n",
       "      <td>М</td>\n",
       "      <td>42</td>\n",
       "      <td>5</td>\n",
       "      <td>1546551.11</td>\n",
       "      <td>3</td>\n",
       "      <td>0</td>\n",
       "      <td>1</td>\n",
       "      <td>...</td>\n",
       "      <td>0</td>\n",
       "      <td>0</td>\n",
       "      <td>1</td>\n",
       "      <td>0</td>\n",
       "      <td>1</td>\n",
       "      <td>25-45</td>\n",
       "      <td>0</td>\n",
       "      <td>1</td>\n",
       "      <td>0</td>\n",
       "      <td>0</td>\n",
       "    </tr>\n",
       "    <tr>\n",
       "      <th>2769</th>\n",
       "      <td>155570</td>\n",
       "      <td>941</td>\n",
       "      <td>Ярославль</td>\n",
       "      <td>Ж</td>\n",
       "      <td>34</td>\n",
       "      <td>5</td>\n",
       "      <td>6916364.04</td>\n",
       "      <td>3</td>\n",
       "      <td>0</td>\n",
       "      <td>1</td>\n",
       "      <td>...</td>\n",
       "      <td>0</td>\n",
       "      <td>0</td>\n",
       "      <td>1</td>\n",
       "      <td>1</td>\n",
       "      <td>0</td>\n",
       "      <td>25-45</td>\n",
       "      <td>0</td>\n",
       "      <td>1</td>\n",
       "      <td>0</td>\n",
       "      <td>0</td>\n",
       "    </tr>\n",
       "    <tr>\n",
       "      <th>3058</th>\n",
       "      <td>149601</td>\n",
       "      <td>866</td>\n",
       "      <td>Рыбинск</td>\n",
       "      <td>М</td>\n",
       "      <td>30</td>\n",
       "      <td>5</td>\n",
       "      <td>588736.74</td>\n",
       "      <td>4</td>\n",
       "      <td>0</td>\n",
       "      <td>1</td>\n",
       "      <td>...</td>\n",
       "      <td>0</td>\n",
       "      <td>1</td>\n",
       "      <td>0</td>\n",
       "      <td>0</td>\n",
       "      <td>1</td>\n",
       "      <td>25-45</td>\n",
       "      <td>0</td>\n",
       "      <td>1</td>\n",
       "      <td>0</td>\n",
       "      <td>0</td>\n",
       "    </tr>\n",
       "    <tr>\n",
       "      <th>3067</th>\n",
       "      <td>138547</td>\n",
       "      <td>887</td>\n",
       "      <td>Ярославль</td>\n",
       "      <td>М</td>\n",
       "      <td>35</td>\n",
       "      <td>6</td>\n",
       "      <td>475768.04</td>\n",
       "      <td>3</td>\n",
       "      <td>0</td>\n",
       "      <td>1</td>\n",
       "      <td>...</td>\n",
       "      <td>0</td>\n",
       "      <td>0</td>\n",
       "      <td>1</td>\n",
       "      <td>0</td>\n",
       "      <td>1</td>\n",
       "      <td>25-45</td>\n",
       "      <td>0</td>\n",
       "      <td>1</td>\n",
       "      <td>0</td>\n",
       "      <td>0</td>\n",
       "    </tr>\n",
       "    <tr>\n",
       "      <th>3127</th>\n",
       "      <td>137494</td>\n",
       "      <td>906</td>\n",
       "      <td>Ярославль</td>\n",
       "      <td>Ж</td>\n",
       "      <td>29</td>\n",
       "      <td>5</td>\n",
       "      <td>659172.87</td>\n",
       "      <td>3</td>\n",
       "      <td>0</td>\n",
       "      <td>1</td>\n",
       "      <td>...</td>\n",
       "      <td>0</td>\n",
       "      <td>0</td>\n",
       "      <td>1</td>\n",
       "      <td>1</td>\n",
       "      <td>0</td>\n",
       "      <td>25-45</td>\n",
       "      <td>0</td>\n",
       "      <td>1</td>\n",
       "      <td>0</td>\n",
       "      <td>0</td>\n",
       "    </tr>\n",
       "    <tr>\n",
       "      <th>3240</th>\n",
       "      <td>147902</td>\n",
       "      <td>868</td>\n",
       "      <td>Ярославль</td>\n",
       "      <td>Ж</td>\n",
       "      <td>33</td>\n",
       "      <td>5</td>\n",
       "      <td>801203.06</td>\n",
       "      <td>3</td>\n",
       "      <td>0</td>\n",
       "      <td>1</td>\n",
       "      <td>...</td>\n",
       "      <td>0</td>\n",
       "      <td>0</td>\n",
       "      <td>1</td>\n",
       "      <td>1</td>\n",
       "      <td>0</td>\n",
       "      <td>25-45</td>\n",
       "      <td>0</td>\n",
       "      <td>1</td>\n",
       "      <td>0</td>\n",
       "      <td>0</td>\n",
       "    </tr>\n",
       "    <tr>\n",
       "      <th>3976</th>\n",
       "      <td>129785</td>\n",
       "      <td>904</td>\n",
       "      <td>Рыбинск</td>\n",
       "      <td>М</td>\n",
       "      <td>33</td>\n",
       "      <td>5</td>\n",
       "      <td>2427737.60</td>\n",
       "      <td>3</td>\n",
       "      <td>0</td>\n",
       "      <td>1</td>\n",
       "      <td>...</td>\n",
       "      <td>0</td>\n",
       "      <td>1</td>\n",
       "      <td>0</td>\n",
       "      <td>0</td>\n",
       "      <td>1</td>\n",
       "      <td>25-45</td>\n",
       "      <td>0</td>\n",
       "      <td>1</td>\n",
       "      <td>0</td>\n",
       "      <td>0</td>\n",
       "    </tr>\n",
       "    <tr>\n",
       "      <th>4040</th>\n",
       "      <td>177784</td>\n",
       "      <td>923</td>\n",
       "      <td>Ростов</td>\n",
       "      <td>М</td>\n",
       "      <td>35</td>\n",
       "      <td>5</td>\n",
       "      <td>1497880.90</td>\n",
       "      <td>4</td>\n",
       "      <td>0</td>\n",
       "      <td>1</td>\n",
       "      <td>...</td>\n",
       "      <td>1</td>\n",
       "      <td>0</td>\n",
       "      <td>0</td>\n",
       "      <td>0</td>\n",
       "      <td>1</td>\n",
       "      <td>25-45</td>\n",
       "      <td>0</td>\n",
       "      <td>1</td>\n",
       "      <td>0</td>\n",
       "      <td>0</td>\n",
       "    </tr>\n",
       "    <tr>\n",
       "      <th>4422</th>\n",
       "      <td>131401</td>\n",
       "      <td>870</td>\n",
       "      <td>Ярославль</td>\n",
       "      <td>Ж</td>\n",
       "      <td>31</td>\n",
       "      <td>5</td>\n",
       "      <td>599512.35</td>\n",
       "      <td>3</td>\n",
       "      <td>0</td>\n",
       "      <td>1</td>\n",
       "      <td>...</td>\n",
       "      <td>0</td>\n",
       "      <td>0</td>\n",
       "      <td>1</td>\n",
       "      <td>1</td>\n",
       "      <td>0</td>\n",
       "      <td>25-45</td>\n",
       "      <td>0</td>\n",
       "      <td>1</td>\n",
       "      <td>0</td>\n",
       "      <td>0</td>\n",
       "    </tr>\n",
       "    <tr>\n",
       "      <th>4624</th>\n",
       "      <td>113916</td>\n",
       "      <td>901</td>\n",
       "      <td>Ярославль</td>\n",
       "      <td>М</td>\n",
       "      <td>44</td>\n",
       "      <td>8</td>\n",
       "      <td>2590265.13</td>\n",
       "      <td>3</td>\n",
       "      <td>0</td>\n",
       "      <td>1</td>\n",
       "      <td>...</td>\n",
       "      <td>0</td>\n",
       "      <td>0</td>\n",
       "      <td>1</td>\n",
       "      <td>0</td>\n",
       "      <td>1</td>\n",
       "      <td>25-45</td>\n",
       "      <td>0</td>\n",
       "      <td>1</td>\n",
       "      <td>0</td>\n",
       "      <td>0</td>\n",
       "    </tr>\n",
       "    <tr>\n",
       "      <th>4813</th>\n",
       "      <td>192136</td>\n",
       "      <td>913</td>\n",
       "      <td>Ярославль</td>\n",
       "      <td>М</td>\n",
       "      <td>41</td>\n",
       "      <td>5</td>\n",
       "      <td>1693633.12</td>\n",
       "      <td>3</td>\n",
       "      <td>0</td>\n",
       "      <td>1</td>\n",
       "      <td>...</td>\n",
       "      <td>0</td>\n",
       "      <td>0</td>\n",
       "      <td>1</td>\n",
       "      <td>0</td>\n",
       "      <td>1</td>\n",
       "      <td>25-45</td>\n",
       "      <td>0</td>\n",
       "      <td>1</td>\n",
       "      <td>0</td>\n",
       "      <td>0</td>\n",
       "    </tr>\n",
       "    <tr>\n",
       "      <th>4883</th>\n",
       "      <td>117404</td>\n",
       "      <td>877</td>\n",
       "      <td>Ярославль</td>\n",
       "      <td>Ж</td>\n",
       "      <td>29</td>\n",
       "      <td>7</td>\n",
       "      <td>394906.70</td>\n",
       "      <td>3</td>\n",
       "      <td>0</td>\n",
       "      <td>1</td>\n",
       "      <td>...</td>\n",
       "      <td>0</td>\n",
       "      <td>0</td>\n",
       "      <td>1</td>\n",
       "      <td>1</td>\n",
       "      <td>0</td>\n",
       "      <td>25-45</td>\n",
       "      <td>0</td>\n",
       "      <td>1</td>\n",
       "      <td>0</td>\n",
       "      <td>0</td>\n",
       "    </tr>\n",
       "    <tr>\n",
       "      <th>5012</th>\n",
       "      <td>142473</td>\n",
       "      <td>909</td>\n",
       "      <td>Ярославль</td>\n",
       "      <td>Ж</td>\n",
       "      <td>37</td>\n",
       "      <td>5</td>\n",
       "      <td>1207775.30</td>\n",
       "      <td>3</td>\n",
       "      <td>0</td>\n",
       "      <td>1</td>\n",
       "      <td>...</td>\n",
       "      <td>0</td>\n",
       "      <td>0</td>\n",
       "      <td>1</td>\n",
       "      <td>1</td>\n",
       "      <td>0</td>\n",
       "      <td>25-45</td>\n",
       "      <td>0</td>\n",
       "      <td>1</td>\n",
       "      <td>0</td>\n",
       "      <td>0</td>\n",
       "    </tr>\n",
       "    <tr>\n",
       "      <th>5273</th>\n",
       "      <td>207128</td>\n",
       "      <td>884</td>\n",
       "      <td>Ярославль</td>\n",
       "      <td>Ж</td>\n",
       "      <td>42</td>\n",
       "      <td>5</td>\n",
       "      <td>2269291.52</td>\n",
       "      <td>3</td>\n",
       "      <td>0</td>\n",
       "      <td>1</td>\n",
       "      <td>...</td>\n",
       "      <td>0</td>\n",
       "      <td>0</td>\n",
       "      <td>1</td>\n",
       "      <td>1</td>\n",
       "      <td>0</td>\n",
       "      <td>25-45</td>\n",
       "      <td>0</td>\n",
       "      <td>1</td>\n",
       "      <td>0</td>\n",
       "      <td>0</td>\n",
       "    </tr>\n",
       "    <tr>\n",
       "      <th>5377</th>\n",
       "      <td>156102</td>\n",
       "      <td>826</td>\n",
       "      <td>Ярославль</td>\n",
       "      <td>М</td>\n",
       "      <td>28</td>\n",
       "      <td>7</td>\n",
       "      <td>214989.96</td>\n",
       "      <td>4</td>\n",
       "      <td>0</td>\n",
       "      <td>1</td>\n",
       "      <td>...</td>\n",
       "      <td>0</td>\n",
       "      <td>0</td>\n",
       "      <td>1</td>\n",
       "      <td>0</td>\n",
       "      <td>1</td>\n",
       "      <td>25-45</td>\n",
       "      <td>0</td>\n",
       "      <td>1</td>\n",
       "      <td>0</td>\n",
       "      <td>0</td>\n",
       "    </tr>\n",
       "    <tr>\n",
       "      <th>5379</th>\n",
       "      <td>165534</td>\n",
       "      <td>846</td>\n",
       "      <td>Рыбинск</td>\n",
       "      <td>М</td>\n",
       "      <td>38</td>\n",
       "      <td>6</td>\n",
       "      <td>603585.35</td>\n",
       "      <td>4</td>\n",
       "      <td>0</td>\n",
       "      <td>1</td>\n",
       "      <td>...</td>\n",
       "      <td>0</td>\n",
       "      <td>1</td>\n",
       "      <td>0</td>\n",
       "      <td>0</td>\n",
       "      <td>1</td>\n",
       "      <td>25-45</td>\n",
       "      <td>0</td>\n",
       "      <td>1</td>\n",
       "      <td>0</td>\n",
       "      <td>0</td>\n",
       "    </tr>\n",
       "    <tr>\n",
       "      <th>5509</th>\n",
       "      <td>150424</td>\n",
       "      <td>855</td>\n",
       "      <td>Ярославль</td>\n",
       "      <td>М</td>\n",
       "      <td>39</td>\n",
       "      <td>5</td>\n",
       "      <td>1146433.23</td>\n",
       "      <td>3</td>\n",
       "      <td>0</td>\n",
       "      <td>1</td>\n",
       "      <td>...</td>\n",
       "      <td>0</td>\n",
       "      <td>0</td>\n",
       "      <td>1</td>\n",
       "      <td>0</td>\n",
       "      <td>1</td>\n",
       "      <td>25-45</td>\n",
       "      <td>0</td>\n",
       "      <td>1</td>\n",
       "      <td>0</td>\n",
       "      <td>0</td>\n",
       "    </tr>\n",
       "    <tr>\n",
       "      <th>5880</th>\n",
       "      <td>116282</td>\n",
       "      <td>814</td>\n",
       "      <td>Ярославль</td>\n",
       "      <td>М</td>\n",
       "      <td>44</td>\n",
       "      <td>5</td>\n",
       "      <td>1618334.48</td>\n",
       "      <td>3</td>\n",
       "      <td>0</td>\n",
       "      <td>1</td>\n",
       "      <td>...</td>\n",
       "      <td>0</td>\n",
       "      <td>0</td>\n",
       "      <td>1</td>\n",
       "      <td>0</td>\n",
       "      <td>1</td>\n",
       "      <td>25-45</td>\n",
       "      <td>0</td>\n",
       "      <td>1</td>\n",
       "      <td>0</td>\n",
       "      <td>0</td>\n",
       "    </tr>\n",
       "    <tr>\n",
       "      <th>6409</th>\n",
       "      <td>191917</td>\n",
       "      <td>915</td>\n",
       "      <td>Ярославль</td>\n",
       "      <td>М</td>\n",
       "      <td>42</td>\n",
       "      <td>5</td>\n",
       "      <td>3013357.61</td>\n",
       "      <td>3</td>\n",
       "      <td>0</td>\n",
       "      <td>1</td>\n",
       "      <td>...</td>\n",
       "      <td>0</td>\n",
       "      <td>0</td>\n",
       "      <td>1</td>\n",
       "      <td>0</td>\n",
       "      <td>1</td>\n",
       "      <td>25-45</td>\n",
       "      <td>0</td>\n",
       "      <td>1</td>\n",
       "      <td>0</td>\n",
       "      <td>0</td>\n",
       "    </tr>\n",
       "    <tr>\n",
       "      <th>6544</th>\n",
       "      <td>163065</td>\n",
       "      <td>834</td>\n",
       "      <td>Ярославль</td>\n",
       "      <td>М</td>\n",
       "      <td>34</td>\n",
       "      <td>5</td>\n",
       "      <td>1435912.40</td>\n",
       "      <td>4</td>\n",
       "      <td>0</td>\n",
       "      <td>1</td>\n",
       "      <td>...</td>\n",
       "      <td>0</td>\n",
       "      <td>0</td>\n",
       "      <td>1</td>\n",
       "      <td>0</td>\n",
       "      <td>1</td>\n",
       "      <td>25-45</td>\n",
       "      <td>0</td>\n",
       "      <td>1</td>\n",
       "      <td>0</td>\n",
       "      <td>0</td>\n",
       "    </tr>\n",
       "    <tr>\n",
       "      <th>6613</th>\n",
       "      <td>149530</td>\n",
       "      <td>846</td>\n",
       "      <td>Ярославль</td>\n",
       "      <td>Ж</td>\n",
       "      <td>36</td>\n",
       "      <td>5</td>\n",
       "      <td>1005407.55</td>\n",
       "      <td>3</td>\n",
       "      <td>0</td>\n",
       "      <td>1</td>\n",
       "      <td>...</td>\n",
       "      <td>0</td>\n",
       "      <td>0</td>\n",
       "      <td>1</td>\n",
       "      <td>1</td>\n",
       "      <td>0</td>\n",
       "      <td>25-45</td>\n",
       "      <td>0</td>\n",
       "      <td>1</td>\n",
       "      <td>0</td>\n",
       "      <td>0</td>\n",
       "    </tr>\n",
       "    <tr>\n",
       "      <th>6622</th>\n",
       "      <td>123325</td>\n",
       "      <td>867</td>\n",
       "      <td>Ярославль</td>\n",
       "      <td>Ж</td>\n",
       "      <td>38</td>\n",
       "      <td>5</td>\n",
       "      <td>675832.76</td>\n",
       "      <td>3</td>\n",
       "      <td>0</td>\n",
       "      <td>1</td>\n",
       "      <td>...</td>\n",
       "      <td>0</td>\n",
       "      <td>0</td>\n",
       "      <td>1</td>\n",
       "      <td>1</td>\n",
       "      <td>0</td>\n",
       "      <td>25-45</td>\n",
       "      <td>0</td>\n",
       "      <td>1</td>\n",
       "      <td>0</td>\n",
       "      <td>0</td>\n",
       "    </tr>\n",
       "    <tr>\n",
       "      <th>6862</th>\n",
       "      <td>152005</td>\n",
       "      <td>927</td>\n",
       "      <td>Ярославль</td>\n",
       "      <td>Ж</td>\n",
       "      <td>34</td>\n",
       "      <td>5</td>\n",
       "      <td>3782453.73</td>\n",
       "      <td>3</td>\n",
       "      <td>0</td>\n",
       "      <td>1</td>\n",
       "      <td>...</td>\n",
       "      <td>0</td>\n",
       "      <td>0</td>\n",
       "      <td>1</td>\n",
       "      <td>1</td>\n",
       "      <td>0</td>\n",
       "      <td>25-45</td>\n",
       "      <td>0</td>\n",
       "      <td>1</td>\n",
       "      <td>0</td>\n",
       "      <td>0</td>\n",
       "    </tr>\n",
       "    <tr>\n",
       "      <th>6985</th>\n",
       "      <td>202077</td>\n",
       "      <td>868</td>\n",
       "      <td>Ярославль</td>\n",
       "      <td>М</td>\n",
       "      <td>37</td>\n",
       "      <td>6</td>\n",
       "      <td>818763.06</td>\n",
       "      <td>3</td>\n",
       "      <td>0</td>\n",
       "      <td>1</td>\n",
       "      <td>...</td>\n",
       "      <td>0</td>\n",
       "      <td>0</td>\n",
       "      <td>1</td>\n",
       "      <td>0</td>\n",
       "      <td>1</td>\n",
       "      <td>25-45</td>\n",
       "      <td>0</td>\n",
       "      <td>1</td>\n",
       "      <td>0</td>\n",
       "      <td>0</td>\n",
       "    </tr>\n",
       "    <tr>\n",
       "      <th>6989</th>\n",
       "      <td>121413</td>\n",
       "      <td>929</td>\n",
       "      <td>Ярославль</td>\n",
       "      <td>Ж</td>\n",
       "      <td>27</td>\n",
       "      <td>5</td>\n",
       "      <td>1476573.30</td>\n",
       "      <td>3</td>\n",
       "      <td>0</td>\n",
       "      <td>1</td>\n",
       "      <td>...</td>\n",
       "      <td>0</td>\n",
       "      <td>0</td>\n",
       "      <td>1</td>\n",
       "      <td>1</td>\n",
       "      <td>0</td>\n",
       "      <td>25-45</td>\n",
       "      <td>0</td>\n",
       "      <td>1</td>\n",
       "      <td>0</td>\n",
       "      <td>0</td>\n",
       "    </tr>\n",
       "    <tr>\n",
       "      <th>7094</th>\n",
       "      <td>116688</td>\n",
       "      <td>912</td>\n",
       "      <td>Ярославль</td>\n",
       "      <td>Ж</td>\n",
       "      <td>32</td>\n",
       "      <td>6</td>\n",
       "      <td>1374695.43</td>\n",
       "      <td>4</td>\n",
       "      <td>0</td>\n",
       "      <td>1</td>\n",
       "      <td>...</td>\n",
       "      <td>0</td>\n",
       "      <td>0</td>\n",
       "      <td>1</td>\n",
       "      <td>1</td>\n",
       "      <td>0</td>\n",
       "      <td>25-45</td>\n",
       "      <td>0</td>\n",
       "      <td>1</td>\n",
       "      <td>0</td>\n",
       "      <td>0</td>\n",
       "    </tr>\n",
       "    <tr>\n",
       "      <th>7304</th>\n",
       "      <td>120951</td>\n",
       "      <td>933</td>\n",
       "      <td>Ярославль</td>\n",
       "      <td>Ж</td>\n",
       "      <td>32</td>\n",
       "      <td>5</td>\n",
       "      <td>1496658.76</td>\n",
       "      <td>3</td>\n",
       "      <td>0</td>\n",
       "      <td>1</td>\n",
       "      <td>...</td>\n",
       "      <td>0</td>\n",
       "      <td>0</td>\n",
       "      <td>1</td>\n",
       "      <td>1</td>\n",
       "      <td>0</td>\n",
       "      <td>25-45</td>\n",
       "      <td>0</td>\n",
       "      <td>1</td>\n",
       "      <td>0</td>\n",
       "      <td>0</td>\n",
       "    </tr>\n",
       "    <tr>\n",
       "      <th>7471</th>\n",
       "      <td>147985</td>\n",
       "      <td>900</td>\n",
       "      <td>Ярославль</td>\n",
       "      <td>М</td>\n",
       "      <td>26</td>\n",
       "      <td>5</td>\n",
       "      <td>749698.70</td>\n",
       "      <td>3</td>\n",
       "      <td>0</td>\n",
       "      <td>1</td>\n",
       "      <td>...</td>\n",
       "      <td>0</td>\n",
       "      <td>0</td>\n",
       "      <td>1</td>\n",
       "      <td>0</td>\n",
       "      <td>1</td>\n",
       "      <td>25-45</td>\n",
       "      <td>0</td>\n",
       "      <td>1</td>\n",
       "      <td>0</td>\n",
       "      <td>0</td>\n",
       "    </tr>\n",
       "    <tr>\n",
       "      <th>7931</th>\n",
       "      <td>218880</td>\n",
       "      <td>926</td>\n",
       "      <td>Ярославль</td>\n",
       "      <td>Ж</td>\n",
       "      <td>30</td>\n",
       "      <td>5</td>\n",
       "      <td>5270924.77</td>\n",
       "      <td>3</td>\n",
       "      <td>0</td>\n",
       "      <td>1</td>\n",
       "      <td>...</td>\n",
       "      <td>0</td>\n",
       "      <td>0</td>\n",
       "      <td>1</td>\n",
       "      <td>1</td>\n",
       "      <td>0</td>\n",
       "      <td>25-45</td>\n",
       "      <td>0</td>\n",
       "      <td>1</td>\n",
       "      <td>0</td>\n",
       "      <td>0</td>\n",
       "    </tr>\n",
       "    <tr>\n",
       "      <th>8264</th>\n",
       "      <td>210958</td>\n",
       "      <td>913</td>\n",
       "      <td>Ярославль</td>\n",
       "      <td>М</td>\n",
       "      <td>28</td>\n",
       "      <td>5</td>\n",
       "      <td>1191027.34</td>\n",
       "      <td>3</td>\n",
       "      <td>0</td>\n",
       "      <td>1</td>\n",
       "      <td>...</td>\n",
       "      <td>0</td>\n",
       "      <td>0</td>\n",
       "      <td>1</td>\n",
       "      <td>0</td>\n",
       "      <td>1</td>\n",
       "      <td>25-45</td>\n",
       "      <td>0</td>\n",
       "      <td>1</td>\n",
       "      <td>0</td>\n",
       "      <td>0</td>\n",
       "    </tr>\n",
       "    <tr>\n",
       "      <th>8535</th>\n",
       "      <td>183510</td>\n",
       "      <td>922</td>\n",
       "      <td>Ярославль</td>\n",
       "      <td>М</td>\n",
       "      <td>26</td>\n",
       "      <td>5</td>\n",
       "      <td>448542.42</td>\n",
       "      <td>3</td>\n",
       "      <td>0</td>\n",
       "      <td>1</td>\n",
       "      <td>...</td>\n",
       "      <td>0</td>\n",
       "      <td>0</td>\n",
       "      <td>1</td>\n",
       "      <td>0</td>\n",
       "      <td>1</td>\n",
       "      <td>25-45</td>\n",
       "      <td>0</td>\n",
       "      <td>1</td>\n",
       "      <td>0</td>\n",
       "      <td>0</td>\n",
       "    </tr>\n",
       "    <tr>\n",
       "      <th>8638</th>\n",
       "      <td>138607</td>\n",
       "      <td>869</td>\n",
       "      <td>Рыбинск</td>\n",
       "      <td>М</td>\n",
       "      <td>40</td>\n",
       "      <td>5</td>\n",
       "      <td>655740.71</td>\n",
       "      <td>4</td>\n",
       "      <td>0</td>\n",
       "      <td>1</td>\n",
       "      <td>...</td>\n",
       "      <td>0</td>\n",
       "      <td>1</td>\n",
       "      <td>0</td>\n",
       "      <td>0</td>\n",
       "      <td>1</td>\n",
       "      <td>25-45</td>\n",
       "      <td>0</td>\n",
       "      <td>1</td>\n",
       "      <td>0</td>\n",
       "      <td>0</td>\n",
       "    </tr>\n",
       "    <tr>\n",
       "      <th>8839</th>\n",
       "      <td>226885</td>\n",
       "      <td>900</td>\n",
       "      <td>Ярославль</td>\n",
       "      <td>М</td>\n",
       "      <td>35</td>\n",
       "      <td>6</td>\n",
       "      <td>2243654.20</td>\n",
       "      <td>4</td>\n",
       "      <td>0</td>\n",
       "      <td>1</td>\n",
       "      <td>...</td>\n",
       "      <td>0</td>\n",
       "      <td>0</td>\n",
       "      <td>1</td>\n",
       "      <td>0</td>\n",
       "      <td>1</td>\n",
       "      <td>25-45</td>\n",
       "      <td>0</td>\n",
       "      <td>1</td>\n",
       "      <td>0</td>\n",
       "      <td>0</td>\n",
       "    </tr>\n",
       "    <tr>\n",
       "      <th>8869</th>\n",
       "      <td>143065</td>\n",
       "      <td>867</td>\n",
       "      <td>Ярославль</td>\n",
       "      <td>Ж</td>\n",
       "      <td>36</td>\n",
       "      <td>5</td>\n",
       "      <td>863582.70</td>\n",
       "      <td>3</td>\n",
       "      <td>0</td>\n",
       "      <td>1</td>\n",
       "      <td>...</td>\n",
       "      <td>0</td>\n",
       "      <td>0</td>\n",
       "      <td>1</td>\n",
       "      <td>1</td>\n",
       "      <td>0</td>\n",
       "      <td>25-45</td>\n",
       "      <td>0</td>\n",
       "      <td>1</td>\n",
       "      <td>0</td>\n",
       "      <td>0</td>\n",
       "    </tr>\n",
       "    <tr>\n",
       "      <th>9376</th>\n",
       "      <td>195167</td>\n",
       "      <td>821</td>\n",
       "      <td>Ростов</td>\n",
       "      <td>Ж</td>\n",
       "      <td>45</td>\n",
       "      <td>5</td>\n",
       "      <td>1390546.09</td>\n",
       "      <td>3</td>\n",
       "      <td>0</td>\n",
       "      <td>1</td>\n",
       "      <td>...</td>\n",
       "      <td>1</td>\n",
       "      <td>0</td>\n",
       "      <td>0</td>\n",
       "      <td>1</td>\n",
       "      <td>0</td>\n",
       "      <td>25-45</td>\n",
       "      <td>0</td>\n",
       "      <td>1</td>\n",
       "      <td>0</td>\n",
       "      <td>0</td>\n",
       "    </tr>\n",
       "    <tr>\n",
       "      <th>9565</th>\n",
       "      <td>127268</td>\n",
       "      <td>937</td>\n",
       "      <td>Ярославль</td>\n",
       "      <td>Ж</td>\n",
       "      <td>38</td>\n",
       "      <td>6</td>\n",
       "      <td>2183546.58</td>\n",
       "      <td>3</td>\n",
       "      <td>0</td>\n",
       "      <td>1</td>\n",
       "      <td>...</td>\n",
       "      <td>0</td>\n",
       "      <td>0</td>\n",
       "      <td>1</td>\n",
       "      <td>1</td>\n",
       "      <td>0</td>\n",
       "      <td>25-45</td>\n",
       "      <td>0</td>\n",
       "      <td>1</td>\n",
       "      <td>0</td>\n",
       "      <td>0</td>\n",
       "    </tr>\n",
       "  </tbody>\n",
       "</table>\n",
       "<p>49 rows × 22 columns</p>\n",
       "</div>"
      ],
      "text/plain": [
       "      userid  score       city gender  age  equity    balance  products  \\\n",
       "72    156677    873  Ярославль      М   39       5  915959.85         3   \n",
       "81    223978    850    Рыбинск      М   34       5  351583.16         4   \n",
       "475   140383    908  Ярославль      М   33       5  649294.72         4   \n",
       "734   170176    893  Ярославль      М   27       5  499315.41         3   \n",
       "847   115095    880  Ярославль      Ж   34       5  956027.03         3   \n",
       "936   134107    848     Ростов      М   26       5  218655.27         4   \n",
       "980   153716    857  Ярославль      Ж   28       7  317884.70         3   \n",
       "1147  226891    864  Ярославль      М   39       5  920418.77         3   \n",
       "1166  194256    892  Ярославль      Ж   37       5 1182532.82         3   \n",
       "1204  223416    901  Ярославль      М   27       5 1007657.77         3   \n",
       "1364  216512    918  Ярославль      М   34       5 1297184.34         3   \n",
       "1818  151739    868    Рыбинск      М   33       6  669230.15         4   \n",
       "1825  150691    938  Ярославль      Ж   34       5 2011480.78         3   \n",
       "2075  186896    860  Ярославль      М   42       5 1546551.11         3   \n",
       "2769  155570    941  Ярославль      Ж   34       5 6916364.04         3   \n",
       "3058  149601    866    Рыбинск      М   30       5  588736.74         4   \n",
       "3067  138547    887  Ярославль      М   35       6  475768.04         3   \n",
       "3127  137494    906  Ярославль      Ж   29       5  659172.87         3   \n",
       "3240  147902    868  Ярославль      Ж   33       5  801203.06         3   \n",
       "3976  129785    904    Рыбинск      М   33       5 2427737.60         3   \n",
       "4040  177784    923     Ростов      М   35       5 1497880.90         4   \n",
       "4422  131401    870  Ярославль      Ж   31       5  599512.35         3   \n",
       "4624  113916    901  Ярославль      М   44       8 2590265.13         3   \n",
       "4813  192136    913  Ярославль      М   41       5 1693633.12         3   \n",
       "4883  117404    877  Ярославль      Ж   29       7  394906.70         3   \n",
       "5012  142473    909  Ярославль      Ж   37       5 1207775.30         3   \n",
       "5273  207128    884  Ярославль      Ж   42       5 2269291.52         3   \n",
       "5377  156102    826  Ярославль      М   28       7  214989.96         4   \n",
       "5379  165534    846    Рыбинск      М   38       6  603585.35         4   \n",
       "5509  150424    855  Ярославль      М   39       5 1146433.23         3   \n",
       "5880  116282    814  Ярославль      М   44       5 1618334.48         3   \n",
       "6409  191917    915  Ярославль      М   42       5 3013357.61         3   \n",
       "6544  163065    834  Ярославль      М   34       5 1435912.40         4   \n",
       "6613  149530    846  Ярославль      Ж   36       5 1005407.55         3   \n",
       "6622  123325    867  Ярославль      Ж   38       5  675832.76         3   \n",
       "6862  152005    927  Ярославль      Ж   34       5 3782453.73         3   \n",
       "6985  202077    868  Ярославль      М   37       6  818763.06         3   \n",
       "6989  121413    929  Ярославль      Ж   27       5 1476573.30         3   \n",
       "7094  116688    912  Ярославль      Ж   32       6 1374695.43         4   \n",
       "7304  120951    933  Ярославль      Ж   32       5 1496658.76         3   \n",
       "7471  147985    900  Ярославль      М   26       5  749698.70         3   \n",
       "7931  218880    926  Ярославль      Ж   30       5 5270924.77         3   \n",
       "8264  210958    913  Ярославль      М   28       5 1191027.34         3   \n",
       "8535  183510    922  Ярославль      М   26       5  448542.42         3   \n",
       "8638  138607    869    Рыбинск      М   40       5  655740.71         4   \n",
       "8839  226885    900  Ярославль      М   35       6 2243654.20         4   \n",
       "8869  143065    867  Ярославль      Ж   36       5  863582.70         3   \n",
       "9376  195167    821     Ростов      Ж   45       5 1390546.09         3   \n",
       "9565  127268    937  Ярославль      Ж   38       6 2183546.58         3   \n",
       "\n",
       "      credit_card  last_activity  ...  Ростов  Рыбинск  Ярославль  female  \\\n",
       "72              0              1  ...       0        0          1       0   \n",
       "81              0              1  ...       0        1          0       0   \n",
       "475             0              1  ...       0        0          1       0   \n",
       "734             0              1  ...       0        0          1       0   \n",
       "847             0              1  ...       0        0          1       1   \n",
       "936             0              1  ...       1        0          0       0   \n",
       "980             0              1  ...       0        0          1       1   \n",
       "1147            0              1  ...       0        0          1       0   \n",
       "1166            0              1  ...       0        0          1       1   \n",
       "1204            0              1  ...       0        0          1       0   \n",
       "1364            0              1  ...       0        0          1       0   \n",
       "1818            0              1  ...       0        1          0       0   \n",
       "1825            0              1  ...       0        0          1       1   \n",
       "2075            0              1  ...       0        0          1       0   \n",
       "2769            0              1  ...       0        0          1       1   \n",
       "3058            0              1  ...       0        1          0       0   \n",
       "3067            0              1  ...       0        0          1       0   \n",
       "3127            0              1  ...       0        0          1       1   \n",
       "3240            0              1  ...       0        0          1       1   \n",
       "3976            0              1  ...       0        1          0       0   \n",
       "4040            0              1  ...       1        0          0       0   \n",
       "4422            0              1  ...       0        0          1       1   \n",
       "4624            0              1  ...       0        0          1       0   \n",
       "4813            0              1  ...       0        0          1       0   \n",
       "4883            0              1  ...       0        0          1       1   \n",
       "5012            0              1  ...       0        0          1       1   \n",
       "5273            0              1  ...       0        0          1       1   \n",
       "5377            0              1  ...       0        0          1       0   \n",
       "5379            0              1  ...       0        1          0       0   \n",
       "5509            0              1  ...       0        0          1       0   \n",
       "5880            0              1  ...       0        0          1       0   \n",
       "6409            0              1  ...       0        0          1       0   \n",
       "6544            0              1  ...       0        0          1       0   \n",
       "6613            0              1  ...       0        0          1       1   \n",
       "6622            0              1  ...       0        0          1       1   \n",
       "6862            0              1  ...       0        0          1       1   \n",
       "6985            0              1  ...       0        0          1       0   \n",
       "6989            0              1  ...       0        0          1       1   \n",
       "7094            0              1  ...       0        0          1       1   \n",
       "7304            0              1  ...       0        0          1       1   \n",
       "7471            0              1  ...       0        0          1       0   \n",
       "7931            0              1  ...       0        0          1       1   \n",
       "8264            0              1  ...       0        0          1       0   \n",
       "8535            0              1  ...       0        0          1       0   \n",
       "8638            0              1  ...       0        1          0       0   \n",
       "8839            0              1  ...       0        0          1       0   \n",
       "8869            0              1  ...       0        0          1       1   \n",
       "9376            0              1  ...       1        0          0       1   \n",
       "9565            0              1  ...       0        0          1       1   \n",
       "\n",
       "      male  category_age  18-24 25-45  46-62  63+  \n",
       "72       1         25-45      0     1      0    0  \n",
       "81       1         25-45      0     1      0    0  \n",
       "475      1         25-45      0     1      0    0  \n",
       "734      1         25-45      0     1      0    0  \n",
       "847      0         25-45      0     1      0    0  \n",
       "936      1         25-45      0     1      0    0  \n",
       "980      0         25-45      0     1      0    0  \n",
       "1147     1         25-45      0     1      0    0  \n",
       "1166     0         25-45      0     1      0    0  \n",
       "1204     1         25-45      0     1      0    0  \n",
       "1364     1         25-45      0     1      0    0  \n",
       "1818     1         25-45      0     1      0    0  \n",
       "1825     0         25-45      0     1      0    0  \n",
       "2075     1         25-45      0     1      0    0  \n",
       "2769     0         25-45      0     1      0    0  \n",
       "3058     1         25-45      0     1      0    0  \n",
       "3067     1         25-45      0     1      0    0  \n",
       "3127     0         25-45      0     1      0    0  \n",
       "3240     0         25-45      0     1      0    0  \n",
       "3976     1         25-45      0     1      0    0  \n",
       "4040     1         25-45      0     1      0    0  \n",
       "4422     0         25-45      0     1      0    0  \n",
       "4624     1         25-45      0     1      0    0  \n",
       "4813     1         25-45      0     1      0    0  \n",
       "4883     0         25-45      0     1      0    0  \n",
       "5012     0         25-45      0     1      0    0  \n",
       "5273     0         25-45      0     1      0    0  \n",
       "5377     1         25-45      0     1      0    0  \n",
       "5379     1         25-45      0     1      0    0  \n",
       "5509     1         25-45      0     1      0    0  \n",
       "5880     1         25-45      0     1      0    0  \n",
       "6409     1         25-45      0     1      0    0  \n",
       "6544     1         25-45      0     1      0    0  \n",
       "6613     0         25-45      0     1      0    0  \n",
       "6622     0         25-45      0     1      0    0  \n",
       "6862     0         25-45      0     1      0    0  \n",
       "6985     1         25-45      0     1      0    0  \n",
       "6989     0         25-45      0     1      0    0  \n",
       "7094     0         25-45      0     1      0    0  \n",
       "7304     0         25-45      0     1      0    0  \n",
       "7471     1         25-45      0     1      0    0  \n",
       "7931     0         25-45      0     1      0    0  \n",
       "8264     1         25-45      0     1      0    0  \n",
       "8535     1         25-45      0     1      0    0  \n",
       "8638     1         25-45      0     1      0    0  \n",
       "8839     1         25-45      0     1      0    0  \n",
       "8869     0         25-45      0     1      0    0  \n",
       "9376     0         25-45      0     1      0    0  \n",
       "9565     0         25-45      0     1      0    0  \n",
       "\n",
       "[49 rows x 22 columns]"
      ]
     },
     "execution_count": 48,
     "metadata": {},
     "output_type": "execute_result"
    }
   ],
   "source": [
    "portrait_3 = df.query (\n",
    "    'age > 25 and age <= 45 \\\n",
    "    and equity >= 5 \\\n",
    "    and score >= 770 \\\n",
    "    and products >= 3 \\\n",
    "    and credit_card == 0 \\\n",
    "    and last_activity == 1 \\\n",
    "    and churn == 1') \n",
    "print(\"Количество клиентов в портрете:\",len(portrait_3))\n",
    "portrait_3"
   ]
  },
  {
   "cell_type": "markdown",
   "metadata": {},
   "source": [
    "### Портрет №4"
   ]
  },
  {
   "cell_type": "markdown",
   "metadata": {},
   "source": [
    "- Возраст: 25-45\n",
    "- Оценка собственности: 5 и меньше\n",
    "- Кредитный скоринг: 750 и выше\n",
    "- Количество продуктов банка: 3 и выше \n",
    "- Наличие кредитной карты: нет\n",
    "- Наличие активности клиента: да\n",
    "- Пол клиента: любой\n",
    "- Город: любой"
   ]
  },
  {
   "cell_type": "code",
   "execution_count": 49,
   "metadata": {},
   "outputs": [
    {
     "name": "stdout",
     "output_type": "stream",
     "text": [
      "Количество клиентов в портрете: 93\n"
     ]
    },
    {
     "data": {
      "text/html": [
       "<div>\n",
       "<style scoped>\n",
       "    .dataframe tbody tr th:only-of-type {\n",
       "        vertical-align: middle;\n",
       "    }\n",
       "\n",
       "    .dataframe tbody tr th {\n",
       "        vertical-align: top;\n",
       "    }\n",
       "\n",
       "    .dataframe thead th {\n",
       "        text-align: right;\n",
       "    }\n",
       "</style>\n",
       "<table border=\"1\" class=\"dataframe\">\n",
       "  <thead>\n",
       "    <tr style=\"text-align: right;\">\n",
       "      <th></th>\n",
       "      <th>userid</th>\n",
       "      <th>score</th>\n",
       "      <th>city</th>\n",
       "      <th>gender</th>\n",
       "      <th>age</th>\n",
       "      <th>equity</th>\n",
       "      <th>balance</th>\n",
       "      <th>products</th>\n",
       "      <th>credit_card</th>\n",
       "      <th>last_activity</th>\n",
       "      <th>...</th>\n",
       "      <th>Ростов</th>\n",
       "      <th>Рыбинск</th>\n",
       "      <th>Ярославль</th>\n",
       "      <th>female</th>\n",
       "      <th>male</th>\n",
       "      <th>category_age</th>\n",
       "      <th>18-24</th>\n",
       "      <th>25-45</th>\n",
       "      <th>46-62</th>\n",
       "      <th>63+</th>\n",
       "    </tr>\n",
       "  </thead>\n",
       "  <tbody>\n",
       "    <tr>\n",
       "      <th>72</th>\n",
       "      <td>156677</td>\n",
       "      <td>873</td>\n",
       "      <td>Ярославль</td>\n",
       "      <td>М</td>\n",
       "      <td>39</td>\n",
       "      <td>5</td>\n",
       "      <td>915959.85</td>\n",
       "      <td>3</td>\n",
       "      <td>0</td>\n",
       "      <td>1</td>\n",
       "      <td>...</td>\n",
       "      <td>0</td>\n",
       "      <td>0</td>\n",
       "      <td>1</td>\n",
       "      <td>0</td>\n",
       "      <td>1</td>\n",
       "      <td>25-45</td>\n",
       "      <td>0</td>\n",
       "      <td>1</td>\n",
       "      <td>0</td>\n",
       "      <td>0</td>\n",
       "    </tr>\n",
       "    <tr>\n",
       "      <th>81</th>\n",
       "      <td>223978</td>\n",
       "      <td>850</td>\n",
       "      <td>Рыбинск</td>\n",
       "      <td>М</td>\n",
       "      <td>34</td>\n",
       "      <td>5</td>\n",
       "      <td>351583.16</td>\n",
       "      <td>4</td>\n",
       "      <td>0</td>\n",
       "      <td>1</td>\n",
       "      <td>...</td>\n",
       "      <td>0</td>\n",
       "      <td>1</td>\n",
       "      <td>0</td>\n",
       "      <td>0</td>\n",
       "      <td>1</td>\n",
       "      <td>25-45</td>\n",
       "      <td>0</td>\n",
       "      <td>1</td>\n",
       "      <td>0</td>\n",
       "      <td>0</td>\n",
       "    </tr>\n",
       "    <tr>\n",
       "      <th>177</th>\n",
       "      <td>147950</td>\n",
       "      <td>899</td>\n",
       "      <td>Ярославль</td>\n",
       "      <td>М</td>\n",
       "      <td>37</td>\n",
       "      <td>4</td>\n",
       "      <td>2229215.25</td>\n",
       "      <td>3</td>\n",
       "      <td>0</td>\n",
       "      <td>1</td>\n",
       "      <td>...</td>\n",
       "      <td>0</td>\n",
       "      <td>0</td>\n",
       "      <td>1</td>\n",
       "      <td>0</td>\n",
       "      <td>1</td>\n",
       "      <td>25-45</td>\n",
       "      <td>0</td>\n",
       "      <td>1</td>\n",
       "      <td>0</td>\n",
       "      <td>0</td>\n",
       "    </tr>\n",
       "    <tr>\n",
       "      <th>238</th>\n",
       "      <td>150336</td>\n",
       "      <td>929</td>\n",
       "      <td>Рыбинск</td>\n",
       "      <td>Ж</td>\n",
       "      <td>34</td>\n",
       "      <td>4</td>\n",
       "      <td>1514214.91</td>\n",
       "      <td>4</td>\n",
       "      <td>0</td>\n",
       "      <td>1</td>\n",
       "      <td>...</td>\n",
       "      <td>0</td>\n",
       "      <td>1</td>\n",
       "      <td>0</td>\n",
       "      <td>1</td>\n",
       "      <td>0</td>\n",
       "      <td>25-45</td>\n",
       "      <td>0</td>\n",
       "      <td>1</td>\n",
       "      <td>0</td>\n",
       "      <td>0</td>\n",
       "    </tr>\n",
       "    <tr>\n",
       "      <th>475</th>\n",
       "      <td>140383</td>\n",
       "      <td>908</td>\n",
       "      <td>Ярославль</td>\n",
       "      <td>М</td>\n",
       "      <td>33</td>\n",
       "      <td>5</td>\n",
       "      <td>649294.72</td>\n",
       "      <td>4</td>\n",
       "      <td>0</td>\n",
       "      <td>1</td>\n",
       "      <td>...</td>\n",
       "      <td>0</td>\n",
       "      <td>0</td>\n",
       "      <td>1</td>\n",
       "      <td>0</td>\n",
       "      <td>1</td>\n",
       "      <td>25-45</td>\n",
       "      <td>0</td>\n",
       "      <td>1</td>\n",
       "      <td>0</td>\n",
       "      <td>0</td>\n",
       "    </tr>\n",
       "    <tr>\n",
       "      <th>...</th>\n",
       "      <td>...</td>\n",
       "      <td>...</td>\n",
       "      <td>...</td>\n",
       "      <td>...</td>\n",
       "      <td>...</td>\n",
       "      <td>...</td>\n",
       "      <td>...</td>\n",
       "      <td>...</td>\n",
       "      <td>...</td>\n",
       "      <td>...</td>\n",
       "      <td>...</td>\n",
       "      <td>...</td>\n",
       "      <td>...</td>\n",
       "      <td>...</td>\n",
       "      <td>...</td>\n",
       "      <td>...</td>\n",
       "      <td>...</td>\n",
       "      <td>...</td>\n",
       "      <td>...</td>\n",
       "      <td>...</td>\n",
       "      <td>...</td>\n",
       "    </tr>\n",
       "    <tr>\n",
       "      <th>8913</th>\n",
       "      <td>204682</td>\n",
       "      <td>916</td>\n",
       "      <td>Ярославль</td>\n",
       "      <td>Ж</td>\n",
       "      <td>45</td>\n",
       "      <td>3</td>\n",
       "      <td>3899565.50</td>\n",
       "      <td>3</td>\n",
       "      <td>0</td>\n",
       "      <td>1</td>\n",
       "      <td>...</td>\n",
       "      <td>0</td>\n",
       "      <td>0</td>\n",
       "      <td>1</td>\n",
       "      <td>1</td>\n",
       "      <td>0</td>\n",
       "      <td>25-45</td>\n",
       "      <td>0</td>\n",
       "      <td>1</td>\n",
       "      <td>0</td>\n",
       "      <td>0</td>\n",
       "    </tr>\n",
       "    <tr>\n",
       "      <th>9052</th>\n",
       "      <td>134847</td>\n",
       "      <td>854</td>\n",
       "      <td>Ярославль</td>\n",
       "      <td>Ж</td>\n",
       "      <td>36</td>\n",
       "      <td>4</td>\n",
       "      <td>1460367.50</td>\n",
       "      <td>4</td>\n",
       "      <td>0</td>\n",
       "      <td>1</td>\n",
       "      <td>...</td>\n",
       "      <td>0</td>\n",
       "      <td>0</td>\n",
       "      <td>1</td>\n",
       "      <td>1</td>\n",
       "      <td>0</td>\n",
       "      <td>25-45</td>\n",
       "      <td>0</td>\n",
       "      <td>1</td>\n",
       "      <td>0</td>\n",
       "      <td>0</td>\n",
       "    </tr>\n",
       "    <tr>\n",
       "      <th>9181</th>\n",
       "      <td>212539</td>\n",
       "      <td>855</td>\n",
       "      <td>Ярославль</td>\n",
       "      <td>Ж</td>\n",
       "      <td>44</td>\n",
       "      <td>1</td>\n",
       "      <td>715778.05</td>\n",
       "      <td>3</td>\n",
       "      <td>0</td>\n",
       "      <td>1</td>\n",
       "      <td>...</td>\n",
       "      <td>0</td>\n",
       "      <td>0</td>\n",
       "      <td>1</td>\n",
       "      <td>1</td>\n",
       "      <td>0</td>\n",
       "      <td>25-45</td>\n",
       "      <td>0</td>\n",
       "      <td>1</td>\n",
       "      <td>0</td>\n",
       "      <td>0</td>\n",
       "    </tr>\n",
       "    <tr>\n",
       "      <th>9376</th>\n",
       "      <td>195167</td>\n",
       "      <td>821</td>\n",
       "      <td>Ростов</td>\n",
       "      <td>Ж</td>\n",
       "      <td>45</td>\n",
       "      <td>5</td>\n",
       "      <td>1390546.09</td>\n",
       "      <td>3</td>\n",
       "      <td>0</td>\n",
       "      <td>1</td>\n",
       "      <td>...</td>\n",
       "      <td>1</td>\n",
       "      <td>0</td>\n",
       "      <td>0</td>\n",
       "      <td>1</td>\n",
       "      <td>0</td>\n",
       "      <td>25-45</td>\n",
       "      <td>0</td>\n",
       "      <td>1</td>\n",
       "      <td>0</td>\n",
       "      <td>0</td>\n",
       "    </tr>\n",
       "    <tr>\n",
       "      <th>9801</th>\n",
       "      <td>190603</td>\n",
       "      <td>822</td>\n",
       "      <td>Ярославль</td>\n",
       "      <td>М</td>\n",
       "      <td>35</td>\n",
       "      <td>3</td>\n",
       "      <td>310135.19</td>\n",
       "      <td>3</td>\n",
       "      <td>0</td>\n",
       "      <td>1</td>\n",
       "      <td>...</td>\n",
       "      <td>0</td>\n",
       "      <td>0</td>\n",
       "      <td>1</td>\n",
       "      <td>0</td>\n",
       "      <td>1</td>\n",
       "      <td>25-45</td>\n",
       "      <td>0</td>\n",
       "      <td>1</td>\n",
       "      <td>0</td>\n",
       "      <td>0</td>\n",
       "    </tr>\n",
       "  </tbody>\n",
       "</table>\n",
       "<p>93 rows × 22 columns</p>\n",
       "</div>"
      ],
      "text/plain": [
       "      userid  score       city gender  age  equity    balance  products  \\\n",
       "72    156677    873  Ярославль      М   39       5  915959.85         3   \n",
       "81    223978    850    Рыбинск      М   34       5  351583.16         4   \n",
       "177   147950    899  Ярославль      М   37       4 2229215.25         3   \n",
       "238   150336    929    Рыбинск      Ж   34       4 1514214.91         4   \n",
       "475   140383    908  Ярославль      М   33       5  649294.72         4   \n",
       "...      ...    ...        ...    ...  ...     ...        ...       ...   \n",
       "8913  204682    916  Ярославль      Ж   45       3 3899565.50         3   \n",
       "9052  134847    854  Ярославль      Ж   36       4 1460367.50         4   \n",
       "9181  212539    855  Ярославль      Ж   44       1  715778.05         3   \n",
       "9376  195167    821     Ростов      Ж   45       5 1390546.09         3   \n",
       "9801  190603    822  Ярославль      М   35       3  310135.19         3   \n",
       "\n",
       "      credit_card  last_activity  ...  Ростов  Рыбинск  Ярославль  female  \\\n",
       "72              0              1  ...       0        0          1       0   \n",
       "81              0              1  ...       0        1          0       0   \n",
       "177             0              1  ...       0        0          1       0   \n",
       "238             0              1  ...       0        1          0       1   \n",
       "475             0              1  ...       0        0          1       0   \n",
       "...           ...            ...  ...     ...      ...        ...     ...   \n",
       "8913            0              1  ...       0        0          1       1   \n",
       "9052            0              1  ...       0        0          1       1   \n",
       "9181            0              1  ...       0        0          1       1   \n",
       "9376            0              1  ...       1        0          0       1   \n",
       "9801            0              1  ...       0        0          1       0   \n",
       "\n",
       "      male  category_age  18-24 25-45  46-62  63+  \n",
       "72       1         25-45      0     1      0    0  \n",
       "81       1         25-45      0     1      0    0  \n",
       "177      1         25-45      0     1      0    0  \n",
       "238      0         25-45      0     1      0    0  \n",
       "475      1         25-45      0     1      0    0  \n",
       "...    ...           ...    ...   ...    ...  ...  \n",
       "8913     0         25-45      0     1      0    0  \n",
       "9052     0         25-45      0     1      0    0  \n",
       "9181     0         25-45      0     1      0    0  \n",
       "9376     0         25-45      0     1      0    0  \n",
       "9801     1         25-45      0     1      0    0  \n",
       "\n",
       "[93 rows x 22 columns]"
      ]
     },
     "execution_count": 49,
     "metadata": {},
     "output_type": "execute_result"
    }
   ],
   "source": [
    "portrait_4 = df.query (\n",
    "    'age > 25 and age <= 45 \\\n",
    "    and equity <= 5 \\\n",
    "    and score >= 750 \\\n",
    "    and products >= 3 \\\n",
    "    and credit_card == 0 \\\n",
    "    and last_activity == 1 \\\n",
    "    and churn == 1') \n",
    "print(\"Количество клиентов в портрете:\",len(portrait_4))\n",
    "portrait_4"
   ]
  },
  {
   "cell_type": "markdown",
   "metadata": {},
   "source": [
    "### Портрет №5"
   ]
  },
  {
   "cell_type": "markdown",
   "metadata": {},
   "source": [
    "- Возраст: 25-45\n",
    "- Оценка собственности: 5 и меньше\n",
    "- Кредитный скоринг: 750 и выше\n",
    "- Количество продуктов банка: 3 и выше \n",
    "- Наличие кредитной карты: да\n",
    "- Наличие активности клиента: да\n",
    "- Пол клиента: мужской\n",
    "- Город: любой"
   ]
  },
  {
   "cell_type": "code",
   "execution_count": 50,
   "metadata": {},
   "outputs": [
    {
     "name": "stdout",
     "output_type": "stream",
     "text": [
      "Количество клиентов в портрете: 86\n"
     ]
    },
    {
     "data": {
      "text/html": [
       "<div>\n",
       "<style scoped>\n",
       "    .dataframe tbody tr th:only-of-type {\n",
       "        vertical-align: middle;\n",
       "    }\n",
       "\n",
       "    .dataframe tbody tr th {\n",
       "        vertical-align: top;\n",
       "    }\n",
       "\n",
       "    .dataframe thead th {\n",
       "        text-align: right;\n",
       "    }\n",
       "</style>\n",
       "<table border=\"1\" class=\"dataframe\">\n",
       "  <thead>\n",
       "    <tr style=\"text-align: right;\">\n",
       "      <th></th>\n",
       "      <th>userid</th>\n",
       "      <th>score</th>\n",
       "      <th>city</th>\n",
       "      <th>gender</th>\n",
       "      <th>age</th>\n",
       "      <th>equity</th>\n",
       "      <th>balance</th>\n",
       "      <th>products</th>\n",
       "      <th>credit_card</th>\n",
       "      <th>last_activity</th>\n",
       "      <th>...</th>\n",
       "      <th>Ростов</th>\n",
       "      <th>Рыбинск</th>\n",
       "      <th>Ярославль</th>\n",
       "      <th>female</th>\n",
       "      <th>male</th>\n",
       "      <th>category_age</th>\n",
       "      <th>18-24</th>\n",
       "      <th>25-45</th>\n",
       "      <th>46-62</th>\n",
       "      <th>63+</th>\n",
       "    </tr>\n",
       "  </thead>\n",
       "  <tbody>\n",
       "    <tr>\n",
       "      <th>160</th>\n",
       "      <td>171716</td>\n",
       "      <td>908</td>\n",
       "      <td>Рыбинск</td>\n",
       "      <td>М</td>\n",
       "      <td>30</td>\n",
       "      <td>3</td>\n",
       "      <td>245237.57</td>\n",
       "      <td>4</td>\n",
       "      <td>1</td>\n",
       "      <td>1</td>\n",
       "      <td>...</td>\n",
       "      <td>0</td>\n",
       "      <td>1</td>\n",
       "      <td>0</td>\n",
       "      <td>0</td>\n",
       "      <td>1</td>\n",
       "      <td>25-45</td>\n",
       "      <td>0</td>\n",
       "      <td>1</td>\n",
       "      <td>0</td>\n",
       "      <td>0</td>\n",
       "    </tr>\n",
       "    <tr>\n",
       "      <th>208</th>\n",
       "      <td>214357</td>\n",
       "      <td>819</td>\n",
       "      <td>Ярославль</td>\n",
       "      <td>М</td>\n",
       "      <td>34</td>\n",
       "      <td>3</td>\n",
       "      <td>1228101.55</td>\n",
       "      <td>4</td>\n",
       "      <td>1</td>\n",
       "      <td>1</td>\n",
       "      <td>...</td>\n",
       "      <td>0</td>\n",
       "      <td>0</td>\n",
       "      <td>1</td>\n",
       "      <td>0</td>\n",
       "      <td>1</td>\n",
       "      <td>25-45</td>\n",
       "      <td>0</td>\n",
       "      <td>1</td>\n",
       "      <td>0</td>\n",
       "      <td>0</td>\n",
       "    </tr>\n",
       "    <tr>\n",
       "      <th>578</th>\n",
       "      <td>202301</td>\n",
       "      <td>784</td>\n",
       "      <td>Рыбинск</td>\n",
       "      <td>М</td>\n",
       "      <td>39</td>\n",
       "      <td>1</td>\n",
       "      <td>226099.72</td>\n",
       "      <td>3</td>\n",
       "      <td>1</td>\n",
       "      <td>1</td>\n",
       "      <td>...</td>\n",
       "      <td>0</td>\n",
       "      <td>1</td>\n",
       "      <td>0</td>\n",
       "      <td>0</td>\n",
       "      <td>1</td>\n",
       "      <td>25-45</td>\n",
       "      <td>0</td>\n",
       "      <td>1</td>\n",
       "      <td>0</td>\n",
       "      <td>0</td>\n",
       "    </tr>\n",
       "    <tr>\n",
       "      <th>713</th>\n",
       "      <td>216950</td>\n",
       "      <td>835</td>\n",
       "      <td>Ярославль</td>\n",
       "      <td>М</td>\n",
       "      <td>36</td>\n",
       "      <td>4</td>\n",
       "      <td>286786.97</td>\n",
       "      <td>4</td>\n",
       "      <td>1</td>\n",
       "      <td>1</td>\n",
       "      <td>...</td>\n",
       "      <td>0</td>\n",
       "      <td>0</td>\n",
       "      <td>1</td>\n",
       "      <td>0</td>\n",
       "      <td>1</td>\n",
       "      <td>25-45</td>\n",
       "      <td>0</td>\n",
       "      <td>1</td>\n",
       "      <td>0</td>\n",
       "      <td>0</td>\n",
       "    </tr>\n",
       "    <tr>\n",
       "      <th>892</th>\n",
       "      <td>171828</td>\n",
       "      <td>862</td>\n",
       "      <td>Ярославль</td>\n",
       "      <td>М</td>\n",
       "      <td>34</td>\n",
       "      <td>3</td>\n",
       "      <td>2438640.04</td>\n",
       "      <td>4</td>\n",
       "      <td>1</td>\n",
       "      <td>1</td>\n",
       "      <td>...</td>\n",
       "      <td>0</td>\n",
       "      <td>0</td>\n",
       "      <td>1</td>\n",
       "      <td>0</td>\n",
       "      <td>1</td>\n",
       "      <td>25-45</td>\n",
       "      <td>0</td>\n",
       "      <td>1</td>\n",
       "      <td>0</td>\n",
       "      <td>0</td>\n",
       "    </tr>\n",
       "    <tr>\n",
       "      <th>...</th>\n",
       "      <td>...</td>\n",
       "      <td>...</td>\n",
       "      <td>...</td>\n",
       "      <td>...</td>\n",
       "      <td>...</td>\n",
       "      <td>...</td>\n",
       "      <td>...</td>\n",
       "      <td>...</td>\n",
       "      <td>...</td>\n",
       "      <td>...</td>\n",
       "      <td>...</td>\n",
       "      <td>...</td>\n",
       "      <td>...</td>\n",
       "      <td>...</td>\n",
       "      <td>...</td>\n",
       "      <td>...</td>\n",
       "      <td>...</td>\n",
       "      <td>...</td>\n",
       "      <td>...</td>\n",
       "      <td>...</td>\n",
       "      <td>...</td>\n",
       "    </tr>\n",
       "    <tr>\n",
       "      <th>9139</th>\n",
       "      <td>167808</td>\n",
       "      <td>927</td>\n",
       "      <td>Ярославль</td>\n",
       "      <td>М</td>\n",
       "      <td>34</td>\n",
       "      <td>4</td>\n",
       "      <td>327988.84</td>\n",
       "      <td>4</td>\n",
       "      <td>1</td>\n",
       "      <td>1</td>\n",
       "      <td>...</td>\n",
       "      <td>0</td>\n",
       "      <td>0</td>\n",
       "      <td>1</td>\n",
       "      <td>0</td>\n",
       "      <td>1</td>\n",
       "      <td>25-45</td>\n",
       "      <td>0</td>\n",
       "      <td>1</td>\n",
       "      <td>0</td>\n",
       "      <td>0</td>\n",
       "    </tr>\n",
       "    <tr>\n",
       "      <th>9213</th>\n",
       "      <td>201000</td>\n",
       "      <td>849</td>\n",
       "      <td>Рыбинск</td>\n",
       "      <td>М</td>\n",
       "      <td>39</td>\n",
       "      <td>5</td>\n",
       "      <td>255958.81</td>\n",
       "      <td>4</td>\n",
       "      <td>1</td>\n",
       "      <td>1</td>\n",
       "      <td>...</td>\n",
       "      <td>0</td>\n",
       "      <td>1</td>\n",
       "      <td>0</td>\n",
       "      <td>0</td>\n",
       "      <td>1</td>\n",
       "      <td>25-45</td>\n",
       "      <td>0</td>\n",
       "      <td>1</td>\n",
       "      <td>0</td>\n",
       "      <td>0</td>\n",
       "    </tr>\n",
       "    <tr>\n",
       "      <th>9420</th>\n",
       "      <td>179951</td>\n",
       "      <td>883</td>\n",
       "      <td>Ярославль</td>\n",
       "      <td>М</td>\n",
       "      <td>39</td>\n",
       "      <td>4</td>\n",
       "      <td>1836905.54</td>\n",
       "      <td>4</td>\n",
       "      <td>1</td>\n",
       "      <td>1</td>\n",
       "      <td>...</td>\n",
       "      <td>0</td>\n",
       "      <td>0</td>\n",
       "      <td>1</td>\n",
       "      <td>0</td>\n",
       "      <td>1</td>\n",
       "      <td>25-45</td>\n",
       "      <td>0</td>\n",
       "      <td>1</td>\n",
       "      <td>0</td>\n",
       "      <td>0</td>\n",
       "    </tr>\n",
       "    <tr>\n",
       "      <th>9495</th>\n",
       "      <td>208116</td>\n",
       "      <td>839</td>\n",
       "      <td>Ярославль</td>\n",
       "      <td>М</td>\n",
       "      <td>37</td>\n",
       "      <td>4</td>\n",
       "      <td>978290.16</td>\n",
       "      <td>4</td>\n",
       "      <td>1</td>\n",
       "      <td>1</td>\n",
       "      <td>...</td>\n",
       "      <td>0</td>\n",
       "      <td>0</td>\n",
       "      <td>1</td>\n",
       "      <td>0</td>\n",
       "      <td>1</td>\n",
       "      <td>25-45</td>\n",
       "      <td>0</td>\n",
       "      <td>1</td>\n",
       "      <td>0</td>\n",
       "      <td>0</td>\n",
       "    </tr>\n",
       "    <tr>\n",
       "      <th>9820</th>\n",
       "      <td>133758</td>\n",
       "      <td>919</td>\n",
       "      <td>Ярославль</td>\n",
       "      <td>М</td>\n",
       "      <td>42</td>\n",
       "      <td>5</td>\n",
       "      <td>2183175.39</td>\n",
       "      <td>4</td>\n",
       "      <td>1</td>\n",
       "      <td>1</td>\n",
       "      <td>...</td>\n",
       "      <td>0</td>\n",
       "      <td>0</td>\n",
       "      <td>1</td>\n",
       "      <td>0</td>\n",
       "      <td>1</td>\n",
       "      <td>25-45</td>\n",
       "      <td>0</td>\n",
       "      <td>1</td>\n",
       "      <td>0</td>\n",
       "      <td>0</td>\n",
       "    </tr>\n",
       "  </tbody>\n",
       "</table>\n",
       "<p>86 rows × 22 columns</p>\n",
       "</div>"
      ],
      "text/plain": [
       "      userid  score       city gender  age  equity    balance  products  \\\n",
       "160   171716    908    Рыбинск      М   30       3  245237.57         4   \n",
       "208   214357    819  Ярославль      М   34       3 1228101.55         4   \n",
       "578   202301    784    Рыбинск      М   39       1  226099.72         3   \n",
       "713   216950    835  Ярославль      М   36       4  286786.97         4   \n",
       "892   171828    862  Ярославль      М   34       3 2438640.04         4   \n",
       "...      ...    ...        ...    ...  ...     ...        ...       ...   \n",
       "9139  167808    927  Ярославль      М   34       4  327988.84         4   \n",
       "9213  201000    849    Рыбинск      М   39       5  255958.81         4   \n",
       "9420  179951    883  Ярославль      М   39       4 1836905.54         4   \n",
       "9495  208116    839  Ярославль      М   37       4  978290.16         4   \n",
       "9820  133758    919  Ярославль      М   42       5 2183175.39         4   \n",
       "\n",
       "      credit_card  last_activity  ...  Ростов  Рыбинск  Ярославль  female  \\\n",
       "160             1              1  ...       0        1          0       0   \n",
       "208             1              1  ...       0        0          1       0   \n",
       "578             1              1  ...       0        1          0       0   \n",
       "713             1              1  ...       0        0          1       0   \n",
       "892             1              1  ...       0        0          1       0   \n",
       "...           ...            ...  ...     ...      ...        ...     ...   \n",
       "9139            1              1  ...       0        0          1       0   \n",
       "9213            1              1  ...       0        1          0       0   \n",
       "9420            1              1  ...       0        0          1       0   \n",
       "9495            1              1  ...       0        0          1       0   \n",
       "9820            1              1  ...       0        0          1       0   \n",
       "\n",
       "      male  category_age  18-24 25-45  46-62  63+  \n",
       "160      1         25-45      0     1      0    0  \n",
       "208      1         25-45      0     1      0    0  \n",
       "578      1         25-45      0     1      0    0  \n",
       "713      1         25-45      0     1      0    0  \n",
       "892      1         25-45      0     1      0    0  \n",
       "...    ...           ...    ...   ...    ...  ...  \n",
       "9139     1         25-45      0     1      0    0  \n",
       "9213     1         25-45      0     1      0    0  \n",
       "9420     1         25-45      0     1      0    0  \n",
       "9495     1         25-45      0     1      0    0  \n",
       "9820     1         25-45      0     1      0    0  \n",
       "\n",
       "[86 rows x 22 columns]"
      ]
     },
     "execution_count": 50,
     "metadata": {},
     "output_type": "execute_result"
    }
   ],
   "source": [
    "portrait_5 = df.query (\n",
    "    'age > 25 and age <= 45 \\\n",
    "    and equity <= 5 \\\n",
    "    and score >= 750 \\\n",
    "    and products >= 3 \\\n",
    "    and credit_card == 1 \\\n",
    "    and last_activity == 1 \\\n",
    "    and male == 1 \\\n",
    "    and churn == 1') \n",
    "print(\"Количество клиентов в портрете:\",len(portrait_5))\n",
    "portrait_5"
   ]
  },
  {
   "cell_type": "markdown",
   "metadata": {},
   "source": [
    "### Портрет №6"
   ]
  },
  {
   "cell_type": "markdown",
   "metadata": {},
   "source": [
    "- Возраст: 46-62\n",
    "- Оценка собственности: 5 и меньше\n",
    "- Кредитный скоринг: 750 и выше\n",
    "- Количество продуктов банка: 3 и выше \n",
    "- Наличие кредитной карты: да\n",
    "- Наличие активности клиента: да\n",
    "- Пол клиента: любой\n",
    "- Город: любой"
   ]
  },
  {
   "cell_type": "code",
   "execution_count": 51,
   "metadata": {},
   "outputs": [
    {
     "name": "stdout",
     "output_type": "stream",
     "text": [
      "Количество клиентов в портрете: 29\n"
     ]
    },
    {
     "data": {
      "text/html": [
       "<div>\n",
       "<style scoped>\n",
       "    .dataframe tbody tr th:only-of-type {\n",
       "        vertical-align: middle;\n",
       "    }\n",
       "\n",
       "    .dataframe tbody tr th {\n",
       "        vertical-align: top;\n",
       "    }\n",
       "\n",
       "    .dataframe thead th {\n",
       "        text-align: right;\n",
       "    }\n",
       "</style>\n",
       "<table border=\"1\" class=\"dataframe\">\n",
       "  <thead>\n",
       "    <tr style=\"text-align: right;\">\n",
       "      <th></th>\n",
       "      <th>userid</th>\n",
       "      <th>score</th>\n",
       "      <th>city</th>\n",
       "      <th>gender</th>\n",
       "      <th>age</th>\n",
       "      <th>equity</th>\n",
       "      <th>balance</th>\n",
       "      <th>products</th>\n",
       "      <th>credit_card</th>\n",
       "      <th>last_activity</th>\n",
       "      <th>...</th>\n",
       "      <th>Ростов</th>\n",
       "      <th>Рыбинск</th>\n",
       "      <th>Ярославль</th>\n",
       "      <th>female</th>\n",
       "      <th>male</th>\n",
       "      <th>category_age</th>\n",
       "      <th>18-24</th>\n",
       "      <th>25-45</th>\n",
       "      <th>46-62</th>\n",
       "      <th>63+</th>\n",
       "    </tr>\n",
       "  </thead>\n",
       "  <tbody>\n",
       "    <tr>\n",
       "      <th>457</th>\n",
       "      <td>228963</td>\n",
       "      <td>887</td>\n",
       "      <td>Ярославль</td>\n",
       "      <td>М</td>\n",
       "      <td>62</td>\n",
       "      <td>5</td>\n",
       "      <td>3360245.32</td>\n",
       "      <td>4</td>\n",
       "      <td>1</td>\n",
       "      <td>1</td>\n",
       "      <td>...</td>\n",
       "      <td>0</td>\n",
       "      <td>0</td>\n",
       "      <td>1</td>\n",
       "      <td>0</td>\n",
       "      <td>1</td>\n",
       "      <td>46-62</td>\n",
       "      <td>0</td>\n",
       "      <td>0</td>\n",
       "      <td>1</td>\n",
       "      <td>0</td>\n",
       "    </tr>\n",
       "    <tr>\n",
       "      <th>972</th>\n",
       "      <td>178092</td>\n",
       "      <td>888</td>\n",
       "      <td>Ярославль</td>\n",
       "      <td>М</td>\n",
       "      <td>48</td>\n",
       "      <td>4</td>\n",
       "      <td>315074.84</td>\n",
       "      <td>4</td>\n",
       "      <td>1</td>\n",
       "      <td>1</td>\n",
       "      <td>...</td>\n",
       "      <td>0</td>\n",
       "      <td>0</td>\n",
       "      <td>1</td>\n",
       "      <td>0</td>\n",
       "      <td>1</td>\n",
       "      <td>46-62</td>\n",
       "      <td>0</td>\n",
       "      <td>0</td>\n",
       "      <td>1</td>\n",
       "      <td>0</td>\n",
       "    </tr>\n",
       "    <tr>\n",
       "      <th>1101</th>\n",
       "      <td>221266</td>\n",
       "      <td>853</td>\n",
       "      <td>Ярославль</td>\n",
       "      <td>М</td>\n",
       "      <td>49</td>\n",
       "      <td>5</td>\n",
       "      <td>774481.22</td>\n",
       "      <td>4</td>\n",
       "      <td>1</td>\n",
       "      <td>1</td>\n",
       "      <td>...</td>\n",
       "      <td>0</td>\n",
       "      <td>0</td>\n",
       "      <td>1</td>\n",
       "      <td>0</td>\n",
       "      <td>1</td>\n",
       "      <td>46-62</td>\n",
       "      <td>0</td>\n",
       "      <td>0</td>\n",
       "      <td>1</td>\n",
       "      <td>0</td>\n",
       "    </tr>\n",
       "    <tr>\n",
       "      <th>1454</th>\n",
       "      <td>190099</td>\n",
       "      <td>928</td>\n",
       "      <td>Рыбинск</td>\n",
       "      <td>М</td>\n",
       "      <td>53</td>\n",
       "      <td>4</td>\n",
       "      <td>2414446.77</td>\n",
       "      <td>4</td>\n",
       "      <td>1</td>\n",
       "      <td>1</td>\n",
       "      <td>...</td>\n",
       "      <td>0</td>\n",
       "      <td>1</td>\n",
       "      <td>0</td>\n",
       "      <td>0</td>\n",
       "      <td>1</td>\n",
       "      <td>46-62</td>\n",
       "      <td>0</td>\n",
       "      <td>0</td>\n",
       "      <td>1</td>\n",
       "      <td>0</td>\n",
       "    </tr>\n",
       "    <tr>\n",
       "      <th>1490</th>\n",
       "      <td>190295</td>\n",
       "      <td>942</td>\n",
       "      <td>Ростов</td>\n",
       "      <td>М</td>\n",
       "      <td>50</td>\n",
       "      <td>5</td>\n",
       "      <td>2451414.16</td>\n",
       "      <td>4</td>\n",
       "      <td>1</td>\n",
       "      <td>1</td>\n",
       "      <td>...</td>\n",
       "      <td>1</td>\n",
       "      <td>0</td>\n",
       "      <td>0</td>\n",
       "      <td>0</td>\n",
       "      <td>1</td>\n",
       "      <td>46-62</td>\n",
       "      <td>0</td>\n",
       "      <td>0</td>\n",
       "      <td>1</td>\n",
       "      <td>0</td>\n",
       "    </tr>\n",
       "    <tr>\n",
       "      <th>1531</th>\n",
       "      <td>132253</td>\n",
       "      <td>826</td>\n",
       "      <td>Ярославль</td>\n",
       "      <td>М</td>\n",
       "      <td>47</td>\n",
       "      <td>5</td>\n",
       "      <td>1462399.64</td>\n",
       "      <td>3</td>\n",
       "      <td>1</td>\n",
       "      <td>1</td>\n",
       "      <td>...</td>\n",
       "      <td>0</td>\n",
       "      <td>0</td>\n",
       "      <td>1</td>\n",
       "      <td>0</td>\n",
       "      <td>1</td>\n",
       "      <td>46-62</td>\n",
       "      <td>0</td>\n",
       "      <td>0</td>\n",
       "      <td>1</td>\n",
       "      <td>0</td>\n",
       "    </tr>\n",
       "    <tr>\n",
       "      <th>2199</th>\n",
       "      <td>136002</td>\n",
       "      <td>857</td>\n",
       "      <td>Ростов</td>\n",
       "      <td>М</td>\n",
       "      <td>57</td>\n",
       "      <td>2</td>\n",
       "      <td>343682.57</td>\n",
       "      <td>4</td>\n",
       "      <td>1</td>\n",
       "      <td>1</td>\n",
       "      <td>...</td>\n",
       "      <td>1</td>\n",
       "      <td>0</td>\n",
       "      <td>0</td>\n",
       "      <td>0</td>\n",
       "      <td>1</td>\n",
       "      <td>46-62</td>\n",
       "      <td>0</td>\n",
       "      <td>0</td>\n",
       "      <td>1</td>\n",
       "      <td>0</td>\n",
       "    </tr>\n",
       "    <tr>\n",
       "      <th>2216</th>\n",
       "      <td>220902</td>\n",
       "      <td>771</td>\n",
       "      <td>Рыбинск</td>\n",
       "      <td>М</td>\n",
       "      <td>52</td>\n",
       "      <td>3</td>\n",
       "      <td>1014910.13</td>\n",
       "      <td>3</td>\n",
       "      <td>1</td>\n",
       "      <td>1</td>\n",
       "      <td>...</td>\n",
       "      <td>0</td>\n",
       "      <td>1</td>\n",
       "      <td>0</td>\n",
       "      <td>0</td>\n",
       "      <td>1</td>\n",
       "      <td>46-62</td>\n",
       "      <td>0</td>\n",
       "      <td>0</td>\n",
       "      <td>1</td>\n",
       "      <td>0</td>\n",
       "    </tr>\n",
       "    <tr>\n",
       "      <th>2719</th>\n",
       "      <td>166399</td>\n",
       "      <td>871</td>\n",
       "      <td>Рыбинск</td>\n",
       "      <td>М</td>\n",
       "      <td>57</td>\n",
       "      <td>5</td>\n",
       "      <td>696584.72</td>\n",
       "      <td>4</td>\n",
       "      <td>1</td>\n",
       "      <td>1</td>\n",
       "      <td>...</td>\n",
       "      <td>0</td>\n",
       "      <td>1</td>\n",
       "      <td>0</td>\n",
       "      <td>0</td>\n",
       "      <td>1</td>\n",
       "      <td>46-62</td>\n",
       "      <td>0</td>\n",
       "      <td>0</td>\n",
       "      <td>1</td>\n",
       "      <td>0</td>\n",
       "    </tr>\n",
       "    <tr>\n",
       "      <th>3396</th>\n",
       "      <td>173968</td>\n",
       "      <td>810</td>\n",
       "      <td>Ростов</td>\n",
       "      <td>М</td>\n",
       "      <td>55</td>\n",
       "      <td>5</td>\n",
       "      <td>1406565.31</td>\n",
       "      <td>3</td>\n",
       "      <td>1</td>\n",
       "      <td>1</td>\n",
       "      <td>...</td>\n",
       "      <td>1</td>\n",
       "      <td>0</td>\n",
       "      <td>0</td>\n",
       "      <td>0</td>\n",
       "      <td>1</td>\n",
       "      <td>46-62</td>\n",
       "      <td>0</td>\n",
       "      <td>0</td>\n",
       "      <td>1</td>\n",
       "      <td>0</td>\n",
       "    </tr>\n",
       "    <tr>\n",
       "      <th>3936</th>\n",
       "      <td>197335</td>\n",
       "      <td>920</td>\n",
       "      <td>Ростов</td>\n",
       "      <td>М</td>\n",
       "      <td>56</td>\n",
       "      <td>5</td>\n",
       "      <td>593755.61</td>\n",
       "      <td>4</td>\n",
       "      <td>1</td>\n",
       "      <td>1</td>\n",
       "      <td>...</td>\n",
       "      <td>1</td>\n",
       "      <td>0</td>\n",
       "      <td>0</td>\n",
       "      <td>0</td>\n",
       "      <td>1</td>\n",
       "      <td>46-62</td>\n",
       "      <td>0</td>\n",
       "      <td>0</td>\n",
       "      <td>1</td>\n",
       "      <td>0</td>\n",
       "    </tr>\n",
       "    <tr>\n",
       "      <th>4369</th>\n",
       "      <td>99726</td>\n",
       "      <td>800</td>\n",
       "      <td>Ярославль</td>\n",
       "      <td>М</td>\n",
       "      <td>54</td>\n",
       "      <td>5</td>\n",
       "      <td>593578.99</td>\n",
       "      <td>4</td>\n",
       "      <td>1</td>\n",
       "      <td>1</td>\n",
       "      <td>...</td>\n",
       "      <td>0</td>\n",
       "      <td>0</td>\n",
       "      <td>1</td>\n",
       "      <td>0</td>\n",
       "      <td>1</td>\n",
       "      <td>46-62</td>\n",
       "      <td>0</td>\n",
       "      <td>0</td>\n",
       "      <td>1</td>\n",
       "      <td>0</td>\n",
       "    </tr>\n",
       "    <tr>\n",
       "      <th>4485</th>\n",
       "      <td>171557</td>\n",
       "      <td>759</td>\n",
       "      <td>Ярославль</td>\n",
       "      <td>М</td>\n",
       "      <td>58</td>\n",
       "      <td>5</td>\n",
       "      <td>1739356.74</td>\n",
       "      <td>3</td>\n",
       "      <td>1</td>\n",
       "      <td>1</td>\n",
       "      <td>...</td>\n",
       "      <td>0</td>\n",
       "      <td>0</td>\n",
       "      <td>1</td>\n",
       "      <td>0</td>\n",
       "      <td>1</td>\n",
       "      <td>46-62</td>\n",
       "      <td>0</td>\n",
       "      <td>0</td>\n",
       "      <td>1</td>\n",
       "      <td>0</td>\n",
       "    </tr>\n",
       "    <tr>\n",
       "      <th>5095</th>\n",
       "      <td>225369</td>\n",
       "      <td>836</td>\n",
       "      <td>Ярославль</td>\n",
       "      <td>М</td>\n",
       "      <td>48</td>\n",
       "      <td>5</td>\n",
       "      <td>1614502.91</td>\n",
       "      <td>4</td>\n",
       "      <td>1</td>\n",
       "      <td>1</td>\n",
       "      <td>...</td>\n",
       "      <td>0</td>\n",
       "      <td>0</td>\n",
       "      <td>1</td>\n",
       "      <td>0</td>\n",
       "      <td>1</td>\n",
       "      <td>46-62</td>\n",
       "      <td>0</td>\n",
       "      <td>0</td>\n",
       "      <td>1</td>\n",
       "      <td>0</td>\n",
       "    </tr>\n",
       "    <tr>\n",
       "      <th>5302</th>\n",
       "      <td>202992</td>\n",
       "      <td>781</td>\n",
       "      <td>Рыбинск</td>\n",
       "      <td>М</td>\n",
       "      <td>58</td>\n",
       "      <td>4</td>\n",
       "      <td>1546584.39</td>\n",
       "      <td>3</td>\n",
       "      <td>1</td>\n",
       "      <td>1</td>\n",
       "      <td>...</td>\n",
       "      <td>0</td>\n",
       "      <td>1</td>\n",
       "      <td>0</td>\n",
       "      <td>0</td>\n",
       "      <td>1</td>\n",
       "      <td>46-62</td>\n",
       "      <td>0</td>\n",
       "      <td>0</td>\n",
       "      <td>1</td>\n",
       "      <td>0</td>\n",
       "    </tr>\n",
       "    <tr>\n",
       "      <th>5684</th>\n",
       "      <td>162331</td>\n",
       "      <td>916</td>\n",
       "      <td>Ярославль</td>\n",
       "      <td>М</td>\n",
       "      <td>50</td>\n",
       "      <td>5</td>\n",
       "      <td>4362619.72</td>\n",
       "      <td>4</td>\n",
       "      <td>1</td>\n",
       "      <td>1</td>\n",
       "      <td>...</td>\n",
       "      <td>0</td>\n",
       "      <td>0</td>\n",
       "      <td>1</td>\n",
       "      <td>0</td>\n",
       "      <td>1</td>\n",
       "      <td>46-62</td>\n",
       "      <td>0</td>\n",
       "      <td>0</td>\n",
       "      <td>1</td>\n",
       "      <td>0</td>\n",
       "    </tr>\n",
       "    <tr>\n",
       "      <th>5981</th>\n",
       "      <td>177068</td>\n",
       "      <td>870</td>\n",
       "      <td>Ярославль</td>\n",
       "      <td>М</td>\n",
       "      <td>54</td>\n",
       "      <td>5</td>\n",
       "      <td>775433.75</td>\n",
       "      <td>4</td>\n",
       "      <td>1</td>\n",
       "      <td>1</td>\n",
       "      <td>...</td>\n",
       "      <td>0</td>\n",
       "      <td>0</td>\n",
       "      <td>1</td>\n",
       "      <td>0</td>\n",
       "      <td>1</td>\n",
       "      <td>46-62</td>\n",
       "      <td>0</td>\n",
       "      <td>0</td>\n",
       "      <td>1</td>\n",
       "      <td>0</td>\n",
       "    </tr>\n",
       "    <tr>\n",
       "      <th>6165</th>\n",
       "      <td>220804</td>\n",
       "      <td>825</td>\n",
       "      <td>Ярославль</td>\n",
       "      <td>М</td>\n",
       "      <td>51</td>\n",
       "      <td>3</td>\n",
       "      <td>1395175.47</td>\n",
       "      <td>4</td>\n",
       "      <td>1</td>\n",
       "      <td>1</td>\n",
       "      <td>...</td>\n",
       "      <td>0</td>\n",
       "      <td>0</td>\n",
       "      <td>1</td>\n",
       "      <td>0</td>\n",
       "      <td>1</td>\n",
       "      <td>46-62</td>\n",
       "      <td>0</td>\n",
       "      <td>0</td>\n",
       "      <td>1</td>\n",
       "      <td>0</td>\n",
       "    </tr>\n",
       "    <tr>\n",
       "      <th>6296</th>\n",
       "      <td>201799</td>\n",
       "      <td>758</td>\n",
       "      <td>Ростов</td>\n",
       "      <td>М</td>\n",
       "      <td>53</td>\n",
       "      <td>2</td>\n",
       "      <td>1011296.68</td>\n",
       "      <td>3</td>\n",
       "      <td>1</td>\n",
       "      <td>1</td>\n",
       "      <td>...</td>\n",
       "      <td>1</td>\n",
       "      <td>0</td>\n",
       "      <td>0</td>\n",
       "      <td>0</td>\n",
       "      <td>1</td>\n",
       "      <td>46-62</td>\n",
       "      <td>0</td>\n",
       "      <td>0</td>\n",
       "      <td>1</td>\n",
       "      <td>0</td>\n",
       "    </tr>\n",
       "    <tr>\n",
       "      <th>6900</th>\n",
       "      <td>153829</td>\n",
       "      <td>897</td>\n",
       "      <td>Ярославль</td>\n",
       "      <td>М</td>\n",
       "      <td>51</td>\n",
       "      <td>3</td>\n",
       "      <td>2106712.39</td>\n",
       "      <td>4</td>\n",
       "      <td>1</td>\n",
       "      <td>1</td>\n",
       "      <td>...</td>\n",
       "      <td>0</td>\n",
       "      <td>0</td>\n",
       "      <td>1</td>\n",
       "      <td>0</td>\n",
       "      <td>1</td>\n",
       "      <td>46-62</td>\n",
       "      <td>0</td>\n",
       "      <td>0</td>\n",
       "      <td>1</td>\n",
       "      <td>0</td>\n",
       "    </tr>\n",
       "    <tr>\n",
       "      <th>7718</th>\n",
       "      <td>203587</td>\n",
       "      <td>905</td>\n",
       "      <td>Рыбинск</td>\n",
       "      <td>М</td>\n",
       "      <td>53</td>\n",
       "      <td>5</td>\n",
       "      <td>1353976.30</td>\n",
       "      <td>4</td>\n",
       "      <td>1</td>\n",
       "      <td>1</td>\n",
       "      <td>...</td>\n",
       "      <td>0</td>\n",
       "      <td>1</td>\n",
       "      <td>0</td>\n",
       "      <td>0</td>\n",
       "      <td>1</td>\n",
       "      <td>46-62</td>\n",
       "      <td>0</td>\n",
       "      <td>0</td>\n",
       "      <td>1</td>\n",
       "      <td>0</td>\n",
       "    </tr>\n",
       "    <tr>\n",
       "      <th>8053</th>\n",
       "      <td>161923</td>\n",
       "      <td>878</td>\n",
       "      <td>Ростов</td>\n",
       "      <td>М</td>\n",
       "      <td>50</td>\n",
       "      <td>3</td>\n",
       "      <td>1149138.92</td>\n",
       "      <td>4</td>\n",
       "      <td>1</td>\n",
       "      <td>1</td>\n",
       "      <td>...</td>\n",
       "      <td>1</td>\n",
       "      <td>0</td>\n",
       "      <td>0</td>\n",
       "      <td>0</td>\n",
       "      <td>1</td>\n",
       "      <td>46-62</td>\n",
       "      <td>0</td>\n",
       "      <td>0</td>\n",
       "      <td>1</td>\n",
       "      <td>0</td>\n",
       "    </tr>\n",
       "    <tr>\n",
       "      <th>8623</th>\n",
       "      <td>227140</td>\n",
       "      <td>814</td>\n",
       "      <td>Рыбинск</td>\n",
       "      <td>М</td>\n",
       "      <td>49</td>\n",
       "      <td>4</td>\n",
       "      <td>651331.06</td>\n",
       "      <td>4</td>\n",
       "      <td>1</td>\n",
       "      <td>1</td>\n",
       "      <td>...</td>\n",
       "      <td>0</td>\n",
       "      <td>1</td>\n",
       "      <td>0</td>\n",
       "      <td>0</td>\n",
       "      <td>1</td>\n",
       "      <td>46-62</td>\n",
       "      <td>0</td>\n",
       "      <td>0</td>\n",
       "      <td>1</td>\n",
       "      <td>0</td>\n",
       "    </tr>\n",
       "    <tr>\n",
       "      <th>8726</th>\n",
       "      <td>145608</td>\n",
       "      <td>977</td>\n",
       "      <td>Ярославль</td>\n",
       "      <td>М</td>\n",
       "      <td>55</td>\n",
       "      <td>3</td>\n",
       "      <td>447928.61</td>\n",
       "      <td>3</td>\n",
       "      <td>1</td>\n",
       "      <td>1</td>\n",
       "      <td>...</td>\n",
       "      <td>0</td>\n",
       "      <td>0</td>\n",
       "      <td>1</td>\n",
       "      <td>0</td>\n",
       "      <td>1</td>\n",
       "      <td>46-62</td>\n",
       "      <td>0</td>\n",
       "      <td>0</td>\n",
       "      <td>1</td>\n",
       "      <td>0</td>\n",
       "    </tr>\n",
       "    <tr>\n",
       "      <th>8877</th>\n",
       "      <td>112641</td>\n",
       "      <td>892</td>\n",
       "      <td>Рыбинск</td>\n",
       "      <td>М</td>\n",
       "      <td>55</td>\n",
       "      <td>2</td>\n",
       "      <td>787844.80</td>\n",
       "      <td>4</td>\n",
       "      <td>1</td>\n",
       "      <td>1</td>\n",
       "      <td>...</td>\n",
       "      <td>0</td>\n",
       "      <td>1</td>\n",
       "      <td>0</td>\n",
       "      <td>0</td>\n",
       "      <td>1</td>\n",
       "      <td>46-62</td>\n",
       "      <td>0</td>\n",
       "      <td>0</td>\n",
       "      <td>1</td>\n",
       "      <td>0</td>\n",
       "    </tr>\n",
       "    <tr>\n",
       "      <th>8940</th>\n",
       "      <td>164682</td>\n",
       "      <td>822</td>\n",
       "      <td>Ярославль</td>\n",
       "      <td>М</td>\n",
       "      <td>49</td>\n",
       "      <td>3</td>\n",
       "      <td>515181.04</td>\n",
       "      <td>4</td>\n",
       "      <td>1</td>\n",
       "      <td>1</td>\n",
       "      <td>...</td>\n",
       "      <td>0</td>\n",
       "      <td>0</td>\n",
       "      <td>1</td>\n",
       "      <td>0</td>\n",
       "      <td>1</td>\n",
       "      <td>46-62</td>\n",
       "      <td>0</td>\n",
       "      <td>0</td>\n",
       "      <td>1</td>\n",
       "      <td>0</td>\n",
       "    </tr>\n",
       "    <tr>\n",
       "      <th>9027</th>\n",
       "      <td>142923</td>\n",
       "      <td>805</td>\n",
       "      <td>Ростов</td>\n",
       "      <td>М</td>\n",
       "      <td>54</td>\n",
       "      <td>5</td>\n",
       "      <td>524178.07</td>\n",
       "      <td>3</td>\n",
       "      <td>1</td>\n",
       "      <td>1</td>\n",
       "      <td>...</td>\n",
       "      <td>1</td>\n",
       "      <td>0</td>\n",
       "      <td>0</td>\n",
       "      <td>0</td>\n",
       "      <td>1</td>\n",
       "      <td>46-62</td>\n",
       "      <td>0</td>\n",
       "      <td>0</td>\n",
       "      <td>1</td>\n",
       "      <td>0</td>\n",
       "    </tr>\n",
       "    <tr>\n",
       "      <th>9159</th>\n",
       "      <td>142769</td>\n",
       "      <td>978</td>\n",
       "      <td>Рыбинск</td>\n",
       "      <td>М</td>\n",
       "      <td>47</td>\n",
       "      <td>5</td>\n",
       "      <td>4629669.62</td>\n",
       "      <td>4</td>\n",
       "      <td>1</td>\n",
       "      <td>1</td>\n",
       "      <td>...</td>\n",
       "      <td>0</td>\n",
       "      <td>1</td>\n",
       "      <td>0</td>\n",
       "      <td>0</td>\n",
       "      <td>1</td>\n",
       "      <td>46-62</td>\n",
       "      <td>0</td>\n",
       "      <td>0</td>\n",
       "      <td>1</td>\n",
       "      <td>0</td>\n",
       "    </tr>\n",
       "    <tr>\n",
       "      <th>9767</th>\n",
       "      <td>225908</td>\n",
       "      <td>937</td>\n",
       "      <td>Рыбинск</td>\n",
       "      <td>М</td>\n",
       "      <td>47</td>\n",
       "      <td>5</td>\n",
       "      <td>1620475.44</td>\n",
       "      <td>4</td>\n",
       "      <td>1</td>\n",
       "      <td>1</td>\n",
       "      <td>...</td>\n",
       "      <td>0</td>\n",
       "      <td>1</td>\n",
       "      <td>0</td>\n",
       "      <td>0</td>\n",
       "      <td>1</td>\n",
       "      <td>46-62</td>\n",
       "      <td>0</td>\n",
       "      <td>0</td>\n",
       "      <td>1</td>\n",
       "      <td>0</td>\n",
       "    </tr>\n",
       "  </tbody>\n",
       "</table>\n",
       "<p>29 rows × 22 columns</p>\n",
       "</div>"
      ],
      "text/plain": [
       "      userid  score       city gender  age  equity    balance  products  \\\n",
       "457   228963    887  Ярославль      М   62       5 3360245.32         4   \n",
       "972   178092    888  Ярославль      М   48       4  315074.84         4   \n",
       "1101  221266    853  Ярославль      М   49       5  774481.22         4   \n",
       "1454  190099    928    Рыбинск      М   53       4 2414446.77         4   \n",
       "1490  190295    942     Ростов      М   50       5 2451414.16         4   \n",
       "1531  132253    826  Ярославль      М   47       5 1462399.64         3   \n",
       "2199  136002    857     Ростов      М   57       2  343682.57         4   \n",
       "2216  220902    771    Рыбинск      М   52       3 1014910.13         3   \n",
       "2719  166399    871    Рыбинск      М   57       5  696584.72         4   \n",
       "3396  173968    810     Ростов      М   55       5 1406565.31         3   \n",
       "3936  197335    920     Ростов      М   56       5  593755.61         4   \n",
       "4369   99726    800  Ярославль      М   54       5  593578.99         4   \n",
       "4485  171557    759  Ярославль      М   58       5 1739356.74         3   \n",
       "5095  225369    836  Ярославль      М   48       5 1614502.91         4   \n",
       "5302  202992    781    Рыбинск      М   58       4 1546584.39         3   \n",
       "5684  162331    916  Ярославль      М   50       5 4362619.72         4   \n",
       "5981  177068    870  Ярославль      М   54       5  775433.75         4   \n",
       "6165  220804    825  Ярославль      М   51       3 1395175.47         4   \n",
       "6296  201799    758     Ростов      М   53       2 1011296.68         3   \n",
       "6900  153829    897  Ярославль      М   51       3 2106712.39         4   \n",
       "7718  203587    905    Рыбинск      М   53       5 1353976.30         4   \n",
       "8053  161923    878     Ростов      М   50       3 1149138.92         4   \n",
       "8623  227140    814    Рыбинск      М   49       4  651331.06         4   \n",
       "8726  145608    977  Ярославль      М   55       3  447928.61         3   \n",
       "8877  112641    892    Рыбинск      М   55       2  787844.80         4   \n",
       "8940  164682    822  Ярославль      М   49       3  515181.04         4   \n",
       "9027  142923    805     Ростов      М   54       5  524178.07         3   \n",
       "9159  142769    978    Рыбинск      М   47       5 4629669.62         4   \n",
       "9767  225908    937    Рыбинск      М   47       5 1620475.44         4   \n",
       "\n",
       "      credit_card  last_activity  ...  Ростов  Рыбинск  Ярославль  female  \\\n",
       "457             1              1  ...       0        0          1       0   \n",
       "972             1              1  ...       0        0          1       0   \n",
       "1101            1              1  ...       0        0          1       0   \n",
       "1454            1              1  ...       0        1          0       0   \n",
       "1490            1              1  ...       1        0          0       0   \n",
       "1531            1              1  ...       0        0          1       0   \n",
       "2199            1              1  ...       1        0          0       0   \n",
       "2216            1              1  ...       0        1          0       0   \n",
       "2719            1              1  ...       0        1          0       0   \n",
       "3396            1              1  ...       1        0          0       0   \n",
       "3936            1              1  ...       1        0          0       0   \n",
       "4369            1              1  ...       0        0          1       0   \n",
       "4485            1              1  ...       0        0          1       0   \n",
       "5095            1              1  ...       0        0          1       0   \n",
       "5302            1              1  ...       0        1          0       0   \n",
       "5684            1              1  ...       0        0          1       0   \n",
       "5981            1              1  ...       0        0          1       0   \n",
       "6165            1              1  ...       0        0          1       0   \n",
       "6296            1              1  ...       1        0          0       0   \n",
       "6900            1              1  ...       0        0          1       0   \n",
       "7718            1              1  ...       0        1          0       0   \n",
       "8053            1              1  ...       1        0          0       0   \n",
       "8623            1              1  ...       0        1          0       0   \n",
       "8726            1              1  ...       0        0          1       0   \n",
       "8877            1              1  ...       0        1          0       0   \n",
       "8940            1              1  ...       0        0          1       0   \n",
       "9027            1              1  ...       1        0          0       0   \n",
       "9159            1              1  ...       0        1          0       0   \n",
       "9767            1              1  ...       0        1          0       0   \n",
       "\n",
       "      male  category_age  18-24 25-45  46-62  63+  \n",
       "457      1         46-62      0     0      1    0  \n",
       "972      1         46-62      0     0      1    0  \n",
       "1101     1         46-62      0     0      1    0  \n",
       "1454     1         46-62      0     0      1    0  \n",
       "1490     1         46-62      0     0      1    0  \n",
       "1531     1         46-62      0     0      1    0  \n",
       "2199     1         46-62      0     0      1    0  \n",
       "2216     1         46-62      0     0      1    0  \n",
       "2719     1         46-62      0     0      1    0  \n",
       "3396     1         46-62      0     0      1    0  \n",
       "3936     1         46-62      0     0      1    0  \n",
       "4369     1         46-62      0     0      1    0  \n",
       "4485     1         46-62      0     0      1    0  \n",
       "5095     1         46-62      0     0      1    0  \n",
       "5302     1         46-62      0     0      1    0  \n",
       "5684     1         46-62      0     0      1    0  \n",
       "5981     1         46-62      0     0      1    0  \n",
       "6165     1         46-62      0     0      1    0  \n",
       "6296     1         46-62      0     0      1    0  \n",
       "6900     1         46-62      0     0      1    0  \n",
       "7718     1         46-62      0     0      1    0  \n",
       "8053     1         46-62      0     0      1    0  \n",
       "8623     1         46-62      0     0      1    0  \n",
       "8726     1         46-62      0     0      1    0  \n",
       "8877     1         46-62      0     0      1    0  \n",
       "8940     1         46-62      0     0      1    0  \n",
       "9027     1         46-62      0     0      1    0  \n",
       "9159     1         46-62      0     0      1    0  \n",
       "9767     1         46-62      0     0      1    0  \n",
       "\n",
       "[29 rows x 22 columns]"
      ]
     },
     "execution_count": 51,
     "metadata": {},
     "output_type": "execute_result"
    }
   ],
   "source": [
    "portrait_6 = df.query (\n",
    "    'age > 46 and age <= 62 \\\n",
    "    and equity <= 5 \\\n",
    "    and score >= 750 \\\n",
    "    and products >= 3 \\\n",
    "    and credit_card == 1 \\\n",
    "    and last_activity == 1 \\\n",
    "    and male == 1 \\\n",
    "    and churn == 1') \n",
    "print(\"Количество клиентов в портрете:\",len(portrait_6))\n",
    "portrait_6"
   ]
  },
  {
   "cell_type": "markdown",
   "metadata": {},
   "source": [
    "## Сегментация клиентов\n",
    "<br> \n",
    "По итогом исследовательского анализа составим сегменты высокооточных клиентов"
   ]
  },
  {
   "cell_type": "markdown",
   "metadata": {},
   "source": [
    "### Сегмент №1"
   ]
  },
  {
   "cell_type": "markdown",
   "metadata": {},
   "source": [
    "- Возраст: 25-45\n",
    "- Оценка собственности: 5 и ниже\n",
    "- Кредитный скоринг: 750 и выше\n",
    "- Количество продуктов банка: больше или равно 1\n",
    "- Наличие кредитной карты: нет\n",
    "- Наличие активности клиента: да\n",
    "- Пол клиента: любой\n",
    "- Город: любой"
   ]
  },
  {
   "cell_type": "code",
   "execution_count": 52,
   "metadata": {},
   "outputs": [
    {
     "name": "stdout",
     "output_type": "stream",
     "text": [
      "Общее количество клиентов в сегменте №1: 873\n",
      "Количество отточных клиентов в сегменте №1: 340\n",
      "Доля отточных пользователей в сегменте №1: 38.95%\n"
     ]
    }
   ],
   "source": [
    "#Общее количество клиентов в сегменте:\n",
    "seg_1 = df.query(\n",
    "    'age > 25 and age <= 45 \\\n",
    "    and equity <= 5  \\\n",
    "    and products >= 1\\\n",
    "    and score >= 750 \\\n",
    "    and credit_card == 0 \\\n",
    "    and last_activity == 1')\n",
    "print('Общее количество клиентов в сегменте №1:', len(seg_1))\n",
    "\n",
    "#Количество отточных клиентов в сегменте:\n",
    "seg_1_churn1 = df.query(\n",
    "    'age > 25 and age <= 45 \\\n",
    "    and equity <= 5 \\\n",
    "    and products >= 1\\\n",
    "    and score >= 750 \\\n",
    "    and credit_card == 0 \\\n",
    "    and last_activity == 1 \\\n",
    "    and churn == 1')\n",
    "print('Количество отточных клиентов в сегменте №1:', len(seg_1_churn1))\n",
    "\n",
    "# Рассчитаем долю отточных пользователей:\n",
    "share_1 = len(seg_1_churn1) / len(seg_1) * 100 \n",
    "print('Доля отточных пользователей в сегменте №1:', str(round(share_1,2)) + '%')"
   ]
  },
  {
   "cell_type": "markdown",
   "metadata": {},
   "source": [
    "### Сегмент №2"
   ]
  },
  {
   "cell_type": "markdown",
   "metadata": {},
   "source": [
    "- Возраст: 25-45\n",
    "- Оценка собственности: 4 и выше\n",
    "- Кредитный скоринг: 730 и выше\n",
    "- Количество продуктов банка: больше или равно 1\n",
    "- Наличие кредитной карты: да\n",
    "- Наличие активности клиента: да\n",
    "- Пол клиента: любой\n",
    "- Город: любой"
   ]
  },
  {
   "cell_type": "code",
   "execution_count": 53,
   "metadata": {},
   "outputs": [
    {
     "name": "stdout",
     "output_type": "stream",
     "text": [
      "Общее количество клиентов в сегменте №2: 799\n",
      "Количество отточных клиентов в сегменте №2: 288\n",
      "Доля отточных пользователей в сегменте №2: 36.05%\n"
     ]
    }
   ],
   "source": [
    "#Общее количество клиентов в сегменте:\n",
    "seg_2 = df.query(\n",
    "    'age > 25 and age <= 45 \\\n",
    "    and equity >= 4   \\\n",
    "    and products >= 1\\\n",
    "    and score >= 730 \\\n",
    "    and credit_card == 1 \\\n",
    "    and last_activity == 1')\n",
    "print('Общее количество клиентов в сегменте №2:', len(seg_2))\n",
    "\n",
    "\n",
    "#Количество отточных клиентов в сегменте:\n",
    "seg_2_churn1 = df.query(\n",
    "    'age > 25 and age <= 45 \\\n",
    "    and equity <= 4 \\\n",
    "    and products >= 1\\\n",
    "    and score >= 730 \\\n",
    "    and credit_card == 1 \\\n",
    "    and last_activity == 1\\\n",
    "    and churn == 1')\n",
    "print('Количество отточных клиентов в сегменте №2:', len(seg_2_churn1))\n",
    "\n",
    "# Рассчитаем долю отточных пользователей:\n",
    "share_2 = len(seg_2_churn1) / len(seg_2) * 100 \n",
    "print('Доля отточных пользователей в сегменте №2:', str(round(share_2,2)) + '%')"
   ]
  },
  {
   "cell_type": "markdown",
   "metadata": {},
   "source": [
    "### Сегмент №3"
   ]
  },
  {
   "cell_type": "markdown",
   "metadata": {},
   "source": [
    "Посколько основные клиенты банка - люди от 25-45 лет, но нужно также задеть вторую возрастную группу по величине (46-62), то ослабим критерии для данного сегмента"
   ]
  },
  {
   "cell_type": "markdown",
   "metadata": {},
   "source": [
    "- Возраст: 46-62\n",
    "- Оценка собственности: не учитывается\n",
    "- Кредитный скоринг: 650 и выше\n",
    "- Количество продуктов банка: больше или равно 2\n",
    "- Наличие кредитной карты: нет\n",
    "- Наличие активности клиента: не учитывается\n",
    "- Пол клиента: любой\n",
    "- Город: любой"
   ]
  },
  {
   "cell_type": "code",
   "execution_count": 54,
   "metadata": {},
   "outputs": [
    {
     "name": "stdout",
     "output_type": "stream",
     "text": [
      "Общее количество клиентов в сегменте №3: 827\n",
      "Количество отточных клиентов в сегменте №3: 278\n",
      "Доля отточных пользователей в сегменте №3: 33.62%\n"
     ]
    }
   ],
   "source": [
    "#Общее количество клиентов в сегменте:\n",
    "seg_3 = df.query(\n",
    "    'age > 46 and age <= 62 \\\n",
    "    and products >= 2 \\\n",
    "    and score >= 650 \\\n",
    "    and credit_card == 0')\n",
    "print('Общее количество клиентов в сегменте №3:', len(seg_3))\n",
    "\n",
    "\n",
    "#Количество отточных клиентов в сегменте:\n",
    "seg_3_churn1 = df.query(\n",
    "    'age > 46 and age <= 62 \\\n",
    "    and products >= 2\\\n",
    "    and score >= 650 \\\n",
    "    and credit_card == 0 \\\n",
    "    and churn == 1')\n",
    "print('Количество отточных клиентов в сегменте №3:', len(seg_3_churn1))\n",
    "\n",
    "# Рассчитаем долю отточных пользователей:\n",
    "share_3 = len(seg_3_churn1) / len(seg_3) * 100 \n",
    "print('Доля отточных пользователей в сегменте №3:', str(round(share_3,2)) + '%')"
   ]
  },
  {
   "cell_type": "markdown",
   "metadata": {},
   "source": [
    "### Рекомендации для сегментов"
   ]
  },
  {
   "cell_type": "markdown",
   "metadata": {},
   "source": [
    "**Cегмент №1**\n",
    "<br>\n",
    "- Возраст: 25-45\n",
    "- Оценка собственности: 5 и ниже\n",
    "- Кредитный скоринг: 750 и выше\n",
    "- Количество продуктов банка: больше или равно 1\n",
    "- Наличие кредитной карты: нет\n",
    "- Наличие активности клиента: да\n",
    "- Пол клиента: любой\n",
    "- Город: любой\n",
    "<br>\n",
    "\n",
    "*Процент отточности 39%*\n",
    "<br>\n",
    "\n",
    "**Рекомендации:** \n",
    "1. Предложить выгодные условия по страхованию собственности\n",
    "2. Проанализировать годовую корзину пользователей и предложить повышенный кэшбек на категории товаров из корзины\n",
    "3. Рассмотреть идею переквалификации сотрудников кол-центра\\улучшить качество взаимодействия с клиентами\n",
    "4. Предложить оформить кредитную карту\n",
    "\n",
    "**Cегмент №2**\n",
    "<br>\n",
    "- Возраст: 25-45\n",
    "- Оценка собственности: 4 и выше\n",
    "- Кредитный скоринг: 730 и выше\n",
    "- Количество продуктов банка: больше или равно 1\n",
    "- Наличие кредитной карты: да\n",
    "- Наличие активности клиента: да\n",
    "- Пол клиента: любой\n",
    "- Город: любой\n",
    "<br>\n",
    "\n",
    "*Процент отточности 36%*\n",
    "<br>\n",
    "\n",
    "**Рекомендации:** \n",
    "1. Предложить более выгодные условия для кредитных карт\n",
    "2. Рассмотреть программу бонусов для владельцев кредитных карт\n",
    "3. Предложить продукты банка на выгодных условиях, что повысит удержание клиентов\n",
    "\n",
    "**Cегмент №3**\n",
    "<br>\n",
    "- Возраст: 46-62\n",
    "- Оценка собственности: не учитывается\n",
    "- Кредитный скоринг: 650 и выше\n",
    "- Количество продуктов банка: больше или равно 2\n",
    "- Наличие кредитной карты: нет\n",
    "- Наличие активности клиента: не учитывается\n",
    "- Пол клиента: любой\n",
    "- Город: любой\n",
    "<br>\n",
    "\n",
    "*Процент отточности 34%*\n",
    "<br>\n",
    "\n",
    "**Рекомендации:** \n",
    "1. Предложить оформить кредитную карту\n",
    "2. Система льгот для пенсионеров\n",
    "3. Система кешбэка на товары для людей пенсионного и предпенсионного возраста\n",
    "4. Предложить открыть накопительный (с высоким процентом для людей пенсионного и предпенсионного возраста) счет в банке\n"
   ]
  },
  {
   "cell_type": "markdown",
   "metadata": {},
   "source": [
    "\n",
    "<div class=\"alert alert-success\">\n",
    "<b>Комментарий ревьюера:</b>☀️Отличные сегменты и конкретные рекомендации - \"не к чему придраться\", как говорится\n",
    "</div>\n"
   ]
  },
  {
   "cell_type": "markdown",
   "metadata": {},
   "source": [
    "## Проверка статистических гипотез"
   ]
  },
  {
   "cell_type": "markdown",
   "metadata": {},
   "source": [
    "### Гипотеза №1 : Различие доходов оставшихся и отточных клиентов\n",
    "<br>\n",
    "\n",
    "Сформулируем нулевую и альтернативную гипотезы:\n",
    "\n",
    "```\n",
    "H_0: Средние доходы (est_salary) оставшихся клиентов = средние доходы (est_salary) отточных клиентов\n",
    "H_1: Средние доходы (est_salary) оставшихся клиентов ≠ средние доходы (est_salary) отточных клиентов\n",
    "alpha = 0.05\n",
    "```\n",
    "\n",
    "Для проверки гипотезы проведем t-test:"
   ]
  },
  {
   "cell_type": "code",
   "execution_count": 55,
   "metadata": {},
   "outputs": [
    {
     "name": "stdout",
     "output_type": "stream",
     "text": [
      "p-значение: 0.9753337598864819\n",
      "Не можем отвергнуть нулевую гипотезу.\n"
     ]
    }
   ],
   "source": [
    "# results = вызов метода для проверки гипотезы\n",
    "\n",
    "results = st.ttest_ind (\n",
    "    df[df['churn']==0]['est_salary'],\n",
    "    df[df['churn']==1]['est_salary'], equal_var = False)\n",
    "\n",
    "alpha = 0.05\n",
    "\n",
    "print('p-значение:', results.pvalue)\n",
    "if results.pvalue < alpha:\n",
    "    print('Отвергаем нулевую гипотезу. Средние доходы отличаются')\n",
    "else:\n",
    "    print('Не можем отвергнуть нулевую гипотезу.')"
   ]
  },
  {
   "cell_type": "markdown",
   "metadata": {},
   "source": [
    "**Вывод**\n",
    "<br>\n",
    "Проведенный t-test показал, что нулевую гипотезу об отсутствии различий в доходах отточных и оставшихся клиентов опровергнуть не удалось."
   ]
  },
  {
   "cell_type": "markdown",
   "metadata": {},
   "source": [
    "### Гипотеза №2 : Различие в наличии и отсутвии кредитных карт у оставшихся и отточных клиентов \n",
    "<br>\n",
    "\n",
    "Сформулируем нулевую и альтернативную гипотезы:\n",
    "\n",
    "```\n",
    "H_0: Средние количество кредитных карт (credit_card) оставшихся клиентов = Cредние количество кредитных карт (credit_card) отточных клиентов\n",
    "H_1: Средние количество кредитных карт (credit_card) оставшихся клиентов ≠ Cредние количество кредитных карт (credit_card) отточных клиентов\n",
    "alpha = 0.05\n",
    "```\n",
    "\n",
    "Для проверки гипотезы проведем t-test:"
   ]
  },
  {
   "cell_type": "code",
   "execution_count": 56,
   "metadata": {},
   "outputs": [
    {
     "name": "stdout",
     "output_type": "stream",
     "text": [
      "p-значение: 1.5531010437429429e-34\n",
      "Отвергаем нулевую гипотезу.\n"
     ]
    }
   ],
   "source": [
    "# results = вызов метода для проверки гипотезы\n",
    "\n",
    "results = st.ttest_ind (\n",
    "    df[df['churn']==0]['credit_card'],\n",
    "    df[df['churn']==1]['credit_card'], equal_var = False)\n",
    "\n",
    "alpha = 0.05\n",
    "\n",
    "print('p-значение:', results.pvalue)\n",
    "if results.pvalue < alpha:\n",
    "    print('Отвергаем нулевую гипотезу.')\n",
    "else:\n",
    "    print('Не можем отвергнуть нулевую гипотезу.')"
   ]
  },
  {
   "cell_type": "markdown",
   "metadata": {},
   "source": [
    "**Вывод**\n",
    "<br>\n",
    "t-test выявил наличие статистически значимой разницы между оставшимися и отточными пользователями - наличие кредитной карты. Было установлено ранее, что ушедшие клиенты реже пользовались кредитной картой "
   ]
  },
  {
   "cell_type": "markdown",
   "metadata": {},
   "source": [
    "\n",
    "<div class=\"alert alert-danger\">\n",
    "<b>Комментарий ревьюера:</b>Нужно обосновать выбор критерия проверки и уровня значимости.</div>\n"
   ]
  },
  {
   "cell_type": "markdown",
   "metadata": {},
   "source": [
    "Наиболее частые случаи применения t-критерия связаны с проверкой равенства средних значений в двух выборках, что в нашем случае является актуальным. Кроме того, в своей исходной форме, t-критерий предполагает независимость сравниваемых выборок.\n",
    "<br>\n",
    "Выбор уровня значимости в 5% обуславливается практическими соображениями, поскольку вероятность ошибки в 5% можно считать допустимой. Также уровень значимости в 5% применяется во многих сферах."
   ]
  },
  {
   "cell_type": "markdown",
   "metadata": {},
   "source": [
    "<div class=\"alert alert-info\"> <b>Комментарий студента:</b> Исправил.</div>    "
   ]
  },
  {
   "cell_type": "markdown",
   "metadata": {},
   "source": [
    "## Вывод"
   ]
  },
  {
   "cell_type": "markdown",
   "metadata": {},
   "source": [
    "В ходе исследования при помощи тепловой карты корреляции были выявлены факторы влияющие на отток клиентов\n",
    "<br>\n",
    "***Факторы, которые влияют на отток клиентов:***\n",
    "1. Возраст клиента. Наиболее отточными возрастными группами явлются: 25-45 лет, 46-62 года\n",
    "2. Приблизительная оценка собственности клиента. Была выявлена прямая зависимость. Чем выше оценка собственности, тем выше процент отточных клиентов\n",
    "3. Кредитный скоринг. После достижения \"рубежа\" в 769 баллов процент отточности клиентов начинает расти\n",
    "4. Количество продуктов банка. Была выявлена прямая зависимость. Чем выше число продуктов банка (до 4), тем выше процент отточных клиентов. Клиенты с 4 продуктами уходят намного чаще, чем остальные\n",
    "5. Наличие кредитной карты. Процент отточных клиентов без кредитной карты выше, чем у клиентов с кредитной картойъ\n",
    "6. Последняя активность. Клиенты, которые контактировали с банком уходят намного чаще, чем клиенты, которые с ним не контактировали\n",
    "7. Пол клиента. Мужчины чаще являются отточными клиентами\n",
    "<br>\n",
    "**Сформированы сегменты отточных клиентов и даны рекомендации для каждого сегмента:**\n",
    "<br>\n",
    "> Процент отточности каждого сегмента превышает 30%\n",
    "<br>\n",
    "\n",
    "***Сегмент №1***\n",
    "<br>\n",
    "Рекомендации для сегмента №1: \n",
    "1. Предложить выгодные условия по страхованию собственности\n",
    "2. Проанализировать годовую корзину пользователей и предложить повышенный кэшбек на категории товаров из корзины\n",
    "3. Рассмотреть идею переквалификации сотрудников кол-центра\\улучшить качество взаимодействия с клиентами\n",
    "4. Предложить оформить кредитную карту\n",
    "<br>\n",
    "\n",
    "***Сегмент №2***\n",
    "<br>\n",
    "Рекомендации для сегмента №2: \n",
    "1. Предложить более выгодные условия для кредитных карт\n",
    "2. Рассмотреть программу бонусов для владельцев кредитных карт\n",
    "3. Предложить продукты банка на выгодных условиях, что повысит удержание клиентов\n",
    "<br>\n",
    "\n",
    "***Сегмент №3***\n",
    "<br>\n",
    "Рекомендации для сегмента №3: \n",
    "1. Предложить оформить кредитную карту\n",
    "2. Система льгот для пенсионеров\n",
    "3. Система кешбэка на товары для людей пенсионного и предпенсионного возраста\n",
    "4. Предложить открыть накопительный (с высоким процентом для людей пенсионного и предпенсионного возраста) счет в банка\n",
    "<br>\n",
    "\n",
    "**Была проведена проверка *статистических гипотез***:\n",
    "<br>\n",
    "- Гипотеза №1 о различии доходов оставшихся и отточных клиентов: не подтвердилась\n",
    "- Гипотеза №2 о различии в наличии или отсутствии кредитной карты оставшихся и отточных клиентов: подтвердилась"
   ]
  },
  {
   "cell_type": "markdown",
   "metadata": {},
   "source": [
    "\n",
    "<div class=\"alert alert-success\">\n",
    "<b>Комментарий ревьюера:</b>☀️Валерий, спасибо тебе за твой проект. Все получилось супер, презентация тоже зачтена. Осталось исправить какие-то микромоменты по проекту  и все. Отправляю его тебе, чтобы ты ознакомился с моими комментариями и оставил свои. Если вопросов нет - просто пришли проект обратно, и я его приму. Молодец :) Редко бывает, что с первой итерации практически полностью выполненный проект без критических замечаний. Успехов!</div>\n"
   ]
  },
  {
   "cell_type": "markdown",
   "metadata": {},
   "source": [
    "<div class=\"alert alert-info\"> <b>Комментарий студента:</b> Спасибо большое! Еще хотел бы попросить какие-нибудь полезные ресурсы, советы, чтобы повысить свою конкурентоспособность при приеме на работу.\n",
    "    <br>Искренне рад, что ты проверяешь мой проект</div> "
   ]
  },
  {
   "cell_type": "markdown",
   "metadata": {},
   "source": [
    "\n",
    "<div class=\"alert alert-success\">\n",
    "<b>Комментарий ревьюера v2.0:</b>☀️Спасибо за правки, сейчас все точно принято. Дашборд тоже зачтен :) По полезным ресурсам - Есть такой учебник по машинному обучению - \n",
    "    \n",
    "        https://academy.yandex.ru/handbook/ml\n",
    "Вкупе с аналитикой очень классно помогает. Этот проект тоже можно выполнять с помощью машинного обучения. \n",
    "Вот это тоже хорошая статья :\n",
    "    \n",
    "        https://pikabu.ru/story/korrelyatsiya_i_kauzalnost_5956601\n",
    "   В целом, некоторые моменты по коду можно было оптимизировать, советую учить просто синтаксис питона всегда, даже если кажется, что уже все знаешь. Еще раз поздравляю тебя :) Успехов!\n",
    "</div>\n"
   ]
  },
  {
   "cell_type": "code",
   "execution_count": null,
   "metadata": {},
   "outputs": [],
   "source": []
  }
 ],
 "metadata": {
  "ExecuteTimeLog": [
   {
    "duration": 1739,
    "start_time": "2023-05-03T10:28:09.818Z"
   },
   {
    "duration": 1419,
    "start_time": "2023-05-03T10:28:21.992Z"
   },
   {
    "duration": 34,
    "start_time": "2023-05-03T10:28:26.240Z"
   },
   {
    "duration": 23,
    "start_time": "2023-05-03T10:30:10.165Z"
   },
   {
    "duration": 158,
    "start_time": "2023-05-03T10:30:22.973Z"
   },
   {
    "duration": 1398,
    "start_time": "2023-05-03T10:30:50.557Z"
   },
   {
    "duration": 1299,
    "start_time": "2023-05-03T10:30:51.961Z"
   },
   {
    "duration": 52,
    "start_time": "2023-05-03T10:30:53.262Z"
   },
   {
    "duration": 30,
    "start_time": "2023-05-03T10:30:53.318Z"
   },
   {
    "duration": 132,
    "start_time": "2023-05-03T10:30:53.350Z"
   },
   {
    "duration": 18,
    "start_time": "2023-05-03T10:32:32.063Z"
   },
   {
    "duration": 6,
    "start_time": "2023-05-03T10:32:52.741Z"
   },
   {
    "duration": 15,
    "start_time": "2023-05-03T10:33:13.346Z"
   },
   {
    "duration": 4,
    "start_time": "2023-05-03T10:33:28.644Z"
   },
   {
    "duration": 60,
    "start_time": "2023-05-03T10:33:40.954Z"
   },
   {
    "duration": 13,
    "start_time": "2023-05-03T10:33:45.886Z"
   },
   {
    "duration": 7,
    "start_time": "2023-05-03T10:34:04.740Z"
   },
   {
    "duration": 13,
    "start_time": "2023-05-03T10:34:40.072Z"
   },
   {
    "duration": 19,
    "start_time": "2023-05-03T10:34:55.153Z"
   },
   {
    "duration": 3,
    "start_time": "2023-05-03T10:35:13.244Z"
   },
   {
    "duration": 10,
    "start_time": "2023-05-03T10:35:22.158Z"
   },
   {
    "duration": 3,
    "start_time": "2023-05-03T10:36:00.376Z"
   },
   {
    "duration": 4,
    "start_time": "2023-05-03T10:36:06.951Z"
   },
   {
    "duration": 10,
    "start_time": "2023-05-03T10:36:40.146Z"
   },
   {
    "duration": 6,
    "start_time": "2023-05-03T10:36:43.764Z"
   },
   {
    "duration": 20,
    "start_time": "2023-05-03T10:36:47.452Z"
   },
   {
    "duration": 7,
    "start_time": "2023-05-03T10:36:58.349Z"
   },
   {
    "duration": 5,
    "start_time": "2023-05-03T10:37:14.749Z"
   },
   {
    "duration": 6,
    "start_time": "2023-05-03T10:37:18.530Z"
   },
   {
    "duration": 5,
    "start_time": "2023-05-03T10:37:21.956Z"
   },
   {
    "duration": 5,
    "start_time": "2023-05-03T10:37:25.741Z"
   },
   {
    "duration": 16,
    "start_time": "2023-05-03T10:37:29.526Z"
   },
   {
    "duration": 4,
    "start_time": "2023-05-03T10:37:32.650Z"
   },
   {
    "duration": 4,
    "start_time": "2023-05-03T10:37:36.550Z"
   },
   {
    "duration": 50,
    "start_time": "2023-05-03T10:38:56.482Z"
   },
   {
    "duration": 8,
    "start_time": "2023-05-03T10:45:51.342Z"
   },
   {
    "duration": 19,
    "start_time": "2023-05-03T10:46:43.560Z"
   },
   {
    "duration": 16,
    "start_time": "2023-05-03T10:46:51.190Z"
   },
   {
    "duration": 4,
    "start_time": "2023-05-03T10:47:36.553Z"
   },
   {
    "duration": 1850,
    "start_time": "2023-05-03T11:00:13.040Z"
   },
   {
    "duration": 8,
    "start_time": "2023-05-03T14:27:51.651Z"
   },
   {
    "duration": 7,
    "start_time": "2023-05-03T14:27:57.838Z"
   },
   {
    "duration": 28,
    "start_time": "2023-05-03T14:28:03.324Z"
   },
   {
    "duration": 21,
    "start_time": "2023-05-03T14:28:21.852Z"
   },
   {
    "duration": 19,
    "start_time": "2023-05-03T14:28:24.962Z"
   },
   {
    "duration": 1370,
    "start_time": "2023-05-03T14:28:54.781Z"
   },
   {
    "duration": 1227,
    "start_time": "2023-05-03T14:28:56.154Z"
   },
   {
    "duration": 36,
    "start_time": "2023-05-03T14:28:57.383Z"
   },
   {
    "duration": 23,
    "start_time": "2023-05-03T14:28:57.421Z"
   },
   {
    "duration": 20,
    "start_time": "2023-05-03T14:28:57.447Z"
   },
   {
    "duration": 6,
    "start_time": "2023-05-03T14:28:57.494Z"
   },
   {
    "duration": 65,
    "start_time": "2023-05-03T14:28:57.502Z"
   },
   {
    "duration": 26,
    "start_time": "2023-05-03T14:28:57.569Z"
   },
   {
    "duration": 20,
    "start_time": "2023-05-03T14:28:57.597Z"
   },
   {
    "duration": 22,
    "start_time": "2023-05-03T14:28:57.619Z"
   },
   {
    "duration": 41,
    "start_time": "2023-05-03T14:28:57.643Z"
   },
   {
    "duration": 11,
    "start_time": "2023-05-03T14:28:57.686Z"
   },
   {
    "duration": 43,
    "start_time": "2023-05-03T14:28:57.699Z"
   },
   {
    "duration": 37,
    "start_time": "2023-05-03T14:28:57.746Z"
   },
   {
    "duration": 41,
    "start_time": "2023-05-03T14:28:57.785Z"
   },
   {
    "duration": 24,
    "start_time": "2023-05-03T14:28:57.828Z"
   },
   {
    "duration": 33,
    "start_time": "2023-05-03T14:28:57.854Z"
   },
   {
    "duration": 36,
    "start_time": "2023-05-03T14:28:57.889Z"
   },
   {
    "duration": 58,
    "start_time": "2023-05-03T14:28:57.927Z"
   },
   {
    "duration": 42,
    "start_time": "2023-05-03T14:28:57.987Z"
   },
   {
    "duration": 35,
    "start_time": "2023-05-03T14:28:58.030Z"
   },
   {
    "duration": 57,
    "start_time": "2023-05-03T14:28:58.067Z"
   },
   {
    "duration": 16,
    "start_time": "2023-05-03T14:28:58.127Z"
   },
   {
    "duration": 77,
    "start_time": "2023-05-03T14:28:58.145Z"
   },
   {
    "duration": 24,
    "start_time": "2023-05-03T14:28:58.224Z"
   },
   {
    "duration": 25,
    "start_time": "2023-05-03T14:28:58.250Z"
   },
   {
    "duration": 66,
    "start_time": "2023-05-03T14:28:58.277Z"
   },
   {
    "duration": 5,
    "start_time": "2023-05-03T14:29:52.361Z"
   },
   {
    "duration": 16,
    "start_time": "2023-05-03T14:29:57.737Z"
   },
   {
    "duration": 1271,
    "start_time": "2023-05-03T14:30:05.073Z"
   },
   {
    "duration": 1518,
    "start_time": "2023-05-03T14:30:06.346Z"
   },
   {
    "duration": 38,
    "start_time": "2023-05-03T14:30:07.867Z"
   },
   {
    "duration": 23,
    "start_time": "2023-05-03T14:30:07.907Z"
   },
   {
    "duration": 14,
    "start_time": "2023-05-03T14:30:07.932Z"
   },
   {
    "duration": 5,
    "start_time": "2023-05-03T14:30:07.948Z"
   },
   {
    "duration": 101,
    "start_time": "2023-05-03T14:30:07.955Z"
   },
   {
    "duration": 11,
    "start_time": "2023-05-03T14:30:08.058Z"
   },
   {
    "duration": 33,
    "start_time": "2023-05-03T14:30:08.071Z"
   },
   {
    "duration": 52,
    "start_time": "2023-05-03T14:30:08.106Z"
   },
   {
    "duration": 23,
    "start_time": "2023-05-03T14:30:08.160Z"
   },
   {
    "duration": 6,
    "start_time": "2023-05-03T14:30:08.186Z"
   },
   {
    "duration": 30,
    "start_time": "2023-05-03T14:30:08.193Z"
   },
   {
    "duration": 32,
    "start_time": "2023-05-03T14:30:08.227Z"
   },
   {
    "duration": 29,
    "start_time": "2023-05-03T14:30:08.261Z"
   },
   {
    "duration": 5,
    "start_time": "2023-05-03T14:30:08.292Z"
   },
   {
    "duration": 6,
    "start_time": "2023-05-03T14:30:08.299Z"
   },
   {
    "duration": 7,
    "start_time": "2023-05-03T14:30:08.307Z"
   },
   {
    "duration": 6,
    "start_time": "2023-05-03T14:30:08.315Z"
   },
   {
    "duration": 6,
    "start_time": "2023-05-03T14:30:08.323Z"
   },
   {
    "duration": 8,
    "start_time": "2023-05-03T14:30:08.330Z"
   },
   {
    "duration": 5,
    "start_time": "2023-05-03T14:30:08.339Z"
   },
   {
    "duration": 48,
    "start_time": "2023-05-03T14:30:08.346Z"
   },
   {
    "duration": 38,
    "start_time": "2023-05-03T14:30:08.396Z"
   },
   {
    "duration": 7,
    "start_time": "2023-05-03T14:30:08.436Z"
   },
   {
    "duration": 5,
    "start_time": "2023-05-03T14:30:08.445Z"
   },
   {
    "duration": 54,
    "start_time": "2023-05-03T14:30:08.452Z"
   },
   {
    "duration": 18,
    "start_time": "2023-05-03T14:30:31.776Z"
   },
   {
    "duration": 343,
    "start_time": "2023-05-03T14:30:51.848Z"
   },
   {
    "duration": 6,
    "start_time": "2023-05-03T14:30:57.319Z"
   },
   {
    "duration": 17,
    "start_time": "2023-05-03T14:34:20.066Z"
   },
   {
    "duration": 1243,
    "start_time": "2023-05-03T14:34:28.232Z"
   },
   {
    "duration": 1464,
    "start_time": "2023-05-03T14:34:29.478Z"
   },
   {
    "duration": 38,
    "start_time": "2023-05-03T14:34:30.945Z"
   },
   {
    "duration": 45,
    "start_time": "2023-05-03T14:34:30.985Z"
   },
   {
    "duration": 45,
    "start_time": "2023-05-03T14:34:31.032Z"
   },
   {
    "duration": 14,
    "start_time": "2023-05-03T14:34:31.079Z"
   },
   {
    "duration": 96,
    "start_time": "2023-05-03T14:34:31.095Z"
   },
   {
    "duration": 8,
    "start_time": "2023-05-03T14:34:31.194Z"
   },
   {
    "duration": 45,
    "start_time": "2023-05-03T14:34:31.204Z"
   },
   {
    "duration": 19,
    "start_time": "2023-05-03T14:34:31.252Z"
   },
   {
    "duration": 32,
    "start_time": "2023-05-03T14:34:31.273Z"
   },
   {
    "duration": 53,
    "start_time": "2023-05-03T14:34:31.307Z"
   },
   {
    "duration": 57,
    "start_time": "2023-05-03T14:34:31.362Z"
   },
   {
    "duration": 51,
    "start_time": "2023-05-03T14:34:31.421Z"
   },
   {
    "duration": 36,
    "start_time": "2023-05-03T14:34:31.474Z"
   },
   {
    "duration": 30,
    "start_time": "2023-05-03T14:34:31.512Z"
   },
   {
    "duration": 22,
    "start_time": "2023-05-03T14:34:31.545Z"
   },
   {
    "duration": 36,
    "start_time": "2023-05-03T14:34:31.569Z"
   },
   {
    "duration": 32,
    "start_time": "2023-05-03T14:34:31.608Z"
   },
   {
    "duration": 45,
    "start_time": "2023-05-03T14:34:31.643Z"
   },
   {
    "duration": 46,
    "start_time": "2023-05-03T14:34:31.690Z"
   },
   {
    "duration": 55,
    "start_time": "2023-05-03T14:34:31.738Z"
   },
   {
    "duration": 50,
    "start_time": "2023-05-03T14:34:31.795Z"
   },
   {
    "duration": 76,
    "start_time": "2023-05-03T14:34:31.847Z"
   },
   {
    "duration": 6,
    "start_time": "2023-05-03T14:34:31.926Z"
   },
   {
    "duration": 31,
    "start_time": "2023-05-03T14:34:31.935Z"
   },
   {
    "duration": 47,
    "start_time": "2023-05-03T14:34:31.968Z"
   },
   {
    "duration": 893,
    "start_time": "2023-05-03T14:35:02.445Z"
   },
   {
    "duration": 14,
    "start_time": "2023-05-03T14:35:07.255Z"
   },
   {
    "duration": 20,
    "start_time": "2023-05-03T14:35:39.342Z"
   },
   {
    "duration": 14,
    "start_time": "2023-05-03T14:35:47.765Z"
   },
   {
    "duration": 1359,
    "start_time": "2023-05-03T14:36:00.773Z"
   },
   {
    "duration": 875,
    "start_time": "2023-05-03T14:36:02.134Z"
   },
   {
    "duration": 30,
    "start_time": "2023-05-03T14:36:03.011Z"
   },
   {
    "duration": 20,
    "start_time": "2023-05-03T14:36:03.043Z"
   },
   {
    "duration": 38,
    "start_time": "2023-05-03T14:36:03.065Z"
   },
   {
    "duration": 23,
    "start_time": "2023-05-03T14:36:03.105Z"
   },
   {
    "duration": 87,
    "start_time": "2023-05-03T14:36:03.129Z"
   },
   {
    "duration": 8,
    "start_time": "2023-05-03T14:36:03.218Z"
   },
   {
    "duration": 26,
    "start_time": "2023-05-03T14:36:03.227Z"
   },
   {
    "duration": 57,
    "start_time": "2023-05-03T14:36:03.256Z"
   },
   {
    "duration": 51,
    "start_time": "2023-05-03T14:36:03.314Z"
   },
   {
    "duration": 6,
    "start_time": "2023-05-03T14:36:03.367Z"
   },
   {
    "duration": 48,
    "start_time": "2023-05-03T14:36:03.374Z"
   },
   {
    "duration": 40,
    "start_time": "2023-05-03T14:36:03.423Z"
   },
   {
    "duration": 55,
    "start_time": "2023-05-03T14:36:03.464Z"
   },
   {
    "duration": 26,
    "start_time": "2023-05-03T14:36:03.521Z"
   },
   {
    "duration": 24,
    "start_time": "2023-05-03T14:36:03.549Z"
   },
   {
    "duration": 25,
    "start_time": "2023-05-03T14:36:03.574Z"
   },
   {
    "duration": 64,
    "start_time": "2023-05-03T14:36:03.601Z"
   },
   {
    "duration": 39,
    "start_time": "2023-05-03T14:36:03.667Z"
   },
   {
    "duration": 28,
    "start_time": "2023-05-03T14:36:03.708Z"
   },
   {
    "duration": 38,
    "start_time": "2023-05-03T14:36:03.737Z"
   },
   {
    "duration": 26,
    "start_time": "2023-05-03T14:36:03.777Z"
   },
   {
    "duration": 75,
    "start_time": "2023-05-03T14:36:03.805Z"
   },
   {
    "duration": 6,
    "start_time": "2023-05-03T14:36:03.882Z"
   },
   {
    "duration": 33,
    "start_time": "2023-05-03T14:36:03.891Z"
   },
   {
    "duration": 38,
    "start_time": "2023-05-03T14:36:03.926Z"
   },
   {
    "duration": 20,
    "start_time": "2023-05-03T14:37:02.249Z"
   },
   {
    "duration": 1253,
    "start_time": "2023-05-03T14:37:17.192Z"
   },
   {
    "duration": 1181,
    "start_time": "2023-05-03T14:37:18.447Z"
   },
   {
    "duration": 35,
    "start_time": "2023-05-03T14:37:19.630Z"
   },
   {
    "duration": 21,
    "start_time": "2023-05-03T14:37:19.667Z"
   },
   {
    "duration": 20,
    "start_time": "2023-05-03T14:37:19.696Z"
   },
   {
    "duration": 34,
    "start_time": "2023-05-03T14:37:19.718Z"
   },
   {
    "duration": 68,
    "start_time": "2023-05-03T14:37:19.753Z"
   },
   {
    "duration": 7,
    "start_time": "2023-05-03T14:37:19.823Z"
   },
   {
    "duration": 10,
    "start_time": "2023-05-03T14:37:19.831Z"
   },
   {
    "duration": 13,
    "start_time": "2023-05-03T14:37:19.843Z"
   },
   {
    "duration": 54,
    "start_time": "2023-05-03T14:37:19.857Z"
   },
   {
    "duration": 5,
    "start_time": "2023-05-03T14:37:19.913Z"
   },
   {
    "duration": 11,
    "start_time": "2023-05-03T14:37:19.919Z"
   },
   {
    "duration": 6,
    "start_time": "2023-05-03T14:37:19.931Z"
   },
   {
    "duration": 20,
    "start_time": "2023-05-03T14:37:19.938Z"
   },
   {
    "duration": 49,
    "start_time": "2023-05-03T14:37:19.959Z"
   },
   {
    "duration": 7,
    "start_time": "2023-05-03T14:37:20.010Z"
   },
   {
    "duration": 5,
    "start_time": "2023-05-03T14:37:20.019Z"
   },
   {
    "duration": 11,
    "start_time": "2023-05-03T14:37:20.025Z"
   },
   {
    "duration": 14,
    "start_time": "2023-05-03T14:37:20.037Z"
   },
   {
    "duration": 6,
    "start_time": "2023-05-03T14:37:20.052Z"
   },
   {
    "duration": 11,
    "start_time": "2023-05-03T14:37:20.060Z"
   },
   {
    "duration": 7,
    "start_time": "2023-05-03T14:37:20.094Z"
   },
   {
    "duration": 35,
    "start_time": "2023-05-03T14:37:20.107Z"
   },
   {
    "duration": 4,
    "start_time": "2023-05-03T14:37:20.144Z"
   },
   {
    "duration": 5,
    "start_time": "2023-05-03T14:37:20.150Z"
   },
   {
    "duration": 53,
    "start_time": "2023-05-03T14:37:20.157Z"
   },
   {
    "duration": 14,
    "start_time": "2023-05-03T14:42:58.287Z"
   },
   {
    "duration": 1246,
    "start_time": "2023-05-03T14:43:03.312Z"
   },
   {
    "duration": 1361,
    "start_time": "2023-05-03T14:43:04.561Z"
   },
   {
    "duration": 33,
    "start_time": "2023-05-03T14:43:05.924Z"
   },
   {
    "duration": 29,
    "start_time": "2023-05-03T14:43:05.958Z"
   },
   {
    "duration": 34,
    "start_time": "2023-05-03T14:43:05.992Z"
   },
   {
    "duration": 8,
    "start_time": "2023-05-03T14:43:06.028Z"
   },
   {
    "duration": 90,
    "start_time": "2023-05-03T14:43:06.038Z"
   },
   {
    "duration": 6,
    "start_time": "2023-05-03T14:43:06.129Z"
   },
   {
    "duration": 22,
    "start_time": "2023-05-03T14:43:06.137Z"
   },
   {
    "duration": 56,
    "start_time": "2023-05-03T14:43:06.161Z"
   },
   {
    "duration": 48,
    "start_time": "2023-05-03T14:43:06.218Z"
   },
   {
    "duration": 6,
    "start_time": "2023-05-03T14:43:06.268Z"
   },
   {
    "duration": 39,
    "start_time": "2023-05-03T14:43:06.276Z"
   },
   {
    "duration": 15,
    "start_time": "2023-05-03T14:43:06.318Z"
   },
   {
    "duration": 53,
    "start_time": "2023-05-03T14:43:06.334Z"
   },
   {
    "duration": 23,
    "start_time": "2023-05-03T14:43:06.389Z"
   },
   {
    "duration": 26,
    "start_time": "2023-05-03T14:43:06.414Z"
   },
   {
    "duration": 21,
    "start_time": "2023-05-03T14:43:06.442Z"
   },
   {
    "duration": 43,
    "start_time": "2023-05-03T14:43:06.465Z"
   },
   {
    "duration": 15,
    "start_time": "2023-05-03T14:43:06.510Z"
   },
   {
    "duration": 29,
    "start_time": "2023-05-03T14:43:06.527Z"
   },
   {
    "duration": 27,
    "start_time": "2023-05-03T14:43:06.557Z"
   },
   {
    "duration": 30,
    "start_time": "2023-05-03T14:43:06.585Z"
   },
   {
    "duration": 46,
    "start_time": "2023-05-03T14:43:06.617Z"
   },
   {
    "duration": 5,
    "start_time": "2023-05-03T14:43:06.665Z"
   },
   {
    "duration": 32,
    "start_time": "2023-05-03T14:43:06.672Z"
   },
   {
    "duration": 27,
    "start_time": "2023-05-03T14:43:06.706Z"
   },
   {
    "duration": 6,
    "start_time": "2023-05-03T14:43:13.387Z"
   },
   {
    "duration": 1265,
    "start_time": "2023-05-03T14:43:19.357Z"
   },
   {
    "duration": 982,
    "start_time": "2023-05-03T14:43:20.624Z"
   },
   {
    "duration": 34,
    "start_time": "2023-05-03T14:43:21.610Z"
   },
   {
    "duration": 21,
    "start_time": "2023-05-03T14:43:21.646Z"
   },
   {
    "duration": 44,
    "start_time": "2023-05-03T14:43:21.668Z"
   },
   {
    "duration": 4,
    "start_time": "2023-05-03T14:43:21.714Z"
   },
   {
    "duration": 57,
    "start_time": "2023-05-03T14:43:21.719Z"
   },
   {
    "duration": 36,
    "start_time": "2023-05-03T14:43:21.777Z"
   },
   {
    "duration": 32,
    "start_time": "2023-05-03T14:43:21.817Z"
   },
   {
    "duration": 35,
    "start_time": "2023-05-03T14:43:21.851Z"
   },
   {
    "duration": 31,
    "start_time": "2023-05-03T14:43:21.888Z"
   },
   {
    "duration": 10,
    "start_time": "2023-05-03T14:43:21.920Z"
   },
   {
    "duration": 27,
    "start_time": "2023-05-03T14:43:21.932Z"
   },
   {
    "duration": 7,
    "start_time": "2023-05-03T14:43:21.961Z"
   },
   {
    "duration": 45,
    "start_time": "2023-05-03T14:43:21.970Z"
   },
   {
    "duration": 6,
    "start_time": "2023-05-03T14:43:22.017Z"
   },
   {
    "duration": 13,
    "start_time": "2023-05-03T14:43:22.027Z"
   },
   {
    "duration": 36,
    "start_time": "2023-05-03T14:43:22.042Z"
   },
   {
    "duration": 28,
    "start_time": "2023-05-03T14:43:22.080Z"
   },
   {
    "duration": 33,
    "start_time": "2023-05-03T14:43:22.110Z"
   },
   {
    "duration": 25,
    "start_time": "2023-05-03T14:43:22.144Z"
   },
   {
    "duration": 48,
    "start_time": "2023-05-03T14:43:22.171Z"
   },
   {
    "duration": 35,
    "start_time": "2023-05-03T14:43:22.221Z"
   },
   {
    "duration": 49,
    "start_time": "2023-05-03T14:43:22.258Z"
   },
   {
    "duration": 6,
    "start_time": "2023-05-03T14:43:22.309Z"
   },
   {
    "duration": 27,
    "start_time": "2023-05-03T14:43:22.317Z"
   },
   {
    "duration": 43,
    "start_time": "2023-05-03T14:43:22.347Z"
   },
   {
    "duration": 1311,
    "start_time": "2023-05-03T14:44:49.560Z"
   },
   {
    "duration": 1022,
    "start_time": "2023-05-03T14:44:50.873Z"
   },
   {
    "duration": 40,
    "start_time": "2023-05-03T14:44:51.902Z"
   },
   {
    "duration": 29,
    "start_time": "2023-05-03T14:44:51.944Z"
   },
   {
    "duration": 22,
    "start_time": "2023-05-03T14:44:51.995Z"
   },
   {
    "duration": 74,
    "start_time": "2023-05-03T14:44:52.020Z"
   },
   {
    "duration": 74,
    "start_time": "2023-05-03T14:44:52.099Z"
   },
   {
    "duration": 8,
    "start_time": "2023-05-03T14:44:52.175Z"
   },
   {
    "duration": 32,
    "start_time": "2023-05-03T14:44:52.185Z"
   },
   {
    "duration": 38,
    "start_time": "2023-05-03T14:44:52.219Z"
   },
   {
    "duration": 50,
    "start_time": "2023-05-03T14:44:52.259Z"
   },
   {
    "duration": 4,
    "start_time": "2023-05-03T14:44:52.312Z"
   },
   {
    "duration": 49,
    "start_time": "2023-05-03T14:44:52.317Z"
   },
   {
    "duration": 11,
    "start_time": "2023-05-03T14:44:52.369Z"
   },
   {
    "duration": 49,
    "start_time": "2023-05-03T14:44:52.382Z"
   },
   {
    "duration": 111,
    "start_time": "2023-05-03T14:44:52.433Z"
   },
   {
    "duration": 0,
    "start_time": "2023-05-03T14:44:52.545Z"
   },
   {
    "duration": 0,
    "start_time": "2023-05-03T14:44:52.547Z"
   },
   {
    "duration": 0,
    "start_time": "2023-05-03T14:44:52.548Z"
   },
   {
    "duration": 0,
    "start_time": "2023-05-03T14:44:52.549Z"
   },
   {
    "duration": 0,
    "start_time": "2023-05-03T14:44:52.550Z"
   },
   {
    "duration": 0,
    "start_time": "2023-05-03T14:44:52.550Z"
   },
   {
    "duration": 1,
    "start_time": "2023-05-03T14:44:52.551Z"
   },
   {
    "duration": 0,
    "start_time": "2023-05-03T14:44:52.552Z"
   },
   {
    "duration": 0,
    "start_time": "2023-05-03T14:44:52.553Z"
   },
   {
    "duration": 0,
    "start_time": "2023-05-03T14:44:52.554Z"
   },
   {
    "duration": 0,
    "start_time": "2023-05-03T14:44:52.555Z"
   },
   {
    "duration": 8,
    "start_time": "2023-05-03T14:45:24.575Z"
   },
   {
    "duration": 5,
    "start_time": "2023-05-03T14:45:25.721Z"
   },
   {
    "duration": 5,
    "start_time": "2023-05-03T14:45:25.876Z"
   },
   {
    "duration": 4,
    "start_time": "2023-05-03T14:45:26.036Z"
   },
   {
    "duration": 5,
    "start_time": "2023-05-03T14:45:26.178Z"
   },
   {
    "duration": 4,
    "start_time": "2023-05-03T14:45:26.320Z"
   },
   {
    "duration": 4,
    "start_time": "2023-05-03T14:45:26.442Z"
   },
   {
    "duration": 5,
    "start_time": "2023-05-03T14:45:26.583Z"
   },
   {
    "duration": 35,
    "start_time": "2023-05-03T14:45:27.021Z"
   },
   {
    "duration": 6,
    "start_time": "2023-05-03T14:45:27.319Z"
   },
   {
    "duration": 5,
    "start_time": "2023-05-03T14:45:27.622Z"
   },
   {
    "duration": 19,
    "start_time": "2023-05-03T14:45:28.206Z"
   },
   {
    "duration": 14,
    "start_time": "2023-05-03T15:29:05.857Z"
   },
   {
    "duration": 22,
    "start_time": "2023-05-03T15:30:25.992Z"
   },
   {
    "duration": 17,
    "start_time": "2023-05-03T15:31:59.161Z"
   },
   {
    "duration": 1287,
    "start_time": "2023-05-03T15:32:08.669Z"
   },
   {
    "duration": 1182,
    "start_time": "2023-05-03T15:32:09.959Z"
   },
   {
    "duration": 36,
    "start_time": "2023-05-03T15:32:11.142Z"
   },
   {
    "duration": 26,
    "start_time": "2023-05-03T15:32:11.180Z"
   },
   {
    "duration": 14,
    "start_time": "2023-05-03T15:32:11.208Z"
   },
   {
    "duration": 4,
    "start_time": "2023-05-03T15:32:11.223Z"
   },
   {
    "duration": 81,
    "start_time": "2023-05-03T15:32:11.229Z"
   },
   {
    "duration": 9,
    "start_time": "2023-05-03T15:32:11.312Z"
   },
   {
    "duration": 12,
    "start_time": "2023-05-03T15:32:11.323Z"
   },
   {
    "duration": 27,
    "start_time": "2023-05-03T15:32:11.337Z"
   },
   {
    "duration": 44,
    "start_time": "2023-05-03T15:32:11.366Z"
   },
   {
    "duration": 5,
    "start_time": "2023-05-03T15:32:11.412Z"
   },
   {
    "duration": 18,
    "start_time": "2023-05-03T15:32:11.418Z"
   },
   {
    "duration": 5,
    "start_time": "2023-05-03T15:32:11.439Z"
   },
   {
    "duration": 18,
    "start_time": "2023-05-03T15:32:11.446Z"
   },
   {
    "duration": 7,
    "start_time": "2023-05-03T15:32:11.493Z"
   },
   {
    "duration": 5,
    "start_time": "2023-05-03T15:32:11.502Z"
   },
   {
    "duration": 6,
    "start_time": "2023-05-03T15:32:11.509Z"
   },
   {
    "duration": 9,
    "start_time": "2023-05-03T15:32:11.517Z"
   },
   {
    "duration": 7,
    "start_time": "2023-05-03T15:32:11.527Z"
   },
   {
    "duration": 5,
    "start_time": "2023-05-03T15:32:11.536Z"
   },
   {
    "duration": 5,
    "start_time": "2023-05-03T15:32:11.593Z"
   },
   {
    "duration": 6,
    "start_time": "2023-05-03T15:32:11.600Z"
   },
   {
    "duration": 37,
    "start_time": "2023-05-03T15:32:11.608Z"
   },
   {
    "duration": 5,
    "start_time": "2023-05-03T15:32:11.647Z"
   },
   {
    "duration": 41,
    "start_time": "2023-05-03T15:32:11.654Z"
   },
   {
    "duration": 17,
    "start_time": "2023-05-03T15:32:11.697Z"
   },
   {
    "duration": 14,
    "start_time": "2023-05-03T15:32:11.715Z"
   },
   {
    "duration": 25,
    "start_time": "2023-05-03T15:32:11.731Z"
   },
   {
    "duration": 3,
    "start_time": "2023-05-03T15:37:38.589Z"
   },
   {
    "duration": 28,
    "start_time": "2023-05-03T15:37:57.923Z"
   },
   {
    "duration": 2,
    "start_time": "2023-05-03T15:39:28.555Z"
   },
   {
    "duration": 12,
    "start_time": "2023-05-03T15:39:29.601Z"
   },
   {
    "duration": 3,
    "start_time": "2023-05-03T15:39:38.374Z"
   },
   {
    "duration": 12,
    "start_time": "2023-05-03T15:39:39.534Z"
   },
   {
    "duration": 3,
    "start_time": "2023-05-03T15:41:01.384Z"
   },
   {
    "duration": 12,
    "start_time": "2023-05-03T15:41:02.177Z"
   },
   {
    "duration": 3,
    "start_time": "2023-05-03T15:42:11.230Z"
   },
   {
    "duration": 12,
    "start_time": "2023-05-03T15:42:11.579Z"
   },
   {
    "duration": 2,
    "start_time": "2023-05-03T15:43:18.629Z"
   },
   {
    "duration": 879,
    "start_time": "2023-05-03T15:44:34.706Z"
   },
   {
    "duration": 803,
    "start_time": "2023-05-03T15:44:46.196Z"
   },
   {
    "duration": 3,
    "start_time": "2023-05-03T15:45:27.271Z"
   },
   {
    "duration": 19,
    "start_time": "2023-05-03T15:45:27.582Z"
   },
   {
    "duration": 3,
    "start_time": "2023-05-03T15:45:35.808Z"
   },
   {
    "duration": 13,
    "start_time": "2023-05-03T15:45:36.637Z"
   },
   {
    "duration": 3,
    "start_time": "2023-05-03T15:45:54.106Z"
   },
   {
    "duration": 13,
    "start_time": "2023-05-03T15:46:00.585Z"
   },
   {
    "duration": 158,
    "start_time": "2023-05-03T15:46:28.769Z"
   },
   {
    "duration": 781,
    "start_time": "2023-05-03T15:46:43.670Z"
   },
   {
    "duration": 4,
    "start_time": "2023-05-03T15:53:12.549Z"
   },
   {
    "duration": 3,
    "start_time": "2023-05-03T15:53:18.784Z"
   },
   {
    "duration": 750,
    "start_time": "2023-05-03T15:54:45.698Z"
   },
   {
    "duration": 5,
    "start_time": "2023-05-03T15:54:55.328Z"
   },
   {
    "duration": 269,
    "start_time": "2023-05-03T15:55:27.907Z"
   },
   {
    "duration": 36,
    "start_time": "2023-05-03T15:56:24.811Z"
   },
   {
    "duration": 32,
    "start_time": "2023-05-03T16:02:52.460Z"
   },
   {
    "duration": 7,
    "start_time": "2023-05-03T16:03:23.182Z"
   },
   {
    "duration": 808,
    "start_time": "2023-05-03T16:03:23.997Z"
   },
   {
    "duration": 15,
    "start_time": "2023-05-03T16:03:28.652Z"
   },
   {
    "duration": 14,
    "start_time": "2023-05-03T16:03:35.719Z"
   },
   {
    "duration": 15,
    "start_time": "2023-05-03T16:04:23.121Z"
   },
   {
    "duration": 3085,
    "start_time": "2023-05-03T16:04:30.269Z"
   },
   {
    "duration": 318,
    "start_time": "2023-05-03T16:04:39.154Z"
   },
   {
    "duration": 302,
    "start_time": "2023-05-03T16:05:32.491Z"
   },
   {
    "duration": 933,
    "start_time": "2023-05-03T16:06:03.448Z"
   },
   {
    "duration": 778,
    "start_time": "2023-05-03T16:06:20.491Z"
   },
   {
    "duration": 3,
    "start_time": "2023-05-03T16:06:53.918Z"
   },
   {
    "duration": 10,
    "start_time": "2023-05-03T16:07:31.996Z"
   },
   {
    "duration": 17,
    "start_time": "2023-05-03T16:07:44.522Z"
   },
   {
    "duration": 3,
    "start_time": "2023-05-03T16:11:06.304Z"
   },
   {
    "duration": 29,
    "start_time": "2023-05-03T16:11:51.388Z"
   },
   {
    "duration": 15,
    "start_time": "2023-05-03T16:12:22.984Z"
   },
   {
    "duration": 14,
    "start_time": "2023-05-03T16:12:31.452Z"
   },
   {
    "duration": 15,
    "start_time": "2023-05-03T16:12:34.835Z"
   },
   {
    "duration": 1230,
    "start_time": "2023-05-03T16:12:39.822Z"
   },
   {
    "duration": 1367,
    "start_time": "2023-05-03T16:12:41.054Z"
   },
   {
    "duration": 32,
    "start_time": "2023-05-03T16:12:42.425Z"
   },
   {
    "duration": 20,
    "start_time": "2023-05-03T16:12:42.460Z"
   },
   {
    "duration": 17,
    "start_time": "2023-05-03T16:12:42.493Z"
   },
   {
    "duration": 4,
    "start_time": "2023-05-03T16:12:42.512Z"
   },
   {
    "duration": 81,
    "start_time": "2023-05-03T16:12:42.517Z"
   },
   {
    "duration": 10,
    "start_time": "2023-05-03T16:12:42.600Z"
   },
   {
    "duration": 27,
    "start_time": "2023-05-03T16:12:42.612Z"
   },
   {
    "duration": 20,
    "start_time": "2023-05-03T16:12:42.641Z"
   },
   {
    "duration": 23,
    "start_time": "2023-05-03T16:12:42.663Z"
   },
   {
    "duration": 7,
    "start_time": "2023-05-03T16:12:42.688Z"
   },
   {
    "duration": 24,
    "start_time": "2023-05-03T16:12:42.698Z"
   },
   {
    "duration": 6,
    "start_time": "2023-05-03T16:12:42.723Z"
   },
   {
    "duration": 30,
    "start_time": "2023-05-03T16:12:42.730Z"
   },
   {
    "duration": 7,
    "start_time": "2023-05-03T16:12:42.761Z"
   },
   {
    "duration": 36,
    "start_time": "2023-05-03T16:12:42.770Z"
   },
   {
    "duration": 16,
    "start_time": "2023-05-03T16:12:42.808Z"
   },
   {
    "duration": 16,
    "start_time": "2023-05-03T16:12:42.826Z"
   },
   {
    "duration": 6,
    "start_time": "2023-05-03T16:12:42.844Z"
   },
   {
    "duration": 20,
    "start_time": "2023-05-03T16:12:42.852Z"
   },
   {
    "duration": 6,
    "start_time": "2023-05-03T16:12:42.873Z"
   },
   {
    "duration": 32,
    "start_time": "2023-05-03T16:12:42.881Z"
   },
   {
    "duration": 38,
    "start_time": "2023-05-03T16:12:42.915Z"
   },
   {
    "duration": 5,
    "start_time": "2023-05-03T16:12:42.954Z"
   },
   {
    "duration": 5,
    "start_time": "2023-05-03T16:12:42.960Z"
   },
   {
    "duration": 22,
    "start_time": "2023-05-03T16:12:42.967Z"
   },
   {
    "duration": 16,
    "start_time": "2023-05-03T16:12:42.996Z"
   },
   {
    "duration": 36,
    "start_time": "2023-05-03T16:12:43.013Z"
   },
   {
    "duration": 806,
    "start_time": "2023-05-03T16:12:43.050Z"
   },
   {
    "duration": 2,
    "start_time": "2023-05-03T16:12:43.858Z"
   },
   {
    "duration": 30,
    "start_time": "2023-05-03T16:12:43.862Z"
   },
   {
    "duration": 12,
    "start_time": "2023-05-03T16:12:43.895Z"
   },
   {
    "duration": 22,
    "start_time": "2023-05-03T16:12:43.909Z"
   },
   {
    "duration": 9,
    "start_time": "2023-05-03T16:12:43.932Z"
   },
   {
    "duration": 29,
    "start_time": "2023-05-03T16:12:43.943Z"
   },
   {
    "duration": 135,
    "start_time": "2023-05-03T16:13:08.035Z"
   },
   {
    "duration": 28,
    "start_time": "2023-05-03T16:14:40.188Z"
   },
   {
    "duration": 1309,
    "start_time": "2023-05-03T16:14:50.449Z"
   },
   {
    "duration": 1375,
    "start_time": "2023-05-03T16:14:51.760Z"
   },
   {
    "duration": 34,
    "start_time": "2023-05-03T16:14:53.137Z"
   },
   {
    "duration": 35,
    "start_time": "2023-05-03T16:14:53.173Z"
   },
   {
    "duration": 35,
    "start_time": "2023-05-03T16:14:53.211Z"
   },
   {
    "duration": 24,
    "start_time": "2023-05-03T16:14:53.248Z"
   },
   {
    "duration": 96,
    "start_time": "2023-05-03T16:14:53.273Z"
   },
   {
    "duration": 8,
    "start_time": "2023-05-03T16:14:53.371Z"
   },
   {
    "duration": 29,
    "start_time": "2023-05-03T16:14:53.380Z"
   },
   {
    "duration": 16,
    "start_time": "2023-05-03T16:14:53.414Z"
   },
   {
    "duration": 39,
    "start_time": "2023-05-03T16:14:53.432Z"
   },
   {
    "duration": 14,
    "start_time": "2023-05-03T16:14:53.473Z"
   },
   {
    "duration": 32,
    "start_time": "2023-05-03T16:14:53.489Z"
   },
   {
    "duration": 6,
    "start_time": "2023-05-03T16:14:53.524Z"
   },
   {
    "duration": 31,
    "start_time": "2023-05-03T16:14:53.532Z"
   },
   {
    "duration": 9,
    "start_time": "2023-05-03T16:14:53.565Z"
   },
   {
    "duration": 21,
    "start_time": "2023-05-03T16:14:53.576Z"
   },
   {
    "duration": 34,
    "start_time": "2023-05-03T16:14:53.599Z"
   },
   {
    "duration": 12,
    "start_time": "2023-05-03T16:14:53.635Z"
   },
   {
    "duration": 18,
    "start_time": "2023-05-03T16:14:53.648Z"
   },
   {
    "duration": 23,
    "start_time": "2023-05-03T16:14:53.668Z"
   },
   {
    "duration": 26,
    "start_time": "2023-05-03T16:14:53.693Z"
   },
   {
    "duration": 14,
    "start_time": "2023-05-03T16:14:53.721Z"
   },
   {
    "duration": 46,
    "start_time": "2023-05-03T16:14:53.737Z"
   },
   {
    "duration": 5,
    "start_time": "2023-05-03T16:14:53.785Z"
   },
   {
    "duration": 15,
    "start_time": "2023-05-03T16:14:53.794Z"
   },
   {
    "duration": 34,
    "start_time": "2023-05-03T16:14:53.810Z"
   },
   {
    "duration": 13,
    "start_time": "2023-05-03T16:14:53.846Z"
   },
   {
    "duration": 23,
    "start_time": "2023-05-03T16:14:53.861Z"
   },
   {
    "duration": 919,
    "start_time": "2023-05-03T16:14:53.886Z"
   },
   {
    "duration": 3,
    "start_time": "2023-05-03T16:14:54.806Z"
   },
   {
    "duration": 16,
    "start_time": "2023-05-03T16:14:54.811Z"
   },
   {
    "duration": 15,
    "start_time": "2023-05-03T16:14:54.828Z"
   },
   {
    "duration": 22,
    "start_time": "2023-05-03T16:14:54.845Z"
   },
   {
    "duration": 26,
    "start_time": "2023-05-03T16:14:54.869Z"
   },
   {
    "duration": 37,
    "start_time": "2023-05-03T16:14:54.897Z"
   },
   {
    "duration": 182,
    "start_time": "2023-05-03T16:46:03.077Z"
   },
   {
    "duration": 523,
    "start_time": "2023-05-03T16:46:06.567Z"
   },
   {
    "duration": 2171,
    "start_time": "2023-05-03T16:46:42.524Z"
   },
   {
    "duration": 2199,
    "start_time": "2023-05-03T16:46:58.222Z"
   },
   {
    "duration": 14,
    "start_time": "2023-05-03T16:48:34.855Z"
   },
   {
    "duration": 2427,
    "start_time": "2023-05-03T16:48:38.222Z"
   },
   {
    "duration": 2229,
    "start_time": "2023-05-03T16:48:45.317Z"
   },
   {
    "duration": 2309,
    "start_time": "2023-05-03T16:49:15.271Z"
   },
   {
    "duration": 2039,
    "start_time": "2023-05-03T16:50:55.617Z"
   },
   {
    "duration": 2154,
    "start_time": "2023-05-03T16:51:10.520Z"
   },
   {
    "duration": 2136,
    "start_time": "2023-05-03T16:51:44.213Z"
   },
   {
    "duration": 2306,
    "start_time": "2023-05-03T16:52:03.754Z"
   },
   {
    "duration": 2081,
    "start_time": "2023-05-03T16:52:18.241Z"
   },
   {
    "duration": 2032,
    "start_time": "2023-05-03T16:52:53.525Z"
   },
   {
    "duration": 2303,
    "start_time": "2023-05-03T16:53:52.809Z"
   },
   {
    "duration": 2179,
    "start_time": "2023-05-03T16:54:20.478Z"
   },
   {
    "duration": 16,
    "start_time": "2023-05-03T17:08:58.544Z"
   },
   {
    "duration": 17,
    "start_time": "2023-05-03T17:09:03.598Z"
   },
   {
    "duration": 16,
    "start_time": "2023-05-03T17:09:08.362Z"
   },
   {
    "duration": 1213,
    "start_time": "2023-05-03T17:09:17.134Z"
   },
   {
    "duration": 1242,
    "start_time": "2023-05-03T17:09:18.349Z"
   },
   {
    "duration": 34,
    "start_time": "2023-05-03T17:09:19.593Z"
   },
   {
    "duration": 22,
    "start_time": "2023-05-03T17:09:19.628Z"
   },
   {
    "duration": 44,
    "start_time": "2023-05-03T17:09:19.652Z"
   },
   {
    "duration": 5,
    "start_time": "2023-05-03T17:09:19.698Z"
   },
   {
    "duration": 54,
    "start_time": "2023-05-03T17:09:19.705Z"
   },
   {
    "duration": 36,
    "start_time": "2023-05-03T17:09:19.761Z"
   },
   {
    "duration": 17,
    "start_time": "2023-05-03T17:09:19.799Z"
   },
   {
    "duration": 22,
    "start_time": "2023-05-03T17:09:19.818Z"
   },
   {
    "duration": 22,
    "start_time": "2023-05-03T17:09:19.842Z"
   },
   {
    "duration": 27,
    "start_time": "2023-05-03T17:09:19.866Z"
   },
   {
    "duration": 14,
    "start_time": "2023-05-03T17:09:19.896Z"
   },
   {
    "duration": 6,
    "start_time": "2023-05-03T17:09:19.914Z"
   },
   {
    "duration": 30,
    "start_time": "2023-05-03T17:09:19.922Z"
   },
   {
    "duration": 7,
    "start_time": "2023-05-03T17:09:19.953Z"
   },
   {
    "duration": 6,
    "start_time": "2023-05-03T17:09:19.994Z"
   },
   {
    "duration": 13,
    "start_time": "2023-05-03T17:09:20.002Z"
   },
   {
    "duration": 28,
    "start_time": "2023-05-03T17:09:20.017Z"
   },
   {
    "duration": 15,
    "start_time": "2023-05-03T17:09:20.048Z"
   },
   {
    "duration": 5,
    "start_time": "2023-05-03T17:09:20.065Z"
   },
   {
    "duration": 21,
    "start_time": "2023-05-03T17:09:20.072Z"
   },
   {
    "duration": 7,
    "start_time": "2023-05-03T17:09:20.094Z"
   },
   {
    "duration": 42,
    "start_time": "2023-05-03T17:09:20.102Z"
   },
   {
    "duration": 5,
    "start_time": "2023-05-03T17:09:20.146Z"
   },
   {
    "duration": 8,
    "start_time": "2023-05-03T17:09:20.153Z"
   },
   {
    "duration": 40,
    "start_time": "2023-05-03T17:09:20.162Z"
   },
   {
    "duration": 16,
    "start_time": "2023-05-03T17:09:20.204Z"
   },
   {
    "duration": 23,
    "start_time": "2023-05-03T17:09:20.222Z"
   },
   {
    "duration": 827,
    "start_time": "2023-05-03T17:09:20.247Z"
   },
   {
    "duration": 3,
    "start_time": "2023-05-03T17:09:21.077Z"
   },
   {
    "duration": 33,
    "start_time": "2023-05-03T17:09:21.082Z"
   },
   {
    "duration": 15,
    "start_time": "2023-05-03T17:09:21.117Z"
   },
   {
    "duration": 43,
    "start_time": "2023-05-03T17:09:21.134Z"
   },
   {
    "duration": 11,
    "start_time": "2023-05-03T17:09:21.179Z"
   },
   {
    "duration": 53,
    "start_time": "2023-05-03T17:09:21.191Z"
   },
   {
    "duration": 2046,
    "start_time": "2023-05-03T17:09:21.246Z"
   },
   {
    "duration": 2042,
    "start_time": "2023-05-03T17:09:48.258Z"
   },
   {
    "duration": 28,
    "start_time": "2023-05-03T17:10:10.546Z"
   },
   {
    "duration": 23,
    "start_time": "2023-05-03T17:11:12.147Z"
   },
   {
    "duration": 1219,
    "start_time": "2023-05-03T17:11:21.726Z"
   },
   {
    "duration": 878,
    "start_time": "2023-05-03T17:11:22.947Z"
   },
   {
    "duration": 37,
    "start_time": "2023-05-03T17:11:23.827Z"
   },
   {
    "duration": 29,
    "start_time": "2023-05-03T17:11:23.865Z"
   },
   {
    "duration": 13,
    "start_time": "2023-05-03T17:11:23.896Z"
   },
   {
    "duration": 5,
    "start_time": "2023-05-03T17:11:23.910Z"
   },
   {
    "duration": 61,
    "start_time": "2023-05-03T17:11:23.917Z"
   },
   {
    "duration": 8,
    "start_time": "2023-05-03T17:11:23.993Z"
   },
   {
    "duration": 6,
    "start_time": "2023-05-03T17:11:24.002Z"
   },
   {
    "duration": 14,
    "start_time": "2023-05-03T17:11:24.009Z"
   },
   {
    "duration": 22,
    "start_time": "2023-05-03T17:11:24.024Z"
   },
   {
    "duration": 4,
    "start_time": "2023-05-03T17:11:24.048Z"
   },
   {
    "duration": 11,
    "start_time": "2023-05-03T17:11:24.093Z"
   },
   {
    "duration": 6,
    "start_time": "2023-05-03T17:11:24.107Z"
   },
   {
    "duration": 21,
    "start_time": "2023-05-03T17:11:24.114Z"
   },
   {
    "duration": 6,
    "start_time": "2023-05-03T17:11:24.136Z"
   },
   {
    "duration": 15,
    "start_time": "2023-05-03T17:11:24.143Z"
   },
   {
    "duration": 6,
    "start_time": "2023-05-03T17:11:24.192Z"
   },
   {
    "duration": 13,
    "start_time": "2023-05-03T17:11:24.199Z"
   },
   {
    "duration": 10,
    "start_time": "2023-05-03T17:11:24.213Z"
   },
   {
    "duration": 11,
    "start_time": "2023-05-03T17:11:24.224Z"
   },
   {
    "duration": 18,
    "start_time": "2023-05-03T17:11:24.236Z"
   },
   {
    "duration": 8,
    "start_time": "2023-05-03T17:11:24.256Z"
   },
   {
    "duration": 52,
    "start_time": "2023-05-03T17:11:24.266Z"
   },
   {
    "duration": 6,
    "start_time": "2023-05-03T17:11:24.321Z"
   },
   {
    "duration": 6,
    "start_time": "2023-05-03T17:11:24.328Z"
   },
   {
    "duration": 16,
    "start_time": "2023-05-03T17:11:24.336Z"
   },
   {
    "duration": 43,
    "start_time": "2023-05-03T17:11:24.354Z"
   },
   {
    "duration": 23,
    "start_time": "2023-05-03T17:11:24.398Z"
   },
   {
    "duration": 828,
    "start_time": "2023-05-03T17:11:24.422Z"
   },
   {
    "duration": 2,
    "start_time": "2023-05-03T17:11:25.252Z"
   },
   {
    "duration": 18,
    "start_time": "2023-05-03T17:11:25.256Z"
   },
   {
    "duration": 17,
    "start_time": "2023-05-03T17:11:25.276Z"
   },
   {
    "duration": 17,
    "start_time": "2023-05-03T17:11:25.295Z"
   },
   {
    "duration": 5,
    "start_time": "2023-05-03T17:11:25.314Z"
   },
   {
    "duration": 28,
    "start_time": "2023-05-03T17:11:25.320Z"
   },
   {
    "duration": 1996,
    "start_time": "2023-05-03T17:11:25.350Z"
   },
   {
    "duration": 112,
    "start_time": "2023-05-03T17:12:09.663Z"
   },
   {
    "duration": 21,
    "start_time": "2023-05-03T17:12:18.264Z"
   },
   {
    "duration": 1239,
    "start_time": "2023-05-03T17:12:29.833Z"
   },
   {
    "duration": 1250,
    "start_time": "2023-05-03T17:12:31.074Z"
   },
   {
    "duration": 38,
    "start_time": "2023-05-03T17:12:32.327Z"
   },
   {
    "duration": 32,
    "start_time": "2023-05-03T17:12:32.367Z"
   },
   {
    "duration": 15,
    "start_time": "2023-05-03T17:12:32.402Z"
   },
   {
    "duration": 7,
    "start_time": "2023-05-03T17:12:32.419Z"
   },
   {
    "duration": 81,
    "start_time": "2023-05-03T17:12:32.427Z"
   },
   {
    "duration": 9,
    "start_time": "2023-05-03T17:12:32.510Z"
   },
   {
    "duration": 34,
    "start_time": "2023-05-03T17:12:32.520Z"
   },
   {
    "duration": 28,
    "start_time": "2023-05-03T17:12:32.556Z"
   },
   {
    "duration": 36,
    "start_time": "2023-05-03T17:12:32.586Z"
   },
   {
    "duration": 4,
    "start_time": "2023-05-03T17:12:32.624Z"
   },
   {
    "duration": 21,
    "start_time": "2023-05-03T17:12:32.629Z"
   },
   {
    "duration": 21,
    "start_time": "2023-05-03T17:12:32.653Z"
   },
   {
    "duration": 26,
    "start_time": "2023-05-03T17:12:32.675Z"
   },
   {
    "duration": 6,
    "start_time": "2023-05-03T17:12:32.702Z"
   },
   {
    "duration": 14,
    "start_time": "2023-05-03T17:12:32.710Z"
   },
   {
    "duration": 10,
    "start_time": "2023-05-03T17:12:32.726Z"
   },
   {
    "duration": 18,
    "start_time": "2023-05-03T17:12:32.738Z"
   },
   {
    "duration": 13,
    "start_time": "2023-05-03T17:12:32.758Z"
   },
   {
    "duration": 13,
    "start_time": "2023-05-03T17:12:32.773Z"
   },
   {
    "duration": 21,
    "start_time": "2023-05-03T17:12:32.787Z"
   },
   {
    "duration": 24,
    "start_time": "2023-05-03T17:12:32.810Z"
   },
   {
    "duration": 43,
    "start_time": "2023-05-03T17:12:32.835Z"
   },
   {
    "duration": 5,
    "start_time": "2023-05-03T17:12:32.880Z"
   },
   {
    "duration": 17,
    "start_time": "2023-05-03T17:12:32.887Z"
   },
   {
    "duration": 14,
    "start_time": "2023-05-03T17:12:32.906Z"
   },
   {
    "duration": 23,
    "start_time": "2023-05-03T17:12:32.921Z"
   },
   {
    "duration": 804,
    "start_time": "2023-05-03T17:12:32.946Z"
   },
   {
    "duration": 3,
    "start_time": "2023-05-03T17:12:33.751Z"
   },
   {
    "duration": 15,
    "start_time": "2023-05-03T17:12:33.755Z"
   },
   {
    "duration": 3,
    "start_time": "2023-05-03T17:12:33.772Z"
   },
   {
    "duration": 30,
    "start_time": "2023-05-03T17:12:33.776Z"
   },
   {
    "duration": 3,
    "start_time": "2023-05-03T17:12:33.808Z"
   },
   {
    "duration": 43,
    "start_time": "2023-05-03T17:12:33.813Z"
   },
   {
    "duration": 2312,
    "start_time": "2023-05-03T17:12:33.858Z"
   },
   {
    "duration": 118,
    "start_time": "2023-05-03T17:13:25.202Z"
   },
   {
    "duration": 1256,
    "start_time": "2023-05-03T17:13:36.722Z"
   },
   {
    "duration": 1594,
    "start_time": "2023-05-03T17:13:37.980Z"
   },
   {
    "duration": 35,
    "start_time": "2023-05-03T17:13:39.576Z"
   },
   {
    "duration": 22,
    "start_time": "2023-05-03T17:13:39.613Z"
   },
   {
    "duration": 27,
    "start_time": "2023-05-03T17:13:39.637Z"
   },
   {
    "duration": 14,
    "start_time": "2023-05-03T17:13:39.666Z"
   },
   {
    "duration": 76,
    "start_time": "2023-05-03T17:13:39.682Z"
   },
   {
    "duration": 7,
    "start_time": "2023-05-03T17:13:39.760Z"
   },
   {
    "duration": 57,
    "start_time": "2023-05-03T17:13:39.769Z"
   },
   {
    "duration": 17,
    "start_time": "2023-05-03T17:13:39.829Z"
   },
   {
    "duration": 32,
    "start_time": "2023-05-03T17:13:39.848Z"
   },
   {
    "duration": 5,
    "start_time": "2023-05-03T17:13:39.882Z"
   },
   {
    "duration": 17,
    "start_time": "2023-05-03T17:13:39.888Z"
   },
   {
    "duration": 12,
    "start_time": "2023-05-03T17:13:39.907Z"
   },
   {
    "duration": 38,
    "start_time": "2023-05-03T17:13:39.921Z"
   },
   {
    "duration": 6,
    "start_time": "2023-05-03T17:13:39.961Z"
   },
   {
    "duration": 28,
    "start_time": "2023-05-03T17:13:39.969Z"
   },
   {
    "duration": 20,
    "start_time": "2023-05-03T17:13:39.999Z"
   },
   {
    "duration": 26,
    "start_time": "2023-05-03T17:13:40.021Z"
   },
   {
    "duration": 16,
    "start_time": "2023-05-03T17:13:40.049Z"
   },
   {
    "duration": 12,
    "start_time": "2023-05-03T17:13:40.067Z"
   },
   {
    "duration": 25,
    "start_time": "2023-05-03T17:13:40.081Z"
   },
   {
    "duration": 30,
    "start_time": "2023-05-03T17:13:40.108Z"
   },
   {
    "duration": 52,
    "start_time": "2023-05-03T17:13:40.140Z"
   },
   {
    "duration": 5,
    "start_time": "2023-05-03T17:13:40.194Z"
   },
   {
    "duration": 15,
    "start_time": "2023-05-03T17:13:40.201Z"
   },
   {
    "duration": 27,
    "start_time": "2023-05-03T17:13:40.218Z"
   },
   {
    "duration": 21,
    "start_time": "2023-05-03T17:13:40.248Z"
   },
   {
    "duration": 815,
    "start_time": "2023-05-03T17:13:40.293Z"
   },
   {
    "duration": 3,
    "start_time": "2023-05-03T17:13:41.110Z"
   },
   {
    "duration": 26,
    "start_time": "2023-05-03T17:13:41.114Z"
   },
   {
    "duration": 11,
    "start_time": "2023-05-03T17:13:41.142Z"
   },
   {
    "duration": 30,
    "start_time": "2023-05-03T17:13:41.154Z"
   },
   {
    "duration": 4,
    "start_time": "2023-05-03T17:13:41.194Z"
   },
   {
    "duration": 30,
    "start_time": "2023-05-03T17:13:41.200Z"
   },
   {
    "duration": 2434,
    "start_time": "2023-05-03T17:13:41.232Z"
   },
   {
    "duration": 117,
    "start_time": "2023-05-03T17:14:04.892Z"
   },
   {
    "duration": 1220,
    "start_time": "2023-05-03T17:14:09.530Z"
   },
   {
    "duration": 1555,
    "start_time": "2023-05-03T17:14:10.752Z"
   },
   {
    "duration": 39,
    "start_time": "2023-05-03T17:14:12.309Z"
   },
   {
    "duration": 43,
    "start_time": "2023-05-03T17:14:12.351Z"
   },
   {
    "duration": 14,
    "start_time": "2023-05-03T17:14:12.396Z"
   },
   {
    "duration": 13,
    "start_time": "2023-05-03T17:14:12.412Z"
   },
   {
    "duration": 68,
    "start_time": "2023-05-03T17:14:12.426Z"
   },
   {
    "duration": 6,
    "start_time": "2023-05-03T17:14:12.496Z"
   },
   {
    "duration": 22,
    "start_time": "2023-05-03T17:14:12.503Z"
   },
   {
    "duration": 30,
    "start_time": "2023-05-03T17:14:12.527Z"
   },
   {
    "duration": 32,
    "start_time": "2023-05-03T17:14:12.559Z"
   },
   {
    "duration": 4,
    "start_time": "2023-05-03T17:14:12.592Z"
   },
   {
    "duration": 22,
    "start_time": "2023-05-03T17:14:12.598Z"
   },
   {
    "duration": 6,
    "start_time": "2023-05-03T17:14:12.623Z"
   },
   {
    "duration": 38,
    "start_time": "2023-05-03T17:14:12.630Z"
   },
   {
    "duration": 6,
    "start_time": "2023-05-03T17:14:12.669Z"
   },
   {
    "duration": 16,
    "start_time": "2023-05-03T17:14:12.677Z"
   },
   {
    "duration": 6,
    "start_time": "2023-05-03T17:14:12.695Z"
   },
   {
    "duration": 13,
    "start_time": "2023-05-03T17:14:12.702Z"
   },
   {
    "duration": 14,
    "start_time": "2023-05-03T17:14:12.716Z"
   },
   {
    "duration": 7,
    "start_time": "2023-05-03T17:14:12.732Z"
   },
   {
    "duration": 11,
    "start_time": "2023-05-03T17:14:12.741Z"
   },
   {
    "duration": 9,
    "start_time": "2023-05-03T17:14:12.754Z"
   },
   {
    "duration": 65,
    "start_time": "2023-05-03T17:14:12.765Z"
   },
   {
    "duration": 6,
    "start_time": "2023-05-03T17:14:12.832Z"
   },
   {
    "duration": 14,
    "start_time": "2023-05-03T17:14:12.840Z"
   },
   {
    "duration": 15,
    "start_time": "2023-05-03T17:14:12.856Z"
   },
   {
    "duration": 39,
    "start_time": "2023-05-03T17:14:12.873Z"
   },
   {
    "duration": 825,
    "start_time": "2023-05-03T17:14:12.913Z"
   },
   {
    "duration": 2,
    "start_time": "2023-05-03T17:14:13.740Z"
   },
   {
    "duration": 14,
    "start_time": "2023-05-03T17:14:13.744Z"
   },
   {
    "duration": 3,
    "start_time": "2023-05-03T17:14:13.760Z"
   },
   {
    "duration": 39,
    "start_time": "2023-05-03T17:14:13.764Z"
   },
   {
    "duration": 6,
    "start_time": "2023-05-03T17:14:13.805Z"
   },
   {
    "duration": 30,
    "start_time": "2023-05-03T17:14:13.812Z"
   },
   {
    "duration": 2375,
    "start_time": "2023-05-03T17:14:13.844Z"
   },
   {
    "duration": 11,
    "start_time": "2023-05-03T17:22:49.618Z"
   },
   {
    "duration": 9,
    "start_time": "2023-05-03T17:23:20.913Z"
   },
   {
    "duration": 1569,
    "start_time": "2023-05-08T16:11:35.323Z"
   },
   {
    "duration": 1087,
    "start_time": "2023-05-08T16:11:36.895Z"
   },
   {
    "duration": 35,
    "start_time": "2023-05-08T16:11:37.984Z"
   },
   {
    "duration": 24,
    "start_time": "2023-05-08T16:11:38.020Z"
   },
   {
    "duration": 28,
    "start_time": "2023-05-08T16:11:38.058Z"
   },
   {
    "duration": 5,
    "start_time": "2023-05-08T16:11:38.088Z"
   },
   {
    "duration": 80,
    "start_time": "2023-05-08T16:11:38.095Z"
   },
   {
    "duration": 9,
    "start_time": "2023-05-08T16:11:38.177Z"
   },
   {
    "duration": 12,
    "start_time": "2023-05-08T16:11:38.189Z"
   },
   {
    "duration": 14,
    "start_time": "2023-05-08T16:11:38.205Z"
   },
   {
    "duration": 57,
    "start_time": "2023-05-08T16:11:38.221Z"
   },
   {
    "duration": 5,
    "start_time": "2023-05-08T16:11:38.280Z"
   },
   {
    "duration": 23,
    "start_time": "2023-05-08T16:11:38.286Z"
   },
   {
    "duration": 19,
    "start_time": "2023-05-08T16:11:38.311Z"
   },
   {
    "duration": 42,
    "start_time": "2023-05-08T16:11:38.331Z"
   },
   {
    "duration": 7,
    "start_time": "2023-05-08T16:11:38.375Z"
   },
   {
    "duration": 5,
    "start_time": "2023-05-08T16:11:38.384Z"
   },
   {
    "duration": 8,
    "start_time": "2023-05-08T16:11:38.390Z"
   },
   {
    "duration": 6,
    "start_time": "2023-05-08T16:11:38.399Z"
   },
   {
    "duration": 17,
    "start_time": "2023-05-08T16:11:38.407Z"
   },
   {
    "duration": 9,
    "start_time": "2023-05-08T16:11:38.457Z"
   },
   {
    "duration": 15,
    "start_time": "2023-05-08T16:11:38.467Z"
   },
   {
    "duration": 18,
    "start_time": "2023-05-08T16:11:38.484Z"
   },
   {
    "duration": 44,
    "start_time": "2023-05-08T16:11:38.503Z"
   },
   {
    "duration": 6,
    "start_time": "2023-05-08T16:11:38.549Z"
   },
   {
    "duration": 8,
    "start_time": "2023-05-08T16:11:38.569Z"
   },
   {
    "duration": 30,
    "start_time": "2023-05-08T16:11:38.579Z"
   },
   {
    "duration": 27,
    "start_time": "2023-05-08T16:11:38.614Z"
   },
   {
    "duration": 835,
    "start_time": "2023-05-08T16:11:38.642Z"
   },
   {
    "duration": 4,
    "start_time": "2023-05-08T16:11:39.479Z"
   },
   {
    "duration": 24,
    "start_time": "2023-05-08T16:11:39.484Z"
   },
   {
    "duration": 3,
    "start_time": "2023-05-08T16:11:39.510Z"
   },
   {
    "duration": 25,
    "start_time": "2023-05-08T16:11:39.514Z"
   },
   {
    "duration": 29,
    "start_time": "2023-05-08T16:11:39.540Z"
   },
   {
    "duration": 35,
    "start_time": "2023-05-08T16:11:39.571Z"
   },
   {
    "duration": 2328,
    "start_time": "2023-05-08T16:11:39.608Z"
   },
   {
    "duration": 22,
    "start_time": "2023-05-08T16:11:41.938Z"
   },
   {
    "duration": 20,
    "start_time": "2023-05-08T16:14:26.379Z"
   },
   {
    "duration": 38,
    "start_time": "2023-05-08T16:21:26.713Z"
   },
   {
    "duration": 30,
    "start_time": "2023-05-08T16:23:43.313Z"
   },
   {
    "duration": 41,
    "start_time": "2023-05-08T16:26:53.559Z"
   },
   {
    "duration": 5,
    "start_time": "2023-05-08T16:30:49.773Z"
   },
   {
    "duration": 4,
    "start_time": "2023-05-08T16:30:58.839Z"
   },
   {
    "duration": 23,
    "start_time": "2023-05-08T16:31:08.678Z"
   },
   {
    "duration": 4,
    "start_time": "2023-05-08T16:31:17.712Z"
   },
   {
    "duration": 855,
    "start_time": "2023-05-08T16:32:05.705Z"
   },
   {
    "duration": 1064,
    "start_time": "2023-05-08T16:32:25.370Z"
   },
   {
    "duration": 30,
    "start_time": "2023-05-08T16:32:50.412Z"
   },
   {
    "duration": 4,
    "start_time": "2023-05-08T16:32:53.114Z"
   },
   {
    "duration": 755,
    "start_time": "2023-05-08T16:33:24.499Z"
   },
   {
    "duration": 54,
    "start_time": "2023-05-08T16:34:07.427Z"
   },
   {
    "duration": 1107,
    "start_time": "2023-05-08T16:34:13.341Z"
   },
   {
    "duration": 704,
    "start_time": "2023-05-08T16:34:36.217Z"
   },
   {
    "duration": 724,
    "start_time": "2023-05-08T16:35:38.608Z"
   },
   {
    "duration": 728,
    "start_time": "2023-05-08T16:35:47.956Z"
   },
   {
    "duration": 31,
    "start_time": "2023-05-08T16:36:20.217Z"
   },
   {
    "duration": 5,
    "start_time": "2023-05-08T16:36:22.849Z"
   },
   {
    "duration": 9,
    "start_time": "2023-05-08T16:37:42.757Z"
   },
   {
    "duration": 9,
    "start_time": "2023-05-08T16:37:58.020Z"
   },
   {
    "duration": 17,
    "start_time": "2023-05-08T16:38:06.454Z"
   },
   {
    "duration": 11,
    "start_time": "2023-05-08T16:38:33.035Z"
   },
   {
    "duration": 28,
    "start_time": "2023-05-08T16:38:46.337Z"
   },
   {
    "duration": 4,
    "start_time": "2023-05-08T16:38:50.025Z"
   },
   {
    "duration": 14,
    "start_time": "2023-05-08T16:38:50.459Z"
   },
   {
    "duration": 27,
    "start_time": "2023-05-08T16:39:26.815Z"
   },
   {
    "duration": 4,
    "start_time": "2023-05-08T16:39:27.381Z"
   },
   {
    "duration": 16,
    "start_time": "2023-05-08T16:39:28.041Z"
   },
   {
    "duration": 203,
    "start_time": "2023-05-08T16:39:59.510Z"
   },
   {
    "duration": 16,
    "start_time": "2023-05-08T16:40:10.745Z"
   },
   {
    "duration": 14,
    "start_time": "2023-05-08T16:40:13.028Z"
   },
   {
    "duration": 32,
    "start_time": "2023-05-08T16:41:23.457Z"
   },
   {
    "duration": 27,
    "start_time": "2023-05-08T16:41:40.577Z"
   },
   {
    "duration": 4,
    "start_time": "2023-05-08T16:41:42.474Z"
   },
   {
    "duration": 6,
    "start_time": "2023-05-08T16:41:55.314Z"
   },
   {
    "duration": 10,
    "start_time": "2023-05-08T16:41:57.434Z"
   },
   {
    "duration": 150,
    "start_time": "2023-05-08T16:42:03.718Z"
   },
   {
    "duration": 1260,
    "start_time": "2023-05-08T16:48:10.559Z"
   },
   {
    "duration": 1399,
    "start_time": "2023-05-08T16:48:11.821Z"
   },
   {
    "duration": 31,
    "start_time": "2023-05-08T16:48:13.221Z"
   },
   {
    "duration": 20,
    "start_time": "2023-05-08T16:48:13.254Z"
   },
   {
    "duration": 12,
    "start_time": "2023-05-08T16:48:13.275Z"
   },
   {
    "duration": 4,
    "start_time": "2023-05-08T16:48:13.288Z"
   },
   {
    "duration": 84,
    "start_time": "2023-05-08T16:48:13.294Z"
   },
   {
    "duration": 6,
    "start_time": "2023-05-08T16:48:13.380Z"
   },
   {
    "duration": 17,
    "start_time": "2023-05-08T16:48:13.388Z"
   },
   {
    "duration": 14,
    "start_time": "2023-05-08T16:48:13.407Z"
   },
   {
    "duration": 51,
    "start_time": "2023-05-08T16:48:13.423Z"
   },
   {
    "duration": 5,
    "start_time": "2023-05-08T16:48:13.477Z"
   },
   {
    "duration": 13,
    "start_time": "2023-05-08T16:48:13.484Z"
   },
   {
    "duration": 7,
    "start_time": "2023-05-08T16:48:13.499Z"
   },
   {
    "duration": 63,
    "start_time": "2023-05-08T16:48:13.508Z"
   },
   {
    "duration": 10,
    "start_time": "2023-05-08T16:48:13.573Z"
   },
   {
    "duration": 7,
    "start_time": "2023-05-08T16:48:13.585Z"
   },
   {
    "duration": 6,
    "start_time": "2023-05-08T16:48:13.594Z"
   },
   {
    "duration": 6,
    "start_time": "2023-05-08T16:48:13.602Z"
   },
   {
    "duration": 48,
    "start_time": "2023-05-08T16:48:13.609Z"
   },
   {
    "duration": 5,
    "start_time": "2023-05-08T16:48:13.659Z"
   },
   {
    "duration": 5,
    "start_time": "2023-05-08T16:48:13.666Z"
   },
   {
    "duration": 6,
    "start_time": "2023-05-08T16:48:13.673Z"
   },
   {
    "duration": 37,
    "start_time": "2023-05-08T16:48:13.680Z"
   },
   {
    "duration": 43,
    "start_time": "2023-05-08T16:48:13.719Z"
   },
   {
    "duration": 4,
    "start_time": "2023-05-08T16:48:13.764Z"
   },
   {
    "duration": 16,
    "start_time": "2023-05-08T16:48:13.769Z"
   },
   {
    "duration": 25,
    "start_time": "2023-05-08T16:48:13.789Z"
   },
   {
    "duration": 883,
    "start_time": "2023-05-08T16:48:13.816Z"
   },
   {
    "duration": 3,
    "start_time": "2023-05-08T16:48:14.701Z"
   },
   {
    "duration": 33,
    "start_time": "2023-05-08T16:48:14.706Z"
   },
   {
    "duration": 3,
    "start_time": "2023-05-08T16:48:14.741Z"
   },
   {
    "duration": 19,
    "start_time": "2023-05-08T16:48:14.746Z"
   },
   {
    "duration": 3,
    "start_time": "2023-05-08T16:48:14.767Z"
   },
   {
    "duration": 39,
    "start_time": "2023-05-08T16:48:14.772Z"
   },
   {
    "duration": 2210,
    "start_time": "2023-05-08T16:48:14.813Z"
   },
   {
    "duration": 9,
    "start_time": "2023-05-08T16:48:17.025Z"
   },
   {
    "duration": 142,
    "start_time": "2023-05-08T16:48:17.036Z"
   },
   {
    "duration": 6,
    "start_time": "2023-05-08T16:48:17.181Z"
   },
   {
    "duration": 22,
    "start_time": "2023-05-08T16:48:17.189Z"
   },
   {
    "duration": 207,
    "start_time": "2023-05-08T16:48:17.214Z"
   },
   {
    "duration": 1196,
    "start_time": "2023-05-08T16:48:39.313Z"
   },
   {
    "duration": 1550,
    "start_time": "2023-05-08T16:48:40.512Z"
   },
   {
    "duration": 36,
    "start_time": "2023-05-08T16:48:42.064Z"
   },
   {
    "duration": 22,
    "start_time": "2023-05-08T16:48:42.102Z"
   },
   {
    "duration": 27,
    "start_time": "2023-05-08T16:48:42.155Z"
   },
   {
    "duration": 5,
    "start_time": "2023-05-08T16:48:42.184Z"
   },
   {
    "duration": 90,
    "start_time": "2023-05-08T16:48:42.191Z"
   },
   {
    "duration": 7,
    "start_time": "2023-05-08T16:48:42.283Z"
   },
   {
    "duration": 7,
    "start_time": "2023-05-08T16:48:42.292Z"
   },
   {
    "duration": 20,
    "start_time": "2023-05-08T16:48:42.301Z"
   },
   {
    "duration": 48,
    "start_time": "2023-05-08T16:48:42.322Z"
   },
   {
    "duration": 13,
    "start_time": "2023-05-08T16:48:42.372Z"
   },
   {
    "duration": 14,
    "start_time": "2023-05-08T16:48:42.387Z"
   },
   {
    "duration": 8,
    "start_time": "2023-05-08T16:48:42.407Z"
   },
   {
    "duration": 47,
    "start_time": "2023-05-08T16:48:42.417Z"
   },
   {
    "duration": 6,
    "start_time": "2023-05-08T16:48:42.466Z"
   },
   {
    "duration": 5,
    "start_time": "2023-05-08T16:48:42.474Z"
   },
   {
    "duration": 6,
    "start_time": "2023-05-08T16:48:42.481Z"
   },
   {
    "duration": 8,
    "start_time": "2023-05-08T16:48:42.488Z"
   },
   {
    "duration": 13,
    "start_time": "2023-05-08T16:48:42.498Z"
   },
   {
    "duration": 7,
    "start_time": "2023-05-08T16:48:42.513Z"
   },
   {
    "duration": 5,
    "start_time": "2023-05-08T16:48:42.556Z"
   },
   {
    "duration": 6,
    "start_time": "2023-05-08T16:48:42.562Z"
   },
   {
    "duration": 36,
    "start_time": "2023-05-08T16:48:42.570Z"
   },
   {
    "duration": 6,
    "start_time": "2023-05-08T16:48:42.608Z"
   },
   {
    "duration": 40,
    "start_time": "2023-05-08T16:48:42.616Z"
   },
   {
    "duration": 14,
    "start_time": "2023-05-08T16:48:42.658Z"
   },
   {
    "duration": 24,
    "start_time": "2023-05-08T16:48:42.674Z"
   },
   {
    "duration": 794,
    "start_time": "2023-05-08T16:48:42.700Z"
   },
   {
    "duration": 3,
    "start_time": "2023-05-08T16:48:43.496Z"
   },
   {
    "duration": 14,
    "start_time": "2023-05-08T16:48:43.501Z"
   },
   {
    "duration": 4,
    "start_time": "2023-05-08T16:48:43.517Z"
   },
   {
    "duration": 40,
    "start_time": "2023-05-08T16:48:43.522Z"
   },
   {
    "duration": 4,
    "start_time": "2023-05-08T16:48:43.563Z"
   },
   {
    "duration": 27,
    "start_time": "2023-05-08T16:48:43.569Z"
   },
   {
    "duration": 2360,
    "start_time": "2023-05-08T16:48:43.598Z"
   },
   {
    "duration": 12,
    "start_time": "2023-05-08T16:48:45.960Z"
   },
   {
    "duration": 297,
    "start_time": "2023-05-08T16:48:45.973Z"
   },
   {
    "duration": 2,
    "start_time": "2023-05-08T16:48:46.272Z"
   },
   {
    "duration": 8,
    "start_time": "2023-05-08T16:48:46.275Z"
   },
   {
    "duration": 162,
    "start_time": "2023-05-08T16:48:56.566Z"
   },
   {
    "duration": 191,
    "start_time": "2023-05-08T16:49:21.129Z"
   },
   {
    "duration": 118,
    "start_time": "2023-05-08T16:49:59.163Z"
   },
   {
    "duration": 196,
    "start_time": "2023-05-08T16:50:07.925Z"
   },
   {
    "duration": 176,
    "start_time": "2023-05-08T16:50:15.964Z"
   },
   {
    "duration": 166,
    "start_time": "2023-05-08T16:50:29.610Z"
   },
   {
    "duration": 200,
    "start_time": "2023-05-08T16:50:35.849Z"
   },
   {
    "duration": 185,
    "start_time": "2023-05-08T16:50:42.847Z"
   },
   {
    "duration": 188,
    "start_time": "2023-05-08T16:51:25.411Z"
   },
   {
    "duration": 138,
    "start_time": "2023-05-08T18:10:47.010Z"
   },
   {
    "duration": 182,
    "start_time": "2023-05-08T18:17:45.915Z"
   },
   {
    "duration": 181,
    "start_time": "2023-05-08T18:18:26.714Z"
   },
   {
    "duration": 251,
    "start_time": "2023-05-08T18:18:40.728Z"
   },
   {
    "duration": 175,
    "start_time": "2023-05-08T18:18:58.818Z"
   },
   {
    "duration": 161,
    "start_time": "2023-05-08T18:19:13.729Z"
   },
   {
    "duration": 1332,
    "start_time": "2023-05-09T09:18:36.592Z"
   },
   {
    "duration": 853,
    "start_time": "2023-05-09T09:18:37.926Z"
   },
   {
    "duration": 31,
    "start_time": "2023-05-09T09:18:38.781Z"
   },
   {
    "duration": 19,
    "start_time": "2023-05-09T09:18:38.813Z"
   },
   {
    "duration": 26,
    "start_time": "2023-05-09T09:18:38.834Z"
   },
   {
    "duration": 12,
    "start_time": "2023-05-09T09:18:38.861Z"
   },
   {
    "duration": 49,
    "start_time": "2023-05-09T09:18:38.874Z"
   },
   {
    "duration": 21,
    "start_time": "2023-05-09T09:18:38.924Z"
   },
   {
    "duration": 7,
    "start_time": "2023-05-09T09:18:38.947Z"
   },
   {
    "duration": 13,
    "start_time": "2023-05-09T09:18:38.957Z"
   },
   {
    "duration": 16,
    "start_time": "2023-05-09T09:18:38.972Z"
   },
   {
    "duration": 6,
    "start_time": "2023-05-09T09:18:38.990Z"
   },
   {
    "duration": 24,
    "start_time": "2023-05-09T09:18:38.997Z"
   },
   {
    "duration": 14,
    "start_time": "2023-05-09T09:18:39.023Z"
   },
   {
    "duration": 30,
    "start_time": "2023-05-09T09:18:39.039Z"
   },
   {
    "duration": 5,
    "start_time": "2023-05-09T09:18:39.070Z"
   },
   {
    "duration": 7,
    "start_time": "2023-05-09T09:18:39.077Z"
   },
   {
    "duration": 7,
    "start_time": "2023-05-09T09:18:39.086Z"
   },
   {
    "duration": 9,
    "start_time": "2023-05-09T09:18:39.094Z"
   },
   {
    "duration": 9,
    "start_time": "2023-05-09T09:18:39.105Z"
   },
   {
    "duration": 22,
    "start_time": "2023-05-09T09:18:39.115Z"
   },
   {
    "duration": 5,
    "start_time": "2023-05-09T09:18:39.138Z"
   },
   {
    "duration": 7,
    "start_time": "2023-05-09T09:18:39.145Z"
   },
   {
    "duration": 32,
    "start_time": "2023-05-09T09:18:39.155Z"
   },
   {
    "duration": 5,
    "start_time": "2023-05-09T09:18:39.189Z"
   },
   {
    "duration": 40,
    "start_time": "2023-05-09T09:18:39.196Z"
   },
   {
    "duration": 16,
    "start_time": "2023-05-09T09:18:39.237Z"
   },
   {
    "duration": 25,
    "start_time": "2023-05-09T09:18:39.257Z"
   },
   {
    "duration": 770,
    "start_time": "2023-05-09T09:18:39.283Z"
   },
   {
    "duration": 3,
    "start_time": "2023-05-09T09:18:40.054Z"
   },
   {
    "duration": 22,
    "start_time": "2023-05-09T09:18:40.058Z"
   },
   {
    "duration": 4,
    "start_time": "2023-05-09T09:18:40.081Z"
   },
   {
    "duration": 17,
    "start_time": "2023-05-09T09:18:40.086Z"
   },
   {
    "duration": 20,
    "start_time": "2023-05-09T09:18:40.105Z"
   },
   {
    "duration": 28,
    "start_time": "2023-05-09T09:18:40.126Z"
   },
   {
    "duration": 2169,
    "start_time": "2023-05-09T09:18:40.157Z"
   },
   {
    "duration": 20,
    "start_time": "2023-05-09T09:18:42.328Z"
   },
   {
    "duration": 259,
    "start_time": "2023-05-09T09:18:42.349Z"
   },
   {
    "duration": 199,
    "start_time": "2023-05-09T09:20:58.864Z"
   },
   {
    "duration": 198,
    "start_time": "2023-05-09T09:22:28.149Z"
   },
   {
    "duration": 203,
    "start_time": "2023-05-09T09:22:48.016Z"
   },
   {
    "duration": 308,
    "start_time": "2023-05-09T09:28:57.299Z"
   },
   {
    "duration": 4144,
    "start_time": "2023-05-09T09:29:11.069Z"
   },
   {
    "duration": 316,
    "start_time": "2023-05-09T09:30:17.010Z"
   },
   {
    "duration": 9,
    "start_time": "2023-05-09T09:30:27.112Z"
   },
   {
    "duration": 102,
    "start_time": "2023-05-09T09:30:44.007Z"
   },
   {
    "duration": 9,
    "start_time": "2023-05-09T09:30:51.659Z"
   },
   {
    "duration": 1300,
    "start_time": "2023-05-09T09:31:02.865Z"
   },
   {
    "duration": 9,
    "start_time": "2023-05-09T09:31:22.524Z"
   },
   {
    "duration": 5,
    "start_time": "2023-05-09T09:31:25.334Z"
   },
   {
    "duration": 1407,
    "start_time": "2023-05-09T09:31:34.922Z"
   },
   {
    "duration": 1240,
    "start_time": "2023-05-09T09:31:41.022Z"
   },
   {
    "duration": 10,
    "start_time": "2023-05-09T09:31:44.770Z"
   },
   {
    "duration": 62,
    "start_time": "2023-05-09T09:33:15.524Z"
   },
   {
    "duration": 4490,
    "start_time": "2023-05-09T09:33:25.674Z"
   },
   {
    "duration": 4218,
    "start_time": "2023-05-09T09:35:56.945Z"
   },
   {
    "duration": 1065,
    "start_time": "2023-05-09T09:36:07.737Z"
   },
   {
    "duration": 4120,
    "start_time": "2023-05-09T09:36:18.906Z"
   },
   {
    "duration": 2463,
    "start_time": "2023-05-09T09:36:36.499Z"
   },
   {
    "duration": 4214,
    "start_time": "2023-05-09T09:38:30.763Z"
   },
   {
    "duration": 57,
    "start_time": "2023-05-09T09:40:13.992Z"
   },
   {
    "duration": 54,
    "start_time": "2023-05-09T09:41:10.807Z"
   },
   {
    "duration": 375,
    "start_time": "2023-05-09T09:41:34.503Z"
   },
   {
    "duration": 57,
    "start_time": "2023-05-09T09:41:42.409Z"
   },
   {
    "duration": 59,
    "start_time": "2023-05-09T09:41:49.568Z"
   },
   {
    "duration": 60,
    "start_time": "2023-05-09T09:42:03.500Z"
   },
   {
    "duration": 57,
    "start_time": "2023-05-09T09:42:13.396Z"
   },
   {
    "duration": 69,
    "start_time": "2023-05-09T09:42:20.941Z"
   },
   {
    "duration": 318,
    "start_time": "2023-05-09T09:42:41.846Z"
   },
   {
    "duration": 403,
    "start_time": "2023-05-09T09:45:10.541Z"
   },
   {
    "duration": 315,
    "start_time": "2023-05-09T09:45:51.508Z"
   },
   {
    "duration": 173,
    "start_time": "2023-05-09T09:46:29.448Z"
   },
   {
    "duration": 168,
    "start_time": "2023-05-09T09:46:47.257Z"
   },
   {
    "duration": 188,
    "start_time": "2023-05-09T09:47:06.652Z"
   },
   {
    "duration": 158,
    "start_time": "2023-05-09T09:47:15.848Z"
   },
   {
    "duration": 64,
    "start_time": "2023-05-09T10:53:15.108Z"
   },
   {
    "duration": 62,
    "start_time": "2023-05-09T10:53:28.590Z"
   },
   {
    "duration": 310,
    "start_time": "2023-05-09T10:53:39.369Z"
   },
   {
    "duration": 30,
    "start_time": "2023-05-09T10:56:32.920Z"
   },
   {
    "duration": 189,
    "start_time": "2023-05-09T10:56:56.995Z"
   },
   {
    "duration": 255,
    "start_time": "2023-05-09T10:57:07.786Z"
   },
   {
    "duration": 27,
    "start_time": "2023-05-09T10:57:37.311Z"
   },
   {
    "duration": 173,
    "start_time": "2023-05-09T10:57:45.787Z"
   },
   {
    "duration": 153,
    "start_time": "2023-05-09T10:58:09.412Z"
   },
   {
    "duration": 153,
    "start_time": "2023-05-09T11:04:10.212Z"
   },
   {
    "duration": 153,
    "start_time": "2023-05-09T11:04:12.466Z"
   },
   {
    "duration": 147,
    "start_time": "2023-05-09T11:04:31.496Z"
   },
   {
    "duration": 187,
    "start_time": "2023-05-09T11:08:29.097Z"
   },
   {
    "duration": 143,
    "start_time": "2023-05-09T11:08:53.867Z"
   },
   {
    "duration": 155,
    "start_time": "2023-05-09T11:15:15.365Z"
   },
   {
    "duration": 157,
    "start_time": "2023-05-09T11:15:48.891Z"
   },
   {
    "duration": 147,
    "start_time": "2023-05-09T11:16:05.080Z"
   },
   {
    "duration": 178,
    "start_time": "2023-05-09T13:51:01.313Z"
   },
   {
    "duration": 253,
    "start_time": "2023-05-09T13:53:13.762Z"
   },
   {
    "duration": 73,
    "start_time": "2023-05-09T14:05:36.780Z"
   },
   {
    "duration": 12,
    "start_time": "2023-05-09T14:05:41.799Z"
   },
   {
    "duration": 41,
    "start_time": "2023-05-09T14:05:46.298Z"
   },
   {
    "duration": 19,
    "start_time": "2023-05-09T14:05:53.334Z"
   },
   {
    "duration": 27,
    "start_time": "2023-05-09T14:06:07.276Z"
   },
   {
    "duration": 19,
    "start_time": "2023-05-09T14:06:29.151Z"
   },
   {
    "duration": 28,
    "start_time": "2023-05-09T14:06:54.460Z"
   },
   {
    "duration": 27,
    "start_time": "2023-05-09T14:07:18.816Z"
   },
   {
    "duration": 24,
    "start_time": "2023-05-09T14:07:29.851Z"
   },
   {
    "duration": 27,
    "start_time": "2023-05-09T14:07:33.210Z"
   },
   {
    "duration": 27,
    "start_time": "2023-05-09T14:09:05.475Z"
   },
   {
    "duration": 28,
    "start_time": "2023-05-09T14:12:54.548Z"
   },
   {
    "duration": 32,
    "start_time": "2023-05-09T14:13:02.789Z"
   },
   {
    "duration": 40,
    "start_time": "2023-05-09T14:13:46.490Z"
   },
   {
    "duration": 24,
    "start_time": "2023-05-09T14:13:52.087Z"
   },
   {
    "duration": 34,
    "start_time": "2023-05-09T14:13:54.355Z"
   },
   {
    "duration": 45,
    "start_time": "2023-05-09T14:14:35.539Z"
   },
   {
    "duration": 34,
    "start_time": "2023-05-09T14:16:29.054Z"
   },
   {
    "duration": 32,
    "start_time": "2023-05-09T14:18:25.435Z"
   },
   {
    "duration": 26,
    "start_time": "2023-05-09T14:19:07.477Z"
   },
   {
    "duration": 29,
    "start_time": "2023-05-09T14:20:35.723Z"
   },
   {
    "duration": 84,
    "start_time": "2023-05-09T14:29:54.498Z"
   },
   {
    "duration": 70,
    "start_time": "2023-05-09T14:29:57.235Z"
   },
   {
    "duration": 105,
    "start_time": "2023-05-09T14:30:04.555Z"
   },
   {
    "duration": 76,
    "start_time": "2023-05-09T14:30:09.234Z"
   },
   {
    "duration": 79,
    "start_time": "2023-05-09T14:30:12.544Z"
   },
   {
    "duration": 76,
    "start_time": "2023-05-09T14:30:18.486Z"
   },
   {
    "duration": 119,
    "start_time": "2023-05-09T14:30:22.100Z"
   },
   {
    "duration": 95,
    "start_time": "2023-05-09T14:30:38.203Z"
   },
   {
    "duration": 84,
    "start_time": "2023-05-09T14:30:45.136Z"
   },
   {
    "duration": 73,
    "start_time": "2023-05-09T14:30:49.582Z"
   },
   {
    "duration": 19,
    "start_time": "2023-05-09T14:31:08.887Z"
   },
   {
    "duration": 14,
    "start_time": "2023-05-09T14:31:19.746Z"
   },
   {
    "duration": 14,
    "start_time": "2023-05-09T14:32:01.404Z"
   },
   {
    "duration": 12,
    "start_time": "2023-05-09T14:32:04.336Z"
   },
   {
    "duration": 105,
    "start_time": "2023-05-09T14:32:11.655Z"
   },
   {
    "duration": 13,
    "start_time": "2023-05-09T14:32:15.198Z"
   },
   {
    "duration": 13,
    "start_time": "2023-05-09T14:32:29.935Z"
   },
   {
    "duration": 14,
    "start_time": "2023-05-09T14:32:33.213Z"
   },
   {
    "duration": 64,
    "start_time": "2023-05-09T14:32:54.612Z"
   },
   {
    "duration": 14,
    "start_time": "2023-05-09T14:33:31.344Z"
   },
   {
    "duration": 15,
    "start_time": "2023-05-09T14:33:38.032Z"
   },
   {
    "duration": 20,
    "start_time": "2023-05-09T14:33:40.824Z"
   },
   {
    "duration": 14,
    "start_time": "2023-05-09T14:33:45.249Z"
   },
   {
    "duration": 14,
    "start_time": "2023-05-09T14:33:59.256Z"
   },
   {
    "duration": 110,
    "start_time": "2023-05-09T14:34:09.114Z"
   },
   {
    "duration": 74,
    "start_time": "2023-05-09T14:34:16.707Z"
   },
   {
    "duration": 16,
    "start_time": "2023-05-09T14:34:20.329Z"
   },
   {
    "duration": 13,
    "start_time": "2023-05-09T14:34:38.196Z"
   },
   {
    "duration": 17,
    "start_time": "2023-05-09T14:34:53.798Z"
   },
   {
    "duration": 15,
    "start_time": "2023-05-09T14:35:03.796Z"
   },
   {
    "duration": 15,
    "start_time": "2023-05-09T14:35:12.357Z"
   },
   {
    "duration": 105,
    "start_time": "2023-05-09T14:35:38.083Z"
   },
   {
    "duration": 93,
    "start_time": "2023-05-09T14:36:00.403Z"
   },
   {
    "duration": 95,
    "start_time": "2023-05-09T14:36:12.181Z"
   },
   {
    "duration": 70,
    "start_time": "2023-05-09T14:36:19.448Z"
   },
   {
    "duration": 17,
    "start_time": "2023-05-09T14:36:27.032Z"
   },
   {
    "duration": 15,
    "start_time": "2023-05-09T14:36:35.583Z"
   },
   {
    "duration": 125,
    "start_time": "2023-05-09T14:37:08.983Z"
   },
   {
    "duration": 86,
    "start_time": "2023-05-09T14:37:16.795Z"
   },
   {
    "duration": 107,
    "start_time": "2023-05-09T14:37:25.431Z"
   },
   {
    "duration": 20,
    "start_time": "2023-05-09T14:37:32.326Z"
   },
   {
    "duration": 16,
    "start_time": "2023-05-09T14:37:45.882Z"
   },
   {
    "duration": 14,
    "start_time": "2023-05-09T14:38:02.497Z"
   },
   {
    "duration": 13,
    "start_time": "2023-05-09T14:42:11.293Z"
   },
   {
    "duration": 17,
    "start_time": "2023-05-09T14:42:15.435Z"
   },
   {
    "duration": 14,
    "start_time": "2023-05-09T14:49:16.838Z"
   },
   {
    "duration": 16,
    "start_time": "2023-05-09T14:49:24.345Z"
   },
   {
    "duration": 15,
    "start_time": "2023-05-09T14:49:27.515Z"
   },
   {
    "duration": 75,
    "start_time": "2023-05-09T14:49:32.081Z"
   },
   {
    "duration": 14,
    "start_time": "2023-05-09T14:49:37.712Z"
   },
   {
    "duration": 18,
    "start_time": "2023-05-09T14:50:34.715Z"
   },
   {
    "duration": 13,
    "start_time": "2023-05-09T14:50:38.545Z"
   },
   {
    "duration": 25,
    "start_time": "2023-05-09T14:50:59.589Z"
   },
   {
    "duration": 24,
    "start_time": "2023-05-09T14:51:08.126Z"
   },
   {
    "duration": 13,
    "start_time": "2023-05-09T14:51:18.002Z"
   },
   {
    "duration": 18,
    "start_time": "2023-05-09T14:57:18.034Z"
   },
   {
    "duration": 12,
    "start_time": "2023-05-09T14:57:22.657Z"
   },
   {
    "duration": 5,
    "start_time": "2023-05-09T14:58:12.744Z"
   },
   {
    "duration": 15,
    "start_time": "2023-05-09T14:58:15.140Z"
   },
   {
    "duration": 86,
    "start_time": "2023-05-09T14:58:25.234Z"
   },
   {
    "duration": 14,
    "start_time": "2023-05-09T14:58:28.139Z"
   },
   {
    "duration": 17,
    "start_time": "2023-05-09T14:58:34.904Z"
   },
   {
    "duration": 14,
    "start_time": "2023-05-09T15:00:22.288Z"
   },
   {
    "duration": 17,
    "start_time": "2023-05-09T15:00:33.634Z"
   },
   {
    "duration": 15,
    "start_time": "2023-05-09T15:00:38.068Z"
   },
   {
    "duration": 5,
    "start_time": "2023-05-09T15:00:44.265Z"
   },
   {
    "duration": 14,
    "start_time": "2023-05-09T15:00:45.689Z"
   },
   {
    "duration": 16,
    "start_time": "2023-05-09T15:00:51.056Z"
   },
   {
    "duration": 19,
    "start_time": "2023-05-09T15:01:46.504Z"
   },
   {
    "duration": 16,
    "start_time": "2023-05-09T15:01:50.323Z"
   },
   {
    "duration": 14,
    "start_time": "2023-05-09T15:02:51.704Z"
   },
   {
    "duration": 21,
    "start_time": "2023-05-09T15:03:02.430Z"
   },
   {
    "duration": 13,
    "start_time": "2023-05-09T15:03:09.891Z"
   },
   {
    "duration": 17,
    "start_time": "2023-05-09T15:03:26.663Z"
   },
   {
    "duration": 25,
    "start_time": "2023-05-09T15:04:03.412Z"
   },
   {
    "duration": 8,
    "start_time": "2023-05-09T15:04:07.960Z"
   },
   {
    "duration": 8,
    "start_time": "2023-05-09T15:04:12.703Z"
   },
   {
    "duration": 3,
    "start_time": "2023-05-09T15:04:28.070Z"
   },
   {
    "duration": 4,
    "start_time": "2023-05-09T15:04:38.277Z"
   },
   {
    "duration": 5,
    "start_time": "2023-05-09T15:04:50.748Z"
   },
   {
    "duration": 4,
    "start_time": "2023-05-09T15:04:56.312Z"
   },
   {
    "duration": 3,
    "start_time": "2023-05-09T15:05:18.499Z"
   },
   {
    "duration": 1190,
    "start_time": "2023-05-09T15:05:27.332Z"
   },
   {
    "duration": 1278,
    "start_time": "2023-05-09T15:05:28.524Z"
   },
   {
    "duration": 32,
    "start_time": "2023-05-09T15:05:29.804Z"
   },
   {
    "duration": 21,
    "start_time": "2023-05-09T15:05:29.839Z"
   },
   {
    "duration": 18,
    "start_time": "2023-05-09T15:05:29.862Z"
   },
   {
    "duration": 3,
    "start_time": "2023-05-09T15:05:29.882Z"
   },
   {
    "duration": 84,
    "start_time": "2023-05-09T15:05:29.887Z"
   },
   {
    "duration": 7,
    "start_time": "2023-05-09T15:05:29.973Z"
   },
   {
    "duration": 14,
    "start_time": "2023-05-09T15:05:29.981Z"
   },
   {
    "duration": 36,
    "start_time": "2023-05-09T15:05:29.997Z"
   },
   {
    "duration": 34,
    "start_time": "2023-05-09T15:05:30.035Z"
   },
   {
    "duration": 16,
    "start_time": "2023-05-09T15:05:30.072Z"
   },
   {
    "duration": 21,
    "start_time": "2023-05-09T15:05:30.089Z"
   },
   {
    "duration": 20,
    "start_time": "2023-05-09T15:05:30.112Z"
   },
   {
    "duration": 23,
    "start_time": "2023-05-09T15:05:30.134Z"
   },
   {
    "duration": 5,
    "start_time": "2023-05-09T15:05:30.159Z"
   },
   {
    "duration": 22,
    "start_time": "2023-05-09T15:05:30.166Z"
   },
   {
    "duration": 9,
    "start_time": "2023-05-09T15:05:30.190Z"
   },
   {
    "duration": 19,
    "start_time": "2023-05-09T15:05:30.201Z"
   },
   {
    "duration": 31,
    "start_time": "2023-05-09T15:05:30.222Z"
   },
   {
    "duration": 34,
    "start_time": "2023-05-09T15:05:30.255Z"
   },
   {
    "duration": 22,
    "start_time": "2023-05-09T15:05:30.291Z"
   },
   {
    "duration": 12,
    "start_time": "2023-05-09T15:05:30.315Z"
   },
   {
    "duration": 55,
    "start_time": "2023-05-09T15:05:30.329Z"
   },
   {
    "duration": 19,
    "start_time": "2023-05-09T15:05:30.386Z"
   },
   {
    "duration": 27,
    "start_time": "2023-05-09T15:05:30.408Z"
   },
   {
    "duration": 40,
    "start_time": "2023-05-09T15:05:30.437Z"
   },
   {
    "duration": 44,
    "start_time": "2023-05-09T15:05:30.483Z"
   },
   {
    "duration": 788,
    "start_time": "2023-05-09T15:05:30.529Z"
   },
   {
    "duration": 3,
    "start_time": "2023-05-09T15:05:31.318Z"
   },
   {
    "duration": 83,
    "start_time": "2023-05-09T15:05:31.322Z"
   },
   {
    "duration": 60,
    "start_time": "2023-05-09T15:05:31.407Z"
   },
   {
    "duration": 71,
    "start_time": "2023-05-09T15:05:31.468Z"
   },
   {
    "duration": 47,
    "start_time": "2023-05-09T15:05:31.541Z"
   },
   {
    "duration": 56,
    "start_time": "2023-05-09T15:05:31.590Z"
   },
   {
    "duration": 2147,
    "start_time": "2023-05-09T15:05:31.648Z"
   },
   {
    "duration": 9,
    "start_time": "2023-05-09T15:05:33.797Z"
   },
   {
    "duration": 273,
    "start_time": "2023-05-09T15:05:33.808Z"
   },
   {
    "duration": 192,
    "start_time": "2023-05-09T15:05:34.083Z"
   },
   {
    "duration": 319,
    "start_time": "2023-05-09T15:05:34.276Z"
   },
   {
    "duration": 174,
    "start_time": "2023-05-09T15:05:34.597Z"
   },
   {
    "duration": 174,
    "start_time": "2023-05-09T15:05:34.773Z"
   },
   {
    "duration": 206,
    "start_time": "2023-05-09T15:05:34.949Z"
   },
   {
    "duration": 157,
    "start_time": "2023-05-09T15:05:35.157Z"
   },
   {
    "duration": 195,
    "start_time": "2023-05-09T15:05:35.316Z"
   },
   {
    "duration": 41,
    "start_time": "2023-05-09T15:05:35.513Z"
   },
   {
    "duration": 25,
    "start_time": "2023-05-09T15:05:35.556Z"
   },
   {
    "duration": 65,
    "start_time": "2023-05-09T15:05:35.583Z"
   },
   {
    "duration": 29,
    "start_time": "2023-05-09T15:05:35.650Z"
   },
   {
    "duration": 64,
    "start_time": "2023-05-09T15:05:35.681Z"
   },
   {
    "duration": 30,
    "start_time": "2023-05-09T15:05:35.747Z"
   },
   {
    "duration": 16,
    "start_time": "2023-05-09T15:05:35.779Z"
   },
   {
    "duration": 15,
    "start_time": "2023-05-09T15:05:58.590Z"
   },
   {
    "duration": 16,
    "start_time": "2023-05-09T15:06:00.787Z"
   },
   {
    "duration": 15,
    "start_time": "2023-05-09T15:06:03.447Z"
   },
   {
    "duration": 15,
    "start_time": "2023-05-09T15:06:07.900Z"
   },
   {
    "duration": 1168,
    "start_time": "2023-05-09T15:06:14.579Z"
   },
   {
    "duration": 882,
    "start_time": "2023-05-09T15:06:15.749Z"
   },
   {
    "duration": 30,
    "start_time": "2023-05-09T15:06:16.633Z"
   },
   {
    "duration": 19,
    "start_time": "2023-05-09T15:06:16.665Z"
   },
   {
    "duration": 11,
    "start_time": "2023-05-09T15:06:16.686Z"
   },
   {
    "duration": 36,
    "start_time": "2023-05-09T15:06:16.698Z"
   },
   {
    "duration": 45,
    "start_time": "2023-05-09T15:06:16.736Z"
   },
   {
    "duration": 6,
    "start_time": "2023-05-09T15:06:16.783Z"
   },
   {
    "duration": 7,
    "start_time": "2023-05-09T15:06:16.790Z"
   },
   {
    "duration": 36,
    "start_time": "2023-05-09T15:06:16.799Z"
   },
   {
    "duration": 20,
    "start_time": "2023-05-09T15:06:16.837Z"
   },
   {
    "duration": 4,
    "start_time": "2023-05-09T15:06:16.859Z"
   },
   {
    "duration": 14,
    "start_time": "2023-05-09T15:06:16.864Z"
   },
   {
    "duration": 4,
    "start_time": "2023-05-09T15:06:16.880Z"
   },
   {
    "duration": 53,
    "start_time": "2023-05-09T15:06:16.886Z"
   },
   {
    "duration": 6,
    "start_time": "2023-05-09T15:06:16.940Z"
   },
   {
    "duration": 5,
    "start_time": "2023-05-09T15:06:16.947Z"
   },
   {
    "duration": 5,
    "start_time": "2023-05-09T15:06:16.953Z"
   },
   {
    "duration": 5,
    "start_time": "2023-05-09T15:06:16.959Z"
   },
   {
    "duration": 6,
    "start_time": "2023-05-09T15:06:16.966Z"
   },
   {
    "duration": 7,
    "start_time": "2023-05-09T15:06:16.973Z"
   },
   {
    "duration": 7,
    "start_time": "2023-05-09T15:06:16.981Z"
   },
   {
    "duration": 46,
    "start_time": "2023-05-09T15:06:16.989Z"
   },
   {
    "duration": 30,
    "start_time": "2023-05-09T15:06:17.037Z"
   },
   {
    "duration": 5,
    "start_time": "2023-05-09T15:06:17.069Z"
   },
   {
    "duration": 7,
    "start_time": "2023-05-09T15:06:17.075Z"
   },
   {
    "duration": 16,
    "start_time": "2023-05-09T15:06:17.083Z"
   },
   {
    "duration": 48,
    "start_time": "2023-05-09T15:06:17.102Z"
   },
   {
    "duration": 727,
    "start_time": "2023-05-09T15:06:17.152Z"
   },
   {
    "duration": 3,
    "start_time": "2023-05-09T15:06:17.880Z"
   },
   {
    "duration": 21,
    "start_time": "2023-05-09T15:06:17.884Z"
   },
   {
    "duration": 4,
    "start_time": "2023-05-09T15:06:17.907Z"
   },
   {
    "duration": 28,
    "start_time": "2023-05-09T15:06:17.912Z"
   },
   {
    "duration": 7,
    "start_time": "2023-05-09T15:06:17.941Z"
   },
   {
    "duration": 25,
    "start_time": "2023-05-09T15:06:17.949Z"
   },
   {
    "duration": 2068,
    "start_time": "2023-05-09T15:06:17.976Z"
   },
   {
    "duration": 10,
    "start_time": "2023-05-09T15:06:20.046Z"
   },
   {
    "duration": 252,
    "start_time": "2023-05-09T15:06:20.057Z"
   },
   {
    "duration": 188,
    "start_time": "2023-05-09T15:06:20.311Z"
   },
   {
    "duration": 325,
    "start_time": "2023-05-09T15:06:20.501Z"
   },
   {
    "duration": 165,
    "start_time": "2023-05-09T15:06:20.834Z"
   },
   {
    "duration": 155,
    "start_time": "2023-05-09T15:06:21.001Z"
   },
   {
    "duration": 152,
    "start_time": "2023-05-09T15:06:21.157Z"
   },
   {
    "duration": 154,
    "start_time": "2023-05-09T15:06:21.310Z"
   },
   {
    "duration": 169,
    "start_time": "2023-05-09T15:06:21.465Z"
   },
   {
    "duration": 25,
    "start_time": "2023-05-09T15:06:21.636Z"
   },
   {
    "duration": 23,
    "start_time": "2023-05-09T15:06:21.662Z"
   },
   {
    "duration": 62,
    "start_time": "2023-05-09T15:06:21.687Z"
   },
   {
    "duration": 29,
    "start_time": "2023-05-09T15:06:21.750Z"
   },
   {
    "duration": 26,
    "start_time": "2023-05-09T15:06:21.780Z"
   },
   {
    "duration": 27,
    "start_time": "2023-05-09T15:06:21.835Z"
   },
   {
    "duration": 14,
    "start_time": "2023-05-09T15:06:21.863Z"
   },
   {
    "duration": 14,
    "start_time": "2023-05-09T15:07:56.736Z"
   },
   {
    "duration": 15,
    "start_time": "2023-05-09T15:08:15.572Z"
   },
   {
    "duration": 14,
    "start_time": "2023-05-09T15:08:21.733Z"
   },
   {
    "duration": 14,
    "start_time": "2023-05-09T15:08:36.664Z"
   },
   {
    "duration": 15,
    "start_time": "2023-05-09T15:08:42.742Z"
   },
   {
    "duration": 19,
    "start_time": "2023-05-09T15:08:45.485Z"
   },
   {
    "duration": 16,
    "start_time": "2023-05-09T15:08:51.786Z"
   },
   {
    "duration": 14,
    "start_time": "2023-05-09T15:08:55.106Z"
   },
   {
    "duration": 17,
    "start_time": "2023-05-09T15:09:00.001Z"
   },
   {
    "duration": 19,
    "start_time": "2023-05-09T15:09:07.527Z"
   },
   {
    "duration": 15,
    "start_time": "2023-05-09T15:09:32.498Z"
   },
   {
    "duration": 14,
    "start_time": "2023-05-09T15:09:37.987Z"
   },
   {
    "duration": 26,
    "start_time": "2023-05-09T15:11:11.299Z"
   },
   {
    "duration": 15,
    "start_time": "2023-05-09T15:11:39.037Z"
   },
   {
    "duration": 16,
    "start_time": "2023-05-09T15:12:15.581Z"
   },
   {
    "duration": 16,
    "start_time": "2023-05-09T15:12:52.142Z"
   },
   {
    "duration": 16,
    "start_time": "2023-05-09T15:13:00.972Z"
   },
   {
    "duration": 14,
    "start_time": "2023-05-09T15:13:03.999Z"
   },
   {
    "duration": 105,
    "start_time": "2023-05-09T15:13:06.471Z"
   },
   {
    "duration": 14,
    "start_time": "2023-05-09T15:13:08.932Z"
   },
   {
    "duration": 14,
    "start_time": "2023-05-09T15:13:17.667Z"
   },
   {
    "duration": 15,
    "start_time": "2023-05-09T15:13:20.714Z"
   },
   {
    "duration": 16,
    "start_time": "2023-05-09T15:13:23.997Z"
   },
   {
    "duration": 17,
    "start_time": "2023-05-09T15:13:26.336Z"
   },
   {
    "duration": 16,
    "start_time": "2023-05-09T15:13:28.666Z"
   },
   {
    "duration": 15,
    "start_time": "2023-05-09T15:13:31.242Z"
   },
   {
    "duration": 15,
    "start_time": "2023-05-09T15:13:34.221Z"
   },
   {
    "duration": 15,
    "start_time": "2023-05-09T15:13:38.079Z"
   },
   {
    "duration": 17,
    "start_time": "2023-05-09T15:13:39.561Z"
   },
   {
    "duration": 16,
    "start_time": "2023-05-09T15:13:49.380Z"
   },
   {
    "duration": 16,
    "start_time": "2023-05-09T15:13:55.059Z"
   },
   {
    "duration": 16,
    "start_time": "2023-05-09T15:13:58.313Z"
   },
   {
    "duration": 15,
    "start_time": "2023-05-09T15:14:03.049Z"
   },
   {
    "duration": 14,
    "start_time": "2023-05-09T15:15:10.766Z"
   },
   {
    "duration": 14,
    "start_time": "2023-05-09T15:15:15.058Z"
   },
   {
    "duration": 13,
    "start_time": "2023-05-09T15:15:18.982Z"
   },
   {
    "duration": 14,
    "start_time": "2023-05-09T15:15:21.085Z"
   },
   {
    "duration": 16,
    "start_time": "2023-05-09T15:15:24.934Z"
   },
   {
    "duration": 15,
    "start_time": "2023-05-09T15:15:31.942Z"
   },
   {
    "duration": 15,
    "start_time": "2023-05-09T15:15:38.243Z"
   },
   {
    "duration": 12,
    "start_time": "2023-05-09T15:15:42.979Z"
   },
   {
    "duration": 16,
    "start_time": "2023-05-09T15:15:45.421Z"
   },
   {
    "duration": 14,
    "start_time": "2023-05-09T15:15:59.409Z"
   },
   {
    "duration": 15,
    "start_time": "2023-05-09T15:16:01.711Z"
   },
   {
    "duration": 13,
    "start_time": "2023-05-09T15:16:20.426Z"
   },
   {
    "duration": 13,
    "start_time": "2023-05-09T15:16:23.302Z"
   },
   {
    "duration": 16,
    "start_time": "2023-05-09T15:17:07.749Z"
   },
   {
    "duration": 89,
    "start_time": "2023-05-09T15:17:34.896Z"
   },
   {
    "duration": 7,
    "start_time": "2023-05-09T15:17:43.518Z"
   },
   {
    "duration": 7,
    "start_time": "2023-05-09T15:17:52.526Z"
   },
   {
    "duration": 10,
    "start_time": "2023-05-09T15:17:54.931Z"
   },
   {
    "duration": 4,
    "start_time": "2023-05-09T15:18:02.543Z"
   },
   {
    "duration": 3,
    "start_time": "2023-05-09T15:18:11.325Z"
   },
   {
    "duration": 8,
    "start_time": "2023-05-09T15:18:25.003Z"
   },
   {
    "duration": 8,
    "start_time": "2023-05-09T15:18:52.829Z"
   },
   {
    "duration": 9,
    "start_time": "2023-05-09T15:18:57.196Z"
   },
   {
    "duration": 10,
    "start_time": "2023-05-09T15:19:02.331Z"
   },
   {
    "duration": 17,
    "start_time": "2023-05-09T15:19:58.471Z"
   },
   {
    "duration": 13,
    "start_time": "2023-05-09T15:20:12.148Z"
   },
   {
    "duration": 14,
    "start_time": "2023-05-09T15:20:20.194Z"
   },
   {
    "duration": 14,
    "start_time": "2023-05-09T15:20:28.099Z"
   },
   {
    "duration": 14,
    "start_time": "2023-05-09T15:20:41.154Z"
   },
   {
    "duration": 14,
    "start_time": "2023-05-09T15:20:47.672Z"
   },
   {
    "duration": 14,
    "start_time": "2023-05-09T15:21:09.820Z"
   },
   {
    "duration": 15,
    "start_time": "2023-05-09T15:21:13.055Z"
   },
   {
    "duration": 25,
    "start_time": "2023-05-09T15:22:21.244Z"
   },
   {
    "duration": 14,
    "start_time": "2023-05-09T15:22:28.441Z"
   },
   {
    "duration": 14,
    "start_time": "2023-05-09T15:23:33.744Z"
   },
   {
    "duration": 15,
    "start_time": "2023-05-09T15:23:47.369Z"
   },
   {
    "duration": 15,
    "start_time": "2023-05-09T15:24:46.120Z"
   },
   {
    "duration": 15,
    "start_time": "2023-05-09T15:24:49.741Z"
   },
   {
    "duration": 14,
    "start_time": "2023-05-09T15:24:54.100Z"
   },
   {
    "duration": 13,
    "start_time": "2023-05-09T15:26:19.427Z"
   },
   {
    "duration": 12,
    "start_time": "2023-05-09T15:26:36.811Z"
   },
   {
    "duration": 17,
    "start_time": "2023-05-09T15:26:50.969Z"
   },
   {
    "duration": 15,
    "start_time": "2023-05-09T15:27:08.241Z"
   },
   {
    "duration": 15,
    "start_time": "2023-05-09T15:27:19.503Z"
   },
   {
    "duration": 13,
    "start_time": "2023-05-09T15:27:57.706Z"
   },
   {
    "duration": 12,
    "start_time": "2023-05-09T15:28:03.875Z"
   },
   {
    "duration": 12,
    "start_time": "2023-05-09T15:28:07.857Z"
   },
   {
    "duration": 14,
    "start_time": "2023-05-09T15:28:11.921Z"
   },
   {
    "duration": 13,
    "start_time": "2023-05-09T15:28:13.590Z"
   },
   {
    "duration": 13,
    "start_time": "2023-05-09T15:28:23.628Z"
   },
   {
    "duration": 14,
    "start_time": "2023-05-09T15:28:26.306Z"
   },
   {
    "duration": 13,
    "start_time": "2023-05-09T15:28:43.936Z"
   },
   {
    "duration": 14,
    "start_time": "2023-05-09T15:28:46.058Z"
   },
   {
    "duration": 14,
    "start_time": "2023-05-09T15:28:51.162Z"
   },
   {
    "duration": 15,
    "start_time": "2023-05-09T15:29:29.723Z"
   },
   {
    "duration": 13,
    "start_time": "2023-05-09T15:29:33.316Z"
   },
   {
    "duration": 17,
    "start_time": "2023-05-09T15:29:35.376Z"
   },
   {
    "duration": 15,
    "start_time": "2023-05-09T15:29:37.277Z"
   },
   {
    "duration": 14,
    "start_time": "2023-05-09T15:29:41.210Z"
   },
   {
    "duration": 13,
    "start_time": "2023-05-09T15:29:44.180Z"
   },
   {
    "duration": 14,
    "start_time": "2023-05-09T15:29:47.993Z"
   },
   {
    "duration": 16,
    "start_time": "2023-05-09T15:29:51.285Z"
   },
   {
    "duration": 15,
    "start_time": "2023-05-09T15:29:55.444Z"
   },
   {
    "duration": 15,
    "start_time": "2023-05-09T15:29:58.284Z"
   },
   {
    "duration": 13,
    "start_time": "2023-05-09T15:30:01.542Z"
   },
   {
    "duration": 13,
    "start_time": "2023-05-09T15:30:04.879Z"
   },
   {
    "duration": 13,
    "start_time": "2023-05-09T15:30:07.122Z"
   },
   {
    "duration": 13,
    "start_time": "2023-05-09T15:30:11.613Z"
   },
   {
    "duration": 12,
    "start_time": "2023-05-09T15:30:15.112Z"
   },
   {
    "duration": 13,
    "start_time": "2023-05-09T15:30:18.414Z"
   },
   {
    "duration": 16,
    "start_time": "2023-05-09T15:30:24.008Z"
   },
   {
    "duration": 14,
    "start_time": "2023-05-09T15:30:26.987Z"
   },
   {
    "duration": 15,
    "start_time": "2023-05-09T15:30:29.422Z"
   },
   {
    "duration": 20,
    "start_time": "2023-05-09T15:30:31.734Z"
   },
   {
    "duration": 15,
    "start_time": "2023-05-09T15:30:36.806Z"
   },
   {
    "duration": 14,
    "start_time": "2023-05-09T15:30:38.656Z"
   },
   {
    "duration": 14,
    "start_time": "2023-05-09T15:30:40.270Z"
   },
   {
    "duration": 14,
    "start_time": "2023-05-09T15:30:42.448Z"
   },
   {
    "duration": 13,
    "start_time": "2023-05-09T15:30:50.089Z"
   },
   {
    "duration": 13,
    "start_time": "2023-05-09T15:31:24.866Z"
   },
   {
    "duration": 14,
    "start_time": "2023-05-09T15:31:28.328Z"
   },
   {
    "duration": 17,
    "start_time": "2023-05-09T15:31:30.988Z"
   },
   {
    "duration": 13,
    "start_time": "2023-05-09T15:31:33.460Z"
   },
   {
    "duration": 14,
    "start_time": "2023-05-09T15:31:35.553Z"
   },
   {
    "duration": 15,
    "start_time": "2023-05-09T15:31:47.552Z"
   },
   {
    "duration": 15,
    "start_time": "2023-05-09T15:31:55.004Z"
   },
   {
    "duration": 16,
    "start_time": "2023-05-09T15:31:58.324Z"
   },
   {
    "duration": 15,
    "start_time": "2023-05-09T15:32:00.816Z"
   },
   {
    "duration": 15,
    "start_time": "2023-05-09T15:32:18.256Z"
   },
   {
    "duration": 15,
    "start_time": "2023-05-09T15:32:22.029Z"
   },
   {
    "duration": 15,
    "start_time": "2023-05-09T15:32:24.293Z"
   },
   {
    "duration": 16,
    "start_time": "2023-05-09T15:32:26.924Z"
   },
   {
    "duration": 15,
    "start_time": "2023-05-09T15:32:28.943Z"
   },
   {
    "duration": 14,
    "start_time": "2023-05-09T15:32:30.981Z"
   },
   {
    "duration": 14,
    "start_time": "2023-05-09T15:32:48.902Z"
   },
   {
    "duration": 13,
    "start_time": "2023-05-09T15:33:16.950Z"
   },
   {
    "duration": 14,
    "start_time": "2023-05-09T15:33:19.455Z"
   },
   {
    "duration": 15,
    "start_time": "2023-05-09T15:33:26.643Z"
   },
   {
    "duration": 15,
    "start_time": "2023-05-09T15:33:29.048Z"
   },
   {
    "duration": 13,
    "start_time": "2023-05-09T15:33:42.811Z"
   },
   {
    "duration": 61,
    "start_time": "2023-05-09T15:34:04.534Z"
   },
   {
    "duration": 10,
    "start_time": "2023-05-09T15:34:34.784Z"
   },
   {
    "duration": 14,
    "start_time": "2023-05-09T15:35:16.675Z"
   },
   {
    "duration": 14,
    "start_time": "2023-05-09T15:35:24.391Z"
   },
   {
    "duration": 15,
    "start_time": "2023-05-09T15:35:26.722Z"
   },
   {
    "duration": 16,
    "start_time": "2023-05-09T15:35:32.908Z"
   },
   {
    "duration": 13,
    "start_time": "2023-05-09T15:35:35.798Z"
   },
   {
    "duration": 14,
    "start_time": "2023-05-09T15:35:39.172Z"
   },
   {
    "duration": 13,
    "start_time": "2023-05-09T15:35:41.162Z"
   },
   {
    "duration": 14,
    "start_time": "2023-05-09T15:35:43.000Z"
   },
   {
    "duration": 14,
    "start_time": "2023-05-09T15:35:46.369Z"
   },
   {
    "duration": 16,
    "start_time": "2023-05-09T15:35:52.183Z"
   },
   {
    "duration": 16,
    "start_time": "2023-05-09T15:35:56.423Z"
   },
   {
    "duration": 14,
    "start_time": "2023-05-09T15:35:59.207Z"
   },
   {
    "duration": 14,
    "start_time": "2023-05-09T15:36:01.913Z"
   },
   {
    "duration": 15,
    "start_time": "2023-05-09T15:36:08.479Z"
   },
   {
    "duration": 18,
    "start_time": "2023-05-09T15:36:10.808Z"
   },
   {
    "duration": 13,
    "start_time": "2023-05-09T15:36:48.191Z"
   },
   {
    "duration": 18,
    "start_time": "2023-05-09T15:36:51.926Z"
   },
   {
    "duration": 20,
    "start_time": "2023-05-09T15:36:54.651Z"
   },
   {
    "duration": 13,
    "start_time": "2023-05-09T15:36:56.509Z"
   },
   {
    "duration": 15,
    "start_time": "2023-05-09T15:38:23.970Z"
   },
   {
    "duration": 18,
    "start_time": "2023-05-09T15:38:50.003Z"
   },
   {
    "duration": 16,
    "start_time": "2023-05-09T15:38:53.258Z"
   },
   {
    "duration": 15,
    "start_time": "2023-05-09T15:38:59.493Z"
   },
   {
    "duration": 15,
    "start_time": "2023-05-09T15:39:11.491Z"
   },
   {
    "duration": 15,
    "start_time": "2023-05-09T15:39:13.311Z"
   },
   {
    "duration": 14,
    "start_time": "2023-05-09T15:39:14.792Z"
   },
   {
    "duration": 15,
    "start_time": "2023-05-09T15:39:16.191Z"
   },
   {
    "duration": 15,
    "start_time": "2023-05-09T15:39:19.330Z"
   },
   {
    "duration": 17,
    "start_time": "2023-05-09T15:39:20.885Z"
   },
   {
    "duration": 13,
    "start_time": "2023-05-09T15:39:22.263Z"
   },
   {
    "duration": 14,
    "start_time": "2023-05-09T15:39:23.989Z"
   },
   {
    "duration": 15,
    "start_time": "2023-05-09T15:39:27.544Z"
   },
   {
    "duration": 16,
    "start_time": "2023-05-09T15:39:31.205Z"
   },
   {
    "duration": 17,
    "start_time": "2023-05-09T15:39:34.761Z"
   },
   {
    "duration": 23,
    "start_time": "2023-05-09T15:40:05.116Z"
   },
   {
    "duration": 14,
    "start_time": "2023-05-09T15:40:40.330Z"
   },
   {
    "duration": 18,
    "start_time": "2023-05-09T15:40:44.837Z"
   },
   {
    "duration": 13,
    "start_time": "2023-05-09T15:40:48.940Z"
   },
   {
    "duration": 15,
    "start_time": "2023-05-09T15:40:52.327Z"
   },
   {
    "duration": 15,
    "start_time": "2023-05-09T15:40:59.674Z"
   },
   {
    "duration": 71,
    "start_time": "2023-05-09T15:41:07.937Z"
   },
   {
    "duration": 12,
    "start_time": "2023-05-09T15:41:13.833Z"
   },
   {
    "duration": 15,
    "start_time": "2023-05-09T15:41:23.869Z"
   },
   {
    "duration": 16,
    "start_time": "2023-05-09T15:41:30.029Z"
   },
   {
    "duration": 14,
    "start_time": "2023-05-09T15:41:34.238Z"
   },
   {
    "duration": 12,
    "start_time": "2023-05-09T15:41:36.811Z"
   },
   {
    "duration": 12,
    "start_time": "2023-05-09T15:41:39.904Z"
   },
   {
    "duration": 76,
    "start_time": "2023-05-09T15:41:45.319Z"
   },
   {
    "duration": 12,
    "start_time": "2023-05-09T15:41:48.640Z"
   },
   {
    "duration": 13,
    "start_time": "2023-05-09T15:42:11.628Z"
   },
   {
    "duration": 14,
    "start_time": "2023-05-09T15:42:15.928Z"
   },
   {
    "duration": 17,
    "start_time": "2023-05-09T15:42:22.645Z"
   },
   {
    "duration": 14,
    "start_time": "2023-05-09T15:42:29.511Z"
   },
   {
    "duration": 15,
    "start_time": "2023-05-09T15:45:03.471Z"
   },
   {
    "duration": 14,
    "start_time": "2023-05-09T15:45:31.967Z"
   },
   {
    "duration": 14,
    "start_time": "2023-05-09T15:45:37.513Z"
   },
   {
    "duration": 17,
    "start_time": "2023-05-09T15:45:54.870Z"
   },
   {
    "duration": 15,
    "start_time": "2023-05-09T15:45:57.840Z"
   },
   {
    "duration": 12,
    "start_time": "2023-05-09T15:46:03.886Z"
   },
   {
    "duration": 14,
    "start_time": "2023-05-09T15:46:05.736Z"
   },
   {
    "duration": 16,
    "start_time": "2023-05-09T15:46:08.028Z"
   },
   {
    "duration": 13,
    "start_time": "2023-05-09T15:46:10.319Z"
   },
   {
    "duration": 12,
    "start_time": "2023-05-09T15:46:12.150Z"
   },
   {
    "duration": 14,
    "start_time": "2023-05-09T15:46:13.686Z"
   },
   {
    "duration": 12,
    "start_time": "2023-05-09T15:46:16.452Z"
   },
   {
    "duration": 14,
    "start_time": "2023-05-09T15:47:15.115Z"
   },
   {
    "duration": 13,
    "start_time": "2023-05-09T15:47:18.914Z"
   },
   {
    "duration": 13,
    "start_time": "2023-05-09T15:47:46.919Z"
   },
   {
    "duration": 14,
    "start_time": "2023-05-09T15:47:50.469Z"
   },
   {
    "duration": 14,
    "start_time": "2023-05-09T15:47:52.949Z"
   },
   {
    "duration": 13,
    "start_time": "2023-05-09T15:48:14.481Z"
   },
   {
    "duration": 9,
    "start_time": "2023-05-09T16:28:50.278Z"
   },
   {
    "duration": 9,
    "start_time": "2023-05-09T16:29:01.449Z"
   },
   {
    "duration": 76,
    "start_time": "2023-05-09T16:30:41.280Z"
   },
   {
    "duration": 72,
    "start_time": "2023-05-09T16:30:43.814Z"
   },
   {
    "duration": 10,
    "start_time": "2023-05-09T16:30:46.106Z"
   },
   {
    "duration": 9,
    "start_time": "2023-05-09T16:31:23.498Z"
   },
   {
    "duration": 9,
    "start_time": "2023-05-09T16:31:27.686Z"
   },
   {
    "duration": 8,
    "start_time": "2023-05-09T16:32:32.348Z"
   },
   {
    "duration": 9,
    "start_time": "2023-05-09T16:32:34.036Z"
   },
   {
    "duration": 11,
    "start_time": "2023-05-09T16:32:35.244Z"
   },
   {
    "duration": 10,
    "start_time": "2023-05-09T16:39:58.613Z"
   },
   {
    "duration": 10,
    "start_time": "2023-05-09T16:40:12.102Z"
   },
   {
    "duration": 8,
    "start_time": "2023-05-09T16:40:38.344Z"
   },
   {
    "duration": 8,
    "start_time": "2023-05-09T16:40:53.892Z"
   },
   {
    "duration": 9,
    "start_time": "2023-05-09T16:45:05.151Z"
   },
   {
    "duration": 401,
    "start_time": "2023-05-09T17:11:56.998Z"
   },
   {
    "duration": 24,
    "start_time": "2023-05-09T17:14:03.300Z"
   },
   {
    "duration": 8,
    "start_time": "2023-05-09T17:20:21.004Z"
   },
   {
    "duration": 1085,
    "start_time": "2023-05-09T17:35:04.942Z"
   },
   {
    "duration": 1666,
    "start_time": "2023-05-09T17:35:06.028Z"
   },
   {
    "duration": 30,
    "start_time": "2023-05-09T17:35:07.696Z"
   },
   {
    "duration": 19,
    "start_time": "2023-05-09T17:35:07.728Z"
   },
   {
    "duration": 15,
    "start_time": "2023-05-09T17:35:07.749Z"
   },
   {
    "duration": 4,
    "start_time": "2023-05-09T17:35:07.766Z"
   },
   {
    "duration": 78,
    "start_time": "2023-05-09T17:35:07.771Z"
   },
   {
    "duration": 7,
    "start_time": "2023-05-09T17:35:07.851Z"
   },
   {
    "duration": 9,
    "start_time": "2023-05-09T17:35:07.860Z"
   },
   {
    "duration": 13,
    "start_time": "2023-05-09T17:35:07.871Z"
   },
   {
    "duration": 33,
    "start_time": "2023-05-09T17:35:07.885Z"
   },
   {
    "duration": 58,
    "start_time": "2023-05-09T17:35:07.919Z"
   },
   {
    "duration": 15,
    "start_time": "2023-05-09T17:35:07.978Z"
   },
   {
    "duration": 5,
    "start_time": "2023-05-09T17:35:07.994Z"
   },
   {
    "duration": 19,
    "start_time": "2023-05-09T17:35:08.001Z"
   },
   {
    "duration": 6,
    "start_time": "2023-05-09T17:35:08.021Z"
   },
   {
    "duration": 7,
    "start_time": "2023-05-09T17:35:08.028Z"
   },
   {
    "duration": 24,
    "start_time": "2023-05-09T17:35:08.036Z"
   },
   {
    "duration": 34,
    "start_time": "2023-05-09T17:35:08.061Z"
   },
   {
    "duration": 16,
    "start_time": "2023-05-09T17:35:08.097Z"
   },
   {
    "duration": 14,
    "start_time": "2023-05-09T17:35:08.115Z"
   },
   {
    "duration": 5,
    "start_time": "2023-05-09T17:35:08.131Z"
   },
   {
    "duration": 14,
    "start_time": "2023-05-09T17:35:08.138Z"
   },
   {
    "duration": 58,
    "start_time": "2023-05-09T17:35:08.154Z"
   },
   {
    "duration": 5,
    "start_time": "2023-05-09T17:35:08.213Z"
   },
   {
    "duration": 14,
    "start_time": "2023-05-09T17:35:08.220Z"
   },
   {
    "duration": 11,
    "start_time": "2023-05-09T17:35:08.236Z"
   },
   {
    "duration": 22,
    "start_time": "2023-05-09T17:35:08.250Z"
   },
   {
    "duration": 737,
    "start_time": "2023-05-09T17:35:08.273Z"
   },
   {
    "duration": 2,
    "start_time": "2023-05-09T17:35:09.012Z"
   },
   {
    "duration": 23,
    "start_time": "2023-05-09T17:35:09.016Z"
   },
   {
    "duration": 3,
    "start_time": "2023-05-09T17:35:09.040Z"
   },
   {
    "duration": 29,
    "start_time": "2023-05-09T17:35:09.044Z"
   },
   {
    "duration": 7,
    "start_time": "2023-05-09T17:35:09.074Z"
   },
   {
    "duration": 23,
    "start_time": "2023-05-09T17:35:09.083Z"
   },
   {
    "duration": 2101,
    "start_time": "2023-05-09T17:35:09.108Z"
   },
   {
    "duration": 25,
    "start_time": "2023-05-09T17:35:11.210Z"
   },
   {
    "duration": 173,
    "start_time": "2023-05-09T17:35:11.236Z"
   },
   {
    "duration": 296,
    "start_time": "2023-05-09T17:35:11.410Z"
   },
   {
    "duration": 357,
    "start_time": "2023-05-09T17:35:11.708Z"
   },
   {
    "duration": 176,
    "start_time": "2023-05-09T17:35:12.067Z"
   },
   {
    "duration": 169,
    "start_time": "2023-05-09T17:35:12.245Z"
   },
   {
    "duration": 158,
    "start_time": "2023-05-09T17:35:12.415Z"
   },
   {
    "duration": 162,
    "start_time": "2023-05-09T17:35:12.574Z"
   },
   {
    "duration": 178,
    "start_time": "2023-05-09T17:35:12.738Z"
   },
   {
    "duration": 37,
    "start_time": "2023-05-09T17:35:12.917Z"
   },
   {
    "duration": 25,
    "start_time": "2023-05-09T17:35:12.956Z"
   },
   {
    "duration": 62,
    "start_time": "2023-05-09T17:35:12.983Z"
   },
   {
    "duration": 27,
    "start_time": "2023-05-09T17:35:13.047Z"
   },
   {
    "duration": 28,
    "start_time": "2023-05-09T17:35:13.076Z"
   },
   {
    "duration": 51,
    "start_time": "2023-05-09T17:35:13.105Z"
   },
   {
    "duration": 13,
    "start_time": "2023-05-09T17:35:13.157Z"
   },
   {
    "duration": 19,
    "start_time": "2023-05-09T17:35:13.173Z"
   },
   {
    "duration": 49,
    "start_time": "2023-05-09T17:35:13.193Z"
   },
   {
    "duration": 13,
    "start_time": "2023-05-09T17:35:13.243Z"
   },
   {
    "duration": 10,
    "start_time": "2023-05-09T17:35:13.257Z"
   },
   {
    "duration": 14,
    "start_time": "2023-05-09T18:39:40.909Z"
   },
   {
    "duration": 1309,
    "start_time": "2023-05-09T18:40:01.146Z"
   },
   {
    "duration": 948,
    "start_time": "2023-05-09T18:40:02.457Z"
   },
   {
    "duration": 32,
    "start_time": "2023-05-09T18:40:03.409Z"
   },
   {
    "duration": 20,
    "start_time": "2023-05-09T18:40:03.443Z"
   },
   {
    "duration": 17,
    "start_time": "2023-05-09T18:40:03.465Z"
   },
   {
    "duration": 4,
    "start_time": "2023-05-09T18:40:03.483Z"
   },
   {
    "duration": 78,
    "start_time": "2023-05-09T18:40:03.488Z"
   },
   {
    "duration": 7,
    "start_time": "2023-05-09T18:40:03.567Z"
   },
   {
    "duration": 20,
    "start_time": "2023-05-09T18:40:03.578Z"
   },
   {
    "duration": 30,
    "start_time": "2023-05-09T18:40:03.599Z"
   },
   {
    "duration": 49,
    "start_time": "2023-05-09T18:40:03.631Z"
   },
   {
    "duration": 5,
    "start_time": "2023-05-09T18:40:03.681Z"
   },
   {
    "duration": 48,
    "start_time": "2023-05-09T18:40:03.687Z"
   },
   {
    "duration": 93,
    "start_time": "2023-05-09T18:40:03.736Z"
   },
   {
    "duration": 20,
    "start_time": "2023-05-09T18:40:03.831Z"
   },
   {
    "duration": 5,
    "start_time": "2023-05-09T18:40:03.853Z"
   },
   {
    "duration": 12,
    "start_time": "2023-05-09T18:40:03.860Z"
   },
   {
    "duration": 9,
    "start_time": "2023-05-09T18:40:03.873Z"
   },
   {
    "duration": 8,
    "start_time": "2023-05-09T18:40:03.883Z"
   },
   {
    "duration": 6,
    "start_time": "2023-05-09T18:40:03.893Z"
   },
   {
    "duration": 28,
    "start_time": "2023-05-09T18:40:03.901Z"
   },
   {
    "duration": 5,
    "start_time": "2023-05-09T18:40:03.934Z"
   },
   {
    "duration": 6,
    "start_time": "2023-05-09T18:40:03.940Z"
   },
   {
    "duration": 36,
    "start_time": "2023-05-09T18:40:03.948Z"
   },
   {
    "duration": 5,
    "start_time": "2023-05-09T18:40:03.985Z"
   },
   {
    "duration": 7,
    "start_time": "2023-05-09T18:40:03.991Z"
   },
   {
    "duration": 15,
    "start_time": "2023-05-09T18:40:04.034Z"
   },
   {
    "duration": 26,
    "start_time": "2023-05-09T18:40:04.051Z"
   },
   {
    "duration": 835,
    "start_time": "2023-05-09T18:40:04.079Z"
   },
   {
    "duration": 3,
    "start_time": "2023-05-09T18:40:04.915Z"
   },
   {
    "duration": 23,
    "start_time": "2023-05-09T18:40:04.919Z"
   },
   {
    "duration": 3,
    "start_time": "2023-05-09T18:40:04.944Z"
   },
   {
    "duration": 17,
    "start_time": "2023-05-09T18:40:04.948Z"
   },
   {
    "duration": 5,
    "start_time": "2023-05-09T18:40:04.966Z"
   },
   {
    "duration": 25,
    "start_time": "2023-05-09T18:40:04.972Z"
   },
   {
    "duration": 2046,
    "start_time": "2023-05-09T18:40:05.034Z"
   },
   {
    "duration": 9,
    "start_time": "2023-05-09T18:40:07.082Z"
   },
   {
    "duration": 174,
    "start_time": "2023-05-09T18:40:07.092Z"
   },
   {
    "duration": 273,
    "start_time": "2023-05-09T18:40:07.268Z"
   },
   {
    "duration": 329,
    "start_time": "2023-05-09T18:40:07.543Z"
   },
   {
    "duration": 161,
    "start_time": "2023-05-09T18:40:07.874Z"
   },
   {
    "duration": 145,
    "start_time": "2023-05-09T18:40:08.036Z"
   },
   {
    "duration": 153,
    "start_time": "2023-05-09T18:40:08.183Z"
   },
   {
    "duration": 151,
    "start_time": "2023-05-09T18:40:08.338Z"
   },
   {
    "duration": 177,
    "start_time": "2023-05-09T18:40:08.491Z"
   },
   {
    "duration": 26,
    "start_time": "2023-05-09T18:40:08.670Z"
   },
   {
    "duration": 54,
    "start_time": "2023-05-09T18:40:08.698Z"
   },
   {
    "duration": 33,
    "start_time": "2023-05-09T18:40:08.754Z"
   },
   {
    "duration": 54,
    "start_time": "2023-05-09T18:40:08.789Z"
   },
   {
    "duration": 25,
    "start_time": "2023-05-09T18:40:08.844Z"
   },
   {
    "duration": 35,
    "start_time": "2023-05-09T18:40:08.870Z"
   },
   {
    "duration": 28,
    "start_time": "2023-05-09T18:40:08.906Z"
   },
   {
    "duration": 12,
    "start_time": "2023-05-09T18:40:08.936Z"
   },
   {
    "duration": 14,
    "start_time": "2023-05-09T18:40:08.950Z"
   },
   {
    "duration": 22,
    "start_time": "2023-05-09T18:40:08.966Z"
   },
   {
    "duration": 10,
    "start_time": "2023-05-09T18:40:08.990Z"
   },
   {
    "duration": 1118,
    "start_time": "2023-05-09T19:33:17.223Z"
   },
   {
    "duration": 1083,
    "start_time": "2023-05-09T19:33:18.343Z"
   },
   {
    "duration": 35,
    "start_time": "2023-05-09T19:33:19.428Z"
   },
   {
    "duration": 18,
    "start_time": "2023-05-09T19:33:19.465Z"
   },
   {
    "duration": 15,
    "start_time": "2023-05-09T19:33:19.484Z"
   },
   {
    "duration": 34,
    "start_time": "2023-05-09T19:33:19.500Z"
   },
   {
    "duration": 45,
    "start_time": "2023-05-09T19:33:19.536Z"
   },
   {
    "duration": 6,
    "start_time": "2023-05-09T19:33:19.583Z"
   },
   {
    "duration": 6,
    "start_time": "2023-05-09T19:33:19.590Z"
   },
   {
    "duration": 41,
    "start_time": "2023-05-09T19:33:19.598Z"
   },
   {
    "duration": 23,
    "start_time": "2023-05-09T19:33:19.641Z"
   },
   {
    "duration": 8,
    "start_time": "2023-05-09T19:33:19.666Z"
   },
   {
    "duration": 15,
    "start_time": "2023-05-09T19:33:19.675Z"
   },
   {
    "duration": 5,
    "start_time": "2023-05-09T19:33:19.691Z"
   },
   {
    "duration": 50,
    "start_time": "2023-05-09T19:33:19.697Z"
   },
   {
    "duration": 5,
    "start_time": "2023-05-09T19:33:19.748Z"
   },
   {
    "duration": 5,
    "start_time": "2023-05-09T19:33:19.755Z"
   },
   {
    "duration": 6,
    "start_time": "2023-05-09T19:33:19.761Z"
   },
   {
    "duration": 5,
    "start_time": "2023-05-09T19:33:19.768Z"
   },
   {
    "duration": 9,
    "start_time": "2023-05-09T19:33:19.774Z"
   },
   {
    "duration": 6,
    "start_time": "2023-05-09T19:33:19.784Z"
   },
   {
    "duration": 44,
    "start_time": "2023-05-09T19:33:19.791Z"
   },
   {
    "duration": 4,
    "start_time": "2023-05-09T19:33:19.836Z"
   },
   {
    "duration": 34,
    "start_time": "2023-05-09T19:33:19.841Z"
   },
   {
    "duration": 5,
    "start_time": "2023-05-09T19:33:19.876Z"
   },
   {
    "duration": 5,
    "start_time": "2023-05-09T19:33:19.882Z"
   },
   {
    "duration": 52,
    "start_time": "2023-05-09T19:33:19.889Z"
   },
   {
    "duration": 18,
    "start_time": "2023-05-09T19:33:19.944Z"
   },
   {
    "duration": 724,
    "start_time": "2023-05-09T19:33:19.963Z"
   },
   {
    "duration": 2,
    "start_time": "2023-05-09T19:33:20.689Z"
   },
   {
    "duration": 20,
    "start_time": "2023-05-09T19:33:20.692Z"
   },
   {
    "duration": 2,
    "start_time": "2023-05-09T19:33:20.714Z"
   },
   {
    "duration": 29,
    "start_time": "2023-05-09T19:33:20.718Z"
   },
   {
    "duration": 7,
    "start_time": "2023-05-09T19:33:20.749Z"
   },
   {
    "duration": 27,
    "start_time": "2023-05-09T19:33:20.757Z"
   },
   {
    "duration": 2112,
    "start_time": "2023-05-09T19:33:20.785Z"
   },
   {
    "duration": 12,
    "start_time": "2023-05-09T19:33:22.899Z"
   },
   {
    "duration": 177,
    "start_time": "2023-05-09T19:33:22.913Z"
   },
   {
    "duration": 281,
    "start_time": "2023-05-09T19:33:23.092Z"
   },
   {
    "duration": 340,
    "start_time": "2023-05-09T19:33:23.375Z"
   },
   {
    "duration": 170,
    "start_time": "2023-05-09T19:33:23.717Z"
   },
   {
    "duration": 161,
    "start_time": "2023-05-09T19:33:23.889Z"
   },
   {
    "duration": 156,
    "start_time": "2023-05-09T19:33:24.052Z"
   },
   {
    "duration": 153,
    "start_time": "2023-05-09T19:33:24.210Z"
   },
   {
    "duration": 186,
    "start_time": "2023-05-09T19:33:24.364Z"
   },
   {
    "duration": 25,
    "start_time": "2023-05-09T19:33:24.551Z"
   },
   {
    "duration": 23,
    "start_time": "2023-05-09T19:33:24.578Z"
   },
   {
    "duration": 59,
    "start_time": "2023-05-09T19:33:24.602Z"
   },
   {
    "duration": 24,
    "start_time": "2023-05-09T19:33:24.663Z"
   },
   {
    "duration": 62,
    "start_time": "2023-05-09T19:33:24.689Z"
   },
   {
    "duration": 25,
    "start_time": "2023-05-09T19:33:24.753Z"
   },
   {
    "duration": 14,
    "start_time": "2023-05-09T19:33:24.779Z"
   },
   {
    "duration": 55,
    "start_time": "2023-05-09T19:33:24.794Z"
   },
   {
    "duration": 39,
    "start_time": "2023-05-09T19:33:24.851Z"
   },
   {
    "duration": 19,
    "start_time": "2023-05-09T19:33:24.891Z"
   },
   {
    "duration": 11,
    "start_time": "2023-05-09T19:33:24.912Z"
   },
   {
    "duration": 1281,
    "start_time": "2023-05-10T09:43:58.567Z"
   },
   {
    "duration": 902,
    "start_time": "2023-05-10T09:43:59.850Z"
   },
   {
    "duration": 40,
    "start_time": "2023-05-10T09:44:00.754Z"
   },
   {
    "duration": 21,
    "start_time": "2023-05-10T09:44:00.796Z"
   },
   {
    "duration": 37,
    "start_time": "2023-05-10T09:44:00.819Z"
   },
   {
    "duration": 22,
    "start_time": "2023-05-10T09:44:00.858Z"
   },
   {
    "duration": 58,
    "start_time": "2023-05-10T09:44:00.882Z"
   },
   {
    "duration": 6,
    "start_time": "2023-05-10T09:44:00.942Z"
   },
   {
    "duration": 24,
    "start_time": "2023-05-10T09:44:00.949Z"
   },
   {
    "duration": 27,
    "start_time": "2023-05-10T09:44:00.977Z"
   },
   {
    "duration": 54,
    "start_time": "2023-05-10T09:44:01.005Z"
   },
   {
    "duration": 20,
    "start_time": "2023-05-10T09:44:01.061Z"
   },
   {
    "duration": 35,
    "start_time": "2023-05-10T09:44:01.085Z"
   },
   {
    "duration": 29,
    "start_time": "2023-05-10T09:44:01.121Z"
   },
   {
    "duration": 43,
    "start_time": "2023-05-10T09:44:01.151Z"
   },
   {
    "duration": 34,
    "start_time": "2023-05-10T09:44:01.196Z"
   },
   {
    "duration": 33,
    "start_time": "2023-05-10T09:44:01.232Z"
   },
   {
    "duration": 31,
    "start_time": "2023-05-10T09:44:01.269Z"
   },
   {
    "duration": 41,
    "start_time": "2023-05-10T09:44:01.301Z"
   },
   {
    "duration": 25,
    "start_time": "2023-05-10T09:44:01.343Z"
   },
   {
    "duration": 25,
    "start_time": "2023-05-10T09:44:01.370Z"
   },
   {
    "duration": 27,
    "start_time": "2023-05-10T09:44:01.396Z"
   },
   {
    "duration": 41,
    "start_time": "2023-05-10T09:44:01.424Z"
   },
   {
    "duration": 55,
    "start_time": "2023-05-10T09:44:01.466Z"
   },
   {
    "duration": 5,
    "start_time": "2023-05-10T09:44:01.523Z"
   },
   {
    "duration": 44,
    "start_time": "2023-05-10T09:44:01.530Z"
   },
   {
    "duration": 44,
    "start_time": "2023-05-10T09:44:01.575Z"
   },
   {
    "duration": 49,
    "start_time": "2023-05-10T09:44:01.623Z"
   },
   {
    "duration": 740,
    "start_time": "2023-05-10T09:44:01.674Z"
   },
   {
    "duration": 3,
    "start_time": "2023-05-10T09:44:02.415Z"
   },
   {
    "duration": 37,
    "start_time": "2023-05-10T09:44:02.420Z"
   },
   {
    "duration": 8,
    "start_time": "2023-05-10T09:44:02.458Z"
   },
   {
    "duration": 53,
    "start_time": "2023-05-10T09:44:02.468Z"
   },
   {
    "duration": 13,
    "start_time": "2023-05-10T09:44:02.522Z"
   },
   {
    "duration": 46,
    "start_time": "2023-05-10T09:44:02.537Z"
   },
   {
    "duration": 1966,
    "start_time": "2023-05-10T09:44:02.585Z"
   },
   {
    "duration": 19,
    "start_time": "2023-05-10T09:44:04.553Z"
   },
   {
    "duration": 353,
    "start_time": "2023-05-10T09:44:04.573Z"
   },
   {
    "duration": 245,
    "start_time": "2023-05-10T09:44:04.928Z"
   },
   {
    "duration": 298,
    "start_time": "2023-05-10T09:44:05.174Z"
   },
   {
    "duration": 160,
    "start_time": "2023-05-10T09:44:05.474Z"
   },
   {
    "duration": 157,
    "start_time": "2023-05-10T09:44:05.636Z"
   },
   {
    "duration": 162,
    "start_time": "2023-05-10T09:44:05.795Z"
   },
   {
    "duration": 141,
    "start_time": "2023-05-10T09:44:05.959Z"
   },
   {
    "duration": 176,
    "start_time": "2023-05-10T09:44:06.102Z"
   },
   {
    "duration": 31,
    "start_time": "2023-05-10T09:44:06.280Z"
   },
   {
    "duration": 43,
    "start_time": "2023-05-10T09:44:06.313Z"
   },
   {
    "duration": 47,
    "start_time": "2023-05-10T09:44:06.357Z"
   },
   {
    "duration": 41,
    "start_time": "2023-05-10T09:44:06.405Z"
   },
   {
    "duration": 52,
    "start_time": "2023-05-10T09:44:06.448Z"
   },
   {
    "duration": 47,
    "start_time": "2023-05-10T09:44:06.502Z"
   },
   {
    "duration": 24,
    "start_time": "2023-05-10T09:44:06.551Z"
   },
   {
    "duration": 18,
    "start_time": "2023-05-10T09:44:06.577Z"
   },
   {
    "duration": 14,
    "start_time": "2023-05-10T09:44:06.597Z"
   },
   {
    "duration": 14,
    "start_time": "2023-05-10T09:44:06.613Z"
   },
   {
    "duration": 10,
    "start_time": "2023-05-10T09:44:06.629Z"
   },
   {
    "duration": 1269,
    "start_time": "2023-05-10T10:28:55.228Z"
   },
   {
    "duration": 954,
    "start_time": "2023-05-10T10:28:56.499Z"
   },
   {
    "duration": 32,
    "start_time": "2023-05-10T10:28:57.455Z"
   },
   {
    "duration": 19,
    "start_time": "2023-05-10T10:28:57.489Z"
   },
   {
    "duration": 23,
    "start_time": "2023-05-10T10:28:57.509Z"
   },
   {
    "duration": 4,
    "start_time": "2023-05-10T10:28:57.533Z"
   },
   {
    "duration": 64,
    "start_time": "2023-05-10T10:28:57.538Z"
   },
   {
    "duration": 6,
    "start_time": "2023-05-10T10:28:57.604Z"
   },
   {
    "duration": 7,
    "start_time": "2023-05-10T10:28:57.612Z"
   },
   {
    "duration": 20,
    "start_time": "2023-05-10T10:28:57.622Z"
   },
   {
    "duration": 19,
    "start_time": "2023-05-10T10:28:57.644Z"
   },
   {
    "duration": 17,
    "start_time": "2023-05-10T10:28:57.665Z"
   },
   {
    "duration": 15,
    "start_time": "2023-05-10T10:28:57.683Z"
   },
   {
    "duration": 14,
    "start_time": "2023-05-10T10:28:57.699Z"
   },
   {
    "duration": 35,
    "start_time": "2023-05-10T10:28:57.714Z"
   },
   {
    "duration": 6,
    "start_time": "2023-05-10T10:28:57.751Z"
   },
   {
    "duration": 14,
    "start_time": "2023-05-10T10:28:57.758Z"
   },
   {
    "duration": 5,
    "start_time": "2023-05-10T10:28:57.774Z"
   },
   {
    "duration": 7,
    "start_time": "2023-05-10T10:28:57.781Z"
   },
   {
    "duration": 5,
    "start_time": "2023-05-10T10:28:57.789Z"
   },
   {
    "duration": 5,
    "start_time": "2023-05-10T10:28:57.796Z"
   },
   {
    "duration": 10,
    "start_time": "2023-05-10T10:28:57.802Z"
   },
   {
    "duration": 5,
    "start_time": "2023-05-10T10:28:57.814Z"
   },
   {
    "duration": 39,
    "start_time": "2023-05-10T10:28:57.821Z"
   },
   {
    "duration": 23,
    "start_time": "2023-05-10T10:28:57.861Z"
   },
   {
    "duration": 4,
    "start_time": "2023-05-10T10:28:57.886Z"
   },
   {
    "duration": 21,
    "start_time": "2023-05-10T10:28:57.891Z"
   },
   {
    "duration": 22,
    "start_time": "2023-05-10T10:28:57.915Z"
   },
   {
    "duration": 824,
    "start_time": "2023-05-10T10:28:57.939Z"
   },
   {
    "duration": 3,
    "start_time": "2023-05-10T10:28:58.764Z"
   },
   {
    "duration": 19,
    "start_time": "2023-05-10T10:28:58.769Z"
   },
   {
    "duration": 12,
    "start_time": "2023-05-10T10:28:58.790Z"
   },
   {
    "duration": 19,
    "start_time": "2023-05-10T10:28:58.804Z"
   },
   {
    "duration": 11,
    "start_time": "2023-05-10T10:28:58.824Z"
   },
   {
    "duration": 29,
    "start_time": "2023-05-10T10:28:58.836Z"
   },
   {
    "duration": 2567,
    "start_time": "2023-05-10T10:28:58.866Z"
   },
   {
    "duration": 12,
    "start_time": "2023-05-10T10:29:01.435Z"
   },
   {
    "duration": 283,
    "start_time": "2023-05-10T10:29:01.449Z"
   },
   {
    "duration": 202,
    "start_time": "2023-05-10T10:29:01.734Z"
   },
   {
    "duration": 367,
    "start_time": "2023-05-10T10:29:01.938Z"
   },
   {
    "duration": 170,
    "start_time": "2023-05-10T10:29:02.307Z"
   },
   {
    "duration": 164,
    "start_time": "2023-05-10T10:29:02.479Z"
   },
   {
    "duration": 159,
    "start_time": "2023-05-10T10:29:02.645Z"
   },
   {
    "duration": 170,
    "start_time": "2023-05-10T10:29:02.806Z"
   },
   {
    "duration": 182,
    "start_time": "2023-05-10T10:29:02.978Z"
   },
   {
    "duration": 40,
    "start_time": "2023-05-10T10:29:03.162Z"
   },
   {
    "duration": 57,
    "start_time": "2023-05-10T10:29:03.204Z"
   },
   {
    "duration": 65,
    "start_time": "2023-05-10T10:29:03.263Z"
   },
   {
    "duration": 39,
    "start_time": "2023-05-10T10:29:03.330Z"
   },
   {
    "duration": 48,
    "start_time": "2023-05-10T10:29:03.371Z"
   },
   {
    "duration": 52,
    "start_time": "2023-05-10T10:29:03.420Z"
   },
   {
    "duration": 18,
    "start_time": "2023-05-10T10:29:03.473Z"
   },
   {
    "duration": 56,
    "start_time": "2023-05-10T10:29:03.493Z"
   },
   {
    "duration": 27,
    "start_time": "2023-05-10T10:29:03.550Z"
   },
   {
    "duration": 37,
    "start_time": "2023-05-10T10:29:03.579Z"
   },
   {
    "duration": 32,
    "start_time": "2023-05-10T10:29:03.617Z"
   },
   {
    "duration": 1201,
    "start_time": "2023-05-10T10:29:29.010Z"
   },
   {
    "duration": 1032,
    "start_time": "2023-05-10T10:29:30.213Z"
   },
   {
    "duration": 34,
    "start_time": "2023-05-10T10:29:31.247Z"
   },
   {
    "duration": 52,
    "start_time": "2023-05-10T10:29:31.283Z"
   },
   {
    "duration": 47,
    "start_time": "2023-05-10T10:29:31.337Z"
   },
   {
    "duration": 27,
    "start_time": "2023-05-10T10:29:31.386Z"
   },
   {
    "duration": 96,
    "start_time": "2023-05-10T10:29:31.414Z"
   },
   {
    "duration": 7,
    "start_time": "2023-05-10T10:29:31.512Z"
   },
   {
    "duration": 40,
    "start_time": "2023-05-10T10:29:31.521Z"
   },
   {
    "duration": 57,
    "start_time": "2023-05-10T10:29:31.564Z"
   },
   {
    "duration": 51,
    "start_time": "2023-05-10T10:29:31.623Z"
   },
   {
    "duration": 4,
    "start_time": "2023-05-10T10:29:31.676Z"
   },
   {
    "duration": 22,
    "start_time": "2023-05-10T10:29:31.681Z"
   },
   {
    "duration": 18,
    "start_time": "2023-05-10T10:29:31.704Z"
   },
   {
    "duration": 37,
    "start_time": "2023-05-10T10:29:31.724Z"
   },
   {
    "duration": 9,
    "start_time": "2023-05-10T10:29:31.764Z"
   },
   {
    "duration": 14,
    "start_time": "2023-05-10T10:29:31.775Z"
   },
   {
    "duration": 14,
    "start_time": "2023-05-10T10:29:31.791Z"
   },
   {
    "duration": 22,
    "start_time": "2023-05-10T10:29:31.807Z"
   },
   {
    "duration": 26,
    "start_time": "2023-05-10T10:29:31.831Z"
   },
   {
    "duration": 27,
    "start_time": "2023-05-10T10:29:31.859Z"
   },
   {
    "duration": 20,
    "start_time": "2023-05-10T10:29:31.887Z"
   },
   {
    "duration": 20,
    "start_time": "2023-05-10T10:29:31.908Z"
   },
   {
    "duration": 42,
    "start_time": "2023-05-10T10:29:31.929Z"
   },
   {
    "duration": 5,
    "start_time": "2023-05-10T10:29:31.973Z"
   },
   {
    "duration": 24,
    "start_time": "2023-05-10T10:29:31.979Z"
   },
   {
    "duration": 57,
    "start_time": "2023-05-10T10:29:32.005Z"
   },
   {
    "duration": 20,
    "start_time": "2023-05-10T10:29:32.065Z"
   },
   {
    "duration": 916,
    "start_time": "2023-05-10T10:29:32.086Z"
   },
   {
    "duration": 3,
    "start_time": "2023-05-10T10:29:33.003Z"
   },
   {
    "duration": 76,
    "start_time": "2023-05-10T10:29:33.007Z"
   },
   {
    "duration": 3,
    "start_time": "2023-05-10T10:29:33.085Z"
   },
   {
    "duration": 49,
    "start_time": "2023-05-10T10:29:33.090Z"
   },
   {
    "duration": 44,
    "start_time": "2023-05-10T10:29:33.140Z"
   },
   {
    "duration": 40,
    "start_time": "2023-05-10T10:29:33.186Z"
   },
   {
    "duration": 2907,
    "start_time": "2023-05-10T10:29:33.228Z"
   },
   {
    "duration": 10,
    "start_time": "2023-05-10T10:29:36.136Z"
   },
   {
    "duration": 260,
    "start_time": "2023-05-10T10:29:36.147Z"
   },
   {
    "duration": 202,
    "start_time": "2023-05-10T10:29:36.408Z"
   },
   {
    "duration": 340,
    "start_time": "2023-05-10T10:29:36.611Z"
   },
   {
    "duration": 173,
    "start_time": "2023-05-10T10:29:36.952Z"
   },
   {
    "duration": 162,
    "start_time": "2023-05-10T10:29:37.126Z"
   },
   {
    "duration": 170,
    "start_time": "2023-05-10T10:29:37.289Z"
   },
   {
    "duration": 170,
    "start_time": "2023-05-10T10:29:37.461Z"
   },
   {
    "duration": 181,
    "start_time": "2023-05-10T10:29:37.633Z"
   },
   {
    "duration": 27,
    "start_time": "2023-05-10T10:29:37.815Z"
   },
   {
    "duration": 41,
    "start_time": "2023-05-10T10:29:37.844Z"
   },
   {
    "duration": 31,
    "start_time": "2023-05-10T10:29:37.887Z"
   },
   {
    "duration": 28,
    "start_time": "2023-05-10T10:29:37.920Z"
   },
   {
    "duration": 57,
    "start_time": "2023-05-10T10:29:37.949Z"
   },
   {
    "duration": 27,
    "start_time": "2023-05-10T10:29:38.008Z"
   },
   {
    "duration": 15,
    "start_time": "2023-05-10T10:29:38.037Z"
   },
   {
    "duration": 40,
    "start_time": "2023-05-10T10:29:38.055Z"
   },
   {
    "duration": 13,
    "start_time": "2023-05-10T10:29:38.096Z"
   },
   {
    "duration": 7,
    "start_time": "2023-05-10T10:29:38.111Z"
   },
   {
    "duration": 8,
    "start_time": "2023-05-10T10:29:38.120Z"
   },
   {
    "duration": 11,
    "start_time": "2023-05-10T10:30:46.734Z"
   },
   {
    "duration": 9,
    "start_time": "2023-05-10T10:30:54.629Z"
   },
   {
    "duration": 9,
    "start_time": "2023-05-10T10:31:04.261Z"
   },
   {
    "duration": 10,
    "start_time": "2023-05-10T10:31:19.930Z"
   },
   {
    "duration": 9,
    "start_time": "2023-05-10T10:31:36.832Z"
   },
   {
    "duration": 11,
    "start_time": "2023-05-10T10:32:08.412Z"
   },
   {
    "duration": 10,
    "start_time": "2023-05-10T10:32:26.541Z"
   },
   {
    "duration": 1575,
    "start_time": "2023-05-11T12:09:30.320Z"
   },
   {
    "duration": 872,
    "start_time": "2023-05-11T12:09:31.897Z"
   },
   {
    "duration": 34,
    "start_time": "2023-05-11T12:09:32.772Z"
   },
   {
    "duration": 23,
    "start_time": "2023-05-11T12:09:32.809Z"
   },
   {
    "duration": 34,
    "start_time": "2023-05-11T12:09:32.835Z"
   },
   {
    "duration": 7,
    "start_time": "2023-05-11T12:09:32.871Z"
   },
   {
    "duration": 61,
    "start_time": "2023-05-11T12:09:32.879Z"
   },
   {
    "duration": 7,
    "start_time": "2023-05-11T12:09:32.956Z"
   },
   {
    "duration": 10,
    "start_time": "2023-05-11T12:09:32.965Z"
   },
   {
    "duration": 14,
    "start_time": "2023-05-11T12:09:32.978Z"
   },
   {
    "duration": 34,
    "start_time": "2023-05-11T12:09:32.995Z"
   },
   {
    "duration": 6,
    "start_time": "2023-05-11T12:09:33.056Z"
   },
   {
    "duration": 24,
    "start_time": "2023-05-11T12:09:33.065Z"
   },
   {
    "duration": 7,
    "start_time": "2023-05-11T12:09:33.092Z"
   },
   {
    "duration": 26,
    "start_time": "2023-05-11T12:09:33.101Z"
   },
   {
    "duration": 27,
    "start_time": "2023-05-11T12:09:33.132Z"
   },
   {
    "duration": 6,
    "start_time": "2023-05-11T12:09:33.160Z"
   },
   {
    "duration": 12,
    "start_time": "2023-05-11T12:09:33.168Z"
   },
   {
    "duration": 14,
    "start_time": "2023-05-11T12:09:33.182Z"
   },
   {
    "duration": 34,
    "start_time": "2023-05-11T12:09:33.198Z"
   },
   {
    "duration": 7,
    "start_time": "2023-05-11T12:09:33.234Z"
   },
   {
    "duration": 23,
    "start_time": "2023-05-11T12:09:33.243Z"
   },
   {
    "duration": 7,
    "start_time": "2023-05-11T12:09:33.268Z"
   },
   {
    "duration": 44,
    "start_time": "2023-05-11T12:09:33.277Z"
   },
   {
    "duration": 7,
    "start_time": "2023-05-11T12:09:33.323Z"
   },
   {
    "duration": 5,
    "start_time": "2023-05-11T12:09:33.332Z"
   },
   {
    "duration": 28,
    "start_time": "2023-05-11T12:09:33.339Z"
   },
   {
    "duration": 22,
    "start_time": "2023-05-11T12:09:33.371Z"
   },
   {
    "duration": 917,
    "start_time": "2023-05-11T12:09:33.394Z"
   },
   {
    "duration": 3,
    "start_time": "2023-05-11T12:09:34.313Z"
   },
   {
    "duration": 43,
    "start_time": "2023-05-11T12:09:34.318Z"
   },
   {
    "duration": 6,
    "start_time": "2023-05-11T12:09:34.364Z"
   },
   {
    "duration": 26,
    "start_time": "2023-05-11T12:09:34.372Z"
   },
   {
    "duration": 4,
    "start_time": "2023-05-11T12:09:34.399Z"
   },
   {
    "duration": 31,
    "start_time": "2023-05-11T12:09:34.405Z"
   },
   {
    "duration": 2487,
    "start_time": "2023-05-11T12:09:34.439Z"
   },
   {
    "duration": 15,
    "start_time": "2023-05-11T12:09:36.928Z"
   },
   {
    "duration": 276,
    "start_time": "2023-05-11T12:09:36.945Z"
   },
   {
    "duration": 227,
    "start_time": "2023-05-11T12:09:37.224Z"
   },
   {
    "duration": 361,
    "start_time": "2023-05-11T12:09:37.453Z"
   },
   {
    "duration": 184,
    "start_time": "2023-05-11T12:09:37.816Z"
   },
   {
    "duration": 173,
    "start_time": "2023-05-11T12:09:38.002Z"
   },
   {
    "duration": 164,
    "start_time": "2023-05-11T12:09:38.176Z"
   },
   {
    "duration": 177,
    "start_time": "2023-05-11T12:09:38.342Z"
   },
   {
    "duration": 183,
    "start_time": "2023-05-11T12:09:38.520Z"
   },
   {
    "duration": 31,
    "start_time": "2023-05-11T12:09:38.705Z"
   },
   {
    "duration": 37,
    "start_time": "2023-05-11T12:09:38.757Z"
   },
   {
    "duration": 35,
    "start_time": "2023-05-11T12:09:38.796Z"
   },
   {
    "duration": 29,
    "start_time": "2023-05-11T12:09:38.856Z"
   },
   {
    "duration": 33,
    "start_time": "2023-05-11T12:09:38.887Z"
   },
   {
    "duration": 57,
    "start_time": "2023-05-11T12:09:38.922Z"
   },
   {
    "duration": 17,
    "start_time": "2023-05-11T12:09:38.980Z"
   },
   {
    "duration": 17,
    "start_time": "2023-05-11T12:09:38.998Z"
   },
   {
    "duration": 46,
    "start_time": "2023-05-11T12:09:39.017Z"
   },
   {
    "duration": 8,
    "start_time": "2023-05-11T12:09:39.065Z"
   },
   {
    "duration": 10,
    "start_time": "2023-05-11T12:09:39.075Z"
   },
   {
    "duration": 80,
    "start_time": "2023-05-13T15:43:06.358Z"
   },
   {
    "duration": 1195,
    "start_time": "2023-05-13T15:43:11.894Z"
   },
   {
    "duration": 1116,
    "start_time": "2023-05-13T15:43:13.091Z"
   },
   {
    "duration": 46,
    "start_time": "2023-05-13T15:43:14.209Z"
   },
   {
    "duration": 29,
    "start_time": "2023-05-13T15:43:14.259Z"
   },
   {
    "duration": 33,
    "start_time": "2023-05-13T15:43:14.290Z"
   },
   {
    "duration": 4,
    "start_time": "2023-05-13T15:43:14.325Z"
   },
   {
    "duration": 80,
    "start_time": "2023-05-13T15:43:14.331Z"
   },
   {
    "duration": 9,
    "start_time": "2023-05-13T15:43:14.413Z"
   },
   {
    "duration": 14,
    "start_time": "2023-05-13T15:43:14.424Z"
   },
   {
    "duration": 16,
    "start_time": "2023-05-13T15:43:14.441Z"
   },
   {
    "duration": 22,
    "start_time": "2023-05-13T15:43:14.459Z"
   },
   {
    "duration": 7,
    "start_time": "2023-05-13T15:43:14.483Z"
   },
   {
    "duration": 42,
    "start_time": "2023-05-13T15:43:14.492Z"
   },
   {
    "duration": 6,
    "start_time": "2023-05-13T15:43:14.536Z"
   },
   {
    "duration": 37,
    "start_time": "2023-05-13T15:43:14.544Z"
   },
   {
    "duration": 11,
    "start_time": "2023-05-13T15:43:14.583Z"
   },
   {
    "duration": 9,
    "start_time": "2023-05-13T15:43:14.596Z"
   },
   {
    "duration": 5,
    "start_time": "2023-05-13T15:43:14.617Z"
   },
   {
    "duration": 18,
    "start_time": "2023-05-13T15:43:14.624Z"
   },
   {
    "duration": 18,
    "start_time": "2023-05-13T15:43:14.644Z"
   },
   {
    "duration": 15,
    "start_time": "2023-05-13T15:43:14.664Z"
   },
   {
    "duration": 16,
    "start_time": "2023-05-13T15:43:14.681Z"
   },
   {
    "duration": 8,
    "start_time": "2023-05-13T15:43:14.699Z"
   },
   {
    "duration": 45,
    "start_time": "2023-05-13T15:43:14.710Z"
   },
   {
    "duration": 7,
    "start_time": "2023-05-13T15:43:14.757Z"
   },
   {
    "duration": 32,
    "start_time": "2023-05-13T15:43:14.765Z"
   },
   {
    "duration": 20,
    "start_time": "2023-05-13T15:43:14.799Z"
   },
   {
    "duration": 27,
    "start_time": "2023-05-13T15:43:14.824Z"
   },
   {
    "duration": 782,
    "start_time": "2023-05-13T15:43:14.853Z"
   },
   {
    "duration": 3,
    "start_time": "2023-05-13T15:43:15.637Z"
   },
   {
    "duration": 24,
    "start_time": "2023-05-13T15:43:15.642Z"
   },
   {
    "duration": 3,
    "start_time": "2023-05-13T15:43:15.668Z"
   },
   {
    "duration": 19,
    "start_time": "2023-05-13T15:43:15.673Z"
   },
   {
    "duration": 24,
    "start_time": "2023-05-13T15:43:15.693Z"
   },
   {
    "duration": 34,
    "start_time": "2023-05-13T15:43:15.719Z"
   },
   {
    "duration": 2078,
    "start_time": "2023-05-13T15:43:15.755Z"
   },
   {
    "duration": 9,
    "start_time": "2023-05-13T15:43:17.835Z"
   },
   {
    "duration": 242,
    "start_time": "2023-05-13T15:43:17.846Z"
   },
   {
    "duration": 249,
    "start_time": "2023-05-13T15:43:18.092Z"
   },
   {
    "duration": 340,
    "start_time": "2023-05-13T15:43:18.343Z"
   },
   {
    "duration": 184,
    "start_time": "2023-05-13T15:43:18.685Z"
   },
   {
    "duration": 218,
    "start_time": "2023-05-13T15:43:18.871Z"
   },
   {
    "duration": 172,
    "start_time": "2023-05-13T15:43:19.090Z"
   },
   {
    "duration": 184,
    "start_time": "2023-05-13T15:43:19.264Z"
   },
   {
    "duration": 197,
    "start_time": "2023-05-13T15:43:19.450Z"
   },
   {
    "duration": 42,
    "start_time": "2023-05-13T15:43:19.650Z"
   },
   {
    "duration": 49,
    "start_time": "2023-05-13T15:43:19.694Z"
   },
   {
    "duration": 35,
    "start_time": "2023-05-13T15:43:19.745Z"
   },
   {
    "duration": 67,
    "start_time": "2023-05-13T15:43:19.782Z"
   },
   {
    "duration": 32,
    "start_time": "2023-05-13T15:43:19.850Z"
   },
   {
    "duration": 51,
    "start_time": "2023-05-13T15:43:19.884Z"
   },
   {
    "duration": 15,
    "start_time": "2023-05-13T15:43:19.936Z"
   },
   {
    "duration": 35,
    "start_time": "2023-05-13T15:43:19.953Z"
   },
   {
    "duration": 13,
    "start_time": "2023-05-13T15:43:19.990Z"
   },
   {
    "duration": 12,
    "start_time": "2023-05-13T15:43:20.017Z"
   },
   {
    "duration": 17,
    "start_time": "2023-05-13T15:43:20.030Z"
   },
   {
    "duration": 22,
    "start_time": "2023-05-13T15:43:20.049Z"
   },
   {
    "duration": 62,
    "start_time": "2023-05-14T14:05:49.885Z"
   },
   {
    "duration": 1215,
    "start_time": "2023-05-14T14:06:14.495Z"
   },
   {
    "duration": 1304,
    "start_time": "2023-05-14T14:06:15.712Z"
   },
   {
    "duration": 35,
    "start_time": "2023-05-14T14:06:17.017Z"
   },
   {
    "duration": 19,
    "start_time": "2023-05-14T14:06:17.054Z"
   },
   {
    "duration": 13,
    "start_time": "2023-05-14T14:06:17.074Z"
   },
   {
    "duration": 47,
    "start_time": "2023-05-14T14:06:17.088Z"
   },
   {
    "duration": 56,
    "start_time": "2023-05-14T14:06:17.137Z"
   },
   {
    "duration": 6,
    "start_time": "2023-05-14T14:06:17.195Z"
   },
   {
    "duration": 11,
    "start_time": "2023-05-14T14:06:17.202Z"
   },
   {
    "duration": 31,
    "start_time": "2023-05-14T14:06:17.215Z"
   },
   {
    "duration": 20,
    "start_time": "2023-05-14T14:06:17.248Z"
   },
   {
    "duration": 11,
    "start_time": "2023-05-14T14:06:17.270Z"
   },
   {
    "duration": 12,
    "start_time": "2023-05-14T14:06:17.282Z"
   },
   {
    "duration": 8,
    "start_time": "2023-05-14T14:06:17.295Z"
   },
   {
    "duration": 26,
    "start_time": "2023-05-14T14:06:17.305Z"
   },
   {
    "duration": 9,
    "start_time": "2023-05-14T14:06:17.333Z"
   },
   {
    "duration": 12,
    "start_time": "2023-05-14T14:06:17.343Z"
   },
   {
    "duration": 5,
    "start_time": "2023-05-14T14:06:17.357Z"
   },
   {
    "duration": 5,
    "start_time": "2023-05-14T14:06:17.364Z"
   },
   {
    "duration": 5,
    "start_time": "2023-05-14T14:06:17.371Z"
   },
   {
    "duration": 5,
    "start_time": "2023-05-14T14:06:17.377Z"
   },
   {
    "duration": 5,
    "start_time": "2023-05-14T14:06:17.384Z"
   },
   {
    "duration": 47,
    "start_time": "2023-05-14T14:06:17.390Z"
   },
   {
    "duration": 35,
    "start_time": "2023-05-14T14:06:17.439Z"
   },
   {
    "duration": 9,
    "start_time": "2023-05-14T14:06:17.476Z"
   },
   {
    "duration": 13,
    "start_time": "2023-05-14T14:06:17.487Z"
   },
   {
    "duration": 35,
    "start_time": "2023-05-14T14:06:17.501Z"
   },
   {
    "duration": 30,
    "start_time": "2023-05-14T14:06:17.541Z"
   },
   {
    "duration": 713,
    "start_time": "2023-05-14T14:06:17.572Z"
   },
   {
    "duration": 3,
    "start_time": "2023-05-14T14:06:18.286Z"
   },
   {
    "duration": 22,
    "start_time": "2023-05-14T14:06:18.291Z"
   },
   {
    "duration": 3,
    "start_time": "2023-05-14T14:06:18.337Z"
   },
   {
    "duration": 22,
    "start_time": "2023-05-14T14:06:18.342Z"
   },
   {
    "duration": 3,
    "start_time": "2023-05-14T14:06:18.366Z"
   },
   {
    "duration": 33,
    "start_time": "2023-05-14T14:06:18.371Z"
   },
   {
    "duration": 2087,
    "start_time": "2023-05-14T14:06:18.406Z"
   },
   {
    "duration": 9,
    "start_time": "2023-05-14T14:06:20.497Z"
   },
   {
    "duration": 260,
    "start_time": "2023-05-14T14:06:20.507Z"
   },
   {
    "duration": 232,
    "start_time": "2023-05-14T14:06:20.769Z"
   },
   {
    "duration": 358,
    "start_time": "2023-05-14T14:06:21.002Z"
   },
   {
    "duration": 226,
    "start_time": "2023-05-14T14:06:21.362Z"
   },
   {
    "duration": 202,
    "start_time": "2023-05-14T14:06:21.590Z"
   },
   {
    "duration": 172,
    "start_time": "2023-05-14T14:06:21.793Z"
   },
   {
    "duration": 172,
    "start_time": "2023-05-14T14:06:21.966Z"
   },
   {
    "duration": 192,
    "start_time": "2023-05-14T14:06:22.140Z"
   },
   {
    "duration": 31,
    "start_time": "2023-05-14T14:06:22.334Z"
   },
   {
    "duration": 29,
    "start_time": "2023-05-14T14:06:22.366Z"
   },
   {
    "duration": 69,
    "start_time": "2023-05-14T14:06:22.396Z"
   },
   {
    "duration": 32,
    "start_time": "2023-05-14T14:06:22.466Z"
   },
   {
    "duration": 48,
    "start_time": "2023-05-14T14:06:22.500Z"
   },
   {
    "duration": 29,
    "start_time": "2023-05-14T14:06:22.550Z"
   },
   {
    "duration": 20,
    "start_time": "2023-05-14T14:06:22.580Z"
   },
   {
    "duration": 36,
    "start_time": "2023-05-14T14:06:22.602Z"
   },
   {
    "duration": 15,
    "start_time": "2023-05-14T14:06:22.640Z"
   },
   {
    "duration": 10,
    "start_time": "2023-05-14T14:06:22.656Z"
   },
   {
    "duration": 13,
    "start_time": "2023-05-14T14:06:22.668Z"
   }
  ],
  "kernelspec": {
   "display_name": "Python 3 (ipykernel)",
   "language": "python",
   "name": "python3"
  },
  "language_info": {
   "codemirror_mode": {
    "name": "ipython",
    "version": 3
   },
   "file_extension": ".py",
   "mimetype": "text/x-python",
   "name": "python",
   "nbconvert_exporter": "python",
   "pygments_lexer": "ipython3",
   "version": "3.9.5"
  },
  "toc": {
   "base_numbering": 1,
   "nav_menu": {
    "height": "71px",
    "width": "199px"
   },
   "number_sections": true,
   "sideBar": true,
   "skip_h1_title": true,
   "title_cell": "Table of Contents",
   "title_sidebar": "Contents",
   "toc_cell": false,
   "toc_position": {
    "height": "calc(100% - 180px)",
    "left": "10px",
    "top": "150px",
    "width": "254px"
   },
   "toc_section_display": true,
   "toc_window_display": true
  }
 },
 "nbformat": 4,
 "nbformat_minor": 2
}
