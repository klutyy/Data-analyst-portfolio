{
 "cells": [
  {
   "cell_type": "markdown",
   "metadata": {
    "toc": true
   },
   "source": [
    "<h1>Содержание<span class=\"tocSkip\"></span></h1>\n",
    "<div class=\"toc\"><ul class=\"toc-item\"><li><span><a href=\"#Предобработка-данных\" data-toc-modified-id=\"Предобработка-данных-1\"><span class=\"toc-item-num\">1&nbsp;&nbsp;</span>Предобработка данных</a></span><ul class=\"toc-item\"><li><span><a href=\"#Обработка-пропусков-и-преобразование-типов-данных\" data-toc-modified-id=\"Обработка-пропусков-и-преобразование-типов-данных-1.1\"><span class=\"toc-item-num\">1.1&nbsp;&nbsp;</span>Обработка пропусков и преобразование типов данных</a></span></li><li><span><a href=\"#Устранение-дубликатов\" data-toc-modified-id=\"Устранение-дубликатов-1.2\"><span class=\"toc-item-num\">1.2&nbsp;&nbsp;</span>Устранение дубликатов</a></span></li></ul></li><li><span><a href=\"#Исследовательский-анализ-данных\" data-toc-modified-id=\"Исследовательский-анализ-данных-2\"><span class=\"toc-item-num\">2&nbsp;&nbsp;</span>Исследовательский анализ данных</a></span><ul class=\"toc-item\"><li><span><a href=\"#Количество-продаж-игр\" data-toc-modified-id=\"Количество-продаж-игр-2.1\"><span class=\"toc-item-num\">2.1&nbsp;&nbsp;</span>Количество продаж игр</a></span></li><li><span><a href=\"#Перспективные-платформы-и-актуальный-период\" data-toc-modified-id=\"Перспективные-платформы-и-актуальный-период-2.2\"><span class=\"toc-item-num\">2.2&nbsp;&nbsp;</span>Перспективные платформы и актуальный период</a></span></li><li><span><a href=\"#Влияние-оценок-критиков-и-пользователей\" data-toc-modified-id=\"Влияние-оценок-критиков-и-пользователей-2.3\"><span class=\"toc-item-num\">2.3&nbsp;&nbsp;</span>Влияние оценок критиков и пользователей</a></span></li><li><span><a href=\"#Жанры\" data-toc-modified-id=\"Жанры-2.4\"><span class=\"toc-item-num\">2.4&nbsp;&nbsp;</span>Жанры</a></span></li><li><span><a href=\"#Регионы\" data-toc-modified-id=\"Регионы-2.5\"><span class=\"toc-item-num\">2.5&nbsp;&nbsp;</span>Регионы</a></span></li></ul></li><li><span><a href=\"#Проверка-гипотез\" data-toc-modified-id=\"Проверка-гипотез-3\"><span class=\"toc-item-num\">3&nbsp;&nbsp;</span>Проверка гипотез</a></span></li><li><span><a href=\"#Вывод\" data-toc-modified-id=\"Вывод-4\"><span class=\"toc-item-num\">4&nbsp;&nbsp;</span>Вывод</a></span></li></ul></div>"
   ]
  },
  {
   "cell_type": "markdown",
   "metadata": {
    "id": "IWx5roIqhyHj"
   },
   "source": [
    "# Исследование исторических данных о продажах игр, оценках пользователей и экспертов, жанров и платфортформ.\n",
    "\n",
    "---\n",
    "**Цель исследования:**\n",
    "\n",
    "> 1. Выявить определяющие успешность игры закономерности\n",
    " \n",
    "> Данные я получу из файла '/datasets/games.csv'. О качестве данных неизвестно, поэтому прежде чем формировать какие-то выводы и приступать к цели исследования. Нужен обзор данных.\n",
    "\n",
    "> Я проверю все данные на ошибки и оценю их влияние на исследование. Затем, на этапе предобработки я поищу возможность исправить все ошибки данных, которые не приведут к искажению результата. Далее, составлю портрет пользователя каждого региона, проверю выдвинутые гипотезы, и приступлю к цели исследования.\n",
    "\n",
    "> Таким образом исследование пройдет в семь этапов:\n",
    "1. Обзор данных \n",
    "2. Предобработка данных\n",
    "3. Расчеты и добавление результатов в таблицу\n",
    "4. Проведение анализа для платформ \n",
    "5. Проведение анализа для регионов\n",
    "6. Проверка гипотез\n",
    "7. Конечный вывод исследования\n",
    "\n",
    "\n"
   ]
  },
  {
   "cell_type": "code",
   "execution_count": 1,
   "metadata": {
    "id": "AeVO10h4jaQi"
   },
   "outputs": [],
   "source": [
    "import numpy as np\n",
    "import pandas as pd\n",
    "import matplotlib.pyplot as plt\n",
    "import seaborn as sns\n",
    "from scipy import stats as st"
   ]
  },
  {
   "cell_type": "code",
   "execution_count": 2,
   "metadata": {},
   "outputs": [],
   "source": [
    "try:\n",
    "    df = pd.read_csv('/datasets/games.csv')\n",
    "except:\n",
    "    df = pd.read_csv('https://code.s3.yandex.net/datasets/games.csv',)"
   ]
  },
  {
   "cell_type": "code",
   "execution_count": 3,
   "metadata": {
    "colab": {
     "base_uri": "https://localhost:8080/",
     "height": 519
    },
    "id": "wgV_oZKoY48a",
    "outputId": "f8182620-62de-454f-a91b-84638a8f93c5"
   },
   "outputs": [
    {
     "name": "stdout",
     "output_type": "stream",
     "text": [
      "<class 'pandas.core.frame.DataFrame'>\n",
      "RangeIndex: 16715 entries, 0 to 16714\n",
      "Data columns (total 11 columns):\n",
      " #   Column           Non-Null Count  Dtype  \n",
      "---  ------           --------------  -----  \n",
      " 0   Name             16713 non-null  object \n",
      " 1   Platform         16715 non-null  object \n",
      " 2   Year_of_Release  16446 non-null  float64\n",
      " 3   Genre            16713 non-null  object \n",
      " 4   NA_sales         16715 non-null  float64\n",
      " 5   EU_sales         16715 non-null  float64\n",
      " 6   JP_sales         16715 non-null  float64\n",
      " 7   Other_sales      16715 non-null  float64\n",
      " 8   Critic_Score     8137 non-null   float64\n",
      " 9   User_Score       10014 non-null  object \n",
      " 10  Rating           9949 non-null   object \n",
      "dtypes: float64(6), object(5)\n",
      "memory usage: 1.4+ MB\n"
     ]
    },
    {
     "data": {
      "text/html": [
       "<div>\n",
       "<style scoped>\n",
       "    .dataframe tbody tr th:only-of-type {\n",
       "        vertical-align: middle;\n",
       "    }\n",
       "\n",
       "    .dataframe tbody tr th {\n",
       "        vertical-align: top;\n",
       "    }\n",
       "\n",
       "    .dataframe thead th {\n",
       "        text-align: right;\n",
       "    }\n",
       "</style>\n",
       "<table border=\"1\" class=\"dataframe\">\n",
       "  <thead>\n",
       "    <tr style=\"text-align: right;\">\n",
       "      <th></th>\n",
       "      <th>Name</th>\n",
       "      <th>Platform</th>\n",
       "      <th>Year_of_Release</th>\n",
       "      <th>Genre</th>\n",
       "      <th>NA_sales</th>\n",
       "      <th>EU_sales</th>\n",
       "      <th>JP_sales</th>\n",
       "      <th>Other_sales</th>\n",
       "      <th>Critic_Score</th>\n",
       "      <th>User_Score</th>\n",
       "      <th>Rating</th>\n",
       "    </tr>\n",
       "  </thead>\n",
       "  <tbody>\n",
       "    <tr>\n",
       "      <th>0</th>\n",
       "      <td>Wii Sports</td>\n",
       "      <td>Wii</td>\n",
       "      <td>2006.0</td>\n",
       "      <td>Sports</td>\n",
       "      <td>41.36</td>\n",
       "      <td>28.96</td>\n",
       "      <td>3.77</td>\n",
       "      <td>8.45</td>\n",
       "      <td>76.0</td>\n",
       "      <td>8</td>\n",
       "      <td>E</td>\n",
       "    </tr>\n",
       "    <tr>\n",
       "      <th>1</th>\n",
       "      <td>Super Mario Bros.</td>\n",
       "      <td>NES</td>\n",
       "      <td>1985.0</td>\n",
       "      <td>Platform</td>\n",
       "      <td>29.08</td>\n",
       "      <td>3.58</td>\n",
       "      <td>6.81</td>\n",
       "      <td>0.77</td>\n",
       "      <td>NaN</td>\n",
       "      <td>NaN</td>\n",
       "      <td>NaN</td>\n",
       "    </tr>\n",
       "    <tr>\n",
       "      <th>2</th>\n",
       "      <td>Mario Kart Wii</td>\n",
       "      <td>Wii</td>\n",
       "      <td>2008.0</td>\n",
       "      <td>Racing</td>\n",
       "      <td>15.68</td>\n",
       "      <td>12.76</td>\n",
       "      <td>3.79</td>\n",
       "      <td>3.29</td>\n",
       "      <td>82.0</td>\n",
       "      <td>8.3</td>\n",
       "      <td>E</td>\n",
       "    </tr>\n",
       "    <tr>\n",
       "      <th>3</th>\n",
       "      <td>Wii Sports Resort</td>\n",
       "      <td>Wii</td>\n",
       "      <td>2009.0</td>\n",
       "      <td>Sports</td>\n",
       "      <td>15.61</td>\n",
       "      <td>10.93</td>\n",
       "      <td>3.28</td>\n",
       "      <td>2.95</td>\n",
       "      <td>80.0</td>\n",
       "      <td>8</td>\n",
       "      <td>E</td>\n",
       "    </tr>\n",
       "    <tr>\n",
       "      <th>4</th>\n",
       "      <td>Pokemon Red/Pokemon Blue</td>\n",
       "      <td>GB</td>\n",
       "      <td>1996.0</td>\n",
       "      <td>Role-Playing</td>\n",
       "      <td>11.27</td>\n",
       "      <td>8.89</td>\n",
       "      <td>10.22</td>\n",
       "      <td>1.00</td>\n",
       "      <td>NaN</td>\n",
       "      <td>NaN</td>\n",
       "      <td>NaN</td>\n",
       "    </tr>\n",
       "  </tbody>\n",
       "</table>\n",
       "</div>"
      ],
      "text/plain": [
       "                       Name Platform  Year_of_Release         Genre  NA_sales  \\\n",
       "0                Wii Sports      Wii           2006.0        Sports     41.36   \n",
       "1         Super Mario Bros.      NES           1985.0      Platform     29.08   \n",
       "2            Mario Kart Wii      Wii           2008.0        Racing     15.68   \n",
       "3         Wii Sports Resort      Wii           2009.0        Sports     15.61   \n",
       "4  Pokemon Red/Pokemon Blue       GB           1996.0  Role-Playing     11.27   \n",
       "\n",
       "   EU_sales  JP_sales  Other_sales  Critic_Score User_Score Rating  \n",
       "0     28.96      3.77         8.45          76.0          8      E  \n",
       "1      3.58      6.81         0.77           NaN        NaN    NaN  \n",
       "2     12.76      3.79         3.29          82.0        8.3      E  \n",
       "3     10.93      3.28         2.95          80.0          8      E  \n",
       "4      8.89     10.22         1.00           NaN        NaN    NaN  "
      ]
     },
     "execution_count": 3,
     "metadata": {},
     "output_type": "execute_result"
    }
   ],
   "source": [
    "df.info()\n",
    "df.head()"
   ]
  },
  {
   "cell_type": "code",
   "execution_count": 4,
   "metadata": {
    "colab": {
     "base_uri": "https://localhost:8080/",
     "height": 879
    },
    "id": "e0uUMthiY9Z1",
    "outputId": "ea1bfe2c-4418-4741-b4c2-6cbb2a8479a4"
   },
   "outputs": [
    {
     "data": {
      "image/png": "[encoded data removed]",
      "text/plain": [
       "<Figure size 720x1080 with 6 Axes>"
      ]
     },
     "metadata": {
      "needs_background": "light"
     },
     "output_type": "display_data"
    }
   ],
   "source": [
    "df.hist(figsize=(10, 15));\n",
    "plt.show()"
   ]
  },
  {
   "cell_type": "markdown",
   "metadata": {},
   "source": [
    "**Промежуточный вывод**\n",
    "<br>\n",
    "На первый взгляд видно, что нарушены типы данных, некорректное название столбцов и пропуски в столбца оценки критиков, оценки пользователей и рейтинге."
   ]
  },
  {
   "cell_type": "markdown",
   "metadata": {
    "id": "l0P_bE_wZs5G"
   },
   "source": [
    "## Предобработка данных"
   ]
  },
  {
   "cell_type": "markdown",
   "metadata": {
    "id": "J-T19VyMaifa"
   },
   "source": [
    "Для начала приведем столбцы к нижнему регистру."
   ]
  },
  {
   "cell_type": "code",
   "execution_count": 5,
   "metadata": {
    "id": "_gDWP1lfao3P"
   },
   "outputs": [],
   "source": [
    "df = df.rename(columns = {'Name': 'name','Platform':'platform','Year_of_Release':'year_of_release','Genre':'genre','Other_sales':'other_sales','Critic_Score':'critic_score','User_Score':'user_score','Rating':'rating'})"
   ]
  },
  {
   "cell_type": "markdown",
   "metadata": {
    "id": "MbdVOnfTbf4t"
   },
   "source": [
    "Я не стал менять регистр столбцов NA_sales, JP_sales, EU_Sales, потому что это аббревиатуры."
   ]
  },
  {
   "cell_type": "markdown",
   "metadata": {},
   "source": [
    "### Обработка пропусков и преобразование типов данных"
   ]
  },
  {
   "cell_type": "code",
   "execution_count": 6,
   "metadata": {
    "colab": {
     "base_uri": "https://localhost:8080/",
     "height": 0
    },
    "id": "oK5nyF5WZbwq",
    "outputId": "f33bca52-c8d5-4bfe-f6d4-a04f69310b32"
   },
   "outputs": [
    {
     "data": {
      "text/html": [
       "<style  type=\"text/css\" >\n",
       "#T_cbdb2_row0_col0,#T_cbdb2_row1_col0,#T_cbdb2_row3_col0,#T_cbdb2_row4_col0,#T_cbdb2_row5_col0,#T_cbdb2_row6_col0,#T_cbdb2_row7_col0{\n",
       "            background-color:  #3b4cc0;\n",
       "            color:  #f1f1f1;\n",
       "        }#T_cbdb2_row2_col0{\n",
       "            background-color:  #465ecf;\n",
       "            color:  #f1f1f1;\n",
       "        }#T_cbdb2_row8_col0{\n",
       "            background-color:  #b40426;\n",
       "            color:  #f1f1f1;\n",
       "        }#T_cbdb2_row9_col0,#T_cbdb2_row10_col0{\n",
       "            background-color:  #f08b6e;\n",
       "            color:  #000000;\n",
       "        }</style><table id=\"T_cbdb2_\" ><thead>    <tr>        <th class=\"blank level0\" ></th>        <th class=\"col_heading level0 col0\" >0</th>    </tr></thead><tbody>\n",
       "                <tr>\n",
       "                        <th id=\"T_cbdb2_level0_row0\" class=\"row_heading level0 row0\" >name</th>\n",
       "                        <td id=\"T_cbdb2_row0_col0\" class=\"data row0 col0\" >0.000000</td>\n",
       "            </tr>\n",
       "            <tr>\n",
       "                        <th id=\"T_cbdb2_level0_row1\" class=\"row_heading level0 row1\" >platform</th>\n",
       "                        <td id=\"T_cbdb2_row1_col0\" class=\"data row1 col0\" >0.000000</td>\n",
       "            </tr>\n",
       "            <tr>\n",
       "                        <th id=\"T_cbdb2_level0_row2\" class=\"row_heading level0 row2\" >year_of_release</th>\n",
       "                        <td id=\"T_cbdb2_row2_col0\" class=\"data row2 col0\" >2.000000</td>\n",
       "            </tr>\n",
       "            <tr>\n",
       "                        <th id=\"T_cbdb2_level0_row3\" class=\"row_heading level0 row3\" >genre</th>\n",
       "                        <td id=\"T_cbdb2_row3_col0\" class=\"data row3 col0\" >0.000000</td>\n",
       "            </tr>\n",
       "            <tr>\n",
       "                        <th id=\"T_cbdb2_level0_row4\" class=\"row_heading level0 row4\" >NA_sales</th>\n",
       "                        <td id=\"T_cbdb2_row4_col0\" class=\"data row4 col0\" >0.000000</td>\n",
       "            </tr>\n",
       "            <tr>\n",
       "                        <th id=\"T_cbdb2_level0_row5\" class=\"row_heading level0 row5\" >EU_sales</th>\n",
       "                        <td id=\"T_cbdb2_row5_col0\" class=\"data row5 col0\" >0.000000</td>\n",
       "            </tr>\n",
       "            <tr>\n",
       "                        <th id=\"T_cbdb2_level0_row6\" class=\"row_heading level0 row6\" >JP_sales</th>\n",
       "                        <td id=\"T_cbdb2_row6_col0\" class=\"data row6 col0\" >0.000000</td>\n",
       "            </tr>\n",
       "            <tr>\n",
       "                        <th id=\"T_cbdb2_level0_row7\" class=\"row_heading level0 row7\" >other_sales</th>\n",
       "                        <td id=\"T_cbdb2_row7_col0\" class=\"data row7 col0\" >0.000000</td>\n",
       "            </tr>\n",
       "            <tr>\n",
       "                        <th id=\"T_cbdb2_level0_row8\" class=\"row_heading level0 row8\" >critic_score</th>\n",
       "                        <td id=\"T_cbdb2_row8_col0\" class=\"data row8 col0\" >51.000000</td>\n",
       "            </tr>\n",
       "            <tr>\n",
       "                        <th id=\"T_cbdb2_level0_row9\" class=\"row_heading level0 row9\" >user_score</th>\n",
       "                        <td id=\"T_cbdb2_row9_col0\" class=\"data row9 col0\" >40.000000</td>\n",
       "            </tr>\n",
       "            <tr>\n",
       "                        <th id=\"T_cbdb2_level0_row10\" class=\"row_heading level0 row10\" >rating</th>\n",
       "                        <td id=\"T_cbdb2_row10_col0\" class=\"data row10 col0\" >40.000000</td>\n",
       "            </tr>\n",
       "    </tbody></table>"
      ],
      "text/plain": [
       "<pandas.io.formats.style.Styler at 0x7fb0bb5c90a0>"
      ]
     },
     "execution_count": 6,
     "metadata": {},
     "output_type": "execute_result"
    }
   ],
   "source": [
    "df.isna().sum()\n",
    "pd.DataFrame(round(df.isna().mean()*100,)).style.background_gradient('coolwarm')"
   ]
  },
  {
   "cell_type": "markdown",
   "metadata": {
    "id": "6Ym5_DLWZ4Gk"
   },
   "source": [
    "Пропусков не очень много. Чтобы сэкономить время если пропусков 5-10% просто их удалим."
   ]
  },
  {
   "cell_type": "markdown",
   "metadata": {
    "id": "i1lxZiw6nKpn"
   },
   "source": [
    "**Год выхода**\n",
    "\n",
    "---\n"
   ]
  },
  {
   "cell_type": "code",
   "execution_count": 7,
   "metadata": {
    "colab": {
     "base_uri": "https://localhost:8080/"
    },
    "id": "JWNTf75DZ0XT",
    "outputId": "6f493617-4ede-4007-da64-01f05193b682"
   },
   "outputs": [
    {
     "data": {
      "text/plain": [
       "array([2006., 1985., 2008., 2009., 1996., 1989., 1984., 2005., 1999.,\n",
       "       2007., 2010., 2013., 2004., 1990., 1988., 2002., 2001., 2011.,\n",
       "       1998., 2015., 2012., 2014., 1992., 1997., 1993., 1994., 1982.,\n",
       "       2016., 2003., 1986., 2000.,   nan, 1995., 1991., 1981., 1987.,\n",
       "       1980., 1983.])"
      ]
     },
     "execution_count": 7,
     "metadata": {},
     "output_type": "execute_result"
    }
   ],
   "source": [
    "df['year_of_release'].unique()"
   ]
  },
  {
   "cell_type": "markdown",
   "metadata": {
    "id": "Tiuy3oAdnVLJ"
   },
   "source": [
    "Нужно привести данные к целочисленному значению"
   ]
  },
  {
   "cell_type": "code",
   "execution_count": 8,
   "metadata": {
    "id": "LpsHv-oQb_Tr"
   },
   "outputs": [],
   "source": [
    "df['year_of_release'] = df['year_of_release'].astype('Int64')"
   ]
  },
  {
   "cell_type": "code",
   "execution_count": 9,
   "metadata": {
    "id": "78LTzTUxcBay"
   },
   "outputs": [],
   "source": [
    "df.dropna(subset=['year_of_release'],inplace=True,axis='index')"
   ]
  },
  {
   "cell_type": "code",
   "execution_count": 10,
   "metadata": {
    "colab": {
     "base_uri": "https://localhost:8080/"
    },
    "id": "1dFbZetCceyt",
    "outputId": "964bfa57-eadd-4fc4-8500-d6ddba86b32f"
   },
   "outputs": [
    {
     "data": {
      "text/plain": [
       "1764     1980\n",
       "546      1980\n",
       "1968     1980\n",
       "6300     1980\n",
       "6875     1980\n",
       "         ... \n",
       "15198    2016\n",
       "15210    2016\n",
       "10371    2016\n",
       "12352    2016\n",
       "16714    2016\n",
       "Name: year_of_release, Length: 16446, dtype: Int64"
      ]
     },
     "execution_count": 10,
     "metadata": {},
     "output_type": "execute_result"
    }
   ],
   "source": [
    "df['year_of_release'].sort_values()"
   ]
  },
  {
   "cell_type": "markdown",
   "metadata": {
    "id": "YL54f-dtrwfz"
   },
   "source": [
    "**Оценки критиков**\n",
    "\n",
    "---\n",
    "Пропусков больше 50%, значит простое удаление пропусков приведет к тому, что огромная часть информации потеряется. Возможно, что пропуски появлились из-за обычного отсутствия оценки критиков. Причин отсутсвия множество, но я выделил пару основных:\n",
    "\n",
    "1.   Проект в бета-тестировании\n",
    "2.   Проект недавно вышел\n",
    "\n",
    "> В итоге приходим к выводу, что пропуски удалять нельзя. Можно просто оставить пропуски, или же заменить пропуски на \"Отсутсвие оценки\"\n",
    "\n",
    "\n",
    "\n"
   ]
  },
  {
   "cell_type": "code",
   "execution_count": 11,
   "metadata": {
    "colab": {
     "base_uri": "https://localhost:8080/"
    },
    "id": "2HMg4FUNogXE",
    "outputId": "eeb89165-c882-4bcd-8716-217b241bfffc"
   },
   "outputs": [
    {
     "data": {
      "text/plain": [
       "array([76., nan, 82., 80., 89., 58., 87., 91., 61., 97., 95., 77., 88.,\n",
       "       83., 94., 93., 85., 86., 98., 96., 90., 84., 73., 74., 78., 92.,\n",
       "       71., 72., 68., 62., 49., 67., 81., 66., 56., 79., 70., 59., 64.,\n",
       "       75., 60., 63., 69., 50., 25., 42., 44., 55., 48., 57., 29., 47.,\n",
       "       65., 54., 20., 53., 37., 38., 33., 52., 30., 32., 43., 45., 51.,\n",
       "       40., 46., 39., 34., 41., 36., 31., 27., 35., 26., 19., 28., 23.,\n",
       "       24., 21., 17., 13.])"
      ]
     },
     "execution_count": 11,
     "metadata": {},
     "output_type": "execute_result"
    }
   ],
   "source": [
    "df['critic_score'].unique()"
   ]
  },
  {
   "cell_type": "markdown",
   "metadata": {
    "id": "a78yEUY6C0gI"
   },
   "source": [
    "Также приведем значения к целому числу. Шкала оценки широкая, поэтому дробные значения ни к чему"
   ]
  },
  {
   "cell_type": "code",
   "execution_count": 12,
   "metadata": {
    "id": "q34fT8OECoHT"
   },
   "outputs": [],
   "source": [
    "df['critic_score'] = df['critic_score'].astype('int64', errors='ignore')"
   ]
  },
  {
   "cell_type": "markdown",
   "metadata": {
    "id": "K3ioyX9rBITv"
   },
   "source": [
    "**Оценка пользователей**\n",
    "\n",
    "---\n",
    "С пользователями ситуация похожая. Единственное, что стоит отметить - шкала оценивания пользователей. Пользователи оценивают игру по 10 бальной шкале, поэтому дробные значения это нормально.\n"
   ]
  },
  {
   "cell_type": "code",
   "execution_count": 13,
   "metadata": {
    "colab": {
     "base_uri": "https://localhost:8080/"
    },
    "id": "pkGXx_lbsB5b",
    "outputId": "3b418f58-7d2b-457a-f7cf-6597993700b8"
   },
   "outputs": [
    {
     "data": {
      "text/plain": [
       "array(['8', nan, '8.3', '8.5', '6.6', '8.4', '8.6', '7.7', '6.3', '7.4',\n",
       "       '8.2', '9', '7.9', '8.1', '8.7', '7.1', '3.4', '5.3', '4.8', '3.2',\n",
       "       '8.9', '6.4', '7.8', '7.5', '2.6', '7.2', '9.2', '7', '7.3', '4.3',\n",
       "       '7.6', '5.7', '5', '9.1', '6.5', 'tbd', '8.8', '6.9', '9.4', '6.8',\n",
       "       '6.1', '6.7', '5.4', '4', '4.9', '4.5', '9.3', '6.2', '4.2', '6',\n",
       "       '3.7', '4.1', '5.8', '5.6', '5.5', '4.4', '4.6', '5.9', '3.9',\n",
       "       '3.1', '2.9', '5.2', '3.3', '4.7', '5.1', '3.5', '2.5', '1.9', '3',\n",
       "       '2.7', '2.2', '2', '9.5', '2.1', '3.6', '2.8', '1.8', '3.8', '0',\n",
       "       '1.6', '9.6', '2.4', '1.7', '1.1', '0.3', '1.5', '0.7', '1.2',\n",
       "       '2.3', '0.5', '1.3', '0.2', '0.6', '1.4', '0.9', '1', '9.7'],\n",
       "      dtype=object)"
      ]
     },
     "execution_count": 13,
     "metadata": {},
     "output_type": "execute_result"
    }
   ],
   "source": [
    "df['user_score'].unique()"
   ]
  },
  {
   "cell_type": "markdown",
   "metadata": {
    "id": "G74ElbuzGiCg"
   },
   "source": [
    "Значение tbd - To Be Determined. Будет определено. Это означает, что оценки нет, поэтому заменим tbd на nan"
   ]
  },
  {
   "cell_type": "code",
   "execution_count": 14,
   "metadata": {
    "id": "5xc1CWg-DRWh"
   },
   "outputs": [],
   "source": [
    "df['user_score'] = df['user_score'].replace('tbd', np.nan)"
   ]
  },
  {
   "cell_type": "markdown",
   "metadata": {
    "id": "RPESruVuGwX4"
   },
   "source": [
    "Преобразуем тип данных в float"
   ]
  },
  {
   "cell_type": "code",
   "execution_count": 15,
   "metadata": {
    "id": "tE83FhDAER7B"
   },
   "outputs": [],
   "source": [
    "df['user_score'] = df['user_score'].astype('float')"
   ]
  },
  {
   "cell_type": "markdown",
   "metadata": {
    "id": "uOynYzoaG0e7"
   },
   "source": [
    "**Рейтинг**\n",
    "\n",
    "---\n",
    "\n"
   ]
  },
  {
   "cell_type": "code",
   "execution_count": 16,
   "metadata": {
    "colab": {
     "base_uri": "https://localhost:8080/"
    },
    "id": "LFuQXzf4E_DO",
    "outputId": "283caf5f-40b2-441e-a9f8-a76bb74af987"
   },
   "outputs": [
    {
     "data": {
      "text/plain": [
       "array(['E', nan, 'M', 'T', 'E10+', 'K-A', 'AO', 'EC', 'RP'], dtype=object)"
      ]
     },
     "execution_count": 16,
     "metadata": {},
     "output_type": "execute_result"
    }
   ],
   "source": [
    "df['rating'].unique()"
   ]
  },
  {
   "cell_type": "markdown",
   "metadata": {
    "id": "AV1D5To7ZQtL"
   },
   "source": [
    "Заменить пропуски не получится, поэтому оставим nan"
   ]
  },
  {
   "cell_type": "markdown",
   "metadata": {
    "id": "EBlQKd1faJ4E"
   },
   "source": [
    "### Устранение дубликатов"
   ]
  },
  {
   "cell_type": "markdown",
   "metadata": {
    "id": "011lH9VPaY8j"
   },
   "source": [
    "Удалим явные дубликаты"
   ]
  },
  {
   "cell_type": "code",
   "execution_count": 17,
   "metadata": {
    "id": "rcqrFu27H56f"
   },
   "outputs": [],
   "source": [
    "df.duplicated().sum()\n",
    "df = df.drop_duplicates()"
   ]
  },
  {
   "cell_type": "markdown",
   "metadata": {
    "id": "M08G4QRwabfr"
   },
   "source": [
    "Произведем проверку на неявные дубликаты"
   ]
  },
  {
   "cell_type": "code",
   "execution_count": 18,
   "metadata": {
    "colab": {
     "base_uri": "https://localhost:8080/"
    },
    "id": "M6XnCkRHaT27",
    "outputId": "8e56bac2-9623-443a-f7ae-e97f458c7d9d"
   },
   "outputs": [
    {
     "name": "stdout",
     "output_type": "stream",
     "text": [
      "<class 'pandas.core.frame.DataFrame'>\n",
      "Int64Index: 16446 entries, 0 to 16714\n",
      "Data columns (total 11 columns):\n",
      " #   Column           Non-Null Count  Dtype  \n",
      "---  ------           --------------  -----  \n",
      " 0   name             16444 non-null  object \n",
      " 1   platform         16446 non-null  object \n",
      " 2   year_of_release  16446 non-null  Int64  \n",
      " 3   genre            16444 non-null  object \n",
      " 4   NA_sales         16446 non-null  float64\n",
      " 5   EU_sales         16446 non-null  float64\n",
      " 6   JP_sales         16446 non-null  float64\n",
      " 7   other_sales      16446 non-null  float64\n",
      " 8   critic_score     7983 non-null   float64\n",
      " 9   user_score       7463 non-null   float64\n",
      " 10  rating           9768 non-null   object \n",
      "dtypes: Int64(1), float64(6), object(4)\n",
      "memory usage: 1.5+ MB\n"
     ]
    }
   ],
   "source": [
    "df.info()"
   ]
  },
  {
   "cell_type": "code",
   "execution_count": 19,
   "metadata": {
    "colab": {
     "base_uri": "https://localhost:8080/"
    },
    "id": "IDMsT77hahMD",
    "outputId": "a726b3e0-a3ed-4b60-a5d4-3b952ed0d379"
   },
   "outputs": [
    {
     "data": {
      "text/plain": [
       "array(['Wii Sports', 'Super Mario Bros.', 'Mario Kart Wii', ...,\n",
       "       'Woody Woodpecker in Crazy Castle 5', 'LMA Manager 2007',\n",
       "       'Haitaka no Psychedelica'], dtype=object)"
      ]
     },
     "execution_count": 19,
     "metadata": {},
     "output_type": "execute_result"
    }
   ],
   "source": [
    "df['name'].unique()"
   ]
  },
  {
   "cell_type": "code",
   "execution_count": 20,
   "metadata": {
    "colab": {
     "base_uri": "https://localhost:8080/"
    },
    "id": "S42BewR5apfN",
    "outputId": "88c40cff-8a03-41e1-d7f0-35448bc51f07"
   },
   "outputs": [
    {
     "data": {
      "text/plain": [
       "array(['Wii', 'NES', 'GB', 'DS', 'X360', 'PS3', 'PS2', 'SNES', 'GBA',\n",
       "       'PS4', '3DS', 'N64', 'PS', 'XB', 'PC', '2600', 'PSP', 'XOne',\n",
       "       'WiiU', 'GC', 'GEN', 'DC', 'PSV', 'SAT', 'SCD', 'WS', 'NG', 'TG16',\n",
       "       '3DO', 'GG', 'PCFX'], dtype=object)"
      ]
     },
     "execution_count": 20,
     "metadata": {},
     "output_type": "execute_result"
    }
   ],
   "source": [
    "df['platform'].unique()"
   ]
  },
  {
   "cell_type": "code",
   "execution_count": 21,
   "metadata": {
    "colab": {
     "base_uri": "https://localhost:8080/"
    },
    "id": "w22GlvUxbPw1",
    "outputId": "78d6f0da-071e-4712-f9df-ff84cedc703d"
   },
   "outputs": [
    {
     "data": {
      "text/plain": [
       "array(['E', nan, 'M', 'T', 'E10+', 'K-A', 'AO', 'EC', 'RP'], dtype=object)"
      ]
     },
     "execution_count": 21,
     "metadata": {},
     "output_type": "execute_result"
    }
   ],
   "source": [
    "df['rating'].unique()"
   ]
  },
  {
   "cell_type": "code",
   "execution_count": 22,
   "metadata": {},
   "outputs": [
    {
     "data": {
      "text/plain": [
       "E       3921\n",
       "T       2905\n",
       "M       1536\n",
       "E10+    1393\n",
       "EC         8\n",
       "K-A        3\n",
       "AO         1\n",
       "RP         1\n",
       "Name: rating, dtype: int64"
      ]
     },
     "execution_count": 22,
     "metadata": {},
     "output_type": "execute_result"
    }
   ],
   "source": [
    "df['rating'].value_counts()"
   ]
  },
  {
   "cell_type": "markdown",
   "metadata": {},
   "source": [
    "EC, K-A, AO, RP. Занимают как раз пренебрежимо малую долю в данных, поэтому просто удалим их."
   ]
  },
  {
   "cell_type": "code",
   "execution_count": 23,
   "metadata": {},
   "outputs": [],
   "source": [
    "df.drop(index=df.query('[\"EC\",\"K-A\",\"AO\",\"RP\"] in rating').index,inplace=True)"
   ]
  },
  {
   "cell_type": "markdown",
   "metadata": {
    "id": "hHvwJ3yxbbzz"
   },
   "source": [
    "Неявных дубликатов нет "
   ]
  },
  {
   "cell_type": "markdown",
   "metadata": {
    "id": "u1duciD2cBoB"
   },
   "source": [
    "**total_sales**\n",
    "\n",
    "---\n",
    "\n",
    "Посчитаем суммарные продажи во всех регионах и добавим их в отдельный столбец total_sales"
   ]
  },
  {
   "cell_type": "code",
   "execution_count": 25,
   "metadata": {
    "id": "trGZX-nTbURL"
   },
   "outputs": [],
   "source": [
    "df['total_sales'] = df['EU_sales'] + df['JP_sales'] + df['NA_sales'] + df['other_sales']"
   ]
  },
  {
   "cell_type": "code",
   "execution_count": 26,
   "metadata": {
    "colab": {
     "base_uri": "https://localhost:8080/"
    },
    "id": "WbstW6Ey4LVN",
    "outputId": "8e3a917d-0e48-490a-9909-197de47b5d18"
   },
   "outputs": [
    {
     "name": "stdout",
     "output_type": "stream",
     "text": [
      "<class 'pandas.core.frame.DataFrame'>\n",
      "Int64Index: 16433 entries, 0 to 16714\n",
      "Data columns (total 12 columns):\n",
      " #   Column           Non-Null Count  Dtype  \n",
      "---  ------           --------------  -----  \n",
      " 0   name             16431 non-null  object \n",
      " 1   platform         16433 non-null  object \n",
      " 2   year_of_release  16433 non-null  Int64  \n",
      " 3   genre            16431 non-null  object \n",
      " 4   NA_sales         16433 non-null  float64\n",
      " 5   EU_sales         16433 non-null  float64\n",
      " 6   JP_sales         16433 non-null  float64\n",
      " 7   other_sales      16433 non-null  float64\n",
      " 8   critic_score     7980 non-null   float64\n",
      " 9   user_score       7457 non-null   float64\n",
      " 10  rating           9755 non-null   object \n",
      " 11  total_sales      16433 non-null  float64\n",
      "dtypes: Int64(1), float64(7), object(4)\n",
      "memory usage: 1.6+ MB\n"
     ]
    }
   ],
   "source": [
    "df.info()"
   ]
  },
  {
   "cell_type": "code",
   "execution_count": 27,
   "metadata": {},
   "outputs": [],
   "source": [
    "df.dropna(subset=['genre'],inplace=True,axis='index')\n",
    "df.dropna(subset=['name'],inplace=True,axis='index')"
   ]
  },
  {
   "cell_type": "markdown",
   "metadata": {
    "id": "odwdhZOJ3sGT"
   },
   "source": [
    "**Вывод по предобработке данных**\n",
    "\n",
    "---\n",
    "\n",
    "\n",
    "*   Название столбцов приведены к нижнему регистру (кроме EU_sales, JP_sales, NA_sales)\n",
    "* Изменены типы данных в столбцах: year_of_release, critic_score, user_score.\n",
    "* Добавлен столбец с суммарным количеством продаж по всем регионам (total_sales)\n",
    "* Произведена работа с пропусками\n",
    "* В столбце user_score оценка 'tbd' была заменена на nan\n",
    "* Выполнены проверки с последующим удалением явных и неявных дубликатов.\n",
    "\n",
    "\n",
    "\n",
    "\n"
   ]
  },
  {
   "cell_type": "markdown",
   "metadata": {
    "id": "RMM1esji7MiP"
   },
   "source": [
    "## Исследовательский анализ данных"
   ]
  },
  {
   "cell_type": "markdown",
   "metadata": {
    "id": "t4l9XBB47Sae"
   },
   "source": [
    "Проверим датафрейм на выбросы"
   ]
  },
  {
   "cell_type": "code",
   "execution_count": 28,
   "metadata": {
    "colab": {
     "base_uri": "https://localhost:8080/",
     "height": 0
    },
    "id": "mOKoftWEcNxd",
    "outputId": "5225bd21-b9bb-4907-8b6c-299d46874be0"
   },
   "outputs": [
    {
     "data": {
      "text/html": [
       "<div>\n",
       "<style scoped>\n",
       "    .dataframe tbody tr th:only-of-type {\n",
       "        vertical-align: middle;\n",
       "    }\n",
       "\n",
       "    .dataframe tbody tr th {\n",
       "        vertical-align: top;\n",
       "    }\n",
       "\n",
       "    .dataframe thead th {\n",
       "        text-align: right;\n",
       "    }\n",
       "</style>\n",
       "<table border=\"1\" class=\"dataframe\">\n",
       "  <thead>\n",
       "    <tr style=\"text-align: right;\">\n",
       "      <th></th>\n",
       "      <th>year_of_release</th>\n",
       "      <th>NA_sales</th>\n",
       "      <th>EU_sales</th>\n",
       "      <th>JP_sales</th>\n",
       "      <th>other_sales</th>\n",
       "      <th>critic_score</th>\n",
       "      <th>user_score</th>\n",
       "      <th>total_sales</th>\n",
       "    </tr>\n",
       "  </thead>\n",
       "  <tbody>\n",
       "    <tr>\n",
       "      <th>count</th>\n",
       "      <td>16431.000000</td>\n",
       "      <td>16431.000000</td>\n",
       "      <td>16431.000000</td>\n",
       "      <td>16431.000000</td>\n",
       "      <td>16431.000000</td>\n",
       "      <td>7980.000000</td>\n",
       "      <td>7457.000000</td>\n",
       "      <td>16431.000000</td>\n",
       "    </tr>\n",
       "    <tr>\n",
       "      <th>mean</th>\n",
       "      <td>2006.486763</td>\n",
       "      <td>0.263896</td>\n",
       "      <td>0.145984</td>\n",
       "      <td>0.078460</td>\n",
       "      <td>0.047617</td>\n",
       "      <td>68.989223</td>\n",
       "      <td>7.125774</td>\n",
       "      <td>0.535956</td>\n",
       "    </tr>\n",
       "    <tr>\n",
       "      <th>std</th>\n",
       "      <td>5.875814</td>\n",
       "      <td>0.818499</td>\n",
       "      <td>0.506893</td>\n",
       "      <td>0.311029</td>\n",
       "      <td>0.188077</td>\n",
       "      <td>13.917537</td>\n",
       "      <td>1.499745</td>\n",
       "      <td>1.559229</td>\n",
       "    </tr>\n",
       "    <tr>\n",
       "      <th>min</th>\n",
       "      <td>1980.000000</td>\n",
       "      <td>0.000000</td>\n",
       "      <td>0.000000</td>\n",
       "      <td>0.000000</td>\n",
       "      <td>0.000000</td>\n",
       "      <td>13.000000</td>\n",
       "      <td>0.000000</td>\n",
       "      <td>0.000000</td>\n",
       "    </tr>\n",
       "    <tr>\n",
       "      <th>25%</th>\n",
       "      <td>2003.000000</td>\n",
       "      <td>0.000000</td>\n",
       "      <td>0.000000</td>\n",
       "      <td>0.000000</td>\n",
       "      <td>0.000000</td>\n",
       "      <td>60.000000</td>\n",
       "      <td>6.400000</td>\n",
       "      <td>0.060000</td>\n",
       "    </tr>\n",
       "    <tr>\n",
       "      <th>50%</th>\n",
       "      <td>2007.000000</td>\n",
       "      <td>0.080000</td>\n",
       "      <td>0.020000</td>\n",
       "      <td>0.000000</td>\n",
       "      <td>0.010000</td>\n",
       "      <td>71.000000</td>\n",
       "      <td>7.500000</td>\n",
       "      <td>0.170000</td>\n",
       "    </tr>\n",
       "    <tr>\n",
       "      <th>75%</th>\n",
       "      <td>2010.000000</td>\n",
       "      <td>0.240000</td>\n",
       "      <td>0.110000</td>\n",
       "      <td>0.040000</td>\n",
       "      <td>0.030000</td>\n",
       "      <td>79.000000</td>\n",
       "      <td>8.200000</td>\n",
       "      <td>0.470000</td>\n",
       "    </tr>\n",
       "    <tr>\n",
       "      <th>max</th>\n",
       "      <td>2016.000000</td>\n",
       "      <td>41.360000</td>\n",
       "      <td>28.960000</td>\n",
       "      <td>10.220000</td>\n",
       "      <td>10.570000</td>\n",
       "      <td>98.000000</td>\n",
       "      <td>9.700000</td>\n",
       "      <td>82.540000</td>\n",
       "    </tr>\n",
       "  </tbody>\n",
       "</table>\n",
       "</div>"
      ],
      "text/plain": [
       "       year_of_release      NA_sales      EU_sales      JP_sales  \\\n",
       "count     16431.000000  16431.000000  16431.000000  16431.000000   \n",
       "mean       2006.486763      0.263896      0.145984      0.078460   \n",
       "std           5.875814      0.818499      0.506893      0.311029   \n",
       "min        1980.000000      0.000000      0.000000      0.000000   \n",
       "25%        2003.000000      0.000000      0.000000      0.000000   \n",
       "50%        2007.000000      0.080000      0.020000      0.000000   \n",
       "75%        2010.000000      0.240000      0.110000      0.040000   \n",
       "max        2016.000000     41.360000     28.960000     10.220000   \n",
       "\n",
       "        other_sales  critic_score   user_score   total_sales  \n",
       "count  16431.000000   7980.000000  7457.000000  16431.000000  \n",
       "mean       0.047617     68.989223     7.125774      0.535956  \n",
       "std        0.188077     13.917537     1.499745      1.559229  \n",
       "min        0.000000     13.000000     0.000000      0.000000  \n",
       "25%        0.000000     60.000000     6.400000      0.060000  \n",
       "50%        0.010000     71.000000     7.500000      0.170000  \n",
       "75%        0.030000     79.000000     8.200000      0.470000  \n",
       "max       10.570000     98.000000     9.700000     82.540000  "
      ]
     },
     "execution_count": 28,
     "metadata": {},
     "output_type": "execute_result"
    }
   ],
   "source": [
    "df.describe()"
   ]
  },
  {
   "cell_type": "markdown",
   "metadata": {},
   "source": [
    "### Количество продаж игр"
   ]
  },
  {
   "cell_type": "markdown",
   "metadata": {
    "id": "wdh9GPB7C1lZ"
   },
   "source": [
    "Посмотрим сколько игр выпускалось по годам. Для этого возьмем данные с 2012-2016 года."
   ]
  },
  {
   "cell_type": "code",
   "execution_count": 29,
   "metadata": {
    "id": "GzlPZ606DGI6"
   },
   "outputs": [],
   "source": [
    "df_actual = df.loc[df['year_of_release'] > 2011]"
   ]
  },
  {
   "cell_type": "code",
   "execution_count": 30,
   "metadata": {
    "colab": {
     "base_uri": "https://localhost:8080/",
     "height": 0
    },
    "id": "NRktJztCDUML",
    "outputId": "9d25389e-90b7-4337-c085-bf8e2f729605"
   },
   "outputs": [
    {
     "data": {
      "image/png": "[encoded data removed]",
      "text/plain": [
       "<Figure size 576x360 with 1 Axes>"
      ]
     },
     "metadata": {
      "needs_background": "light"
     },
     "output_type": "display_data"
    }
   ],
   "source": [
    "df_actual['year_of_release'].hist(bins=5,figsize=(8,5),ec='red')\n",
    "plt.xlabel('Год',fontsize=15)\n",
    "plt.ylabel('Количество продаж',fontsize=15)\n",
    "plt.grid(True)\n",
    "plt.xticks(np.arange(2012,2017,1))\n",
    "plt.title('Количество продаж игр с 2012-2016 год')\n",
    "plt.show()"
   ]
  },
  {
   "cell_type": "markdown",
   "metadata": {
    "id": "tKqe4lnSLWFW"
   },
   "source": [
    "Продажи игр в течении 5 лет держаться в районе 500-600 млн в год."
   ]
  },
  {
   "cell_type": "markdown",
   "metadata": {},
   "source": [
    "### Перспективные платформы и актуальный период"
   ]
  },
  {
   "cell_type": "code",
   "execution_count": 31,
   "metadata": {
    "id": "0ndJHYn9D2Ed"
   },
   "outputs": [],
   "source": [
    "actual_period = df_actual.pivot_table(index=['platform'],\n",
    "values='total_sales',\n",
    "aggfunc='sum').reset_index().sort_values(by='total_sales',ascending=False)"
   ]
  },
  {
   "cell_type": "code",
   "execution_count": 32,
   "metadata": {
    "colab": {
     "base_uri": "https://localhost:8080/",
     "height": 0
    },
    "id": "ffmmO6hnNIt0",
    "outputId": "4c829655-d436-41df-98b5-88b2f1e6d61d"
   },
   "outputs": [
    {
     "data": {
      "image/png": "[encoded data removed]",
      "text/plain": [
       "<Figure size 1080x360 with 1 Axes>"
      ]
     },
     "metadata": {
      "needs_background": "light"
     },
     "output_type": "display_data"
    }
   ],
   "source": [
    "plt.figure(figsize=(15,5))\n",
    "sns.barplot(data = actual_period, x='platform',y='total_sales',ci=None);\n",
    "plt.title('Продажи по платформам с 2012 года');\n",
    "plt.xlabel('Платформа');\n",
    "plt.ylabel('Продажи')\n",
    "plt.show()\n",
    "#вариант ниже, я написал для себя. он не такой красочный\n",
    "#df_actual.pivot_table(index='platform',values='total_sales',aggfunc='sum').sort_values(by='total_sales',ascending=False).plot(y='total_sales', kind='bar')"
   ]
  },
  {
   "cell_type": "markdown",
   "metadata": {
    "id": "hchE8nmGBXkb"
   },
   "source": [
    "Основываясь на этом графике отберем 5 лидирующих по продажам платформ"
   ]
  },
  {
   "cell_type": "code",
   "execution_count": 33,
   "metadata": {
    "id": "6eCiAJd8BXB6"
   },
   "outputs": [],
   "source": [
    "top_5 = df_actual.query('[\"PS4\",\"PS3\",\"XOne\",\"X360\",\"3DS\"] in platform')"
   ]
  },
  {
   "cell_type": "code",
   "execution_count": 34,
   "metadata": {
    "colab": {
     "base_uri": "https://localhost:8080/",
     "height": 0
    },
    "id": "ZPzKjwp2NtJG",
    "outputId": "29cdfe93-abb8-42e5-87b0-9a34f91d3870"
   },
   "outputs": [
    {
     "data": {
      "image/png": "[encoded data removed]",
      "text/plain": [
       "<Figure size 1080x360 with 1 Axes>"
      ]
     },
     "metadata": {
      "needs_background": "light"
     },
     "output_type": "display_data"
    }
   ],
   "source": [
    "top_5.pivot_table(index='year_of_release',\n",
    "                      columns='platform',\n",
    "                      values='total_sales',\n",
    "                      aggfunc='sum').plot(grid=True,figsize=(15,5),kind='bar',)\n",
    "plt.xlabel('Год',fontsize=12)\n",
    "plt.ylabel('Количество продаж',fontsize=12)                     \n",
    "plt.show()"
   ]
  },
  {
   "cell_type": "markdown",
   "metadata": {
    "id": "-a27-GemECWZ"
   },
   "source": [
    "По графику видно, что средняя продолжительность \"жизни\" платформ длится 5-6 лет. Пик продаж приходится на 2-3 год после выпуска на рынок платформы, потом идет снижение продаж. В итоге **актуальный период** - 5-6 лет "
   ]
  },
  {
   "cell_type": "markdown",
   "metadata": {
    "id": "b3BsWplxuyZD"
   },
   "source": [
    "На 2016 год по продажам лидируют PS4, и его прямой конкурент - Xbox One. Это 2 потенциально прибильные платформы, которые вышли соверешенно недавно. Также у этих платформ есть потенциал для роста.\n",
    "\n",
    "> На графике видно как платформы достигли пиков на 2-3 году существовании на рынке, но продажи у PS4 выше, наверное из-за количества эксклюзивных игр, которые выпускаются именно для PS4.\n",
    "\n"
   ]
  },
  {
   "cell_type": "code",
   "execution_count": 35,
   "metadata": {
    "colab": {
     "base_uri": "https://localhost:8080/",
     "height": 0
    },
    "id": "2_WyVrkRvUfQ",
    "outputId": "3ab09651-346e-4403-8da0-63b95b9e9261"
   },
   "outputs": [
    {
     "data": {
      "image/png": "[encoded data removed]",
      "text/plain": [
       "<Figure size 432x288 with 1 Axes>"
      ]
     },
     "metadata": {
      "needs_background": "light"
     },
     "output_type": "display_data"
    },
    {
     "data": {
      "image/png": "[encoded data removed]",
      "text/plain": [
       "<Figure size 432x288 with 1 Axes>"
      ]
     },
     "metadata": {
      "needs_background": "light"
     },
     "output_type": "display_data"
    }
   ],
   "source": [
    "total_sales = top_5['total_sales']\n",
    "platform = top_5['platform']\n",
    "boxplot = sns.boxplot(x=total_sales, y=platform,showmeans = True)\n",
    "boxplot.set_xlabel(\"Продажи\", fontsize=14)\n",
    "boxplot.set_ylabel(\"Платформы\", fontsize=14)\n",
    "plt.show()\n",
    "\n",
    "total_sales = top_5['total_sales']\n",
    "platform = top_5['platform']\n",
    "boxplot = sns.boxplot(x=total_sales, y=platform,showmeans = True)\n",
    "boxplot.set_xlabel(\"Продажи\", fontsize=14)\n",
    "boxplot.set_ylabel(\"Платформы\", fontsize=14)\n",
    "plt.xlim(0,3)\n",
    "plt.show()"
   ]
  },
  {
   "cell_type": "markdown",
   "metadata": {},
   "source": [
    "По графикам видно, что на данный момент в продажах лидируют X360 и PS3, а их младшие браться XOne и PS4 отстают, но это и не удивительно, потому что они относительно недавно вышли. \n",
    "<br />\n",
    "Самые маленькие продажи, судя по медианному значению, у Nintendo 3DS"
   ]
  },
  {
   "cell_type": "code",
   "execution_count": 36,
   "metadata": {
    "id": "Ix5aF3IGwh0p"
   },
   "outputs": [],
   "source": [
    "ps4 = df_actual.query('platform == \"PS4\"')"
   ]
  },
  {
   "cell_type": "code",
   "execution_count": 37,
   "metadata": {
    "colab": {
     "base_uri": "https://localhost:8080/",
     "height": 0
    },
    "id": "t_mVyYq3xNT1",
    "outputId": "0ca84bed-0b00-4c12-e9ed-292970624531"
   },
   "outputs": [
    {
     "data": {
      "image/png": "[encoded data removed]",
      "text/plain": [
       "<Figure size 360x360 with 1 Axes>"
      ]
     },
     "metadata": {
      "needs_background": "light"
     },
     "output_type": "display_data"
    },
    {
     "data": {
      "image/png": "[encoded data removed]",
      "text/plain": [
       "<Figure size 360x360 with 1 Axes>"
      ]
     },
     "metadata": {
      "needs_background": "light"
     },
     "output_type": "display_data"
    }
   ],
   "source": [
    "plt.figure(figsize=(5,5))\n",
    "plt.ylim(0,2)\n",
    "sns.boxplot(data= ps4,\n",
    "            x='platform',\n",
    "            y='total_sales',\n",
    "            )\n",
    "plt.figure(figsize=(5,5))\n",
    "plt.ylim(0,15)\n",
    "sns.boxplot(data= ps4,\n",
    "            x='platform',\n",
    "            y='total_sales',\n",
    "            )\n",
    "plt.show()"
   ]
  },
  {
   "cell_type": "markdown",
   "metadata": {
    "id": "UI-Tdxiw0EEp"
   },
   "source": [
    "На графиках видно, что выбросы начинаются после достижения 1.75 млн. продаж"
   ]
  },
  {
   "cell_type": "code",
   "execution_count": 38,
   "metadata": {
    "colab": {
     "base_uri": "https://localhost:8080/",
     "height": 0
    },
    "id": "c61ItmtmxrrL",
    "outputId": "df5ef72f-b6e5-4479-89eb-b4b243d7ba22"
   },
   "outputs": [
    {
     "data": {
      "text/html": [
       "<div>\n",
       "<style scoped>\n",
       "    .dataframe tbody tr th:only-of-type {\n",
       "        vertical-align: middle;\n",
       "    }\n",
       "\n",
       "    .dataframe tbody tr th {\n",
       "        vertical-align: top;\n",
       "    }\n",
       "\n",
       "    .dataframe thead th {\n",
       "        text-align: right;\n",
       "    }\n",
       "</style>\n",
       "<table border=\"1\" class=\"dataframe\">\n",
       "  <thead>\n",
       "    <tr style=\"text-align: right;\">\n",
       "      <th></th>\n",
       "      <th>year_of_release</th>\n",
       "      <th>NA_sales</th>\n",
       "      <th>EU_sales</th>\n",
       "      <th>JP_sales</th>\n",
       "      <th>other_sales</th>\n",
       "      <th>critic_score</th>\n",
       "      <th>user_score</th>\n",
       "      <th>total_sales</th>\n",
       "    </tr>\n",
       "  </thead>\n",
       "  <tbody>\n",
       "    <tr>\n",
       "      <th>count</th>\n",
       "      <td>392.000000</td>\n",
       "      <td>392.000000</td>\n",
       "      <td>392.000000</td>\n",
       "      <td>392.000000</td>\n",
       "      <td>392.000000</td>\n",
       "      <td>252.000000</td>\n",
       "      <td>257.000000</td>\n",
       "      <td>392.000000</td>\n",
       "    </tr>\n",
       "    <tr>\n",
       "      <th>mean</th>\n",
       "      <td>2015.145408</td>\n",
       "      <td>0.277398</td>\n",
       "      <td>0.359923</td>\n",
       "      <td>0.040714</td>\n",
       "      <td>0.123342</td>\n",
       "      <td>72.091270</td>\n",
       "      <td>6.748249</td>\n",
       "      <td>0.801378</td>\n",
       "    </tr>\n",
       "    <tr>\n",
       "      <th>std</th>\n",
       "      <td>0.868181</td>\n",
       "      <td>0.583723</td>\n",
       "      <td>0.810843</td>\n",
       "      <td>0.069101</td>\n",
       "      <td>0.254825</td>\n",
       "      <td>12.485992</td>\n",
       "      <td>1.459481</td>\n",
       "      <td>1.609456</td>\n",
       "    </tr>\n",
       "    <tr>\n",
       "      <th>min</th>\n",
       "      <td>2013.000000</td>\n",
       "      <td>0.000000</td>\n",
       "      <td>0.000000</td>\n",
       "      <td>0.000000</td>\n",
       "      <td>0.000000</td>\n",
       "      <td>19.000000</td>\n",
       "      <td>1.500000</td>\n",
       "      <td>0.010000</td>\n",
       "    </tr>\n",
       "    <tr>\n",
       "      <th>25%</th>\n",
       "      <td>2015.000000</td>\n",
       "      <td>0.007500</td>\n",
       "      <td>0.000000</td>\n",
       "      <td>0.000000</td>\n",
       "      <td>0.010000</td>\n",
       "      <td>66.000000</td>\n",
       "      <td>6.100000</td>\n",
       "      <td>0.060000</td>\n",
       "    </tr>\n",
       "    <tr>\n",
       "      <th>50%</th>\n",
       "      <td>2015.000000</td>\n",
       "      <td>0.060000</td>\n",
       "      <td>0.080000</td>\n",
       "      <td>0.010000</td>\n",
       "      <td>0.030000</td>\n",
       "      <td>73.000000</td>\n",
       "      <td>7.000000</td>\n",
       "      <td>0.200000</td>\n",
       "    </tr>\n",
       "    <tr>\n",
       "      <th>75%</th>\n",
       "      <td>2016.000000</td>\n",
       "      <td>0.260000</td>\n",
       "      <td>0.300000</td>\n",
       "      <td>0.050000</td>\n",
       "      <td>0.110000</td>\n",
       "      <td>80.000000</td>\n",
       "      <td>7.800000</td>\n",
       "      <td>0.730000</td>\n",
       "    </tr>\n",
       "    <tr>\n",
       "      <th>max</th>\n",
       "      <td>2016.000000</td>\n",
       "      <td>6.030000</td>\n",
       "      <td>6.310000</td>\n",
       "      <td>0.490000</td>\n",
       "      <td>2.380000</td>\n",
       "      <td>97.000000</td>\n",
       "      <td>9.200000</td>\n",
       "      <td>14.630000</td>\n",
       "    </tr>\n",
       "  </tbody>\n",
       "</table>\n",
       "</div>"
      ],
      "text/plain": [
       "       year_of_release    NA_sales    EU_sales    JP_sales  other_sales  \\\n",
       "count       392.000000  392.000000  392.000000  392.000000   392.000000   \n",
       "mean       2015.145408    0.277398    0.359923    0.040714     0.123342   \n",
       "std           0.868181    0.583723    0.810843    0.069101     0.254825   \n",
       "min        2013.000000    0.000000    0.000000    0.000000     0.000000   \n",
       "25%        2015.000000    0.007500    0.000000    0.000000     0.010000   \n",
       "50%        2015.000000    0.060000    0.080000    0.010000     0.030000   \n",
       "75%        2016.000000    0.260000    0.300000    0.050000     0.110000   \n",
       "max        2016.000000    6.030000    6.310000    0.490000     2.380000   \n",
       "\n",
       "       critic_score  user_score  total_sales  \n",
       "count    252.000000  257.000000   392.000000  \n",
       "mean      72.091270    6.748249     0.801378  \n",
       "std       12.485992    1.459481     1.609456  \n",
       "min       19.000000    1.500000     0.010000  \n",
       "25%       66.000000    6.100000     0.060000  \n",
       "50%       73.000000    7.000000     0.200000  \n",
       "75%       80.000000    7.800000     0.730000  \n",
       "max       97.000000    9.200000    14.630000  "
      ]
     },
     "execution_count": 38,
     "metadata": {},
     "output_type": "execute_result"
    }
   ],
   "source": [
    "ps4.describe()"
   ]
  },
  {
   "cell_type": "code",
   "execution_count": 39,
   "metadata": {
    "id": "AnkYeerJ0OqU"
   },
   "outputs": [],
   "source": [
    "XOne = df_actual.query('platform == \"XOne\"')"
   ]
  },
  {
   "cell_type": "code",
   "execution_count": 40,
   "metadata": {
    "colab": {
     "base_uri": "https://localhost:8080/",
     "height": 0
    },
    "id": "nqqhKu6h0hVH",
    "outputId": "a9961d20-c6c1-4efd-bfb0-80840ad67d80"
   },
   "outputs": [
    {
     "data": {
      "image/png": "[encoded data removed]",
      "text/plain": [
       "<Figure size 360x360 with 1 Axes>"
      ]
     },
     "metadata": {
      "needs_background": "light"
     },
     "output_type": "display_data"
    },
    {
     "data": {
      "image/png": "[encoded data removed]",
      "text/plain": [
       "<Figure size 360x360 with 1 Axes>"
      ]
     },
     "metadata": {
      "needs_background": "light"
     },
     "output_type": "display_data"
    }
   ],
   "source": [
    "plt.figure(figsize=(5,5))\n",
    "plt.ylim(0,2)\n",
    "sns.boxplot(data= XOne,\n",
    "            x='platform',\n",
    "            y='total_sales',\n",
    "            )\n",
    "plt.figure(figsize=(5,5))\n",
    "plt.ylim(0,8)\n",
    "sns.boxplot(data= XOne,\n",
    "            x='platform',\n",
    "            y='total_sales',\n",
    "            )\n",
    "plt.show()"
   ]
  },
  {
   "cell_type": "code",
   "execution_count": 41,
   "metadata": {
    "colab": {
     "base_uri": "https://localhost:8080/",
     "height": 0
    },
    "id": "ni9tvPWg0l3G",
    "outputId": "c7cd2828-7c12-4742-ad43-f2fff9867c36"
   },
   "outputs": [
    {
     "data": {
      "text/html": [
       "<div>\n",
       "<style scoped>\n",
       "    .dataframe tbody tr th:only-of-type {\n",
       "        vertical-align: middle;\n",
       "    }\n",
       "\n",
       "    .dataframe tbody tr th {\n",
       "        vertical-align: top;\n",
       "    }\n",
       "\n",
       "    .dataframe thead th {\n",
       "        text-align: right;\n",
       "    }\n",
       "</style>\n",
       "<table border=\"1\" class=\"dataframe\">\n",
       "  <thead>\n",
       "    <tr style=\"text-align: right;\">\n",
       "      <th></th>\n",
       "      <th>year_of_release</th>\n",
       "      <th>NA_sales</th>\n",
       "      <th>EU_sales</th>\n",
       "      <th>JP_sales</th>\n",
       "      <th>other_sales</th>\n",
       "      <th>critic_score</th>\n",
       "      <th>user_score</th>\n",
       "      <th>total_sales</th>\n",
       "    </tr>\n",
       "  </thead>\n",
       "  <tbody>\n",
       "    <tr>\n",
       "      <th>count</th>\n",
       "      <td>247.000000</td>\n",
       "      <td>247.000000</td>\n",
       "      <td>247.000000</td>\n",
       "      <td>247.000000</td>\n",
       "      <td>247.000000</td>\n",
       "      <td>169.000000</td>\n",
       "      <td>182.000000</td>\n",
       "      <td>247.000000</td>\n",
       "    </tr>\n",
       "    <tr>\n",
       "      <th>mean</th>\n",
       "      <td>2014.951417</td>\n",
       "      <td>0.377004</td>\n",
       "      <td>0.208866</td>\n",
       "      <td>0.001377</td>\n",
       "      <td>0.057773</td>\n",
       "      <td>73.325444</td>\n",
       "      <td>6.521429</td>\n",
       "      <td>0.645020</td>\n",
       "    </tr>\n",
       "    <tr>\n",
       "      <th>std</th>\n",
       "      <td>0.952995</td>\n",
       "      <td>0.630618</td>\n",
       "      <td>0.365306</td>\n",
       "      <td>0.005153</td>\n",
       "      <td>0.094221</td>\n",
       "      <td>12.953465</td>\n",
       "      <td>1.380941</td>\n",
       "      <td>1.036139</td>\n",
       "    </tr>\n",
       "    <tr>\n",
       "      <th>min</th>\n",
       "      <td>2013.000000</td>\n",
       "      <td>0.000000</td>\n",
       "      <td>0.000000</td>\n",
       "      <td>0.000000</td>\n",
       "      <td>0.000000</td>\n",
       "      <td>20.000000</td>\n",
       "      <td>1.600000</td>\n",
       "      <td>0.010000</td>\n",
       "    </tr>\n",
       "    <tr>\n",
       "      <th>25%</th>\n",
       "      <td>2014.000000</td>\n",
       "      <td>0.030000</td>\n",
       "      <td>0.020000</td>\n",
       "      <td>0.000000</td>\n",
       "      <td>0.010000</td>\n",
       "      <td>66.000000</td>\n",
       "      <td>5.800000</td>\n",
       "      <td>0.060000</td>\n",
       "    </tr>\n",
       "    <tr>\n",
       "      <th>50%</th>\n",
       "      <td>2015.000000</td>\n",
       "      <td>0.120000</td>\n",
       "      <td>0.070000</td>\n",
       "      <td>0.000000</td>\n",
       "      <td>0.020000</td>\n",
       "      <td>76.000000</td>\n",
       "      <td>6.800000</td>\n",
       "      <td>0.220000</td>\n",
       "    </tr>\n",
       "    <tr>\n",
       "      <th>75%</th>\n",
       "      <td>2016.000000</td>\n",
       "      <td>0.385000</td>\n",
       "      <td>0.220000</td>\n",
       "      <td>0.000000</td>\n",
       "      <td>0.060000</td>\n",
       "      <td>82.000000</td>\n",
       "      <td>7.500000</td>\n",
       "      <td>0.685000</td>\n",
       "    </tr>\n",
       "    <tr>\n",
       "      <th>max</th>\n",
       "      <td>2016.000000</td>\n",
       "      <td>4.590000</td>\n",
       "      <td>2.190000</td>\n",
       "      <td>0.040000</td>\n",
       "      <td>0.680000</td>\n",
       "      <td>97.000000</td>\n",
       "      <td>9.200000</td>\n",
       "      <td>7.390000</td>\n",
       "    </tr>\n",
       "  </tbody>\n",
       "</table>\n",
       "</div>"
      ],
      "text/plain": [
       "       year_of_release    NA_sales    EU_sales    JP_sales  other_sales  \\\n",
       "count       247.000000  247.000000  247.000000  247.000000   247.000000   \n",
       "mean       2014.951417    0.377004    0.208866    0.001377     0.057773   \n",
       "std           0.952995    0.630618    0.365306    0.005153     0.094221   \n",
       "min        2013.000000    0.000000    0.000000    0.000000     0.000000   \n",
       "25%        2014.000000    0.030000    0.020000    0.000000     0.010000   \n",
       "50%        2015.000000    0.120000    0.070000    0.000000     0.020000   \n",
       "75%        2016.000000    0.385000    0.220000    0.000000     0.060000   \n",
       "max        2016.000000    4.590000    2.190000    0.040000     0.680000   \n",
       "\n",
       "       critic_score  user_score  total_sales  \n",
       "count    169.000000  182.000000   247.000000  \n",
       "mean      73.325444    6.521429     0.645020  \n",
       "std       12.953465    1.380941     1.036139  \n",
       "min       20.000000    1.600000     0.010000  \n",
       "25%       66.000000    5.800000     0.060000  \n",
       "50%       76.000000    6.800000     0.220000  \n",
       "75%       82.000000    7.500000     0.685000  \n",
       "max       97.000000    9.200000     7.390000  "
      ]
     },
     "execution_count": 41,
     "metadata": {},
     "output_type": "execute_result"
    }
   ],
   "source": [
    "XOne.describe()"
   ]
  },
  {
   "cell_type": "markdown",
   "metadata": {
    "id": "DelDT_sX1O6M"
   },
   "source": [
    "С Xbox One ситуация другая. Выбросы начинаются после достижения значения в 1.6 млн. продаж"
   ]
  },
  {
   "cell_type": "markdown",
   "metadata": {
    "id": "7f5oNo5J2UOJ"
   },
   "source": [
    "### Влияние оценок критиков и пользователей"
   ]
  },
  {
   "cell_type": "markdown",
   "metadata": {
    "id": "UEQPEqyMSvfC"
   },
   "source": [
    "**PS4**"
   ]
  },
  {
   "cell_type": "code",
   "execution_count": 42,
   "metadata": {
    "colab": {
     "base_uri": "https://localhost:8080/"
    },
    "id": "QZ2GtD6Z1Ex8",
    "outputId": "e823ecac-94da-4b4a-a8b6-fb6dd96152d3"
   },
   "outputs": [
    {
     "name": "stdout",
     "output_type": "stream",
     "text": [
      "Корреляция между total_sales и user_score для PS4 составляет: -0.032\n",
      "Корреляция между total_sales и critic_score для PS4 составляет: 0.41\n"
     ]
    }
   ],
   "source": [
    "list_for_graph = ['user_score','critic_score']\n",
    "\n",
    "for entry in list_for_graph:\n",
    "    correlation = ps4['total_sales'].corr(ps4[entry])\n",
    "    print(f'Корреляция между total_sales и {entry} для PS4 составляет: {correlation:0.2}')"
   ]
  },
  {
   "cell_type": "code",
   "execution_count": 43,
   "metadata": {
    "colab": {
     "base_uri": "https://localhost:8080/",
     "height": 0
    },
    "id": "zJ5iXBhuKMVG",
    "outputId": "709f986c-3b05-4461-9b3a-b5f768a26203"
   },
   "outputs": [
    {
     "data": {
      "image/png": "[encoded data removed]",
      "text/plain": [
       "<Figure size 432x288 with 1 Axes>"
      ]
     },
     "metadata": {
      "needs_background": "light"
     },
     "output_type": "display_data"
    },
    {
     "data": {
      "image/png": "[encoded data removed]",
      "text/plain": [
       "<Figure size 432x288 with 1 Axes>"
      ]
     },
     "metadata": {
      "needs_background": "light"
     },
     "output_type": "display_data"
    }
   ],
   "source": [
    "sns.scatterplot(data=ps4, x=\"critic_score\", y=\"total_sales\");\n",
    "plt.show()\n",
    "sns.scatterplot(data=ps4, x=\"user_score\", y=\"total_sales\")\n",
    "plt.show()"
   ]
  },
  {
   "cell_type": "markdown",
   "metadata": {
    "id": "Qk7lB4reSob7"
   },
   "source": [
    ">Корреляция между total_sales и user_score слабая отрицательная. Высокие оценки пользователей слабо влияют на продаваемость игры.\n",
    "\n",
    ">Корреляция между total_sales и critic_score средняя положительная. Высокие оценки критиков сильно влияют на продаваемость игры. На графике прекрасно видно, что когда оценки критиков пересекают 60, то общая продаваемость игр увеличивается.\n",
    "\n",
    "\n",
    "\n",
    "\n",
    "\n",
    "\n",
    "\n"
   ]
  },
  {
   "cell_type": "markdown",
   "metadata": {},
   "source": [
    "**PS3**"
   ]
  },
  {
   "cell_type": "code",
   "execution_count": 44,
   "metadata": {},
   "outputs": [
    {
     "name": "stdout",
     "output_type": "stream",
     "text": [
      "Корреляция между total_sales и user_score для PS3 составляет: -0.0051\n",
      "Корреляция между total_sales и critic_score для PS3 составляет: 0.33\n"
     ]
    }
   ],
   "source": [
    "ps3 = df_actual.query('platform == \"PS3\"')\n",
    "for entry in list_for_graph:\n",
    "    correlation = ps3['total_sales'].corr(ps3[entry])\n",
    "    print(f'Корреляция между total_sales и {entry} для PS3 составляет: {correlation:0.2}')"
   ]
  },
  {
   "cell_type": "code",
   "execution_count": 45,
   "metadata": {},
   "outputs": [
    {
     "data": {
      "image/png": "[encoded data removed]",
      "text/plain": [
       "<Figure size 432x288 with 1 Axes>"
      ]
     },
     "metadata": {
      "needs_background": "light"
     },
     "output_type": "display_data"
    },
    {
     "data": {
      "image/png": "[encoded data removed]",
      "text/plain": [
       "<Figure size 432x288 with 1 Axes>"
      ]
     },
     "metadata": {
      "needs_background": "light"
     },
     "output_type": "display_data"
    }
   ],
   "source": [
    "sns.scatterplot(data=ps3, x=\"critic_score\", y=\"total_sales\");\n",
    "plt.show()\n",
    "sns.scatterplot(data=ps3, x=\"user_score\", y=\"total_sales\")\n",
    "plt.show()"
   ]
  },
  {
   "cell_type": "markdown",
   "metadata": {},
   "source": [
    "Корреляция между продажами и рейтингами пользователей для PS3 очень слабая, а вот корреляция между продажами и рейтингом критиков уже чуть сильнее и составляет 0.33"
   ]
  },
  {
   "cell_type": "markdown",
   "metadata": {},
   "source": [
    "**X360**"
   ]
  },
  {
   "cell_type": "code",
   "execution_count": 46,
   "metadata": {},
   "outputs": [
    {
     "name": "stdout",
     "output_type": "stream",
     "text": [
      "Корреляция между total_sales и user_score для Xbox 360 составляет: 0.0062\n",
      "Корреляция между total_sales и critic_score для Xbox 360 составляет: 0.36\n"
     ]
    }
   ],
   "source": [
    "x360 = df_actual.query('platform == \"X360\"')\n",
    "for entry in list_for_graph:\n",
    "    correlation = x360['total_sales'].corr(x360[entry])\n",
    "    print(f'Корреляция между total_sales и {entry} для Xbox 360 составляет: {correlation:0.2}')"
   ]
  },
  {
   "cell_type": "code",
   "execution_count": 47,
   "metadata": {},
   "outputs": [
    {
     "data": {
      "image/png": "[encoded data removed]",
      "text/plain": [
       "<Figure size 432x288 with 1 Axes>"
      ]
     },
     "metadata": {
      "needs_background": "light"
     },
     "output_type": "display_data"
    },
    {
     "data": {
      "image/png": "[encoded data removed]",
      "text/plain": [
       "<Figure size 432x288 with 1 Axes>"
      ]
     },
     "metadata": {
      "needs_background": "light"
     },
     "output_type": "display_data"
    }
   ],
   "source": [
    "sns.scatterplot(data=ps3, x=\"critic_score\", y=\"total_sales\");\n",
    "plt.show()\n",
    "sns.scatterplot(data=ps3, x=\"user_score\", y=\"total_sales\")\n",
    "plt.show()"
   ]
  },
  {
   "cell_type": "markdown",
   "metadata": {},
   "source": [
    "Ситуация аналогична как в случае с PS3. Корреляция между продажами и рейтингом пользователей очень слабая, а для рейтинга критиков слегка сильнее."
   ]
  },
  {
   "cell_type": "markdown",
   "metadata": {
    "id": "L1_hQ65LSxyg"
   },
   "source": [
    "**Xbox One**"
   ]
  },
  {
   "cell_type": "code",
   "execution_count": 48,
   "metadata": {
    "colab": {
     "base_uri": "https://localhost:8080/"
    },
    "id": "mZbze8gTL6UA",
    "outputId": "269f01bc-eec9-4697-9c22-c9b65d1112a5"
   },
   "outputs": [
    {
     "name": "stdout",
     "output_type": "stream",
     "text": [
      "Корреляция между total_sales и user_score составляет: -0.069\n",
      "Корреляция между total_sales и critic_score составляет: 0.42\n"
     ]
    }
   ],
   "source": [
    "list_for_graph = ['user_score','critic_score']\n",
    "\n",
    "for entry in list_for_graph:\n",
    "    correlation = XOne['total_sales'].corr(XOne[entry])\n",
    "    print(f'Корреляция между total_sales и {entry} составляет: {correlation:0.2}')"
   ]
  },
  {
   "cell_type": "code",
   "execution_count": 49,
   "metadata": {
    "colab": {
     "base_uri": "https://localhost:8080/",
     "height": 0
    },
    "id": "Vio30CvxS3no",
    "outputId": "092f70a4-4d97-4f6c-bdbd-72224e61b7c7"
   },
   "outputs": [
    {
     "data": {
      "image/png": "[encoded data removed]",
      "text/plain": [
       "<Figure size 432x288 with 1 Axes>"
      ]
     },
     "metadata": {
      "needs_background": "light"
     },
     "output_type": "display_data"
    },
    {
     "data": {
      "image/png": "[encoded data removed]",
      "text/plain": [
       "<Figure size 432x288 with 1 Axes>"
      ]
     },
     "metadata": {
      "needs_background": "light"
     },
     "output_type": "display_data"
    }
   ],
   "source": [
    "sns.scatterplot(data=XOne, x=\"critic_score\", y=\"total_sales\");\n",
    "plt.show()\n",
    "sns.scatterplot(data=XOne, x=\"user_score\", y=\"total_sales\")\n",
    "plt.show()"
   ]
  },
  {
   "cell_type": "markdown",
   "metadata": {},
   "source": [
    "**Вывод**\n",
    "<br />\n",
    "Корреляционный анализ показал, что между продажами и рейтингами пользователей слабая связь, которая очень незначительно влияет на продажи. \n",
    "<br />\n",
    "Связь между продажами и рейтингом критиков слегка сильнее, но все равно рейтинги критиков не играют существенной в роли в продажах."
   ]
  },
  {
   "cell_type": "markdown",
   "metadata": {
    "id": "fTVtEEQ1yjuJ"
   },
   "source": [
    "### Жанры"
   ]
  },
  {
   "cell_type": "code",
   "execution_count": 50,
   "metadata": {
    "id": "hYn_DpR2S787"
   },
   "outputs": [],
   "source": [
    "genre = df_actual.pivot_table(index=['genre'],\n",
    "values='total_sales',\n",
    "aggfunc='median').reset_index().sort_values(by='total_sales',ascending=False)"
   ]
  },
  {
   "cell_type": "code",
   "execution_count": 51,
   "metadata": {
    "colab": {
     "base_uri": "https://localhost:8080/",
     "height": 0
    },
    "id": "pQyAO9K4y5jD",
    "outputId": "b340c481-10be-4758-f718-62612ae15c89"
   },
   "outputs": [
    {
     "data": {
      "image/png": "[encoded data removed]",
      "text/plain": [
       "<Figure size 1080x360 with 1 Axes>"
      ]
     },
     "metadata": {
      "needs_background": "light"
     },
     "output_type": "display_data"
    }
   ],
   "source": [
    "plt.figure(figsize=(15,5))\n",
    "sns.barplot(data = genre, x='genre',y='total_sales');\n",
    "plt.title('Продажи игр по жанрам с 2012 года');\n",
    "plt.xlabel('Жанры');\n",
    "plt.ylabel('Продажи')\n",
    "plt.show()"
   ]
  },
  {
   "cell_type": "markdown",
   "metadata": {
    "id": "nd0WA4rT0G4h"
   },
   "source": [
    "Самый прибыльный жанр - Shooter. На втором месте Sports. Думаю, популярность шутеров связано с неким соревновательным аспектом. Не зря же устраивают турниры по шутерам с огромным призовым фондом.\n",
    "<br />\n",
    "Самые низкие продажи у игр с жанрами: пазл, приключения. На мой взгляд все верно. Подобные игры интересны меньшему кругу лиц, чем \"стрелялки\" и спорт.\n"
   ]
  },
  {
   "cell_type": "markdown",
   "metadata": {
    "id": "Jx3ORCRu1tIW"
   },
   "source": [
    "### Регионы"
   ]
  },
  {
   "cell_type": "markdown",
   "metadata": {
    "id": "T2FduZMD13WQ"
   },
   "source": [
    "**Самые популярные платформы по регионам**"
   ]
  },
  {
   "cell_type": "code",
   "execution_count": 52,
   "metadata": {
    "id": "-iY1bWnezSo_"
   },
   "outputs": [],
   "source": [
    "NA = df_actual.pivot_table(index=['platform'],\n",
    "values='NA_sales',\n",
    "aggfunc='sum').reset_index().sort_values(by='NA_sales',ascending=False)\n",
    "\n",
    "genre_NA = df_actual.pivot_table(index=['genre'],\n",
    "values='NA_sales',\n",
    "aggfunc='sum').reset_index().sort_values(by='NA_sales',ascending=False)"
   ]
  },
  {
   "cell_type": "code",
   "execution_count": 53,
   "metadata": {
    "colab": {
     "base_uri": "https://localhost:8080/",
     "height": 0
    },
    "id": "z3kNX_K02Rs2",
    "outputId": "22772562-62f5-4eb9-a3b4-65f01ba04c02"
   },
   "outputs": [
    {
     "data": {
      "image/png": "[encoded data removed]",
      "text/plain": [
       "<Figure size 1080x360 with 1 Axes>"
      ]
     },
     "metadata": {
      "needs_background": "light"
     },
     "output_type": "display_data"
    },
    {
     "data": {
      "image/png": "[encoded data removed]",
      "text/plain": [
       "<Figure size 1080x360 with 1 Axes>"
      ]
     },
     "metadata": {
      "needs_background": "light"
     },
     "output_type": "display_data"
    }
   ],
   "source": [
    "plt.figure(figsize=(15,5))\n",
    "sns.barplot(data = NA, x='platform',y='NA_sales',ci=None);\n",
    "plt.title('Продажи по платформам с 2012 года в Северной Америке');\n",
    "plt.xlabel('Платформа');\n",
    "plt.ylabel('Продажи')\n",
    "#Сразу посмотрим продажи по жанрам\n",
    "plt.figure(figsize=(15,5))\n",
    "sns.barplot(data = genre_NA, x='genre',y='NA_sales',ci=None);\n",
    "plt.title('Продажи игр по жанрам с 2012 года в Северной Америке');\n",
    "plt.xlabel('Платформа');\n",
    "plt.ylabel('Продажи')\n",
    "plt.show()"
   ]
  },
  {
   "cell_type": "markdown",
   "metadata": {
    "id": "B9DXJwN4A5gt"
   },
   "source": [
    "В Северной Америке топ 5 платформ занимают:\n",
    "1. Xbox 360  \n",
    "2. PS4\n",
    "3. PS3\n",
    "4. Xbox One\n",
    "5. 3DS \n",
    ">\n",
    "Различия в продажа небольшие. Единственное можно отметить явного лидера Xbox 360.\n",
    "\n",
    ">топ 5 жанров:\n",
    "1. Action  \n",
    "2. Shooter\n",
    "3. Sports\n",
    "4. Role-Playing\n",
    "5. Misc\n",
    "> \n",
    "Первые 2 места занимают игры с самой большой аудиторией по интересам. Также в играх данных категорий постоянно проводят турниры, поэтому у них такая большая аудитория поклонников."
   ]
  },
  {
   "cell_type": "code",
   "execution_count": 54,
   "metadata": {
    "id": "OSiDwWlu8i5B"
   },
   "outputs": [],
   "source": [
    "EU = df_actual.pivot_table(index=['platform'],\n",
    "values='EU_sales',\n",
    "aggfunc='sum').reset_index().sort_values(by='EU_sales',ascending=False)\n",
    "\n",
    "genre_EU = df_actual.pivot_table(index=['genre'],\n",
    "values='EU_sales',\n",
    "aggfunc='sum').reset_index().sort_values(by='EU_sales',ascending=False)"
   ]
  },
  {
   "cell_type": "code",
   "execution_count": 55,
   "metadata": {
    "colab": {
     "base_uri": "https://localhost:8080/",
     "height": 0
    },
    "id": "AkaYMoHmA6uc",
    "outputId": "4f9c10e8-7b82-41a1-ba03-e0aae2141b6b"
   },
   "outputs": [
    {
     "data": {
      "image/png": "[encoded data removed]",
      "text/plain": [
       "<Figure size 1080x360 with 1 Axes>"
      ]
     },
     "metadata": {
      "needs_background": "light"
     },
     "output_type": "display_data"
    },
    {
     "data": {
      "image/png": "[encoded data removed]",
      "text/plain": [
       "<Figure size 1080x360 with 1 Axes>"
      ]
     },
     "metadata": {
      "needs_background": "light"
     },
     "output_type": "display_data"
    }
   ],
   "source": [
    "plt.figure(figsize=(15,5))\n",
    "sns.barplot(data = EU, x='platform',y='EU_sales',ci=None);\n",
    "plt.title('Продажи по платформам с 2012 года в Европе');\n",
    "plt.xlabel('Платформа');\n",
    "plt.ylabel('Продажи')\n",
    "#Сразу посмотрим продажи по жанрам\n",
    "plt.figure(figsize=(15,5))\n",
    "sns.barplot(data = genre_EU, x='genre',y='EU_sales',ci=None);\n",
    "plt.title('Продажи игр по жанрам с 2012 года в Европе');\n",
    "plt.xlabel('Платформа');\n",
    "plt.ylabel('Продажи')\n",
    "plt.show()"
   ]
  },
  {
   "cell_type": "markdown",
   "metadata": {
    "id": "1X47ScFXA-wy"
   },
   "source": [
    "Ситуация с популярными жанрами игр аналогичная как и в Северной Америке.\n",
    "> \n",
    "Топ 5 популярных платформ в Европе:\n",
    "1. PS4  \n",
    "2. PS3\n",
    "3. Xbox 360\n",
    "4. Xbox One\n",
    "5. 3DS\n",
    "> \n",
    "Лидируют платформы компании Sony. Следом за ними сразу идут платформы компании Microsoft. PS4 и PS3 занимают первые места по продажам из-за эксклюзивных игр.\n",
    "\n",
    "\n",
    "\n"
   ]
  },
  {
   "cell_type": "code",
   "execution_count": 56,
   "metadata": {
    "id": "NxLzOw9DA9f2"
   },
   "outputs": [],
   "source": [
    "JP = df_actual.pivot_table(index=['platform'],\n",
    "values='JP_sales',\n",
    "aggfunc='sum').reset_index().sort_values(by='JP_sales',ascending=False)\n",
    "\n",
    "genre_JP = df_actual.pivot_table(index=['genre'],\n",
    "values='JP_sales',\n",
    "aggfunc='sum').reset_index().sort_values(by='JP_sales',ascending=False)"
   ]
  },
  {
   "cell_type": "code",
   "execution_count": 57,
   "metadata": {
    "colab": {
     "base_uri": "https://localhost:8080/",
     "height": 0
    },
    "id": "X0zOmvVNA_5T",
    "outputId": "23458b92-3f09-409f-cd6f-d161815abf62"
   },
   "outputs": [
    {
     "data": {
      "image/png": "[encoded data removed]",
      "text/plain": [
       "<Figure size 1080x360 with 1 Axes>"
      ]
     },
     "metadata": {
      "needs_background": "light"
     },
     "output_type": "display_data"
    },
    {
     "data": {
      "image/png": "[encoded data removed]",
      "text/plain": [
       "<Figure size 1080x360 with 1 Axes>"
      ]
     },
     "metadata": {
      "needs_background": "light"
     },
     "output_type": "display_data"
    }
   ],
   "source": [
    "plt.figure(figsize=(15,5))\n",
    "sns.barplot(data = JP, x='platform',y='JP_sales',ci=None);\n",
    "plt.title('Продажи по платформам с 2012 года в Японии');\n",
    "plt.xlabel('Платформа');\n",
    "plt.ylabel('Продажи')\n",
    "#Сразу посмотрим продажи по жанрам\n",
    "plt.figure(figsize=(15,5))\n",
    "sns.barplot(data = genre_JP, x='genre',y='JP_sales',ci=None);\n",
    "plt.title('Продажи игр по жанрам с 2012 года в Японии');\n",
    "plt.xlabel('Платформа');\n",
    "plt.ylabel('Продажи')\n",
    "plt.show()"
   ]
  },
  {
   "cell_type": "markdown",
   "metadata": {
    "id": "m-oge8C9V_AX"
   },
   "source": [
    "В Японии лидер платформ - 3DS, причем с большим отрывом. Топ 5 платформ по продажам в Японии:\n",
    "1. 3DS\n",
    "2. PS3\n",
    "3. PSV\n",
    "4. PS4\n",
    "5. WiiU\n",
    ">\n",
    "Nintendo 3DS занимает лидирующую позицию по продажам в Японии, потому что компания Nintendo основана в Японии. К тому же именно на Nintendo вышла легендарная, которая так любима японцами, а именно The Legend of Zelda. \n",
    "> \n",
    "Топ 5 популярных жанров в Японии:\n",
    "1. Ролевые игры  \n",
    "2. Экш-игры  \n",
    "3. Разное\n",
    "4. Симуляторы\n",
    "5. Драки\n",
    ">\n",
    "Самые популярный жанр игр в Японии - ролевые игры. Мои исследования объясняют почему ролевые игры так популярны в Японии. Все дело в том, что почти все ролевые игры сделаны в Японии и направленны на японскую аудиторию.\n",
    "\n",
    "\n",
    "\n"
   ]
  },
  {
   "cell_type": "code",
   "execution_count": 58,
   "metadata": {},
   "outputs": [
    {
     "name": "stderr",
     "output_type": "stream",
     "text": [
      "/tmp/ipykernel_109/1817439660.py:1: SettingWithCopyWarning: \n",
      "A value is trying to be set on a copy of a slice from a DataFrame.\n",
      "Try using .loc[row_indexer,col_indexer] = value instead\n",
      "\n",
      "See the caveats in the documentation: https://pandas.pydata.org/pandas-docs/stable/user_guide/indexing.html#returning-a-view-versus-a-copy\n",
      "  df_actual['rating'] = df_actual['rating'].fillna('tdb')\n"
     ]
    }
   ],
   "source": [
    "df_actual['rating'] = df_actual['rating'].fillna('tdb')"
   ]
  },
  {
   "cell_type": "code",
   "execution_count": 59,
   "metadata": {
    "id": "wGR3xOK1BE0P"
   },
   "outputs": [],
   "source": [
    "NA_rt = df_actual[['NA_sales','rating']]\n",
    "EU_rt = df_actual[['EU_sales','rating']]\n",
    "JP_rt = df_actual[['JP_sales','rating']]"
   ]
  },
  {
   "cell_type": "code",
   "execution_count": 60,
   "metadata": {
    "colab": {
     "base_uri": "https://localhost:8080/",
     "height": 0
    },
    "id": "gqklTrcsd0g1",
    "outputId": "b632fbb3-72da-421d-e9b8-ffafcaaa16b7"
   },
   "outputs": [
    {
     "data": {
      "image/png": "[encoded data removed]",
      "text/plain": [
       "<Figure size 1080x360 with 1 Axes>"
      ]
     },
     "metadata": {
      "needs_background": "light"
     },
     "output_type": "display_data"
    },
    {
     "data": {
      "image/png": "[encoded data removed]",
      "text/plain": [
       "<Figure size 1080x360 with 1 Axes>"
      ]
     },
     "metadata": {
      "needs_background": "light"
     },
     "output_type": "display_data"
    },
    {
     "data": {
      "image/png": "[encoded data removed]",
      "text/plain": [
       "<Figure size 1080x360 with 1 Axes>"
      ]
     },
     "metadata": {
      "needs_background": "light"
     },
     "output_type": "display_data"
    }
   ],
   "source": [
    "plt.figure(figsize=(15,5))\n",
    "sns.barplot(data = NA_rt, x='rating',y='NA_sales',ci=None);\n",
    "plt.title('Продажи по рейтингу с 2012 года в Северной Америке');\n",
    "plt.xlabel('Рейтинг');\n",
    "plt.ylabel('Продажи')\n",
    "\n",
    "plt.figure(figsize=(15,5))\n",
    "sns.barplot(data = EU_rt, x='rating',y='EU_sales',ci=None);\n",
    "plt.title('Продажи по рейтингу с 2012 года в Европе');\n",
    "plt.xlabel('Рейтинг');\n",
    "plt.ylabel('Продажи')\n",
    "\n",
    "plt.figure(figsize=(15,5))\n",
    "sns.barplot(data = JP_rt, x='rating',y='JP_sales',ci=None);\n",
    "plt.title('Продажи по рейтингу с 2012 года в Японии');\n",
    "plt.xlabel('Рейтинг');\n",
    "plt.ylabel('Продажи')\n",
    "plt.show()"
   ]
  },
  {
   "cell_type": "markdown",
   "metadata": {
    "id": "1gtA7fVUhSCr"
   },
   "source": [
    "Рейтинг ERSB не влияет на продажи игр. Поскольку основной контингент, которые играют в игры стартует в 17 лет, то и большинство игр рассчитаны для этих людей, поэтому в Северной Америке и Европе самые большие продажи рейтинга M (подходит для лиц старше 17 лет). Рейтинг M как раз таки получают экшн-игры и шутеры.\n",
    "<br />\n",
    "Самые продаваемые игры в Японии -  игры без рейтинга, а второе место занимает рейтинг Е - Подходит для всех возрастных категорий. Как раз таки ролевые игры получают данный рейтинг, а исследования показывают, что самый популярный рейтинг игр в Японии - ролевые, поэтому такие большие продажи у категории Е.\n",
    "<br />\n",
    "Такое большое количество игр без рейтинга легко объяснить. В Японии очень серьезная политика оценки игр и если игра не проходит под требования, то ее не выпускают на рынок, поэтому легче не ставить рейтинг, чтобы была хоть какая-то возможность показать игру японской аудитории."
   ]
  },
  {
   "cell_type": "markdown",
   "metadata": {
    "id": "680PGLfFjPwr"
   },
   "source": [
    "## Проверка гипотез"
   ]
  },
  {
   "cell_type": "markdown",
   "metadata": {
    "id": "nQm_NsW4jaGG"
   },
   "source": [
    "Нулевые гипотезы H_0:  \n",
    "\n",
    "*   Средние пользовательские рейтинги платформ Xbox One и PC одинаковые\n",
    "*   Средние пользовательские рейтинги жанров Action (англ. «действие», экшен-игры) и Sports (англ. «спортивные соревнования») равны.\n",
    "\n",
    "> Alpha = .05\n",
    "\n",
    "Альтернативные гипотезы H_1:\n",
    "*   Средние пользовательские рейтинги платформ Xbox One и PC не одинаковые\n",
    "*   Средние пользовательские рейтинги жанров Action  и Sports различаются.\n"
   ]
  },
  {
   "cell_type": "markdown",
   "metadata": {
    "id": "KgpQAaUu-zj-"
   },
   "source": [
    "Гипотеза Xbox One и PC"
   ]
  },
  {
   "cell_type": "code",
   "execution_count": 61,
   "metadata": {
    "colab": {
     "base_uri": "https://localhost:8080/"
    },
    "id": "yz0-6LsW-qHb",
    "outputId": "ea1cf464-cb7b-41df-9fe0-c2f2a6020377"
   },
   "outputs": [
    {
     "name": "stdout",
     "output_type": "stream",
     "text": [
      "p-значение: 0.5489537965134987\n",
      "Не можем отвергнуть нулевую гипотезу.\n"
     ]
    }
   ],
   "source": [
    "alpha = 0.05\n",
    "results = st.ttest_ind(df_actual[df_actual['platform'] == 'XOne']['user_score'],\\\n",
    "                       df_actual[df_actual['platform'] == 'PC']['user_score'],\\\n",
    "                       equal_var = False,nan_policy='omit')\n",
    "print('p-значение:', results.pvalue)\n",
    "if results.pvalue < alpha:\n",
    "    print('Отвергаем нулевую гипотезу.')\n",
    "else:\n",
    "    print('Не можем отвергнуть нулевую гипотезу.')"
   ]
  },
  {
   "cell_type": "markdown",
   "metadata": {
    "id": "2NnH6EOxGZ-4"
   },
   "source": [
    "В итоге, мы не отвергаем нулевую гипотезу. Средние пользовательские рейтинги платформ Xbox One и PC одинаковые"
   ]
  },
  {
   "cell_type": "code",
   "execution_count": 62,
   "metadata": {
    "colab": {
     "base_uri": "https://localhost:8080/"
    },
    "id": "vDr_IET1_vZr",
    "outputId": "40501209-c404-4337-9b58-34f58eb5b285"
   },
   "outputs": [
    {
     "name": "stdout",
     "output_type": "stream",
     "text": [
      "p-значение: 4.24307776572644e-20\n",
      "Отвергаем нулевую гипотезу.\n"
     ]
    }
   ],
   "source": [
    "alpha = 0.05\n",
    "results = st.ttest_ind(df_actual[df_actual['genre'] == 'Action']['user_score'],\\\n",
    "                       df_actual[df_actual['genre'] == 'Sports']['user_score'],\\\n",
    "                       equal_var = False,nan_policy='omit')\n",
    "print('p-значение:', results.pvalue)\n",
    "if results.pvalue < alpha:\n",
    "    print('Отвергаем нулевую гипотезу.')\n",
    "else:\n",
    "    print('Не можем отвергнуть нулевую гипотезу.')"
   ]
  },
  {
   "cell_type": "markdown",
   "metadata": {
    "id": "UABSPpuRG0gt"
   },
   "source": [
    "Не удалось опровергнуть нулевую гипотезу. Принимаем альтернативную. Средние пользовательски рейтинги Action и Sports различаются"
   ]
  },
  {
   "cell_type": "markdown",
   "metadata": {},
   "source": [
    "## Вывод \n",
    "Итоги предобработки данных:\n",
    "* Название столбцов приведены к нижнему регистру (кроме EU_sales, JP_sales, NA_sales)\n",
    "* Изменены типы данных в столбцах: year_of_release, critic_score, user_score.\n",
    "* Добавлен столбец с суммарным количеством продаж по всем регионам (total_sales)\n",
    "* Произведена работа с пропусками\n",
    "* В столбце user_score оценка 'tbd' была заменена на nan\n",
    "* Выполнены проверки с последующим удалением явных и неявных дубликатов.\n",
    "<br />\n",
    "Данные не сильно повреждены, но нужна была предобработка, чтобы дальнейшие исследование соотвествовало истине.\n",
    "<br />\n",
    "<br /> Итоги исследовательского анализа:\n",
    "* Наиболее перспективными платформами являются PS4 и Xbox One\n",
    "* Рейтинги критиков и пользователей влияют на общие продажи незначительно.\n",
    "* Самый продоваемый жанр - Shooter\n",
    "* Самые лояльные страны для запуска рекламной кампании: Северная Америка, Европа\n",
    "* Наиболее продаваемый рейтинг в Северной Америке и Европе - М (от 17 лет)\n",
    "<br />\n",
    "<br />\n",
    "Исходя из проверки гипотез можно предположить, что средние пользовательские рейтинги платформ примерно равны, а средние пользовательские рейтинги жанров различаются."
   ]
  }
 ],
 "metadata": {
  "ExecuteTimeLog": [
   {
    "duration": 1353,
    "start_time": "2023-01-06T15:44:05.960Z"
   },
   {
    "duration": 31,
    "start_time": "2023-01-06T15:44:07.315Z"
   },
   {
    "duration": 685,
    "start_time": "2023-01-06T15:44:07.348Z"
   },
   {
    "duration": 5,
    "start_time": "2023-01-06T15:44:08.035Z"
   },
   {
    "duration": 71,
    "start_time": "2023-01-06T15:44:08.042Z"
   },
   {
    "duration": 6,
    "start_time": "2023-01-06T15:44:08.115Z"
   },
   {
    "duration": 8,
    "start_time": "2023-01-06T15:44:08.123Z"
   },
   {
    "duration": 8,
    "start_time": "2023-01-06T15:44:08.133Z"
   },
   {
    "duration": 9,
    "start_time": "2023-01-06T15:44:08.142Z"
   },
   {
    "duration": 6,
    "start_time": "2023-01-06T15:44:08.153Z"
   },
   {
    "duration": 10,
    "start_time": "2023-01-06T15:44:08.160Z"
   },
   {
    "duration": 7,
    "start_time": "2023-01-06T15:44:08.172Z"
   },
   {
    "duration": 32,
    "start_time": "2023-01-06T15:44:08.180Z"
   },
   {
    "duration": 6,
    "start_time": "2023-01-06T15:44:08.213Z"
   },
   {
    "duration": 8,
    "start_time": "2023-01-06T15:44:08.221Z"
   },
   {
    "duration": 25,
    "start_time": "2023-01-06T15:44:08.230Z"
   },
   {
    "duration": 13,
    "start_time": "2023-01-06T15:44:08.257Z"
   },
   {
    "duration": 5,
    "start_time": "2023-01-06T15:44:08.271Z"
   },
   {
    "duration": 23,
    "start_time": "2023-01-06T15:44:08.278Z"
   },
   {
    "duration": 5,
    "start_time": "2023-01-06T15:44:08.312Z"
   },
   {
    "duration": 6,
    "start_time": "2023-01-06T15:44:08.318Z"
   },
   {
    "duration": 16,
    "start_time": "2023-01-06T15:44:08.326Z"
   },
   {
    "duration": 38,
    "start_time": "2023-01-06T15:44:08.344Z"
   },
   {
    "duration": 5,
    "start_time": "2023-01-06T15:44:08.384Z"
   },
   {
    "duration": 136,
    "start_time": "2023-01-06T15:44:08.411Z"
   },
   {
    "duration": 10,
    "start_time": "2023-01-06T15:44:08.548Z"
   },
   {
    "duration": 187,
    "start_time": "2023-01-06T15:44:08.559Z"
   },
   {
    "duration": 6,
    "start_time": "2023-01-06T15:44:08.750Z"
   },
   {
    "duration": 229,
    "start_time": "2023-01-06T15:44:08.757Z"
   },
   {
    "duration": 258,
    "start_time": "2023-01-06T15:44:08.987Z"
   },
   {
    "duration": 5,
    "start_time": "2023-01-06T15:44:09.246Z"
   },
   {
    "duration": 220,
    "start_time": "2023-01-06T15:44:09.252Z"
   },
   {
    "duration": 44,
    "start_time": "2023-01-06T15:44:09.473Z"
   },
   {
    "duration": 4,
    "start_time": "2023-01-06T15:44:09.519Z"
   },
   {
    "duration": 206,
    "start_time": "2023-01-06T15:44:09.525Z"
   },
   {
    "duration": 28,
    "start_time": "2023-01-06T15:44:09.732Z"
   },
   {
    "duration": 5,
    "start_time": "2023-01-06T15:44:09.761Z"
   },
   {
    "duration": 275,
    "start_time": "2023-01-06T15:44:09.767Z"
   },
   {
    "duration": 5,
    "start_time": "2023-01-06T15:44:10.043Z"
   },
   {
    "duration": 276,
    "start_time": "2023-01-06T15:44:10.049Z"
   },
   {
    "duration": 10,
    "start_time": "2023-01-06T15:44:10.327Z"
   },
   {
    "duration": 194,
    "start_time": "2023-01-06T15:44:10.338Z"
   },
   {
    "duration": 17,
    "start_time": "2023-01-06T15:44:10.534Z"
   },
   {
    "duration": 352,
    "start_time": "2023-01-06T15:44:10.553Z"
   },
   {
    "duration": 15,
    "start_time": "2023-01-06T15:44:10.912Z"
   },
   {
    "duration": 435,
    "start_time": "2023-01-06T15:44:10.929Z"
   },
   {
    "duration": 16,
    "start_time": "2023-01-06T15:44:11.365Z"
   },
   {
    "duration": 354,
    "start_time": "2023-01-06T15:44:11.382Z"
   },
   {
    "duration": 5,
    "start_time": "2023-01-06T15:44:11.737Z"
   },
   {
    "duration": 377,
    "start_time": "2023-01-06T15:44:11.744Z"
   },
   {
    "duration": 3,
    "start_time": "2023-01-06T15:44:12.122Z"
   },
   {
    "duration": 12,
    "start_time": "2023-01-06T15:44:12.127Z"
   },
   {
    "duration": 10,
    "start_time": "2023-01-06T15:44:12.141Z"
   },
   {
    "duration": 28,
    "start_time": "2023-01-06T15:44:40.481Z"
   },
   {
    "duration": 52,
    "start_time": "2023-01-07T07:01:48.273Z"
   },
   {
    "duration": 1651,
    "start_time": "2023-01-07T07:02:05.140Z"
   },
   {
    "duration": 35,
    "start_time": "2023-01-07T07:02:06.794Z"
   },
   {
    "duration": 809,
    "start_time": "2023-01-07T07:02:06.831Z"
   },
   {
    "duration": 10,
    "start_time": "2023-01-07T07:02:07.643Z"
   },
   {
    "duration": 86,
    "start_time": "2023-01-07T07:02:07.656Z"
   },
   {
    "duration": 11,
    "start_time": "2023-01-07T07:02:07.743Z"
   },
   {
    "duration": 12,
    "start_time": "2023-01-07T07:02:07.756Z"
   },
   {
    "duration": 15,
    "start_time": "2023-01-07T07:02:07.770Z"
   },
   {
    "duration": 8,
    "start_time": "2023-01-07T07:02:07.787Z"
   },
   {
    "duration": 54,
    "start_time": "2023-01-07T07:02:07.798Z"
   },
   {
    "duration": 10,
    "start_time": "2023-01-07T07:02:07.854Z"
   },
   {
    "duration": 29,
    "start_time": "2023-01-07T07:02:07.866Z"
   },
   {
    "duration": 9,
    "start_time": "2023-01-07T07:02:07.897Z"
   },
   {
    "duration": 48,
    "start_time": "2023-01-07T07:02:07.908Z"
   },
   {
    "duration": 26,
    "start_time": "2023-01-07T07:02:07.957Z"
   },
   {
    "duration": 96,
    "start_time": "2023-01-07T07:02:07.985Z"
   },
   {
    "duration": 75,
    "start_time": "2023-01-07T07:02:08.084Z"
   },
   {
    "duration": 13,
    "start_time": "2023-01-07T07:02:08.162Z"
   },
   {
    "duration": 21,
    "start_time": "2023-01-07T07:02:08.177Z"
   },
   {
    "duration": 52,
    "start_time": "2023-01-07T07:02:08.200Z"
   },
   {
    "duration": 6,
    "start_time": "2023-01-07T07:02:08.255Z"
   },
   {
    "duration": 28,
    "start_time": "2023-01-07T07:02:08.263Z"
   },
   {
    "duration": 159,
    "start_time": "2023-01-07T07:02:08.293Z"
   },
   {
    "duration": 7,
    "start_time": "2023-01-07T07:02:08.454Z"
   },
   {
    "duration": 426,
    "start_time": "2023-01-07T07:02:08.463Z"
   },
   {
    "duration": 63,
    "start_time": "2023-01-07T07:02:08.892Z"
   },
   {
    "duration": 500,
    "start_time": "2023-01-07T07:02:08.958Z"
   },
   {
    "duration": 7,
    "start_time": "2023-01-07T07:02:09.462Z"
   },
   {
    "duration": 707,
    "start_time": "2023-01-07T07:02:09.471Z"
   },
   {
    "duration": 684,
    "start_time": "2023-01-07T07:02:10.180Z"
   },
   {
    "duration": 7,
    "start_time": "2023-01-07T07:02:10.867Z"
   },
   {
    "duration": 296,
    "start_time": "2023-01-07T07:02:10.876Z"
   },
   {
    "duration": 42,
    "start_time": "2023-01-07T07:02:11.175Z"
   },
   {
    "duration": 7,
    "start_time": "2023-01-07T07:02:11.219Z"
   },
   {
    "duration": 317,
    "start_time": "2023-01-07T07:02:11.227Z"
   },
   {
    "duration": 36,
    "start_time": "2023-01-07T07:02:11.546Z"
   },
   {
    "duration": 7,
    "start_time": "2023-01-07T07:02:11.584Z"
   },
   {
    "duration": 379,
    "start_time": "2023-01-07T07:02:11.593Z"
   },
   {
    "duration": 7,
    "start_time": "2023-01-07T07:02:11.974Z"
   },
   {
    "duration": 368,
    "start_time": "2023-01-07T07:02:11.982Z"
   },
   {
    "duration": 12,
    "start_time": "2023-01-07T07:02:12.352Z"
   },
   {
    "duration": 245,
    "start_time": "2023-01-07T07:02:12.366Z"
   },
   {
    "duration": 19,
    "start_time": "2023-01-07T07:02:12.613Z"
   },
   {
    "duration": 469,
    "start_time": "2023-01-07T07:02:12.634Z"
   },
   {
    "duration": 21,
    "start_time": "2023-01-07T07:02:13.105Z"
   },
   {
    "duration": 543,
    "start_time": "2023-01-07T07:02:13.128Z"
   },
   {
    "duration": 20,
    "start_time": "2023-01-07T07:02:13.673Z"
   },
   {
    "duration": 405,
    "start_time": "2023-01-07T07:02:13.696Z"
   },
   {
    "duration": 7,
    "start_time": "2023-01-07T07:02:14.103Z"
   },
   {
    "duration": 473,
    "start_time": "2023-01-07T07:02:14.112Z"
   },
   {
    "duration": 3,
    "start_time": "2023-01-07T07:02:14.587Z"
   },
   {
    "duration": 12,
    "start_time": "2023-01-07T07:02:14.592Z"
   },
   {
    "duration": 17,
    "start_time": "2023-01-07T07:02:14.606Z"
   },
   {
    "duration": 251,
    "start_time": "2023-01-07T07:02:14.629Z"
   },
   {
    "duration": 247,
    "start_time": "2023-01-07T07:02:28.265Z"
   },
   {
    "duration": 231,
    "start_time": "2023-01-07T07:02:35.413Z"
   },
   {
    "duration": 236,
    "start_time": "2023-01-07T07:02:50.832Z"
   },
   {
    "duration": 445,
    "start_time": "2023-01-07T07:02:57.623Z"
   },
   {
    "duration": 668,
    "start_time": "2023-01-07T07:03:03.970Z"
   },
   {
    "duration": 595,
    "start_time": "2023-01-07T07:03:11.013Z"
   },
   {
    "duration": 804,
    "start_time": "2023-01-07T07:03:20.651Z"
   },
   {
    "duration": 561,
    "start_time": "2023-01-07T07:03:26.424Z"
   },
   {
    "duration": 4,
    "start_time": "2023-01-07T07:26:54.527Z"
   },
   {
    "duration": 58,
    "start_time": "2023-01-07T07:26:54.941Z"
   },
   {
    "duration": 15,
    "start_time": "2023-01-07T07:31:14.107Z"
   },
   {
    "duration": 4,
    "start_time": "2023-01-07T07:42:09.677Z"
   },
   {
    "duration": 1328,
    "start_time": "2023-01-07T07:42:15.667Z"
   },
   {
    "duration": 57,
    "start_time": "2023-01-07T07:42:16.998Z"
   },
   {
    "duration": 33,
    "start_time": "2023-01-07T07:42:17.057Z"
   },
   {
    "duration": 824,
    "start_time": "2023-01-07T07:42:17.093Z"
   },
   {
    "duration": 7,
    "start_time": "2023-01-07T07:42:17.919Z"
   },
   {
    "duration": 111,
    "start_time": "2023-01-07T07:42:17.928Z"
   },
   {
    "duration": 17,
    "start_time": "2023-01-07T07:42:18.041Z"
   },
   {
    "duration": 12,
    "start_time": "2023-01-07T07:42:18.060Z"
   },
   {
    "duration": 8,
    "start_time": "2023-01-07T07:42:18.075Z"
   },
   {
    "duration": 9,
    "start_time": "2023-01-07T07:42:18.086Z"
   },
   {
    "duration": 6,
    "start_time": "2023-01-07T07:42:18.097Z"
   },
   {
    "duration": 10,
    "start_time": "2023-01-07T07:42:18.105Z"
   },
   {
    "duration": 39,
    "start_time": "2023-01-07T07:42:18.118Z"
   },
   {
    "duration": 15,
    "start_time": "2023-01-07T07:42:18.160Z"
   },
   {
    "duration": 18,
    "start_time": "2023-01-07T07:42:18.178Z"
   },
   {
    "duration": 15,
    "start_time": "2023-01-07T07:42:18.199Z"
   },
   {
    "duration": 52,
    "start_time": "2023-01-07T07:42:18.217Z"
   },
   {
    "duration": 16,
    "start_time": "2023-01-07T07:42:18.271Z"
   },
   {
    "duration": 7,
    "start_time": "2023-01-07T07:42:18.289Z"
   },
   {
    "duration": 12,
    "start_time": "2023-01-07T07:42:18.298Z"
   },
   {
    "duration": 7,
    "start_time": "2023-01-07T07:42:18.312Z"
   },
   {
    "duration": 6,
    "start_time": "2023-01-07T07:42:18.351Z"
   },
   {
    "duration": 22,
    "start_time": "2023-01-07T07:42:18.359Z"
   },
   {
    "duration": 77,
    "start_time": "2023-01-07T07:42:18.384Z"
   },
   {
    "duration": 7,
    "start_time": "2023-01-07T07:42:18.463Z"
   },
   {
    "duration": 177,
    "start_time": "2023-01-07T07:42:18.472Z"
   },
   {
    "duration": 12,
    "start_time": "2023-01-07T07:42:18.652Z"
   },
   {
    "duration": 215,
    "start_time": "2023-01-07T07:42:18.668Z"
   },
   {
    "duration": 10,
    "start_time": "2023-01-07T07:42:18.885Z"
   },
   {
    "duration": 352,
    "start_time": "2023-01-07T07:42:18.897Z"
   },
   {
    "duration": 310,
    "start_time": "2023-01-07T07:42:19.251Z"
   },
   {
    "duration": 12,
    "start_time": "2023-01-07T07:42:19.564Z"
   },
   {
    "duration": 312,
    "start_time": "2023-01-07T07:42:19.579Z"
   },
   {
    "duration": 58,
    "start_time": "2023-01-07T07:42:19.894Z"
   },
   {
    "duration": 9,
    "start_time": "2023-01-07T07:42:19.955Z"
   },
   {
    "duration": 353,
    "start_time": "2023-01-07T07:42:19.966Z"
   },
   {
    "duration": 62,
    "start_time": "2023-01-07T07:42:20.322Z"
   },
   {
    "duration": 7,
    "start_time": "2023-01-07T07:42:20.387Z"
   },
   {
    "duration": 361,
    "start_time": "2023-01-07T07:42:20.396Z"
   },
   {
    "duration": 8,
    "start_time": "2023-01-07T07:42:20.759Z"
   },
   {
    "duration": 372,
    "start_time": "2023-01-07T07:42:20.769Z"
   },
   {
    "duration": 18,
    "start_time": "2023-01-07T07:42:21.143Z"
   },
   {
    "duration": 224,
    "start_time": "2023-01-07T07:42:21.163Z"
   },
   {
    "duration": 24,
    "start_time": "2023-01-07T07:42:21.389Z"
   },
   {
    "duration": 442,
    "start_time": "2023-01-07T07:42:21.415Z"
   },
   {
    "duration": 24,
    "start_time": "2023-01-07T07:42:21.860Z"
   },
   {
    "duration": 554,
    "start_time": "2023-01-07T07:42:21.886Z"
   },
   {
    "duration": 28,
    "start_time": "2023-01-07T07:42:22.442Z"
   },
   {
    "duration": 398,
    "start_time": "2023-01-07T07:42:22.473Z"
   },
   {
    "duration": 7,
    "start_time": "2023-01-07T07:42:22.873Z"
   },
   {
    "duration": 504,
    "start_time": "2023-01-07T07:42:22.882Z"
   },
   {
    "duration": 13,
    "start_time": "2023-01-07T07:42:23.388Z"
   },
   {
    "duration": 16,
    "start_time": "2023-01-07T07:42:23.403Z"
   },
   {
    "duration": 8,
    "start_time": "2023-01-07T07:55:30.542Z"
   },
   {
    "duration": 1377,
    "start_time": "2023-01-08T09:02:14.586Z"
   },
   {
    "duration": 104,
    "start_time": "2023-01-08T09:02:15.965Z"
   },
   {
    "duration": 32,
    "start_time": "2023-01-08T09:02:16.076Z"
   },
   {
    "duration": 773,
    "start_time": "2023-01-08T09:02:16.110Z"
   },
   {
    "duration": 6,
    "start_time": "2023-01-08T09:02:16.885Z"
   },
   {
    "duration": 78,
    "start_time": "2023-01-08T09:02:16.893Z"
   },
   {
    "duration": 8,
    "start_time": "2023-01-08T09:02:16.973Z"
   },
   {
    "duration": 39,
    "start_time": "2023-01-08T09:02:16.983Z"
   },
   {
    "duration": 11,
    "start_time": "2023-01-08T09:02:17.024Z"
   },
   {
    "duration": 7,
    "start_time": "2023-01-08T09:02:17.038Z"
   },
   {
    "duration": 8,
    "start_time": "2023-01-08T09:02:17.047Z"
   },
   {
    "duration": 8,
    "start_time": "2023-01-08T09:02:17.057Z"
   },
   {
    "duration": 9,
    "start_time": "2023-01-08T09:02:17.067Z"
   },
   {
    "duration": 9,
    "start_time": "2023-01-08T09:02:17.077Z"
   },
   {
    "duration": 9,
    "start_time": "2023-01-08T09:02:17.087Z"
   },
   {
    "duration": 10,
    "start_time": "2023-01-08T09:02:17.098Z"
   },
   {
    "duration": 54,
    "start_time": "2023-01-08T09:02:17.109Z"
   },
   {
    "duration": 14,
    "start_time": "2023-01-08T09:02:17.165Z"
   },
   {
    "duration": 19,
    "start_time": "2023-01-08T09:02:17.181Z"
   },
   {
    "duration": 12,
    "start_time": "2023-01-08T09:02:17.203Z"
   },
   {
    "duration": 7,
    "start_time": "2023-01-08T09:02:17.237Z"
   },
   {
    "duration": 12,
    "start_time": "2023-01-08T09:02:17.246Z"
   },
   {
    "duration": 15,
    "start_time": "2023-01-08T09:02:17.260Z"
   },
   {
    "duration": 20,
    "start_time": "2023-01-08T09:02:17.277Z"
   },
   {
    "duration": 87,
    "start_time": "2023-01-08T09:02:17.300Z"
   },
   {
    "duration": 5,
    "start_time": "2023-01-08T09:02:17.389Z"
   },
   {
    "duration": 206,
    "start_time": "2023-01-08T09:02:17.396Z"
   },
   {
    "duration": 11,
    "start_time": "2023-01-08T09:02:17.606Z"
   },
   {
    "duration": 207,
    "start_time": "2023-01-08T09:02:17.619Z"
   },
   {
    "duration": 10,
    "start_time": "2023-01-08T09:02:17.836Z"
   },
   {
    "duration": 310,
    "start_time": "2023-01-08T09:02:17.848Z"
   },
   {
    "duration": 270,
    "start_time": "2023-01-08T09:02:18.159Z"
   },
   {
    "duration": 6,
    "start_time": "2023-01-08T09:02:18.431Z"
   },
   {
    "duration": 259,
    "start_time": "2023-01-08T09:02:18.438Z"
   },
   {
    "duration": 51,
    "start_time": "2023-01-08T09:02:18.699Z"
   },
   {
    "duration": 5,
    "start_time": "2023-01-08T09:02:18.752Z"
   },
   {
    "duration": 252,
    "start_time": "2023-01-08T09:02:18.759Z"
   },
   {
    "duration": 60,
    "start_time": "2023-01-08T09:02:19.013Z"
   },
   {
    "duration": 6,
    "start_time": "2023-01-08T09:02:19.076Z"
   },
   {
    "duration": 365,
    "start_time": "2023-01-08T09:02:19.085Z"
   },
   {
    "duration": 6,
    "start_time": "2023-01-08T09:02:19.452Z"
   },
   {
    "duration": 315,
    "start_time": "2023-01-08T09:02:19.460Z"
   },
   {
    "duration": 11,
    "start_time": "2023-01-08T09:02:19.777Z"
   },
   {
    "duration": 233,
    "start_time": "2023-01-08T09:02:19.790Z"
   },
   {
    "duration": 23,
    "start_time": "2023-01-08T09:02:20.025Z"
   },
   {
    "duration": 489,
    "start_time": "2023-01-08T09:02:20.050Z"
   },
   {
    "duration": 27,
    "start_time": "2023-01-08T09:02:20.542Z"
   },
   {
    "duration": 696,
    "start_time": "2023-01-08T09:02:20.572Z"
   },
   {
    "duration": 23,
    "start_time": "2023-01-08T09:02:21.269Z"
   },
   {
    "duration": 408,
    "start_time": "2023-01-08T09:02:21.294Z"
   },
   {
    "duration": 11,
    "start_time": "2023-01-08T09:02:21.704Z"
   },
   {
    "duration": 492,
    "start_time": "2023-01-08T09:02:21.717Z"
   },
   {
    "duration": 25,
    "start_time": "2023-01-08T09:02:22.212Z"
   },
   {
    "duration": 27,
    "start_time": "2023-01-08T09:02:22.240Z"
   },
   {
    "duration": 8,
    "start_time": "2023-01-08T09:15:18.205Z"
   },
   {
    "duration": 14,
    "start_time": "2023-01-08T09:15:34.425Z"
   },
   {
    "duration": 9,
    "start_time": "2023-01-08T09:15:37.971Z"
   },
   {
    "duration": 8,
    "start_time": "2023-01-08T09:16:44.182Z"
   },
   {
    "duration": 9,
    "start_time": "2023-01-08T09:17:05.485Z"
   },
   {
    "duration": 15,
    "start_time": "2023-01-08T09:26:19.114Z"
   },
   {
    "duration": 12,
    "start_time": "2023-01-08T09:26:21.635Z"
   },
   {
    "duration": 6,
    "start_time": "2023-01-08T09:26:29.702Z"
   },
   {
    "duration": 9,
    "start_time": "2023-01-08T09:26:41.912Z"
   },
   {
    "duration": 102,
    "start_time": "2023-01-08T09:27:55.663Z"
   },
   {
    "duration": 8,
    "start_time": "2023-01-08T09:28:03.839Z"
   },
   {
    "duration": 9,
    "start_time": "2023-01-08T09:28:17.568Z"
   },
   {
    "duration": 10,
    "start_time": "2023-01-08T09:28:27.508Z"
   },
   {
    "duration": 9,
    "start_time": "2023-01-08T09:28:30.412Z"
   },
   {
    "duration": 1175,
    "start_time": "2023-01-08T09:28:40.831Z"
   },
   {
    "duration": 53,
    "start_time": "2023-01-08T09:28:42.009Z"
   },
   {
    "duration": 30,
    "start_time": "2023-01-08T09:28:42.064Z"
   },
   {
    "duration": 804,
    "start_time": "2023-01-08T09:28:42.096Z"
   },
   {
    "duration": 6,
    "start_time": "2023-01-08T09:28:42.902Z"
   },
   {
    "duration": 75,
    "start_time": "2023-01-08T09:28:42.910Z"
   },
   {
    "duration": 5,
    "start_time": "2023-01-08T09:28:42.987Z"
   },
   {
    "duration": 16,
    "start_time": "2023-01-08T09:28:42.994Z"
   },
   {
    "duration": 16,
    "start_time": "2023-01-08T09:28:43.012Z"
   },
   {
    "duration": 10,
    "start_time": "2023-01-08T09:28:43.031Z"
   },
   {
    "duration": 9,
    "start_time": "2023-01-08T09:28:43.043Z"
   },
   {
    "duration": 16,
    "start_time": "2023-01-08T09:28:43.054Z"
   },
   {
    "duration": 12,
    "start_time": "2023-01-08T09:28:43.072Z"
   },
   {
    "duration": 13,
    "start_time": "2023-01-08T09:28:43.086Z"
   },
   {
    "duration": 16,
    "start_time": "2023-01-08T09:28:43.101Z"
   },
   {
    "duration": 24,
    "start_time": "2023-01-08T09:28:43.119Z"
   },
   {
    "duration": 36,
    "start_time": "2023-01-08T09:28:43.145Z"
   },
   {
    "duration": 14,
    "start_time": "2023-01-08T09:28:43.183Z"
   },
   {
    "duration": 12,
    "start_time": "2023-01-08T09:28:43.199Z"
   },
   {
    "duration": 13,
    "start_time": "2023-01-08T09:28:43.213Z"
   },
   {
    "duration": 13,
    "start_time": "2023-01-08T09:28:43.228Z"
   },
   {
    "duration": 16,
    "start_time": "2023-01-08T09:28:43.242Z"
   },
   {
    "duration": 14,
    "start_time": "2023-01-08T09:28:43.260Z"
   },
   {
    "duration": 28,
    "start_time": "2023-01-08T09:28:43.275Z"
   },
   {
    "duration": 28,
    "start_time": "2023-01-08T09:28:43.304Z"
   },
   {
    "duration": 20,
    "start_time": "2023-01-08T09:28:43.334Z"
   },
   {
    "duration": 64,
    "start_time": "2023-01-08T09:28:43.356Z"
   },
   {
    "duration": 4,
    "start_time": "2023-01-08T09:28:43.424Z"
   },
   {
    "duration": 150,
    "start_time": "2023-01-08T09:28:43.430Z"
   },
   {
    "duration": 11,
    "start_time": "2023-01-08T09:28:43.581Z"
   },
   {
    "duration": 198,
    "start_time": "2023-01-08T09:28:43.593Z"
   },
   {
    "duration": 6,
    "start_time": "2023-01-08T09:28:43.793Z"
   },
   {
    "duration": 259,
    "start_time": "2023-01-08T09:28:43.800Z"
   },
   {
    "duration": 269,
    "start_time": "2023-01-08T09:28:44.061Z"
   },
   {
    "duration": 6,
    "start_time": "2023-01-08T09:28:44.334Z"
   },
   {
    "duration": 218,
    "start_time": "2023-01-08T09:28:44.341Z"
   },
   {
    "duration": 31,
    "start_time": "2023-01-08T09:28:44.561Z"
   },
   {
    "duration": 9,
    "start_time": "2023-01-08T09:28:44.594Z"
   },
   {
    "duration": 230,
    "start_time": "2023-01-08T09:28:44.605Z"
   },
   {
    "duration": 30,
    "start_time": "2023-01-08T09:28:44.837Z"
   },
   {
    "duration": 7,
    "start_time": "2023-01-08T09:28:44.868Z"
   },
   {
    "duration": 303,
    "start_time": "2023-01-08T09:28:44.877Z"
   },
   {
    "duration": 6,
    "start_time": "2023-01-08T09:28:45.181Z"
   },
   {
    "duration": 301,
    "start_time": "2023-01-08T09:28:45.189Z"
   },
   {
    "duration": 11,
    "start_time": "2023-01-08T09:28:45.492Z"
   },
   {
    "duration": 204,
    "start_time": "2023-01-08T09:28:45.504Z"
   },
   {
    "duration": 29,
    "start_time": "2023-01-08T09:28:45.710Z"
   },
   {
    "duration": 423,
    "start_time": "2023-01-08T09:28:45.742Z"
   },
   {
    "duration": 17,
    "start_time": "2023-01-08T09:28:46.167Z"
   },
   {
    "duration": 481,
    "start_time": "2023-01-08T09:28:46.186Z"
   },
   {
    "duration": 20,
    "start_time": "2023-01-08T09:28:46.669Z"
   },
   {
    "duration": 389,
    "start_time": "2023-01-08T09:28:46.691Z"
   },
   {
    "duration": 5,
    "start_time": "2023-01-08T09:28:47.082Z"
   },
   {
    "duration": 440,
    "start_time": "2023-01-08T09:28:47.088Z"
   },
   {
    "duration": 12,
    "start_time": "2023-01-08T09:28:47.529Z"
   },
   {
    "duration": 20,
    "start_time": "2023-01-08T09:28:47.542Z"
   },
   {
    "duration": 1190,
    "start_time": "2023-01-08T09:30:03.040Z"
   },
   {
    "duration": 57,
    "start_time": "2023-01-08T09:30:04.236Z"
   },
   {
    "duration": 31,
    "start_time": "2023-01-08T09:30:04.295Z"
   },
   {
    "duration": 1356,
    "start_time": "2023-01-08T09:30:04.328Z"
   },
   {
    "duration": 5,
    "start_time": "2023-01-08T09:30:05.736Z"
   },
   {
    "duration": 127,
    "start_time": "2023-01-08T09:30:05.742Z"
   },
   {
    "duration": 6,
    "start_time": "2023-01-08T09:30:05.870Z"
   },
   {
    "duration": 58,
    "start_time": "2023-01-08T09:30:05.878Z"
   },
   {
    "duration": 16,
    "start_time": "2023-01-08T09:30:05.939Z"
   },
   {
    "duration": 15,
    "start_time": "2023-01-08T09:30:05.959Z"
   },
   {
    "duration": 61,
    "start_time": "2023-01-08T09:30:05.976Z"
   },
   {
    "duration": 16,
    "start_time": "2023-01-08T09:30:06.039Z"
   },
   {
    "duration": 13,
    "start_time": "2023-01-08T09:30:06.057Z"
   },
   {
    "duration": 12,
    "start_time": "2023-01-08T09:30:06.071Z"
   },
   {
    "duration": 52,
    "start_time": "2023-01-08T09:30:06.085Z"
   },
   {
    "duration": 15,
    "start_time": "2023-01-08T09:30:06.139Z"
   },
   {
    "duration": 95,
    "start_time": "2023-01-08T09:30:06.156Z"
   },
   {
    "duration": 18,
    "start_time": "2023-01-08T09:30:06.254Z"
   },
   {
    "duration": 65,
    "start_time": "2023-01-08T09:30:06.274Z"
   },
   {
    "duration": 28,
    "start_time": "2023-01-08T09:30:06.342Z"
   },
   {
    "duration": 26,
    "start_time": "2023-01-08T09:30:06.372Z"
   },
   {
    "duration": 41,
    "start_time": "2023-01-08T09:30:06.399Z"
   },
   {
    "duration": 21,
    "start_time": "2023-01-08T09:30:06.442Z"
   },
   {
    "duration": 17,
    "start_time": "2023-01-08T09:30:06.465Z"
   },
   {
    "duration": 22,
    "start_time": "2023-01-08T09:30:06.483Z"
   },
   {
    "duration": 2,
    "start_time": "2023-01-08T09:30:06.507Z"
   },
   {
    "duration": 72,
    "start_time": "2023-01-08T09:30:06.511Z"
   },
   {
    "duration": 5,
    "start_time": "2023-01-08T09:30:06.586Z"
   },
   {
    "duration": 174,
    "start_time": "2023-01-08T09:30:06.593Z"
   },
   {
    "duration": 68,
    "start_time": "2023-01-08T09:30:06.769Z"
   },
   {
    "duration": 268,
    "start_time": "2023-01-08T09:30:06.839Z"
   },
   {
    "duration": 20,
    "start_time": "2023-01-08T09:30:07.109Z"
   },
   {
    "duration": 290,
    "start_time": "2023-01-08T09:30:07.131Z"
   },
   {
    "duration": 292,
    "start_time": "2023-01-08T09:30:07.424Z"
   },
   {
    "duration": 5,
    "start_time": "2023-01-08T09:30:07.718Z"
   },
   {
    "duration": 256,
    "start_time": "2023-01-08T09:30:07.725Z"
   },
   {
    "duration": 36,
    "start_time": "2023-01-08T09:30:07.983Z"
   },
   {
    "duration": 19,
    "start_time": "2023-01-08T09:30:08.021Z"
   },
   {
    "duration": 263,
    "start_time": "2023-01-08T09:30:08.042Z"
   },
   {
    "duration": 47,
    "start_time": "2023-01-08T09:30:08.307Z"
   },
   {
    "duration": 8,
    "start_time": "2023-01-08T09:30:08.356Z"
   },
   {
    "duration": 339,
    "start_time": "2023-01-08T09:30:08.366Z"
   },
   {
    "duration": 6,
    "start_time": "2023-01-08T09:30:08.706Z"
   },
   {
    "duration": 316,
    "start_time": "2023-01-08T09:30:08.713Z"
   },
   {
    "duration": 12,
    "start_time": "2023-01-08T09:30:09.034Z"
   },
   {
    "duration": 242,
    "start_time": "2023-01-08T09:30:09.048Z"
   },
   {
    "duration": 18,
    "start_time": "2023-01-08T09:30:09.291Z"
   },
   {
    "duration": 412,
    "start_time": "2023-01-08T09:30:09.311Z"
   },
   {
    "duration": 23,
    "start_time": "2023-01-08T09:30:09.725Z"
   },
   {
    "duration": 510,
    "start_time": "2023-01-08T09:30:09.750Z"
   },
   {
    "duration": 17,
    "start_time": "2023-01-08T09:30:10.261Z"
   },
   {
    "duration": 386,
    "start_time": "2023-01-08T09:30:10.280Z"
   },
   {
    "duration": 6,
    "start_time": "2023-01-08T09:30:10.667Z"
   },
   {
    "duration": 433,
    "start_time": "2023-01-08T09:30:10.675Z"
   },
   {
    "duration": 9,
    "start_time": "2023-01-08T09:30:11.110Z"
   },
   {
    "duration": 27,
    "start_time": "2023-01-08T09:30:11.121Z"
   },
   {
    "duration": 9,
    "start_time": "2023-01-08T09:30:23.143Z"
   },
   {
    "duration": 12,
    "start_time": "2023-01-08T09:30:33.900Z"
   },
   {
    "duration": 7,
    "start_time": "2023-01-08T09:30:39.556Z"
   },
   {
    "duration": 5,
    "start_time": "2023-01-08T09:30:48.535Z"
   },
   {
    "duration": 6,
    "start_time": "2023-01-08T09:31:01.416Z"
   },
   {
    "duration": 6,
    "start_time": "2023-01-08T09:31:11.439Z"
   },
   {
    "duration": 5,
    "start_time": "2023-01-08T09:31:44.411Z"
   },
   {
    "duration": 6,
    "start_time": "2023-01-08T09:31:51.715Z"
   },
   {
    "duration": 10,
    "start_time": "2023-01-08T09:34:06.067Z"
   },
   {
    "duration": 15,
    "start_time": "2023-01-08T09:34:18.542Z"
   },
   {
    "duration": 14,
    "start_time": "2023-01-08T09:34:22.758Z"
   },
   {
    "duration": 12,
    "start_time": "2023-01-08T09:34:27.133Z"
   },
   {
    "duration": 140,
    "start_time": "2023-01-08T09:36:07.357Z"
   },
   {
    "duration": 193,
    "start_time": "2023-01-08T09:36:21.926Z"
   },
   {
    "duration": 9,
    "start_time": "2023-01-08T10:07:45.660Z"
   },
   {
    "duration": 111,
    "start_time": "2023-01-08T10:13:02.758Z"
   },
   {
    "duration": 1175,
    "start_time": "2023-01-08T10:13:18.309Z"
   },
   {
    "duration": 57,
    "start_time": "2023-01-08T10:13:19.486Z"
   },
   {
    "duration": 34,
    "start_time": "2023-01-08T10:13:19.545Z"
   },
   {
    "duration": 738,
    "start_time": "2023-01-08T10:13:19.581Z"
   },
   {
    "duration": 13,
    "start_time": "2023-01-08T10:13:20.322Z"
   },
   {
    "duration": 68,
    "start_time": "2023-01-08T10:13:20.337Z"
   },
   {
    "duration": 6,
    "start_time": "2023-01-08T10:13:20.406Z"
   },
   {
    "duration": 6,
    "start_time": "2023-01-08T10:13:20.413Z"
   },
   {
    "duration": 15,
    "start_time": "2023-01-08T10:13:20.420Z"
   },
   {
    "duration": 10,
    "start_time": "2023-01-08T10:13:20.437Z"
   },
   {
    "duration": 6,
    "start_time": "2023-01-08T10:13:20.448Z"
   },
   {
    "duration": 5,
    "start_time": "2023-01-08T10:13:20.455Z"
   },
   {
    "duration": 6,
    "start_time": "2023-01-08T10:13:20.462Z"
   },
   {
    "duration": 5,
    "start_time": "2023-01-08T10:13:20.471Z"
   },
   {
    "duration": 9,
    "start_time": "2023-01-08T10:13:20.477Z"
   },
   {
    "duration": 8,
    "start_time": "2023-01-08T10:13:20.487Z"
   },
   {
    "duration": 60,
    "start_time": "2023-01-08T10:13:20.496Z"
   },
   {
    "duration": 14,
    "start_time": "2023-01-08T10:13:20.557Z"
   },
   {
    "duration": 9,
    "start_time": "2023-01-08T10:13:20.573Z"
   },
   {
    "duration": 17,
    "start_time": "2023-01-08T10:13:20.584Z"
   },
   {
    "duration": 24,
    "start_time": "2023-01-08T10:13:20.602Z"
   },
   {
    "duration": 11,
    "start_time": "2023-01-08T10:13:20.628Z"
   },
   {
    "duration": 12,
    "start_time": "2023-01-08T10:13:20.640Z"
   },
   {
    "duration": 5,
    "start_time": "2023-01-08T10:13:20.654Z"
   },
   {
    "duration": 14,
    "start_time": "2023-01-08T10:13:20.660Z"
   },
   {
    "duration": 16,
    "start_time": "2023-01-08T10:13:20.675Z"
   },
   {
    "duration": 63,
    "start_time": "2023-01-08T10:13:20.693Z"
   },
   {
    "duration": 5,
    "start_time": "2023-01-08T10:13:20.758Z"
   },
   {
    "duration": 157,
    "start_time": "2023-01-08T10:13:20.764Z"
   },
   {
    "duration": 17,
    "start_time": "2023-01-08T10:13:20.923Z"
   },
   {
    "duration": 186,
    "start_time": "2023-01-08T10:13:20.942Z"
   },
   {
    "duration": 10,
    "start_time": "2023-01-08T10:13:21.129Z"
   },
   {
    "duration": 245,
    "start_time": "2023-01-08T10:13:21.140Z"
   },
   {
    "duration": 361,
    "start_time": "2023-01-08T10:13:21.387Z"
   },
   {
    "duration": 0,
    "start_time": "2023-01-08T10:13:21.750Z"
   },
   {
    "duration": 0,
    "start_time": "2023-01-08T10:13:21.752Z"
   },
   {
    "duration": 1,
    "start_time": "2023-01-08T10:13:21.752Z"
   },
   {
    "duration": 0,
    "start_time": "2023-01-08T10:13:21.753Z"
   },
   {
    "duration": 0,
    "start_time": "2023-01-08T10:13:21.754Z"
   },
   {
    "duration": 1,
    "start_time": "2023-01-08T10:13:21.755Z"
   },
   {
    "duration": 0,
    "start_time": "2023-01-08T10:13:21.757Z"
   },
   {
    "duration": 0,
    "start_time": "2023-01-08T10:13:21.758Z"
   },
   {
    "duration": 0,
    "start_time": "2023-01-08T10:13:21.759Z"
   },
   {
    "duration": 0,
    "start_time": "2023-01-08T10:13:21.760Z"
   },
   {
    "duration": 0,
    "start_time": "2023-01-08T10:13:21.761Z"
   },
   {
    "duration": 0,
    "start_time": "2023-01-08T10:13:21.762Z"
   },
   {
    "duration": 0,
    "start_time": "2023-01-08T10:13:21.763Z"
   },
   {
    "duration": 0,
    "start_time": "2023-01-08T10:13:21.764Z"
   },
   {
    "duration": 0,
    "start_time": "2023-01-08T10:13:21.765Z"
   },
   {
    "duration": 0,
    "start_time": "2023-01-08T10:13:21.767Z"
   },
   {
    "duration": 0,
    "start_time": "2023-01-08T10:13:21.767Z"
   },
   {
    "duration": 0,
    "start_time": "2023-01-08T10:13:21.769Z"
   },
   {
    "duration": 0,
    "start_time": "2023-01-08T10:13:21.770Z"
   },
   {
    "duration": 0,
    "start_time": "2023-01-08T10:13:21.771Z"
   },
   {
    "duration": 0,
    "start_time": "2023-01-08T10:13:21.773Z"
   },
   {
    "duration": 0,
    "start_time": "2023-01-08T10:13:21.773Z"
   },
   {
    "duration": 11,
    "start_time": "2023-01-08T10:13:29.118Z"
   },
   {
    "duration": 502,
    "start_time": "2023-01-08T10:13:54.956Z"
   },
   {
    "duration": 216,
    "start_time": "2023-01-08T10:15:58.282Z"
   },
   {
    "duration": 132,
    "start_time": "2023-01-08T10:16:24.308Z"
   },
   {
    "duration": 9,
    "start_time": "2023-01-08T10:17:18.568Z"
   },
   {
    "duration": 9,
    "start_time": "2023-01-08T10:17:21.672Z"
   },
   {
    "duration": 50,
    "start_time": "2023-01-08T10:17:27.565Z"
   },
   {
    "duration": 133,
    "start_time": "2023-01-08T10:17:29.724Z"
   },
   {
    "duration": 187,
    "start_time": "2023-01-08T10:18:10.933Z"
   },
   {
    "duration": 180,
    "start_time": "2023-01-08T10:18:16.856Z"
   },
   {
    "duration": 165,
    "start_time": "2023-01-08T10:18:25.324Z"
   },
   {
    "duration": 397,
    "start_time": "2023-01-08T10:21:45.679Z"
   },
   {
    "duration": 302,
    "start_time": "2023-01-08T10:21:50.575Z"
   },
   {
    "duration": 338,
    "start_time": "2023-01-08T10:21:53.799Z"
   },
   {
    "duration": 325,
    "start_time": "2023-01-08T10:24:11.721Z"
   },
   {
    "duration": 330,
    "start_time": "2023-01-08T10:24:21.236Z"
   },
   {
    "duration": 393,
    "start_time": "2023-01-08T10:24:24.705Z"
   },
   {
    "duration": 9,
    "start_time": "2023-01-08T10:29:24.575Z"
   },
   {
    "duration": 3,
    "start_time": "2023-01-08T10:29:31.082Z"
   },
   {
    "duration": 54,
    "start_time": "2023-01-08T10:29:31.291Z"
   },
   {
    "duration": 27,
    "start_time": "2023-01-08T10:29:31.806Z"
   },
   {
    "duration": 770,
    "start_time": "2023-01-08T10:29:32.001Z"
   },
   {
    "duration": 4,
    "start_time": "2023-01-08T10:29:33.073Z"
   },
   {
    "duration": 21,
    "start_time": "2023-01-08T10:29:33.836Z"
   },
   {
    "duration": 6,
    "start_time": "2023-01-08T10:29:34.337Z"
   },
   {
    "duration": 5,
    "start_time": "2023-01-08T10:29:34.704Z"
   },
   {
    "duration": 8,
    "start_time": "2023-01-08T10:29:34.902Z"
   },
   {
    "duration": 8,
    "start_time": "2023-01-08T10:29:35.081Z"
   },
   {
    "duration": 6,
    "start_time": "2023-01-08T10:29:35.458Z"
   },
   {
    "duration": 5,
    "start_time": "2023-01-08T10:29:35.815Z"
   },
   {
    "duration": 6,
    "start_time": "2023-01-08T10:29:36.174Z"
   },
   {
    "duration": 5,
    "start_time": "2023-01-08T10:29:36.750Z"
   },
   {
    "duration": 6,
    "start_time": "2023-01-08T10:29:37.117Z"
   },
   {
    "duration": 5,
    "start_time": "2023-01-08T10:29:37.477Z"
   },
   {
    "duration": 26,
    "start_time": "2023-01-08T10:29:38.221Z"
   },
   {
    "duration": 13,
    "start_time": "2023-01-08T10:29:38.605Z"
   },
   {
    "duration": 7,
    "start_time": "2023-01-08T10:29:38.786Z"
   },
   {
    "duration": 6,
    "start_time": "2023-01-08T10:29:38.984Z"
   },
   {
    "duration": 6,
    "start_time": "2023-01-08T10:29:39.361Z"
   },
   {
    "duration": 8,
    "start_time": "2023-01-08T10:29:39.569Z"
   },
   {
    "duration": 8,
    "start_time": "2023-01-08T10:29:39.946Z"
   },
   {
    "duration": 6,
    "start_time": "2023-01-08T10:29:40.735Z"
   },
   {
    "duration": 14,
    "start_time": "2023-01-08T10:29:40.824Z"
   },
   {
    "duration": 12,
    "start_time": "2023-01-08T10:29:41.380Z"
   },
   {
    "duration": 42,
    "start_time": "2023-01-08T10:29:42.183Z"
   },
   {
    "duration": 5,
    "start_time": "2023-01-08T10:29:42.302Z"
   },
   {
    "duration": 169,
    "start_time": "2023-01-08T10:29:42.333Z"
   },
   {
    "duration": 13,
    "start_time": "2023-01-08T10:29:42.505Z"
   },
   {
    "duration": 212,
    "start_time": "2023-01-08T10:29:42.534Z"
   },
   {
    "duration": 6,
    "start_time": "2023-01-08T10:29:42.748Z"
   },
   {
    "duration": 231,
    "start_time": "2023-01-08T10:29:42.756Z"
   },
   {
    "duration": 286,
    "start_time": "2023-01-08T10:29:43.445Z"
   },
   {
    "duration": 6,
    "start_time": "2023-01-08T10:29:44.161Z"
   },
   {
    "duration": 191,
    "start_time": "2023-01-08T10:29:44.228Z"
   },
   {
    "duration": 30,
    "start_time": "2023-01-08T10:29:45.256Z"
   },
   {
    "duration": 6,
    "start_time": "2023-01-08T10:29:45.482Z"
   },
   {
    "duration": 311,
    "start_time": "2023-01-08T10:29:45.680Z"
   },
   {
    "duration": 48,
    "start_time": "2023-01-08T10:29:45.994Z"
   },
   {
    "duration": 8,
    "start_time": "2023-01-08T10:29:46.754Z"
   },
   {
    "duration": 279,
    "start_time": "2023-01-08T10:29:46.971Z"
   },
   {
    "duration": 6,
    "start_time": "2023-01-08T10:29:47.546Z"
   },
   {
    "duration": 283,
    "start_time": "2023-01-08T10:29:47.726Z"
   },
   {
    "duration": 11,
    "start_time": "2023-01-08T10:29:48.704Z"
   },
   {
    "duration": 210,
    "start_time": "2023-01-08T10:29:48.905Z"
   },
   {
    "duration": 19,
    "start_time": "2023-01-08T10:29:50.037Z"
   },
   {
    "duration": 379,
    "start_time": "2023-01-08T10:29:50.109Z"
   },
   {
    "duration": 17,
    "start_time": "2023-01-08T10:29:51.303Z"
   },
   {
    "duration": 403,
    "start_time": "2023-01-08T10:29:51.548Z"
   },
   {
    "duration": 17,
    "start_time": "2023-01-08T10:29:51.979Z"
   },
   {
    "duration": 506,
    "start_time": "2023-01-08T10:29:52.233Z"
   },
   {
    "duration": 5,
    "start_time": "2023-01-08T10:29:52.922Z"
   },
   {
    "duration": 407,
    "start_time": "2023-01-08T10:29:53.176Z"
   },
   {
    "duration": 9,
    "start_time": "2023-01-08T10:29:54.721Z"
   },
   {
    "duration": 9,
    "start_time": "2023-01-08T10:29:55.432Z"
   },
   {
    "duration": 279,
    "start_time": "2023-01-08T10:30:29.576Z"
   },
   {
    "duration": 299,
    "start_time": "2023-01-08T10:30:39.801Z"
   },
   {
    "duration": 6,
    "start_time": "2023-01-08T10:50:29.369Z"
   },
   {
    "duration": 5,
    "start_time": "2023-01-08T10:50:31.764Z"
   },
   {
    "duration": 57,
    "start_time": "2023-01-08T10:52:03.905Z"
   },
   {
    "duration": 47,
    "start_time": "2023-01-08T10:52:41.208Z"
   },
   {
    "duration": 44,
    "start_time": "2023-01-08T10:52:48.122Z"
   },
   {
    "duration": 704,
    "start_time": "2023-01-08T10:52:54.393Z"
   },
   {
    "duration": 11,
    "start_time": "2023-01-08T10:53:10.668Z"
   },
   {
    "duration": 7,
    "start_time": "2023-01-08T10:53:41.438Z"
   },
   {
    "duration": 13,
    "start_time": "2023-01-08T10:53:52.622Z"
   },
   {
    "duration": 45,
    "start_time": "2023-01-08T10:54:42.081Z"
   },
   {
    "duration": 7,
    "start_time": "2023-01-08T10:54:45.561Z"
   },
   {
    "duration": 242,
    "start_time": "2023-01-08T10:54:59.374Z"
   },
   {
    "duration": 8,
    "start_time": "2023-01-08T10:58:05.574Z"
   },
   {
    "duration": 282,
    "start_time": "2023-01-08T10:58:06.653Z"
   },
   {
    "duration": 4,
    "start_time": "2023-01-08T11:11:52.869Z"
   },
   {
    "duration": 5,
    "start_time": "2023-01-08T11:11:56.735Z"
   },
   {
    "duration": 5,
    "start_time": "2023-01-08T11:12:07.372Z"
   },
   {
    "duration": 4,
    "start_time": "2023-01-08T11:12:55.997Z"
   },
   {
    "duration": 5,
    "start_time": "2023-01-08T11:13:04.102Z"
   },
   {
    "duration": 12,
    "start_time": "2023-01-08T11:13:24.810Z"
   },
   {
    "duration": 11,
    "start_time": "2023-01-08T11:13:32.317Z"
   },
   {
    "duration": 400,
    "start_time": "2023-01-08T11:24:54.307Z"
   },
   {
    "duration": 14,
    "start_time": "2023-01-08T11:25:53.025Z"
   },
   {
    "duration": 194,
    "start_time": "2023-01-08T11:25:54.107Z"
   },
   {
    "duration": 11,
    "start_time": "2023-01-08T11:26:02.802Z"
   },
   {
    "duration": 209,
    "start_time": "2023-01-08T11:26:03.203Z"
   },
   {
    "duration": 12,
    "start_time": "2023-01-08T11:26:55.969Z"
   },
   {
    "duration": 208,
    "start_time": "2023-01-08T11:26:57.854Z"
   },
   {
    "duration": 4,
    "start_time": "2023-01-08T11:59:06.163Z"
   },
   {
    "duration": 5,
    "start_time": "2023-01-08T12:01:27.545Z"
   },
   {
    "duration": 1157,
    "start_time": "2023-01-08T12:01:36.574Z"
   },
   {
    "duration": 53,
    "start_time": "2023-01-08T12:01:37.733Z"
   },
   {
    "duration": 29,
    "start_time": "2023-01-08T12:01:37.788Z"
   },
   {
    "duration": 692,
    "start_time": "2023-01-08T12:01:37.818Z"
   },
   {
    "duration": 6,
    "start_time": "2023-01-08T12:01:38.512Z"
   },
   {
    "duration": 126,
    "start_time": "2023-01-08T12:01:38.519Z"
   },
   {
    "duration": 5,
    "start_time": "2023-01-08T12:01:38.646Z"
   },
   {
    "duration": 12,
    "start_time": "2023-01-08T12:01:38.653Z"
   },
   {
    "duration": 11,
    "start_time": "2023-01-08T12:01:38.667Z"
   },
   {
    "duration": 58,
    "start_time": "2023-01-08T12:01:38.681Z"
   },
   {
    "duration": 12,
    "start_time": "2023-01-08T12:01:38.741Z"
   },
   {
    "duration": 6,
    "start_time": "2023-01-08T12:01:38.755Z"
   },
   {
    "duration": 11,
    "start_time": "2023-01-08T12:01:38.763Z"
   },
   {
    "duration": 9,
    "start_time": "2023-01-08T12:01:38.775Z"
   },
   {
    "duration": 5,
    "start_time": "2023-01-08T12:01:38.836Z"
   },
   {
    "duration": 9,
    "start_time": "2023-01-08T12:01:38.843Z"
   },
   {
    "duration": 25,
    "start_time": "2023-01-08T12:01:38.853Z"
   },
   {
    "duration": 61,
    "start_time": "2023-01-08T12:01:38.880Z"
   },
   {
    "duration": 8,
    "start_time": "2023-01-08T12:01:38.943Z"
   },
   {
    "duration": 11,
    "start_time": "2023-01-08T12:01:38.953Z"
   },
   {
    "duration": 7,
    "start_time": "2023-01-08T12:01:38.965Z"
   },
   {
    "duration": 63,
    "start_time": "2023-01-08T12:01:38.973Z"
   },
   {
    "duration": 8,
    "start_time": "2023-01-08T12:01:39.038Z"
   },
   {
    "duration": 17,
    "start_time": "2023-01-08T12:01:39.048Z"
   },
   {
    "duration": 16,
    "start_time": "2023-01-08T12:01:39.066Z"
   },
   {
    "duration": 60,
    "start_time": "2023-01-08T12:01:39.084Z"
   },
   {
    "duration": 112,
    "start_time": "2023-01-08T12:01:39.146Z"
   },
   {
    "duration": 5,
    "start_time": "2023-01-08T12:01:39.261Z"
   },
   {
    "duration": 288,
    "start_time": "2023-01-08T12:01:39.267Z"
   },
   {
    "duration": 11,
    "start_time": "2023-01-08T12:01:39.557Z"
   },
   {
    "duration": 385,
    "start_time": "2023-01-08T12:01:39.569Z"
   },
   {
    "duration": 8,
    "start_time": "2023-01-08T12:01:39.956Z"
   },
   {
    "duration": 506,
    "start_time": "2023-01-08T12:01:39.967Z"
   },
   {
    "duration": 542,
    "start_time": "2023-01-08T12:01:40.474Z"
   },
   {
    "duration": 5,
    "start_time": "2023-01-08T12:01:41.018Z"
   },
   {
    "duration": 227,
    "start_time": "2023-01-08T12:01:41.025Z"
   },
   {
    "duration": 33,
    "start_time": "2023-01-08T12:01:41.254Z"
   },
   {
    "duration": 6,
    "start_time": "2023-01-08T12:01:41.288Z"
   },
   {
    "duration": 242,
    "start_time": "2023-01-08T12:01:41.296Z"
   },
   {
    "duration": 31,
    "start_time": "2023-01-08T12:01:41.540Z"
   },
   {
    "duration": 5,
    "start_time": "2023-01-08T12:01:41.573Z"
   },
   {
    "duration": 315,
    "start_time": "2023-01-08T12:01:41.579Z"
   },
   {
    "duration": 7,
    "start_time": "2023-01-08T12:01:41.896Z"
   },
   {
    "duration": 287,
    "start_time": "2023-01-08T12:01:41.905Z"
   },
   {
    "duration": 9,
    "start_time": "2023-01-08T12:01:42.194Z"
   },
   {
    "duration": 312,
    "start_time": "2023-01-08T12:01:42.206Z"
   },
   {
    "duration": 14,
    "start_time": "2023-01-08T12:01:42.521Z"
   },
   {
    "duration": 429,
    "start_time": "2023-01-08T12:01:42.537Z"
   },
   {
    "duration": 10,
    "start_time": "2023-01-08T12:01:42.968Z"
   },
   {
    "duration": 217,
    "start_time": "2023-01-08T12:01:42.979Z"
   },
   {
    "duration": 17,
    "start_time": "2023-01-08T12:01:43.198Z"
   },
   {
    "duration": 393,
    "start_time": "2023-01-08T12:01:43.217Z"
   },
   {
    "duration": 29,
    "start_time": "2023-01-08T12:01:43.612Z"
   },
   {
    "duration": 406,
    "start_time": "2023-01-08T12:01:43.643Z"
   },
   {
    "duration": 18,
    "start_time": "2023-01-08T12:01:44.050Z"
   },
   {
    "duration": 378,
    "start_time": "2023-01-08T12:01:44.070Z"
   },
   {
    "duration": 108,
    "start_time": "2023-01-08T12:01:44.450Z"
   },
   {
    "duration": 0,
    "start_time": "2023-01-08T12:01:44.560Z"
   },
   {
    "duration": 0,
    "start_time": "2023-01-08T12:01:44.561Z"
   },
   {
    "duration": 0,
    "start_time": "2023-01-08T12:01:44.562Z"
   },
   {
    "duration": 0,
    "start_time": "2023-01-08T12:01:44.563Z"
   },
   {
    "duration": 6,
    "start_time": "2023-01-08T12:01:58.448Z"
   },
   {
    "duration": 4,
    "start_time": "2023-01-08T12:02:01.439Z"
   },
   {
    "duration": 8,
    "start_time": "2023-01-08T12:02:07.208Z"
   },
   {
    "duration": 6,
    "start_time": "2023-01-08T12:02:10.272Z"
   },
   {
    "duration": 443,
    "start_time": "2023-01-08T12:03:06.305Z"
   },
   {
    "duration": 577,
    "start_time": "2023-01-08T12:03:13.736Z"
   },
   {
    "duration": 401,
    "start_time": "2023-01-08T12:03:25.136Z"
   },
   {
    "duration": 597,
    "start_time": "2023-01-08T12:03:59.367Z"
   },
   {
    "duration": 406,
    "start_time": "2023-01-08T12:08:16.623Z"
   },
   {
    "duration": 9,
    "start_time": "2023-01-08T12:15:18.816Z"
   },
   {
    "duration": 6,
    "start_time": "2023-01-08T12:15:50.038Z"
   },
   {
    "duration": 6,
    "start_time": "2023-01-08T12:15:52.726Z"
   },
   {
    "duration": 5,
    "start_time": "2023-01-08T12:16:00.478Z"
   },
   {
    "duration": 5,
    "start_time": "2023-01-08T12:16:25.731Z"
   },
   {
    "duration": 5,
    "start_time": "2023-01-08T12:16:31.350Z"
   },
   {
    "duration": 436,
    "start_time": "2023-01-08T12:16:31.529Z"
   },
   {
    "duration": 11,
    "start_time": "2023-01-08T12:16:59.450Z"
   },
   {
    "duration": 4,
    "start_time": "2023-01-08T12:17:03.045Z"
   },
   {
    "duration": 4,
    "start_time": "2023-01-08T12:17:04.722Z"
   },
   {
    "duration": 6,
    "start_time": "2023-01-08T12:17:04.882Z"
   },
   {
    "duration": 500,
    "start_time": "2023-01-08T12:17:06.316Z"
   },
   {
    "duration": 50,
    "start_time": "2023-01-08T12:17:42.791Z"
   },
   {
    "duration": 21,
    "start_time": "2023-01-08T12:20:42.449Z"
   },
   {
    "duration": 486,
    "start_time": "2023-01-08T12:20:42.789Z"
   },
   {
    "duration": 17,
    "start_time": "2023-01-08T12:20:59.612Z"
   },
   {
    "duration": 376,
    "start_time": "2023-01-08T12:21:00.092Z"
   },
   {
    "duration": 9,
    "start_time": "2023-01-08T12:30:15.248Z"
   },
   {
    "duration": 16,
    "start_time": "2023-01-08T13:08:04.657Z"
   },
   {
    "duration": 455,
    "start_time": "2023-01-08T13:08:05.110Z"
   },
   {
    "duration": 17,
    "start_time": "2023-01-08T13:08:21.632Z"
   },
   {
    "duration": 384,
    "start_time": "2023-01-08T13:08:23.960Z"
   },
   {
    "duration": 18,
    "start_time": "2023-01-08T13:08:29.731Z"
   },
   {
    "duration": 379,
    "start_time": "2023-01-08T13:08:30.221Z"
   },
   {
    "duration": 17,
    "start_time": "2023-01-08T13:08:33.965Z"
   },
   {
    "duration": 445,
    "start_time": "2023-01-08T13:08:35.134Z"
   },
   {
    "duration": 1298,
    "start_time": "2023-01-08T16:27:06.188Z"
   },
   {
    "duration": 177,
    "start_time": "2023-01-08T16:27:07.489Z"
   },
   {
    "duration": 31,
    "start_time": "2023-01-08T16:27:07.668Z"
   },
   {
    "duration": 755,
    "start_time": "2023-01-08T16:27:07.701Z"
   },
   {
    "duration": 6,
    "start_time": "2023-01-08T16:27:08.458Z"
   },
   {
    "duration": 102,
    "start_time": "2023-01-08T16:27:08.466Z"
   },
   {
    "duration": 6,
    "start_time": "2023-01-08T16:27:08.570Z"
   },
   {
    "duration": 22,
    "start_time": "2023-01-08T16:27:08.578Z"
   },
   {
    "duration": 9,
    "start_time": "2023-01-08T16:27:08.602Z"
   },
   {
    "duration": 13,
    "start_time": "2023-01-08T16:27:08.614Z"
   },
   {
    "duration": 6,
    "start_time": "2023-01-08T16:27:08.629Z"
   },
   {
    "duration": 15,
    "start_time": "2023-01-08T16:27:08.637Z"
   },
   {
    "duration": 8,
    "start_time": "2023-01-08T16:27:08.654Z"
   },
   {
    "duration": 14,
    "start_time": "2023-01-08T16:27:08.664Z"
   },
   {
    "duration": 11,
    "start_time": "2023-01-08T16:27:08.680Z"
   },
   {
    "duration": 8,
    "start_time": "2023-01-08T16:27:08.693Z"
   },
   {
    "duration": 29,
    "start_time": "2023-01-08T16:27:08.702Z"
   },
   {
    "duration": 33,
    "start_time": "2023-01-08T16:27:08.732Z"
   },
   {
    "duration": 7,
    "start_time": "2023-01-08T16:27:08.767Z"
   },
   {
    "duration": 13,
    "start_time": "2023-01-08T16:27:08.776Z"
   },
   {
    "duration": 9,
    "start_time": "2023-01-08T16:27:08.791Z"
   },
   {
    "duration": 11,
    "start_time": "2023-01-08T16:27:08.802Z"
   },
   {
    "duration": 36,
    "start_time": "2023-01-08T16:27:08.815Z"
   },
   {
    "duration": 7,
    "start_time": "2023-01-08T16:27:08.854Z"
   },
   {
    "duration": 8,
    "start_time": "2023-01-08T16:27:08.864Z"
   },
   {
    "duration": 14,
    "start_time": "2023-01-08T16:27:08.874Z"
   },
   {
    "duration": 13,
    "start_time": "2023-01-08T16:27:08.889Z"
   },
   {
    "duration": 77,
    "start_time": "2023-01-08T16:27:08.906Z"
   },
   {
    "duration": 6,
    "start_time": "2023-01-08T16:27:08.985Z"
   },
   {
    "duration": 181,
    "start_time": "2023-01-08T16:27:08.994Z"
   },
   {
    "duration": 13,
    "start_time": "2023-01-08T16:27:09.177Z"
   },
   {
    "duration": 220,
    "start_time": "2023-01-08T16:27:09.192Z"
   },
   {
    "duration": 8,
    "start_time": "2023-01-08T16:27:09.414Z"
   },
   {
    "duration": 298,
    "start_time": "2023-01-08T16:27:09.424Z"
   },
   {
    "duration": 482,
    "start_time": "2023-01-08T16:27:09.724Z"
   },
   {
    "duration": 7,
    "start_time": "2023-01-08T16:27:10.208Z"
   },
   {
    "duration": 244,
    "start_time": "2023-01-08T16:27:10.217Z"
   },
   {
    "duration": 33,
    "start_time": "2023-01-08T16:27:10.463Z"
   },
   {
    "duration": 6,
    "start_time": "2023-01-08T16:27:10.498Z"
   },
   {
    "duration": 259,
    "start_time": "2023-01-08T16:27:10.505Z"
   },
   {
    "duration": 35,
    "start_time": "2023-01-08T16:27:10.766Z"
   },
   {
    "duration": 6,
    "start_time": "2023-01-08T16:27:10.804Z"
   },
   {
    "duration": 330,
    "start_time": "2023-01-08T16:27:10.812Z"
   },
   {
    "duration": 11,
    "start_time": "2023-01-08T16:27:11.144Z"
   },
   {
    "duration": 296,
    "start_time": "2023-01-08T16:27:11.157Z"
   },
   {
    "duration": 10,
    "start_time": "2023-01-08T16:27:11.455Z"
   },
   {
    "duration": 278,
    "start_time": "2023-01-08T16:27:11.466Z"
   },
   {
    "duration": 7,
    "start_time": "2023-01-08T16:27:11.746Z"
   },
   {
    "duration": 396,
    "start_time": "2023-01-08T16:27:11.755Z"
   },
   {
    "duration": 16,
    "start_time": "2023-01-08T16:27:12.153Z"
   },
   {
    "duration": 220,
    "start_time": "2023-01-08T16:27:12.171Z"
   },
   {
    "duration": 19,
    "start_time": "2023-01-08T16:27:12.393Z"
   },
   {
    "duration": 410,
    "start_time": "2023-01-08T16:27:12.414Z"
   },
   {
    "duration": 28,
    "start_time": "2023-01-08T16:27:12.826Z"
   },
   {
    "duration": 433,
    "start_time": "2023-01-08T16:27:12.856Z"
   },
   {
    "duration": 23,
    "start_time": "2023-01-08T16:27:13.291Z"
   },
   {
    "duration": 456,
    "start_time": "2023-01-08T16:27:13.317Z"
   },
   {
    "duration": 6,
    "start_time": "2023-01-08T16:27:13.775Z"
   },
   {
    "duration": 15,
    "start_time": "2023-01-08T16:27:13.783Z"
   },
   {
    "duration": 537,
    "start_time": "2023-01-08T16:27:13.800Z"
   },
   {
    "duration": 18,
    "start_time": "2023-01-08T16:27:14.339Z"
   },
   {
    "duration": 52,
    "start_time": "2023-01-08T16:27:14.359Z"
   }
  ],
  "colab": {
   "collapsed_sections": [
    "l0P_bE_wZs5G",
    "RMM1esji7MiP",
    "Jx3ORCRu1tIW"
   ],
   "provenance": []
  },
  "kernelspec": {
   "display_name": "Python 3 (ipykernel)",
   "language": "python",
   "name": "python3"
  },
  "language_info": {
   "codemirror_mode": {
    "name": "ipython",
    "version": 3
   },
   "file_extension": ".py",
   "mimetype": "text/x-python",
   "name": "python",
   "nbconvert_exporter": "python",
   "pygments_lexer": "ipython3",
   "version": "3.9.13"
  },
  "toc": {
   "base_numbering": 1,
   "nav_menu": {
    "height": "142px",
    "width": "250px"
   },
   "number_sections": true,
   "sideBar": true,
   "skip_h1_title": true,
   "title_cell": "Содержание",
   "title_sidebar": "Contents",
   "toc_cell": true,
   "toc_position": {
    "height": "calc(100% - 180px)",
    "left": "10px",
    "top": "150px",
    "width": "358px"
   },
   "toc_section_display": true,
   "toc_window_display": true
  }
 },
 "nbformat": 4,
 "nbformat_minor": 1
}
