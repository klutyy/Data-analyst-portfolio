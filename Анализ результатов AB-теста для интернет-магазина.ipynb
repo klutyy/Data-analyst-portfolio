{
 "cells": [
  {
   "cell_type": "markdown",
   "metadata": {
    "toc": true
   },
   "source": [
    "<h1>Содержание<span class=\"tocSkip\"></span></h1>\n",
    "<div class=\"toc\"><ul class=\"toc-item\"><li><span><a href=\"#Предобработка-данных\" data-toc-modified-id=\"Предобработка-данных-1\"><span class=\"toc-item-num\">1&nbsp;&nbsp;</span>Предобработка данных</a></span></li><li><span><a href=\"#Приоритизация-гипотез\" data-toc-modified-id=\"Приоритизация-гипотез-2\"><span class=\"toc-item-num\">2&nbsp;&nbsp;</span>Приоритизация гипотез</a></span></li><li><span><a href=\"#Анализ-A/B-теста\" data-toc-modified-id=\"Анализ-A/B-теста-3\"><span class=\"toc-item-num\">3&nbsp;&nbsp;</span>Анализ A/B теста</a></span></li><li><span><a href=\"#Вывод\" data-toc-modified-id=\"Вывод-4\"><span class=\"toc-item-num\">4&nbsp;&nbsp;</span>Вывод</a></span></li></ul></div>"
   ]
  },
  {
   "cell_type": "markdown",
   "metadata": {},
   "source": [
    "# Проверить подготовленные гипотезы для увеличения выручки с помощью проведения A\\B тестирования"
   ]
  },
  {
   "cell_type": "markdown",
   "metadata": {},
   "source": [
    "**Цель исследования:**\n",
    "<br>\n",
    "Проверить гипотезы для увеличения выручки\n",
    "- Данные о гипотезах я получу из файла `/datasets/hypothesis.csv` и проведу приоритезацию гипотез, используя фреймворки ICE и RICE\n",
    "- Проведу A\\B тест\n",
    "- Результаты A\\B теста в файлах `/datasets/orders.csv` и `/datasets/visitors.csv` \n",
    "- Проанализирую A\\B тест \n",
    "- Сделаю выводы из проведенного анализа \n",
    "<br>\n",
    "\n",
    "*Таким образом исследование пройдет в пять этапов*:\n",
    "1. Обзор данных \n",
    "2. Предобработка данных\n",
    "3. Приоритизация гипотез \n",
    "4. Анализ A\\B теста\n",
    "5. Конечный вывод исследования"
   ]
  },
  {
   "cell_type": "code",
   "execution_count": 1,
   "metadata": {},
   "outputs": [],
   "source": [
    "import pandas as pd\n",
    "import datetime as dt\n",
    "import numpy as np\n",
    "import scipy.stats as stats\n",
    "import matplotlib.pyplot as plt\n",
    "from pandas.plotting import register_matplotlib_converters\n",
    "import warnings"
   ]
  },
  {
   "cell_type": "code",
   "execution_count": 2,
   "metadata": {},
   "outputs": [],
   "source": [
    "try:\n",
    "    df_hypotheses = pd.read_csv('/datasets/hypothesis.csv')\n",
    "    df_orders = pd.read_csv('/datasets/orders.csv')\n",
    "    df_visitors = pd.read_csv('/datasets/visitors.csv')\n",
    "except:\n",
    "    df_hypotheses = pd.read_csv('https://code.s3.yandex.net/datasets/hypothesis.csv')\n",
    "    df_orders = pd.read_csv('https://code.s3.yandex.net/datasets/orders.csv')\n",
    "    df_visitors = pd.read_csv('https://code.s3.yandex.net/datasets/visitors.csv')\n",
    "    "
   ]
  },
  {
   "cell_type": "code",
   "execution_count": 3,
   "metadata": {},
   "outputs": [
    {
     "name": "stdout",
     "output_type": "stream",
     "text": [
      "<class 'pandas.core.frame.DataFrame'>\n",
      "RangeIndex: 9 entries, 0 to 8\n",
      "Data columns (total 5 columns):\n",
      " #   Column      Non-Null Count  Dtype \n",
      "---  ------      --------------  ----- \n",
      " 0   Hypothesis  9 non-null      object\n",
      " 1   Reach       9 non-null      int64 \n",
      " 2   Impact      9 non-null      int64 \n",
      " 3   Confidence  9 non-null      int64 \n",
      " 4   Efforts     9 non-null      int64 \n",
      "dtypes: int64(4), object(1)\n",
      "memory usage: 488.0+ bytes\n"
     ]
    },
    {
     "data": {
      "text/html": [
       "<div>\n",
       "<style scoped>\n",
       "    .dataframe tbody tr th:only-of-type {\n",
       "        vertical-align: middle;\n",
       "    }\n",
       "\n",
       "    .dataframe tbody tr th {\n",
       "        vertical-align: top;\n",
       "    }\n",
       "\n",
       "    .dataframe thead th {\n",
       "        text-align: right;\n",
       "    }\n",
       "</style>\n",
       "<table border=\"1\" class=\"dataframe\">\n",
       "  <thead>\n",
       "    <tr style=\"text-align: right;\">\n",
       "      <th></th>\n",
       "      <th>Hypothesis</th>\n",
       "      <th>Reach</th>\n",
       "      <th>Impact</th>\n",
       "      <th>Confidence</th>\n",
       "      <th>Efforts</th>\n",
       "    </tr>\n",
       "  </thead>\n",
       "  <tbody>\n",
       "    <tr>\n",
       "      <th>0</th>\n",
       "      <td>Добавить два новых канала привлечения трафика, что позволит привлекать на 30% больше пользователей</td>\n",
       "      <td>3</td>\n",
       "      <td>10</td>\n",
       "      <td>8</td>\n",
       "      <td>6</td>\n",
       "    </tr>\n",
       "    <tr>\n",
       "      <th>1</th>\n",
       "      <td>Запустить собственную службу доставки, что сократит срок доставки заказов</td>\n",
       "      <td>2</td>\n",
       "      <td>5</td>\n",
       "      <td>4</td>\n",
       "      <td>10</td>\n",
       "    </tr>\n",
       "    <tr>\n",
       "      <th>2</th>\n",
       "      <td>Добавить блоки рекомендаций товаров на сайт интернет магазина, чтобы повысить конверсию и средний чек заказа</td>\n",
       "      <td>8</td>\n",
       "      <td>3</td>\n",
       "      <td>7</td>\n",
       "      <td>3</td>\n",
       "    </tr>\n",
       "    <tr>\n",
       "      <th>3</th>\n",
       "      <td>Изменить структура категорий, что увеличит конверсию, т.к. пользователи быстрее найдут нужный товар</td>\n",
       "      <td>8</td>\n",
       "      <td>3</td>\n",
       "      <td>3</td>\n",
       "      <td>8</td>\n",
       "    </tr>\n",
       "    <tr>\n",
       "      <th>4</th>\n",
       "      <td>Изменить цвет фона главной страницы, чтобы увеличить вовлеченность пользователей</td>\n",
       "      <td>3</td>\n",
       "      <td>1</td>\n",
       "      <td>1</td>\n",
       "      <td>1</td>\n",
       "    </tr>\n",
       "    <tr>\n",
       "      <th>5</th>\n",
       "      <td>Добавить страницу отзывов клиентов о магазине, что позволит увеличить количество заказов</td>\n",
       "      <td>3</td>\n",
       "      <td>2</td>\n",
       "      <td>2</td>\n",
       "      <td>3</td>\n",
       "    </tr>\n",
       "    <tr>\n",
       "      <th>6</th>\n",
       "      <td>Показать на главной странице баннеры с актуальными акциями и распродажами, чтобы увеличить конверсию</td>\n",
       "      <td>5</td>\n",
       "      <td>3</td>\n",
       "      <td>8</td>\n",
       "      <td>3</td>\n",
       "    </tr>\n",
       "    <tr>\n",
       "      <th>7</th>\n",
       "      <td>Добавить форму подписки на все основные страницы, чтобы собрать базу клиентов для email-рассылок</td>\n",
       "      <td>10</td>\n",
       "      <td>7</td>\n",
       "      <td>8</td>\n",
       "      <td>5</td>\n",
       "    </tr>\n",
       "    <tr>\n",
       "      <th>8</th>\n",
       "      <td>Запустить акцию, дающую скидку на товар в день рождения</td>\n",
       "      <td>1</td>\n",
       "      <td>9</td>\n",
       "      <td>9</td>\n",
       "      <td>5</td>\n",
       "    </tr>\n",
       "  </tbody>\n",
       "</table>\n",
       "</div>"
      ],
      "text/plain": [
       "                                                                                                     Hypothesis  \\\n",
       "0            Добавить два новых канала привлечения трафика, что позволит привлекать на 30% больше пользователей   \n",
       "1                                     Запустить собственную службу доставки, что сократит срок доставки заказов   \n",
       "2  Добавить блоки рекомендаций товаров на сайт интернет магазина, чтобы повысить конверсию и средний чек заказа   \n",
       "3           Изменить структура категорий, что увеличит конверсию, т.к. пользователи быстрее найдут нужный товар   \n",
       "4                              Изменить цвет фона главной страницы, чтобы увеличить вовлеченность пользователей   \n",
       "5                      Добавить страницу отзывов клиентов о магазине, что позволит увеличить количество заказов   \n",
       "6          Показать на главной странице баннеры с актуальными акциями и распродажами, чтобы увеличить конверсию   \n",
       "7              Добавить форму подписки на все основные страницы, чтобы собрать базу клиентов для email-рассылок   \n",
       "8                                                       Запустить акцию, дающую скидку на товар в день рождения   \n",
       "\n",
       "   Reach  Impact  Confidence  Efforts  \n",
       "0      3      10           8        6  \n",
       "1      2       5           4       10  \n",
       "2      8       3           7        3  \n",
       "3      8       3           3        8  \n",
       "4      3       1           1        1  \n",
       "5      3       2           2        3  \n",
       "6      5       3           8        3  \n",
       "7     10       7           8        5  \n",
       "8      1       9           9        5  "
      ]
     },
     "execution_count": 3,
     "metadata": {},
     "output_type": "execute_result"
    }
   ],
   "source": [
    "pd.options.display.max_colwidth = 150\n",
    "df_hypotheses.info()\n",
    "df_hypotheses"
   ]
  },
  {
   "cell_type": "code",
   "execution_count": 4,
   "metadata": {},
   "outputs": [
    {
     "name": "stdout",
     "output_type": "stream",
     "text": [
      "<class 'pandas.core.frame.DataFrame'>\n",
      "RangeIndex: 1197 entries, 0 to 1196\n",
      "Data columns (total 5 columns):\n",
      " #   Column         Non-Null Count  Dtype \n",
      "---  ------         --------------  ----- \n",
      " 0   transactionId  1197 non-null   int64 \n",
      " 1   visitorId      1197 non-null   int64 \n",
      " 2   date           1197 non-null   object\n",
      " 3   revenue        1197 non-null   int64 \n",
      " 4   group          1197 non-null   object\n",
      "dtypes: int64(3), object(2)\n",
      "memory usage: 46.9+ KB\n"
     ]
    },
    {
     "data": {
      "text/html": [
       "<div>\n",
       "<style scoped>\n",
       "    .dataframe tbody tr th:only-of-type {\n",
       "        vertical-align: middle;\n",
       "    }\n",
       "\n",
       "    .dataframe tbody tr th {\n",
       "        vertical-align: top;\n",
       "    }\n",
       "\n",
       "    .dataframe thead th {\n",
       "        text-align: right;\n",
       "    }\n",
       "</style>\n",
       "<table border=\"1\" class=\"dataframe\">\n",
       "  <thead>\n",
       "    <tr style=\"text-align: right;\">\n",
       "      <th></th>\n",
       "      <th>transactionId</th>\n",
       "      <th>visitorId</th>\n",
       "      <th>date</th>\n",
       "      <th>revenue</th>\n",
       "      <th>group</th>\n",
       "    </tr>\n",
       "  </thead>\n",
       "  <tbody>\n",
       "    <tr>\n",
       "      <th>0</th>\n",
       "      <td>3667963787</td>\n",
       "      <td>3312258926</td>\n",
       "      <td>2019-08-15</td>\n",
       "      <td>1650</td>\n",
       "      <td>B</td>\n",
       "    </tr>\n",
       "    <tr>\n",
       "      <th>1</th>\n",
       "      <td>2804400009</td>\n",
       "      <td>3642806036</td>\n",
       "      <td>2019-08-15</td>\n",
       "      <td>730</td>\n",
       "      <td>B</td>\n",
       "    </tr>\n",
       "    <tr>\n",
       "      <th>2</th>\n",
       "      <td>2961555356</td>\n",
       "      <td>4069496402</td>\n",
       "      <td>2019-08-15</td>\n",
       "      <td>400</td>\n",
       "      <td>A</td>\n",
       "    </tr>\n",
       "    <tr>\n",
       "      <th>3</th>\n",
       "      <td>3797467345</td>\n",
       "      <td>1196621759</td>\n",
       "      <td>2019-08-15</td>\n",
       "      <td>9759</td>\n",
       "      <td>B</td>\n",
       "    </tr>\n",
       "    <tr>\n",
       "      <th>4</th>\n",
       "      <td>2282983706</td>\n",
       "      <td>2322279887</td>\n",
       "      <td>2019-08-15</td>\n",
       "      <td>2308</td>\n",
       "      <td>B</td>\n",
       "    </tr>\n",
       "    <tr>\n",
       "      <th>...</th>\n",
       "      <td>...</td>\n",
       "      <td>...</td>\n",
       "      <td>...</td>\n",
       "      <td>...</td>\n",
       "      <td>...</td>\n",
       "    </tr>\n",
       "    <tr>\n",
       "      <th>1192</th>\n",
       "      <td>2662137336</td>\n",
       "      <td>3733762160</td>\n",
       "      <td>2019-08-14</td>\n",
       "      <td>6490</td>\n",
       "      <td>B</td>\n",
       "    </tr>\n",
       "    <tr>\n",
       "      <th>1193</th>\n",
       "      <td>2203539145</td>\n",
       "      <td>370388673</td>\n",
       "      <td>2019-08-14</td>\n",
       "      <td>3190</td>\n",
       "      <td>A</td>\n",
       "    </tr>\n",
       "    <tr>\n",
       "      <th>1194</th>\n",
       "      <td>1807773912</td>\n",
       "      <td>573423106</td>\n",
       "      <td>2019-08-14</td>\n",
       "      <td>10550</td>\n",
       "      <td>A</td>\n",
       "    </tr>\n",
       "    <tr>\n",
       "      <th>1195</th>\n",
       "      <td>1947021204</td>\n",
       "      <td>1614305549</td>\n",
       "      <td>2019-08-14</td>\n",
       "      <td>100</td>\n",
       "      <td>A</td>\n",
       "    </tr>\n",
       "    <tr>\n",
       "      <th>1196</th>\n",
       "      <td>3936777065</td>\n",
       "      <td>2108080724</td>\n",
       "      <td>2019-08-15</td>\n",
       "      <td>202740</td>\n",
       "      <td>B</td>\n",
       "    </tr>\n",
       "  </tbody>\n",
       "</table>\n",
       "<p>1197 rows × 5 columns</p>\n",
       "</div>"
      ],
      "text/plain": [
       "      transactionId   visitorId        date  revenue group\n",
       "0        3667963787  3312258926  2019-08-15     1650     B\n",
       "1        2804400009  3642806036  2019-08-15      730     B\n",
       "2        2961555356  4069496402  2019-08-15      400     A\n",
       "3        3797467345  1196621759  2019-08-15     9759     B\n",
       "4        2282983706  2322279887  2019-08-15     2308     B\n",
       "...             ...         ...         ...      ...   ...\n",
       "1192     2662137336  3733762160  2019-08-14     6490     B\n",
       "1193     2203539145   370388673  2019-08-14     3190     A\n",
       "1194     1807773912   573423106  2019-08-14    10550     A\n",
       "1195     1947021204  1614305549  2019-08-14      100     A\n",
       "1196     3936777065  2108080724  2019-08-15   202740     B\n",
       "\n",
       "[1197 rows x 5 columns]"
      ]
     },
     "execution_count": 4,
     "metadata": {},
     "output_type": "execute_result"
    }
   ],
   "source": [
    "df_orders.info()\n",
    "df_orders"
   ]
  },
  {
   "cell_type": "code",
   "execution_count": 5,
   "metadata": {},
   "outputs": [
    {
     "name": "stdout",
     "output_type": "stream",
     "text": [
      "<class 'pandas.core.frame.DataFrame'>\n",
      "RangeIndex: 62 entries, 0 to 61\n",
      "Data columns (total 3 columns):\n",
      " #   Column    Non-Null Count  Dtype \n",
      "---  ------    --------------  ----- \n",
      " 0   date      62 non-null     object\n",
      " 1   group     62 non-null     object\n",
      " 2   visitors  62 non-null     int64 \n",
      "dtypes: int64(1), object(2)\n",
      "memory usage: 1.6+ KB\n"
     ]
    },
    {
     "data": {
      "text/html": [
       "<div>\n",
       "<style scoped>\n",
       "    .dataframe tbody tr th:only-of-type {\n",
       "        vertical-align: middle;\n",
       "    }\n",
       "\n",
       "    .dataframe tbody tr th {\n",
       "        vertical-align: top;\n",
       "    }\n",
       "\n",
       "    .dataframe thead th {\n",
       "        text-align: right;\n",
       "    }\n",
       "</style>\n",
       "<table border=\"1\" class=\"dataframe\">\n",
       "  <thead>\n",
       "    <tr style=\"text-align: right;\">\n",
       "      <th></th>\n",
       "      <th>date</th>\n",
       "      <th>group</th>\n",
       "      <th>visitors</th>\n",
       "    </tr>\n",
       "  </thead>\n",
       "  <tbody>\n",
       "    <tr>\n",
       "      <th>0</th>\n",
       "      <td>2019-08-01</td>\n",
       "      <td>A</td>\n",
       "      <td>719</td>\n",
       "    </tr>\n",
       "    <tr>\n",
       "      <th>1</th>\n",
       "      <td>2019-08-02</td>\n",
       "      <td>A</td>\n",
       "      <td>619</td>\n",
       "    </tr>\n",
       "    <tr>\n",
       "      <th>2</th>\n",
       "      <td>2019-08-03</td>\n",
       "      <td>A</td>\n",
       "      <td>507</td>\n",
       "    </tr>\n",
       "    <tr>\n",
       "      <th>3</th>\n",
       "      <td>2019-08-04</td>\n",
       "      <td>A</td>\n",
       "      <td>717</td>\n",
       "    </tr>\n",
       "    <tr>\n",
       "      <th>4</th>\n",
       "      <td>2019-08-05</td>\n",
       "      <td>A</td>\n",
       "      <td>756</td>\n",
       "    </tr>\n",
       "    <tr>\n",
       "      <th>...</th>\n",
       "      <td>...</td>\n",
       "      <td>...</td>\n",
       "      <td>...</td>\n",
       "    </tr>\n",
       "    <tr>\n",
       "      <th>57</th>\n",
       "      <td>2019-08-27</td>\n",
       "      <td>B</td>\n",
       "      <td>720</td>\n",
       "    </tr>\n",
       "    <tr>\n",
       "      <th>58</th>\n",
       "      <td>2019-08-28</td>\n",
       "      <td>B</td>\n",
       "      <td>654</td>\n",
       "    </tr>\n",
       "    <tr>\n",
       "      <th>59</th>\n",
       "      <td>2019-08-29</td>\n",
       "      <td>B</td>\n",
       "      <td>531</td>\n",
       "    </tr>\n",
       "    <tr>\n",
       "      <th>60</th>\n",
       "      <td>2019-08-30</td>\n",
       "      <td>B</td>\n",
       "      <td>490</td>\n",
       "    </tr>\n",
       "    <tr>\n",
       "      <th>61</th>\n",
       "      <td>2019-08-31</td>\n",
       "      <td>B</td>\n",
       "      <td>718</td>\n",
       "    </tr>\n",
       "  </tbody>\n",
       "</table>\n",
       "<p>62 rows × 3 columns</p>\n",
       "</div>"
      ],
      "text/plain": [
       "          date group  visitors\n",
       "0   2019-08-01     A       719\n",
       "1   2019-08-02     A       619\n",
       "2   2019-08-03     A       507\n",
       "3   2019-08-04     A       717\n",
       "4   2019-08-05     A       756\n",
       "..         ...   ...       ...\n",
       "57  2019-08-27     B       720\n",
       "58  2019-08-28     B       654\n",
       "59  2019-08-29     B       531\n",
       "60  2019-08-30     B       490\n",
       "61  2019-08-31     B       718\n",
       "\n",
       "[62 rows x 3 columns]"
      ]
     },
     "execution_count": 5,
     "metadata": {},
     "output_type": "execute_result"
    }
   ],
   "source": [
    "df_visitors.info()\n",
    "df_visitors"
   ]
  },
  {
   "cell_type": "markdown",
   "metadata": {},
   "source": [
    "## Предобработка данных"
   ]
  },
  {
   "cell_type": "markdown",
   "metadata": {},
   "source": [
    "Для начала приведем столбцы таблиц к нижнему регистру"
   ]
  },
  {
   "cell_type": "code",
   "execution_count": 6,
   "metadata": {},
   "outputs": [],
   "source": [
    "df_hypotheses.columns = df_hypotheses.columns.str.lower()\n",
    "df_orders.columns = df_orders.columns.str.lower()\n",
    "df_visitors.columns = df_visitors.columns.str.lower()"
   ]
  },
  {
   "cell_type": "markdown",
   "metadata": {},
   "source": [
    "**Проверка на пропуски**"
   ]
  },
  {
   "cell_type": "code",
   "execution_count": 7,
   "metadata": {},
   "outputs": [
    {
     "data": {
      "text/html": [
       "<style  type=\"text/css\" >\n",
       "#T_5fdc1_row0_col0,#T_5fdc1_row1_col0,#T_5fdc1_row2_col0,#T_5fdc1_row3_col0,#T_5fdc1_row4_col0{\n",
       "            background-color:  #3b4cc0;\n",
       "            color:  #f1f1f1;\n",
       "        }</style><table id=\"T_5fdc1_\" ><thead>    <tr>        <th class=\"blank level0\" ></th>        <th class=\"col_heading level0 col0\" >0</th>    </tr></thead><tbody>\n",
       "                <tr>\n",
       "                        <th id=\"T_5fdc1_level0_row0\" class=\"row_heading level0 row0\" >hypothesis</th>\n",
       "                        <td id=\"T_5fdc1_row0_col0\" class=\"data row0 col0\" >0.000000</td>\n",
       "            </tr>\n",
       "            <tr>\n",
       "                        <th id=\"T_5fdc1_level0_row1\" class=\"row_heading level0 row1\" >reach</th>\n",
       "                        <td id=\"T_5fdc1_row1_col0\" class=\"data row1 col0\" >0.000000</td>\n",
       "            </tr>\n",
       "            <tr>\n",
       "                        <th id=\"T_5fdc1_level0_row2\" class=\"row_heading level0 row2\" >impact</th>\n",
       "                        <td id=\"T_5fdc1_row2_col0\" class=\"data row2 col0\" >0.000000</td>\n",
       "            </tr>\n",
       "            <tr>\n",
       "                        <th id=\"T_5fdc1_level0_row3\" class=\"row_heading level0 row3\" >confidence</th>\n",
       "                        <td id=\"T_5fdc1_row3_col0\" class=\"data row3 col0\" >0.000000</td>\n",
       "            </tr>\n",
       "            <tr>\n",
       "                        <th id=\"T_5fdc1_level0_row4\" class=\"row_heading level0 row4\" >efforts</th>\n",
       "                        <td id=\"T_5fdc1_row4_col0\" class=\"data row4 col0\" >0.000000</td>\n",
       "            </tr>\n",
       "    </tbody></table>"
      ],
      "text/plain": [
       "<pandas.io.formats.style.Styler at 0x7f668d0280a0>"
      ]
     },
     "execution_count": 7,
     "metadata": {},
     "output_type": "execute_result"
    }
   ],
   "source": [
    "df_hypotheses.isna().sum()\n",
    "pd.DataFrame(round(df_hypotheses.isna().mean()*100,)).style.background_gradient('coolwarm')"
   ]
  },
  {
   "cell_type": "code",
   "execution_count": 8,
   "metadata": {},
   "outputs": [
    {
     "data": {
      "text/html": [
       "<style  type=\"text/css\" >\n",
       "#T_847ab_row0_col0,#T_847ab_row1_col0,#T_847ab_row2_col0,#T_847ab_row3_col0,#T_847ab_row4_col0{\n",
       "            background-color:  #3b4cc0;\n",
       "            color:  #f1f1f1;\n",
       "        }</style><table id=\"T_847ab_\" ><thead>    <tr>        <th class=\"blank level0\" ></th>        <th class=\"col_heading level0 col0\" >0</th>    </tr></thead><tbody>\n",
       "                <tr>\n",
       "                        <th id=\"T_847ab_level0_row0\" class=\"row_heading level0 row0\" >transactionid</th>\n",
       "                        <td id=\"T_847ab_row0_col0\" class=\"data row0 col0\" >0.000000</td>\n",
       "            </tr>\n",
       "            <tr>\n",
       "                        <th id=\"T_847ab_level0_row1\" class=\"row_heading level0 row1\" >visitorid</th>\n",
       "                        <td id=\"T_847ab_row1_col0\" class=\"data row1 col0\" >0.000000</td>\n",
       "            </tr>\n",
       "            <tr>\n",
       "                        <th id=\"T_847ab_level0_row2\" class=\"row_heading level0 row2\" >date</th>\n",
       "                        <td id=\"T_847ab_row2_col0\" class=\"data row2 col0\" >0.000000</td>\n",
       "            </tr>\n",
       "            <tr>\n",
       "                        <th id=\"T_847ab_level0_row3\" class=\"row_heading level0 row3\" >revenue</th>\n",
       "                        <td id=\"T_847ab_row3_col0\" class=\"data row3 col0\" >0.000000</td>\n",
       "            </tr>\n",
       "            <tr>\n",
       "                        <th id=\"T_847ab_level0_row4\" class=\"row_heading level0 row4\" >group</th>\n",
       "                        <td id=\"T_847ab_row4_col0\" class=\"data row4 col0\" >0.000000</td>\n",
       "            </tr>\n",
       "    </tbody></table>"
      ],
      "text/plain": [
       "<pandas.io.formats.style.Styler at 0x7f670f281ee0>"
      ]
     },
     "execution_count": 8,
     "metadata": {},
     "output_type": "execute_result"
    }
   ],
   "source": [
    "df_orders.isna().sum()\n",
    "pd.DataFrame(round(df_orders.isna().mean()*100,)).style.background_gradient('coolwarm')"
   ]
  },
  {
   "cell_type": "code",
   "execution_count": 9,
   "metadata": {},
   "outputs": [
    {
     "data": {
      "text/html": [
       "<style  type=\"text/css\" >\n",
       "#T_5640f_row0_col0,#T_5640f_row1_col0,#T_5640f_row2_col0{\n",
       "            background-color:  #3b4cc0;\n",
       "            color:  #f1f1f1;\n",
       "        }</style><table id=\"T_5640f_\" ><thead>    <tr>        <th class=\"blank level0\" ></th>        <th class=\"col_heading level0 col0\" >0</th>    </tr></thead><tbody>\n",
       "                <tr>\n",
       "                        <th id=\"T_5640f_level0_row0\" class=\"row_heading level0 row0\" >date</th>\n",
       "                        <td id=\"T_5640f_row0_col0\" class=\"data row0 col0\" >0.000000</td>\n",
       "            </tr>\n",
       "            <tr>\n",
       "                        <th id=\"T_5640f_level0_row1\" class=\"row_heading level0 row1\" >group</th>\n",
       "                        <td id=\"T_5640f_row1_col0\" class=\"data row1 col0\" >0.000000</td>\n",
       "            </tr>\n",
       "            <tr>\n",
       "                        <th id=\"T_5640f_level0_row2\" class=\"row_heading level0 row2\" >visitors</th>\n",
       "                        <td id=\"T_5640f_row2_col0\" class=\"data row2 col0\" >0.000000</td>\n",
       "            </tr>\n",
       "    </tbody></table>"
      ],
      "text/plain": [
       "<pandas.io.formats.style.Styler at 0x7f668d05a640>"
      ]
     },
     "execution_count": 9,
     "metadata": {},
     "output_type": "execute_result"
    }
   ],
   "source": [
    "df_visitors.isna().sum()\n",
    "pd.DataFrame(round(df_visitors.isna().mean()*100,)).style.background_gradient('coolwarm')"
   ]
  },
  {
   "cell_type": "code",
   "execution_count": 10,
   "metadata": {},
   "outputs": [
    {
     "data": {
      "text/plain": [
       "0"
      ]
     },
     "execution_count": 10,
     "metadata": {},
     "output_type": "execute_result"
    }
   ],
   "source": [
    "df_hypotheses.duplicated().sum()"
   ]
  },
  {
   "cell_type": "code",
   "execution_count": 11,
   "metadata": {},
   "outputs": [
    {
     "data": {
      "text/plain": [
       "0"
      ]
     },
     "execution_count": 11,
     "metadata": {},
     "output_type": "execute_result"
    }
   ],
   "source": [
    "df_orders.duplicated().sum()"
   ]
  },
  {
   "cell_type": "code",
   "execution_count": 12,
   "metadata": {},
   "outputs": [
    {
     "data": {
      "text/plain": [
       "0"
      ]
     },
     "execution_count": 12,
     "metadata": {},
     "output_type": "execute_result"
    }
   ],
   "source": [
    "df_visitors.duplicated().sum()"
   ]
  },
  {
   "cell_type": "markdown",
   "metadata": {},
   "source": [
    "Изменим тип данных в столбцах date"
   ]
  },
  {
   "cell_type": "code",
   "execution_count": 13,
   "metadata": {},
   "outputs": [],
   "source": [
    "df_orders['date'] = df_orders['date'].map(\n",
    "    lambda x: dt.datetime.strptime(x, '%Y-%m-%d')\n",
    ")"
   ]
  },
  {
   "cell_type": "code",
   "execution_count": 14,
   "metadata": {},
   "outputs": [],
   "source": [
    "df_visitors['date'] = df_visitors['date'].map(\n",
    "    lambda x: dt.datetime.strptime(x, '%Y-%m-%d')\n",
    ")"
   ]
  },
  {
   "cell_type": "markdown",
   "metadata": {},
   "source": [
    "**Вывод по предобработке**\n",
    "<br>\n",
    "Данные в хорошем качество. Ничего изменять не пришлось"
   ]
  },
  {
   "cell_type": "markdown",
   "metadata": {},
   "source": [
    "## Приоритизация гипотез"
   ]
  },
  {
   "cell_type": "markdown",
   "metadata": {},
   "source": [
    "**ICE**"
   ]
  },
  {
   "cell_type": "code",
   "execution_count": 15,
   "metadata": {},
   "outputs": [
    {
     "data": {
      "text/html": [
       "<div>\n",
       "<style scoped>\n",
       "    .dataframe tbody tr th:only-of-type {\n",
       "        vertical-align: middle;\n",
       "    }\n",
       "\n",
       "    .dataframe tbody tr th {\n",
       "        vertical-align: top;\n",
       "    }\n",
       "\n",
       "    .dataframe thead th {\n",
       "        text-align: right;\n",
       "    }\n",
       "</style>\n",
       "<table border=\"1\" class=\"dataframe\">\n",
       "  <thead>\n",
       "    <tr style=\"text-align: right;\">\n",
       "      <th></th>\n",
       "      <th>hypothesis</th>\n",
       "      <th>ice</th>\n",
       "    </tr>\n",
       "  </thead>\n",
       "  <tbody>\n",
       "    <tr>\n",
       "      <th>8</th>\n",
       "      <td>Запустить акцию, дающую скидку на товар в день рождения</td>\n",
       "      <td>16.20</td>\n",
       "    </tr>\n",
       "    <tr>\n",
       "      <th>0</th>\n",
       "      <td>Добавить два новых канала привлечения трафика, что позволит привлекать на 30% больше пользователей</td>\n",
       "      <td>13.33</td>\n",
       "    </tr>\n",
       "    <tr>\n",
       "      <th>7</th>\n",
       "      <td>Добавить форму подписки на все основные страницы, чтобы собрать базу клиентов для email-рассылок</td>\n",
       "      <td>11.20</td>\n",
       "    </tr>\n",
       "    <tr>\n",
       "      <th>6</th>\n",
       "      <td>Показать на главной странице баннеры с актуальными акциями и распродажами, чтобы увеличить конверсию</td>\n",
       "      <td>8.00</td>\n",
       "    </tr>\n",
       "    <tr>\n",
       "      <th>2</th>\n",
       "      <td>Добавить блоки рекомендаций товаров на сайт интернет магазина, чтобы повысить конверсию и средний чек заказа</td>\n",
       "      <td>7.00</td>\n",
       "    </tr>\n",
       "    <tr>\n",
       "      <th>1</th>\n",
       "      <td>Запустить собственную службу доставки, что сократит срок доставки заказов</td>\n",
       "      <td>2.00</td>\n",
       "    </tr>\n",
       "    <tr>\n",
       "      <th>5</th>\n",
       "      <td>Добавить страницу отзывов клиентов о магазине, что позволит увеличить количество заказов</td>\n",
       "      <td>1.33</td>\n",
       "    </tr>\n",
       "    <tr>\n",
       "      <th>3</th>\n",
       "      <td>Изменить структура категорий, что увеличит конверсию, т.к. пользователи быстрее найдут нужный товар</td>\n",
       "      <td>1.12</td>\n",
       "    </tr>\n",
       "    <tr>\n",
       "      <th>4</th>\n",
       "      <td>Изменить цвет фона главной страницы, чтобы увеличить вовлеченность пользователей</td>\n",
       "      <td>1.00</td>\n",
       "    </tr>\n",
       "  </tbody>\n",
       "</table>\n",
       "</div>"
      ],
      "text/plain": [
       "                                                                                                     hypothesis  \\\n",
       "8                                                       Запустить акцию, дающую скидку на товар в день рождения   \n",
       "0            Добавить два новых канала привлечения трафика, что позволит привлекать на 30% больше пользователей   \n",
       "7              Добавить форму подписки на все основные страницы, чтобы собрать базу клиентов для email-рассылок   \n",
       "6          Показать на главной странице баннеры с актуальными акциями и распродажами, чтобы увеличить конверсию   \n",
       "2  Добавить блоки рекомендаций товаров на сайт интернет магазина, чтобы повысить конверсию и средний чек заказа   \n",
       "1                                     Запустить собственную службу доставки, что сократит срок доставки заказов   \n",
       "5                      Добавить страницу отзывов клиентов о магазине, что позволит увеличить количество заказов   \n",
       "3           Изменить структура категорий, что увеличит конверсию, т.к. пользователи быстрее найдут нужный товар   \n",
       "4                              Изменить цвет фона главной страницы, чтобы увеличить вовлеченность пользователей   \n",
       "\n",
       "     ice  \n",
       "8  16.20  \n",
       "0  13.33  \n",
       "7  11.20  \n",
       "6   8.00  \n",
       "2   7.00  \n",
       "1   2.00  \n",
       "5   1.33  \n",
       "3   1.12  \n",
       "4   1.00  "
      ]
     },
     "execution_count": 15,
     "metadata": {},
     "output_type": "execute_result"
    }
   ],
   "source": [
    "df_hypotheses['ice'] = round(df_hypotheses['impact'] * df_hypotheses['confidence']/df_hypotheses['efforts'],2)\n",
    "df_hypotheses[['hypothesis','ice']].sort_values(by='ice',ascending=False)"
   ]
  },
  {
   "cell_type": "markdown",
   "metadata": {},
   "source": [
    "Выпишим наиболее переспектиыне гипотезы (по индексам):\n",
    "- 8 (Запустить акцию, дающую...)\n",
    "- 0 (Добавить два новых канала...)\n",
    "- 7 (Добавить форму подписки...)\n",
    "- 6 (Показать на главной странице...)"
   ]
  },
  {
   "cell_type": "markdown",
   "metadata": {},
   "source": [
    "**RICE**"
   ]
  },
  {
   "cell_type": "code",
   "execution_count": 16,
   "metadata": {
    "scrolled": true
   },
   "outputs": [
    {
     "data": {
      "text/html": [
       "<div>\n",
       "<style scoped>\n",
       "    .dataframe tbody tr th:only-of-type {\n",
       "        vertical-align: middle;\n",
       "    }\n",
       "\n",
       "    .dataframe tbody tr th {\n",
       "        vertical-align: top;\n",
       "    }\n",
       "\n",
       "    .dataframe thead th {\n",
       "        text-align: right;\n",
       "    }\n",
       "</style>\n",
       "<table border=\"1\" class=\"dataframe\">\n",
       "  <thead>\n",
       "    <tr style=\"text-align: right;\">\n",
       "      <th></th>\n",
       "      <th>hypothesis</th>\n",
       "      <th>rice</th>\n",
       "    </tr>\n",
       "  </thead>\n",
       "  <tbody>\n",
       "    <tr>\n",
       "      <th>7</th>\n",
       "      <td>Добавить форму подписки на все основные страницы, чтобы собрать базу клиентов для email-рассылок</td>\n",
       "      <td>112.0</td>\n",
       "    </tr>\n",
       "    <tr>\n",
       "      <th>2</th>\n",
       "      <td>Добавить блоки рекомендаций товаров на сайт интернет магазина, чтобы повысить конверсию и средний чек заказа</td>\n",
       "      <td>56.0</td>\n",
       "    </tr>\n",
       "    <tr>\n",
       "      <th>0</th>\n",
       "      <td>Добавить два новых канала привлечения трафика, что позволит привлекать на 30% больше пользователей</td>\n",
       "      <td>40.0</td>\n",
       "    </tr>\n",
       "    <tr>\n",
       "      <th>6</th>\n",
       "      <td>Показать на главной странице баннеры с актуальными акциями и распродажами, чтобы увеличить конверсию</td>\n",
       "      <td>40.0</td>\n",
       "    </tr>\n",
       "    <tr>\n",
       "      <th>8</th>\n",
       "      <td>Запустить акцию, дающую скидку на товар в день рождения</td>\n",
       "      <td>16.2</td>\n",
       "    </tr>\n",
       "    <tr>\n",
       "      <th>3</th>\n",
       "      <td>Изменить структура категорий, что увеличит конверсию, т.к. пользователи быстрее найдут нужный товар</td>\n",
       "      <td>9.0</td>\n",
       "    </tr>\n",
       "    <tr>\n",
       "      <th>1</th>\n",
       "      <td>Запустить собственную службу доставки, что сократит срок доставки заказов</td>\n",
       "      <td>4.0</td>\n",
       "    </tr>\n",
       "    <tr>\n",
       "      <th>5</th>\n",
       "      <td>Добавить страницу отзывов клиентов о магазине, что позволит увеличить количество заказов</td>\n",
       "      <td>4.0</td>\n",
       "    </tr>\n",
       "    <tr>\n",
       "      <th>4</th>\n",
       "      <td>Изменить цвет фона главной страницы, чтобы увеличить вовлеченность пользователей</td>\n",
       "      <td>3.0</td>\n",
       "    </tr>\n",
       "  </tbody>\n",
       "</table>\n",
       "</div>"
      ],
      "text/plain": [
       "                                                                                                     hypothesis  \\\n",
       "7              Добавить форму подписки на все основные страницы, чтобы собрать базу клиентов для email-рассылок   \n",
       "2  Добавить блоки рекомендаций товаров на сайт интернет магазина, чтобы повысить конверсию и средний чек заказа   \n",
       "0            Добавить два новых канала привлечения трафика, что позволит привлекать на 30% больше пользователей   \n",
       "6          Показать на главной странице баннеры с актуальными акциями и распродажами, чтобы увеличить конверсию   \n",
       "8                                                       Запустить акцию, дающую скидку на товар в день рождения   \n",
       "3           Изменить структура категорий, что увеличит конверсию, т.к. пользователи быстрее найдут нужный товар   \n",
       "1                                     Запустить собственную службу доставки, что сократит срок доставки заказов   \n",
       "5                      Добавить страницу отзывов клиентов о магазине, что позволит увеличить количество заказов   \n",
       "4                              Изменить цвет фона главной страницы, чтобы увеличить вовлеченность пользователей   \n",
       "\n",
       "    rice  \n",
       "7  112.0  \n",
       "2   56.0  \n",
       "0   40.0  \n",
       "6   40.0  \n",
       "8   16.2  \n",
       "3    9.0  \n",
       "1    4.0  \n",
       "5    4.0  \n",
       "4    3.0  "
      ]
     },
     "execution_count": 16,
     "metadata": {},
     "output_type": "execute_result"
    }
   ],
   "source": [
    "df_hypotheses['rice'] = df_hypotheses['reach'] * df_hypotheses['impact'] * df_hypotheses['confidence']/df_hypotheses['efforts']\n",
    "df_hypotheses[['hypothesis','rice']].sort_values(by='rice',ascending=False)"
   ]
  },
  {
   "cell_type": "markdown",
   "metadata": {},
   "source": [
    "Выпишим наиболее переспектиыне гипотезы (по индексам):\n",
    "- 7 (Добавить форму подписки...)\n",
    "- 2 (Добавить блоки рекомендаций...)\n",
    "- 0 (Добавить два новых канала...)\n",
    "- 6 (Показать на главной странице...)"
   ]
  },
  {
   "cell_type": "markdown",
   "metadata": {},
   "source": [
    "После приоритизации можно выделить 3 гипотезы:\n",
    "- Гипотеза 7 \n",
    "- Гипотеза 0 \n",
    "- Гипотеза 6 \n",
    "\n",
    "Все дело в параметре Reach (охват пользователей). В гипотезе 7 этот параметр высокий, поэтому он занимает первое место в RICE. На практике посчитать параметр Reach довольно тяжело. Делают это на основе уже имеющихся данных, оценки конкурентов или оценки объёмов рынка.\n",
    "<br>\n",
    "Приоритизация гипотез поменялась из-за параметра Reach"
   ]
  },
  {
   "cell_type": "markdown",
   "metadata": {},
   "source": [
    "## Анализ A/B теста"
   ]
  },
  {
   "cell_type": "code",
   "execution_count": 17,
   "metadata": {},
   "outputs": [
    {
     "data": {
      "text/html": [
       "<div>\n",
       "<style scoped>\n",
       "    .dataframe tbody tr th:only-of-type {\n",
       "        vertical-align: middle;\n",
       "    }\n",
       "\n",
       "    .dataframe tbody tr th {\n",
       "        vertical-align: top;\n",
       "    }\n",
       "\n",
       "    .dataframe thead th {\n",
       "        text-align: right;\n",
       "    }\n",
       "</style>\n",
       "<table border=\"1\" class=\"dataframe\">\n",
       "  <thead>\n",
       "    <tr style=\"text-align: right;\">\n",
       "      <th></th>\n",
       "      <th>date</th>\n",
       "      <th>group</th>\n",
       "      <th>visitors</th>\n",
       "    </tr>\n",
       "  </thead>\n",
       "  <tbody>\n",
       "    <tr>\n",
       "      <th>0</th>\n",
       "      <td>2019-08-01</td>\n",
       "      <td>A</td>\n",
       "      <td>719</td>\n",
       "    </tr>\n",
       "    <tr>\n",
       "      <th>1</th>\n",
       "      <td>2019-08-02</td>\n",
       "      <td>A</td>\n",
       "      <td>619</td>\n",
       "    </tr>\n",
       "    <tr>\n",
       "      <th>2</th>\n",
       "      <td>2019-08-03</td>\n",
       "      <td>A</td>\n",
       "      <td>507</td>\n",
       "    </tr>\n",
       "    <tr>\n",
       "      <th>3</th>\n",
       "      <td>2019-08-04</td>\n",
       "      <td>A</td>\n",
       "      <td>717</td>\n",
       "    </tr>\n",
       "    <tr>\n",
       "      <th>4</th>\n",
       "      <td>2019-08-05</td>\n",
       "      <td>A</td>\n",
       "      <td>756</td>\n",
       "    </tr>\n",
       "    <tr>\n",
       "      <th>...</th>\n",
       "      <td>...</td>\n",
       "      <td>...</td>\n",
       "      <td>...</td>\n",
       "    </tr>\n",
       "    <tr>\n",
       "      <th>57</th>\n",
       "      <td>2019-08-27</td>\n",
       "      <td>B</td>\n",
       "      <td>720</td>\n",
       "    </tr>\n",
       "    <tr>\n",
       "      <th>58</th>\n",
       "      <td>2019-08-28</td>\n",
       "      <td>B</td>\n",
       "      <td>654</td>\n",
       "    </tr>\n",
       "    <tr>\n",
       "      <th>59</th>\n",
       "      <td>2019-08-29</td>\n",
       "      <td>B</td>\n",
       "      <td>531</td>\n",
       "    </tr>\n",
       "    <tr>\n",
       "      <th>60</th>\n",
       "      <td>2019-08-30</td>\n",
       "      <td>B</td>\n",
       "      <td>490</td>\n",
       "    </tr>\n",
       "    <tr>\n",
       "      <th>61</th>\n",
       "      <td>2019-08-31</td>\n",
       "      <td>B</td>\n",
       "      <td>718</td>\n",
       "    </tr>\n",
       "  </tbody>\n",
       "</table>\n",
       "<p>62 rows × 3 columns</p>\n",
       "</div>"
      ],
      "text/plain": [
       "         date group  visitors\n",
       "0  2019-08-01     A       719\n",
       "1  2019-08-02     A       619\n",
       "2  2019-08-03     A       507\n",
       "3  2019-08-04     A       717\n",
       "4  2019-08-05     A       756\n",
       "..        ...   ...       ...\n",
       "57 2019-08-27     B       720\n",
       "58 2019-08-28     B       654\n",
       "59 2019-08-29     B       531\n",
       "60 2019-08-30     B       490\n",
       "61 2019-08-31     B       718\n",
       "\n",
       "[62 rows x 3 columns]"
      ]
     },
     "execution_count": 17,
     "metadata": {},
     "output_type": "execute_result"
    }
   ],
   "source": [
    "df_visitors"
   ]
  },
  {
   "cell_type": "code",
   "execution_count": 18,
   "metadata": {},
   "outputs": [
    {
     "data": {
      "text/html": [
       "<div>\n",
       "<style scoped>\n",
       "    .dataframe tbody tr th:only-of-type {\n",
       "        vertical-align: middle;\n",
       "    }\n",
       "\n",
       "    .dataframe tbody tr th {\n",
       "        vertical-align: top;\n",
       "    }\n",
       "\n",
       "    .dataframe thead th {\n",
       "        text-align: right;\n",
       "    }\n",
       "</style>\n",
       "<table border=\"1\" class=\"dataframe\">\n",
       "  <thead>\n",
       "    <tr style=\"text-align: right;\">\n",
       "      <th></th>\n",
       "      <th>transactionid</th>\n",
       "      <th>visitorid</th>\n",
       "      <th>date</th>\n",
       "      <th>revenue</th>\n",
       "      <th>group</th>\n",
       "    </tr>\n",
       "  </thead>\n",
       "  <tbody>\n",
       "    <tr>\n",
       "      <th>0</th>\n",
       "      <td>3667963787</td>\n",
       "      <td>3312258926</td>\n",
       "      <td>2019-08-15</td>\n",
       "      <td>1650</td>\n",
       "      <td>B</td>\n",
       "    </tr>\n",
       "    <tr>\n",
       "      <th>1</th>\n",
       "      <td>2804400009</td>\n",
       "      <td>3642806036</td>\n",
       "      <td>2019-08-15</td>\n",
       "      <td>730</td>\n",
       "      <td>B</td>\n",
       "    </tr>\n",
       "    <tr>\n",
       "      <th>2</th>\n",
       "      <td>2961555356</td>\n",
       "      <td>4069496402</td>\n",
       "      <td>2019-08-15</td>\n",
       "      <td>400</td>\n",
       "      <td>A</td>\n",
       "    </tr>\n",
       "    <tr>\n",
       "      <th>3</th>\n",
       "      <td>3797467345</td>\n",
       "      <td>1196621759</td>\n",
       "      <td>2019-08-15</td>\n",
       "      <td>9759</td>\n",
       "      <td>B</td>\n",
       "    </tr>\n",
       "    <tr>\n",
       "      <th>4</th>\n",
       "      <td>2282983706</td>\n",
       "      <td>2322279887</td>\n",
       "      <td>2019-08-15</td>\n",
       "      <td>2308</td>\n",
       "      <td>B</td>\n",
       "    </tr>\n",
       "    <tr>\n",
       "      <th>...</th>\n",
       "      <td>...</td>\n",
       "      <td>...</td>\n",
       "      <td>...</td>\n",
       "      <td>...</td>\n",
       "      <td>...</td>\n",
       "    </tr>\n",
       "    <tr>\n",
       "      <th>1192</th>\n",
       "      <td>2662137336</td>\n",
       "      <td>3733762160</td>\n",
       "      <td>2019-08-14</td>\n",
       "      <td>6490</td>\n",
       "      <td>B</td>\n",
       "    </tr>\n",
       "    <tr>\n",
       "      <th>1193</th>\n",
       "      <td>2203539145</td>\n",
       "      <td>370388673</td>\n",
       "      <td>2019-08-14</td>\n",
       "      <td>3190</td>\n",
       "      <td>A</td>\n",
       "    </tr>\n",
       "    <tr>\n",
       "      <th>1194</th>\n",
       "      <td>1807773912</td>\n",
       "      <td>573423106</td>\n",
       "      <td>2019-08-14</td>\n",
       "      <td>10550</td>\n",
       "      <td>A</td>\n",
       "    </tr>\n",
       "    <tr>\n",
       "      <th>1195</th>\n",
       "      <td>1947021204</td>\n",
       "      <td>1614305549</td>\n",
       "      <td>2019-08-14</td>\n",
       "      <td>100</td>\n",
       "      <td>A</td>\n",
       "    </tr>\n",
       "    <tr>\n",
       "      <th>1196</th>\n",
       "      <td>3936777065</td>\n",
       "      <td>2108080724</td>\n",
       "      <td>2019-08-15</td>\n",
       "      <td>202740</td>\n",
       "      <td>B</td>\n",
       "    </tr>\n",
       "  </tbody>\n",
       "</table>\n",
       "<p>1197 rows × 5 columns</p>\n",
       "</div>"
      ],
      "text/plain": [
       "      transactionid   visitorid       date  revenue group\n",
       "0        3667963787  3312258926 2019-08-15     1650     B\n",
       "1        2804400009  3642806036 2019-08-15      730     B\n",
       "2        2961555356  4069496402 2019-08-15      400     A\n",
       "3        3797467345  1196621759 2019-08-15     9759     B\n",
       "4        2282983706  2322279887 2019-08-15     2308     B\n",
       "...             ...         ...        ...      ...   ...\n",
       "1192     2662137336  3733762160 2019-08-14     6490     B\n",
       "1193     2203539145   370388673 2019-08-14     3190     A\n",
       "1194     1807773912   573423106 2019-08-14    10550     A\n",
       "1195     1947021204  1614305549 2019-08-14      100     A\n",
       "1196     3936777065  2108080724 2019-08-15   202740     B\n",
       "\n",
       "[1197 rows x 5 columns]"
      ]
     },
     "execution_count": 18,
     "metadata": {},
     "output_type": "execute_result"
    }
   ],
   "source": [
    "df_orders"
   ]
  },
  {
   "cell_type": "code",
   "execution_count": 19,
   "metadata": {},
   "outputs": [
    {
     "name": "stdout",
     "output_type": "stream",
     "text": [
      "date        31\n",
      "group       31\n",
      "visitors    31\n",
      "dtype: int64\n",
      "date        31\n",
      "group       31\n",
      "visitors    31\n",
      "dtype: int64\n"
     ]
    }
   ],
   "source": [
    "print(df_visitors.query('\"A\" in group').count())\n",
    "print(df_visitors[df_visitors['group'] == \"B\"].count())"
   ]
  },
  {
   "cell_type": "code",
   "execution_count": 20,
   "metadata": {},
   "outputs": [
    {
     "name": "stdout",
     "output_type": "stream",
     "text": [
      "2019-08-01 00:00:00\n",
      "2019-08-31 00:00:00\n"
     ]
    }
   ],
   "source": [
    "print(df_orders['date'].min())\n",
    "print(df_orders['date'].max())"
   ]
  },
  {
   "cell_type": "code",
   "execution_count": 21,
   "metadata": {},
   "outputs": [],
   "source": [
    "usersB = df_orders[df_orders['group'] == \"B\"]\n",
    "usersA = df_orders[df_orders['group'] == \"A\"]"
   ]
  },
  {
   "cell_type": "code",
   "execution_count": 22,
   "metadata": {},
   "outputs": [
    {
     "name": "stdout",
     "output_type": "stream",
     "text": [
      "       visitorid\n",
      "group           \n",
      "B            586\n",
      "       visitorid\n",
      "group           \n",
      "A            503\n"
     ]
    }
   ],
   "source": [
    "print(usersB.pivot_table(index='group',values='visitorid',aggfunc='nunique'))\n",
    "print(usersA.pivot_table(index='group',values='visitorid',aggfunc='nunique'))"
   ]
  },
  {
   "cell_type": "markdown",
   "metadata": {},
   "source": [
    "- Как мы видим количество групп в А\\В тесте одинаковое, это говорит о том, что тестирование парное\n",
    "- Дата начала теста 2019-08-31, дата окончание теста 2019-08-31\n",
    "- Количество пользователей по группам не одинаковое. Группы не сбалансированы"
   ]
  },
  {
   "cell_type": "code",
   "execution_count": 23,
   "metadata": {},
   "outputs": [
    {
     "data": {
      "text/plain": [
       "group    58\n",
       "dtype: int64"
      ]
     },
     "execution_count": 23,
     "metadata": {},
     "output_type": "execute_result"
    }
   ],
   "source": [
    "df_orders.groupby('visitorid').agg({'group' : 'nunique'}).query('group>1').count()"
   ]
  },
  {
   "cell_type": "code",
   "execution_count": 24,
   "metadata": {},
   "outputs": [],
   "source": [
    "double_users = df_orders.groupby('visitorid').agg({'group' : 'nunique'}).reset_index().query('group>1')['visitorid'].unique()"
   ]
  },
  {
   "cell_type": "code",
   "execution_count": 25,
   "metadata": {},
   "outputs": [],
   "source": [
    "df_orders = df_orders.query('visitorid not in @double_users')"
   ]
  },
  {
   "cell_type": "markdown",
   "metadata": {},
   "source": [
    "58 пользователей находятся одновременно в двух группах. "
   ]
  },
  {
   "cell_type": "code",
   "execution_count": 26,
   "metadata": {},
   "outputs": [],
   "source": [
    "datesGroups = df_orders[['date','group']].drop_duplicates()"
   ]
  },
  {
   "cell_type": "code",
   "execution_count": 27,
   "metadata": {},
   "outputs": [],
   "source": [
    "ordersAggregated = datesGroups.apply(\n",
    "    lambda x: df_orders[np.logical_and(df_orders['date'] <= x['date'], df_orders['group'] == x['group'])].agg({\n",
    "'date' : 'max',\n",
    "'group' : 'max',\n",
    "'transactionid' : pd.Series.nunique,\n",
    "'visitorid' : pd.Series.nunique,\n",
    "'revenue' : 'sum'}), axis=1).sort_values(by=['date','group'])"
   ]
  },
  {
   "cell_type": "code",
   "execution_count": 28,
   "metadata": {},
   "outputs": [],
   "source": [
    "visitorsAggregated = datesGroups.apply(\n",
    "    lambda x: df_visitors[np.logical_and(df_visitors['date'] <= x['date'], df_visitors['group'] == x['group'])].agg({\n",
    "    'date' : 'max',\n",
    "    'group' : 'max', \n",
    "    'visitors' : 'sum'}), axis=1).sort_values(by=['date','group'])"
   ]
  },
  {
   "cell_type": "code",
   "execution_count": 29,
   "metadata": {},
   "outputs": [],
   "source": [
    "cumulativeData = ordersAggregated.merge(visitorsAggregated, left_on=['date', 'group'], right_on=['date', 'group'])"
   ]
  },
  {
   "cell_type": "code",
   "execution_count": 30,
   "metadata": {},
   "outputs": [
    {
     "data": {
      "text/html": [
       "<div>\n",
       "<style scoped>\n",
       "    .dataframe tbody tr th:only-of-type {\n",
       "        vertical-align: middle;\n",
       "    }\n",
       "\n",
       "    .dataframe tbody tr th {\n",
       "        vertical-align: top;\n",
       "    }\n",
       "\n",
       "    .dataframe thead th {\n",
       "        text-align: right;\n",
       "    }\n",
       "</style>\n",
       "<table border=\"1\" class=\"dataframe\">\n",
       "  <thead>\n",
       "    <tr style=\"text-align: right;\">\n",
       "      <th></th>\n",
       "      <th>date</th>\n",
       "      <th>group</th>\n",
       "      <th>orders</th>\n",
       "      <th>visitorid</th>\n",
       "      <th>revenue</th>\n",
       "      <th>visitors</th>\n",
       "    </tr>\n",
       "  </thead>\n",
       "  <tbody>\n",
       "    <tr>\n",
       "      <th>0</th>\n",
       "      <td>2019-08-01</td>\n",
       "      <td>A</td>\n",
       "      <td>23</td>\n",
       "      <td>19</td>\n",
       "      <td>142779</td>\n",
       "      <td>719</td>\n",
       "    </tr>\n",
       "    <tr>\n",
       "      <th>1</th>\n",
       "      <td>2019-08-01</td>\n",
       "      <td>B</td>\n",
       "      <td>17</td>\n",
       "      <td>17</td>\n",
       "      <td>59758</td>\n",
       "      <td>713</td>\n",
       "    </tr>\n",
       "    <tr>\n",
       "      <th>2</th>\n",
       "      <td>2019-08-02</td>\n",
       "      <td>A</td>\n",
       "      <td>42</td>\n",
       "      <td>36</td>\n",
       "      <td>234381</td>\n",
       "      <td>1338</td>\n",
       "    </tr>\n",
       "    <tr>\n",
       "      <th>3</th>\n",
       "      <td>2019-08-02</td>\n",
       "      <td>B</td>\n",
       "      <td>40</td>\n",
       "      <td>39</td>\n",
       "      <td>221801</td>\n",
       "      <td>1294</td>\n",
       "    </tr>\n",
       "    <tr>\n",
       "      <th>4</th>\n",
       "      <td>2019-08-03</td>\n",
       "      <td>A</td>\n",
       "      <td>66</td>\n",
       "      <td>60</td>\n",
       "      <td>346854</td>\n",
       "      <td>1845</td>\n",
       "    </tr>\n",
       "    <tr>\n",
       "      <th>...</th>\n",
       "      <td>...</td>\n",
       "      <td>...</td>\n",
       "      <td>...</td>\n",
       "      <td>...</td>\n",
       "      <td>...</td>\n",
       "      <td>...</td>\n",
       "    </tr>\n",
       "    <tr>\n",
       "      <th>57</th>\n",
       "      <td>2019-08-29</td>\n",
       "      <td>B</td>\n",
       "      <td>510</td>\n",
       "      <td>490</td>\n",
       "      <td>4746610</td>\n",
       "      <td>17708</td>\n",
       "    </tr>\n",
       "    <tr>\n",
       "      <th>58</th>\n",
       "      <td>2019-08-30</td>\n",
       "      <td>A</td>\n",
       "      <td>460</td>\n",
       "      <td>437</td>\n",
       "      <td>3311413</td>\n",
       "      <td>18037</td>\n",
       "    </tr>\n",
       "    <tr>\n",
       "      <th>59</th>\n",
       "      <td>2019-08-30</td>\n",
       "      <td>B</td>\n",
       "      <td>531</td>\n",
       "      <td>511</td>\n",
       "      <td>4955833</td>\n",
       "      <td>18198</td>\n",
       "    </tr>\n",
       "    <tr>\n",
       "      <th>60</th>\n",
       "      <td>2019-08-31</td>\n",
       "      <td>A</td>\n",
       "      <td>468</td>\n",
       "      <td>445</td>\n",
       "      <td>3364656</td>\n",
       "      <td>18736</td>\n",
       "    </tr>\n",
       "    <tr>\n",
       "      <th>61</th>\n",
       "      <td>2019-08-31</td>\n",
       "      <td>B</td>\n",
       "      <td>548</td>\n",
       "      <td>528</td>\n",
       "      <td>5068972</td>\n",
       "      <td>18916</td>\n",
       "    </tr>\n",
       "  </tbody>\n",
       "</table>\n",
       "<p>62 rows × 6 columns</p>\n",
       "</div>"
      ],
      "text/plain": [
       "         date group  orders  visitorid  revenue  visitors\n",
       "0  2019-08-01     A      23         19   142779       719\n",
       "1  2019-08-01     B      17         17    59758       713\n",
       "2  2019-08-02     A      42         36   234381      1338\n",
       "3  2019-08-02     B      40         39   221801      1294\n",
       "4  2019-08-03     A      66         60   346854      1845\n",
       "..        ...   ...     ...        ...      ...       ...\n",
       "57 2019-08-29     B     510        490  4746610     17708\n",
       "58 2019-08-30     A     460        437  3311413     18037\n",
       "59 2019-08-30     B     531        511  4955833     18198\n",
       "60 2019-08-31     A     468        445  3364656     18736\n",
       "61 2019-08-31     B     548        528  5068972     18916\n",
       "\n",
       "[62 rows x 6 columns]"
      ]
     },
     "execution_count": 30,
     "metadata": {},
     "output_type": "execute_result"
    }
   ],
   "source": [
    "cumulativeData = cumulativeData.rename(columns={\"transactionid\": \"orders\"})\n",
    "cumulativeData             #2019-08-01              #2019-08-31       "
   ]
  },
  {
   "cell_type": "markdown",
   "metadata": {},
   "source": [
    "**График кумулятивной выручки по группам**"
   ]
  },
  {
   "cell_type": "code",
   "execution_count": 31,
   "metadata": {},
   "outputs": [
    {
     "data": {
      "image/png": "[encoded data removed]",
      "text/plain": [
       "<Figure size 720x360 with 1 Axes>"
      ]
     },
     "metadata": {
      "needs_background": "light"
     },
     "output_type": "display_data"
    }
   ],
   "source": [
    "cumulativeRevenueA = cumulativeData[cumulativeData['group']=='A'][['date','revenue', 'orders']]\n",
    "cumulativeRevenueB = cumulativeData[cumulativeData['group']=='B'][['date','revenue', 'orders']]\n",
    "plt.figure(figsize=(10, 5))\n",
    "plt.plot(cumulativeRevenueA['date'], cumulativeRevenueA['revenue'], label='A')\n",
    "\n",
    "plt.plot(cumulativeRevenueB['date'], cumulativeRevenueB['revenue'], label='B')\n",
    "plt.legend()\n",
    "plt.title('График кумулятивной выручки по группам')\n",
    "plt.ylabel('Выручка')\n",
    "plt.xlabel('Дата')\n",
    "plt.show()"
   ]
  },
  {
   "cell_type": "markdown",
   "metadata": {},
   "source": [
    "***Промежуточный вывод***\n",
    "<br>\n",
    "После середины теста группа В значительно оторвалась по выручке. Скачок можно объяснить аномальными заказами"
   ]
  },
  {
   "cell_type": "markdown",
   "metadata": {},
   "source": [
    "**График кумулятивного среднего чека по группам**"
   ]
  },
  {
   "cell_type": "code",
   "execution_count": 32,
   "metadata": {},
   "outputs": [
    {
     "data": {
      "image/png": "[encoded data removed]",
      "text/plain": [
       "<Figure size 720x360 with 1 Axes>"
      ]
     },
     "metadata": {
      "needs_background": "light"
     },
     "output_type": "display_data"
    }
   ],
   "source": [
    "plt.figure(figsize=(10, 5))\n",
    "plt.plot(cumulativeRevenueA['date'], cumulativeRevenueA['revenue']/cumulativeRevenueA['orders'], label='A')\n",
    "plt.plot(cumulativeRevenueB['date'], cumulativeRevenueB['revenue']/cumulativeRevenueB['orders'], label='B')\n",
    "plt.legend() \n",
    "plt.title('График кумулятивного среднего чека по группам')\n",
    "plt.ylabel('Средний чек')\n",
    "plt.xlabel('Дата')\n",
    "plt.show()"
   ]
  },
  {
   "cell_type": "markdown",
   "metadata": {},
   "source": [
    "***Промежуточный вывод***\n",
    "<br>\n",
    "В один момент уровень среднего чека у группы А был выше, чем у группы В. На графике видно, как у группы В наблюдается резкий скачек уровня среднего чека. Видимо в эти дни были аномальные заказы"
   ]
  },
  {
   "cell_type": "markdown",
   "metadata": {},
   "source": [
    "**График относительного изменения кумулятивного среднего чека группы B к группе A**"
   ]
  },
  {
   "cell_type": "code",
   "execution_count": 33,
   "metadata": {},
   "outputs": [
    {
     "data": {
      "image/png": "[encoded data removed]",
      "text/plain": [
       "<Figure size 720x360 with 1 Axes>"
      ]
     },
     "metadata": {
      "needs_background": "light"
     },
     "output_type": "display_data"
    }
   ],
   "source": [
    "mergedCumulativeRevenue = cumulativeRevenueA.merge(cumulativeRevenueB, left_on='date', right_on='date', how='left', suffixes=['A', 'B'])\n",
    "plt.figure(figsize=(10, 5))\n",
    "plt.plot(mergedCumulativeRevenue['date'], (mergedCumulativeRevenue['revenueB']/mergedCumulativeRevenue['ordersB'])/(mergedCumulativeRevenue['revenueA']/mergedCumulativeRevenue['ordersA'])-1)\n",
    "\n",
    "# добавляем ось X\n",
    "plt.axhline(y=0, color='black', linestyle='--')\n",
    "plt.title('График относительного изменения кумулятивного среднего чека группы B к группе A')\n",
    "plt.ylabel('Относительное изменение кумулятивного среднего чека')\n",
    "plt.xlabel('Дата')\n",
    "plt.show()"
   ]
  },
  {
   "cell_type": "markdown",
   "metadata": {},
   "source": [
    "***Промежуточный вывод***\n",
    "<br>\n",
    "На графике видно, что результаты теста значительно и резко менялись в несколько дат. Видимо, именно в эти даты были аномальные заказы"
   ]
  },
  {
   "cell_type": "markdown",
   "metadata": {},
   "source": [
    "**График кумулятивного среднего количества заказов на посетителя по группам**"
   ]
  },
  {
   "cell_type": "code",
   "execution_count": 34,
   "metadata": {},
   "outputs": [
    {
     "data": {
      "image/png": "[encoded data removed]",
      "text/plain": [
       "<Figure size 720x360 with 1 Axes>"
      ]
     },
     "metadata": {
      "needs_background": "light"
     },
     "output_type": "display_data"
    }
   ],
   "source": [
    "cumulativeData['conversion'] =  cumulativeData['orders']/cumulativeData['visitors']\n",
    "# отделяем данные по группе A\n",
    "cumulativeDataA = cumulativeData[cumulativeData['group']=='A']\n",
    "\n",
    "# отделяем данные по группе B\n",
    "cumulativeDataB = cumulativeData[cumulativeData['group']=='B']\n",
    "\n",
    "# строим графики\n",
    "plt.figure(figsize=(10, 5))\n",
    "plt.plot(cumulativeDataA['date'], cumulativeDataA['conversion'], label='A')\n",
    "plt.plot(cumulativeDataB['date'], cumulativeDataB['conversion'], label='B')\n",
    "plt.legend()\n",
    "plt.title('График кумулятивного среднего количества заказов на посетителя по группам')\n",
    "plt.ylabel('Среднее количество заказов на посетителя по группам')\n",
    "plt.xlabel('Дата')\n",
    "plt.axis([dt.datetime(2019, 8, 1), dt.datetime(2019, 8, 31), 0, 0.05])\n",
    "plt.ylim(0.0220,0.0375)\n",
    "plt.show()"
   ]
  },
  {
   "cell_type": "markdown",
   "metadata": {},
   "source": [
    "***Промежуточный вывод***\n",
    "<br>\n",
    "Изначально обе группы колебались между 3% и 4%, но потом группа В зафиксировалась у значений близких к 4%, а группа А зафиксировалась на 3%"
   ]
  },
  {
   "cell_type": "markdown",
   "metadata": {},
   "source": [
    "**График относительного изменения кумулятивного среднего количества заказов на посетителя группы B к группе A**"
   ]
  },
  {
   "cell_type": "code",
   "execution_count": 35,
   "metadata": {},
   "outputs": [
    {
     "data": {
      "image/png": "[encoded data removed]",
      "text/plain": [
       "<Figure size 720x360 with 1 Axes>"
      ]
     },
     "metadata": {
      "needs_background": "light"
     },
     "output_type": "display_data"
    }
   ],
   "source": [
    "mergedCumulativeConversions = cumulativeDataA[['date','conversion']].merge(cumulativeDataB[['date','conversion']], left_on='date', right_on='date', how='left', suffixes=['A', 'B'])\n",
    "plt.figure(figsize=(10, 5))\n",
    "plt.plot(mergedCumulativeConversions['date'], mergedCumulativeConversions['conversionB']/mergedCumulativeConversions['conversionA']-1, label=\"Относительный прирост среднего кол-ва заказов группы B относительно группы A\")\n",
    "plt.legend()\n",
    "plt.title('График относительного изменения кумулятивного среднего количества заказов на посетителя')\n",
    "plt.ylabel('Кумулятивного среднего количества заказов на посетителя')\n",
    "plt.xlabel('Дата')\n",
    "plt.axhline(y=0, color='black', linestyle='--')\n",
    "plt.axhline(y=0.2, color='grey', linestyle='--')\n",
    "#plt.axis([\"2019-08-01\", '2019-08-31', -0.5, 0.5])\n",
    "plt.show()"
   ]
  },
  {
   "cell_type": "markdown",
   "metadata": {},
   "source": [
    "***Промежуточный вывод***\n",
    "<br>\n",
    "Изначально группа В проигрывала по среднему количеству заказов, потом можно наблюдать резкий скачет. Потом среднее количество заказов группы В снова падала, но теперь постепенно растёт."
   ]
  },
  {
   "cell_type": "markdown",
   "metadata": {},
   "source": [
    "**Точечный график количества заказов по пользователям**"
   ]
  },
  {
   "cell_type": "code",
   "execution_count": 36,
   "metadata": {},
   "outputs": [],
   "source": [
    "ordersByUsers = df_orders.groupby('visitorid', as_index=False).agg({'transactionid' : 'nunique'})\n",
    "ordersByUsers.columns = ['visitorid', 'orders']"
   ]
  },
  {
   "cell_type": "code",
   "execution_count": 37,
   "metadata": {},
   "outputs": [
    {
     "data": {
      "text/html": [
       "<div>\n",
       "<style scoped>\n",
       "    .dataframe tbody tr th:only-of-type {\n",
       "        vertical-align: middle;\n",
       "    }\n",
       "\n",
       "    .dataframe tbody tr th {\n",
       "        vertical-align: top;\n",
       "    }\n",
       "\n",
       "    .dataframe thead th {\n",
       "        text-align: right;\n",
       "    }\n",
       "</style>\n",
       "<table border=\"1\" class=\"dataframe\">\n",
       "  <thead>\n",
       "    <tr style=\"text-align: right;\">\n",
       "      <th></th>\n",
       "      <th>visitorid</th>\n",
       "      <th>orders</th>\n",
       "    </tr>\n",
       "  </thead>\n",
       "  <tbody>\n",
       "    <tr>\n",
       "      <th>0</th>\n",
       "      <td>5114589</td>\n",
       "      <td>1</td>\n",
       "    </tr>\n",
       "    <tr>\n",
       "      <th>1</th>\n",
       "      <td>6958315</td>\n",
       "      <td>1</td>\n",
       "    </tr>\n",
       "    <tr>\n",
       "      <th>2</th>\n",
       "      <td>11685486</td>\n",
       "      <td>1</td>\n",
       "    </tr>\n",
       "    <tr>\n",
       "      <th>3</th>\n",
       "      <td>39475350</td>\n",
       "      <td>1</td>\n",
       "    </tr>\n",
       "    <tr>\n",
       "      <th>4</th>\n",
       "      <td>47206413</td>\n",
       "      <td>1</td>\n",
       "    </tr>\n",
       "    <tr>\n",
       "      <th>...</th>\n",
       "      <td>...</td>\n",
       "      <td>...</td>\n",
       "    </tr>\n",
       "    <tr>\n",
       "      <th>968</th>\n",
       "      <td>4259830713</td>\n",
       "      <td>1</td>\n",
       "    </tr>\n",
       "    <tr>\n",
       "      <th>969</th>\n",
       "      <td>4278982564</td>\n",
       "      <td>1</td>\n",
       "    </tr>\n",
       "    <tr>\n",
       "      <th>970</th>\n",
       "      <td>4279090005</td>\n",
       "      <td>1</td>\n",
       "    </tr>\n",
       "    <tr>\n",
       "      <th>971</th>\n",
       "      <td>4281247801</td>\n",
       "      <td>1</td>\n",
       "    </tr>\n",
       "    <tr>\n",
       "      <th>972</th>\n",
       "      <td>4283872382</td>\n",
       "      <td>1</td>\n",
       "    </tr>\n",
       "  </tbody>\n",
       "</table>\n",
       "<p>973 rows × 2 columns</p>\n",
       "</div>"
      ],
      "text/plain": [
       "      visitorid  orders\n",
       "0       5114589       1\n",
       "1       6958315       1\n",
       "2      11685486       1\n",
       "3      39475350       1\n",
       "4      47206413       1\n",
       "..          ...     ...\n",
       "968  4259830713       1\n",
       "969  4278982564       1\n",
       "970  4279090005       1\n",
       "971  4281247801       1\n",
       "972  4283872382       1\n",
       "\n",
       "[973 rows x 2 columns]"
      ]
     },
     "execution_count": 37,
     "metadata": {},
     "output_type": "execute_result"
    }
   ],
   "source": [
    "ordersByUsers"
   ]
  },
  {
   "cell_type": "code",
   "execution_count": 38,
   "metadata": {},
   "outputs": [
    {
     "data": {
      "image/png": "[encoded data removed]",
      "text/plain": [
       "<Figure size 432x288 with 1 Axes>"
      ]
     },
     "metadata": {
      "needs_background": "light"
     },
     "output_type": "display_data"
    }
   ],
   "source": [
    "plt.hist(ordersByUsers['orders'])\n",
    "plt.title('Гистограмма количества заказов')\n",
    "plt.ylabel('Количество заказов')\n",
    "plt.xlabel('Заказы')\n",
    "plt.show()"
   ]
  },
  {
   "cell_type": "markdown",
   "metadata": {},
   "source": [
    "Большинство пользователей совершило 1 заказ. Однако не ясно сколько пользователей совершило 2,3 и более заказов"
   ]
  },
  {
   "cell_type": "code",
   "execution_count": 39,
   "metadata": {},
   "outputs": [
    {
     "name": "stdout",
     "output_type": "stream",
     "text": [
      "      visitorid  orders\n",
      "908  3967698036       3\n",
      "55    249864742       3\n",
      "478  2108163459       3\n",
      "687  2988190573       3\n",
      "890  3908431265       3\n",
      "138   611059232       3\n",
      "632  2742574263       3\n",
      "157   678354126       2\n",
      "323  1404560065       2\n",
      "452  1985475298       2\n"
     ]
    },
    {
     "data": {
      "image/png": "[encoded data removed]",
      "text/plain": [
       "<Figure size 432x288 with 1 Axes>"
      ]
     },
     "metadata": {
      "needs_background": "light"
     },
     "output_type": "display_data"
    }
   ],
   "source": [
    "print(ordersByUsers.sort_values(by='orders', ascending=False).head(10))\n",
    "\n",
    "x_values = pd.Series(range(0, len(ordersByUsers)))\n",
    "\n",
    "plt.scatter(x_values, ordersByUsers['orders']) \n",
    "plt.title('Точечный график заказов')\n",
    "plt.ylabel('Заказы')\n",
    "plt.xlabel('Количество заказов')\n",
    "plt.show()"
   ]
  },
  {
   "cell_type": "markdown",
   "metadata": {},
   "source": [
    "***Промежуточный вывод***\n",
    "<br>\n",
    "Пользователей заказавших больше 2 раз совсем мало. Это может быть аномалией, но чтобы наверняка ответить нужно использовать перцентили"
   ]
  },
  {
   "cell_type": "markdown",
   "metadata": {},
   "source": [
    "**95-й и 99-й перцентили количества заказов на пользователя**"
   ]
  },
  {
   "cell_type": "code",
   "execution_count": 40,
   "metadata": {},
   "outputs": [
    {
     "data": {
      "text/plain": [
       "array([1., 2.])"
      ]
     },
     "execution_count": 40,
     "metadata": {},
     "output_type": "execute_result"
    }
   ],
   "source": [
    "np.percentile(ordersByUsers['orders'], [95, 99])"
   ]
  },
  {
   "cell_type": "markdown",
   "metadata": {},
   "source": [
    "***Промежуточный вывод***\n",
    "<br>\n",
    "Не более 5% совершило больше 2 заказов. И не более 1% совершило больше 4 заказов. Разумно выбрать верхней границей значение 2 заказа"
   ]
  },
  {
   "cell_type": "markdown",
   "metadata": {},
   "source": [
    "**Точечный график стоимостей заказов**"
   ]
  },
  {
   "cell_type": "code",
   "execution_count": 41,
   "metadata": {},
   "outputs": [
    {
     "name": "stdout",
     "output_type": "stream",
     "text": [
      "      transactionid   visitorid       date  revenue group\n",
      "425       590470918  1920142716 2019-08-19  1294500     B\n",
      "1196     3936777065  2108080724 2019-08-15   202740     B\n",
      "1136      666610489  1307669133 2019-08-13    92550     A\n",
      "744      3668308183   888512513 2019-08-27    86620     B\n",
      "743      3603576309  4133034833 2019-08-09    67990     A\n",
      "1103     1348774318  1164614297 2019-08-12    66350     A\n",
      "1099      316924019   148427295 2019-08-12    65710     A\n",
      "949      1347999392   887908475 2019-08-21    60450     A\n",
      "940      2420050534  4003628586 2019-08-08    58550     B\n",
      "131      3163614039  2254586615 2019-08-22    53904     A\n"
     ]
    },
    {
     "data": {
      "image/png": "[encoded data removed]",
      "text/plain": [
       "<Figure size 432x288 with 1 Axes>"
      ]
     },
     "metadata": {
      "needs_background": "light"
     },
     "output_type": "display_data"
    }
   ],
   "source": [
    "print(df_orders.sort_values(by='revenue', ascending=False).head(10))\n",
    "\n",
    "x_values = pd.Series(range(0, len(df_orders['revenue'])))\n",
    "plt.scatter(x_values, df_orders['revenue'])\n",
    "plt.title('Точечный график стоимости заказов')\n",
    "plt.ylabel('Стоимость заказа')\n",
    "plt.xlabel('Количество заказов')\n",
    "plt.show()"
   ]
  },
  {
   "cell_type": "markdown",
   "metadata": {},
   "source": [
    "***Промежуточный вывод***\n",
    "<br>\n",
    "Большинство заказов стоят меньше 200.000 рублей, но есть выбросы в районе 200.000 рублей и 1.300.000 рублей (аномалия)"
   ]
  },
  {
   "cell_type": "markdown",
   "metadata": {},
   "source": [
    "**95-й и 99-й перцентили стоимости заказов**"
   ]
  },
  {
   "cell_type": "code",
   "execution_count": 42,
   "metadata": {},
   "outputs": [
    {
     "data": {
      "text/plain": [
       "array([26785., 53904.])"
      ]
     },
     "execution_count": 42,
     "metadata": {},
     "output_type": "execute_result"
    }
   ],
   "source": [
    "np.percentile(df_orders['revenue'], [95, 99])"
   ]
  },
  {
   "cell_type": "markdown",
   "metadata": {},
   "source": [
    "***Промежуточный вывод***\n",
    "<br>\n",
    "Не более 5% совершило заказов на сумму 27000 рублей. И не более 1% совершило заказов на сумму 54000 рублей. Разумно выбрать верхней границей сумму заказа 27000 рублей"
   ]
  },
  {
   "cell_type": "markdown",
   "metadata": {},
   "source": [
    "**Статистическая значимость различий в среднем количестве заказов на посетителя между группами по «сырым» данным**"
   ]
  },
  {
   "cell_type": "markdown",
   "metadata": {},
   "source": [
    "Для проверки статистической значимости различий в среднем количестве заказов на посетителя сформулируем гипотезы:\n",
    "- Н_0: различий в среднем количестве заказов на посетителя между группами нет\n",
    "- H_1: различия в среднем количестве заказов на посетителя между группами есть\n",
    "\n",
    "Будет использовать тест Манна-Уитни, потому что в данных имеются выборки"
   ]
  },
  {
   "cell_type": "code",
   "execution_count": 43,
   "metadata": {},
   "outputs": [],
   "source": [
    "visitorsADaily = df_visitors[df_visitors['group'] == 'A'][['date', 'visitors']]\n",
    "visitorsADaily.columns = ['date', 'visitorsPerDateA']\n",
    "\n",
    "visitorsACummulative = visitorsADaily.apply(\n",
    "    lambda x: visitorsADaily[visitorsADaily['date'] <= x['date']].agg(\n",
    "        {'date': 'max', 'visitorsPerDateA': 'sum'}\n",
    "    ),\n",
    "    axis=1,\n",
    ")\n",
    "visitorsACummulative.columns = ['date', 'visitorsCummulativeA']\n",
    "\n",
    "visitorsBDaily = df_visitors[df_visitors['group'] == 'B'][['date', 'visitors']]\n",
    "visitorsBDaily.columns = ['date', 'visitorsPerDateB']\n",
    "\n",
    "visitorsBCummulative = visitorsBDaily.apply(\n",
    "    lambda x: visitorsBDaily[visitorsBDaily['date'] <= x['date']].agg(\n",
    "        {'date': 'max', 'visitorsPerDateB': 'sum'}\n",
    "    ),\n",
    "    axis=1,\n",
    ")\n",
    "visitorsBCummulative.columns = ['date', 'visitorsCummulativeB']\n",
    "\n",
    "ordersADaily = (\n",
    "    df_orders[df_orders['group'] == 'A'][['date', 'transactionid', 'visitorid', 'revenue']]\n",
    "    .groupby('date', as_index=False)\n",
    "    .agg({'transactionid': pd.Series.nunique, 'revenue': 'sum'})\n",
    ")\n",
    "ordersADaily.columns = ['date', 'ordersPerDateA', 'revenuePerDateA']\n",
    "\n",
    "ordersACummulative = ordersADaily.apply(\n",
    "    lambda x: ordersADaily[ordersADaily['date'] <= x['date']].agg(\n",
    "        {'date': 'max', 'ordersPerDateA': 'sum', 'revenuePerDateA': 'sum'}\n",
    "    ),\n",
    "    axis=1,\n",
    ").sort_values(by=['date'])\n",
    "ordersACummulative.columns = [\n",
    "    'date',\n",
    "    'ordersCummulativeA',\n",
    "    'revenueCummulativeA',\n",
    "]\n",
    "\n",
    "ordersBDaily = (\n",
    "    df_orders[df_orders['group'] == 'B'][['date', 'transactionid', 'visitorid', 'revenue']]\n",
    "    .groupby('date', as_index=False)\n",
    "    .agg({'transactionid': pd.Series.nunique, 'revenue': 'sum'})\n",
    ")\n",
    "ordersBDaily.columns = ['date', 'ordersPerDateB', 'revenuePerDateB']\n",
    "\n",
    "ordersBCummulative = ordersBDaily.apply(\n",
    "    lambda x: ordersBDaily[ordersBDaily['date'] <= x['date']].agg(\n",
    "        {'date': 'max', 'ordersPerDateB': 'sum', 'revenuePerDateB': 'sum'}\n",
    "    ),\n",
    "    axis=1,\n",
    ").sort_values(by=['date'])\n",
    "ordersBCummulative.columns = [\n",
    "    'date',\n",
    "    'ordersCummulativeB',\n",
    "    'revenueCummulativeB',\n",
    "]\n",
    "\n",
    "data = (\n",
    "    ordersADaily.merge(\n",
    "        ordersBDaily, left_on='date', right_on='date', how='left'\n",
    "    )\n",
    "    .merge(ordersACummulative, left_on='date', right_on='date', how='left')\n",
    "    .merge(ordersBCummulative, left_on='date', right_on='date', how='left')\n",
    "    .merge(visitorsADaily, left_on='date', right_on='date', how='left')\n",
    "    .merge(visitorsBDaily, left_on='date', right_on='date', how='left')\n",
    "    .merge(visitorsACummulative, left_on='date', right_on='date', how='left')\n",
    "    .merge(visitorsBCummulative, left_on='date', right_on='date', how='left')\n",
    ")\n",
    "\n",
    "#print(data.head(5))"
   ]
  },
  {
   "cell_type": "code",
   "execution_count": 44,
   "metadata": {},
   "outputs": [
    {
     "name": "stdout",
     "output_type": "stream",
     "text": [
      "p-value 0.01102\n",
      "Относительная разница 0.160\n"
     ]
    }
   ],
   "source": [
    "ordersByUsersA = (\n",
    "    df_orders[df_orders['group'] == 'A']\n",
    "    .groupby('visitorid', as_index=False)\n",
    "    .agg({'transactionid': pd.Series.nunique})\n",
    ")\n",
    "ordersByUsersA.columns = ['visitorid', 'orders']\n",
    "\n",
    "ordersByUsersB = (\n",
    "    df_orders[df_orders['group'] == 'B']\n",
    "    .groupby('visitorid', as_index=False)\n",
    "    .agg({'transactionid': pd.Series.nunique})\n",
    ")\n",
    "ordersByUsersB.columns = ['visitorid', 'orders'] \n",
    "pd.Series(0, index=np.arange(data['visitorsPerDateA'].sum() - len(ordersByUsersA['orders'])), name='orders')\n",
    "[ordersByUsersA['orders'],pd.Series(0, index=np.arange(data['visitorsPerDateA'].sum() - len(ordersByUsersA['orders'])), name='orders')]\n",
    "\n",
    "sampleA = pd.concat([ordersByUsersA['orders'],pd.Series(0, index=np.arange(df_visitors[df_visitors['group'] == 'A']['visitors'].sum() - len(ordersByUsersA['orders'])), name='orders')],axis=0)\n",
    "\n",
    "sampleB = pd.concat([ordersByUsersB['orders'],pd.Series(0, index=np.arange(df_visitors[df_visitors['group'] == 'B']['visitors'].sum() - len(ordersByUsersB['orders'])), name='orders')],axis=0)\n",
    "\n",
    "ordersByUsersA = (\n",
    "    df_orders[df_orders['group'] == 'A']\n",
    "    .groupby('visitorid', as_index=False)\n",
    "    .agg({'transactionid': pd.Series.nunique})\n",
    ")\n",
    "ordersByUsersA.columns = ['visitorid', 'orders']\n",
    "\n",
    "ordersByUsersB = (\n",
    "    df_orders[df_orders['group'] == 'B']\n",
    "    .groupby('visitorid', as_index=False)\n",
    "    .agg({'transactionid': pd.Series.nunique})\n",
    ")\n",
    "ordersByUsersB.columns = ['visitorid', 'orders']\n",
    "\n",
    "sampleA = pd.concat(\n",
    "    [\n",
    "        ordersByUsersA['orders'],\n",
    "        pd.Series(\n",
    "            0,\n",
    "            index=np.arange(\n",
    "                df_visitors[df_visitors['group'] == 'A']['visitors'].sum() - len(ordersByUsersA['orders'])\n",
    "            ),\n",
    "            name='orders',\n",
    "        ),\n",
    "    ],\n",
    "    axis=0,\n",
    ")\n",
    "\n",
    "sampleB = pd.concat(\n",
    "    [\n",
    "        ordersByUsersB['orders'],\n",
    "        pd.Series(\n",
    "            0,\n",
    "            index=np.arange(\n",
    "                df_visitors[df_visitors['group'] == 'B']['visitors'].sum() - len(ordersByUsersB['orders'])\n",
    "            ),\n",
    "            name='orders',\n",
    "        ),\n",
    "    ],\n",
    "    axis=0,\n",
    ")\n",
    "\n",
    "print(\"p-value {0:.5f}\".format(stats.mannwhitneyu(sampleA, sampleB)[1]))\n",
    "print(\"Относительная разница {0:.3f}\".format(sampleB.mean() / sampleA.mean() - 1))"
   ]
  },
  {
   "cell_type": "markdown",
   "metadata": {},
   "source": [
    "***Промежуточный вывод***\n",
    "<br>\n",
    "p-value значительно ниже 0.05, потому отвергает нулевую гипотезу. Анализ сырых данных сообщает, что в среднем количестве заказов между группами есть статистические значимые различия."
   ]
  },
  {
   "cell_type": "markdown",
   "metadata": {},
   "source": [
    "**Статистическая значимость различий в среднем чеке заказа между группами по «сырым» данным**"
   ]
  },
  {
   "cell_type": "markdown",
   "metadata": {},
   "source": [
    "Для проверки статистической значимости различий в среднем количестве заказов на посетителя сформулируем гипотезы:\n",
    "- Н_0: различий в среднем чеке заказа между группами нет\n",
    "- H_1: различия в среднем чеке заказов между группами есть\n",
    "\n",
    "Будет использовать тест Манна-Уитни, потому что в данных имеются выборки"
   ]
  },
  {
   "cell_type": "code",
   "execution_count": 45,
   "metadata": {},
   "outputs": [
    {
     "name": "stdout",
     "output_type": "stream",
     "text": [
      "p-value 0.829\n",
      "Относительная разница 0.287\n"
     ]
    }
   ],
   "source": [
    "print('p-value {0:.3f}'.format(stats.mannwhitneyu(df_orders[df_orders['group']=='A']['revenue'], df_orders[df_orders['group']=='B']['revenue'])[1]))\n",
    "print('Относительная разница {0:.3f}'.format(df_orders[df_orders['group']=='B']['revenue'].mean()/df_orders[df_orders['group']=='A']['revenue'].mean()-1))"
   ]
  },
  {
   "cell_type": "markdown",
   "metadata": {},
   "source": [
    "***Промежуточный вывод***\n",
    "<br>\n",
    "p-value больше 0.05 - статистически значимых отличий в среднем чеке между группами нет. Кроме того, относительное различие среднего чека между группами составляет 25%"
   ]
  },
  {
   "cell_type": "markdown",
   "metadata": {},
   "source": [
    "**Статистическая значимость различий в среднем количестве заказов на посетителя между группами по «очищенным» данным**"
   ]
  },
  {
   "cell_type": "markdown",
   "metadata": {},
   "source": [
    "Отделим аномальный пользователей"
   ]
  },
  {
   "cell_type": "code",
   "execution_count": 46,
   "metadata": {},
   "outputs": [
    {
     "name": "stdout",
     "output_type": "stream",
     "text": [
      "568     113298937\n",
      "1099    148427295\n",
      "928     204675465\n",
      "33      249864742\n",
      "684     358944393\n",
      "Name: visitorid, dtype: int64\n"
     ]
    }
   ],
   "source": [
    "usersWithManyOrders = pd.concat(\n",
    "    [\n",
    "        ordersByUsersA[ordersByUsersA['orders'] > np.percentile(ordersByUsers['orders'], 95)]['visitorid'],\n",
    "        ordersByUsersB[ordersByUsersB['orders'] > np.percentile(ordersByUsers['orders'], 95)]['visitorid'],\n",
    "    ],\n",
    "    axis=0,\n",
    ")\n",
    "usersWithExpensiveOrders = df_orders[df_orders['revenue'] > np.percentile(df_orders['revenue'], 95)]['visitorid']\n",
    "abnormalUsers = (\n",
    "    pd.concat([usersWithManyOrders, usersWithExpensiveOrders], axis=0)\n",
    "    .drop_duplicates()\n",
    "    .sort_values()\n",
    ")\n",
    "print(abnormalUsers.head(5))"
   ]
  },
  {
   "cell_type": "code",
   "execution_count": 47,
   "metadata": {},
   "outputs": [
    {
     "name": "stdout",
     "output_type": "stream",
     "text": [
      "Абсолютных потерь: 86\n",
      "Относительных потерь: 0.08838643371017471\n"
     ]
    }
   ],
   "source": [
    "print(\"Абсолютных потерь:\",abnormalUsers.count())\n",
    "print(\"Относительных потерь:\",abnormalUsers.count()/df_orders['visitorid'].nunique())"
   ]
  },
  {
   "cell_type": "code",
   "execution_count": 48,
   "metadata": {},
   "outputs": [
    {
     "name": "stdout",
     "output_type": "stream",
     "text": [
      "p-value 0.01593\n",
      "Относительная разница 0.174\n"
     ]
    }
   ],
   "source": [
    "sampleAFiltered = pd.concat(\n",
    "    [\n",
    "        ordersByUsersA[\n",
    "            np.logical_not(ordersByUsersA['visitorid'].isin(abnormalUsers))\n",
    "        ]['orders'],\n",
    "        pd.Series(\n",
    "            0,\n",
    "            index=np.arange(\n",
    "                data['visitorsPerDateA'].sum() - len(ordersByUsersA['orders'])\n",
    "            ),\n",
    "            name='orders',\n",
    "        ),\n",
    "    ],\n",
    "    axis=0,\n",
    ")\n",
    "\n",
    "sampleBFiltered = pd.concat(\n",
    "    [\n",
    "        ordersByUsersB[\n",
    "            np.logical_not(ordersByUsersB['visitorid'].isin(abnormalUsers))\n",
    "        ]['orders'],\n",
    "        pd.Series(\n",
    "            0,\n",
    "            index=np.arange(\n",
    "                data['visitorsPerDateB'].sum() - len(ordersByUsersB['orders'])\n",
    "            ),\n",
    "            name='orders',\n",
    "        ),\n",
    "    ],\n",
    "    axis=0,\n",
    ")\n",
    "\n",
    "print('p-value {0:.5f}'.format(stats.mannwhitneyu(sampleAFiltered, sampleBFiltered)[1]))\n",
    "print('Относительная разница {0:.3f}'.format(sampleBFiltered.mean()/sampleAFiltered.mean()-1))"
   ]
  },
  {
   "cell_type": "markdown",
   "metadata": {},
   "source": [
    "***Промежуточный вывод***\n",
    "<br>\n",
    "Как и в случае с сырыми данными статистическая значимость достигнута. Сегмент В лучше сегмента А"
   ]
  },
  {
   "cell_type": "markdown",
   "metadata": {},
   "source": [
    "**Статистическая значимость различий в среднем чеке заказа между группами по «очищенным» данным**"
   ]
  },
  {
   "cell_type": "code",
   "execution_count": 49,
   "metadata": {},
   "outputs": [
    {
     "name": "stdout",
     "output_type": "stream",
     "text": [
      "p-value 0.727\n",
      "Относительная разница -0.034\n"
     ]
    }
   ],
   "source": [
    "print(\n",
    "    'p-value {0:.3f}'.format(\n",
    "        stats.mannwhitneyu(\n",
    "            df_orders[\n",
    "                np.logical_and(\n",
    "                    df_orders['group'] == 'A',\n",
    "                    np.logical_not(df_orders['visitorid'].isin(abnormalUsers)),\n",
    "                )\n",
    "            ]['revenue'],\n",
    "            df_orders[\n",
    "                np.logical_and(\n",
    "                    df_orders['group'] == 'B',\n",
    "                    np.logical_not(df_orders['visitorid'].isin(abnormalUsers)),\n",
    "                )\n",
    "            ]['revenue'],\n",
    "        )[1]\n",
    "    )\n",
    ")\n",
    "\n",
    "print(\n",
    "    \"Относительная разница {0:.3f}\".format(\n",
    "        df_orders[\n",
    "            np.logical_and(\n",
    "                df_orders['group'] == 'B',\n",
    "                np.logical_not(df_orders['visitorid'].isin(abnormalUsers)),\n",
    "            )\n",
    "        ]['revenue'].mean()\n",
    "        / df_orders[\n",
    "            np.logical_and(\n",
    "                df_orders['group'] == 'A',\n",
    "                np.logical_not(df_orders['visitorid'].isin(abnormalUsers)),\n",
    "            )\n",
    "        ]['revenue'].mean()\n",
    "        - 1\n",
    "    )\n",
    ")"
   ]
  },
  {
   "cell_type": "markdown",
   "metadata": {},
   "source": [
    "***Промежуточный вывод***\n",
    "<br>\n",
    "Статистической значимости не появилось"
   ]
  },
  {
   "cell_type": "markdown",
   "metadata": {},
   "source": [
    "## Вывод"
   ]
  },
  {
   "cell_type": "markdown",
   "metadata": {},
   "source": [
    "В итоге имеем:\n",
    "- Есть статистически значимое различие по среднему количеству заказов на посетителя между группами как по сырым данным, так и после фильтрации аномалий.\n",
    "- По сырым данным нет статистически значимого различия по среднему чеку между группами. После удаления аномалий статистически значимое различие не наблюдаем.\n",
    "- График среднего чека помог выявить аномальные значения, которые влияли на результаты тестов\n",
    "- Уровень среднего количества заказов у группы В имеет потенциал к росту, а также на графике заметен восходящий тренд\n",
    "\n",
    "Исходя из фактов выше, можно останавливать A\\B тест и признать победу группы В"
   ]
  }
 ],
 "metadata": {
  "ExecuteTimeLog": [
   {
    "duration": 1462,
    "start_time": "2023-03-10T15:15:17.022Z"
   },
   {
    "duration": 4,
    "start_time": "2023-03-10T15:16:29.480Z"
   },
   {
    "duration": 335,
    "start_time": "2023-03-10T15:17:50.869Z"
   },
   {
    "duration": 42,
    "start_time": "2023-03-10T15:17:54.406Z"
   },
   {
    "duration": 69,
    "start_time": "2023-03-10T15:18:18.106Z"
   },
   {
    "duration": 8,
    "start_time": "2023-03-10T15:18:18.682Z"
   },
   {
    "duration": 15,
    "start_time": "2023-03-10T15:18:56.437Z"
   },
   {
    "duration": 119,
    "start_time": "2023-03-10T15:19:21.381Z"
   },
   {
    "duration": 9,
    "start_time": "2023-03-10T15:19:25.864Z"
   },
   {
    "duration": 6,
    "start_time": "2023-03-10T15:20:10.097Z"
   },
   {
    "duration": 49,
    "start_time": "2023-03-13T17:11:17.436Z"
   },
   {
    "duration": 1276,
    "start_time": "2023-03-13T17:11:21.555Z"
   },
   {
    "duration": 221,
    "start_time": "2023-03-13T17:11:22.833Z"
   },
   {
    "duration": 22,
    "start_time": "2023-03-13T17:11:23.097Z"
   },
   {
    "duration": 14,
    "start_time": "2023-03-13T17:11:31.293Z"
   },
   {
    "duration": 9,
    "start_time": "2023-03-13T17:11:37.901Z"
   },
   {
    "duration": 19,
    "start_time": "2023-03-13T17:11:57.193Z"
   },
   {
    "duration": 16,
    "start_time": "2023-03-13T17:12:16.473Z"
   },
   {
    "duration": 68,
    "start_time": "2023-03-13T17:15:33.529Z"
   },
   {
    "duration": 8,
    "start_time": "2023-03-13T17:15:39.121Z"
   },
   {
    "duration": 9,
    "start_time": "2023-03-13T17:15:41.152Z"
   },
   {
    "duration": 9,
    "start_time": "2023-03-13T17:16:00.213Z"
   },
   {
    "duration": 11,
    "start_time": "2023-03-13T17:16:15.831Z"
   },
   {
    "duration": 12,
    "start_time": "2023-03-13T17:16:25.289Z"
   },
   {
    "duration": 3,
    "start_time": "2023-03-13T17:17:19.793Z"
   },
   {
    "duration": 3,
    "start_time": "2023-03-13T17:17:23.013Z"
   },
   {
    "duration": 7,
    "start_time": "2023-03-13T17:17:29.994Z"
   },
   {
    "duration": 5,
    "start_time": "2023-03-13T17:17:34.101Z"
   },
   {
    "duration": 4,
    "start_time": "2023-03-13T17:18:27.446Z"
   },
   {
    "duration": 13,
    "start_time": "2023-03-13T17:18:35.429Z"
   },
   {
    "duration": 10,
    "start_time": "2023-03-13T17:18:41.334Z"
   },
   {
    "duration": 7,
    "start_time": "2023-03-13T17:19:23.927Z"
   },
   {
    "duration": 50,
    "start_time": "2023-03-13T17:19:46.110Z"
   },
   {
    "duration": 14,
    "start_time": "2023-03-13T17:20:05.245Z"
   },
   {
    "duration": 13,
    "start_time": "2023-03-13T17:20:16.923Z"
   },
   {
    "duration": 6,
    "start_time": "2023-03-13T17:21:49.175Z"
   },
   {
    "duration": 6,
    "start_time": "2023-03-13T17:21:52.239Z"
   },
   {
    "duration": 11,
    "start_time": "2023-03-13T17:22:27.815Z"
   },
   {
    "duration": 6,
    "start_time": "2023-03-13T17:22:47.121Z"
   },
   {
    "duration": 6,
    "start_time": "2023-03-13T17:22:48.696Z"
   },
   {
    "duration": 7,
    "start_time": "2023-03-13T17:22:48.856Z"
   },
   {
    "duration": 5,
    "start_time": "2023-03-13T17:22:49.017Z"
   },
   {
    "duration": 8,
    "start_time": "2023-03-13T17:25:42.175Z"
   },
   {
    "duration": 9,
    "start_time": "2023-03-13T17:26:13.806Z"
   },
   {
    "duration": 1436,
    "start_time": "2023-03-14T07:42:32.262Z"
   },
   {
    "duration": 242,
    "start_time": "2023-03-14T07:42:33.701Z"
   },
   {
    "duration": 28,
    "start_time": "2023-03-14T07:42:33.950Z"
   },
   {
    "duration": 24,
    "start_time": "2023-03-14T07:42:33.980Z"
   },
   {
    "duration": 44,
    "start_time": "2023-03-14T07:42:34.005Z"
   },
   {
    "duration": 7,
    "start_time": "2023-03-14T07:42:34.051Z"
   },
   {
    "duration": 67,
    "start_time": "2023-03-14T07:42:34.060Z"
   },
   {
    "duration": 19,
    "start_time": "2023-03-14T07:42:34.129Z"
   },
   {
    "duration": 22,
    "start_time": "2023-03-14T07:42:34.151Z"
   },
   {
    "duration": 6,
    "start_time": "2023-03-14T07:42:34.215Z"
   },
   {
    "duration": 8,
    "start_time": "2023-03-14T07:42:34.402Z"
   },
   {
    "duration": 7,
    "start_time": "2023-03-14T07:42:34.557Z"
   },
   {
    "duration": 17,
    "start_time": "2023-03-14T07:42:35.241Z"
   },
   {
    "duration": 11,
    "start_time": "2023-03-14T07:54:52.725Z"
   },
   {
    "duration": 3,
    "start_time": "2023-03-14T07:54:57.693Z"
   },
   {
    "duration": 73,
    "start_time": "2023-03-14T07:54:57.846Z"
   },
   {
    "duration": 16,
    "start_time": "2023-03-14T07:54:58.000Z"
   },
   {
    "duration": 21,
    "start_time": "2023-03-14T07:54:58.139Z"
   },
   {
    "duration": 16,
    "start_time": "2023-03-14T07:54:58.303Z"
   },
   {
    "duration": 4,
    "start_time": "2023-03-14T07:54:58.780Z"
   },
   {
    "duration": 12,
    "start_time": "2023-03-14T07:54:59.116Z"
   },
   {
    "duration": 14,
    "start_time": "2023-03-14T07:54:59.269Z"
   },
   {
    "duration": 13,
    "start_time": "2023-03-14T07:54:59.421Z"
   },
   {
    "duration": 6,
    "start_time": "2023-03-14T07:54:59.624Z"
   },
   {
    "duration": 7,
    "start_time": "2023-03-14T07:54:59.779Z"
   },
   {
    "duration": 5,
    "start_time": "2023-03-14T07:54:59.949Z"
   },
   {
    "duration": 11,
    "start_time": "2023-03-14T07:55:00.732Z"
   },
   {
    "duration": 12,
    "start_time": "2023-03-14T07:55:03.864Z"
   },
   {
    "duration": 10,
    "start_time": "2023-03-14T08:18:53.672Z"
   },
   {
    "duration": 15,
    "start_time": "2023-03-14T08:18:59.790Z"
   },
   {
    "duration": 132,
    "start_time": "2023-03-14T09:53:37.814Z"
   },
   {
    "duration": 7,
    "start_time": "2023-03-14T09:53:40.598Z"
   },
   {
    "duration": 7,
    "start_time": "2023-03-14T09:53:51.001Z"
   },
   {
    "duration": 19,
    "start_time": "2023-03-14T09:54:23.918Z"
   },
   {
    "duration": 10,
    "start_time": "2023-03-14T09:54:36.298Z"
   },
   {
    "duration": 11,
    "start_time": "2023-03-14T09:55:19.810Z"
   },
   {
    "duration": 9,
    "start_time": "2023-03-14T09:55:24.312Z"
   },
   {
    "duration": 9,
    "start_time": "2023-03-14T09:55:27.465Z"
   },
   {
    "duration": 9,
    "start_time": "2023-03-14T09:55:36.541Z"
   },
   {
    "duration": 9,
    "start_time": "2023-03-14T09:55:40.927Z"
   },
   {
    "duration": 9,
    "start_time": "2023-03-14T09:55:47.228Z"
   },
   {
    "duration": 12,
    "start_time": "2023-03-14T09:55:50.599Z"
   },
   {
    "duration": 10,
    "start_time": "2023-03-14T09:55:59.423Z"
   },
   {
    "duration": 9,
    "start_time": "2023-03-14T09:56:08.054Z"
   },
   {
    "duration": 8,
    "start_time": "2023-03-14T09:56:12.470Z"
   },
   {
    "duration": 13,
    "start_time": "2023-03-14T09:56:17.569Z"
   },
   {
    "duration": 6,
    "start_time": "2023-03-14T12:19:39.642Z"
   },
   {
    "duration": 28,
    "start_time": "2023-03-14T12:21:16.665Z"
   },
   {
    "duration": 187,
    "start_time": "2023-03-14T12:21:35.322Z"
   },
   {
    "duration": 12,
    "start_time": "2023-03-14T12:21:38.994Z"
   },
   {
    "duration": 107,
    "start_time": "2023-03-14T12:22:11.520Z"
   },
   {
    "duration": 11,
    "start_time": "2023-03-14T12:22:15.263Z"
   },
   {
    "duration": 116,
    "start_time": "2023-03-14T12:22:46.662Z"
   },
   {
    "duration": 6,
    "start_time": "2023-03-14T12:23:01.190Z"
   },
   {
    "duration": 12,
    "start_time": "2023-03-14T12:23:04.167Z"
   },
   {
    "duration": 23,
    "start_time": "2023-03-14T12:25:29.348Z"
   },
   {
    "duration": 258,
    "start_time": "2023-03-14T12:25:45.674Z"
   },
   {
    "duration": 318,
    "start_time": "2023-03-14T12:26:37.463Z"
   },
   {
    "duration": 241,
    "start_time": "2023-03-14T12:26:43.170Z"
   },
   {
    "duration": 267,
    "start_time": "2023-03-14T12:29:16.641Z"
   },
   {
    "duration": 5,
    "start_time": "2023-03-14T12:29:30.125Z"
   },
   {
    "duration": 5,
    "start_time": "2023-03-14T12:29:41.361Z"
   },
   {
    "duration": 4,
    "start_time": "2023-03-14T12:30:00.810Z"
   },
   {
    "duration": 246,
    "start_time": "2023-03-14T12:30:19.805Z"
   },
   {
    "duration": 330,
    "start_time": "2023-03-14T12:30:29.613Z"
   },
   {
    "duration": 235,
    "start_time": "2023-03-14T12:30:41.390Z"
   },
   {
    "duration": 185,
    "start_time": "2023-03-14T12:30:48.052Z"
   },
   {
    "duration": 4,
    "start_time": "2023-03-14T12:31:02.701Z"
   },
   {
    "duration": 5,
    "start_time": "2023-03-14T12:31:07.878Z"
   },
   {
    "duration": 258,
    "start_time": "2023-03-14T12:31:15.226Z"
   },
   {
    "duration": 270,
    "start_time": "2023-03-14T12:31:28.095Z"
   },
   {
    "duration": 11,
    "start_time": "2023-03-14T12:31:32.947Z"
   },
   {
    "duration": 274,
    "start_time": "2023-03-14T12:31:43.548Z"
   },
   {
    "duration": 164,
    "start_time": "2023-03-14T12:31:47.906Z"
   },
   {
    "duration": 237,
    "start_time": "2023-03-14T12:31:53.922Z"
   },
   {
    "duration": 204,
    "start_time": "2023-03-14T12:31:59.544Z"
   },
   {
    "duration": 212,
    "start_time": "2023-03-14T12:32:04.496Z"
   },
   {
    "duration": 190,
    "start_time": "2023-03-14T12:32:08.542Z"
   },
   {
    "duration": 280,
    "start_time": "2023-03-14T12:32:12.606Z"
   },
   {
    "duration": 283,
    "start_time": "2023-03-14T12:32:23.265Z"
   },
   {
    "duration": 12,
    "start_time": "2023-03-14T12:36:09.168Z"
   },
   {
    "duration": 10,
    "start_time": "2023-03-14T12:36:13.443Z"
   },
   {
    "duration": 44,
    "start_time": "2023-03-14T12:38:01.907Z"
   },
   {
    "duration": 10,
    "start_time": "2023-03-14T12:38:06.132Z"
   },
   {
    "duration": 9,
    "start_time": "2023-03-14T12:38:10.207Z"
   },
   {
    "duration": 11,
    "start_time": "2023-03-14T12:38:13.943Z"
   },
   {
    "duration": 12,
    "start_time": "2023-03-14T12:38:17.234Z"
   },
   {
    "duration": 15,
    "start_time": "2023-03-14T12:39:33.366Z"
   },
   {
    "duration": 10,
    "start_time": "2023-03-14T12:39:37.846Z"
   },
   {
    "duration": 11,
    "start_time": "2023-03-14T12:39:42.458Z"
   },
   {
    "duration": 9,
    "start_time": "2023-03-14T12:41:41.467Z"
   },
   {
    "duration": 12,
    "start_time": "2023-03-14T12:41:46.663Z"
   },
   {
    "duration": 240,
    "start_time": "2023-03-14T12:43:11.114Z"
   },
   {
    "duration": 12,
    "start_time": "2023-03-14T12:57:23.332Z"
   },
   {
    "duration": 281,
    "start_time": "2023-03-14T12:57:31.729Z"
   },
   {
    "duration": 257,
    "start_time": "2023-03-14T12:57:36.162Z"
   },
   {
    "duration": 396,
    "start_time": "2023-03-14T12:58:45.447Z"
   },
   {
    "duration": 322,
    "start_time": "2023-03-14T12:58:54.397Z"
   },
   {
    "duration": 315,
    "start_time": "2023-03-14T14:28:08.515Z"
   },
   {
    "duration": 6,
    "start_time": "2023-03-14T14:29:49.648Z"
   },
   {
    "duration": 6,
    "start_time": "2023-03-14T14:30:01.201Z"
   },
   {
    "duration": 12,
    "start_time": "2023-03-14T14:30:10.422Z"
   },
   {
    "duration": 263,
    "start_time": "2023-03-14T14:31:13.409Z"
   },
   {
    "duration": 269,
    "start_time": "2023-03-14T14:31:27.933Z"
   },
   {
    "duration": 282,
    "start_time": "2023-03-14T14:31:34.635Z"
   },
   {
    "duration": 396,
    "start_time": "2023-03-14T14:31:39.935Z"
   },
   {
    "duration": 197,
    "start_time": "2023-03-14T14:33:38.061Z"
   },
   {
    "duration": 191,
    "start_time": "2023-03-14T14:33:39.650Z"
   },
   {
    "duration": 194,
    "start_time": "2023-03-14T14:34:36.318Z"
   },
   {
    "duration": 176,
    "start_time": "2023-03-14T14:34:43.049Z"
   },
   {
    "duration": 3,
    "start_time": "2023-03-14T14:36:00.636Z"
   },
   {
    "duration": 74,
    "start_time": "2023-03-14T14:36:02.618Z"
   },
   {
    "duration": 16,
    "start_time": "2023-03-14T14:36:03.115Z"
   },
   {
    "duration": 18,
    "start_time": "2023-03-14T14:36:03.624Z"
   },
   {
    "duration": 18,
    "start_time": "2023-03-14T14:36:04.045Z"
   },
   {
    "duration": 5,
    "start_time": "2023-03-14T14:36:05.213Z"
   },
   {
    "duration": 16,
    "start_time": "2023-03-14T14:36:05.512Z"
   },
   {
    "duration": 15,
    "start_time": "2023-03-14T14:36:05.634Z"
   },
   {
    "duration": 14,
    "start_time": "2023-03-14T14:36:05.982Z"
   },
   {
    "duration": 6,
    "start_time": "2023-03-14T14:36:06.141Z"
   },
   {
    "duration": 7,
    "start_time": "2023-03-14T14:36:06.282Z"
   },
   {
    "duration": 5,
    "start_time": "2023-03-14T14:36:06.670Z"
   },
   {
    "duration": 197,
    "start_time": "2023-03-14T14:36:07.213Z"
   },
   {
    "duration": 212,
    "start_time": "2023-03-14T14:36:30.759Z"
   },
   {
    "duration": 5,
    "start_time": "2023-03-14T14:41:03.530Z"
   },
   {
    "duration": 201,
    "start_time": "2023-03-14T14:41:04.117Z"
   },
   {
    "duration": 6,
    "start_time": "2023-03-14T14:41:12.730Z"
   },
   {
    "duration": 13,
    "start_time": "2023-03-14T14:41:19.970Z"
   },
   {
    "duration": 9,
    "start_time": "2023-03-14T14:41:39.568Z"
   },
   {
    "duration": 191,
    "start_time": "2023-03-14T14:41:42.039Z"
   },
   {
    "duration": 188,
    "start_time": "2023-03-14T14:43:32.371Z"
   },
   {
    "duration": 643,
    "start_time": "2023-03-14T14:43:38.066Z"
   },
   {
    "duration": 70,
    "start_time": "2023-03-14T14:43:38.711Z"
   },
   {
    "duration": 22,
    "start_time": "2023-03-14T14:43:38.783Z"
   },
   {
    "duration": 36,
    "start_time": "2023-03-14T14:43:38.807Z"
   },
   {
    "duration": 54,
    "start_time": "2023-03-14T14:43:38.845Z"
   },
   {
    "duration": 38,
    "start_time": "2023-03-14T14:43:38.901Z"
   },
   {
    "duration": 82,
    "start_time": "2023-03-14T14:43:38.941Z"
   },
   {
    "duration": 17,
    "start_time": "2023-03-14T14:43:39.025Z"
   },
   {
    "duration": 52,
    "start_time": "2023-03-14T14:43:39.044Z"
   },
   {
    "duration": 71,
    "start_time": "2023-03-14T14:43:39.099Z"
   },
   {
    "duration": 59,
    "start_time": "2023-03-14T14:43:39.172Z"
   },
   {
    "duration": 48,
    "start_time": "2023-03-14T14:43:39.233Z"
   },
   {
    "duration": 306,
    "start_time": "2023-03-14T14:43:39.283Z"
   },
   {
    "duration": 0,
    "start_time": "2023-03-14T14:43:39.591Z"
   },
   {
    "duration": 0,
    "start_time": "2023-03-14T14:43:39.592Z"
   },
   {
    "duration": 0,
    "start_time": "2023-03-14T14:43:39.593Z"
   },
   {
    "duration": 0,
    "start_time": "2023-03-14T14:43:39.594Z"
   },
   {
    "duration": 0,
    "start_time": "2023-03-14T14:43:39.595Z"
   },
   {
    "duration": 0,
    "start_time": "2023-03-14T14:43:39.596Z"
   },
   {
    "duration": 0,
    "start_time": "2023-03-14T14:43:39.597Z"
   },
   {
    "duration": 0,
    "start_time": "2023-03-14T14:43:39.598Z"
   },
   {
    "duration": 0,
    "start_time": "2023-03-14T14:43:39.599Z"
   },
   {
    "duration": 0,
    "start_time": "2023-03-14T14:43:39.600Z"
   },
   {
    "duration": 0,
    "start_time": "2023-03-14T14:43:39.601Z"
   },
   {
    "duration": 0,
    "start_time": "2023-03-14T14:43:39.601Z"
   },
   {
    "duration": 0,
    "start_time": "2023-03-14T14:43:39.602Z"
   },
   {
    "duration": 0,
    "start_time": "2023-03-14T14:43:39.603Z"
   },
   {
    "duration": 2,
    "start_time": "2023-03-14T14:43:43.616Z"
   },
   {
    "duration": 68,
    "start_time": "2023-03-14T14:43:43.734Z"
   },
   {
    "duration": 17,
    "start_time": "2023-03-14T14:43:43.878Z"
   },
   {
    "duration": 20,
    "start_time": "2023-03-14T14:43:44.034Z"
   },
   {
    "duration": 20,
    "start_time": "2023-03-14T14:43:44.177Z"
   },
   {
    "duration": 4,
    "start_time": "2023-03-14T14:43:44.613Z"
   },
   {
    "duration": 12,
    "start_time": "2023-03-14T14:43:44.885Z"
   },
   {
    "duration": 14,
    "start_time": "2023-03-14T14:43:45.036Z"
   },
   {
    "duration": 13,
    "start_time": "2023-03-14T14:43:45.158Z"
   },
   {
    "duration": 6,
    "start_time": "2023-03-14T14:43:45.313Z"
   },
   {
    "duration": 7,
    "start_time": "2023-03-14T14:43:45.451Z"
   },
   {
    "duration": 6,
    "start_time": "2023-03-14T14:43:45.620Z"
   },
   {
    "duration": 195,
    "start_time": "2023-03-14T14:43:45.884Z"
   },
   {
    "duration": 0,
    "start_time": "2023-03-14T14:43:46.081Z"
   },
   {
    "duration": 11,
    "start_time": "2023-03-14T14:43:59.317Z"
   },
   {
    "duration": 67,
    "start_time": "2023-03-14T14:45:09.113Z"
   },
   {
    "duration": 190,
    "start_time": "2023-03-14T14:45:20.834Z"
   },
   {
    "duration": 19,
    "start_time": "2023-03-14T14:45:28.513Z"
   },
   {
    "duration": 177,
    "start_time": "2023-03-14T14:45:33.217Z"
   },
   {
    "duration": 5,
    "start_time": "2023-03-14T14:45:41.130Z"
   },
   {
    "duration": 176,
    "start_time": "2023-03-14T14:47:24.340Z"
   },
   {
    "duration": 177,
    "start_time": "2023-03-14T14:48:11.281Z"
   },
   {
    "duration": 217,
    "start_time": "2023-03-14T14:48:17.805Z"
   },
   {
    "duration": 176,
    "start_time": "2023-03-14T14:49:11.484Z"
   },
   {
    "duration": 5,
    "start_time": "2023-03-14T14:50:00.452Z"
   },
   {
    "duration": 624,
    "start_time": "2023-03-14T14:50:10.261Z"
   },
   {
    "duration": 65,
    "start_time": "2023-03-14T14:50:10.887Z"
   },
   {
    "duration": 20,
    "start_time": "2023-03-14T14:50:10.954Z"
   },
   {
    "duration": 18,
    "start_time": "2023-03-14T14:50:10.975Z"
   },
   {
    "duration": 35,
    "start_time": "2023-03-14T14:50:10.996Z"
   },
   {
    "duration": 8,
    "start_time": "2023-03-14T14:50:11.033Z"
   },
   {
    "duration": 66,
    "start_time": "2023-03-14T14:50:11.043Z"
   },
   {
    "duration": 12,
    "start_time": "2023-03-14T14:50:11.110Z"
   },
   {
    "duration": 21,
    "start_time": "2023-03-14T14:50:11.123Z"
   },
   {
    "duration": 15,
    "start_time": "2023-03-14T14:50:11.145Z"
   },
   {
    "duration": 20,
    "start_time": "2023-03-14T14:50:11.161Z"
   },
   {
    "duration": 13,
    "start_time": "2023-03-14T14:50:11.182Z"
   },
   {
    "duration": 13,
    "start_time": "2023-03-14T14:50:11.196Z"
   },
   {
    "duration": 253,
    "start_time": "2023-03-14T14:50:11.211Z"
   },
   {
    "duration": 0,
    "start_time": "2023-03-14T14:50:11.465Z"
   },
   {
    "duration": 0,
    "start_time": "2023-03-14T14:50:11.467Z"
   },
   {
    "duration": 0,
    "start_time": "2023-03-14T14:50:11.468Z"
   },
   {
    "duration": 0,
    "start_time": "2023-03-14T14:50:11.469Z"
   },
   {
    "duration": 0,
    "start_time": "2023-03-14T14:50:11.470Z"
   },
   {
    "duration": 0,
    "start_time": "2023-03-14T14:50:11.472Z"
   },
   {
    "duration": 1,
    "start_time": "2023-03-14T14:50:11.472Z"
   },
   {
    "duration": 0,
    "start_time": "2023-03-14T14:50:11.474Z"
   },
   {
    "duration": 0,
    "start_time": "2023-03-14T14:50:11.476Z"
   },
   {
    "duration": 0,
    "start_time": "2023-03-14T14:50:11.477Z"
   },
   {
    "duration": 0,
    "start_time": "2023-03-14T14:50:11.479Z"
   },
   {
    "duration": 0,
    "start_time": "2023-03-14T14:50:11.480Z"
   },
   {
    "duration": 0,
    "start_time": "2023-03-14T14:50:11.481Z"
   },
   {
    "duration": 4,
    "start_time": "2023-03-14T14:50:14.655Z"
   },
   {
    "duration": 70,
    "start_time": "2023-03-14T14:50:14.836Z"
   },
   {
    "duration": 18,
    "start_time": "2023-03-14T14:50:15.011Z"
   },
   {
    "duration": 21,
    "start_time": "2023-03-14T14:50:15.251Z"
   },
   {
    "duration": 17,
    "start_time": "2023-03-14T14:50:15.439Z"
   },
   {
    "duration": 5,
    "start_time": "2023-03-14T14:50:15.976Z"
   },
   {
    "duration": 16,
    "start_time": "2023-03-14T14:50:16.313Z"
   },
   {
    "duration": 14,
    "start_time": "2023-03-14T14:50:16.467Z"
   },
   {
    "duration": 13,
    "start_time": "2023-03-14T14:50:16.628Z"
   },
   {
    "duration": 6,
    "start_time": "2023-03-14T14:50:17.052Z"
   },
   {
    "duration": 7,
    "start_time": "2023-03-14T14:50:17.231Z"
   },
   {
    "duration": 6,
    "start_time": "2023-03-14T14:50:17.410Z"
   },
   {
    "duration": 6,
    "start_time": "2023-03-14T14:50:18.628Z"
   },
   {
    "duration": 190,
    "start_time": "2023-03-14T14:50:53.732Z"
   },
   {
    "duration": 192,
    "start_time": "2023-03-14T14:53:47.651Z"
   },
   {
    "duration": 210,
    "start_time": "2023-03-14T14:53:53.510Z"
   },
   {
    "duration": 176,
    "start_time": "2023-03-14T14:54:13.829Z"
   },
   {
    "duration": 215,
    "start_time": "2023-03-14T14:54:18.391Z"
   },
   {
    "duration": 15,
    "start_time": "2023-03-14T14:54:57.275Z"
   },
   {
    "duration": 15,
    "start_time": "2023-03-14T14:55:34.369Z"
   },
   {
    "duration": 11,
    "start_time": "2023-03-14T14:55:43.585Z"
   },
   {
    "duration": 177,
    "start_time": "2023-03-14T14:56:06.580Z"
   },
   {
    "duration": 4,
    "start_time": "2023-03-14T14:56:14.644Z"
   },
   {
    "duration": 180,
    "start_time": "2023-03-14T14:56:16.408Z"
   },
   {
    "duration": 730,
    "start_time": "2023-03-14T14:56:26.911Z"
   },
   {
    "duration": 76,
    "start_time": "2023-03-14T14:56:27.644Z"
   },
   {
    "duration": 22,
    "start_time": "2023-03-14T14:56:27.721Z"
   },
   {
    "duration": 21,
    "start_time": "2023-03-14T14:56:27.744Z"
   },
   {
    "duration": 34,
    "start_time": "2023-03-14T14:56:27.768Z"
   },
   {
    "duration": 4,
    "start_time": "2023-03-14T14:56:27.804Z"
   },
   {
    "duration": 77,
    "start_time": "2023-03-14T14:56:27.811Z"
   },
   {
    "duration": 13,
    "start_time": "2023-03-14T14:56:27.890Z"
   },
   {
    "duration": 14,
    "start_time": "2023-03-14T14:56:27.905Z"
   },
   {
    "duration": 23,
    "start_time": "2023-03-14T14:56:27.921Z"
   },
   {
    "duration": 18,
    "start_time": "2023-03-14T14:56:27.945Z"
   },
   {
    "duration": 21,
    "start_time": "2023-03-14T14:56:27.965Z"
   },
   {
    "duration": 17,
    "start_time": "2023-03-14T14:56:27.988Z"
   },
   {
    "duration": 5,
    "start_time": "2023-03-14T14:56:28.008Z"
   },
   {
    "duration": 13,
    "start_time": "2023-03-14T14:56:28.014Z"
   },
   {
    "duration": 17,
    "start_time": "2023-03-14T14:56:28.029Z"
   },
   {
    "duration": 13,
    "start_time": "2023-03-14T14:56:28.047Z"
   },
   {
    "duration": 14,
    "start_time": "2023-03-14T14:56:28.061Z"
   },
   {
    "duration": 10,
    "start_time": "2023-03-14T14:56:28.077Z"
   },
   {
    "duration": 199,
    "start_time": "2023-03-14T14:56:28.089Z"
   },
   {
    "duration": 124,
    "start_time": "2023-03-14T14:56:28.290Z"
   },
   {
    "duration": 6,
    "start_time": "2023-03-14T14:56:28.416Z"
   },
   {
    "duration": 14,
    "start_time": "2023-03-14T14:56:28.440Z"
   },
   {
    "duration": 273,
    "start_time": "2023-03-14T14:56:28.455Z"
   },
   {
    "duration": 188,
    "start_time": "2023-03-14T14:56:28.729Z"
   },
   {
    "duration": 305,
    "start_time": "2023-03-14T14:56:28.918Z"
   },
   {
    "duration": 182,
    "start_time": "2023-03-14T14:56:29.226Z"
   },
   {
    "duration": 3,
    "start_time": "2023-03-14T14:56:31.015Z"
   },
   {
    "duration": 65,
    "start_time": "2023-03-14T14:56:31.148Z"
   },
   {
    "duration": 16,
    "start_time": "2023-03-14T14:56:31.309Z"
   },
   {
    "duration": 20,
    "start_time": "2023-03-14T14:56:31.424Z"
   },
   {
    "duration": 17,
    "start_time": "2023-03-14T14:56:31.554Z"
   },
   {
    "duration": 4,
    "start_time": "2023-03-14T14:56:31.970Z"
   },
   {
    "duration": 14,
    "start_time": "2023-03-14T14:56:32.261Z"
   },
   {
    "duration": 15,
    "start_time": "2023-03-14T14:56:32.419Z"
   },
   {
    "duration": 13,
    "start_time": "2023-03-14T14:56:32.563Z"
   },
   {
    "duration": 6,
    "start_time": "2023-03-14T14:56:32.713Z"
   },
   {
    "duration": 7,
    "start_time": "2023-03-14T14:56:32.855Z"
   },
   {
    "duration": 5,
    "start_time": "2023-03-14T14:56:33.015Z"
   },
   {
    "duration": 10,
    "start_time": "2023-03-14T14:56:33.509Z"
   },
   {
    "duration": 6,
    "start_time": "2023-03-14T14:56:34.081Z"
   },
   {
    "duration": 246,
    "start_time": "2023-03-14T14:57:03.222Z"
   },
   {
    "duration": 0,
    "start_time": "2023-03-14T14:57:03.470Z"
   },
   {
    "duration": 187,
    "start_time": "2023-03-14T14:57:18.045Z"
   },
   {
    "duration": 191,
    "start_time": "2023-03-14T14:58:04.136Z"
   },
   {
    "duration": 181,
    "start_time": "2023-03-14T14:58:15.048Z"
   },
   {
    "duration": 601,
    "start_time": "2023-03-14T14:58:44.283Z"
   },
   {
    "duration": 65,
    "start_time": "2023-03-14T14:58:44.885Z"
   },
   {
    "duration": 19,
    "start_time": "2023-03-14T14:58:44.952Z"
   },
   {
    "duration": 18,
    "start_time": "2023-03-14T14:58:44.973Z"
   },
   {
    "duration": 17,
    "start_time": "2023-03-14T14:58:44.993Z"
   },
   {
    "duration": 20,
    "start_time": "2023-03-14T14:58:45.012Z"
   },
   {
    "duration": 58,
    "start_time": "2023-03-14T14:58:45.034Z"
   },
   {
    "duration": 12,
    "start_time": "2023-03-14T14:58:45.094Z"
   },
   {
    "duration": 33,
    "start_time": "2023-03-14T14:58:45.108Z"
   },
   {
    "duration": 13,
    "start_time": "2023-03-14T14:58:45.143Z"
   },
   {
    "duration": 10,
    "start_time": "2023-03-14T14:58:45.158Z"
   },
   {
    "duration": 14,
    "start_time": "2023-03-14T14:58:45.170Z"
   },
   {
    "duration": 305,
    "start_time": "2023-03-14T14:58:45.186Z"
   },
   {
    "duration": 0,
    "start_time": "2023-03-14T14:58:45.493Z"
   },
   {
    "duration": 0,
    "start_time": "2023-03-14T14:58:45.494Z"
   },
   {
    "duration": 0,
    "start_time": "2023-03-14T14:58:45.495Z"
   },
   {
    "duration": 0,
    "start_time": "2023-03-14T14:58:45.496Z"
   },
   {
    "duration": 0,
    "start_time": "2023-03-14T14:58:45.497Z"
   },
   {
    "duration": 0,
    "start_time": "2023-03-14T14:58:45.499Z"
   },
   {
    "duration": 0,
    "start_time": "2023-03-14T14:58:45.499Z"
   },
   {
    "duration": 0,
    "start_time": "2023-03-14T14:58:45.501Z"
   },
   {
    "duration": 0,
    "start_time": "2023-03-14T14:58:45.502Z"
   },
   {
    "duration": 0,
    "start_time": "2023-03-14T14:58:45.503Z"
   },
   {
    "duration": 0,
    "start_time": "2023-03-14T14:58:45.504Z"
   },
   {
    "duration": 0,
    "start_time": "2023-03-14T14:58:45.505Z"
   },
   {
    "duration": 0,
    "start_time": "2023-03-14T14:58:45.506Z"
   },
   {
    "duration": 0,
    "start_time": "2023-03-14T14:58:45.507Z"
   },
   {
    "duration": 2,
    "start_time": "2023-03-14T14:58:48.775Z"
   },
   {
    "duration": 65,
    "start_time": "2023-03-14T14:58:51.311Z"
   },
   {
    "duration": 22,
    "start_time": "2023-03-14T14:58:51.774Z"
   },
   {
    "duration": 20,
    "start_time": "2023-03-14T14:58:54.424Z"
   },
   {
    "duration": 19,
    "start_time": "2023-03-14T14:58:56.952Z"
   },
   {
    "duration": 4,
    "start_time": "2023-03-14T14:58:59.116Z"
   },
   {
    "duration": 13,
    "start_time": "2023-03-14T14:58:59.813Z"
   },
   {
    "duration": 12,
    "start_time": "2023-03-14T14:59:00.243Z"
   },
   {
    "duration": 13,
    "start_time": "2023-03-14T14:59:00.714Z"
   },
   {
    "duration": 5,
    "start_time": "2023-03-14T14:59:01.734Z"
   },
   {
    "duration": 7,
    "start_time": "2023-03-14T14:59:02.148Z"
   },
   {
    "duration": 6,
    "start_time": "2023-03-14T14:59:02.513Z"
   },
   {
    "duration": 184,
    "start_time": "2023-03-14T14:59:06.013Z"
   },
   {
    "duration": 86,
    "start_time": "2023-03-14T14:59:24.809Z"
   },
   {
    "duration": 52,
    "start_time": "2023-03-14T14:59:30.246Z"
   },
   {
    "duration": 12,
    "start_time": "2023-03-14T14:59:33.216Z"
   },
   {
    "duration": 4,
    "start_time": "2023-03-14T14:59:43.074Z"
   },
   {
    "duration": 191,
    "start_time": "2023-03-14T14:59:45.215Z"
   },
   {
    "duration": 695,
    "start_time": "2023-03-14T14:59:58.212Z"
   },
   {
    "duration": 68,
    "start_time": "2023-03-14T14:59:58.909Z"
   },
   {
    "duration": 21,
    "start_time": "2023-03-14T14:59:58.979Z"
   },
   {
    "duration": 41,
    "start_time": "2023-03-14T14:59:59.001Z"
   },
   {
    "duration": 22,
    "start_time": "2023-03-14T14:59:59.045Z"
   },
   {
    "duration": 27,
    "start_time": "2023-03-14T14:59:59.069Z"
   },
   {
    "duration": 108,
    "start_time": "2023-03-14T14:59:59.098Z"
   },
   {
    "duration": 15,
    "start_time": "2023-03-14T14:59:59.208Z"
   },
   {
    "duration": 42,
    "start_time": "2023-03-14T14:59:59.225Z"
   },
   {
    "duration": 42,
    "start_time": "2023-03-14T14:59:59.269Z"
   },
   {
    "duration": 40,
    "start_time": "2023-03-14T14:59:59.313Z"
   },
   {
    "duration": 15,
    "start_time": "2023-03-14T14:59:59.354Z"
   },
   {
    "duration": 36,
    "start_time": "2023-03-14T14:59:59.371Z"
   },
   {
    "duration": 57,
    "start_time": "2023-03-14T14:59:59.410Z"
   },
   {
    "duration": 50,
    "start_time": "2023-03-14T14:59:59.469Z"
   },
   {
    "duration": 39,
    "start_time": "2023-03-14T14:59:59.521Z"
   },
   {
    "duration": 63,
    "start_time": "2023-03-14T14:59:59.562Z"
   },
   {
    "duration": 43,
    "start_time": "2023-03-14T14:59:59.627Z"
   },
   {
    "duration": 59,
    "start_time": "2023-03-14T14:59:59.671Z"
   },
   {
    "duration": 214,
    "start_time": "2023-03-14T14:59:59.731Z"
   },
   {
    "duration": 132,
    "start_time": "2023-03-14T14:59:59.947Z"
   },
   {
    "duration": 7,
    "start_time": "2023-03-14T15:00:00.081Z"
   },
   {
    "duration": 90,
    "start_time": "2023-03-14T15:00:00.090Z"
   },
   {
    "duration": 343,
    "start_time": "2023-03-14T15:00:00.182Z"
   },
   {
    "duration": 186,
    "start_time": "2023-03-14T15:00:00.527Z"
   },
   {
    "duration": 334,
    "start_time": "2023-03-14T15:00:00.715Z"
   },
   {
    "duration": 184,
    "start_time": "2023-03-14T15:00:01.051Z"
   },
   {
    "duration": 3,
    "start_time": "2023-03-14T15:00:02.522Z"
   },
   {
    "duration": 98,
    "start_time": "2023-03-14T15:00:02.681Z"
   },
   {
    "duration": 16,
    "start_time": "2023-03-14T15:00:02.861Z"
   },
   {
    "duration": 18,
    "start_time": "2023-03-14T15:00:03.040Z"
   },
   {
    "duration": 17,
    "start_time": "2023-03-14T15:00:03.209Z"
   },
   {
    "duration": 4,
    "start_time": "2023-03-14T15:00:03.713Z"
   },
   {
    "duration": 13,
    "start_time": "2023-03-14T15:00:04.030Z"
   },
   {
    "duration": 16,
    "start_time": "2023-03-14T15:00:04.203Z"
   },
   {
    "duration": 13,
    "start_time": "2023-03-14T15:00:04.370Z"
   },
   {
    "duration": 6,
    "start_time": "2023-03-14T15:00:04.549Z"
   },
   {
    "duration": 7,
    "start_time": "2023-03-14T15:00:04.727Z"
   },
   {
    "duration": 6,
    "start_time": "2023-03-14T15:00:04.917Z"
   },
   {
    "duration": 12,
    "start_time": "2023-03-14T15:00:05.341Z"
   },
   {
    "duration": 4,
    "start_time": "2023-03-14T15:00:05.747Z"
   },
   {
    "duration": 157,
    "start_time": "2023-03-14T15:00:51.878Z"
   },
   {
    "duration": 4,
    "start_time": "2023-03-14T15:01:03.903Z"
   },
   {
    "duration": 265,
    "start_time": "2023-03-14T15:01:16.915Z"
   },
   {
    "duration": 169,
    "start_time": "2023-03-14T15:01:31.225Z"
   },
   {
    "duration": 675,
    "start_time": "2023-03-14T15:01:41.719Z"
   },
   {
    "duration": 67,
    "start_time": "2023-03-14T15:01:42.396Z"
   },
   {
    "duration": 21,
    "start_time": "2023-03-14T15:01:42.464Z"
   },
   {
    "duration": 22,
    "start_time": "2023-03-14T15:01:42.486Z"
   },
   {
    "duration": 23,
    "start_time": "2023-03-14T15:01:42.509Z"
   },
   {
    "duration": 11,
    "start_time": "2023-03-14T15:01:42.533Z"
   },
   {
    "duration": 51,
    "start_time": "2023-03-14T15:01:42.545Z"
   },
   {
    "duration": 13,
    "start_time": "2023-03-14T15:01:42.597Z"
   },
   {
    "duration": 34,
    "start_time": "2023-03-14T15:01:42.612Z"
   },
   {
    "duration": 6,
    "start_time": "2023-03-14T15:01:42.649Z"
   },
   {
    "duration": 9,
    "start_time": "2023-03-14T15:01:42.656Z"
   },
   {
    "duration": 5,
    "start_time": "2023-03-14T15:01:42.667Z"
   },
   {
    "duration": 19,
    "start_time": "2023-03-14T15:01:42.674Z"
   },
   {
    "duration": 14,
    "start_time": "2023-03-14T15:01:42.696Z"
   },
   {
    "duration": 31,
    "start_time": "2023-03-14T15:01:42.711Z"
   },
   {
    "duration": 12,
    "start_time": "2023-03-14T15:01:42.744Z"
   },
   {
    "duration": 11,
    "start_time": "2023-03-14T15:01:42.758Z"
   },
   {
    "duration": 13,
    "start_time": "2023-03-14T15:01:42.771Z"
   },
   {
    "duration": 7,
    "start_time": "2023-03-14T15:01:42.786Z"
   },
   {
    "duration": 223,
    "start_time": "2023-03-14T15:01:42.794Z"
   },
   {
    "duration": 115,
    "start_time": "2023-03-14T15:01:43.019Z"
   },
   {
    "duration": 6,
    "start_time": "2023-03-14T15:01:43.140Z"
   },
   {
    "duration": 13,
    "start_time": "2023-03-14T15:01:43.148Z"
   },
   {
    "duration": 267,
    "start_time": "2023-03-14T15:01:43.162Z"
   },
   {
    "duration": 181,
    "start_time": "2023-03-14T15:01:43.431Z"
   },
   {
    "duration": 340,
    "start_time": "2023-03-14T15:01:43.614Z"
   },
   {
    "duration": 175,
    "start_time": "2023-03-14T15:01:43.957Z"
   },
   {
    "duration": 4,
    "start_time": "2023-03-14T15:01:45.811Z"
   },
   {
    "duration": 66,
    "start_time": "2023-03-14T15:01:45.947Z"
   },
   {
    "duration": 19,
    "start_time": "2023-03-14T15:01:46.080Z"
   },
   {
    "duration": 20,
    "start_time": "2023-03-14T15:01:46.250Z"
   },
   {
    "duration": 18,
    "start_time": "2023-03-14T15:01:46.421Z"
   },
   {
    "duration": 5,
    "start_time": "2023-03-14T15:01:46.904Z"
   },
   {
    "duration": 14,
    "start_time": "2023-03-14T15:01:47.238Z"
   },
   {
    "duration": 16,
    "start_time": "2023-03-14T15:01:47.412Z"
   },
   {
    "duration": 15,
    "start_time": "2023-03-14T15:01:47.580Z"
   },
   {
    "duration": 6,
    "start_time": "2023-03-14T15:01:47.749Z"
   },
   {
    "duration": 7,
    "start_time": "2023-03-14T15:01:47.941Z"
   },
   {
    "duration": 5,
    "start_time": "2023-03-14T15:01:48.118Z"
   },
   {
    "duration": 11,
    "start_time": "2023-03-14T15:01:48.441Z"
   },
   {
    "duration": 4,
    "start_time": "2023-03-14T15:01:48.612Z"
   },
   {
    "duration": 12,
    "start_time": "2023-03-14T15:01:49.331Z"
   },
   {
    "duration": 12,
    "start_time": "2023-03-14T15:01:49.811Z"
   },
   {
    "duration": 12,
    "start_time": "2023-03-14T15:01:50.409Z"
   },
   {
    "duration": 13,
    "start_time": "2023-03-14T15:01:50.545Z"
   },
   {
    "duration": 5,
    "start_time": "2023-03-14T15:01:50.663Z"
   },
   {
    "duration": 181,
    "start_time": "2023-03-14T15:01:50.813Z"
   },
   {
    "duration": 144,
    "start_time": "2023-03-14T15:01:50.997Z"
   },
   {
    "duration": 7,
    "start_time": "2023-03-14T15:01:51.143Z"
   },
   {
    "duration": 14,
    "start_time": "2023-03-14T15:01:51.248Z"
   },
   {
    "duration": 181,
    "start_time": "2023-03-14T15:01:51.541Z"
   },
   {
    "duration": 175,
    "start_time": "2023-03-14T15:01:54.042Z"
   },
   {
    "duration": 287,
    "start_time": "2023-03-14T15:01:54.909Z"
   },
   {
    "duration": 160,
    "start_time": "2023-03-14T15:01:55.361Z"
   },
   {
    "duration": 170,
    "start_time": "2023-03-14T15:02:06.764Z"
   },
   {
    "duration": 199,
    "start_time": "2023-03-14T15:53:08.218Z"
   },
   {
    "duration": 181,
    "start_time": "2023-03-14T15:53:13.943Z"
   },
   {
    "duration": 203,
    "start_time": "2023-03-14T15:53:19.838Z"
   },
   {
    "duration": 289,
    "start_time": "2023-03-14T15:53:23.594Z"
   },
   {
    "duration": 197,
    "start_time": "2023-03-14T15:53:26.675Z"
   },
   {
    "duration": 780,
    "start_time": "2023-03-15T07:21:50.622Z"
   },
   {
    "duration": 207,
    "start_time": "2023-03-15T07:21:51.403Z"
   },
   {
    "duration": 18,
    "start_time": "2023-03-15T07:21:51.612Z"
   },
   {
    "duration": 57,
    "start_time": "2023-03-15T07:21:51.632Z"
   },
   {
    "duration": 30,
    "start_time": "2023-03-15T07:21:51.691Z"
   },
   {
    "duration": 4,
    "start_time": "2023-03-15T07:21:51.950Z"
   },
   {
    "duration": 45,
    "start_time": "2023-03-15T07:21:52.319Z"
   },
   {
    "duration": 11,
    "start_time": "2023-03-15T07:21:52.514Z"
   },
   {
    "duration": 11,
    "start_time": "2023-03-15T07:21:52.717Z"
   },
   {
    "duration": 5,
    "start_time": "2023-03-15T07:21:52.909Z"
   },
   {
    "duration": 5,
    "start_time": "2023-03-15T07:21:53.107Z"
   },
   {
    "duration": 7,
    "start_time": "2023-03-15T07:21:53.298Z"
   },
   {
    "duration": 10,
    "start_time": "2023-03-15T07:21:53.658Z"
   },
   {
    "duration": 4,
    "start_time": "2023-03-15T07:21:53.866Z"
   },
   {
    "duration": 10,
    "start_time": "2023-03-15T07:21:54.667Z"
   },
   {
    "duration": 11,
    "start_time": "2023-03-15T07:21:55.302Z"
   },
   {
    "duration": 13,
    "start_time": "2023-03-15T07:21:56.213Z"
   },
   {
    "duration": 11,
    "start_time": "2023-03-15T07:21:56.413Z"
   },
   {
    "duration": 5,
    "start_time": "2023-03-15T07:21:57.346Z"
   },
   {
    "duration": 156,
    "start_time": "2023-03-15T07:21:57.611Z"
   },
   {
    "duration": 106,
    "start_time": "2023-03-15T07:21:57.900Z"
   },
   {
    "duration": 7,
    "start_time": "2023-03-15T07:21:58.128Z"
   },
   {
    "duration": 12,
    "start_time": "2023-03-15T07:21:58.365Z"
   },
   {
    "duration": 249,
    "start_time": "2023-03-15T07:21:58.808Z"
   },
   {
    "duration": 146,
    "start_time": "2023-03-15T07:21:59.514Z"
   },
   {
    "duration": 351,
    "start_time": "2023-03-15T07:22:00.309Z"
   },
   {
    "duration": 152,
    "start_time": "2023-03-15T07:22:01.516Z"
   },
   {
    "duration": 394,
    "start_time": "2023-03-15T07:27:58.369Z"
   },
   {
    "duration": 271,
    "start_time": "2023-03-15T07:28:24.750Z"
   },
   {
    "duration": 314,
    "start_time": "2023-03-15T07:28:37.115Z"
   },
   {
    "duration": 297,
    "start_time": "2023-03-15T07:28:46.508Z"
   },
   {
    "duration": 337,
    "start_time": "2023-03-15T07:28:54.864Z"
   },
   {
    "duration": 181,
    "start_time": "2023-03-15T07:29:04.145Z"
   },
   {
    "duration": 353,
    "start_time": "2023-03-15T07:29:33.459Z"
   },
   {
    "duration": 257,
    "start_time": "2023-03-15T07:30:29.352Z"
   },
   {
    "duration": 300,
    "start_time": "2023-03-15T07:30:35.108Z"
   },
   {
    "duration": 323,
    "start_time": "2023-03-15T07:30:40.339Z"
   },
   {
    "duration": 298,
    "start_time": "2023-03-15T07:31:22.898Z"
   },
   {
    "duration": 299,
    "start_time": "2023-03-15T07:31:28.006Z"
   },
   {
    "duration": 278,
    "start_time": "2023-03-15T07:57:32.541Z"
   },
   {
    "duration": 337,
    "start_time": "2023-03-15T07:57:39.163Z"
   },
   {
    "duration": 315,
    "start_time": "2023-03-15T07:57:47.109Z"
   },
   {
    "duration": 260,
    "start_time": "2023-03-15T07:57:58.013Z"
   },
   {
    "duration": 160,
    "start_time": "2023-03-15T07:58:18.608Z"
   },
   {
    "duration": 167,
    "start_time": "2023-03-15T07:58:20.246Z"
   },
   {
    "duration": 225,
    "start_time": "2023-03-15T07:58:20.936Z"
   },
   {
    "duration": 158,
    "start_time": "2023-03-15T07:58:21.510Z"
   },
   {
    "duration": 355,
    "start_time": "2023-03-15T07:58:24.113Z"
   },
   {
    "duration": 17,
    "start_time": "2023-03-15T08:03:34.910Z"
   },
   {
    "duration": 12,
    "start_time": "2023-03-15T08:04:05.207Z"
   },
   {
    "duration": 6,
    "start_time": "2023-03-15T08:04:58.046Z"
   },
   {
    "duration": 11,
    "start_time": "2023-03-15T08:05:01.514Z"
   },
   {
    "duration": 9,
    "start_time": "2023-03-15T08:05:33.201Z"
   },
   {
    "duration": 7,
    "start_time": "2023-03-15T08:05:34.911Z"
   },
   {
    "duration": 8,
    "start_time": "2023-03-15T08:05:36.809Z"
   },
   {
    "duration": 101,
    "start_time": "2023-03-15T08:06:25.155Z"
   },
   {
    "duration": 107,
    "start_time": "2023-03-15T08:06:32.862Z"
   },
   {
    "duration": 130,
    "start_time": "2023-03-15T08:08:35.143Z"
   },
   {
    "duration": 103,
    "start_time": "2023-03-15T08:08:48.149Z"
   },
   {
    "duration": 110,
    "start_time": "2023-03-15T08:08:57.118Z"
   },
   {
    "duration": 99,
    "start_time": "2023-03-15T08:09:08.634Z"
   },
   {
    "duration": 4,
    "start_time": "2023-03-15T08:11:30.731Z"
   },
   {
    "duration": 4,
    "start_time": "2023-03-15T08:11:58.762Z"
   },
   {
    "duration": 6,
    "start_time": "2023-03-15T08:14:14.107Z"
   },
   {
    "duration": 12,
    "start_time": "2023-03-15T08:41:29.925Z"
   },
   {
    "duration": 14,
    "start_time": "2023-03-15T08:41:36.247Z"
   },
   {
    "duration": 110,
    "start_time": "2023-03-15T08:41:43.610Z"
   },
   {
    "duration": 5,
    "start_time": "2023-03-15T08:44:54.357Z"
   },
   {
    "duration": 9,
    "start_time": "2023-03-15T09:43:37.826Z"
   },
   {
    "duration": 458,
    "start_time": "2023-03-15T09:44:00.144Z"
   },
   {
    "duration": 64,
    "start_time": "2023-03-15T09:44:00.604Z"
   },
   {
    "duration": 15,
    "start_time": "2023-03-15T09:44:00.679Z"
   },
   {
    "duration": 28,
    "start_time": "2023-03-15T09:44:00.863Z"
   },
   {
    "duration": 18,
    "start_time": "2023-03-15T09:44:00.991Z"
   },
   {
    "duration": 4,
    "start_time": "2023-03-15T09:44:01.490Z"
   },
   {
    "duration": 12,
    "start_time": "2023-03-15T09:44:01.791Z"
   },
   {
    "duration": 11,
    "start_time": "2023-03-15T09:44:01.936Z"
   },
   {
    "duration": 11,
    "start_time": "2023-03-15T09:44:02.122Z"
   },
   {
    "duration": 5,
    "start_time": "2023-03-15T09:44:02.291Z"
   },
   {
    "duration": 5,
    "start_time": "2023-03-15T09:44:02.438Z"
   },
   {
    "duration": 5,
    "start_time": "2023-03-15T09:44:02.617Z"
   },
   {
    "duration": 10,
    "start_time": "2023-03-15T09:44:02.961Z"
   },
   {
    "duration": 4,
    "start_time": "2023-03-15T09:44:03.125Z"
   },
   {
    "duration": 10,
    "start_time": "2023-03-15T09:44:03.826Z"
   },
   {
    "duration": 12,
    "start_time": "2023-03-15T09:44:04.322Z"
   },
   {
    "duration": 11,
    "start_time": "2023-03-15T09:44:05.013Z"
   },
   {
    "duration": 12,
    "start_time": "2023-03-15T09:44:05.191Z"
   },
   {
    "duration": 6,
    "start_time": "2023-03-15T09:44:05.340Z"
   },
   {
    "duration": 182,
    "start_time": "2023-03-15T09:44:05.526Z"
   },
   {
    "duration": 124,
    "start_time": "2023-03-15T09:44:05.710Z"
   },
   {
    "duration": 6,
    "start_time": "2023-03-15T09:44:05.841Z"
   },
   {
    "duration": 16,
    "start_time": "2023-03-15T09:44:06.041Z"
   },
   {
    "duration": 182,
    "start_time": "2023-03-15T09:44:06.375Z"
   },
   {
    "duration": 145,
    "start_time": "2023-03-15T09:44:06.913Z"
   },
   {
    "duration": 244,
    "start_time": "2023-03-15T09:44:07.413Z"
   },
   {
    "duration": 147,
    "start_time": "2023-03-15T09:44:07.858Z"
   },
   {
    "duration": 252,
    "start_time": "2023-03-15T09:44:08.422Z"
   },
   {
    "duration": 7,
    "start_time": "2023-03-15T09:44:08.892Z"
   },
   {
    "duration": 9,
    "start_time": "2023-03-15T09:44:09.079Z"
   },
   {
    "duration": 87,
    "start_time": "2023-03-15T09:44:09.240Z"
   },
   {
    "duration": 94,
    "start_time": "2023-03-15T09:44:09.579Z"
   },
   {
    "duration": 4,
    "start_time": "2023-03-15T09:44:10.125Z"
   },
   {
    "duration": 105,
    "start_time": "2023-03-15T09:44:10.691Z"
   },
   {
    "duration": 4,
    "start_time": "2023-03-15T09:44:11.238Z"
   },
   {
    "duration": 44,
    "start_time": "2023-03-15T09:44:11.755Z"
   },
   {
    "duration": 11,
    "start_time": "2023-03-15T09:44:20.961Z"
   },
   {
    "duration": 12,
    "start_time": "2023-03-15T09:44:36.030Z"
   },
   {
    "duration": 9,
    "start_time": "2023-03-15T09:45:35.584Z"
   },
   {
    "duration": 86,
    "start_time": "2023-03-15T09:46:23.817Z"
   },
   {
    "duration": 15,
    "start_time": "2023-03-15T09:46:48.737Z"
   },
   {
    "duration": 130,
    "start_time": "2023-03-15T09:47:07.130Z"
   },
   {
    "duration": 125,
    "start_time": "2023-03-15T09:47:26.143Z"
   },
   {
    "duration": 1320,
    "start_time": "2023-03-15T09:47:44.497Z"
   },
   {
    "duration": 10,
    "start_time": "2023-03-15T10:01:14.083Z"
   },
   {
    "duration": 13,
    "start_time": "2023-03-15T10:01:56.827Z"
   },
   {
    "duration": 17,
    "start_time": "2023-03-15T10:33:59.316Z"
   },
   {
    "duration": 19,
    "start_time": "2023-03-15T10:34:27.317Z"
   },
   {
    "duration": 92,
    "start_time": "2023-03-15T10:35:21.711Z"
   },
   {
    "duration": 97,
    "start_time": "2023-03-15T10:35:45.348Z"
   },
   {
    "duration": 91,
    "start_time": "2023-03-15T10:36:37.950Z"
   },
   {
    "duration": 100,
    "start_time": "2023-03-15T10:36:49.182Z"
   },
   {
    "duration": 119,
    "start_time": "2023-03-15T10:38:06.200Z"
   },
   {
    "duration": 350,
    "start_time": "2023-03-15T10:38:42.938Z"
   },
   {
    "duration": 441,
    "start_time": "2023-03-15T10:39:21.659Z"
   },
   {
    "duration": 412,
    "start_time": "2023-03-15T10:40:09.132Z"
   },
   {
    "duration": 496,
    "start_time": "2023-03-15T11:00:32.575Z"
   },
   {
    "duration": 8,
    "start_time": "2023-03-15T11:02:20.180Z"
   },
   {
    "duration": 1155,
    "start_time": "2023-03-15T11:05:20.705Z"
   },
   {
    "duration": 13,
    "start_time": "2023-03-15T11:05:35.913Z"
   },
   {
    "duration": 8,
    "start_time": "2023-03-15T11:05:55.021Z"
   },
   {
    "duration": 8,
    "start_time": "2023-03-15T11:10:23.523Z"
   },
   {
    "duration": 8,
    "start_time": "2023-03-15T11:10:41.252Z"
   },
   {
    "duration": 8,
    "start_time": "2023-03-15T11:10:45.524Z"
   },
   {
    "duration": 1457,
    "start_time": "2023-03-15T11:15:15.075Z"
   },
   {
    "duration": 38,
    "start_time": "2023-03-15T11:15:26.204Z"
   },
   {
    "duration": 10,
    "start_time": "2023-03-15T11:18:03.048Z"
   },
   {
    "duration": 11,
    "start_time": "2023-03-15T11:18:38.049Z"
   },
   {
    "duration": 11,
    "start_time": "2023-03-15T11:18:46.909Z"
   },
   {
    "duration": 1298,
    "start_time": "2023-03-15T13:40:00.638Z"
   },
   {
    "duration": 245,
    "start_time": "2023-03-15T13:40:01.940Z"
   },
   {
    "duration": 22,
    "start_time": "2023-03-15T13:40:02.186Z"
   },
   {
    "duration": 43,
    "start_time": "2023-03-15T13:40:02.210Z"
   },
   {
    "duration": 73,
    "start_time": "2023-03-15T13:40:02.255Z"
   },
   {
    "duration": 42,
    "start_time": "2023-03-15T13:40:02.329Z"
   },
   {
    "duration": 88,
    "start_time": "2023-03-15T13:40:02.373Z"
   },
   {
    "duration": 13,
    "start_time": "2023-03-15T13:40:02.462Z"
   },
   {
    "duration": 47,
    "start_time": "2023-03-15T13:40:02.477Z"
   },
   {
    "duration": 39,
    "start_time": "2023-03-15T13:40:02.527Z"
   },
   {
    "duration": 30,
    "start_time": "2023-03-15T13:40:02.568Z"
   },
   {
    "duration": 107,
    "start_time": "2023-03-15T13:40:02.600Z"
   },
   {
    "duration": 222,
    "start_time": "2023-03-15T13:40:02.709Z"
   },
   {
    "duration": 97,
    "start_time": "2023-03-15T13:40:02.932Z"
   },
   {
    "duration": 45,
    "start_time": "2023-03-15T13:40:03.030Z"
   },
   {
    "duration": 34,
    "start_time": "2023-03-15T13:40:03.077Z"
   },
   {
    "duration": 33,
    "start_time": "2023-03-15T13:40:03.113Z"
   },
   {
    "duration": 28,
    "start_time": "2023-03-15T13:40:03.148Z"
   },
   {
    "duration": 15,
    "start_time": "2023-03-15T13:40:03.178Z"
   },
   {
    "duration": 192,
    "start_time": "2023-03-15T13:40:03.194Z"
   },
   {
    "duration": 125,
    "start_time": "2023-03-15T13:40:03.388Z"
   },
   {
    "duration": 13,
    "start_time": "2023-03-15T13:40:03.514Z"
   },
   {
    "duration": 19,
    "start_time": "2023-03-15T13:40:03.529Z"
   },
   {
    "duration": 293,
    "start_time": "2023-03-15T13:40:03.550Z"
   },
   {
    "duration": 203,
    "start_time": "2023-03-15T13:40:03.845Z"
   },
   {
    "duration": 356,
    "start_time": "2023-03-15T13:40:04.050Z"
   },
   {
    "duration": 205,
    "start_time": "2023-03-15T13:40:04.407Z"
   },
   {
    "duration": 364,
    "start_time": "2023-03-15T13:40:04.615Z"
   },
   {
    "duration": 7,
    "start_time": "2023-03-15T13:40:04.980Z"
   },
   {
    "duration": 31,
    "start_time": "2023-03-15T13:40:04.988Z"
   },
   {
    "duration": 125,
    "start_time": "2023-03-15T13:40:05.021Z"
   },
   {
    "duration": 130,
    "start_time": "2023-03-15T13:40:05.147Z"
   },
   {
    "duration": 5,
    "start_time": "2023-03-15T13:40:05.279Z"
   },
   {
    "duration": 148,
    "start_time": "2023-03-15T13:40:05.285Z"
   },
   {
    "duration": 8,
    "start_time": "2023-03-15T13:40:05.435Z"
   },
   {
    "duration": 306,
    "start_time": "2023-03-15T13:40:05.445Z"
   },
   {
    "duration": 321,
    "start_time": "2023-03-15T13:40:05.752Z"
   },
   {
    "duration": 11,
    "start_time": "2023-03-15T13:40:06.075Z"
   },
   {
    "duration": 13,
    "start_time": "2023-03-15T13:40:06.087Z"
   },
   {
    "duration": 43,
    "start_time": "2023-03-15T13:40:06.102Z"
   },
   {
    "duration": 14,
    "start_time": "2023-03-15T13:40:06.147Z"
   },
   {
    "duration": 1003,
    "start_time": "2023-03-15T13:45:34.647Z"
   },
   {
    "duration": 105,
    "start_time": "2023-03-15T13:45:35.651Z"
   },
   {
    "duration": 19,
    "start_time": "2023-03-15T13:45:35.757Z"
   },
   {
    "duration": 18,
    "start_time": "2023-03-15T13:45:35.778Z"
   },
   {
    "duration": 16,
    "start_time": "2023-03-15T13:45:35.797Z"
   },
   {
    "duration": 7,
    "start_time": "2023-03-15T13:45:35.814Z"
   },
   {
    "duration": 64,
    "start_time": "2023-03-15T13:45:35.822Z"
   },
   {
    "duration": 11,
    "start_time": "2023-03-15T13:45:35.888Z"
   },
   {
    "duration": 19,
    "start_time": "2023-03-15T13:45:35.900Z"
   },
   {
    "duration": 17,
    "start_time": "2023-03-15T13:45:35.921Z"
   },
   {
    "duration": 15,
    "start_time": "2023-03-15T13:45:35.939Z"
   },
   {
    "duration": 11,
    "start_time": "2023-03-15T13:45:35.956Z"
   },
   {
    "duration": 23,
    "start_time": "2023-03-15T13:45:35.969Z"
   },
   {
    "duration": 40,
    "start_time": "2023-03-15T13:45:35.994Z"
   },
   {
    "duration": 37,
    "start_time": "2023-03-15T13:45:36.036Z"
   },
   {
    "duration": 29,
    "start_time": "2023-03-15T13:45:36.075Z"
   },
   {
    "duration": 31,
    "start_time": "2023-03-15T13:45:36.106Z"
   },
   {
    "duration": 22,
    "start_time": "2023-03-15T13:45:36.139Z"
   },
   {
    "duration": 35,
    "start_time": "2023-03-15T13:45:36.163Z"
   },
   {
    "duration": 219,
    "start_time": "2023-03-15T13:45:36.200Z"
   },
   {
    "duration": 109,
    "start_time": "2023-03-15T13:45:36.420Z"
   },
   {
    "duration": 23,
    "start_time": "2023-03-15T13:45:36.530Z"
   },
   {
    "duration": 17,
    "start_time": "2023-03-15T13:45:36.554Z"
   },
   {
    "duration": 264,
    "start_time": "2023-03-15T13:45:36.572Z"
   },
   {
    "duration": 173,
    "start_time": "2023-03-15T13:45:36.838Z"
   },
   {
    "duration": 250,
    "start_time": "2023-03-15T13:45:37.013Z"
   },
   {
    "duration": 159,
    "start_time": "2023-03-15T13:45:37.265Z"
   },
   {
    "duration": 256,
    "start_time": "2023-03-15T13:45:37.427Z"
   },
   {
    "duration": 7,
    "start_time": "2023-03-15T13:45:37.685Z"
   },
   {
    "duration": 12,
    "start_time": "2023-03-15T13:45:37.694Z"
   },
   {
    "duration": 103,
    "start_time": "2023-03-15T13:45:37.707Z"
   },
   {
    "duration": 97,
    "start_time": "2023-03-15T13:45:37.811Z"
   },
   {
    "duration": 5,
    "start_time": "2023-03-15T13:45:37.910Z"
   },
   {
    "duration": 183,
    "start_time": "2023-03-15T13:45:37.916Z"
   },
   {
    "duration": 4,
    "start_time": "2023-03-15T13:45:38.101Z"
   },
   {
    "duration": 273,
    "start_time": "2023-03-15T13:45:38.107Z"
   },
   {
    "duration": 276,
    "start_time": "2023-03-15T13:45:38.382Z"
   },
   {
    "duration": 21,
    "start_time": "2023-03-15T13:45:38.660Z"
   },
   {
    "duration": 8,
    "start_time": "2023-03-15T13:45:38.682Z"
   },
   {
    "duration": 36,
    "start_time": "2023-03-15T13:45:38.692Z"
   },
   {
    "duration": 12,
    "start_time": "2023-03-15T13:45:38.730Z"
   },
   {
    "duration": 2,
    "start_time": "2023-03-15T13:45:41.908Z"
   },
   {
    "duration": 67,
    "start_time": "2023-03-15T13:45:42.584Z"
   },
   {
    "duration": 14,
    "start_time": "2023-03-15T13:45:43.030Z"
   },
   {
    "duration": 17,
    "start_time": "2023-03-15T13:45:43.445Z"
   },
   {
    "duration": 21,
    "start_time": "2023-03-15T13:45:43.685Z"
   },
   {
    "duration": 5,
    "start_time": "2023-03-15T13:45:44.339Z"
   },
   {
    "duration": 14,
    "start_time": "2023-03-15T13:45:44.785Z"
   },
   {
    "duration": 12,
    "start_time": "2023-03-15T13:45:44.956Z"
   },
   {
    "duration": 15,
    "start_time": "2023-03-15T13:45:45.145Z"
   },
   {
    "duration": 7,
    "start_time": "2023-03-15T13:45:45.332Z"
   },
   {
    "duration": 6,
    "start_time": "2023-03-15T13:45:45.530Z"
   },
   {
    "duration": 5,
    "start_time": "2023-03-15T13:45:45.785Z"
   },
   {
    "duration": 11,
    "start_time": "2023-03-15T13:45:46.417Z"
   },
   {
    "duration": 4,
    "start_time": "2023-03-15T13:45:46.678Z"
   },
   {
    "duration": 10,
    "start_time": "2023-03-15T13:45:47.831Z"
   },
   {
    "duration": 10,
    "start_time": "2023-03-15T13:45:49.020Z"
   },
   {
    "duration": 9,
    "start_time": "2023-03-15T13:45:50.198Z"
   },
   {
    "duration": 12,
    "start_time": "2023-03-15T13:45:50.389Z"
   },
   {
    "duration": 5,
    "start_time": "2023-03-15T13:45:50.887Z"
   },
   {
    "duration": 160,
    "start_time": "2023-03-15T13:45:51.105Z"
   },
   {
    "duration": 118,
    "start_time": "2023-03-15T13:45:51.266Z"
   },
   {
    "duration": 6,
    "start_time": "2023-03-15T13:45:51.490Z"
   },
   {
    "duration": 13,
    "start_time": "2023-03-15T13:45:51.685Z"
   },
   {
    "duration": 12,
    "start_time": "2023-03-15T13:47:22.129Z"
   },
   {
    "duration": 24,
    "start_time": "2023-03-15T13:47:33.971Z"
   },
   {
    "duration": 6,
    "start_time": "2023-03-15T13:49:20.147Z"
   },
   {
    "duration": 6,
    "start_time": "2023-03-15T13:49:20.703Z"
   },
   {
    "duration": 5,
    "start_time": "2023-03-15T13:49:21.015Z"
   },
   {
    "duration": 6,
    "start_time": "2023-03-15T13:49:47.082Z"
   },
   {
    "duration": 4,
    "start_time": "2023-03-15T13:49:47.233Z"
   },
   {
    "duration": 5,
    "start_time": "2023-03-15T13:49:47.393Z"
   },
   {
    "duration": 4,
    "start_time": "2023-03-15T13:49:47.585Z"
   },
   {
    "duration": 5,
    "start_time": "2023-03-15T13:49:47.759Z"
   },
   {
    "duration": 4,
    "start_time": "2023-03-15T13:49:48.525Z"
   },
   {
    "duration": 14,
    "start_time": "2023-03-15T13:53:28.684Z"
   },
   {
    "duration": 15,
    "start_time": "2023-03-15T13:53:32.689Z"
   },
   {
    "duration": 4,
    "start_time": "2023-03-15T14:43:27.631Z"
   },
   {
    "duration": 1053,
    "start_time": "2023-03-15T14:43:36.088Z"
   },
   {
    "duration": 108,
    "start_time": "2023-03-15T14:43:37.142Z"
   },
   {
    "duration": 19,
    "start_time": "2023-03-15T14:43:37.252Z"
   },
   {
    "duration": 23,
    "start_time": "2023-03-15T14:43:37.273Z"
   },
   {
    "duration": 16,
    "start_time": "2023-03-15T14:43:37.298Z"
   },
   {
    "duration": 21,
    "start_time": "2023-03-15T14:43:37.315Z"
   },
   {
    "duration": 64,
    "start_time": "2023-03-15T14:43:37.337Z"
   },
   {
    "duration": 12,
    "start_time": "2023-03-15T14:43:37.402Z"
   },
   {
    "duration": 27,
    "start_time": "2023-03-15T14:43:37.416Z"
   },
   {
    "duration": 9,
    "start_time": "2023-03-15T14:43:37.444Z"
   },
   {
    "duration": 6,
    "start_time": "2023-03-15T14:43:37.454Z"
   },
   {
    "duration": 9,
    "start_time": "2023-03-15T14:43:37.461Z"
   },
   {
    "duration": 5,
    "start_time": "2023-03-15T14:43:37.479Z"
   },
   {
    "duration": 7,
    "start_time": "2023-03-15T14:43:37.487Z"
   },
   {
    "duration": 8,
    "start_time": "2023-03-15T14:43:37.495Z"
   },
   {
    "duration": 16,
    "start_time": "2023-03-15T14:43:37.505Z"
   },
   {
    "duration": 8,
    "start_time": "2023-03-15T14:43:37.522Z"
   },
   {
    "duration": 19,
    "start_time": "2023-03-15T14:43:37.532Z"
   },
   {
    "duration": 31,
    "start_time": "2023-03-15T14:43:37.553Z"
   },
   {
    "duration": 21,
    "start_time": "2023-03-15T14:43:37.587Z"
   },
   {
    "duration": 26,
    "start_time": "2023-03-15T14:43:37.610Z"
   },
   {
    "duration": 11,
    "start_time": "2023-03-15T14:43:37.638Z"
   },
   {
    "duration": 189,
    "start_time": "2023-03-15T14:43:37.651Z"
   },
   {
    "duration": 123,
    "start_time": "2023-03-15T14:43:37.842Z"
   },
   {
    "duration": 14,
    "start_time": "2023-03-15T14:43:37.967Z"
   },
   {
    "duration": 24,
    "start_time": "2023-03-15T14:43:37.982Z"
   },
   {
    "duration": 298,
    "start_time": "2023-03-15T14:43:38.008Z"
   },
   {
    "duration": 192,
    "start_time": "2023-03-15T14:43:38.308Z"
   },
   {
    "duration": 272,
    "start_time": "2023-03-15T14:43:38.502Z"
   },
   {
    "duration": 174,
    "start_time": "2023-03-15T14:43:38.778Z"
   },
   {
    "duration": 329,
    "start_time": "2023-03-15T14:43:38.953Z"
   },
   {
    "duration": 7,
    "start_time": "2023-03-15T14:43:39.283Z"
   },
   {
    "duration": 8,
    "start_time": "2023-03-15T14:43:39.291Z"
   },
   {
    "duration": 121,
    "start_time": "2023-03-15T14:43:39.301Z"
   },
   {
    "duration": 117,
    "start_time": "2023-03-15T14:43:39.424Z"
   },
   {
    "duration": 5,
    "start_time": "2023-03-15T14:43:39.543Z"
   },
   {
    "duration": 163,
    "start_time": "2023-03-15T14:43:39.549Z"
   },
   {
    "duration": 4,
    "start_time": "2023-03-15T14:43:39.714Z"
   },
   {
    "duration": 329,
    "start_time": "2023-03-15T14:43:39.720Z"
   },
   {
    "duration": 329,
    "start_time": "2023-03-15T14:43:40.051Z"
   },
   {
    "duration": 10,
    "start_time": "2023-03-15T14:43:40.385Z"
   },
   {
    "duration": 13,
    "start_time": "2023-03-15T14:43:40.398Z"
   },
   {
    "duration": 52,
    "start_time": "2023-03-15T14:43:40.413Z"
   },
   {
    "duration": 29,
    "start_time": "2023-03-15T14:43:40.466Z"
   },
   {
    "duration": 3,
    "start_time": "2023-03-15T14:43:41.522Z"
   },
   {
    "duration": 64,
    "start_time": "2023-03-15T14:43:42.108Z"
   },
   {
    "duration": 17,
    "start_time": "2023-03-15T14:43:42.635Z"
   },
   {
    "duration": 20,
    "start_time": "2023-03-15T14:43:43.125Z"
   },
   {
    "duration": 17,
    "start_time": "2023-03-15T14:43:43.304Z"
   },
   {
    "duration": 5,
    "start_time": "2023-03-15T14:43:43.794Z"
   },
   {
    "duration": 11,
    "start_time": "2023-03-15T14:43:44.144Z"
   },
   {
    "duration": 11,
    "start_time": "2023-03-15T14:43:44.304Z"
   },
   {
    "duration": 11,
    "start_time": "2023-03-15T14:43:44.491Z"
   },
   {
    "duration": 5,
    "start_time": "2023-03-15T14:43:44.683Z"
   },
   {
    "duration": 4,
    "start_time": "2023-03-15T14:43:44.813Z"
   },
   {
    "duration": 6,
    "start_time": "2023-03-15T14:43:45.012Z"
   },
   {
    "duration": 4,
    "start_time": "2023-03-15T14:43:45.190Z"
   },
   {
    "duration": 4,
    "start_time": "2023-03-15T14:43:48.188Z"
   },
   {
    "duration": 4,
    "start_time": "2023-03-15T14:43:48.802Z"
   },
   {
    "duration": 10,
    "start_time": "2023-03-15T14:43:50.569Z"
   },
   {
    "duration": 4,
    "start_time": "2023-03-15T14:43:50.782Z"
   },
   {
    "duration": 13,
    "start_time": "2023-03-15T14:43:51.876Z"
   },
   {
    "duration": 16,
    "start_time": "2023-03-15T14:43:53.000Z"
   },
   {
    "duration": 9,
    "start_time": "2023-03-15T14:43:54.433Z"
   },
   {
    "duration": 15,
    "start_time": "2023-03-15T14:43:54.612Z"
   },
   {
    "duration": 7,
    "start_time": "2023-03-15T14:43:55.186Z"
   },
   {
    "duration": 158,
    "start_time": "2023-03-15T14:43:55.216Z"
   },
   {
    "duration": 136,
    "start_time": "2023-03-15T14:43:55.380Z"
   },
   {
    "duration": 11,
    "start_time": "2023-03-15T14:43:55.518Z"
   },
   {
    "duration": 18,
    "start_time": "2023-03-15T14:43:55.530Z"
   },
   {
    "duration": 209,
    "start_time": "2023-03-15T14:43:55.802Z"
   },
   {
    "duration": 175,
    "start_time": "2023-03-15T14:43:56.650Z"
   },
   {
    "duration": 258,
    "start_time": "2023-03-15T14:43:57.347Z"
   },
   {
    "duration": 139,
    "start_time": "2023-03-15T14:43:58.235Z"
   },
   {
    "duration": 254,
    "start_time": "2023-03-15T14:43:59.140Z"
   },
   {
    "duration": 6,
    "start_time": "2023-03-15T14:44:00.092Z"
   },
   {
    "duration": 10,
    "start_time": "2023-03-15T14:44:00.598Z"
   },
   {
    "duration": 127,
    "start_time": "2023-03-15T14:44:01.083Z"
   },
   {
    "duration": 99,
    "start_time": "2023-03-15T14:44:01.516Z"
   },
   {
    "duration": 5,
    "start_time": "2023-03-15T14:44:02.627Z"
   },
   {
    "duration": 134,
    "start_time": "2023-03-15T14:44:03.906Z"
   },
   {
    "duration": 6,
    "start_time": "2023-03-15T14:44:04.423Z"
   },
   {
    "duration": 253,
    "start_time": "2023-03-15T14:44:05.940Z"
   },
   {
    "duration": 267,
    "start_time": "2023-03-15T14:44:06.346Z"
   },
   {
    "duration": 10,
    "start_time": "2023-03-15T14:44:07.912Z"
   },
   {
    "duration": 11,
    "start_time": "2023-03-15T14:44:09.298Z"
   },
   {
    "duration": 24,
    "start_time": "2023-03-15T14:44:10.439Z"
   },
   {
    "duration": 15,
    "start_time": "2023-03-15T14:44:12.295Z"
   },
   {
    "duration": 159,
    "start_time": "2023-03-15T14:46:31.622Z"
   },
   {
    "duration": 12,
    "start_time": "2023-03-15T14:47:35.918Z"
   },
   {
    "duration": 16,
    "start_time": "2023-03-15T14:48:08.366Z"
   },
   {
    "duration": 8,
    "start_time": "2023-03-15T14:48:26.923Z"
   },
   {
    "duration": 4,
    "start_time": "2023-03-15T14:51:19.892Z"
   },
   {
    "duration": 11,
    "start_time": "2023-03-15T14:51:28.444Z"
   },
   {
    "duration": 9,
    "start_time": "2023-03-15T14:53:36.197Z"
   },
   {
    "duration": 10,
    "start_time": "2023-03-15T14:54:46.899Z"
   },
   {
    "duration": 12,
    "start_time": "2023-03-15T14:54:52.794Z"
   },
   {
    "duration": 12,
    "start_time": "2023-03-15T14:55:20.030Z"
   },
   {
    "duration": 9,
    "start_time": "2023-03-15T14:55:25.921Z"
   },
   {
    "duration": 7,
    "start_time": "2023-03-15T14:55:35.242Z"
   },
   {
    "duration": 7,
    "start_time": "2023-03-15T14:55:37.697Z"
   },
   {
    "duration": 10,
    "start_time": "2023-03-15T14:56:02.300Z"
   },
   {
    "duration": 10,
    "start_time": "2023-03-15T14:56:11.896Z"
   },
   {
    "duration": 81,
    "start_time": "2023-03-15T14:56:46.198Z"
   },
   {
    "duration": 12,
    "start_time": "2023-03-15T14:57:03.410Z"
   },
   {
    "duration": 10,
    "start_time": "2023-03-15T14:57:12.992Z"
   },
   {
    "duration": 4,
    "start_time": "2023-03-15T14:59:57.914Z"
   },
   {
    "duration": 10,
    "start_time": "2023-03-15T15:03:10.008Z"
   },
   {
    "duration": 91,
    "start_time": "2023-03-15T15:03:59.100Z"
   },
   {
    "duration": 9,
    "start_time": "2023-03-15T15:04:05.730Z"
   },
   {
    "duration": 8,
    "start_time": "2023-03-15T15:04:09.797Z"
   },
   {
    "duration": 9,
    "start_time": "2023-03-15T15:04:49.767Z"
   },
   {
    "duration": 12,
    "start_time": "2023-03-15T15:05:25.937Z"
   },
   {
    "duration": 5,
    "start_time": "2023-03-15T15:07:19.297Z"
   },
   {
    "duration": 15,
    "start_time": "2023-03-15T15:08:23.996Z"
   },
   {
    "duration": 16,
    "start_time": "2023-03-15T15:08:29.807Z"
   },
   {
    "duration": 16,
    "start_time": "2023-03-15T15:08:39.512Z"
   },
   {
    "duration": 19,
    "start_time": "2023-03-15T15:08:52.201Z"
   },
   {
    "duration": 8,
    "start_time": "2023-03-15T15:08:56.291Z"
   },
   {
    "duration": 11,
    "start_time": "2023-03-15T15:09:18.041Z"
   },
   {
    "duration": 15,
    "start_time": "2023-03-15T15:09:27.202Z"
   },
   {
    "duration": 17,
    "start_time": "2023-03-15T15:09:37.661Z"
   },
   {
    "duration": 11,
    "start_time": "2023-03-15T15:10:44.304Z"
   },
   {
    "duration": 66,
    "start_time": "2023-03-15T15:10:44.631Z"
   },
   {
    "duration": 70,
    "start_time": "2023-03-15T15:10:50.500Z"
   },
   {
    "duration": 81,
    "start_time": "2023-03-15T15:10:53.525Z"
   },
   {
    "duration": 8,
    "start_time": "2023-03-15T15:10:57.544Z"
   },
   {
    "duration": 14,
    "start_time": "2023-03-15T15:11:02.836Z"
   },
   {
    "duration": 8,
    "start_time": "2023-03-15T15:11:09.946Z"
   },
   {
    "duration": 9,
    "start_time": "2023-03-15T15:11:26.093Z"
   },
   {
    "duration": 37,
    "start_time": "2023-03-15T15:11:30.065Z"
   },
   {
    "duration": 5,
    "start_time": "2023-03-15T15:11:37.138Z"
   },
   {
    "duration": 11,
    "start_time": "2023-03-15T15:11:41.798Z"
   },
   {
    "duration": 929,
    "start_time": "2023-03-15T15:11:51.446Z"
   },
   {
    "duration": 112,
    "start_time": "2023-03-15T15:11:52.377Z"
   },
   {
    "duration": 19,
    "start_time": "2023-03-15T15:11:52.491Z"
   },
   {
    "duration": 21,
    "start_time": "2023-03-15T15:11:52.511Z"
   },
   {
    "duration": 39,
    "start_time": "2023-03-15T15:11:52.533Z"
   },
   {
    "duration": 5,
    "start_time": "2023-03-15T15:11:52.573Z"
   },
   {
    "duration": 71,
    "start_time": "2023-03-15T15:11:52.589Z"
   },
   {
    "duration": 9,
    "start_time": "2023-03-15T15:11:52.662Z"
   },
   {
    "duration": 18,
    "start_time": "2023-03-15T15:11:52.673Z"
   },
   {
    "duration": 29,
    "start_time": "2023-03-15T15:11:52.693Z"
   },
   {
    "duration": 24,
    "start_time": "2023-03-15T15:11:52.724Z"
   },
   {
    "duration": 20,
    "start_time": "2023-03-15T15:11:52.749Z"
   },
   {
    "duration": 4,
    "start_time": "2023-03-15T15:11:52.770Z"
   },
   {
    "duration": 24,
    "start_time": "2023-03-15T15:11:52.775Z"
   },
   {
    "duration": 12,
    "start_time": "2023-03-15T15:11:52.800Z"
   },
   {
    "duration": 30,
    "start_time": "2023-03-15T15:11:52.813Z"
   },
   {
    "duration": 8,
    "start_time": "2023-03-15T15:11:52.844Z"
   },
   {
    "duration": 22,
    "start_time": "2023-03-15T15:11:52.854Z"
   },
   {
    "duration": 31,
    "start_time": "2023-03-15T15:11:52.877Z"
   },
   {
    "duration": 22,
    "start_time": "2023-03-15T15:11:52.909Z"
   },
   {
    "duration": 22,
    "start_time": "2023-03-15T15:11:52.933Z"
   },
   {
    "duration": 17,
    "start_time": "2023-03-15T15:11:52.957Z"
   },
   {
    "duration": 27,
    "start_time": "2023-03-15T15:11:52.975Z"
   },
   {
    "duration": 8,
    "start_time": "2023-03-15T15:11:53.003Z"
   },
   {
    "duration": 17,
    "start_time": "2023-03-15T15:11:53.012Z"
   },
   {
    "duration": 14,
    "start_time": "2023-03-15T15:11:53.031Z"
   },
   {
    "duration": 6,
    "start_time": "2023-03-15T15:11:53.046Z"
   },
   {
    "duration": 3,
    "start_time": "2023-03-15T15:11:53.055Z"
   },
   {
    "duration": 14,
    "start_time": "2023-03-15T15:11:53.060Z"
   },
   {
    "duration": 173,
    "start_time": "2023-03-15T15:11:53.075Z"
   },
   {
    "duration": 98,
    "start_time": "2023-03-15T15:11:53.250Z"
   },
   {
    "duration": 6,
    "start_time": "2023-03-15T15:11:53.350Z"
   },
   {
    "duration": 36,
    "start_time": "2023-03-15T15:11:53.358Z"
   },
   {
    "duration": 223,
    "start_time": "2023-03-15T15:11:53.396Z"
   },
   {
    "duration": 184,
    "start_time": "2023-03-15T15:11:53.621Z"
   },
   {
    "duration": 233,
    "start_time": "2023-03-15T15:11:53.807Z"
   },
   {
    "duration": 153,
    "start_time": "2023-03-15T15:11:54.042Z"
   },
   {
    "duration": 297,
    "start_time": "2023-03-15T15:11:54.196Z"
   },
   {
    "duration": 6,
    "start_time": "2023-03-15T15:11:54.495Z"
   },
   {
    "duration": 13,
    "start_time": "2023-03-15T15:11:54.502Z"
   },
   {
    "duration": 108,
    "start_time": "2023-03-15T15:11:54.516Z"
   },
   {
    "duration": 112,
    "start_time": "2023-03-15T15:11:54.627Z"
   },
   {
    "duration": 4,
    "start_time": "2023-03-15T15:11:54.740Z"
   },
   {
    "duration": 119,
    "start_time": "2023-03-15T15:11:54.745Z"
   },
   {
    "duration": 4,
    "start_time": "2023-03-15T15:11:54.865Z"
   },
   {
    "duration": 251,
    "start_time": "2023-03-15T15:11:54.879Z"
   },
   {
    "duration": 257,
    "start_time": "2023-03-15T15:11:55.132Z"
   },
   {
    "duration": 9,
    "start_time": "2023-03-15T15:11:55.391Z"
   },
   {
    "duration": 8,
    "start_time": "2023-03-15T15:11:55.402Z"
   },
   {
    "duration": 27,
    "start_time": "2023-03-15T15:11:55.412Z"
   },
   {
    "duration": 11,
    "start_time": "2023-03-15T15:11:55.440Z"
   },
   {
    "duration": 3,
    "start_time": "2023-03-15T15:12:14.997Z"
   },
   {
    "duration": 66,
    "start_time": "2023-03-15T15:12:15.646Z"
   },
   {
    "duration": 18,
    "start_time": "2023-03-15T15:12:16.201Z"
   },
   {
    "duration": 17,
    "start_time": "2023-03-15T15:12:16.695Z"
   },
   {
    "duration": 15,
    "start_time": "2023-03-15T15:12:16.834Z"
   },
   {
    "duration": 4,
    "start_time": "2023-03-15T15:12:17.316Z"
   },
   {
    "duration": 11,
    "start_time": "2023-03-15T15:12:17.937Z"
   },
   {
    "duration": 10,
    "start_time": "2023-03-15T15:12:18.117Z"
   },
   {
    "duration": 12,
    "start_time": "2023-03-15T15:12:18.298Z"
   },
   {
    "duration": 6,
    "start_time": "2023-03-15T15:12:18.428Z"
   },
   {
    "duration": 5,
    "start_time": "2023-03-15T15:12:18.605Z"
   },
   {
    "duration": 6,
    "start_time": "2023-03-15T15:12:18.740Z"
   },
   {
    "duration": 5,
    "start_time": "2023-03-15T15:12:18.947Z"
   },
   {
    "duration": 8,
    "start_time": "2023-03-15T15:12:19.104Z"
   },
   {
    "duration": 6,
    "start_time": "2023-03-15T15:12:19.248Z"
   },
   {
    "duration": 18,
    "start_time": "2023-03-15T15:12:20.477Z"
   },
   {
    "duration": 5,
    "start_time": "2023-03-15T15:12:20.701Z"
   },
   {
    "duration": 9,
    "start_time": "2023-03-15T15:12:21.729Z"
   },
   {
    "duration": 13,
    "start_time": "2023-03-15T15:12:23.099Z"
   },
   {
    "duration": 11,
    "start_time": "2023-03-15T15:12:24.702Z"
   },
   {
    "duration": 11,
    "start_time": "2023-03-15T15:12:24.918Z"
   },
   {
    "duration": 11,
    "start_time": "2023-03-15T15:12:28.401Z"
   },
   {
    "duration": 4,
    "start_time": "2023-03-15T15:12:28.719Z"
   },
   {
    "duration": 4,
    "start_time": "2023-03-15T15:12:28.944Z"
   },
   {
    "duration": 15,
    "start_time": "2023-03-15T15:12:29.291Z"
   },
   {
    "duration": 252,
    "start_time": "2023-03-15T15:13:33.024Z"
   },
   {
    "duration": 170,
    "start_time": "2023-03-15T15:14:07.024Z"
   },
   {
    "duration": 166,
    "start_time": "2023-03-15T15:14:31.113Z"
   },
   {
    "duration": 179,
    "start_time": "2023-03-15T15:14:35.801Z"
   },
   {
    "duration": 157,
    "start_time": "2023-03-15T15:14:43.095Z"
   },
   {
    "duration": 162,
    "start_time": "2023-03-15T15:14:58.701Z"
   },
   {
    "duration": 193,
    "start_time": "2023-03-15T15:15:17.900Z"
   },
   {
    "duration": 166,
    "start_time": "2023-03-15T15:15:39.803Z"
   },
   {
    "duration": 243,
    "start_time": "2023-03-15T15:16:47.219Z"
   },
   {
    "duration": 193,
    "start_time": "2023-03-15T15:17:39.019Z"
   },
   {
    "duration": 265,
    "start_time": "2023-03-15T15:18:36.998Z"
   },
   {
    "duration": 195,
    "start_time": "2023-03-15T15:18:41.917Z"
   },
   {
    "duration": 194,
    "start_time": "2023-03-15T15:18:50.599Z"
   },
   {
    "duration": 239,
    "start_time": "2023-03-15T15:19:00.899Z"
   },
   {
    "duration": 198,
    "start_time": "2023-03-15T15:19:21.407Z"
   },
   {
    "duration": 324,
    "start_time": "2023-03-15T15:20:42.123Z"
   },
   {
    "duration": 272,
    "start_time": "2023-03-15T16:19:09.524Z"
   },
   {
    "duration": 251,
    "start_time": "2023-03-15T16:23:21.796Z"
   },
   {
    "duration": 9,
    "start_time": "2023-03-15T16:24:59.714Z"
   },
   {
    "duration": 10,
    "start_time": "2023-03-15T16:27:21.476Z"
   },
   {
    "duration": 984,
    "start_time": "2023-03-15T16:28:12.349Z"
   },
   {
    "duration": 91,
    "start_time": "2023-03-15T16:28:13.345Z"
   },
   {
    "duration": 16,
    "start_time": "2023-03-15T16:28:13.440Z"
   },
   {
    "duration": 16,
    "start_time": "2023-03-15T16:28:13.457Z"
   },
   {
    "duration": 14,
    "start_time": "2023-03-15T16:28:13.474Z"
   },
   {
    "duration": 3,
    "start_time": "2023-03-15T16:28:13.489Z"
   },
   {
    "duration": 47,
    "start_time": "2023-03-15T16:28:13.493Z"
   },
   {
    "duration": 10,
    "start_time": "2023-03-15T16:28:13.541Z"
   },
   {
    "duration": 15,
    "start_time": "2023-03-15T16:28:13.553Z"
   },
   {
    "duration": 4,
    "start_time": "2023-03-15T16:28:13.580Z"
   },
   {
    "duration": 5,
    "start_time": "2023-03-15T16:28:13.586Z"
   },
   {
    "duration": 6,
    "start_time": "2023-03-15T16:28:13.592Z"
   },
   {
    "duration": 4,
    "start_time": "2023-03-15T16:28:13.600Z"
   },
   {
    "duration": 4,
    "start_time": "2023-03-15T16:28:13.606Z"
   },
   {
    "duration": 4,
    "start_time": "2023-03-15T16:28:13.612Z"
   },
   {
    "duration": 11,
    "start_time": "2023-03-15T16:28:13.618Z"
   },
   {
    "duration": 6,
    "start_time": "2023-03-15T16:28:13.630Z"
   },
   {
    "duration": 42,
    "start_time": "2023-03-15T16:28:13.638Z"
   },
   {
    "duration": 10,
    "start_time": "2023-03-15T16:28:13.681Z"
   },
   {
    "duration": 14,
    "start_time": "2023-03-15T16:28:13.693Z"
   },
   {
    "duration": 22,
    "start_time": "2023-03-15T16:28:13.709Z"
   },
   {
    "duration": 16,
    "start_time": "2023-03-15T16:28:13.733Z"
   },
   {
    "duration": 9,
    "start_time": "2023-03-15T16:28:13.751Z"
   },
   {
    "duration": 6,
    "start_time": "2023-03-15T16:28:13.761Z"
   },
   {
    "duration": 20,
    "start_time": "2023-03-15T16:28:13.768Z"
   },
   {
    "duration": 11,
    "start_time": "2023-03-15T16:28:13.790Z"
   },
   {
    "duration": 7,
    "start_time": "2023-03-15T16:28:13.804Z"
   },
   {
    "duration": 5,
    "start_time": "2023-03-15T16:28:13.813Z"
   },
   {
    "duration": 6,
    "start_time": "2023-03-15T16:28:13.819Z"
   },
   {
    "duration": 181,
    "start_time": "2023-03-15T16:28:13.826Z"
   },
   {
    "duration": 102,
    "start_time": "2023-03-15T16:28:14.009Z"
   },
   {
    "duration": 6,
    "start_time": "2023-03-15T16:28:14.113Z"
   },
   {
    "duration": 12,
    "start_time": "2023-03-15T16:28:14.120Z"
   },
   {
    "duration": 251,
    "start_time": "2023-03-15T16:28:14.134Z"
   },
   {
    "duration": 166,
    "start_time": "2023-03-15T16:28:14.386Z"
   },
   {
    "duration": 292,
    "start_time": "2023-03-15T16:28:14.553Z"
   },
   {
    "duration": 183,
    "start_time": "2023-03-15T16:28:14.847Z"
   },
   {
    "duration": 299,
    "start_time": "2023-03-15T16:28:15.031Z"
   },
   {
    "duration": 6,
    "start_time": "2023-03-15T16:28:15.331Z"
   },
   {
    "duration": 10,
    "start_time": "2023-03-15T16:28:15.338Z"
   },
   {
    "duration": 106,
    "start_time": "2023-03-15T16:28:15.349Z"
   },
   {
    "duration": 105,
    "start_time": "2023-03-15T16:28:15.456Z"
   },
   {
    "duration": 4,
    "start_time": "2023-03-15T16:28:15.563Z"
   },
   {
    "duration": 163,
    "start_time": "2023-03-15T16:28:15.580Z"
   },
   {
    "duration": 6,
    "start_time": "2023-03-15T16:28:15.744Z"
   },
   {
    "duration": 359,
    "start_time": "2023-03-15T16:28:15.752Z"
   },
   {
    "duration": 277,
    "start_time": "2023-03-15T16:28:16.112Z"
   },
   {
    "duration": 10,
    "start_time": "2023-03-15T16:28:16.391Z"
   },
   {
    "duration": 19,
    "start_time": "2023-03-15T16:28:16.403Z"
   },
   {
    "duration": 39,
    "start_time": "2023-03-15T16:28:16.424Z"
   },
   {
    "duration": 20,
    "start_time": "2023-03-15T16:28:16.465Z"
   },
   {
    "duration": 2,
    "start_time": "2023-03-15T16:28:19.477Z"
   },
   {
    "duration": 62,
    "start_time": "2023-03-15T16:28:20.081Z"
   },
   {
    "duration": 17,
    "start_time": "2023-03-15T16:28:20.535Z"
   },
   {
    "duration": 18,
    "start_time": "2023-03-15T16:28:21.015Z"
   },
   {
    "duration": 16,
    "start_time": "2023-03-15T16:28:21.177Z"
   },
   {
    "duration": 4,
    "start_time": "2023-03-15T16:28:23.281Z"
   },
   {
    "duration": 11,
    "start_time": "2023-03-15T16:28:23.610Z"
   },
   {
    "duration": 11,
    "start_time": "2023-03-15T16:28:23.798Z"
   },
   {
    "duration": 11,
    "start_time": "2023-03-15T16:28:23.977Z"
   },
   {
    "duration": 5,
    "start_time": "2023-03-15T16:28:24.177Z"
   },
   {
    "duration": 4,
    "start_time": "2023-03-15T16:28:24.376Z"
   },
   {
    "duration": 5,
    "start_time": "2023-03-15T16:28:24.590Z"
   },
   {
    "duration": 5,
    "start_time": "2023-03-15T16:28:24.780Z"
   },
   {
    "duration": 5,
    "start_time": "2023-03-15T16:28:24.948Z"
   },
   {
    "duration": 4,
    "start_time": "2023-03-15T16:28:25.128Z"
   },
   {
    "duration": 10,
    "start_time": "2023-03-15T16:28:25.836Z"
   },
   {
    "duration": 5,
    "start_time": "2023-03-15T16:28:26.024Z"
   },
   {
    "duration": 10,
    "start_time": "2023-03-15T16:28:26.949Z"
   },
   {
    "duration": 9,
    "start_time": "2023-03-15T16:28:28.070Z"
   },
   {
    "duration": 10,
    "start_time": "2023-03-15T16:28:29.123Z"
   },
   {
    "duration": 11,
    "start_time": "2023-03-15T16:28:29.180Z"
   },
   {
    "duration": 10,
    "start_time": "2023-03-15T16:28:29.248Z"
   },
   {
    "duration": 6,
    "start_time": "2023-03-15T16:28:29.280Z"
   },
   {
    "duration": 4,
    "start_time": "2023-03-15T16:28:29.322Z"
   },
   {
    "duration": 15,
    "start_time": "2023-03-15T16:28:29.358Z"
   },
   {
    "duration": 11,
    "start_time": "2023-03-15T16:28:29.481Z"
   },
   {
    "duration": 8,
    "start_time": "2023-03-15T16:28:29.505Z"
   },
   {
    "duration": 6,
    "start_time": "2023-03-15T16:28:29.547Z"
   },
   {
    "duration": 6,
    "start_time": "2023-03-15T16:28:29.634Z"
   },
   {
    "duration": 161,
    "start_time": "2023-03-15T16:28:29.673Z"
   },
   {
    "duration": 176,
    "start_time": "2023-03-15T16:28:29.836Z"
   },
   {
    "duration": 7,
    "start_time": "2023-03-15T16:28:30.014Z"
   },
   {
    "duration": 37,
    "start_time": "2023-03-15T16:28:30.023Z"
   },
   {
    "duration": 178,
    "start_time": "2023-03-15T16:28:30.062Z"
   },
   {
    "duration": 192,
    "start_time": "2023-03-15T16:28:30.243Z"
   },
   {
    "duration": 260,
    "start_time": "2023-03-15T16:28:30.436Z"
   },
   {
    "duration": 186,
    "start_time": "2023-03-15T16:28:30.698Z"
   },
   {
    "duration": 324,
    "start_time": "2023-03-15T16:28:30.886Z"
   },
   {
    "duration": 5,
    "start_time": "2023-03-15T16:28:31.211Z"
   },
   {
    "duration": 50,
    "start_time": "2023-03-15T16:28:31.218Z"
   },
   {
    "duration": 138,
    "start_time": "2023-03-15T16:28:31.270Z"
   },
   {
    "duration": 108,
    "start_time": "2023-03-15T16:28:31.409Z"
   },
   {
    "duration": 5,
    "start_time": "2023-03-15T16:28:31.518Z"
   },
   {
    "duration": 143,
    "start_time": "2023-03-15T16:28:31.525Z"
   },
   {
    "duration": 4,
    "start_time": "2023-03-15T16:28:31.670Z"
   },
   {
    "duration": 203,
    "start_time": "2023-03-15T16:28:31.679Z"
   },
   {
    "duration": 249,
    "start_time": "2023-03-15T16:28:31.884Z"
   },
   {
    "duration": 9,
    "start_time": "2023-03-15T16:28:32.135Z"
   },
   {
    "duration": 151,
    "start_time": "2023-03-15T16:28:32.145Z"
   },
   {
    "duration": 42,
    "start_time": "2023-03-15T16:28:32.298Z"
   },
   {
    "duration": 12,
    "start_time": "2023-03-15T16:28:32.342Z"
   },
   {
    "duration": 7,
    "start_time": "2023-03-15T16:29:48.196Z"
   },
   {
    "duration": 1228,
    "start_time": "2023-03-15T16:30:51.345Z"
   },
   {
    "duration": 4,
    "start_time": "2023-03-15T16:31:43.776Z"
   },
   {
    "duration": 17,
    "start_time": "2023-03-15T16:31:49.660Z"
   },
   {
    "duration": 4,
    "start_time": "2023-03-15T16:32:43.599Z"
   },
   {
    "duration": 16,
    "start_time": "2023-03-15T16:32:46.202Z"
   },
   {
    "duration": 14,
    "start_time": "2023-03-15T16:33:21.250Z"
   },
   {
    "duration": 11,
    "start_time": "2023-03-15T16:33:40.762Z"
   },
   {
    "duration": 4,
    "start_time": "2023-03-15T16:35:06.211Z"
   },
   {
    "duration": 118,
    "start_time": "2023-03-15T16:35:31.563Z"
   },
   {
    "duration": 3,
    "start_time": "2023-03-15T16:35:34.848Z"
   },
   {
    "duration": 3,
    "start_time": "2023-03-15T16:35:37.817Z"
   },
   {
    "duration": 5,
    "start_time": "2023-03-15T16:37:02.625Z"
   },
   {
    "duration": 3,
    "start_time": "2023-03-15T16:37:14.707Z"
   },
   {
    "duration": 4,
    "start_time": "2023-03-15T16:37:40.728Z"
   },
   {
    "duration": 970,
    "start_time": "2023-03-15T16:39:56.473Z"
   },
   {
    "duration": 106,
    "start_time": "2023-03-15T16:39:57.445Z"
   },
   {
    "duration": 17,
    "start_time": "2023-03-15T16:39:57.552Z"
   },
   {
    "duration": 16,
    "start_time": "2023-03-15T16:39:57.571Z"
   },
   {
    "duration": 16,
    "start_time": "2023-03-15T16:39:57.588Z"
   },
   {
    "duration": 7,
    "start_time": "2023-03-15T16:39:57.605Z"
   },
   {
    "duration": 45,
    "start_time": "2023-03-15T16:39:57.613Z"
   },
   {
    "duration": 24,
    "start_time": "2023-03-15T16:39:57.659Z"
   },
   {
    "duration": 14,
    "start_time": "2023-03-15T16:39:57.685Z"
   },
   {
    "duration": 5,
    "start_time": "2023-03-15T16:39:57.701Z"
   },
   {
    "duration": 4,
    "start_time": "2023-03-15T16:39:57.707Z"
   },
   {
    "duration": 7,
    "start_time": "2023-03-15T16:39:57.712Z"
   },
   {
    "duration": 4,
    "start_time": "2023-03-15T16:39:57.720Z"
   },
   {
    "duration": 5,
    "start_time": "2023-03-15T16:39:57.725Z"
   },
   {
    "duration": 6,
    "start_time": "2023-03-15T16:39:57.731Z"
   },
   {
    "duration": 40,
    "start_time": "2023-03-15T16:39:57.739Z"
   },
   {
    "duration": 4,
    "start_time": "2023-03-15T16:39:57.780Z"
   },
   {
    "duration": 12,
    "start_time": "2023-03-15T16:39:57.786Z"
   },
   {
    "duration": 10,
    "start_time": "2023-03-15T16:39:57.799Z"
   },
   {
    "duration": 9,
    "start_time": "2023-03-15T16:39:57.810Z"
   },
   {
    "duration": 14,
    "start_time": "2023-03-15T16:39:57.820Z"
   },
   {
    "duration": 13,
    "start_time": "2023-03-15T16:39:57.835Z"
   },
   {
    "duration": 3,
    "start_time": "2023-03-15T16:39:57.850Z"
   },
   {
    "duration": 25,
    "start_time": "2023-03-15T16:39:57.854Z"
   },
   {
    "duration": 14,
    "start_time": "2023-03-15T16:39:57.881Z"
   },
   {
    "duration": 9,
    "start_time": "2023-03-15T16:39:57.896Z"
   },
   {
    "duration": 6,
    "start_time": "2023-03-15T16:39:57.906Z"
   },
   {
    "duration": 4,
    "start_time": "2023-03-15T16:39:57.915Z"
   },
   {
    "duration": 8,
    "start_time": "2023-03-15T16:39:57.920Z"
   },
   {
    "duration": 171,
    "start_time": "2023-03-15T16:39:57.930Z"
   },
   {
    "duration": 117,
    "start_time": "2023-03-15T16:39:58.102Z"
   },
   {
    "duration": 5,
    "start_time": "2023-03-15T16:39:58.221Z"
   },
   {
    "duration": 16,
    "start_time": "2023-03-15T16:39:58.227Z"
   },
   {
    "duration": 248,
    "start_time": "2023-03-15T16:39:58.245Z"
   },
   {
    "duration": 171,
    "start_time": "2023-03-15T16:39:58.495Z"
   },
   {
    "duration": 289,
    "start_time": "2023-03-15T16:39:58.668Z"
   },
   {
    "duration": 199,
    "start_time": "2023-03-15T16:39:58.959Z"
   },
   {
    "duration": 304,
    "start_time": "2023-03-15T16:39:59.159Z"
   },
   {
    "duration": 5,
    "start_time": "2023-03-15T16:39:59.465Z"
   },
   {
    "duration": 8,
    "start_time": "2023-03-15T16:39:59.479Z"
   },
   {
    "duration": 114,
    "start_time": "2023-03-15T16:39:59.488Z"
   },
   {
    "duration": 107,
    "start_time": "2023-03-15T16:39:59.604Z"
   },
   {
    "duration": 4,
    "start_time": "2023-03-15T16:39:59.713Z"
   },
   {
    "duration": 140,
    "start_time": "2023-03-15T16:39:59.719Z"
   },
   {
    "duration": 4,
    "start_time": "2023-03-15T16:39:59.861Z"
   },
   {
    "duration": 238,
    "start_time": "2023-03-15T16:39:59.879Z"
   },
   {
    "duration": 227,
    "start_time": "2023-03-15T16:40:00.119Z"
   },
   {
    "duration": 8,
    "start_time": "2023-03-15T16:40:00.348Z"
   },
   {
    "duration": 54,
    "start_time": "2023-03-15T16:40:00.357Z"
   },
   {
    "duration": 13,
    "start_time": "2023-03-15T16:40:00.412Z"
   },
   {
    "duration": 43,
    "start_time": "2023-03-15T16:40:00.427Z"
   },
   {
    "duration": 12,
    "start_time": "2023-03-15T16:40:00.472Z"
   },
   {
    "duration": 1143,
    "start_time": "2023-03-15T17:20:32.982Z"
   },
   {
    "duration": 137,
    "start_time": "2023-03-15T17:20:34.127Z"
   },
   {
    "duration": 21,
    "start_time": "2023-03-15T17:20:34.265Z"
   },
   {
    "duration": 20,
    "start_time": "2023-03-15T17:20:34.288Z"
   },
   {
    "duration": 17,
    "start_time": "2023-03-15T17:20:34.311Z"
   },
   {
    "duration": 4,
    "start_time": "2023-03-15T17:20:34.341Z"
   },
   {
    "duration": 53,
    "start_time": "2023-03-15T17:20:34.347Z"
   },
   {
    "duration": 12,
    "start_time": "2023-03-15T17:20:34.402Z"
   },
   {
    "duration": 36,
    "start_time": "2023-03-15T17:20:34.415Z"
   },
   {
    "duration": 6,
    "start_time": "2023-03-15T17:20:34.453Z"
   },
   {
    "duration": 5,
    "start_time": "2023-03-15T17:20:34.461Z"
   },
   {
    "duration": 5,
    "start_time": "2023-03-15T17:20:34.468Z"
   },
   {
    "duration": 13,
    "start_time": "2023-03-15T17:20:34.475Z"
   },
   {
    "duration": 7,
    "start_time": "2023-03-15T17:20:34.489Z"
   },
   {
    "duration": 45,
    "start_time": "2023-03-15T17:20:34.497Z"
   },
   {
    "duration": 12,
    "start_time": "2023-03-15T17:20:34.544Z"
   },
   {
    "duration": 17,
    "start_time": "2023-03-15T17:20:34.558Z"
   },
   {
    "duration": 13,
    "start_time": "2023-03-15T17:20:34.577Z"
   },
   {
    "duration": 17,
    "start_time": "2023-03-15T17:20:34.592Z"
   },
   {
    "duration": 5,
    "start_time": "2023-03-15T17:20:34.611Z"
   },
   {
    "duration": 23,
    "start_time": "2023-03-15T17:20:34.618Z"
   },
   {
    "duration": 19,
    "start_time": "2023-03-15T17:20:34.643Z"
   },
   {
    "duration": 11,
    "start_time": "2023-03-15T17:20:34.664Z"
   },
   {
    "duration": 10,
    "start_time": "2023-03-15T17:20:34.677Z"
   },
   {
    "duration": 6,
    "start_time": "2023-03-15T17:20:34.689Z"
   },
   {
    "duration": 48,
    "start_time": "2023-03-15T17:20:34.697Z"
   },
   {
    "duration": 194,
    "start_time": "2023-03-15T17:20:34.747Z"
   },
   {
    "duration": 137,
    "start_time": "2023-03-15T17:20:34.945Z"
   },
   {
    "duration": 6,
    "start_time": "2023-03-15T17:20:35.084Z"
   },
   {
    "duration": 16,
    "start_time": "2023-03-15T17:20:35.092Z"
   },
   {
    "duration": 303,
    "start_time": "2023-03-15T17:20:35.110Z"
   },
   {
    "duration": 210,
    "start_time": "2023-03-15T17:20:35.415Z"
   },
   {
    "duration": 315,
    "start_time": "2023-03-15T17:20:35.626Z"
   },
   {
    "duration": 222,
    "start_time": "2023-03-15T17:20:35.943Z"
   },
   {
    "duration": 309,
    "start_time": "2023-03-15T17:20:36.167Z"
   },
   {
    "duration": 6,
    "start_time": "2023-03-15T17:20:36.478Z"
   },
   {
    "duration": 32,
    "start_time": "2023-03-15T17:20:36.486Z"
   },
   {
    "duration": 144,
    "start_time": "2023-03-15T17:20:36.520Z"
   },
   {
    "duration": 151,
    "start_time": "2023-03-15T17:20:36.666Z"
   },
   {
    "duration": 6,
    "start_time": "2023-03-15T17:20:36.818Z"
   },
   {
    "duration": 146,
    "start_time": "2023-03-15T17:20:36.825Z"
   },
   {
    "duration": 6,
    "start_time": "2023-03-15T17:20:36.972Z"
   },
   {
    "duration": 339,
    "start_time": "2023-03-15T17:20:36.980Z"
   },
   {
    "duration": 320,
    "start_time": "2023-03-15T17:20:37.321Z"
   },
   {
    "duration": 14,
    "start_time": "2023-03-15T17:20:37.643Z"
   },
   {
    "duration": 14,
    "start_time": "2023-03-15T17:20:37.659Z"
   },
   {
    "duration": 7,
    "start_time": "2023-03-15T17:20:37.675Z"
   },
   {
    "duration": 75,
    "start_time": "2023-03-15T17:20:37.685Z"
   },
   {
    "duration": 22,
    "start_time": "2023-03-15T17:20:37.763Z"
   },
   {
    "duration": 271,
    "start_time": "2023-03-15T17:53:23.034Z"
   },
   {
    "duration": 117,
    "start_time": "2023-03-15T17:56:16.556Z"
   },
   {
    "duration": 131,
    "start_time": "2023-03-15T18:02:20.666Z"
   },
   {
    "duration": 126,
    "start_time": "2023-03-15T18:03:37.721Z"
   },
   {
    "duration": 86,
    "start_time": "2023-03-15T18:07:38.112Z"
   },
   {
    "duration": 68,
    "start_time": "2023-03-15T18:08:10.101Z"
   },
   {
    "duration": 93,
    "start_time": "2023-03-15T18:08:28.808Z"
   },
   {
    "duration": 1000,
    "start_time": "2023-03-15T18:08:35.759Z"
   },
   {
    "duration": 120,
    "start_time": "2023-03-15T18:08:36.761Z"
   },
   {
    "duration": 20,
    "start_time": "2023-03-15T18:08:36.897Z"
   },
   {
    "duration": 18,
    "start_time": "2023-03-15T18:08:36.919Z"
   },
   {
    "duration": 13,
    "start_time": "2023-03-15T18:08:36.938Z"
   },
   {
    "duration": 3,
    "start_time": "2023-03-15T18:08:36.953Z"
   },
   {
    "duration": 62,
    "start_time": "2023-03-15T18:08:36.957Z"
   },
   {
    "duration": 11,
    "start_time": "2023-03-15T18:08:37.020Z"
   },
   {
    "duration": 13,
    "start_time": "2023-03-15T18:08:37.032Z"
   },
   {
    "duration": 5,
    "start_time": "2023-03-15T18:08:37.047Z"
   },
   {
    "duration": 41,
    "start_time": "2023-03-15T18:08:37.053Z"
   },
   {
    "duration": 9,
    "start_time": "2023-03-15T18:08:37.098Z"
   },
   {
    "duration": 18,
    "start_time": "2023-03-15T18:08:37.108Z"
   },
   {
    "duration": 5,
    "start_time": "2023-03-15T18:08:37.128Z"
   },
   {
    "duration": 12,
    "start_time": "2023-03-15T18:08:37.134Z"
   },
   {
    "duration": 11,
    "start_time": "2023-03-15T18:08:37.148Z"
   },
   {
    "duration": 15,
    "start_time": "2023-03-15T18:08:37.160Z"
   },
   {
    "duration": 32,
    "start_time": "2023-03-15T18:08:37.176Z"
   },
   {
    "duration": 12,
    "start_time": "2023-03-15T18:08:37.210Z"
   },
   {
    "duration": 12,
    "start_time": "2023-03-15T18:08:37.223Z"
   },
   {
    "duration": 11,
    "start_time": "2023-03-15T18:08:37.236Z"
   },
   {
    "duration": 44,
    "start_time": "2023-03-15T18:08:37.249Z"
   },
   {
    "duration": 19,
    "start_time": "2023-03-15T18:08:37.298Z"
   },
   {
    "duration": 7,
    "start_time": "2023-03-15T18:08:37.318Z"
   },
   {
    "duration": 11,
    "start_time": "2023-03-15T18:08:37.327Z"
   },
   {
    "duration": 9,
    "start_time": "2023-03-15T18:08:37.340Z"
   },
   {
    "duration": 180,
    "start_time": "2023-03-15T18:08:37.350Z"
   },
   {
    "duration": 113,
    "start_time": "2023-03-15T18:08:37.533Z"
   },
   {
    "duration": 9,
    "start_time": "2023-03-15T18:08:37.648Z"
   },
   {
    "duration": 12,
    "start_time": "2023-03-15T18:08:37.658Z"
   },
   {
    "duration": 252,
    "start_time": "2023-03-15T18:08:37.671Z"
   },
   {
    "duration": 186,
    "start_time": "2023-03-15T18:08:37.925Z"
   },
   {
    "duration": 252,
    "start_time": "2023-03-15T18:08:38.113Z"
   },
   {
    "duration": 194,
    "start_time": "2023-03-15T18:08:38.367Z"
   },
   {
    "duration": 323,
    "start_time": "2023-03-15T18:08:38.562Z"
   },
   {
    "duration": 7,
    "start_time": "2023-03-15T18:08:38.894Z"
   },
   {
    "duration": 11,
    "start_time": "2023-03-15T18:08:38.902Z"
   },
   {
    "duration": 137,
    "start_time": "2023-03-15T18:08:38.914Z"
   },
   {
    "duration": 145,
    "start_time": "2023-03-15T18:08:39.052Z"
   },
   {
    "duration": 5,
    "start_time": "2023-03-15T18:08:39.199Z"
   },
   {
    "duration": 118,
    "start_time": "2023-03-15T18:08:39.205Z"
   },
   {
    "duration": 5,
    "start_time": "2023-03-15T18:08:39.324Z"
   },
   {
    "duration": 263,
    "start_time": "2023-03-15T18:08:39.330Z"
   },
   {
    "duration": 101,
    "start_time": "2023-03-15T18:08:39.598Z"
   },
   {
    "duration": 0,
    "start_time": "2023-03-15T18:08:39.701Z"
   },
   {
    "duration": 0,
    "start_time": "2023-03-15T18:08:39.702Z"
   },
   {
    "duration": 0,
    "start_time": "2023-03-15T18:08:39.704Z"
   },
   {
    "duration": 0,
    "start_time": "2023-03-15T18:08:39.705Z"
   },
   {
    "duration": 0,
    "start_time": "2023-03-15T18:08:39.706Z"
   },
   {
    "duration": 3,
    "start_time": "2023-03-15T18:08:52.102Z"
   },
   {
    "duration": 78,
    "start_time": "2023-03-15T18:08:52.819Z"
   },
   {
    "duration": 13,
    "start_time": "2023-03-15T18:08:53.414Z"
   },
   {
    "duration": 23,
    "start_time": "2023-03-15T18:08:54.015Z"
   },
   {
    "duration": 16,
    "start_time": "2023-03-15T18:08:54.159Z"
   },
   {
    "duration": 5,
    "start_time": "2023-03-15T18:08:54.990Z"
   },
   {
    "duration": 10,
    "start_time": "2023-03-15T18:08:55.531Z"
   },
   {
    "duration": 71,
    "start_time": "2023-03-15T18:08:55.570Z"
   },
   {
    "duration": 10,
    "start_time": "2023-03-15T18:08:55.643Z"
   },
   {
    "duration": 4,
    "start_time": "2023-03-15T18:08:55.660Z"
   },
   {
    "duration": 6,
    "start_time": "2023-03-15T18:08:55.699Z"
   },
   {
    "duration": 5,
    "start_time": "2023-03-15T18:08:55.736Z"
   },
   {
    "duration": 11,
    "start_time": "2023-03-15T18:08:55.892Z"
   },
   {
    "duration": 4,
    "start_time": "2023-03-15T18:08:55.929Z"
   },
   {
    "duration": 14,
    "start_time": "2023-03-15T18:08:56.098Z"
   },
   {
    "duration": 14,
    "start_time": "2023-03-15T18:08:56.301Z"
   },
   {
    "duration": 11,
    "start_time": "2023-03-15T18:08:56.495Z"
   },
   {
    "duration": 11,
    "start_time": "2023-03-15T18:08:56.536Z"
   },
   {
    "duration": 8,
    "start_time": "2023-03-15T18:08:56.642Z"
   },
   {
    "duration": 5,
    "start_time": "2023-03-15T18:08:56.692Z"
   },
   {
    "duration": 4,
    "start_time": "2023-03-15T18:08:56.726Z"
   },
   {
    "duration": 20,
    "start_time": "2023-03-15T18:08:56.765Z"
   },
   {
    "duration": 8,
    "start_time": "2023-03-15T18:08:56.942Z"
   },
   {
    "duration": 9,
    "start_time": "2023-03-15T18:08:56.991Z"
   },
   {
    "duration": 5,
    "start_time": "2023-03-15T18:08:57.025Z"
   },
   {
    "duration": 5,
    "start_time": "2023-03-15T18:08:57.115Z"
   },
   {
    "duration": 167,
    "start_time": "2023-03-15T18:08:57.159Z"
   },
   {
    "duration": 127,
    "start_time": "2023-03-15T18:08:57.327Z"
   },
   {
    "duration": 5,
    "start_time": "2023-03-15T18:08:57.455Z"
   },
   {
    "duration": 13,
    "start_time": "2023-03-15T18:08:57.462Z"
   },
   {
    "duration": 199,
    "start_time": "2023-03-15T18:08:57.477Z"
   },
   {
    "duration": 217,
    "start_time": "2023-03-15T18:08:57.678Z"
   },
   {
    "duration": 296,
    "start_time": "2023-03-15T18:08:57.897Z"
   },
   {
    "duration": 195,
    "start_time": "2023-03-15T18:08:58.195Z"
   },
   {
    "duration": 315,
    "start_time": "2023-03-15T18:08:58.393Z"
   },
   {
    "duration": 9,
    "start_time": "2023-03-15T18:08:58.710Z"
   },
   {
    "duration": 17,
    "start_time": "2023-03-15T18:08:58.720Z"
   },
   {
    "duration": 154,
    "start_time": "2023-03-15T18:08:58.738Z"
   },
   {
    "duration": 128,
    "start_time": "2023-03-15T18:08:58.893Z"
   },
   {
    "duration": 5,
    "start_time": "2023-03-15T18:08:59.024Z"
   },
   {
    "duration": 167,
    "start_time": "2023-03-15T18:08:59.030Z"
   },
   {
    "duration": 6,
    "start_time": "2023-03-15T18:08:59.200Z"
   },
   {
    "duration": 191,
    "start_time": "2023-03-15T18:08:59.207Z"
   },
   {
    "duration": 83,
    "start_time": "2023-03-15T18:08:59.399Z"
   },
   {
    "duration": 11,
    "start_time": "2023-03-15T18:09:00.524Z"
   },
   {
    "duration": 122,
    "start_time": "2023-03-15T18:09:01.275Z"
   },
   {
    "duration": 12,
    "start_time": "2023-03-15T18:09:01.497Z"
   },
   {
    "duration": 35,
    "start_time": "2023-03-15T18:09:01.574Z"
   },
   {
    "duration": 41,
    "start_time": "2023-03-15T18:09:01.711Z"
   },
   {
    "duration": 84,
    "start_time": "2023-03-15T18:10:14.005Z"
   },
   {
    "duration": 80,
    "start_time": "2023-03-15T18:15:36.159Z"
   },
   {
    "duration": 5,
    "start_time": "2023-03-15T18:17:37.244Z"
   },
   {
    "duration": 78,
    "start_time": "2023-03-15T18:17:44.372Z"
   },
   {
    "duration": 11,
    "start_time": "2023-03-15T18:18:02.790Z"
   },
   {
    "duration": 115,
    "start_time": "2023-03-15T18:18:13.242Z"
   },
   {
    "duration": 134,
    "start_time": "2023-03-15T18:18:28.395Z"
   },
   {
    "duration": 267,
    "start_time": "2023-03-15T18:19:13.736Z"
   },
   {
    "duration": 251,
    "start_time": "2023-03-15T18:20:11.777Z"
   },
   {
    "duration": 10,
    "start_time": "2023-03-15T18:21:28.125Z"
   },
   {
    "duration": 5,
    "start_time": "2023-03-15T18:21:30.021Z"
   },
   {
    "duration": 22,
    "start_time": "2023-03-15T18:21:30.342Z"
   },
   {
    "duration": 13,
    "start_time": "2023-03-15T18:21:31.000Z"
   },
   {
    "duration": 10,
    "start_time": "2023-03-15T18:22:08.378Z"
   },
   {
    "duration": 947,
    "start_time": "2023-03-15T18:24:57.620Z"
   },
   {
    "duration": 123,
    "start_time": "2023-03-15T18:24:58.570Z"
   },
   {
    "duration": 17,
    "start_time": "2023-03-15T18:24:58.695Z"
   },
   {
    "duration": 17,
    "start_time": "2023-03-15T18:24:58.714Z"
   },
   {
    "duration": 14,
    "start_time": "2023-03-15T18:24:58.732Z"
   },
   {
    "duration": 5,
    "start_time": "2023-03-15T18:24:58.748Z"
   },
   {
    "duration": 62,
    "start_time": "2023-03-15T18:24:58.754Z"
   },
   {
    "duration": 10,
    "start_time": "2023-03-15T18:24:58.818Z"
   },
   {
    "duration": 15,
    "start_time": "2023-03-15T18:24:58.829Z"
   },
   {
    "duration": 5,
    "start_time": "2023-03-15T18:24:58.846Z"
   },
   {
    "duration": 8,
    "start_time": "2023-03-15T18:24:58.852Z"
   },
   {
    "duration": 33,
    "start_time": "2023-03-15T18:24:58.861Z"
   },
   {
    "duration": 26,
    "start_time": "2023-03-15T18:24:58.896Z"
   },
   {
    "duration": 10,
    "start_time": "2023-03-15T18:24:58.923Z"
   },
   {
    "duration": 19,
    "start_time": "2023-03-15T18:24:58.935Z"
   },
   {
    "duration": 11,
    "start_time": "2023-03-15T18:24:58.955Z"
   },
   {
    "duration": 24,
    "start_time": "2023-03-15T18:24:58.967Z"
   },
   {
    "duration": 17,
    "start_time": "2023-03-15T18:24:58.993Z"
   },
   {
    "duration": 9,
    "start_time": "2023-03-15T18:24:59.011Z"
   },
   {
    "duration": 5,
    "start_time": "2023-03-15T18:24:59.022Z"
   },
   {
    "duration": 13,
    "start_time": "2023-03-15T18:24:59.028Z"
   },
   {
    "duration": 16,
    "start_time": "2023-03-15T18:24:59.042Z"
   },
   {
    "duration": 14,
    "start_time": "2023-03-15T18:24:59.059Z"
   },
   {
    "duration": 20,
    "start_time": "2023-03-15T18:24:59.075Z"
   },
   {
    "duration": 20,
    "start_time": "2023-03-15T18:24:59.097Z"
   },
   {
    "duration": 16,
    "start_time": "2023-03-15T18:24:59.118Z"
   },
   {
    "duration": 169,
    "start_time": "2023-03-15T18:24:59.135Z"
   },
   {
    "duration": 103,
    "start_time": "2023-03-15T18:24:59.306Z"
   },
   {
    "duration": 5,
    "start_time": "2023-03-15T18:24:59.411Z"
   },
   {
    "duration": 22,
    "start_time": "2023-03-15T18:24:59.417Z"
   },
   {
    "duration": 251,
    "start_time": "2023-03-15T18:24:59.440Z"
   },
   {
    "duration": 176,
    "start_time": "2023-03-15T18:24:59.693Z"
   },
   {
    "duration": 288,
    "start_time": "2023-03-15T18:24:59.870Z"
   },
   {
    "duration": 200,
    "start_time": "2023-03-15T18:25:00.159Z"
   },
   {
    "duration": 330,
    "start_time": "2023-03-15T18:25:00.361Z"
   },
   {
    "duration": 7,
    "start_time": "2023-03-15T18:25:00.693Z"
   },
   {
    "duration": 15,
    "start_time": "2023-03-15T18:25:00.701Z"
   },
   {
    "duration": 141,
    "start_time": "2023-03-15T18:25:00.718Z"
   },
   {
    "duration": 138,
    "start_time": "2023-03-15T18:25:00.860Z"
   },
   {
    "duration": 5,
    "start_time": "2023-03-15T18:25:01.000Z"
   },
   {
    "duration": 166,
    "start_time": "2023-03-15T18:25:01.006Z"
   },
   {
    "duration": 7,
    "start_time": "2023-03-15T18:25:01.173Z"
   },
   {
    "duration": 257,
    "start_time": "2023-03-15T18:25:01.190Z"
   },
   {
    "duration": 248,
    "start_time": "2023-03-15T18:25:01.449Z"
   },
   {
    "duration": 8,
    "start_time": "2023-03-15T18:25:01.699Z"
   },
   {
    "duration": 50,
    "start_time": "2023-03-15T18:25:01.708Z"
   },
   {
    "duration": 20,
    "start_time": "2023-03-15T18:25:01.759Z"
   },
   {
    "duration": 135,
    "start_time": "2023-03-15T18:25:01.791Z"
   },
   {
    "duration": 58,
    "start_time": "2023-03-15T18:25:01.927Z"
   },
   {
    "duration": 5,
    "start_time": "2023-03-15T18:26:16.426Z"
   },
   {
    "duration": 99,
    "start_time": "2023-03-15T18:26:16.756Z"
   },
   {
    "duration": 16,
    "start_time": "2023-03-15T18:26:25.953Z"
   },
   {
    "duration": 16,
    "start_time": "2023-03-15T18:26:33.300Z"
   },
   {
    "duration": 4,
    "start_time": "2023-03-15T18:26:38.921Z"
   },
   {
    "duration": 10,
    "start_time": "2023-03-15T18:26:53.011Z"
   },
   {
    "duration": 11,
    "start_time": "2023-03-15T18:26:58.831Z"
   },
   {
    "duration": 14,
    "start_time": "2023-03-15T18:27:09.604Z"
   },
   {
    "duration": 4,
    "start_time": "2023-03-15T18:27:28.917Z"
   },
   {
    "duration": 13,
    "start_time": "2023-03-15T18:27:29.624Z"
   },
   {
    "duration": 14,
    "start_time": "2023-03-15T18:27:54.014Z"
   },
   {
    "duration": 1071,
    "start_time": "2023-03-16T11:20:11.106Z"
   },
   {
    "duration": 112,
    "start_time": "2023-03-16T11:20:12.179Z"
   },
   {
    "duration": 20,
    "start_time": "2023-03-16T11:20:12.293Z"
   },
   {
    "duration": 17,
    "start_time": "2023-03-16T11:20:12.315Z"
   },
   {
    "duration": 18,
    "start_time": "2023-03-16T11:20:12.335Z"
   },
   {
    "duration": 4,
    "start_time": "2023-03-16T11:20:12.355Z"
   },
   {
    "duration": 50,
    "start_time": "2023-03-16T11:20:12.361Z"
   },
   {
    "duration": 11,
    "start_time": "2023-03-16T11:20:12.413Z"
   },
   {
    "duration": 35,
    "start_time": "2023-03-16T11:20:12.425Z"
   },
   {
    "duration": 10,
    "start_time": "2023-03-16T11:20:12.461Z"
   },
   {
    "duration": 8,
    "start_time": "2023-03-16T11:20:12.472Z"
   },
   {
    "duration": 5,
    "start_time": "2023-03-16T11:20:12.481Z"
   },
   {
    "duration": 12,
    "start_time": "2023-03-16T11:20:12.487Z"
   },
   {
    "duration": 5,
    "start_time": "2023-03-16T11:20:12.501Z"
   },
   {
    "duration": 11,
    "start_time": "2023-03-16T11:20:12.507Z"
   },
   {
    "duration": 34,
    "start_time": "2023-03-16T11:20:12.520Z"
   },
   {
    "duration": 11,
    "start_time": "2023-03-16T11:20:12.556Z"
   },
   {
    "duration": 13,
    "start_time": "2023-03-16T11:20:12.568Z"
   },
   {
    "duration": 10,
    "start_time": "2023-03-16T11:20:12.583Z"
   },
   {
    "duration": 4,
    "start_time": "2023-03-16T11:20:12.595Z"
   },
   {
    "duration": 6,
    "start_time": "2023-03-16T11:20:12.600Z"
   },
   {
    "duration": 52,
    "start_time": "2023-03-16T11:20:12.608Z"
   },
   {
    "duration": 10,
    "start_time": "2023-03-16T11:20:12.662Z"
   },
   {
    "duration": 8,
    "start_time": "2023-03-16T11:20:12.674Z"
   },
   {
    "duration": 5,
    "start_time": "2023-03-16T11:20:12.684Z"
   },
   {
    "duration": 18,
    "start_time": "2023-03-16T11:20:12.690Z"
   },
   {
    "duration": 183,
    "start_time": "2023-03-16T11:20:12.710Z"
   },
   {
    "duration": 124,
    "start_time": "2023-03-16T11:20:12.895Z"
   },
   {
    "duration": 6,
    "start_time": "2023-03-16T11:20:13.021Z"
   },
   {
    "duration": 13,
    "start_time": "2023-03-16T11:20:13.028Z"
   },
   {
    "duration": 272,
    "start_time": "2023-03-16T11:20:13.042Z"
   },
   {
    "duration": 187,
    "start_time": "2023-03-16T11:20:13.316Z"
   },
   {
    "duration": 274,
    "start_time": "2023-03-16T11:20:13.505Z"
   },
   {
    "duration": 205,
    "start_time": "2023-03-16T11:20:13.781Z"
   },
   {
    "duration": 296,
    "start_time": "2023-03-16T11:20:13.987Z"
   },
   {
    "duration": 5,
    "start_time": "2023-03-16T11:20:14.284Z"
   },
   {
    "duration": 18,
    "start_time": "2023-03-16T11:20:14.291Z"
   },
   {
    "duration": 132,
    "start_time": "2023-03-16T11:20:14.310Z"
   },
   {
    "duration": 137,
    "start_time": "2023-03-16T11:20:14.444Z"
   },
   {
    "duration": 5,
    "start_time": "2023-03-16T11:20:14.583Z"
   },
   {
    "duration": 140,
    "start_time": "2023-03-16T11:20:14.592Z"
   },
   {
    "duration": 4,
    "start_time": "2023-03-16T11:20:14.734Z"
   },
   {
    "duration": 271,
    "start_time": "2023-03-16T11:20:14.739Z"
   },
   {
    "duration": 264,
    "start_time": "2023-03-16T11:20:15.012Z"
   },
   {
    "duration": 8,
    "start_time": "2023-03-16T11:20:15.278Z"
   },
   {
    "duration": 22,
    "start_time": "2023-03-16T11:20:15.287Z"
   },
   {
    "duration": 5,
    "start_time": "2023-03-16T11:20:15.310Z"
   },
   {
    "duration": 25,
    "start_time": "2023-03-16T11:20:15.316Z"
   },
   {
    "duration": 17,
    "start_time": "2023-03-16T11:20:15.355Z"
   },
   {
    "duration": 46,
    "start_time": "2023-03-20T12:13:01.956Z"
   },
   {
    "duration": 988,
    "start_time": "2023-03-20T12:13:07.607Z"
   },
   {
    "duration": 269,
    "start_time": "2023-03-20T12:13:08.597Z"
   },
   {
    "duration": 18,
    "start_time": "2023-03-20T12:13:08.868Z"
   },
   {
    "duration": 18,
    "start_time": "2023-03-20T12:13:08.887Z"
   },
   {
    "duration": 14,
    "start_time": "2023-03-20T12:13:08.906Z"
   },
   {
    "duration": 10,
    "start_time": "2023-03-20T12:13:08.921Z"
   },
   {
    "duration": 67,
    "start_time": "2023-03-20T12:13:08.933Z"
   },
   {
    "duration": 10,
    "start_time": "2023-03-20T12:13:09.002Z"
   },
   {
    "duration": 13,
    "start_time": "2023-03-20T12:13:09.013Z"
   },
   {
    "duration": 11,
    "start_time": "2023-03-20T12:13:09.028Z"
   },
   {
    "duration": 7,
    "start_time": "2023-03-20T12:13:09.041Z"
   },
   {
    "duration": 5,
    "start_time": "2023-03-20T12:13:09.049Z"
   },
   {
    "duration": 13,
    "start_time": "2023-03-20T12:13:09.056Z"
   },
   {
    "duration": 11,
    "start_time": "2023-03-20T12:13:09.071Z"
   },
   {
    "duration": 16,
    "start_time": "2023-03-20T12:13:09.084Z"
   },
   {
    "duration": 12,
    "start_time": "2023-03-20T12:13:09.102Z"
   },
   {
    "duration": 14,
    "start_time": "2023-03-20T12:13:09.116Z"
   },
   {
    "duration": 18,
    "start_time": "2023-03-20T12:13:09.131Z"
   },
   {
    "duration": 9,
    "start_time": "2023-03-20T12:13:09.150Z"
   },
   {
    "duration": 5,
    "start_time": "2023-03-20T12:13:09.160Z"
   },
   {
    "duration": 7,
    "start_time": "2023-03-20T12:13:09.166Z"
   },
   {
    "duration": 19,
    "start_time": "2023-03-20T12:13:09.174Z"
   },
   {
    "duration": 10,
    "start_time": "2023-03-20T12:13:09.194Z"
   },
   {
    "duration": 26,
    "start_time": "2023-03-20T12:13:09.205Z"
   },
   {
    "duration": 6,
    "start_time": "2023-03-20T12:13:09.232Z"
   },
   {
    "duration": 11,
    "start_time": "2023-03-20T12:13:09.240Z"
   },
   {
    "duration": 10,
    "start_time": "2023-03-20T12:13:09.252Z"
   },
   {
    "duration": 174,
    "start_time": "2023-03-20T12:13:09.265Z"
   },
   {
    "duration": 114,
    "start_time": "2023-03-20T12:13:09.441Z"
   },
   {
    "duration": 14,
    "start_time": "2023-03-20T12:13:09.556Z"
   },
   {
    "duration": 14,
    "start_time": "2023-03-20T12:13:09.572Z"
   },
   {
    "duration": 242,
    "start_time": "2023-03-20T12:13:09.587Z"
   },
   {
    "duration": 180,
    "start_time": "2023-03-20T12:13:09.830Z"
   },
   {
    "duration": 319,
    "start_time": "2023-03-20T12:13:10.011Z"
   },
   {
    "duration": 186,
    "start_time": "2023-03-20T12:13:10.331Z"
   },
   {
    "duration": 299,
    "start_time": "2023-03-20T12:13:10.519Z"
   },
   {
    "duration": 8,
    "start_time": "2023-03-20T12:13:10.820Z"
   },
   {
    "duration": 9,
    "start_time": "2023-03-20T12:13:10.829Z"
   },
   {
    "duration": 133,
    "start_time": "2023-03-20T12:13:10.840Z"
   },
   {
    "duration": 135,
    "start_time": "2023-03-20T12:13:10.974Z"
   },
   {
    "duration": 15,
    "start_time": "2023-03-20T12:13:11.110Z"
   },
   {
    "duration": 128,
    "start_time": "2023-03-20T12:13:11.126Z"
   },
   {
    "duration": 5,
    "start_time": "2023-03-20T12:13:11.255Z"
   },
   {
    "duration": 277,
    "start_time": "2023-03-20T12:13:11.261Z"
   },
   {
    "duration": 230,
    "start_time": "2023-03-20T12:13:11.540Z"
   },
   {
    "duration": 8,
    "start_time": "2023-03-20T12:13:11.772Z"
   },
   {
    "duration": 9,
    "start_time": "2023-03-20T12:13:11.781Z"
   },
   {
    "duration": 7,
    "start_time": "2023-03-20T12:13:11.792Z"
   },
   {
    "duration": 40,
    "start_time": "2023-03-20T12:13:11.800Z"
   },
   {
    "duration": 11,
    "start_time": "2023-03-20T12:13:11.841Z"
   },
   {
    "duration": 9,
    "start_time": "2023-03-20T12:13:46.650Z"
   },
   {
    "duration": 949,
    "start_time": "2023-03-20T12:21:57.642Z"
   },
   {
    "duration": 124,
    "start_time": "2023-03-20T12:21:58.593Z"
   },
   {
    "duration": 18,
    "start_time": "2023-03-20T12:21:58.718Z"
   },
   {
    "duration": 16,
    "start_time": "2023-03-20T12:21:58.737Z"
   },
   {
    "duration": 14,
    "start_time": "2023-03-20T12:21:58.754Z"
   },
   {
    "duration": 5,
    "start_time": "2023-03-20T12:21:58.770Z"
   },
   {
    "duration": 72,
    "start_time": "2023-03-20T12:21:58.776Z"
   },
   {
    "duration": 11,
    "start_time": "2023-03-20T12:21:58.849Z"
   },
   {
    "duration": 11,
    "start_time": "2023-03-20T12:21:58.862Z"
   },
   {
    "duration": 6,
    "start_time": "2023-03-20T12:21:58.875Z"
   },
   {
    "duration": 7,
    "start_time": "2023-03-20T12:21:58.882Z"
   },
   {
    "duration": 4,
    "start_time": "2023-03-20T12:21:58.891Z"
   },
   {
    "duration": 35,
    "start_time": "2023-03-20T12:21:58.896Z"
   },
   {
    "duration": 7,
    "start_time": "2023-03-20T12:21:58.932Z"
   },
   {
    "duration": 13,
    "start_time": "2023-03-20T12:21:58.940Z"
   },
   {
    "duration": 10,
    "start_time": "2023-03-20T12:21:58.954Z"
   },
   {
    "duration": 11,
    "start_time": "2023-03-20T12:21:58.966Z"
   },
   {
    "duration": 12,
    "start_time": "2023-03-20T12:21:58.978Z"
   },
   {
    "duration": 43,
    "start_time": "2023-03-20T12:21:58.991Z"
   },
   {
    "duration": 6,
    "start_time": "2023-03-20T12:21:59.035Z"
   },
   {
    "duration": 10,
    "start_time": "2023-03-20T12:21:59.042Z"
   },
   {
    "duration": 19,
    "start_time": "2023-03-20T12:21:59.053Z"
   },
   {
    "duration": 10,
    "start_time": "2023-03-20T12:21:59.073Z"
   },
   {
    "duration": 7,
    "start_time": "2023-03-20T12:21:59.085Z"
   },
   {
    "duration": 8,
    "start_time": "2023-03-20T12:21:59.093Z"
   },
   {
    "duration": 25,
    "start_time": "2023-03-20T12:21:59.103Z"
   },
   {
    "duration": 166,
    "start_time": "2023-03-20T12:21:59.130Z"
   },
   {
    "duration": 109,
    "start_time": "2023-03-20T12:21:59.299Z"
   },
   {
    "duration": 6,
    "start_time": "2023-03-20T12:21:59.409Z"
   },
   {
    "duration": 18,
    "start_time": "2023-03-20T12:21:59.416Z"
   },
   {
    "duration": 249,
    "start_time": "2023-03-20T12:21:59.435Z"
   },
   {
    "duration": 179,
    "start_time": "2023-03-20T12:21:59.686Z"
   },
   {
    "duration": 260,
    "start_time": "2023-03-20T12:21:59.866Z"
   },
   {
    "duration": 253,
    "start_time": "2023-03-20T12:22:00.128Z"
   },
   {
    "duration": 289,
    "start_time": "2023-03-20T12:22:00.382Z"
   },
   {
    "duration": 7,
    "start_time": "2023-03-20T12:22:00.673Z"
   },
   {
    "duration": 41,
    "start_time": "2023-03-20T12:22:00.681Z"
   },
   {
    "duration": 145,
    "start_time": "2023-03-20T12:22:00.723Z"
   },
   {
    "duration": 129,
    "start_time": "2023-03-20T12:22:00.870Z"
   },
   {
    "duration": 5,
    "start_time": "2023-03-20T12:22:01.001Z"
   },
   {
    "duration": 160,
    "start_time": "2023-03-20T12:22:01.007Z"
   },
   {
    "duration": 4,
    "start_time": "2023-03-20T12:22:01.169Z"
   },
   {
    "duration": 275,
    "start_time": "2023-03-20T12:22:01.174Z"
   },
   {
    "duration": 237,
    "start_time": "2023-03-20T12:22:01.451Z"
   },
   {
    "duration": 9,
    "start_time": "2023-03-20T12:22:01.689Z"
   },
   {
    "duration": 38,
    "start_time": "2023-03-20T12:22:01.699Z"
   },
   {
    "duration": 13,
    "start_time": "2023-03-20T12:22:01.738Z"
   },
   {
    "duration": 37,
    "start_time": "2023-03-20T12:22:01.752Z"
   },
   {
    "duration": 11,
    "start_time": "2023-03-20T12:22:01.790Z"
   }
  ],
  "kernelspec": {
   "display_name": "Python 3 (ipykernel)",
   "language": "python",
   "name": "python3"
  },
  "language_info": {
   "codemirror_mode": {
    "name": "ipython",
    "version": 3
   },
   "file_extension": ".py",
   "mimetype": "text/x-python",
   "name": "python",
   "nbconvert_exporter": "python",
   "pygments_lexer": "ipython3",
   "version": "3.9.13"
  },
  "toc": {
   "base_numbering": 1,
   "nav_menu": {},
   "number_sections": true,
   "sideBar": true,
   "skip_h1_title": true,
   "title_cell": "Содержание",
   "title_sidebar": "Contents",
   "toc_cell": true,
   "toc_position": {
    "height": "calc(100% - 180px)",
    "left": "10px",
    "top": "150px",
    "width": "358px"
   },
   "toc_section_display": true,
   "toc_window_display": true
  }
 },
 "nbformat": 4,
 "nbformat_minor": 2
}
